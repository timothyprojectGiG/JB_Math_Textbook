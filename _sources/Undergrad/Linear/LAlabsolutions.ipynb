{
 "cells": [
  {
   "cell_type": "code",
   "execution_count": 35,
   "id": "0af58256-75fc-40e3-a4a0-1db43ca462dd",
   "metadata": {},
   "outputs": [],
   "source": [
    "import matplotlib.pyplot as plt\n",
    "import numpy as np"
   ]
  },
  {
   "cell_type": "markdown",
   "id": "ad1b8c48-1c79-4578-b05b-45e9ac26e840",
   "metadata": {},
   "source": [
    "# Linear Algebra Lab Solutions"
   ]
  },
  {
   "cell_type": "markdown",
   "id": "329e4478-45bc-4769-a1fd-8dd745ad8054",
   "metadata": {},
   "source": [
    "1. Put $A$ into RREF.\n",
    "\n",
    "$$\n",
    "A = \n",
    "\\begin{bmatrix}\n",
    "1 & 1 & 1 & 2\\\\\n",
    "2 & 3 & 1 & 3\\\\\n",
    "1 & -1 & -2 & -11\\\\\n",
    "\\end{bmatrix}\n",
    "$$\n",
    "\n",
    "**Solution:**"
   ]
  },
  {
   "cell_type": "code",
   "execution_count": 73,
   "id": "bd9ecc72-7df6-42a2-b37c-5911adbf3d1d",
   "metadata": {},
   "outputs": [],
   "source": [
    "# Let's set up the matrix and row operation functions\n",
    "A = np.array([[1,1,1,2],[2,3,1,3],[1,-1,-2,-11]])\n",
    "\n",
    "# Swap two rows\n",
    "def swap(matrix, row1, row2):\n",
    "    copy_matrix=np.copy(matrix).astype('float64') \n",
    "    copy_matrix[row1,:] = matrix[row2,:]\n",
    "    copy_matrix[row2,:] = matrix[row1,:]\n",
    "    return copy_matrix\n",
    "\n",
    "# Multiple all entries in a row by a nonzero number\n",
    "def scale(matrix, row, scalar):\n",
    "    copy_matrix=np.copy(matrix).astype('float64') \n",
    "    copy_matrix[row,:] = scalar*matrix[row,:]  \n",
    "    return copy_matrix\n",
    "\n",
    "# Replacing a row by the sum of itself and a multiple of another \n",
    "def replace(matrix, row1, row2, scalar):\n",
    "    copy_matrix=np.copy(matrix).astype('float64')\n",
    "    copy_matrix[row1] = matrix[row1]+ scalar * matrix[row2] \n",
    "    return copy_matrix"
   ]
  },
  {
   "cell_type": "code",
   "execution_count": 74,
   "id": "e9ff9ded-3ae7-4bf5-9b3f-2e5355705ed3",
   "metadata": {},
   "outputs": [
    {
     "data": {
      "text/plain": [
       "array([[ 1.,  0.,  0., -3.],\n",
       "       [ 0.,  1.,  0.,  2.],\n",
       "       [-0., -0.,  1.,  3.]])"
      ]
     },
     "execution_count": 74,
     "metadata": {},
     "output_type": "execute_result"
    }
   ],
   "source": [
    "A1 = replace(A, 1, 0, -2)\n",
    "A2 = replace(A1, 2, 0, -1)\n",
    "A3 = replace(A2, 2, 1, 2)\n",
    "A4 = scale(A3, 2, -1/5)\n",
    "A5 = replace(A4, 1, 2, 1)\n",
    "A6 = replace(A5, 0, 1, -1)\n",
    "A7 = replace(A6, 0, 2, -1)\n",
    "A7"
   ]
  },
  {
   "cell_type": "markdown",
   "id": "59f95dd2-9c15-4118-af0d-93dc61149dc9",
   "metadata": {},
   "source": [
    "A7 is in RREF."
   ]
  },
  {
   "cell_type": "markdown",
   "id": "606e8281-26c1-4927-9556-ca73e4d92ce6",
   "metadata": {},
   "source": [
    "2. Find the solution set of the following system of equations\n",
    "\n",
    "$$\n",
    "x - y + 3z = 0\n",
    "$$\n",
    "\n",
    "$$\n",
    "6x - y + 4z = 1\n",
    "$$\n",
    "\n",
    "$$\n",
    "3x + 2y - 4z = 2\n",
    "$$\n",
    "\n",
    "**Solution:**\n",
    "\n",
    "We can change the system of equations into augmented matrix $B$, and put it into RREF to solve. "
   ]
  },
  {
   "cell_type": "code",
   "execution_count": 92,
   "id": "ca557019-ef60-4b43-871b-64e683604851",
   "metadata": {},
   "outputs": [
    {
     "data": {
      "text/plain": [
       "array([[ 1.,  0.,  0.,  0.],\n",
       "       [ 0.,  1.,  0.,  3.],\n",
       "       [-0., -0.,  1.,  1.]])"
      ]
     },
     "execution_count": 92,
     "metadata": {},
     "output_type": "execute_result"
    }
   ],
   "source": [
    "B = np.array([[1,-1,3,0],[6,-1,4,1],[3,2,-4,2]])\n",
    "B1 = replace(B, 1, 2, -2)\n",
    "B2 = replace(B1, 2, 0, -3)\n",
    "B3 = swap(B2, 1, 2)\n",
    "B4 = replace(B3, 2, 1, 1)\n",
    "B5 = replace(B4, 1, 2, 1)\n",
    "B6 = scale(B5, 2, -1)\n",
    "B7 = replace(B6, 1, 2, 14)\n",
    "B8 = scale(B7, 1, 1/5)\n",
    "B9 = replace(B8, 0, 1, 1)\n",
    "B10 = replace(B9, 0, 2, -3)\n",
    "B10"
   ]
  },
  {
   "cell_type": "markdown",
   "id": "b9be285c-da2c-4a06-9836-430c704c4e51",
   "metadata": {},
   "source": [
    "B10 is in reduced echelon form, and gives us the solutions $x = 0$, $y = 3$ and $z = 1$."
   ]
  },
  {
   "cell_type": "markdown",
   "id": "097202c4-a8d8-4023-8002-32bf01dc8175",
   "metadata": {},
   "source": [
    "3. Determine if the following vectors form a linearly independent or a linearly dependent set:\n",
    "\n",
    "    a.\n",
    "\n",
    "$$\n",
    "\\vec{v_1} = \n",
    "\\begin{bmatrix} \n",
    "1\\\\2\\\\0\\\\\n",
    "\\end{bmatrix} + \\begin{bmatrix} \n",
    "3\\\\1\\\\5\\\\\n",
    "\\end{bmatrix} + \\begin{bmatrix} \n",
    "4\\\\2\\\\3\\\\\n",
    "\\end{bmatrix}\n",
    "$$\n",
    "\n",
    "    b.\n",
    "\n",
    "$$\n",
    "\\vec{v_2} = \n",
    "\\begin{bmatrix} \n",
    "1\\\\-4\\\\-2\\\\0\\\\\n",
    "\\end{bmatrix} + \\begin{bmatrix} \n",
    "-3\\\\12\\\\-6\\\\0\\\\\n",
    "\\end{bmatrix}\n",
    "$$\n",
    "\n",
    "**Solution:**\n",
    "\n",
    "a. A set of vectors form a linearly independent set if a matrix ($C$) made up of the vectors has only the trivial solution. Let's find out the type of solution:"
   ]
  },
  {
   "cell_type": "code",
   "execution_count": 96,
   "id": "810468fa-ea6c-40f0-8dcf-6a2655930db0",
   "metadata": {},
   "outputs": [
    {
     "data": {
      "text/plain": [
       "array([[1, 3, 4, 0],\n",
       "       [2, 1, 2, 0],\n",
       "       [0, 5, 3, 0]])"
      ]
     },
     "execution_count": 96,
     "metadata": {},
     "output_type": "execute_result"
    }
   ],
   "source": [
    "C = np.array([[1,3,4,0],[2,1,2,0],[0,5,3,0]])\n",
    "C"
   ]
  },
  {
   "cell_type": "code",
   "execution_count": 97,
   "id": "e6573cc5-fc2a-4b6b-96e9-66adc7242d9d",
   "metadata": {},
   "outputs": [
    {
     "data": {
      "text/plain": [
       "array([[ 1.,  3.,  4.,  0.],\n",
       "       [ 0., -5., -6.,  0.],\n",
       "       [ 0.,  5.,  3.,  0.]])"
      ]
     },
     "execution_count": 97,
     "metadata": {},
     "output_type": "execute_result"
    }
   ],
   "source": [
    "C1 = replace(C, 1, 0, -2)\n",
    "C1"
   ]
  },
  {
   "cell_type": "code",
   "execution_count": 98,
   "id": "08837d2a-cfe1-4f25-be9a-4896f3680087",
   "metadata": {},
   "outputs": [
    {
     "data": {
      "text/plain": [
       "array([[ 1.,  3.,  4.,  0.],\n",
       "       [ 0., -5., -6.,  0.],\n",
       "       [ 0.,  0., -3.,  0.]])"
      ]
     },
     "execution_count": 98,
     "metadata": {},
     "output_type": "execute_result"
    }
   ],
   "source": [
    "C2 = replace(C1, 2, 1, 1)\n",
    "C2"
   ]
  },
  {
   "cell_type": "markdown",
   "id": "2877b3cc-05b0-4e48-8252-1b783e9e3c6b",
   "metadata": {},
   "source": [
    "C2 gives us $-3 = 0$, which is impossible and means the only solution is the trivial solution. The set of vectors is linearly independent."
   ]
  },
  {
   "cell_type": "markdown",
   "id": "59b66848-42ee-4631-b499-63930e5b9cb8",
   "metadata": {},
   "source": [
    "b. By theorem 3, a set of 2 vectors is linearly dependent if and only if one is a multiple of another. The second vector is a multiple of the first by a factor of $-3$, meaning the set of vectors is linearly dependent."
   ]
  },
  {
   "cell_type": "markdown",
   "id": "51af198e-853f-4e81-be30-31d1f52e6965",
   "metadata": {},
   "source": [
    "4. Write the general solution of the linear system corresponding to the augmented matrix $D$.\n",
    "\n",
    "$$\n",
    "D = \\begin{bmatrix}\n",
    "2 & 3 & 0 & 1\\\\\n",
    "2 & 4 & 2 & 2\\\\\n",
    "1 & 2 & 1 & 1\\\\\n",
    "\\end{bmatrix}\n",
    "$$\n",
    "\n",
    "**Solution:**"
   ]
  },
  {
   "cell_type": "code",
   "execution_count": 102,
   "id": "98208854-51bf-4716-9697-17c5f0d27df3",
   "metadata": {},
   "outputs": [
    {
     "data": {
      "text/plain": [
       "array([[ 1.,  1., -1.,  0.],\n",
       "       [ 1.,  2.,  1.,  1.],\n",
       "       [ 2.,  4.,  2.,  2.]])"
      ]
     },
     "execution_count": 102,
     "metadata": {},
     "output_type": "execute_result"
    }
   ],
   "source": [
    "D = np.array([[2,3,0,1],[1,2,1,1],[2,4,2,2]])\n",
    "D1 = replace(D, 0, 1, -1)\n",
    "D1"
   ]
  },
  {
   "cell_type": "code",
   "execution_count": 103,
   "id": "f4d5926b-9c18-4078-af8d-8615eff60ecb",
   "metadata": {},
   "outputs": [
    {
     "data": {
      "text/plain": [
       "array([[ 1.,  1., -1.,  0.],\n",
       "       [ 1.,  2.,  1.,  1.],\n",
       "       [ 0.,  0.,  0.,  0.]])"
      ]
     },
     "execution_count": 103,
     "metadata": {},
     "output_type": "execute_result"
    }
   ],
   "source": [
    "D2 = replace(D1, 2, 1, -2)\n",
    "D2"
   ]
  },
  {
   "cell_type": "code",
   "execution_count": 104,
   "id": "bf5a05bd-edc5-4c75-aecf-ea290bf1cbe1",
   "metadata": {},
   "outputs": [
    {
     "data": {
      "text/plain": [
       "array([[ 1.,  1., -1.,  0.],\n",
       "       [ 0.,  1.,  2.,  1.],\n",
       "       [ 0.,  0.,  0.,  0.]])"
      ]
     },
     "execution_count": 104,
     "metadata": {},
     "output_type": "execute_result"
    }
   ],
   "source": [
    "D3 = replace(D2, 1, 0, -1)\n",
    "D3"
   ]
  },
  {
   "cell_type": "code",
   "execution_count": 105,
   "id": "45425055-b8ff-45ca-b42f-566f70c0bdda",
   "metadata": {},
   "outputs": [
    {
     "data": {
      "text/plain": [
       "array([[ 1.,  0., -3., -1.],\n",
       "       [ 0.,  1.,  2.,  1.],\n",
       "       [ 0.,  0.,  0.,  0.]])"
      ]
     },
     "execution_count": 105,
     "metadata": {},
     "output_type": "execute_result"
    }
   ],
   "source": [
    "D4 = replace(D3, 0, 1, -1)\n",
    "D4"
   ]
  },
  {
   "cell_type": "markdown",
   "id": "3aee9cb5-10a4-4752-b352-2482186901a9",
   "metadata": {},
   "source": [
    "Since we are left with an empty row, we see that for any $y \\in \\mathbb{R}$\n",
    " we have a unique solution. A general solution for this system is:\n",
    "\n",
    "$$\n",
    "\\begin{bmatrix} x\\\\ y\\\\ z\\\\ \\end{bmatrix} = \\begin{bmatrix} {\\frac{1}{2}-\\frac{3}{2}y}\\\\ {y}\\\\ {\\frac{1}{2}-\\frac{y}{2}}\\\\ \\end{bmatrix} = \\begin{bmatrix} {\\frac{1}{2}}\\\\ 0\\\\ {\\frac{1}{2}}\\\\ \\end{bmatrix} + \\begin{bmatrix} {-\\frac{3}{2}y}\\\\ {y}\\\\ {-\\frac{y}{2}}\\\\ \\end{bmatrix} = \\begin{bmatrix} {\\frac{1}{2}}\\\\ 0\\\\ {\\frac{1}{2}}\\\\ \\end{bmatrix} + y\\begin{bmatrix} {-\\frac{3}{2}}\\\\ {1}\\\\ {-\\frac{1}{2}}\\\\ \\end{bmatrix}\n",
    "$$"
   ]
  },
  {
   "cell_type": "markdown",
   "id": "52451e39-7120-4d81-90a8-b499d23c2f95",
   "metadata": {},
   "source": [
    "## Linear Systems Solutions"
   ]
  },
  {
   "cell_type": "markdown",
   "id": "49f48ff1-12ac-42ef-a2e0-98baf14082dd",
   "metadata": {},
   "source": [
    "## Matrices and Determinants Solutions"
   ]
  },
  {
   "cell_type": "markdown",
   "id": "675c2904-6b66-4daf-9dcf-c96f509c7cb9",
   "metadata": {},
   "source": [
    "## Linear Transformations Solutions"
   ]
  },
  {
   "cell_type": "markdown",
   "id": "3901697a-c57b-4990-b1dc-9a66316e1d8d",
   "metadata": {},
   "source": [
    "## Eigenvalues and Eigenvectors Solutions"
   ]
  },
  {
   "cell_type": "markdown",
   "id": "7fb51426-c4db-47ed-a297-55466b700d46",
   "metadata": {},
   "source": [
    "## Orthoganality Solutions"
   ]
  }
 ],
 "metadata": {
  "kernelspec": {
   "display_name": "Python 3 (ipykernel)",
   "language": "python",
   "name": "python3"
  },
  "language_info": {
   "codemirror_mode": {
    "name": "ipython",
    "version": 3
   },
   "file_extension": ".py",
   "mimetype": "text/x-python",
   "name": "python",
   "nbconvert_exporter": "python",
   "pygments_lexer": "ipython3",
   "version": "3.11.7"
  }
 },
 "nbformat": 4,
 "nbformat_minor": 5
}
