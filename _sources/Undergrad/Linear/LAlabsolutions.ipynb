{
 "cells": [
  {
   "cell_type": "code",
   "execution_count": 41,
   "id": "0af58256-75fc-40e3-a4a0-1db43ca462dd",
   "metadata": {},
   "outputs": [],
   "source": [
    "import matplotlib.pyplot as plt\n",
    "import numpy as np"
   ]
  },
  {
   "cell_type": "markdown",
   "id": "ad1b8c48-1c79-4578-b05b-45e9ac26e840",
   "metadata": {},
   "source": [
    "# Linear Algebra Lab Solutions"
   ]
  },
  {
   "cell_type": "markdown",
   "id": "2e72879e-c2de-45e2-b1e1-eb232fc94e75",
   "metadata": {},
   "source": [
    "This guide focuses on solutions found using Python Jupyter Notebook."
   ]
  },
  {
   "cell_type": "markdown",
   "id": "412ee7fa-fe46-46f3-a739-69d9b4f58be0",
   "metadata": {},
   "source": [
    "## Linear Systems Solutions"
   ]
  },
  {
   "cell_type": "markdown",
   "id": "329e4478-45bc-4769-a1fd-8dd745ad8054",
   "metadata": {},
   "source": [
    "1. Put $A$ into RREF.\n",
    "\n",
    "$$\n",
    "A = \n",
    "\\begin{bmatrix}\n",
    "1 & 1 & 1 & 2\\\\\n",
    "2 & 3 & 1 & 3\\\\\n",
    "1 & -1 & -2 & -11\\\\\n",
    "\\end{bmatrix}\n",
    "$$\n",
    "\n",
    "**Solution:**"
   ]
  },
  {
   "cell_type": "code",
   "execution_count": 42,
   "id": "bd9ecc72-7df6-42a2-b37c-5911adbf3d1d",
   "metadata": {},
   "outputs": [],
   "source": [
    "# Let's set up the matrix and row operation functions\n",
    "A = np.array([[1,1,1,2],[2,3,1,3],[1,-1,-2,-11]])\n",
    "\n",
    "# Swap two rows\n",
    "def swap(matrix, row1, row2):\n",
    "    copy_matrix=np.copy(matrix).astype('float64') \n",
    "    copy_matrix[row1,:] = matrix[row2,:]\n",
    "    copy_matrix[row2,:] = matrix[row1,:]\n",
    "    return copy_matrix\n",
    "\n",
    "# Multiple all entries in a row by a nonzero number\n",
    "def scale(matrix, row, scalar):\n",
    "    copy_matrix=np.copy(matrix).astype('float64') \n",
    "    copy_matrix[row,:] = scalar*matrix[row,:]  \n",
    "    return copy_matrix\n",
    "\n",
    "# Replacing a row by the sum of itself and a multiple of another \n",
    "def replace(matrix, row1, row2, scalar):\n",
    "    copy_matrix=np.copy(matrix).astype('float64')\n",
    "    copy_matrix[row1] = matrix[row1]+ scalar * matrix[row2] \n",
    "    return copy_matrix"
   ]
  },
  {
   "cell_type": "code",
   "execution_count": 43,
   "id": "e9ff9ded-3ae7-4bf5-9b3f-2e5355705ed3",
   "metadata": {},
   "outputs": [
    {
     "data": {
      "text/plain": [
       "array([[ 1.,  0.,  0., -3.],\n",
       "       [ 0.,  1.,  0.,  2.],\n",
       "       [-0., -0.,  1.,  3.]])"
      ]
     },
     "execution_count": 43,
     "metadata": {},
     "output_type": "execute_result"
    }
   ],
   "source": [
    "A1 = replace(A, 1, 0, -2)\n",
    "A2 = replace(A1, 2, 0, -1)\n",
    "A3 = replace(A2, 2, 1, 2)\n",
    "A4 = scale(A3, 2, -1/5)\n",
    "A5 = replace(A4, 1, 2, 1)\n",
    "A6 = replace(A5, 0, 1, -1)\n",
    "A7 = replace(A6, 0, 2, -1)\n",
    "A7"
   ]
  },
  {
   "cell_type": "markdown",
   "id": "59f95dd2-9c15-4118-af0d-93dc61149dc9",
   "metadata": {},
   "source": [
    "A7 is in RREF."
   ]
  },
  {
   "cell_type": "markdown",
   "id": "606e8281-26c1-4927-9556-ca73e4d92ce6",
   "metadata": {},
   "source": [
    "2. Find the solution set of the following system of equations\n",
    "\n",
    "$$\n",
    "x - y + 3z = 0\n",
    "$$\n",
    "\n",
    "$$\n",
    "6x - y + 4z = 1\n",
    "$$\n",
    "\n",
    "$$\n",
    "3x + 2y - 4z = 2\n",
    "$$\n",
    "\n",
    "**Solution:**\n",
    "\n",
    "We can change the system of equations into augmented matrix $B$, and put it into RREF to solve. "
   ]
  },
  {
   "cell_type": "code",
   "execution_count": 44,
   "id": "ca557019-ef60-4b43-871b-64e683604851",
   "metadata": {},
   "outputs": [
    {
     "data": {
      "text/plain": [
       "array([[ 1.,  0.,  0.,  0.],\n",
       "       [ 0.,  1.,  0.,  3.],\n",
       "       [-0., -0.,  1.,  1.]])"
      ]
     },
     "execution_count": 44,
     "metadata": {},
     "output_type": "execute_result"
    }
   ],
   "source": [
    "B = np.array([[1,-1,3,0],[6,-1,4,1],[3,2,-4,2]])\n",
    "\n",
    "B1 = replace(B, 1, 2, -2)\n",
    "B2 = replace(B1, 2, 0, -3)\n",
    "B3 = swap(B2, 1, 2)\n",
    "B4 = replace(B3, 2, 1, 1)\n",
    "B5 = replace(B4, 1, 2, 1)\n",
    "B6 = scale(B5, 2, -1)\n",
    "B7 = replace(B6, 1, 2, 14)\n",
    "B8 = scale(B7, 1, 1/5)\n",
    "B9 = replace(B8, 0, 1, 1)\n",
    "B10 = replace(B9, 0, 2, -3)\n",
    "B10"
   ]
  },
  {
   "cell_type": "markdown",
   "id": "b9be285c-da2c-4a06-9836-430c704c4e51",
   "metadata": {},
   "source": [
    "B10 is in reduced echelon form, and gives us the solutions $x = 0$, $y = 3$ and $z = 1$."
   ]
  },
  {
   "cell_type": "markdown",
   "id": "097202c4-a8d8-4023-8002-32bf01dc8175",
   "metadata": {},
   "source": [
    "3. Determine if the following vectors form a linearly independent or a linearly dependent set:\n",
    "\n",
    "    a.\n",
    "\n",
    "$$\n",
    "\\vec{v_1} = \n",
    "\\begin{bmatrix} \n",
    "1\\\\2\\\\0\\\\\n",
    "\\end{bmatrix} + \\begin{bmatrix} \n",
    "3\\\\1\\\\5\\\\\n",
    "\\end{bmatrix} + \\begin{bmatrix} \n",
    "4\\\\2\\\\3\\\\\n",
    "\\end{bmatrix}\n",
    "$$\n",
    "\n",
    "    b.\n",
    "\n",
    "$$\n",
    "\\vec{v_2} = \n",
    "\\begin{bmatrix} \n",
    "1\\\\-4\\\\-2\\\\0\\\\\n",
    "\\end{bmatrix} + \\begin{bmatrix} \n",
    "-3\\\\12\\\\-6\\\\0\\\\\n",
    "\\end{bmatrix}\n",
    "$$\n",
    "\n",
    "**Solution:**\n",
    "\n",
    "a. A set of vectors form a linearly independent set if a matrix ($C$) made up of the vectors has only the trivial solution. Let's find out the type of solution:"
   ]
  },
  {
   "cell_type": "code",
   "execution_count": 45,
   "id": "810468fa-ea6c-40f0-8dcf-6a2655930db0",
   "metadata": {},
   "outputs": [
    {
     "data": {
      "text/plain": [
       "array([[1, 3, 4, 0],\n",
       "       [2, 1, 2, 0],\n",
       "       [0, 5, 3, 0]])"
      ]
     },
     "execution_count": 45,
     "metadata": {},
     "output_type": "execute_result"
    }
   ],
   "source": [
    "C = np.array([[1,3,4,0],[2,1,2,0],[0,5,3,0]])\n",
    "C"
   ]
  },
  {
   "cell_type": "code",
   "execution_count": 46,
   "id": "e6573cc5-fc2a-4b6b-96e9-66adc7242d9d",
   "metadata": {},
   "outputs": [
    {
     "data": {
      "text/plain": [
       "array([[ 1.,  3.,  4.,  0.],\n",
       "       [ 0., -5., -6.,  0.],\n",
       "       [ 0.,  5.,  3.,  0.]])"
      ]
     },
     "execution_count": 46,
     "metadata": {},
     "output_type": "execute_result"
    }
   ],
   "source": [
    "C1 = replace(C, 1, 0, -2)\n",
    "C1"
   ]
  },
  {
   "cell_type": "code",
   "execution_count": 47,
   "id": "08837d2a-cfe1-4f25-be9a-4896f3680087",
   "metadata": {},
   "outputs": [
    {
     "data": {
      "text/plain": [
       "array([[ 1.,  3.,  4.,  0.],\n",
       "       [ 0., -5., -6.,  0.],\n",
       "       [ 0.,  0., -3.,  0.]])"
      ]
     },
     "execution_count": 47,
     "metadata": {},
     "output_type": "execute_result"
    }
   ],
   "source": [
    "C2 = replace(C1, 2, 1, 1)\n",
    "C2"
   ]
  },
  {
   "cell_type": "markdown",
   "id": "2877b3cc-05b0-4e48-8252-1b783e9e3c6b",
   "metadata": {},
   "source": [
    "C2 gives us $-3 = 0$, which is impossible and means the only solution is the trivial solution. The set of vectors is linearly independent."
   ]
  },
  {
   "cell_type": "markdown",
   "id": "59b66848-42ee-4631-b499-63930e5b9cb8",
   "metadata": {},
   "source": [
    "b. By theorem 3, a set of 2 vectors is linearly dependent if and only if one is a multiple of another. The second vector is a multiple of the first by a factor of $-3$, meaning the set of vectors is linearly dependent."
   ]
  },
  {
   "cell_type": "markdown",
   "id": "51af198e-853f-4e81-be30-31d1f52e6965",
   "metadata": {},
   "source": [
    "4. Write the general solution of the linear system corresponding to the augmented matrix $D$.\n",
    "\n",
    "$$\n",
    "D = \\begin{bmatrix}\n",
    "2 & 3 & 0 & 1\\\\\n",
    "2 & 4 & 2 & 2\\\\\n",
    "1 & 2 & 1 & 1\\\\\n",
    "\\end{bmatrix}\n",
    "$$\n",
    "\n",
    "**Solution:**"
   ]
  },
  {
   "cell_type": "code",
   "execution_count": 48,
   "id": "98208854-51bf-4716-9697-17c5f0d27df3",
   "metadata": {},
   "outputs": [
    {
     "data": {
      "text/plain": [
       "array([[ 1.,  1., -1.,  0.],\n",
       "       [ 1.,  2.,  1.,  1.],\n",
       "       [ 2.,  4.,  2.,  2.]])"
      ]
     },
     "execution_count": 48,
     "metadata": {},
     "output_type": "execute_result"
    }
   ],
   "source": [
    "D = np.array([[2,3,0,1],[1,2,1,1],[2,4,2,2]])\n",
    "D1 = replace(D, 0, 1, -1)\n",
    "D1"
   ]
  },
  {
   "cell_type": "code",
   "execution_count": 49,
   "id": "f4d5926b-9c18-4078-af8d-8615eff60ecb",
   "metadata": {},
   "outputs": [
    {
     "data": {
      "text/plain": [
       "array([[ 1.,  1., -1.,  0.],\n",
       "       [ 1.,  2.,  1.,  1.],\n",
       "       [ 0.,  0.,  0.,  0.]])"
      ]
     },
     "execution_count": 49,
     "metadata": {},
     "output_type": "execute_result"
    }
   ],
   "source": [
    "D2 = replace(D1, 2, 1, -2)\n",
    "D2"
   ]
  },
  {
   "cell_type": "code",
   "execution_count": 50,
   "id": "bf5a05bd-edc5-4c75-aecf-ea290bf1cbe1",
   "metadata": {},
   "outputs": [
    {
     "data": {
      "text/plain": [
       "array([[ 1.,  1., -1.,  0.],\n",
       "       [ 0.,  1.,  2.,  1.],\n",
       "       [ 0.,  0.,  0.,  0.]])"
      ]
     },
     "execution_count": 50,
     "metadata": {},
     "output_type": "execute_result"
    }
   ],
   "source": [
    "D3 = replace(D2, 1, 0, -1)\n",
    "D3"
   ]
  },
  {
   "cell_type": "code",
   "execution_count": 51,
   "id": "45425055-b8ff-45ca-b42f-566f70c0bdda",
   "metadata": {},
   "outputs": [
    {
     "data": {
      "text/plain": [
       "array([[ 1.,  0., -3., -1.],\n",
       "       [ 0.,  1.,  2.,  1.],\n",
       "       [ 0.,  0.,  0.,  0.]])"
      ]
     },
     "execution_count": 51,
     "metadata": {},
     "output_type": "execute_result"
    }
   ],
   "source": [
    "D4 = replace(D3, 0, 1, -1)\n",
    "D4"
   ]
  },
  {
   "cell_type": "markdown",
   "id": "3aee9cb5-10a4-4752-b352-2482186901a9",
   "metadata": {},
   "source": [
    "Since we are left with an empty row, we see that for any $y \\in \\mathbb{R}$\n",
    " we have a unique solution. A general solution for this system is:\n",
    "\n",
    "$$\n",
    "\\begin{bmatrix} x\\\\ y\\\\ z\\\\ \\end{bmatrix} = \\begin{bmatrix} {\\frac{1}{2}-\\frac{3}{2}y}\\\\ {y}\\\\ {\\frac{1}{2}-\\frac{y}{2}}\\\\ \\end{bmatrix} = \\begin{bmatrix} {\\frac{1}{2}}\\\\ 0\\\\ {\\frac{1}{2}}\\\\ \\end{bmatrix} + \\begin{bmatrix} {-\\frac{3}{2}y}\\\\ {y}\\\\ {-\\frac{y}{2}}\\\\ \\end{bmatrix} = \\begin{bmatrix} {\\frac{1}{2}}\\\\ 0\\\\ {\\frac{1}{2}}\\\\ \\end{bmatrix} + y\\begin{bmatrix} {-\\frac{3}{2}}\\\\ {1}\\\\ {-\\frac{1}{2}}\\\\ \\end{bmatrix}\n",
    "$$"
   ]
  },
  {
   "cell_type": "markdown",
   "id": "49f48ff1-12ac-42ef-a2e0-98baf14082dd",
   "metadata": {},
   "source": [
    "## Matrices and Determinants Solutions"
   ]
  },
  {
   "cell_type": "markdown",
   "id": "b5842113-e006-4042-9dc1-abda3a6549c0",
   "metadata": {},
   "source": [
    "1. Let $A = \\begin{bmatrix} 3 & 5\\\\ 0 & 2\\\\ 1 & 1\\\\ \\end{bmatrix}$, $B = \\begin{bmatrix} 2 & 2\\\\ 2 & 4\\\\\\end{bmatrix}$ and $C = \\begin{bmatrix}\n",
    "1 & 0 & 7\\\\ 0 & 6 & 0\\\\ 0 & 4 & 3\\\\ 2 & 0 & 1\\\\\n",
    "\\end{bmatrix}$. Find the following matrices, if they exist:\n",
    "\n",
    "    a. $CAB$\n",
    "\n",
    "    b. $AB$\n",
    "\n",
    "    c. $BCA$\n",
    "\n",
    "    d. $B^2$\n",
    "\n",
    "    e. $A^2$\n",
    "\n",
    "    f. $B^{-1}$\n",
    "\n",
    "    g. $C^{-1}$\n",
    "\n",
    "    h. $A^{t} C^{t}$\n",
    "\n",
    "**Solution:**"
   ]
  },
  {
   "cell_type": "code",
   "execution_count": 52,
   "id": "ae7834c1-e9de-4312-8625-58379c5da5ae",
   "metadata": {},
   "outputs": [],
   "source": [
    "#First, set up arrays\n",
    "A = np.array([[3,5],[0,2],[1,1]])\n",
    "B = np.array([[2,2],[2,4]])\n",
    "C = np.array([[1,0,7],[0,6,0],[0,4,3],[2,0,1]])"
   ]
  },
  {
   "cell_type": "code",
   "execution_count": 53,
   "id": "ce22a53f-8718-4fb7-8ce2-f205b9bb9b25",
   "metadata": {},
   "outputs": [
    {
     "data": {
      "text/plain": [
       "array([[44, 68],\n",
       "       [24, 48],\n",
       "       [28, 50],\n",
       "       [36, 58]])"
      ]
     },
     "execution_count": 53,
     "metadata": {},
     "output_type": "execute_result"
    }
   ],
   "source": [
    "# a.\n",
    "CAB = C @ A @ B\n",
    "CAB"
   ]
  },
  {
   "cell_type": "code",
   "execution_count": 54,
   "id": "3f147b33-32e2-4e05-967c-fd843597f8ae",
   "metadata": {},
   "outputs": [
    {
     "data": {
      "text/plain": [
       "array([[16, 26],\n",
       "       [ 4,  8],\n",
       "       [ 4,  6]])"
      ]
     },
     "execution_count": 54,
     "metadata": {},
     "output_type": "execute_result"
    }
   ],
   "source": [
    "# b.\n",
    "AB = A @ B\n",
    "AB"
   ]
  },
  {
   "cell_type": "code",
   "execution_count": 55,
   "id": "99109383-4a34-4153-a85f-d6117bc8f42a",
   "metadata": {},
   "outputs": [
    {
     "ename": "ValueError",
     "evalue": "matmul: Input operand 1 has a mismatch in its core dimension 0, with gufunc signature (n?,k),(k,m?)->(n?,m?) (size 4 is different from 2)",
     "output_type": "error",
     "traceback": [
      "\u001b[1;31m---------------------------------------------------------------------------\u001b[0m",
      "\u001b[1;31mValueError\u001b[0m                                Traceback (most recent call last)",
      "Cell \u001b[1;32mIn[55], line 2\u001b[0m\n\u001b[0;32m      1\u001b[0m \u001b[38;5;66;03m# c. BCA is not possible, as B does not have the same amount of columns as C has rows.\u001b[39;00m\n\u001b[1;32m----> 2\u001b[0m BCA \u001b[38;5;241m=\u001b[39m B \u001b[38;5;241m@\u001b[39m C \u001b[38;5;241m@\u001b[39m A\n",
      "\u001b[1;31mValueError\u001b[0m: matmul: Input operand 1 has a mismatch in its core dimension 0, with gufunc signature (n?,k),(k,m?)->(n?,m?) (size 4 is different from 2)"
     ]
    }
   ],
   "source": [
    "# c. BCA is not possible, as B does not have the same amount of columns as C has rows.\n",
    "BCA = B @ C @ A"
   ]
  },
  {
   "cell_type": "code",
   "execution_count": 56,
   "id": "13e7692a-4487-401a-8565-9728ce3afec4",
   "metadata": {},
   "outputs": [
    {
     "data": {
      "text/plain": [
       "array([[ 8, 12],\n",
       "       [12, 20]])"
      ]
     },
     "execution_count": 56,
     "metadata": {},
     "output_type": "execute_result"
    }
   ],
   "source": [
    "# d. B^2 is the same as BB\n",
    "BB = B @ B\n",
    "BB"
   ]
  },
  {
   "cell_type": "code",
   "execution_count": 57,
   "id": "ef9375d9-a1aa-4480-b98e-5fb2d5f0d137",
   "metadata": {},
   "outputs": [
    {
     "ename": "ValueError",
     "evalue": "matmul: Input operand 1 has a mismatch in its core dimension 0, with gufunc signature (n?,k),(k,m?)->(n?,m?) (size 3 is different from 2)",
     "output_type": "error",
     "traceback": [
      "\u001b[1;31m---------------------------------------------------------------------------\u001b[0m",
      "\u001b[1;31mValueError\u001b[0m                                Traceback (most recent call last)",
      "Cell \u001b[1;32mIn[57], line 2\u001b[0m\n\u001b[0;32m      1\u001b[0m \u001b[38;5;66;03m# e. A^2 is not possible, as A is not a square matrix.\u001b[39;00m\n\u001b[1;32m----> 2\u001b[0m AA \u001b[38;5;241m=\u001b[39m A \u001b[38;5;241m@\u001b[39m A\n\u001b[0;32m      3\u001b[0m AA\n",
      "\u001b[1;31mValueError\u001b[0m: matmul: Input operand 1 has a mismatch in its core dimension 0, with gufunc signature (n?,k),(k,m?)->(n?,m?) (size 3 is different from 2)"
     ]
    }
   ],
   "source": [
    "# e. A^2 is not possible, as A is not a square matrix.\n",
    "AA = A @ A\n",
    "AA"
   ]
  },
  {
   "cell_type": "code",
   "execution_count": 58,
   "id": "82eeb7fe-f99b-447e-bcda-d8e5b1aecee5",
   "metadata": {},
   "outputs": [
    {
     "data": {
      "text/plain": [
       "array([[ 1. , -0.5],\n",
       "       [-0.5,  0.5]])"
      ]
     },
     "execution_count": 58,
     "metadata": {},
     "output_type": "execute_result"
    }
   ],
   "source": [
    "# f. First, define an inverse method:\n",
    "\n",
    "# Compute the inverse\n",
    "def inverse_matrix(matrix):\n",
    "    a, b = matrix[0]\n",
    "    c, d = matrix[1]\n",
    "    det = a * d - b * c\n",
    "    if det == 0:\n",
    "        print(matrix, \"is not invertible\")\n",
    "    elif matrix.shape[0] != matrix.shape[1]:\n",
    "        print(matrix, \"is not invertible as it is not a square matrix\")\n",
    "    else:\n",
    "        D = 1 / det    \n",
    "        inverse = np.zeros((2, 2))\n",
    "        inverse[0, 0] = D * d\n",
    "        inverse[0, 1] = -D * b\n",
    "        inverse[1, 0] = -D * c\n",
    "        inverse[1, 1] = D * a\n",
    "        return(inverse)\n",
    "\n",
    "inverseOfB = inverse_matrix(B)\n",
    "inverseOfB"
   ]
  },
  {
   "cell_type": "code",
   "execution_count": 60,
   "id": "a051c340-0be1-46c4-9687-6b6b8ecfa17f",
   "metadata": {},
   "outputs": [
    {
     "name": "stdout",
     "output_type": "stream",
     "text": [
      "[[3 5]\n",
      " [0 2]\n",
      " [1 1]] is not invertible as it is not a square matrix\n"
     ]
    },
    {
     "ename": "NameError",
     "evalue": "name 'inverseOf' is not defined",
     "output_type": "error",
     "traceback": [
      "\u001b[1;31m---------------------------------------------------------------------------\u001b[0m",
      "\u001b[1;31mNameError\u001b[0m                                 Traceback (most recent call last)",
      "Cell \u001b[1;32mIn[60], line 4\u001b[0m\n\u001b[0;32m      1\u001b[0m \u001b[38;5;66;03m# g. A is not invertible, as it is not a square matrix.\u001b[39;00m\n\u001b[0;32m      3\u001b[0m inverseOfA \u001b[38;5;241m=\u001b[39m inverse_matrix(A)\n\u001b[1;32m----> 4\u001b[0m inverseOf\n",
      "\u001b[1;31mNameError\u001b[0m: name 'inverseOf' is not defined"
     ]
    }
   ],
   "source": [
    "# g. A is not invertible, as it is not a square matrix.\n",
    "\n",
    "inverseOfA = inverse_matrix(A)\n",
    "inverseOf"
   ]
  },
  {
   "cell_type": "code",
   "execution_count": 61,
   "id": "8e2edf0c-0e8c-4bc0-8537-c4126cf16bcb",
   "metadata": {},
   "outputs": [
    {
     "data": {
      "text/plain": [
       "array([[10,  0,  3,  7],\n",
       "       [12, 12, 11, 11]])"
      ]
     },
     "execution_count": 61,
     "metadata": {},
     "output_type": "execute_result"
    }
   ],
   "source": [
    "# h.\n",
    "AtCt = A.T @ C.T\n",
    "AtCt"
   ]
  },
  {
   "cell_type": "markdown",
   "id": "082e2160-8181-4524-b53d-85a15afb8458",
   "metadata": {},
   "source": [
    "2. Find the determinant and then the inverse of $A = \\begin{bmatrix} 7 & 6 & {54}\\\\ 0 & 3 & 6\\\\ 0 & 0 & 1\\\\ \\end{bmatrix}$. Prove $det(A^{-1}) = \\frac{1}{det(A)}$.\n",
    "   \n",
    "**Solution:**"
   ]
  },
  {
   "cell_type": "code",
   "execution_count": 62,
   "id": "7127cd82-8b2a-467f-8c0d-021f3ea99919",
   "metadata": {},
   "outputs": [
    {
     "data": {
      "text/plain": [
       "21"
      ]
     },
     "execution_count": 62,
     "metadata": {},
     "output_type": "execute_result"
    }
   ],
   "source": [
    "#First, define the matrix A and a method for finding the determinants of 3x3 matrices:\n",
    "A = np.array([[7,6,54],[0,3,6],[0,0,1]])\n",
    "\n",
    "# Computes a 2x2 determinant\n",
    "def det2(matrix):\n",
    "    \n",
    "    if matrix.shape == (2, 2):\n",
    "        return matrix[0,0] * matrix[1,1] - matrix[0,1] * matrix[1,0]\n",
    "    else:\n",
    "        print(\"Please enter a 2x2 matrix\")\n",
    "# Computes the 3x3 determinant over a given row\n",
    "def det3(matrix, row):\n",
    "    if matrix.shape == (3, 3) and row in range(3):\n",
    "        det = 0\n",
    "        for j in range(3):\n",
    "            submatrix = np.delete( (np.delete(matrix, row , 0)), j ,1)   \n",
    "            det += (-1) ** (row + j) * matrix[row, j] * det2(submatrix)\n",
    "        return det\n",
    "    else:\n",
    "        print(\"The input matrix is not 3x3 or the row is not chosen in the right range\")\n",
    "\n",
    "#Calculate the determinant of A\n",
    "detA = det3(A,2)\n",
    "detA"
   ]
  },
  {
   "cell_type": "code",
   "execution_count": 63,
   "id": "804afbb6-d100-4ef7-8ad5-676c99359adf",
   "metadata": {},
   "outputs": [
    {
     "data": {
      "text/plain": [
       "array([[ 0.14285714, -0.28571429, -6.        ],\n",
       "       [ 0.        ,  0.33333333, -2.        ],\n",
       "       [ 0.        ,  0.        ,  1.        ]])"
      ]
     },
     "execution_count": 63,
     "metadata": {},
     "output_type": "execute_result"
    }
   ],
   "source": [
    "#Calculate the inverse of A using numpy\n",
    "invA = np.linalg.inv(A)\n",
    "invA"
   ]
  },
  {
   "cell_type": "code",
   "execution_count": 64,
   "id": "8fe3de23-e169-4495-97aa-449892edc352",
   "metadata": {},
   "outputs": [
    {
     "data": {
      "text/plain": [
       "0.047619047619047616"
      ]
     },
     "execution_count": 64,
     "metadata": {},
     "output_type": "execute_result"
    }
   ],
   "source": [
    "#Calculate the determinant of the inverse of A\n",
    "detInvA = det3(invA,0)\n",
    "detInvA"
   ]
  },
  {
   "cell_type": "code",
   "execution_count": 65,
   "id": "e48271ed-02eb-413c-aa2c-fed7ae361476",
   "metadata": {},
   "outputs": [
    {
     "name": "stdout",
     "output_type": "stream",
     "text": [
      "Is the determinant of the inverse equal to the inverse of the determinant of A?: True\n"
     ]
    }
   ],
   "source": [
    "#Finally, we can use a simple boolean to prove det(A^-1) = 1/det(A)\n",
    "inverseCheck = (detInvA == 1/detA)\n",
    "print('Is the determinant of the inverse equal to the inverse of the determinant of A?:', inverseCheck)"
   ]
  },
  {
   "cell_type": "markdown",
   "id": "c8054d7e-ae3b-47c1-a4d2-bf7a88bdbbd8",
   "metadata": {},
   "source": [
    "3. Find the volume of the parallelepiped formed by vectors $\\begin{bmatrix} 1\\\\3\\\\0\\\\ \\end{bmatrix}$, $\\begin{bmatrix} 0\\\\2\\\\5\\\\ \\end{bmatrix}$ and $\\begin{bmatrix} 5\\\\2\\\\4\\\\ \\end{bmatrix}$. Are the points at the tips of the vector coplanar? Explain.\n",
    "   \n",
    "**Solution:**"
   ]
  },
  {
   "cell_type": "code",
   "execution_count": 75,
   "id": "3d7fd88f-23c1-4885-b343-f801ded4e3cd",
   "metadata": {},
   "outputs": [
    {
     "name": "stdout",
     "output_type": "stream",
     "text": [
      "volume = 73\n"
     ]
    }
   ],
   "source": [
    "# We can form a matrix P out of the vectors in which we can find the determinant. The determinant is equal to the volume.\n",
    "P = np.array([[1,0,5],[3,2,2],[0,5,4]])\n",
    "\n",
    "volume = det3(P,2) #the 'det3' function was defined in question 2 \n",
    "print ('volume =', volume) "
   ]
  },
  {
   "cell_type": "markdown",
   "id": "dbfedf32-ac83-4528-87da-062d2cb685d1",
   "metadata": {},
   "source": [
    "The vector tips cannot be coplanar, as the determinant is not equal to zero. Conceptually, if there is a volume above zero, then the vectors could not lie on the same plane."
   ]
  },
  {
   "cell_type": "markdown",
   "id": "675c2904-6b66-4daf-9dcf-c96f509c7cb9",
   "metadata": {},
   "source": [
    "## Linear Transformations Solutions"
   ]
  },
  {
   "cell_type": "markdown",
   "id": "897150b8-074e-47ec-867c-6c447973d05d",
   "metadata": {},
   "source": [
    "1. Determine if the following transformations are linear. Explain why or why not.\n",
    "\n",
    "    a. $T1(\\begin{bmatrix} x\\\\ y\\\\ z\\\\ \\end{bmatrix}) = \\begin{bmatrix} x - 3y - z\\\\ 3x + 2y - 7z\\\\ \\end{bmatrix}$\n",
    "\n",
    "    b. $T2(\\begin{bmatrix} x\\\\ y\\\\ z\\\\ \\end{bmatrix}) = \\begin{bmatrix} x + y + z\\\\ 5z\\\\ x + 2\\\\ \\end{bmatrix}$\n",
    "\n",
    "    c. $T3(\\begin{bmatrix} x\\\\ y\\\\ \\end{bmatrix}) = \\begin{bmatrix} x\\\\ x + y\\\\ y\\end{bmatrix}$\n",
    "   \n",
    "**Solution:**"
   ]
  },
  {
   "cell_type": "markdown",
   "id": "914eb159-3828-4849-b5a3-d4443ab887fe",
   "metadata": {},
   "source": [
    "For each transformation, we will check the two conditions of a linear transformation:\n",
    "\n",
    "1. $T(\\vec{0}) = \\vec{0}$\n",
    "2. $T(c\\vec{u} + d\\vec{v}) = cT(\\vec{u}) + dT(\\vec{v}) \\quad \\forall \\vec{u}, \\vec{v} \\in \\mathbb{R}^m \\quad \\text{and}\\quad  \\forall c\\in \\mathbb{R}$\n",
    "\n",
    "These conditions can be checked using Python functions."
   ]
  },
  {
   "cell_type": "code",
   "execution_count": 76,
   "id": "f82ea576-4b29-489c-8823-377c7414dfc3",
   "metadata": {},
   "outputs": [
    {
     "data": {
      "text/plain": [
       "array([[0.],\n",
       "       [0.]])"
      ]
     },
     "execution_count": 76,
     "metadata": {},
     "output_type": "execute_result"
    }
   ],
   "source": [
    "#a\n",
    "\n",
    "# transformation function for T1\n",
    "def T1(V):\n",
    "    W = np.zeros((2,1)) #returns the zero vector in R^2\n",
    "    W[0,0] = V[0,0] - 3*V[1,0] - V[2,0]   #builds first component\n",
    "    W[1,0] = 3*V[0,0] + 2*V[1,0] - 7*V[2,0]   #builds second component\n",
    "    return W\n",
    "    \n",
    "Z = np.zeros((3,1))\n",
    "\n",
    "T1(Z)"
   ]
  },
  {
   "cell_type": "code",
   "execution_count": 77,
   "id": "4c356e80-9a34-4dc6-99cc-63f346ac6d0c",
   "metadata": {},
   "outputs": [
    {
     "data": {
      "text/plain": [
       "array([[  46.],\n",
       "       [-224.]])"
      ]
     },
     "execution_count": 77,
     "metadata": {},
     "output_type": "execute_result"
    }
   ],
   "source": [
    "# The first condition is fulfilled, and we can test the second.\n",
    "\n",
    "c = 2\n",
    "d = 4\n",
    "u = np.array([[-1],[5],[3]])\n",
    "v = np.array([[3],[-8],[6]])\n",
    "\n",
    "T1(c * u + d * v)"
   ]
  },
  {
   "cell_type": "code",
   "execution_count": 78,
   "id": "61ea8feb-b6e3-49a3-ba6d-db65990f7026",
   "metadata": {},
   "outputs": [
    {
     "data": {
      "text/plain": [
       "array([[  46.],\n",
       "       [-224.]])"
      ]
     },
     "execution_count": 78,
     "metadata": {},
     "output_type": "execute_result"
    }
   ],
   "source": [
    "c * T1(u) + d * T1(v)"
   ]
  },
  {
   "cell_type": "markdown",
   "id": "6364ae8a-8419-4fb8-a35f-40fe956ddc7e",
   "metadata": {},
   "source": [
    "Both conditions are true, so transformation T1 is linear.\n",
    "\n",
    "**Important Note:** Normally, the surefire way to prove the second condition would be with arbitrary values. However, due to how Python works we need to use literal values instead of arbitrary values. This will not be mentioned in further examples, but we can for sure prove $T1(c\\vec{u} + d\\vec{v}) = cT1(\\vec{u}) + dT1(\\vec{v})$ with the following proof:\n",
    "\n",
    "Suppose $\\vec{u} = \\begin{bmatrix} x\\\\ y\\\\ z\\\\ \\end{bmatrix}, \\vec{v} = \\begin{bmatrix} e\\\\ f\\\\ g\\\\ \\end{bmatrix} \\text{and} \\quad c, d, x, y, z, e, f, g \\in \\mathbb{R}$\n",
    "\n",
    "$$\n",
    "T1(c\\begin{bmatrix} x\\\\ y\\\\ z\\\\ \\end{bmatrix} + d\\begin{bmatrix} e\\\\ f\\\\ g\\\\ \\end{bmatrix}) = T(\\begin{bmatrix} cx\\\\ cy\\\\ cz\\\\ \\end{bmatrix} + \\begin{bmatrix} de\\\\ df\\\\ dg\\\\ \\end{bmatrix}) = T(\\begin{bmatrix} cx + de\\\\ cy + df\\\\ cz + dg\\\\ \\end{bmatrix} = \\begin{bmatrix} {cx + de - 3(cy + df) - (cz + dg)}\\\\ {3(cx + de) + 2(cy + df) - 7(cz + dg)}\\\\ \\end{bmatrix}\n",
    "$$\n",
    "\n",
    "$$\n",
    "cT1(\\begin{bmatrix} x\\\\ y\\\\ z\\\\ \\end{bmatrix}) + dT1(\\begin{bmatrix} e\\\\ f\\\\ g\\\\ \\end{bmatrix}) = c\\begin{bmatrix} x - 3y - z\\\\ 3x + 2y - 7z\\\\ \\end{bmatrix} + d\\begin{bmatrix} e - 3f - g\\\\ 3e + 2f - 7g\\\\ \\end{bmatrix} = \\begin{bmatrix} cx - c3y - cz\\\\ c3x + c2y - c7z\\\\ \\end{bmatrix} + \\begin{bmatrix} de - d3f - dg\\\\ d3e + d2f - d7g\\\\ \\end{bmatrix} = \\begin{bmatrix} {cx + de - 3(cy + df) - (cz + dg)}\\\\ {3(cx + de) + 2(cy + df) - 7(cz + dg)}\\\\ \\end{bmatrix}\n",
    "$$\n",
    "\n",
    "Therefore, $T1(c\\vec{u} + d\\vec{v}) = cT1(\\vec{u}) + dT1(\\vec{v})$.\n"
   ]
  },
  {
   "cell_type": "code",
   "execution_count": 79,
   "id": "8d309bae-1ac2-42cf-9843-51bb378c4c56",
   "metadata": {},
   "outputs": [
    {
     "data": {
      "text/plain": [
       "array([[0.],\n",
       "       [2.],\n",
       "       [0.]])"
      ]
     },
     "execution_count": 79,
     "metadata": {},
     "output_type": "execute_result"
    }
   ],
   "source": [
    "# b\n",
    "\n",
    "# transformation function for T2\n",
    "def T2(V):\n",
    "    W = np.zeros((3,1)) #returns the zero vector in R^3\n",
    "    W[0,0] = V[0,0] + V[1,0] + V[2,0]   #builds first component\n",
    "    W[1,0] = 5*V[2,0]   #builds second component\n",
    "    W[1,0] = V[0,0] + 2   #builds third component\n",
    "    return W\n",
    "\n",
    "Z = np.zeros((3,1))\n",
    "\n",
    "T2(Z)"
   ]
  },
  {
   "cell_type": "markdown",
   "id": "57e103cf-74a2-4519-b5a1-7d00ac9ae93e",
   "metadata": {},
   "source": [
    "The first condition is not upheld, so T2 cannot be a linear transformation."
   ]
  },
  {
   "cell_type": "code",
   "execution_count": 80,
   "id": "ec1a8884-9864-4210-afe3-2784ebd88b7b",
   "metadata": {},
   "outputs": [
    {
     "data": {
      "text/plain": [
       "array([[0.],\n",
       "       [0.],\n",
       "       [0.]])"
      ]
     },
     "execution_count": 80,
     "metadata": {},
     "output_type": "execute_result"
    }
   ],
   "source": [
    "# c\n",
    "\n",
    "# transformation function for T3\n",
    "def T3(V):\n",
    "    W = np.zeros((3,1)) #returns the zero vector in R^3\n",
    "    W[0,0] = V[0,0]   #builds first component\n",
    "    W[1,0] = V[0,0] + V[1,0]   #builds second component\n",
    "    W[2,0] = V[1,0]   #builds third component\n",
    "    return W\n",
    "\n",
    "Z = np.zeros((2,1))\n",
    "\n",
    "T3(Z)"
   ]
  },
  {
   "cell_type": "code",
   "execution_count": 81,
   "id": "e0c501c1-89bd-4f2e-b26c-0ea4fff6d929",
   "metadata": {},
   "outputs": [
    {
     "data": {
      "text/plain": [
       "array([[19.],\n",
       "       [37.],\n",
       "       [18.]])"
      ]
     },
     "execution_count": 81,
     "metadata": {},
     "output_type": "execute_result"
    }
   ],
   "source": [
    "# The first condition is fulfilled, and we can test the second.\n",
    "\n",
    "c = 3\n",
    "d = 5\n",
    "u = np.array([[-2],[11]])\n",
    "v = np.array([[5],[-3]])\n",
    "\n",
    "T3(c * u + d * v)"
   ]
  },
  {
   "cell_type": "code",
   "execution_count": 82,
   "id": "4eea47c0-1b35-4fdc-b3ad-5af40f92c483",
   "metadata": {},
   "outputs": [
    {
     "data": {
      "text/plain": [
       "array([[19.],\n",
       "       [37.],\n",
       "       [18.]])"
      ]
     },
     "execution_count": 82,
     "metadata": {},
     "output_type": "execute_result"
    }
   ],
   "source": [
    "c * T3(u) + d * T3(v)"
   ]
  },
  {
   "cell_type": "markdown",
   "id": "e03f9ed5-2d04-4709-be4a-36a0d8415993",
   "metadata": {},
   "source": [
    "Both conditions are upheld for T3, meaning it is a linear transformation.\n",
    "\n",
    "T1 and T3 are linear transformations, while T2 is not."
   ]
  },
  {
   "cell_type": "markdown",
   "id": "82ca4c0d-cbed-4cad-beb1-d43ef2fde059",
   "metadata": {},
   "source": [
    "2. Find standard matrices for any linear transformations found in problem 1, if they exist.\n",
    "\n",
    "**Solution:**\n",
    "\n",
    "a. Standard matrix for T1: $A = \\begin{bmatrix} 1 & -3 & -1\\\\ 3 & 2 & -7\\\\ \\end{bmatrix}$\n",
    "\n",
    "b. T2 is not a linear transformation, so there can be no standard matrix.\n",
    "\n",
    "c. Standard matrix for T3: $A = \\begin{bmatrix} 1 & 0\\\\ 1 & 1\\\\ 0 & 1\\\\ \\end{bmatrix}$\n",
    "\n",
    "We can prove these are the standard matrices by using Python:"
   ]
  },
  {
   "cell_type": "code",
   "execution_count": 83,
   "id": "97eb771b-dee2-467d-bb8c-7e73ab887eb3",
   "metadata": {},
   "outputs": [
    {
     "name": "stdout",
     "output_type": "stream",
     "text": [
      "STD_1 is the standard matrix for T1 =  [[ True]\n",
      " [ True]]\n",
      "STD_1 is the standard matrix for T1 =  [[ True]\n",
      " [ True]\n",
      " [ True]]\n"
     ]
    }
   ],
   "source": [
    "# define the standard matrices\n",
    "STD_T1 = np.array([[1, -3, -1],[3, 2, -7]])\n",
    "STD_T3 = np.array([[1, 0],[1, 1],[0, 1]])\n",
    "\n",
    "# define some test vectors to transform\n",
    "U_T1 = np.array([[2],[-5],[4]])\n",
    "U_T3 = np.array([[-3],[6]])\n",
    "\n",
    "# store the vectors transformed by their respective functions\n",
    "func_T1_test = T1(U_T1)\n",
    "func_T3_test = T3(U_T3)\n",
    "\n",
    "# store the vectors transformed by their respective standard matrices\n",
    "STD_T1_test = STD_T1 @ U_T1\n",
    "STD_T3_test = STD_T3 @ U_T3\n",
    "\n",
    "# print the results using booleans to confirm the standard matrices are correct\n",
    "print('STD_1 is the standard matrix for T1 = ', STD_T1_test == func_T1_test)\n",
    "print('STD_1 is the standard matrix for T1 = ', STD_T3_test == func_T3_test)"
   ]
  },
  {
   "cell_type": "markdown",
   "id": "4f4ac9f8-e2c2-4066-8521-7b24302fb2ff",
   "metadata": {},
   "source": [
    "Both standard matrices are correct."
   ]
  },
  {
   "cell_type": "markdown",
   "id": "7f481f39-9fe8-4fd2-8c65-bd7985dbced0",
   "metadata": {},
   "source": [
    "3. Verify the Rank-Nullity Theorem for standard matrices found in problem 2, if they exist.\n",
    "   \n",
    "**Solution:**\n",
    "\n",
    "From the Rank-Nullity theorem, we know $dim(col(A)) = $ the number of pivot columns in A and $dim(null(A)) = $ the number of non-pivot columns in A. To find these, we will need to put the standard matrices into RREF."
   ]
  },
  {
   "cell_type": "code",
   "execution_count": 84,
   "id": "eba57a51-5618-48f4-8952-2477e15ba318",
   "metadata": {},
   "outputs": [
    {
     "data": {
      "text/plain": [
       "array([[ 1.        ,  0.        , -2.09090909],\n",
       "       [ 0.        ,  1.        , -0.36363636]])"
      ]
     },
     "execution_count": 84,
     "metadata": {},
     "output_type": "execute_result"
    }
   ],
   "source": [
    "# a\n",
    "\n",
    "STD_T1 = np.array([[1, -3, -1],[3, 2, -7]])\n",
    "STD_T1_1 = replace(STD_T1, 1, 0, -3)\n",
    "STD_T1_2 = scale(STD_T1_1, 1, 1/11)\n",
    "STD_T1_3 = replace(STD_T1_2, 0, 1, 3)\n",
    "STD_T1_3"
   ]
  },
  {
   "cell_type": "markdown",
   "id": "979dfaee-4799-4488-8579-24f4a9ef4a2a",
   "metadata": {},
   "source": [
    "Column 1 and 2 are pivots columns, while the third column is not. Therefore, $dim(col(A)) + dim(null(A)) = 2 + 1 = 3 = n$."
   ]
  },
  {
   "cell_type": "code",
   "execution_count": 85,
   "id": "bf132000-4d9c-4be9-a1b4-bf963f20b61e",
   "metadata": {},
   "outputs": [
    {
     "data": {
      "text/plain": [
       "array([[1., 0.],\n",
       "       [0., 1.],\n",
       "       [0., 0.]])"
      ]
     },
     "execution_count": 85,
     "metadata": {},
     "output_type": "execute_result"
    }
   ],
   "source": [
    "# c\n",
    "\n",
    "STD_T3 = np.array([[1, 0],[1, 1],[0, 1]])\n",
    "STD_T3_1 = replace(STD_T3, 1, 0, -1)\n",
    "STD_T3_2 = replace(STD_T3_1, 2, 1, -1)\n",
    "STD_T3_2"
   ]
  },
  {
   "cell_type": "markdown",
   "id": "03a3f199-3230-4c82-9af8-1283cadcf667",
   "metadata": {},
   "source": [
    "Column 1 and 2 are pivots columns. Therefore, $dim(col(A)) + dim(null(A)) = 2 + 0 = 2 = n$."
   ]
  },
  {
   "cell_type": "markdown",
   "id": "3901697a-c57b-4990-b1dc-9a66316e1d8d",
   "metadata": {},
   "source": [
    "## Eigenvalues and Eigenvectors Solutions"
   ]
  },
  {
   "cell_type": "markdown",
   "id": "d0e809fb-377d-4dd8-abab-9936cc3f9a96",
   "metadata": {},
   "source": [
    "1. Find the eigenvalues of $A = \\begin{bmatrix} 0 & 4 & 8\\\\ 0 & 3 & 0\\\\ 2 & 7 & 4\\\\ \\end{bmatrix}$ and their multiplicities.\n",
    "\n",
    "**Solution:**"
   ]
  },
  {
   "cell_type": "code",
   "execution_count": 86,
   "id": "64a471ad-481f-4277-8aa5-89fd0e7bb48e",
   "metadata": {},
   "outputs": [
    {
     "data": {
      "text/plain": [
       "array([-2.47213595,  6.47213595,  3.        ])"
      ]
     },
     "execution_count": 86,
     "metadata": {},
     "output_type": "execute_result"
    }
   ],
   "source": [
    "#define the vector\n",
    "A = np.array([[0,4,8], [0, 3, 0], [2,7,4]])\n",
    "\n",
    "#eigenvalues of A\n",
    "eigenvalues = np.linalg.eigvals(A)\n",
    "eigenvalues"
   ]
  },
  {
   "cell_type": "markdown",
   "id": "1a005591-b8f8-484d-8160-7fce9910d294",
   "metadata": {},
   "source": [
    "The multiplicity of each eigenvalue is 1, as they only appear once in the array."
   ]
  },
  {
   "cell_type": "markdown",
   "id": "a9f3829b-db58-4b97-830d-4d19850f0a0b",
   "metadata": {},
   "source": [
    "2. For each eigenvalue in part 1 find the corresponding eigenspace.\n",
    "   \n",
    "**Solution:**\n",
    "\n",
    "$E_{-2.47213595} = Null(\\begin{bmatrix} {0+2.47213595} & 4 & 8\\\\ 0 & {3+2.47213595} & 0\\\\ 2 & 7 & {4+2.47213595}\\\\ \\end{bmatrix}) = Null(\\begin{bmatrix} {2.47213595} & 4 & 8\\\\ 0 & {5.47213595} & 0\\\\ 2 & 7 & {6.47213595}\\\\ \\end{bmatrix})$\n",
    "\n",
    "$E_{6.47213595} = Null(\\begin{bmatrix} {0-6.47213595} & 4 & 8\\\\ 0 & {3-6.47213595} & 0\\\\ 2 & 7 & {4-6.47213595}\\\\ \\end{bmatrix}) = Null(\\begin{bmatrix} {-6.47213595} & 4 & 8\\\\ 0 & {-3.47213595} & 0\\\\ 2 & 7 & {-2.47213595}\\\\ \\end{bmatrix})$\n",
    "\n",
    "$E_{3} = Null(\\begin{bmatrix} {0-3} & 4 & 8\\\\ 0 & {3-3} & 0\\\\ 2 & 7 & {4-3}\\\\ \\end{bmatrix}) = Null(\\begin{bmatrix} {-3} & 4 & 8\\\\ 0 & {0} & 0\\\\ 2 & 7 & {1}\\\\ \\end{bmatrix})$"
   ]
  },
  {
   "cell_type": "markdown",
   "id": "95243712-c658-44d4-b594-73810334a29d",
   "metadata": {},
   "source": [
    "3. Find the dimension of each eigenspace in part 2 by finding a basis for it.\n",
    "   \n",
    "**Solution:**\n",
    "\n",
    "Basis for $E_{-2.47213595} :$ There is no basis, as the null space is just the zero vector.\n",
    "\n",
    "Basis for $E_{6.47213595} :$ There is no basis, as the null space is just the zero vector.\n",
    "\n",
    "Basis for $E_3: \\left\\{ \\ \\begin{bmatrix} {52/29} \\\\ {-19/29} \\\\ {1} \\end{bmatrix}   \\  \\right\\}\n",
    "$"
   ]
  },
  {
   "cell_type": "markdown",
   "id": "7fb51426-c4db-47ed-a297-55466b700d46",
   "metadata": {},
   "source": [
    "## Orthoganality Solutions"
   ]
  },
  {
   "cell_type": "markdown",
   "id": "4193bb02-dcd9-4f98-8e56-0da128ef3fc8",
   "metadata": {},
   "source": [
    "1. Check if $\\vec{u}$ and $\\vec{v}$ are orthogonal:\n",
    "\n",
    "    a. $\\vec{u} = \\begin{bmatrix} 6\\\\ 2\\\\ 3\\\\ 1\\\\ \\end{bmatrix}$ and $\\vec{v} = \\begin{bmatrix} 2\\\\ -12\\\\ 3\\\\ 3\\\\ \\end{bmatrix}$\n",
    "\n",
    "    b. $\\vec{u} = \\begin{bmatrix} 7\\\\ {-3}\\\\ {-2}\\\\ \\end{bmatrix}$ and $\\vec{v} = \\begin{bmatrix} 2\\\\ 7\\\\ {-3}\\\\ \\end{bmatrix}$\n",
    "   \n",
    "**Solution:**"
   ]
  },
  {
   "cell_type": "code",
   "execution_count": 87,
   "id": "598314c5-b818-495d-b297-8090f4ae3e8e",
   "metadata": {},
   "outputs": [
    {
     "data": {
      "text/plain": [
       "0"
      ]
     },
     "execution_count": 87,
     "metadata": {},
     "output_type": "execute_result"
    }
   ],
   "source": [
    "# a\n",
    "u = np.array([6, 2, 3, 1]) #In this case, we use standard arrays to conform to how np.dot is defined\n",
    "v = np.array([2, -12, 3, 3])\n",
    "uv = np.dot(u,v)\n",
    "uv"
   ]
  },
  {
   "cell_type": "markdown",
   "id": "b9636329-e4b0-4af6-9464-a070a9d8c79e",
   "metadata": {},
   "source": [
    "The dot product of $\\vec{u}$ and $\\vec{v}$ is $0$, so $\\vec{u}$ and $\\vec{v}$ are orthogonal."
   ]
  },
  {
   "cell_type": "code",
   "execution_count": 88,
   "id": "7663fc37-4d4d-4d05-83cf-9c3eb1e0a7fd",
   "metadata": {},
   "outputs": [
    {
     "data": {
      "text/plain": [
       "-1"
      ]
     },
     "execution_count": 88,
     "metadata": {},
     "output_type": "execute_result"
    }
   ],
   "source": [
    "# b\n",
    "u = np.array([7, -3, -2]) #In this case, we use standard arrays to conform to how np.dot is defined\n",
    "v = np.array([2, 7, -3])\n",
    "uv = np.dot(u,v)\n",
    "uv"
   ]
  },
  {
   "cell_type": "markdown",
   "id": "d7677614-28bf-4e3a-9c5c-6f0b30b32bec",
   "metadata": {},
   "source": [
    "The dot product of $\\vec{u}$ and $\\vec{v}$ is NOT $0$, so $\\vec{u}$ and $\\vec{v}$ are NOT orthogonal."
   ]
  },
  {
   "cell_type": "markdown",
   "id": "22050c09-f70c-49cb-b7bc-8bf3f6030a34",
   "metadata": {},
   "source": [
    "2. Suppose \n",
    "\n",
    "$\\vec{y} = \\begin{bmatrix} 7 \\\\ 9 \\end{bmatrix}$ and $\\vec{u} = \\begin{bmatrix} -1 \\\\ -2 \\end{bmatrix}.$\n",
    "\n",
    "Compute the $\\text{proj}_{\\vec{u}}(\\vec{y})$ and the component of $\\vec{y}$ orthogonal to $\\vec{u}$ \n",
    "   \n",
    "**Solution:**"
   ]
  },
  {
   "cell_type": "code",
   "execution_count": 89,
   "id": "7013ec7b-26b9-4001-aa1f-6de9eceed5d5",
   "metadata": {},
   "outputs": [
    {
     "name": "stdout",
     "output_type": "stream",
     "text": [
      "the projection of y onto u is  [ 5. 10.]\n",
      "the component of y orthogonal to u is [ 2. -1.]\n"
     ]
    }
   ],
   "source": [
    "# setup vectors\n",
    "\n",
    "y = np.array([7,9])\n",
    "\n",
    "u = np.array([-1,-2])\n",
    "\n",
    "# projection of y onto u\n",
    "\n",
    "proj_y_u = (np.dot(y,u)/ np.dot(u,u))* u\n",
    "print( \"the projection of y onto u is \", proj_y_u) \n",
    "\n",
    "z = y - proj_y_u\n",
    "\n",
    "print(\"the component of y orthogonal to u is\", z )"
   ]
  },
  {
   "cell_type": "markdown",
   "id": "7b66a801-0b58-419e-903e-e0d8ea1d64aa",
   "metadata": {},
   "source": [
    "Now we can plot $\\text{proj}_{\\vec{u}}(\\vec{y})$ and the component of $y$ orthogonal to $u$ in the $xy$-plane."
   ]
  },
  {
   "cell_type": "code",
   "execution_count": 90,
   "id": "f8d3fa51-8985-4b1b-9356-c1f136a975ce",
   "metadata": {},
   "outputs": [
    {
     "data": {
      "image/png": "[encoded data removed]",
      "text/plain": [
       "<Figure size 640x480 with 1 Axes>"
      ]
     },
     "metadata": {},
     "output_type": "display_data"
    }
   ],
   "source": [
    "# Plot the coordinates in two separate plots\n",
    "fig, ax = plt.subplots()\n",
    "\n",
    "figsize=(20, 10)\n",
    "\n",
    "# vector y\n",
    "ax.quiver(0, 0, 7, 9, angles='xy', scale_units='xy', scale=1, color='blue', label ='y')\n",
    "ax.text(7.1,9.1,'$y$')\n",
    "\n",
    "# vector u\n",
    "ax.quiver(0, 0, -1, -2, angles='xy', scale_units='xy', scale=1, color='black')\n",
    "ax.text(-1.1,-2.5,'$u$')\n",
    "\n",
    "# orthogonal projection p\n",
    "ax.quiver(0, 0, 5, 10, angles='xy', scale_units='xy', scale=1, color='red')\n",
    "ax.text(5.1,10.3,'$p$')\n",
    "\n",
    "# vector z\n",
    "ax.quiver(0, 0, 2, -1, angles='xy', scale_units='xy', scale=1, color='green')\n",
    "ax.text(2.1,-1.2,'$z = y - p$')\n",
    "\n",
    "# A copy of vector z starting at the end of vector p\n",
    "ax.quiver(5, 10, 2, -1, angles='xy', scale_units='xy', scale=1, color='green')\n",
    "\n",
    "\n",
    "ax.set_xlim([-2, 10])\n",
    "ax.set_ylim([-3, 12])\n",
    "ax.set_aspect('equal')\n",
    "ax.axhline(y=0, color='black', linestyle='--', linewidth=0.5)\n",
    "ax.axvline(x=0, color='black', linestyle='--', linewidth=0.5)\n",
    "\n",
    "ax.set_title('y = p + z')\n",
    "\n",
    "\n",
    "plt.show()"
   ]
  },
  {
   "cell_type": "markdown",
   "id": "b66cf2cd-e708-431d-9379-8a751f30eb4e",
   "metadata": {},
   "source": [
    "3. Suppose \n",
    "\n",
    "$$\n",
    "\\vec{u} _1 = \\begin{bmatrix} -2\\\\ 3\\\\ 7\\\\ -1\\\\ \\end{bmatrix},\n",
    "$$\n",
    "\n",
    "$$\n",
    "\\vec{u}_2 = \\begin{bmatrix} 2\\\\ -2\\\\ 0\\\\ 4\\\\ \\end{bmatrix},\n",
    "$$ \n",
    "\n",
    "$W = \\text{span} (\\vec{u}_1, \\vec{u}_2)$ and \n",
    "\n",
    "$$\n",
    "\\vec{y} = \\begin{bmatrix} 4 \\\\ 2 \\\\ 3 \\\\ 1\\\\ \\end{bmatrix}.\n",
    "$$\n",
    "\n",
    "Compute the $\\text{proj}_{W}(\\vec{y})$ and the component of $\\vec{y}$ orthogonal to $\\vec{u}.$ \n",
    "\n",
    "**Solution:**"
   ]
  },
  {
   "cell_type": "code",
   "execution_count": 91,
   "id": "bceb2bc8-faeb-4173-a902-d0fee71a7193",
   "metadata": {},
   "outputs": [
    {
     "name": "stdout",
     "output_type": "stream",
     "text": [
      "The projection of y onto W is  [-0.13492063  0.45238095  2.22222222  0.68253968] \n",
      "\n",
      "The component of y orthogonal to u is [3.13492063 1.54761905 0.77777778 0.31746032]\n"
     ]
    }
   ],
   "source": [
    "# setup vectors\n",
    "\n",
    "u1 = np.array([-2,3,7,-1])\n",
    "\n",
    "u2 = np.array([2,-2,0,4])\n",
    "\n",
    "y = np.array([3,2,3,1])\n",
    "\n",
    "# projection of y onto W\n",
    "\n",
    "proj_y_W = (np.dot(y,u1)/ np.dot(u1,u1))* u1  +  (np.dot(y,u2)/ np.dot(u2,u2))* u2\n",
    "\n",
    "print( \"The projection of y onto W is \", proj_y_W, '\\n') \n",
    "\n",
    "# component of y orthogonal to p\n",
    "z = y - proj_y_W\n",
    "\n",
    "print(\"The component of y orthogonal to u is\", z )"
   ]
  },
  {
   "cell_type": "markdown",
   "id": "3f530bc4-b454-4ec0-b071-6e2f817b9fca",
   "metadata": {},
   "source": [
    "4. Find a least-squares solution of the inconsistent system $A\\vec{x} = \\vec{b}$ for\n",
    "\n",
    "   $$\n",
    "   A = \\begin{bmatrix} {1} & {2} & {4}\\\\ {1} & {-2} & {4}\\\\ \\end{bmatrix} \\text{ and } \\vec{b} = \\begin{bmatrix} 3\\\\ 4\\\\ \\end{bmatrix}\n",
    "   $$\n",
    "\n",
    "**Solution:**"
   ]
  },
  {
   "cell_type": "code",
   "execution_count": 92,
   "id": "0cf4ad27-5558-4d0b-be24-d07c4bb8e6a9",
   "metadata": {},
   "outputs": [
    {
     "name": "stdout",
     "output_type": "stream",
     "text": [
      "A^TA = \n",
      " [[ 2  0  8]\n",
      " [ 0  8  0]\n",
      " [ 8  0 32]]\n",
      "\n",
      " A^Tb = \n",
      " [[ 7]\n",
      " [-2]\n",
      " [28]]\n"
     ]
    }
   ],
   "source": [
    "#First, set up a normal equation for Ax=b and find a solution for it\n",
    "\n",
    "A = np.array([[1,2,4], [1,-2,4]])\n",
    "\n",
    "b = np.array([[3], [4]])\n",
    "\n",
    "# compute A^TA\n",
    "ATA = A.transpose() @ A \n",
    "\n",
    "print(\"A^TA = \\n\", ATA)\n",
    "\n",
    "# compute A^Tb\n",
    "ATb = A.transpose() @ b \n",
    "\n",
    "print(\"\\n A^Tb = \\n\", ATb)"
   ]
  },
  {
   "cell_type": "markdown",
   "id": "25778007-9675-4878-baf4-f6902e61903f",
   "metadata": {},
   "source": [
    "Thus, the normal equation is\r",
    "\r",
    "$$\n",
    "\\begin{bmatrix} {2} & {0} & {8}\\\\ {0} & {8} & {0}\\\\ {8} & {0} & {32}\\\\ \\end{bmatrix} \\begin{bmatrix} {x_1}\\\\ {x_2}\\\\ {x_3}\\\\ \\end{bmatrix} = \\begin{bmatrix} {7}\\\\ {-2}\\\\ {28}\\\\ \\end{bmatrix}\n",
    "$$ \r\n",
    " \r\n",
    " \r\n",
    "To solve this equation we form its augmented  and use row operationsmatrix:"
   ]
  },
  {
   "cell_type": "code",
   "execution_count": 93,
   "id": "b0d2abb5-e972-4d83-9371-d96ef59a4a6a",
   "metadata": {},
   "outputs": [
    {
     "data": {
      "text/plain": [
       "array([[ 2,  0,  8,  7],\n",
       "       [ 0,  8,  0, -2],\n",
       "       [ 8,  0, 32, 28]])"
      ]
     },
     "execution_count": 93,
     "metadata": {},
     "output_type": "execute_result"
    }
   ],
   "source": [
    "#augmented \n",
    "M = np.concatenate((ATA, ATb), axis=1)\n",
    "M"
   ]
  },
  {
   "cell_type": "code",
   "execution_count": 94,
   "id": "91d2cd76-c4bf-435c-a108-1b6371f3045e",
   "metadata": {},
   "outputs": [
    {
     "data": {
      "text/plain": [
       "array([[ 1.  ,  0.  ,  4.  ,  3.5 ],\n",
       "       [ 0.  ,  1.  ,  0.  , -0.25],\n",
       "       [ 0.  ,  0.  ,  0.  ,  0.  ]])"
      ]
     },
     "execution_count": 94,
     "metadata": {},
     "output_type": "execute_result"
    }
   ],
   "source": [
    "M1 = replace(M, 2, 0, -4)\n",
    "M2 = scale(M1, 1, 1/8)\n",
    "M3 = scale(M2, 0, 1/2)\n",
    "M3"
   ]
  },
  {
   "cell_type": "markdown",
   "id": "acf56810-1f8d-490d-af23-a41e31d7990e",
   "metadata": {},
   "source": [
    "The general solution is $x_1 = \\frac{7}{2}-4x_3$, $x_2 = -\\frac{1}{4}$, and $x_3$ is a free parameter. The general least squares solution of $A\\vec{x} = \\vec{b}$ has the form:\n",
    "\n",
    "$$\n",
    "\\hat{x} = \\begin{bmatrix} {\\frac{7}{2}} \\\\ {-\\frac{1}{4}} \\\\ {0}\\\\ \\end{bmatrix} + x_3\\begin{bmatrix} {-4} \\\\ {0} \\\\ {1}\\\\ \\end{bmatrix}\n",
    "$$"
   ]
  }
 ],
 "metadata": {
  "kernelspec": {
   "display_name": "Python 3 (ipykernel)",
   "language": "python",
   "name": "python3"
  },
  "language_info": {
   "codemirror_mode": {
    "name": "ipython",
    "version": 3
   },
   "file_extension": ".py",
   "mimetype": "text/x-python",
   "name": "python",
   "nbconvert_exporter": "python",
   "pygments_lexer": "ipython3",
   "version": "3.11.7"
  }
 },
 "nbformat": 4,
 "nbformat_minor": 5
}
