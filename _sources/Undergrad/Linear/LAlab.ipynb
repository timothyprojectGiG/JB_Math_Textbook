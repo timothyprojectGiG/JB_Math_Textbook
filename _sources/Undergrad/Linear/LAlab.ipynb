{
 "cells": [
  {
   "cell_type": "markdown",
   "id": "939b0195-ce48-4894-aaf9-1c34b9b6bc0f",
   "metadata": {},
   "source": [
    "# Linear Algebra Lab"
   ]
  },
  {
   "cell_type": "markdown",
   "id": "8f0a6a16-073c-473c-8074-d9c9c8b29350",
   "metadata": {},
   "source": [
    "This lab was designed to cement skills the reader has become familiar with throughout the chapter. When appropriate, use Python Jupyter Notebooks to solve."
   ]
  },
  {
   "cell_type": "markdown",
   "id": "69e52ebe-71a1-4ebd-92df-54051ff48629",
   "metadata": {},
   "source": [
    "## Linear Systems"
   ]
  },
  {
   "cell_type": "markdown",
   "id": "66687929-9157-41d1-a70e-7f0f9b9ae28f",
   "metadata": {},
   "source": [
    "1. Put $A$ into RREF.\n",
    "\n",
    "$$\n",
    "A = \n",
    "\\begin{bmatrix}\n",
    "1 & 1 & 1 & 2\\\\\n",
    "2 & 3 & 1 & 3\\\\\n",
    "1 & -1 & -2 & -11\\\\\n",
    "\\end{bmatrix}\n",
    "$$\n",
    "\n",
    "2. Find the solution set of the following system of equations\n",
    "\n",
    "$$\n",
    "x - y + 3z = 0\n",
    "$$\n",
    "\n",
    "$$\n",
    "2x - y + 4z = 1\n",
    "$$\n",
    "\n",
    "$$\n",
    "-x + 2y - 4z = 2\n",
    "$$\n",
    "\n",
    "3. Determine if the following vectors form a linearly independent or a linearly dependent set:\n",
    "\n",
    "    a.\n",
    "\n",
    "$$\n",
    "\\vec{v_1} = \n",
    "\\begin{bmatrix} \n",
    "1\\\\2\\\\0\\\\\n",
    "\\end{bmatrix} + \\begin{bmatrix} \n",
    "3\\\\1\\\\5\\\\\n",
    "\\end{bmatrix} + \\begin{bmatrix} \n",
    "4\\\\2\\\\3\\\\\n",
    "\\end{bmatrix}\n",
    "$$\n",
    "\n",
    "    b.\n",
    "\n",
    "$$\n",
    "\\vec{v_2} = \n",
    "\\begin{bmatrix} \n",
    "1\\\\-4\\\\-2\\\\0\\\\\n",
    "\\end{bmatrix} + \\begin{bmatrix} \n",
    "-3\\\\12\\\\-6\\\\0\\\\\n",
    "\\end{bmatrix}\n",
    "$$\n",
    "\n",
    "4. Write the general solution of the linear system corresponding to augmented matrix $D$.\n",
    "\n",
    "$$\n",
    "A = \\begin{bmatrix}\n",
    "2 & 3 & 0 & 1\\\\\n",
    "2 & 4 & 2 & 2\\\\\n",
    "1 & 2 & 1 & 1\\\\\n",
    "\\end{bmatrix}\n",
    "$$"
   ]
  },
  {
   "cell_type": "markdown",
   "id": "79b7a43b-63f4-4ffc-9db4-5a813a86fc51",
   "metadata": {},
   "source": [
    "## Matrices and Determinants"
   ]
  },
  {
   "cell_type": "markdown",
   "id": "b31b1355-f557-464f-b1fd-104333e28cd4",
   "metadata": {},
   "source": [
    "1. Let $A = \\begin{bmatrix} 3 & 5\\\\ 0 & 2\\\\ 1 & 1\\\\ \\end{bmatrix}$, $B = \\begin{bmatrix} 2 & 2\\\\ 2 & 4\\\\\\end{bmatrix}$ and $C = \\begin{bmatrix}\n",
    "1 & 0 & 7\\\\ 0 & 6 & 0\\\\ 0 & 4 & 3\\\\ 2 & 0 & 1\\\\\n",
    "\\end{bmatrix}$. Find the following matrices, if they exist:\n",
    "\n",
    "    a. $CAB$\n",
    "\n",
    "    b. $AB$\n",
    "\n",
    "    c. $BCA$\n",
    "\n",
    "    d. $B^2$\n",
    "\n",
    "    e. $A^2$\n",
    "\n",
    "    f. $B^{-1}$\n",
    "\n",
    "    g. $C^{-1}$\n",
    "\n",
    "    h. $A^{t} C^{t}$\n",
    "\n",
    "2. Find the determinant and then the inverse of $A = \\begin{bmatrix} 7 & 6 & {54}\\\\ 0 & 3 & 6\\\\ 0 & 0 & 1\\\\ \\end{bmatrix}$. Prove $det(A^{-1}) = \\frac{1}{det(A)}$.\n",
    "\n",
    "3. Find the volume of the parallelepiped formed by vectors $\\begin{bmatrix} 1\\\\3\\\\0\\\\ \\end{bmatrix}$, $\\begin{bmatrix} 0\\\\2\\\\5\\\\ \\end{bmatrix}$ and $\\begin{bmatrix} 5\\\\2\\\\4\\\\ \\end{bmatrix}$. Are the points at the tips of the vector coplanar? Explain."
   ]
  },
  {
   "cell_type": "markdown",
   "id": "8233f5ec-81ad-4508-90b2-bd3af7053292",
   "metadata": {},
   "source": [
    "## Linear Transformations"
   ]
  },
  {
   "cell_type": "markdown",
   "id": "4b1c8cd2-f53b-40e2-9940-362dbd653108",
   "metadata": {},
   "source": [
    "1. Determine if the following transformations are linear. Explain why or why not.\n",
    "\n",
    "    a. $T(\\begin{bmatrix} x\\\\ y\\\\ z\\\\ \\end{bmatrix}) = \\begin{bmatrix} x - 3y - z\\\\ 3x + 2y - 7z\\\\ \\end{bmatrix}$\n",
    "\n",
    "    b. $T(\\begin{bmatrix} x\\\\ y\\\\ z\\\\ \\end{bmatrix}) = \\begin{bmatrix} x + y + z\\\\ 5z\\\\ x + 2\\\\ \\end{bmatrix}$\n",
    "\n",
    "    c. $T(\\begin{bmatrix} x\\\\ y\\\\ \\end{bmatrix}) = \\begin{bmatrix} x\\\\ x + y\\\\ y\\end{bmatrix}$\n",
    "\n",
    "2. Find standard matrices for any linear transformations found in part 1, if they exist.\n",
    "\n",
    "3. Prove the rank nullity theorem for standard matrices found in part 2, if they exist."
   ]
  },
  {
   "cell_type": "markdown",
   "id": "559f70b7-b3ce-4b9e-81e2-b2ceac2e6507",
   "metadata": {},
   "source": [
    "## Eigenvalues and Eigenvectors"
   ]
  },
  {
   "cell_type": "markdown",
   "id": "d45fd80a-0f72-4f60-8f56-5572534a176d",
   "metadata": {},
   "source": [
    "1. Find the eigenvalues of $A = \\begin{bmatrix} 0 & 4 & 8\\\\ 0 & 3 & 0\\\\ 2 & 7 & 4\\\\ \\end{bmatrix}$ and their multiplicities.\n",
    "\n",
    "2. For each eigenvalue in part 1 find the corresponding eigenspace.\n",
    "\n",
    "3. Find the dimension of each eigenspace in part 2 by finding a basis for it. How is this result related to your answer to part 1?"
   ]
  },
  {
   "cell_type": "markdown",
   "id": "a383de6f-3f0f-492b-83da-d7ab2e1043c5",
   "metadata": {},
   "source": [
    "## Orthogonality"
   ]
  },
  {
   "cell_type": "markdown",
   "id": "04386430-3342-4a0e-827e-d0f5c741fdcb",
   "metadata": {},
   "source": [
    "1. Check if $\\vec{u}$ and $\\vec{v}$ are orthogonal:\n",
    "\n",
    "    a. $\\vec{u} = \\begin{bmatrix} 6\\\\ 2\\\\ 3\\\\ 1\\\\ \\end{bmatrix}$ and $\\vec{v} = \\begin{bmatrix} 2\\\\ -12\\\\ 3\\\\ 3\\\\ \\end{bmatrix}$\n",
    "\n",
    "    b. $\\vec{u} = \\begin{bmatrix} 7\\\\ {-3}\\\\ {-2}\\\\ \\end{bmatrix}$ and $\\vec{v} = \\begin{bmatrix} 2\\\\ 7\\\\ {-3}\\\\ \\end{bmatrix}$\n",
    "\n",
    "2. Find the following: Orthogonal projections\n",
    "\n",
    "3. Find a least-squares solution of the inconsistent system $A\\vec{x} = \\vec{b}$ for\n",
    "\n",
    "   $$\n",
    "   A = \\begin{bmatrix} {1} & {2} & {4}\\\\ {1} & {-2} & {4}\\\\ \\end{bmatrix} \\text{ and } \\vec{b} \\begin{bmatrix} 3\\\\ 4\\\\ \\end{bmatrix}\n",
    "   $$ \r\n"
   ]
  }
 ],
 "metadata": {
  "kernelspec": {
   "display_name": "Python 3 (ipykernel)",
   "language": "python",
   "name": "python3"
  },
  "language_info": {
   "codemirror_mode": {
    "name": "ipython",
    "version": 3
   },
   "file_extension": ".py",
   "mimetype": "text/x-python",
   "name": "python",
   "nbconvert_exporter": "python",
   "pygments_lexer": "ipython3",
   "version": "3.11.7"
  }
 },
 "nbformat": 4,
 "nbformat_minor": 5
}
