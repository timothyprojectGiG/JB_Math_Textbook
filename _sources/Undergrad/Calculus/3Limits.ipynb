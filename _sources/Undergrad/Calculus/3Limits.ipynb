{
 "cells": [
  {
   "cell_type": "markdown",
   "id": "2677bc5f-1077-4386-9b3f-5fcafcc93f59",
   "metadata": {},
   "source": [
    "# Limits, Continuity, and Rates"
   ]
  },
  {
   "cell_type": "markdown",
   "id": "d0176ae4-d442-477d-b1a3-a4bd2f94107a",
   "metadata": {},
   "source": [
    ":::{note}\n",
    "Below is the list of topics that are covered in this section:\n",
    "- Limits\n",
    "- Continuity\n",
    "- Measures of Change over an Interval\n",
    "- Measures of Change at a Point\n",
    "- Secant and Tangent Lines\n",
    ":::"
   ]
  },
  {
   "cell_type": "markdown",
   "id": "e42a53a7",
   "metadata": {},
   "source": [
    "::::{only} latex\n",
    ":::{note}\n",
    "Please visit {{ '[the web version of this section]({website}/{path}.html)'.format(website=web_ver_url, path=env.docname) }} to engage with this interactive resource.\n",
    ":::\n",
    "::::"
   ]
  },
  {
   "cell_type": "code",
   "execution_count": 1,
   "id": "a001aaee",
   "metadata": {},
   "outputs": [],
   "source": [
    "import sympy as sp\n",
    "from scipy.optimize import fsolve\n",
    "import numpy as np\n",
    "import matplotlib.pyplot as plt\n",
    "import math"
   ]
  },
  {
   "cell_type": "markdown",
   "id": "2f6dd57d",
   "metadata": {},
   "source": [
    "```{index} limits\n",
    "```"
   ]
  },
  {
   "cell_type": "markdown",
   "id": "99f6e803-de3a-4af7-8c96-dd6a053eb830",
   "metadata": {},
   "source": [
    "## Limits"
   ]
  },
  {
   "cell_type": "markdown",
   "id": "d6235f68-6ec3-4962-b64b-dfa2c92b20d8",
   "metadata": {},
   "source": [
    "In the previous section, while talking about behaviors of some common functions, we saw the phrase \"$f(x)$ goes to $\\infty$ as $x$ goes to $\\infty$\".\n",
    "\n",
    "This phrase describes how the output of a function behaves as the input is **approaching** something and can be written using **limit** notation: $\\lim\\limits_{x\\to\\infty}f(x)=\\infty$."
   ]
  },
  {
   "cell_type": "markdown",
   "id": "a7ac79ea-0444-405b-9a08-2d657ffb63f0",
   "metadata": {},
   "source": [
    "The keyword here is \"approaching\". The input is not equal to a certain point, it is approaching it.\n",
    "\n",
    "We say that the **limit** of $f(x)$ is $L$ as $x$ approaches $a$ and write this as $\\lim\\limits_{x\\to a}f(x)=L$ provided we can make $f(x)$ as close to $L$ as needed for all $x$ sufficiently close to $a$, from both sides, without actually letting $x$ be $a$.\n",
    "\n",
    "$\\lim\\limits_{x\\to a}f(x)=L$ can also alternatively be written as $f(x) \\to L \\text{  as  } x\\to a$."
   ]
  },
  {
   "cell_type": "markdown",
   "id": "e8e37482-6254-4343-ad26-5e27126cddff",
   "metadata": {},
   "source": [
    "The phrase \"from both sides\" refer to the **Left-hand limits** and **Right-hand limits**.\n",
    "\n",
    "For function $f$ defined on an interval containing a constant $a$ (except possibly at $a$ itself):\n",
    "- Left-hand limit of $f$ as $x$ approaches $a$ from the left is written $\\lim\\limits_{x\\to a^-}f(x)=L_1$\n",
    "- Right-hand limit of $f$ as $x$ approaches $a$ from the right is written $\\lim\\limits_{x\\to a^+}f(x)=L_2$\n",
    "\n",
    "Here $a^-$ denotes \"to the left of $a$ and $a^+$ denotes \"to the right of $a$.\n",
    "\n",
    "By definition, for function $f$ defined on an interval containing a constant $a$ (except possibly at $a$ itself), the limit of $f$ as $x$ approaches $a$ exists if and only if $\\lim\\limits_{x\\to a^-}f(x)=\\lim\\limits_{x\\to a^+}f(x)=L$, and hence written $\\lim\\limits_{x\\to a}f(x)=L$"
   ]
  },
  {
   "cell_type": "markdown",
   "id": "25c34ffb-9382-4339-853e-c69f63375e42",
   "metadata": {},
   "source": [
    ":::{admonition} Example 1\n",
    "\n",
    "Given the graph of $f(x)$ below:\n",
    "\n",
    "<img src=\"3LCR1.png\" width=\"250px\">\n",
    "\n",
    "- $\\lim\\limits_{x\\to 0^-}f(x)=0$ while $\\lim\\limits_{x\\to 0^+}f(x)=0$ hence $\\lim\\limits_{x\\to 0}f(x)=0$.\n",
    "- $\\lim\\limits_{x\\to 1^-}f(x)=1$ while $\\lim\\limits_{x\\to 1^+}f(x)=2$ hence $\\lim\\limits_{x\\to 1}f(x)$ does not exists.\n",
    "\n",
    "Note that when looking for limits as $x$ approaching $0$ or $1$, it never mattered what $f(0)$ or $f(1)$ is, as we only see the values to the left and right of those points.\n",
    ":::"
   ]
  },
  {
   "cell_type": "markdown",
   "id": "085f438a-8f7a-4111-ac3a-ee96b6df4f2f",
   "metadata": {},
   "source": [
    "Below is a code example that prompt user for a function $f(x)$ and a constant $a$, and then return $\\lim\\limits_{x\\to a}f(x)=L$."
   ]
  },
  {
   "cell_type": "code",
   "execution_count": 6,
   "id": "c8468508-aa8f-4f60-a320-d2b78effe6bb",
   "metadata": {
    "tags": [
     "hide-input"
    ]
   },
   "outputs": [
    {
     "name": "stdin",
     "output_type": "stream",
     "text": [
      "Enter the function f(x):  4*sin(x)\n",
      "Enter the constant a:  3.8\n"
     ]
    },
    {
     "name": "stdout",
     "output_type": "stream",
     "text": [
      "The limit of f(x) as x approaches 3.8 is: -2.44743156377088\n"
     ]
    }
   ],
   "source": [
    "# Prompt the user to input the function f(x) and the constant a\n",
    "expression_str = input(\"Enter the function f(x): \")\n",
    "a = float(input(\"Enter the constant a: \"))\n",
    "\n",
    "# Define the variable x and the function f(x)\n",
    "x = sp.symbols('x')\n",
    "f_x = sp.sympify(expression_str)\n",
    "\n",
    "# Calculate the limit of f(x) as x approaches a\n",
    "limit_result = sp.limit(f_x, x, a)\n",
    "\n",
    "# Print the result\n",
    "print(\"The limit of f(x) as x approaches\", a, \"is:\", limit_result)"
   ]
  },
  {
   "cell_type": "markdown",
   "id": "3a30a4e3-bfbc-4265-9eb6-420f0d4af738",
   "metadata": {},
   "source": [
    "#### Limit Properties"
   ]
  },
  {
   "cell_type": "markdown",
   "id": "b683f78d-723a-40b8-98cc-559428ae8cf9",
   "metadata": {},
   "source": [
    "Assuming $\\lim\\limits_{x\\to a}f(x)$ and $\\lim\\limits_{x\\to a}g(x)$ exists and $c$ is any constant. Then:\n",
    "- $\\lim\\limits_{x\\to a}\\left[c\\cdot f(x)\\right]=c\\cdot \\lim\\limits_{x\\to a}f(x)$\n",
    "- $\\lim\\limits_{x\\to a}\\left[f(x) \\pm g(x)\\right]=\\lim\\limits_{x\\to a}f(x) \\pm \\lim\\limits_{x\\to a}g(x)$\n",
    "- $\\lim\\limits_{x\\to a}\\left[f(x) \\cdot g(x)\\right]=\\lim\\limits_{x\\to a}f(x) \\cdot \\lim\\limits_{x\\to a}g(x)$ \n",
    "- $\\lim\\limits_{x\\to a}\\left[\\dfrac{f(x)}{g(x)}\\right]= \\frac{\\lim\\limits_{x\\to a}f(x)}{\\lim\\limits_{x\\to a}g(x)}$, provided $\\lim\\limits_{x\\to a}g(x)\\neq 0$\n",
    "- $\\lim\\limits_{x\\to a}\\left[f(x)\\right]^n=\\left[\\lim\\limits_{x\\to a}f(x)\\right]^n$\n",
    "- $\\lim\\limits_{x\\to a} c=c$\n",
    "- $\\lim\\limits_{x\\to a} x=a$"
   ]
  },
  {
   "cell_type": "markdown",
   "id": "1517c867",
   "metadata": {},
   "source": [
    "```{index} continuity\n",
    "```"
   ]
  },
  {
   "cell_type": "markdown",
   "id": "e7f6f68b-9852-46cc-a6c3-b2c9c45beb46",
   "metadata": {},
   "source": [
    "## Continuity"
   ]
  },
  {
   "cell_type": "markdown",
   "id": "312df0f0-7448-45a3-9633-9a634e3c4070",
   "metadata": {},
   "source": [
    "Graphically, a function is **continuous** if it can be drawn without lifting the writing utensil from the paper.\n",
    "\n",
    "Mathematically, a function $f$ is **continuous at $\\boldsymbol{x=a}$** if and only if the following three conditions are satisfied:\n",
    "- $f(a)$ exists\n",
    "- $\\lim\\limits_{x\\to a}f(x)$ exists\n",
    "- $\\lim\\limits_{x\\to a}f(x)=f(a)$\n",
    "\n",
    "A function is **continuous on an interval** if these three conditions are met for every input value in the interval."
   ]
  },
  {
   "cell_type": "markdown",
   "id": "3fe84ae4-5e62-4cf5-a24e-7c63d107a00d",
   "metadata": {},
   "source": [
    "**Fact:** If $\\lim\\limits_{x\\to a}g(x)=b$ and $f(x)$ is continuous at $x=b$, then $\\lim\\limits_{x\\to a}f(g(x))=f\\left(\\lim\\limits_{x\\to a}g(x)\\right)$."
   ]
  },
  {
   "cell_type": "markdown",
   "id": "ed720db4-126b-4aa1-9869-c2a1aaee315a",
   "metadata": {},
   "source": [
    ":::{admonition} Example\n",
    "Evaluate $\\lim\\limits_{x\\to 0}e^{\\cos(x)}$.\n",
    "\n",
    "The function $\\cos(x)$ is continuous at $x=0$ since $\\cos(0)=\\lim\\limits_{x\\to 0^-}\\cos(x)=\\lim\\limits_{x\\to 0^+}\\cos(x)=1$.\n",
    "\n",
    "Hence $\\lim\\limits_{x\\to 0}e^{\\cos(x)}=e^{\\left(\\lim\\limits_{x\\to 0}\\cos(x)\\right)}=e^1=e$. Of course, this can easily be checked using the code.\n",
    ":::"
   ]
  },
  {
   "cell_type": "code",
   "execution_count": 10,
   "id": "a9728f7e-99f5-486f-8b2e-69f47e0a36f0",
   "metadata": {
    "tags": [
     "hide-input"
    ]
   },
   "outputs": [
    {
     "name": "stdout",
     "output_type": "stream",
     "text": [
      "The limit of e^(cos(x)) as x approaches 0 is: E\n"
     ]
    }
   ],
   "source": [
    "# Define the variable x\n",
    "x = sp.symbols('x')\n",
    "\n",
    "# Define the function e^(cos(x))\n",
    "f_x = sp.exp(sp.cos(x))\n",
    "\n",
    "# Calculate the limit of e^(cos(x)) as x approaches 0\n",
    "limit_result = sp.limit(f_x, x, 0)\n",
    "\n",
    "# Print the result\n",
    "print(\"The limit of e^(cos(x)) as x approaches 0 is:\", limit_result)"
   ]
  },
  {
   "cell_type": "markdown",
   "id": "f967e87f-9fd9-4e50-a684-51ec51536e22",
   "metadata": {},
   "source": [
    "#### Intermediate Value Theorem"
   ]
  },
  {
   "cell_type": "markdown",
   "id": "9db1eb27",
   "metadata": {},
   "source": [
    "```{index} Intermediate Value Theorem\n",
    "```"
   ]
  },
  {
   "cell_type": "markdown",
   "id": "a8b79ad6-3de4-47b0-890b-ffc54596d64a",
   "metadata": {},
   "source": [
    "Suppose that $f(x)$ is continuous on $[a,b]$ and let $M$ be any number between $f(a)$ and $f(b)$. Then there exists a constant $c$ such that $a<c<b$ and $f(c)=M$."
   ]
  },
  {
   "cell_type": "markdown",
   "id": "1b168185-3eda-4a5e-adc1-b6bb9346f01e",
   "metadata": {},
   "source": [
    ":::{admonition} Example\n",
    "Show that the function $f(x)=x^3+2x^2-0.3$ has a zero in the interval $[0,1]$.\n",
    "\n",
    "Since $f(x)$ is a polynomial, it is continuous everywhere. $f(0)=-0.3$ and $f(1)=2.7$.\n",
    "\n",
    "Since $0$ is between $-0.3$ and $2.7$, then by the Intermediate Value Theorem, there is a constant $c$ between $0$ and $1$ such that $f(c)=0$, that is, $c$ is a zero of $f(x)$ on $[0,1]$.\n",
    ":::"
   ]
  },
  {
   "cell_type": "markdown",
   "id": "a5029eb7-b231-4493-b1fe-6d050d653c61",
   "metadata": {},
   "source": [
    "This theorem can be useful for computationally expensive functions.\n",
    "Otherwise, with the help of any calculating tools, it is quite simple to just find all the zeros of a given function in a given interval.\n",
    "Below is a code example that prompts the user for $f(x)$ and interval $[a,b]$, and then returns the zeroes located in $[a,b]$."
   ]
  },
  {
   "cell_type": "code",
   "execution_count": 17,
   "id": "ce547121-a351-40b5-8040-e42b1a526103",
   "metadata": {
    "tags": [
     "hide-input"
    ]
   },
   "outputs": [
    {
     "name": "stdin",
     "output_type": "stream",
     "text": [
      "Enter the function f(x):  x**3+2*x**2-0.3\n",
      "Enter the lower bound of the interval (a):  -4\n",
      "Enter the upper bound of the interval (b):  1\n"
     ]
    },
    {
     "name": "stdout",
     "output_type": "stream",
     "text": [
      "Zeros of the function within the interval [a, b]: {-0.438, 0.357, -1.918}\n"
     ]
    }
   ],
   "source": [
    "# Prompt the user to input the function f(x)\n",
    "expression_str = input(\"Enter the function f(x): \")\n",
    "f_x = lambda x: eval(expression_str)\n",
    "\n",
    "# Prompt the user to input the interval [a, b]\n",
    "a = float(input(\"Enter the lower bound of the interval (a): \"))\n",
    "b = float(input(\"Enter the upper bound of the interval (b): \"))\n",
    "\n",
    "# Define a function to check if a value is within the interval [a, b]\n",
    "def within_interval(x):\n",
    "    return a <= x <= b\n",
    "\n",
    "# Find all the zeros of the function within the interval [a, b]\n",
    "zeros = set()\n",
    "tolerance = 1e-6  # Adjust the tolerance as needed\n",
    "for x0 in range(int(a), int(b)+1):\n",
    "    zero = fsolve(f_x, x0)\n",
    "    if within_interval(zero) and abs(zero) > tolerance:\n",
    "        zeros.add(round(zero[0], 3))  # Round to three decimal places\n",
    "\n",
    "# Print the zeros within the interval\n",
    "print(\"Zeros of the function within the interval [a, b]:\", zeros)"
   ]
  },
  {
   "cell_type": "markdown",
   "id": "ba842b24-2393-4010-8875-9f4e026e1851",
   "metadata": {},
   "source": [
    "## Measures of Change over an Interval"
   ]
  },
  {
   "cell_type": "markdown",
   "id": "cda9fa54",
   "metadata": {},
   "source": [
    "```{index} average rate of change\n",
    "```"
   ]
  },
  {
   "cell_type": "markdown",
   "id": "fb949717-8735-4b9f-89e3-4ba8213a1b54",
   "metadata": {},
   "source": [
    "If $x_1$ and $x_2$ are input values for the function $f$ and $x_1<x_2$, then:\n",
    "- the **change** in $f$ from $x_1$ to $x_2$ is $f(x_2)-f(x_1)$\n",
    "  - what it calculates: between input $x_1$ and $x_2$, by how much does the output changes?\n",
    "    \n",
    "- the **percent change** in $f$ from $x_1$ to $x_2$ is $\\dfrac{f(x_2)-f(x_1)}{f(x_1)}\\cdot 100\\%$\n",
    "  - what it calculates: between input $x_1$ and $x_2$, by how many % does the output changes?\n",
    "    \n",
    "- the **average rate of change (aRoC)** in $f$ from $x_1$ to $x_2$ is $\\dfrac{f(x_2)-f(x_1)}{x_2-x_1}$\n",
    "  - what it calculates: between input $x_1$ and $x_2$, how fast does the output changes?  "
   ]
  },
  {
   "cell_type": "markdown",
   "id": "2eb6820a-6900-4f4c-875a-598328572696",
   "metadata": {},
   "source": [
    "Below is an example of code that prompt user to input two points $(x_1,f(x_1))$ and $(x_2,f(x_2))$, then return the change, percent change, and average rate of change between the two points."
   ]
  },
  {
   "cell_type": "code",
   "execution_count": 2,
   "id": "20f33dc1-95dc-451d-a873-967a658d3277",
   "metadata": {
    "tags": [
     "hide-input"
    ]
   },
   "outputs": [
    {
     "name": "stdin",
     "output_type": "stream",
     "text": [
      "Enter the x-coordinate of the first point:  2\n",
      "Enter the y-coordinate of the first point:  20\n",
      "Enter the x-coordinate of the second point:  4\n",
      "Enter the y-coordinate of the second point:  50\n"
     ]
    },
    {
     "name": "stdout",
     "output_type": "stream",
     "text": [
      "Change in y: 30.0\n",
      "Percent change: 150.0 %\n",
      "Average rate of change: 15.0\n"
     ]
    }
   ],
   "source": [
    "# Prompt the user to input the coordinates of the first point (x1, f(x1))\n",
    "x1 = float(input(\"Enter the x-coordinate of the first point: \"))\n",
    "f_x1 = float(input(\"Enter the y-coordinate of the first point: \"))\n",
    "\n",
    "# Prompt the user to input the coordinates of the second point (x2, f(x2))\n",
    "x2 = float(input(\"Enter the x-coordinate of the second point: \"))\n",
    "f_x2 = float(input(\"Enter the y-coordinate of the second point: \"))\n",
    "\n",
    "# Calculate the change, percent change and average rate of change\n",
    "change = f_x2 - f_x1\n",
    "percent_change = (change / f_x1) * 100\n",
    "average_rate_of_change = change / (x2 - x1)\n",
    "\n",
    "# Print the results\n",
    "print(\"Change in y:\", change)\n",
    "print(\"Percent change:\", percent_change, \"%\")\n",
    "print(\"Average rate of change:\", average_rate_of_change)"
   ]
  },
  {
   "cell_type": "markdown",
   "id": "6dda072e",
   "metadata": {},
   "source": [
    "```{index} instantaneous rate of change\n",
    "```"
   ]
  },
  {
   "cell_type": "markdown",
   "id": "89dd516c-1a40-4200-b040-aa0a7431872a",
   "metadata": {},
   "source": [
    "## Measures of Change at a Point"
   ]
  },
  {
   "cell_type": "markdown",
   "id": "0a0b5f86-82b7-45ff-bdfa-592ffa837ea2",
   "metadata": {},
   "source": [
    "If $x$ is an input values for the function $f$, then:\n",
    "- the **(instantaneous) rate of change (RoC)** of $f$ at point $x=a$ is $\\lim\\limits_{x\\to a} \\dfrac{f(x)-f(a)}{x-a}$\n",
    "  - what it calculates: at the input $x=a$, how fast does the output changes?\n",
    "- the **percent rate of change** of $f$ at point $x=a$ is $\\dfrac{\\text{RoC}}{f(a)}\\cdot 100\\%$\n",
    "  - what it calculates: at the input $x=a$, how fast does the output percentage changes?    "
   ]
  },
  {
   "cell_type": "markdown",
   "id": "80aec455-a535-40df-8864-ca04d583a44c",
   "metadata": {},
   "source": [
    "Below is an example of code that prompts the user to input a function $f(x)$ and the point $x=a$, then return the instantaneous rate of change and percent rate of change of $f$ at $x=a$."
   ]
  },
  {
   "cell_type": "code",
   "execution_count": 19,
   "id": "c0da9a5b-d4ca-431a-b8ff-829cc18c62a9",
   "metadata": {
    "tags": [
     "hide-input"
    ]
   },
   "outputs": [
    {
     "name": "stdin",
     "output_type": "stream",
     "text": [
      "Enter the function f(x):  3*x**2-2*x+7\n",
      "Enter the value of a:  5\n"
     ]
    },
    {
     "name": "stdout",
     "output_type": "stream",
     "text": [
      "Approximate Instantaneous Rate of Change: 28.0\n",
      "Approximate Percent Rate of Change: 38.889\n"
     ]
    }
   ],
   "source": [
    "#this code is not using derivatives as we are still in Section 3.\n",
    "# Prompt the user to input the function f(x)\n",
    "expression_str = input(\"Enter the function f(x): \")\n",
    "f_x = lambda x: eval(expression_str)\n",
    "\n",
    "# Prompt the user to input the point a\n",
    "a = float(input(\"Enter the value of a: \"))\n",
    "\n",
    "# Calculate the approximate instantaneous rate of change\n",
    "delta_x = 0.0001  # Small interval\n",
    "f_a = f_x(a)\n",
    "f_a_plus_delta_x = f_x(a + delta_x)\n",
    "instantaneous_rate_of_change = round((f_a_plus_delta_x - f_a) / delta_x, 3) \n",
    "\n",
    "# Calculate the approximate percent rate of change\n",
    "percent_rate_of_change = round((instantaneous_rate_of_change / f_a) * 100, 3)\n",
    "\n",
    "# Print the results\n",
    "print(\"Approximate Instantaneous Rate of Change:\", instantaneous_rate_of_change)\n",
    "print(\"Approximate Percent Rate of Change:\", percent_rate_of_change)"
   ]
  },
  {
   "cell_type": "markdown",
   "id": "54c273da-0b9f-48fa-96b3-5a5aae1d19c8",
   "metadata": {},
   "source": [
    "## Secant and Tangent Lines"
   ]
  },
  {
   "cell_type": "markdown",
   "id": "f8dc304c",
   "metadata": {},
   "source": [
    "```{index} secant line\n",
    "```"
   ]
  },
  {
   "cell_type": "markdown",
   "id": "be3a2a7b-7c60-4148-b03f-fdd3d02a8736",
   "metadata": {},
   "source": [
    "Given a continuous function $f(x)$ on the interval containing $x=a$ and $x=b$, the **secant line** on $f$ between $x=a$ and $x=b$ is a straight line connecting $(a,f(a))$ and $(b,f(b))$.\n",
    "\n",
    "The slope of the secant line is the average rate of change of $f$ between $x=a$ and $x=b$."
   ]
  },
  {
   "cell_type": "markdown",
   "id": "291b12da-3b94-4490-9526-0dbd23ff538e",
   "metadata": {},
   "source": [
    "Below is an example code prompting the user to input function $f$ as well as $x=a$ and $x=b$. Code will return the plot of $f$ together with its secant line between $x=a$ and $x=b$."
   ]
  },
  {
   "cell_type": "code",
   "execution_count": 41,
   "id": "b59d5fe2-62ea-462c-a0f7-5e23b77e77f1",
   "metadata": {
    "tags": [
     "hide-input"
    ]
   },
   "outputs": [
    {
     "name": "stdin",
     "output_type": "stream",
     "text": [
      "Enter the function f(x):  math.sin(x)\n",
      "Enter the value of a:  1\n",
      "Enter the value of b:  2\n"
     ]
    },
    {
     "data": {
      "image/png": "[encoded data removed]",
      "text/plain": [
       "<Figure size 640x480 with 1 Axes>"
      ]
     },
     "metadata": {},
     "output_type": "display_data"
    }
   ],
   "source": [
    "# Prompt user for a function f(x)\n",
    "equation = input(\"Enter the function f(x): \")\n",
    "\n",
    "# Define the function f(x)\n",
    "def f(x):\n",
    "    return eval(equation)\n",
    "\n",
    "# Define the secant line function\n",
    "def secant_line(x, a, b):\n",
    "    return f(a) + (f(b) - f(a))/(b - a) * (x - a)\n",
    "\n",
    "# Prompt user for values\n",
    "a = float(input(\"Enter the value of a: \"))\n",
    "b = float(input(\"Enter the value of b: \"))\n",
    "\n",
    "# Generate x values\n",
    "x = np.linspace(a - 2, b + 2, 100)\n",
    "\n",
    "# Generate y values for f(x)\n",
    "y = [f(val) for val in x]\n",
    "\n",
    "# Generate y values for the secant line\n",
    "secant = secant_line(x, a, b)\n",
    "\n",
    "# Plot the function f(x) and the secant line\n",
    "plt.plot(x, y, label='f(x)')\n",
    "plt.plot(x, secant, label='Secant Line')\n",
    "\n",
    "# Add the x=0 and y=0 axes\n",
    "plt.axhline(0, color='black', linestyle='--')\n",
    "plt.axvline(0, color='black', linestyle='--')\n",
    "\n",
    "# Set the x-axis and y-axis labels\n",
    "plt.xlabel('x')\n",
    "plt.ylabel('y')\n",
    "\n",
    "# Set the title\n",
    "plt.title('Plot of f(x) with Secant Line')\n",
    "\n",
    "# Set the legend\n",
    "plt.legend()\n",
    "\n",
    "# Set the x-axis limits\n",
    "plt.xlim(a - 2, b + 2)\n",
    "\n",
    "# Display the plot\n",
    "plt.show()"
   ]
  },
  {
   "cell_type": "markdown",
   "id": "636cf4c1-59ed-40f3-bd9f-5a3c38e913bf",
   "metadata": {},
   "source": [
    "The word **tangent** comes from the Latin word *tangere*, meaning \"to touch\".\n",
    "\n",
    "Given a continuous function $f(x)$ on the interval containing $x=a$, the **tangent line** on $f$ at $x=a$ is a straight line touching $f(x)$ at exactly $(a,f(a))$ and nowhere else.\n",
    "\n",
    "The slope of this tangent line is the instantaneous rate of change of $f$ at $x=a$."
   ]
  },
  {
   "cell_type": "markdown",
   "id": "bf413568",
   "metadata": {},
   "source": [
    "```{index} tangent line\n",
    "```"
   ]
  },
  {
   "cell_type": "markdown",
   "id": "2f62e345-e2bc-4ab7-9126-d74397ef55c4",
   "metadata": {},
   "source": [
    "Below is an example code prompting user to input function $f$ and $x=a$. Code will return the plot of $f$ together with its tangent line at $x=a$."
   ]
  },
  {
   "cell_type": "code",
   "execution_count": 49,
   "id": "50e60f30-14e7-4408-8c18-bb3ae611b5d3",
   "metadata": {
    "tags": [
     "hide-input"
    ]
   },
   "outputs": [
    {
     "name": "stdin",
     "output_type": "stream",
     "text": [
      "Enter the function f(x):  x**2\n",
      "Enter the value of a:  2\n"
     ]
    },
    {
     "data": {
      "image/png": "[encoded data removed]",
      "text/plain": [
       "<Figure size 640x480 with 1 Axes>"
      ]
     },
     "metadata": {},
     "output_type": "display_data"
    }
   ],
   "source": [
    "# Prompt the user to input the function f(x)\n",
    "equation = input(\"Enter the function f(x): \")\n",
    "\n",
    "# Prompt the user to input the value of a\n",
    "a = float(input(\"Enter the value of a: \"))\n",
    "\n",
    "# Define the function f(x)\n",
    "def f(x):\n",
    "    return eval(equation)\n",
    "\n",
    "# Generate x values for plotting\n",
    "x = np.linspace(a - 2, a + 2, 100)\n",
    "\n",
    "# Generate y values for the function f(x)\n",
    "y = f(x)\n",
    "\n",
    "# Calculate the tangent line at x = a\n",
    "tangent_x = np.linspace(a - 2, a + 2, 100)\n",
    "tangent_y = f(a) + (tangent_x - a) * (f(a + 0.01) - f(a)) / (0.01)\n",
    "\n",
    "# Initialize the figure and axes\n",
    "fig, ax = plt.subplots()\n",
    "\n",
    "# Plot the function f(x)\n",
    "ax.plot(x, y, label='f(x)')\n",
    "\n",
    "# Plot the tangent line at x = a\n",
    "ax.plot(tangent_x, tangent_y, 'r--', label='Tangent Line at a')\n",
    "\n",
    "# Add the x=0 and y=0 axes\n",
    "ax.axhline(0, color='black', linestyle='--')\n",
    "ax.axvline(0, color='black', linestyle='--')\n",
    "\n",
    "# Set the x-axis and y-axis limits\n",
    "ax.set_xlim(a - 2, a + 2)\n",
    "ax.set_ylim(min(y) - 1, max(y) + 1)\n",
    "\n",
    "# Set the x-axis and y-axis labels\n",
    "ax.set_xlabel('x')\n",
    "ax.set_ylabel('y')\n",
    "\n",
    "# Set the title\n",
    "ax.set_title('Function f(x) with Tangent Line at x=a')\n",
    "\n",
    "# Set the legend\n",
    "ax.legend()\n",
    "\n",
    "# Display the plot\n",
    "plt.show()"
   ]
  },
  {
   "cell_type": "markdown",
   "id": "50e4fe0f-81e4-4ab4-9bf6-d1d08ff5b167",
   "metadata": {},
   "source": [
    "The tangent line at $x=a$ can be obtained by taking the secant line between $x=a$ and $x=b$, then bring $b$ closer and closer to $a$.\n",
    "\n",
    "Taking $b=a+h$, the slope of the secant line between $x=a$ and $x=b$ is $\\dfrac{f(a+h)-f(a)}{a+h-a}=\\dfrac{f(a+h)-f(a)}{h}$.\n",
    "\n",
    "Bringing $b \\to a$ is then bringing $h\\to 0$, and hence the slope of the tangent line at $x=a$ is $\\lim\\limits_{h \\to 0}\\dfrac{f(a+h)-f(a)}{h}$.\n",
    "This realization is important as we introduce derivatives in the next section."
   ]
  },
  {
   "cell_type": "markdown",
   "id": "54aa394d-caa9-4d0a-a840-05478bedc627",
   "metadata": {},
   "source": [
    "Below is the code showing the graph of $f(x)=x^2$ with the secant lines between $x=2$ and $x=b$, starting from $b=4$ until $b=2$, which gives the tangent line of $f(x)$ at $x=2$."
   ]
  },
  {
   "cell_type": "code",
   "execution_count": 56,
   "id": "4d96ee07-5f2a-4468-8643-e841aba97967",
   "metadata": {
    "tags": [
     "hide-input"
    ]
   },
   "outputs": [
    {
     "data": {
      "image/png": "[encoded data removed]",
      "text/plain": [
       "<Figure size 640x480 with 1 Axes>"
      ]
     },
     "metadata": {},
     "output_type": "display_data"
    }
   ],
   "source": [
    "# Define the function f(x)\n",
    "def f(x):\n",
    "    return x**2\n",
    "\n",
    "# Define the tangent line function at x = 2\n",
    "def tangent_line(x):\n",
    "    return 4 * (x - 2) + 4\n",
    "\n",
    "# Define the secant line function\n",
    "def secant_line(x, a, b):\n",
    "    return (f(b) - f(a)) / (b - a) * (x - a) + f(a)\n",
    "\n",
    "# Generate x values for plotting\n",
    "x = np.linspace(0, 6, 100)\n",
    "\n",
    "# Generate y values for the function f(x)\n",
    "y = f(x)\n",
    "\n",
    "# Generate y values for the tangent line at x = 2\n",
    "tangent_y = tangent_line(x)\n",
    "\n",
    "# Generate y values for the secant lines\n",
    "secant_y1 = secant_line(x, 2, 4)\n",
    "secant_y2 = secant_line(x, 2, 3.5)\n",
    "secant_y3 = secant_line(x, 2, 3)\n",
    "secant_y4 = secant_line(x, 2, 2.5)\n",
    "\n",
    "# Initialize the figure and axes\n",
    "fig, ax = plt.subplots()\n",
    "\n",
    "# Plot the graph of f(x)\n",
    "ax.plot(x, y, color='black', label='f(x) = x^2')\n",
    "\n",
    "# Plot the tangent line at x = 2\n",
    "ax.plot(x, tangent_y, 'r-', label='Tangent Line at x=2')\n",
    "\n",
    "# Plot the secant lines\n",
    "ax.plot(x, secant_y1, 'b-', label='Secant Line: x=2 to x=4')\n",
    "ax.plot(x, secant_y2, 'g--', label='Secant Line: x=2 to x=3.5')\n",
    "ax.plot(x, secant_y3, 'm--', label='Secant Line: x=2 to x=3')\n",
    "ax.plot(x, secant_y4, 'c--', label='Secant Line: x=2 to x=2.5')\n",
    "\n",
    "# Add the x=0 and y=0 axes\n",
    "ax.axhline(0, color='black')\n",
    "ax.axvline(0, color='black')\n",
    "\n",
    "# Set the x-axis and y-axis labels\n",
    "ax.set_xlabel('x')\n",
    "ax.set_ylabel('y')\n",
    "\n",
    "# Set the title\n",
    "ax.set_title('Graph of f(x) = x^2 with Tangent and Secant Lines')\n",
    "\n",
    "# Set the legend\n",
    "ax.legend()\n",
    "\n",
    "# Display the plot\n",
    "plt.show()"
   ]
  },
  {
   "cell_type": "markdown",
   "id": "ac969583-254f-4a71-acab-78e9a1568743",
   "metadata": {},
   "source": [
    "## Exercises"
   ]
  },
  {
   "cell_type": "markdown",
   "id": "a51e72b8-1e9b-447f-9662-3f9700cea123",
   "metadata": {},
   "source": [
    ":::{admonition} Exercises\n",
    "\n",
    "1. Given the graph of $f(x)$ below:\n",
    "\n",
    "<img src=\"3LCR1.png\" width=\"250px\">\n",
    "\n",
    "Determine whether or not $\\lim\\limits_{x\\to 2}f(x)$ and $\\lim\\limits_{x\\to 3}f(x)$ exists. Explain. \n",
    "\n",
    "2. Calculate the following limits. Explain why or why not the limit exists.\n",
    "    - $\\lim\\limits_{x\\to 7} 5\\ln(x)$\n",
    "    - $\\lim\\limits_{x\\to 3} \\left(3x^3+4x^2-5x-6\\right)$\n",
    "    - $\\lim\\limits_{x\\to 0} \\dfrac{1}{x}$\n",
    "    \n",
    "3. Do the following problems:\n",
    "    - Evaluate $\\lim\\limits_{x\\to 0}e^{\\sin(x)}$\n",
    "    - Find all zeroes of $f(x)=4x^3+3x^2-3x+0.2$ on the interval $[0,1]$\n",
    "    \n",
    "4. Given $f(x)=4x^3-2x^2+3x-7$. Calculate the following:\n",
    "    - Change of $f$ between $x=-1$ and $x=2$ \n",
    "    - Percent change of $f$ between $x=-1$ and $x=2$ \n",
    "    - Average rate of change of $f$ between $x=-1$ and $x=2$ \n",
    "    - Instantaneous rate of change of $f$ at $x=3$\n",
    "    - Percent rate of change of $f$ at $x=3$\n",
    "    \n",
    "5. Given $f(x)=4x^3-2x^2+3x-7$. Plot the following:\n",
    "    - Secant line between on $f$ between $x=-1$ and $x=2$ \n",
    "    - Tangent line on $f$ at $x=3$\n",
    " :::"
   ]
  }
 ],
 "metadata": {
  "celltoolbar": "Edit Metadata",
  "kernelspec": {
   "display_name": "Python 3 (ipykernel)",
   "language": "python",
   "name": "python3"
  },
  "language_info": {
   "codemirror_mode": {
    "name": "ipython",
    "version": 3
   },
   "file_extension": ".py",
   "mimetype": "text/x-python",
   "name": "python",
   "nbconvert_exporter": "python",
   "pygments_lexer": "ipython3",
   "version": "3.11.3"
  }
 },
 "nbformat": 4,
 "nbformat_minor": 5
}
