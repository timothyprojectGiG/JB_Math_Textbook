{
 "cells": [
  {
   "cell_type": "markdown",
   "id": "6140db76-277a-4a2c-85ff-bb37d164b14a",
   "metadata": {},
   "source": [
    "# Derivatives"
   ]
  },
  {
   "cell_type": "markdown",
   "id": "b16caea8-8bc8-4f9c-9edc-e37fefe7487c",
   "metadata": {},
   "source": [
    ":::{note}\n",
    "Below is the list of topics that are covered in this section:\n",
    "- Derivatives and Derivative Notations\n",
    "- Properties, Formulas, and Rules\n",
    "- Derivative Graphs\n",
    "- Extrema\n",
    "- The Mean Value Theorem\n",
    "- Linearization\n",
    "- Implicit Differentiation\n",
    ":::"
   ]
  },
  {
   "cell_type": "code",
   "execution_count": 1,
   "id": "9a928ca4",
   "metadata": {},
   "outputs": [],
   "source": [
    "import sympy as sp\n",
    "import numpy as np\n",
    "import matplotlib.pyplot as plt"
   ]
  },
  {
   "cell_type": "markdown",
   "id": "adf207eb",
   "metadata": {},
   "source": [
    "```{index} derivative\n",
    "```"
   ]
  },
  {
   "cell_type": "markdown",
   "id": "ba8c7997-bbc0-4ec1-8fae-04a238d463db",
   "metadata": {},
   "source": [
    "## Derivatives and Derivative Notations"
   ]
  },
  {
   "cell_type": "markdown",
   "id": "61a56de5-831b-4987-8b1b-bd05c4b3ef77",
   "metadata": {},
   "source": [
    "**Derivative** shows the sensitivity of change of a function's output when the input changes.\n",
    "From the previous section, this is the same as what is being measured by the instantaneous rate of change (RoC), which is the slope of the tangent line at a certain point.\n",
    "\n",
    "One notation of the derivative of the function $f(x)$ is $f\\,'(x)$, read \"$f$ prime of $x$\".\n",
    "Hence, the derivative of the function $f(x)$ at the point $x=a$ is $f\\,'(a)=\\lim\\limits_{h\\to 0}\\dfrac{f(a+h)-f(a)}{h}$."
   ]
  },
  {
   "cell_type": "markdown",
   "id": "fca36f21-0385-49dc-b0df-f26a8893de00",
   "metadata": {},
   "source": [
    "For the function $f(x)$, the **derivative of $\\boldsymbol{f(x)}$ with respect to $x$**, or, some say the **limit definition of the derivative of $\\boldsymbol{f(x)}$**, is defined as \n",
    "\n",
    "$$f\\,'(x)=\\lim\\limits_{h\\to 0}\\dfrac{f(x+h)-f(x)}{h}$$\n",
    "\n",
    "If derivative $f\\,'(x)$ exists at all points in the interval $(a,b)$, then $f(x)$ is said to be **differentiable** in $(a,b)$."
   ]
  },
  {
   "cell_type": "markdown",
   "id": "b7ea06c2-ab03-4518-bffe-4df781b0191f",
   "metadata": {},
   "source": [
    ":::{admonition} Example\n",
    "Find the derivative of $f(x)=5x^2-2x$ using the definition of the derivative. \n",
    "\n",
    "$$\n",
    "\\begin{align}\n",
    "f\\,'(x) \n",
    "&= \\lim\\limits_{h\\to 0}\\dfrac{f(x+h)-f(x)}{h}\\\\\n",
    "&= \\lim\\limits_{h\\to 0}\\dfrac{\\left[5(x+h)^2-2(x+h)\\right]-\\left[5x^2-2x\\right]}{h}\\\\\n",
    "&= \\lim\\limits_{h\\to 0}\\dfrac{\\left[5\\left(x^2+2xh+h^2\\right)-2(x+h)\\right]-\\left[5x^2-2x\\right]}{h}\\\\\n",
    "&= \\lim\\limits_{h\\to 0}\\dfrac{5x^2+10xh+5h^2-2x-2h-5x^2+2x}{h}\\\\\n",
    "&= \\lim\\limits_{h\\to 0}\\dfrac{10xh+5h^2-2h}{h}\\\\\n",
    "&= \\lim\\limits_{h\\to 0}\\dfrac{h\\left(10x+5h-2\\right)}{h}\\\\\n",
    "&= \\lim\\limits_{h\\to 0} \\; (10x+5h-2)\\\\\n",
    "&= 10x+5(0)-2 = 10x-2\n",
    "\\end{align}\n",
    "$$\n",
    "\n",
    ":::"
   ]
  },
  {
   "cell_type": "markdown",
   "id": "4e62f06a-88fb-4fdf-b986-1a055bb9411a",
   "metadata": {},
   "source": [
    "The notation $f\\,'(x)$ is the **Lagrange's** notation for derivative.\n",
    "The derivative of $f\\,'(x)$, or the second derivative of $f(x)$ is denoted by $f\\,''(x)$ or $f^{(2)}(x)$.\n",
    "The derivative of $f^{(2)}(x)$, or the third derivative of $f(x)$ is denoted by $f^{(3)}(x)$, and so on.\n",
    "\n",
    "Various notations for derivatives have been proposed by various mathematicians, and some are used independently in different locations and/or eras. \n",
    "Some common notations for derivatives are given below.\n",
    "\n",
    "- Lagrange: $f'(x),f^{(2)}(x),f^{(3)}(x), \\ldots$\n",
    "\n",
    "- Leibniz: $\\dfrac{df}{dx}, \\dfrac{d^2f}{dx^2}, \\dfrac{d^3f}{dx^3}, \\ldots$\n",
    "\n",
    "- Euler: $\\left(Df\\right)(x), \\left(D^2f\\right)(x), \\left(D^3f\\right)(x), \\ldots$\n",
    "\n",
    "- Newton: $\\dot{f}, \\ddot{f}, \\dddot{f}, \\ldots $\n",
    "\n",
    "Motivated students are encouraged to browse the variations of these notations for multivariable functions or higher-level mathematics. \n",
    "\n",
    "**Lagrange's** and **Leibniz's** notation are two of the most used derivative notations, at least restricted to undergraduate Calculus courses."
   ]
  },
  {
   "cell_type": "markdown",
   "id": "f9d54339-9a6a-4eea-8bd0-98c13243555e",
   "metadata": {},
   "source": [
    "## Properties, Formulas, and Rules"
   ]
  },
  {
   "cell_type": "markdown",
   "id": "0bef5ab0-f240-4b13-8ee1-56415622fd68",
   "metadata": {},
   "source": [
    "#### Derivative Properties"
   ]
  },
  {
   "cell_type": "markdown",
   "id": "f9c40551-c206-4edb-bb1d-42f8468c8067",
   "metadata": {},
   "source": [
    "- Derivative of sum (or difference) is the sum (or difference) of derivative.\n",
    "\n",
    "    $\\left[f \\pm g\\right]' = f' \\pm g'\\quad\\quad \\text{or} \\quad \\quad \\dfrac{d}{dx}\\left[f \\pm g\\right] = \\dfrac{df}{dx} \\pm \\dfrac{dg}{dx} $ \n",
    "- Constant multiple can be factored outside derivative.\n",
    "\n",
    "    $\\left[c\\cdot f\\right]' = c\\cdot f' \\quad\\quad \\text{or} \\quad \\quad \\dfrac{d}{dx}\\left[c\\cdot f\\right] = c \\cdot \\dfrac{df}{dx} $"
   ]
  },
  {
   "cell_type": "markdown",
   "id": "faccb520-c9dd-4b04-a5be-33a26507b795",
   "metadata": {},
   "source": [
    "Both properties can be proved using the limit definition of derivative and some basic algebraic manipulation.\n",
    "Below is the proof of the second property, while the proof of the first property is one of the exercises for the reader."
   ]
  },
  {
   "cell_type": "markdown",
   "id": "39c1b5cc-fece-45d0-ae2e-e5fcfd3cbd0c",
   "metadata": {},
   "source": [
    "**Proof of $\\boldsymbol{\\left[c\\cdot f\\right]' = c\\cdot f'}$**\n",
    "\n",
    "$\\left[c\\cdot f\\right]' = \\lim\\limits_{h\\to 0} \\dfrac{cf(x+h)-cf(x)}{h} = \\lim\\limits_{h\\to 0} c\\cdot \\dfrac{f(x+h)-f(x)}{h} = c\\cdot \\lim\\limits_{h\\to 0}  \\dfrac{f(x+h)-f(x)}{h} = c\\cdot f'$"
   ]
  },
  {
   "cell_type": "markdown",
   "id": "505dfee6-8d9e-4872-99b3-4dce7d1b57f2",
   "metadata": {},
   "source": [
    "#### Basic Derivative Formulas"
   ]
  },
  {
   "cell_type": "markdown",
   "id": "3c0ef7b4-f0ee-421b-9297-6647dc70ac05",
   "metadata": {},
   "source": [
    "While limit definitions of derivatives can always be used to find the derivative of a function, here are some common derivative formulas that will be helpful to remember to save time and lower the risk of algebraic manipulations. Motivated students are encouraged to try proving these formulas. "
   ]
  },
  {
   "cell_type": "markdown",
   "id": "46209698-250b-46f5-923b-d24ce002ef67",
   "metadata": {},
   "source": [
    "Derivative of:\n",
    "- Constant by itself:\n",
    "    $\\dfrac{d}{dx}\\left[c\\right]= 0$\n",
    "    \n",
    "- Power function:\n",
    "    $\\dfrac{d}{dx}\\left[x^n\\right]= nx^{n-1}$\n",
    "    \n",
    "- Exponential function: \n",
    "    $\\dfrac{d}{dx}\\left[b^x\\right]= b^x\\cdot \\ln(b)$\n",
    "    \n",
    "- Special exponential function when $b=e$:\n",
    "    $\\dfrac{d}{dx}\\left[e^x\\right]= e^x \\cdot \\ln(e)= e^x \\cdot 1= e^x$\n",
    "    \n",
    "- Natural log function:\n",
    "    $\\dfrac{d}{dx}\\left[\\ln(x)\\right]= \\dfrac{1}{x}$\n",
    "    \n",
    "- Sine function:\n",
    "    $\\dfrac{d}{dx}\\left[\\sin(x)\\right]= \\cos(x)$\n",
    "    \n",
    "- Cosine function:\n",
    "    $\\dfrac{d}{dx}\\left[\\cos(x)\\right]= -\\sin(x)$"
   ]
  },
  {
   "cell_type": "markdown",
   "id": "3b3d6f6b-595e-43b7-9fb3-c7183c67f44c",
   "metadata": {},
   "source": [
    "#### Product, Quotient, and Chain Rule"
   ]
  },
  {
   "cell_type": "markdown",
   "id": "fda89eba",
   "metadata": {},
   "source": [
    "```{index} product rule\n",
    "```"
   ]
  },
  {
   "cell_type": "markdown",
   "id": "36b48a02",
   "metadata": {},
   "source": [
    "```{index} chain rule\n",
    "```"
   ]
  },
  {
   "cell_type": "markdown",
   "id": "2539b1f1",
   "metadata": {},
   "source": [
    "```{index} quotient rule\n",
    "```"
   ]
  },
  {
   "cell_type": "markdown",
   "id": "356c4edc-7b09-4775-bb21-1d02a863531b",
   "metadata": {},
   "source": [
    "The limit definition of derivatives can also be used to prove the derivative of product, quotient, and composition of two functions:\n",
    "- Product Rule:\n",
    "\n",
    "    $\\left[f\\cdot g\\right]'=f\\,'\\cdot g+f \\cdot g\\,'$\n",
    "    \n",
    "- Quotient Rule:\n",
    "\n",
    "    $\\left[\\dfrac{f}{g}\\right]' = \\dfrac{f\\,'\\cdot g - f \\cdot g\\,'}{g^2}$\n",
    "    \n",
    "- Chain Rule - for composition of two functions $(f\\circ g)(x) = f(g(x))$:\n",
    "\n",
    "    $\\left[\\left(f \\circ g\\right)(x)\\right]' = f\\,'(g(x))\\cdot g\\,'(x) \\quad\\quad \\text{or} \\quad \\quad \\dfrac{df}{dx}=\\dfrac{df}{dg}\\cdot \\dfrac{dg}{dx}$"
   ]
  },
  {
   "cell_type": "markdown",
   "id": "78d25614-f719-484d-bbbe-f366a76441ec",
   "metadata": {},
   "source": [
    "#### Derivative Rules - Examples and Code"
   ]
  },
  {
   "cell_type": "markdown",
   "id": "d0ad4cb3-0207-458a-8bec-11eee7263754",
   "metadata": {},
   "source": [
    "- Find the derivative of $a(x)=x^3\\cdot 3^x$.\n",
    "  - Note that $a(x)$ is a product $f(x)\\cdot g(x)$ with $f(x)=x^3$ and $g(x)=3^x$.\n",
    "    Using basic derivative formulas, we have $f\\,'(x)=3x^2$ and $g\\,'(x)=3^x\\ln(3)$.\n",
    "    Using Product Rule, we have $a\\,'(x)=3x^2\\cdot 3^x + x^3\\cdot 3^x\\ln(3)$."
   ]
  },
  {
   "cell_type": "markdown",
   "id": "43d7e538-8075-45cf-b7ec-3cd9b55e7295",
   "metadata": {},
   "source": [
    "- Find the derivative of $b(x)=\\dfrac{3x+1}{\\sqrt{x}+2}$.\n",
    "  - Note that $b(x)$ is a quotient $\\dfrac{f(x)}{g(x)}$ with $f(x)=3x+1$ and $g(x)=\\sqrt{x}+2=x^{1/2}+2$.\n",
    "    Using basic derivative formulas, we have $f\\,'(x)=3$ and $g\\,'(x)=\\dfrac{1}{2}x^{-1/2}$.\n",
    "    Using Quotient Rule, we have $b\\,'(x)=\\dfrac{3\\cdot \\left(x^{1/2}+2\\right)-(3x+1)\\cdot\\left(\\frac{1}{2}x^{-1/2}\\right)}{\\left(x^{1/2}+2\\right)^2}$.\n",
    "  - Note that $b(x)=\\dfrac{3x+1}{\\sqrt{x}+2}$ can be written as the product of two functions: $b(x)=(3x+1)\\left(\\sqrt{x}+2\\right)^{-1}$. \n",
    "    Hence, $b\\,'(x)$ can also be found by using product rule.\n",
    "    Here $f(x)=(3x+1)$ so $f\\,'(x)=3$. While $g(x)=\\left(x^{1/2}+2\\right)^{-1}$ so applying Chain Rule we have $g\\,'(x)=-\\left(x^{1/2}+2\\right)^{-2}\\cdot \\frac{1}{2}x^{-1/2}$.\n",
    "    Using Product Rule, we have $b\\,'(x)=3\\cdot \\left(x^{1/2}+2\\right)^{-1}+(3x+1)\\cdot \\left(-\\left(x^{1/2}+2\\right)^{-2}\\right)\\cdot \\frac{1}{2}x^{-1/2}$.\n",
    "    It is quite an easy exercise to see that this $b\\,'(x)$ is equivalent to $b\\,'(x)$ obtained by using the Quotient Rule above."
   ]
  },
  {
   "cell_type": "markdown",
   "id": "ecbab229-aede-4249-9e0f-df1abc224a74",
   "metadata": {},
   "source": [
    "- Find the derivative of $c(x)=\\sin\\left(2x^3+\\ln(x)\\right)$.\n",
    "  - Note that $c(x)$ is a composition function $(f\\circ g)(x)$ with $f(x)=\\sin(x)$ and $g(x)=2x^3+\\ln(x)$.\n",
    "    Using basic derivative formulas, we have $f\\,'(x)=\\cos(x)$ and $g\\,'(x)=6x+\\frac{1}{x}$.\n",
    "    Using Quotient Rule, we have $c\\,'(x)=\\cos\\left(2x^3+\\ln(x)\\right)\\cdot \\left(6x+\\frac{1}{x}\\right)$."
   ]
  },
  {
   "cell_type": "markdown",
   "id": "6950520f-3d97-48b7-b78d-45ba05692fdc",
   "metadata": {},
   "source": [
    "Below is an example code that prompts the user to input the function $f(x)$ and return the derivative function $f\\,'(x)$.\n",
    "Note that Python uses **log** instead of **ln** for natural log. Also, the user must input and read the exponent and multiplication symbols carefully."
   ]
  },
  {
   "cell_type": "code",
   "execution_count": 1,
   "id": "d033417f-b5db-4748-8a45-699c269f62ad",
   "metadata": {},
   "outputs": [
    {
     "name": "stdin",
     "output_type": "stream",
     "text": [
      "Enter the function f(x):  x**3*3**x\n"
     ]
    },
    {
     "name": "stdout",
     "output_type": "stream",
     "text": [
      "The derivative f'(x) is: 3**x*x**3*log(3) + 3*3**x*x**2\n"
     ]
    }
   ],
   "source": [
    "# Prompt user for the function f(x)\n",
    "f_input = input(\"Enter the function f(x): \")\n",
    "\n",
    "# Define the variable and the function symbolically\n",
    "x = sp.Symbol('x')\n",
    "f = sp.sympify(f_input)\n",
    "\n",
    "# Calculate the derivative\n",
    "f_prime = sp.diff(f, x)\n",
    "\n",
    "# Print the derivative\n",
    "print(\"The derivative f'(x) is:\", f_prime)"
   ]
  },
  {
   "cell_type": "markdown",
   "id": "9d17e940-07fd-48fb-a60d-11d958770887",
   "metadata": {},
   "source": [
    "#### L'Hospital's Rule and Indeterminate Forms"
   ]
  },
  {
   "cell_type": "markdown",
   "id": "ff124eb8",
   "metadata": {},
   "source": [
    "```{index} L'Hopital's rule\n",
    "```"
   ]
  },
  {
   "cell_type": "markdown",
   "id": "08b3a42c-c5ab-4334-954e-a3728b1b44c4",
   "metadata": {},
   "source": [
    "In the previous section, we discussed limits. Recall that there are cases where the limit of $f(x)$ exists at $x=a$ since the left and right limits are equal, but $f(a)$ itself does not exist.\n",
    "\n",
    "Algebraically, we can use the following examples: $\\lim\\limits_{x\\to 2} \\dfrac{x^2-4}{x-2}$ and $\\lim\\limits_{x\\to \\infty} \\dfrac{3x^2-2x}{5x^2+7x}$.\n",
    "\n",
    "If we apply the $x\\to 2$ and $x\\to \\infty$ directly into these limits, the first limit gives $\\frac{0}{0}$ while the second limit gives $\\frac{\\infty}{\\infty}$.\n",
    "However, with some algebraic manipulation, we can calculate the limits:\n",
    "- $\\lim\\limits_{x\\to 2} \\dfrac{x^2-4}{x-2}=\\lim\\limits_{x\\to 2} \\dfrac{(x+2)(x-2)}{x-2}=\\lim\\limits_{x\\to 2} \\;(x+2) =4$\n",
    "\n",
    "- $\\lim\\limits_{x\\to \\infty} \\dfrac{3x^2-2x}{5x^2+7x}=\\lim\\limits_{x\\to \\infty} \\dfrac{3-\\frac{2}{x}}{5+\\frac{7}{x}}=\\dfrac{3}{5}$\n",
    "\n",
    "Both $\\frac{0}{0}$ and $\\frac{\\infty}{\\infty}$ are **indeterminate forms**. Some other indeterminate forms are $0\\cdot\\infty, 1^\\infty, 0^0, \\infty^0, \\infty-\\infty$.\n",
    "These forms have conflicting behaviors and it is not clear which behavior dominates another hence the result is indeterminate.\n",
    "\n",
    "**L'Hôpital's Rule** is a rule that utilizes derivatives to calculate limits of indeterminate forms $\\frac{0}{0}$ or $\\frac{\\infty}{\\infty}$, that are often simpler than doing algebraic manipulation:\n",
    "If $\\lim\\limits_{x\\to a} \\dfrac{f(x)}{g(x)}=\\dfrac{0}{0}$ or $\\lim\\limits_{x\\to a} \\dfrac{f(x)}{g(x)}=\\pm \\dfrac{\\infty}{\\infty}$, where $a$ can be any real number or $\\pm \\infty$, then $\\lim\\limits_{x\\to a} \\dfrac{f(x)}{g(x)}=\\lim\\limits_{x\\to a} \\dfrac{f\\,'(x)}{g\\,'(x)}$.\n",
    "\n",
    "Above examples that use L'Hôpital's Rule:\n",
    "- $\\lim\\limits_{x\\to 2} \\dfrac{x^2-4}{x-2}=\\lim\\limits_{x\\to 2} \\dfrac{2x}{1}=\\lim\\limits_{x\\to 2} \\;(2x) =4$\n",
    "\n",
    "- $\\lim\\limits_{x\\to \\infty} \\dfrac{3x^2-2x}{5x^2+7x}=\\lim\\limits_{x\\to \\infty} \\dfrac{6x-2}{10x+7}=\\lim\\limits_{x\\to \\infty} \\dfrac{6}{10}=\\dfrac{3}{5}$\n"
   ]
  },
  {
   "cell_type": "markdown",
   "id": "5ad986c2-17a9-4d3b-bb50-dd4157579fde",
   "metadata": {},
   "source": [
    "Note that with the code given on the previous section, it does not matter if the limit is of indeterminate form $\\frac{0}{0}$ or $\\frac{\\infty}{\\infty}$."
   ]
  },
  {
   "cell_type": "code",
   "execution_count": 2,
   "id": "bf8e93c6-b656-4913-849f-c8a964e9cef5",
   "metadata": {},
   "outputs": [
    {
     "name": "stdin",
     "output_type": "stream",
     "text": [
      "Enter the function f(x):  (x**2-4)/(x-2)\n",
      "Enter the constant a:  2\n"
     ]
    },
    {
     "name": "stdout",
     "output_type": "stream",
     "text": [
      "The limit of f(x) as x approaches 2.0 is: 4.00000000000000\n"
     ]
    }
   ],
   "source": [
    "# Prompt the user to input the function f(x) and the constant a\n",
    "expression_str = input(\"Enter the function f(x): \")\n",
    "a = float(input(\"Enter the constant a: \"))\n",
    "\n",
    "# Define the variable x and the function f(x)\n",
    "x = sp.symbols('x')\n",
    "f_x = sp.sympify(expression_str)\n",
    "\n",
    "# Calculate the limit of f(x) as x approaches a\n",
    "limit_result = sp.limit(f_x, x, a)\n",
    "\n",
    "# Print the result\n",
    "print(\"The limit of f(x) as x approaches\", a, \"is:\", limit_result)"
   ]
  },
  {
   "cell_type": "markdown",
   "id": "59456216-d2e6-4334-bb6a-b45f49e3e671",
   "metadata": {},
   "source": [
    "## Derivative Graphs"
   ]
  },
  {
   "cell_type": "markdown",
   "id": "7ae04537-9ebf-48f6-ad8d-6c29eb55ac77",
   "metadata": {},
   "source": [
    "#### Increasing and Decreasing"
   ]
  },
  {
   "cell_type": "markdown",
   "id": "2b2ccc86-4e90-427e-b68e-91cc4b584014",
   "metadata": {},
   "source": [
    "Given any inputs $x_1$ and $x_2$ from an interval $I$ with $x_1<x_2$.\n",
    "- If $f(x_1)<f(x_2)$, then $f(x)$ is **increasing** on $I$. \n",
    "- If $f(x_1)>f(x_2)$, then $f(x)$ is **decreasing** on $I$. "
   ]
  },
  {
   "cell_type": "markdown",
   "id": "c97b7919-80bb-4bbd-b10b-c06f45dfd688",
   "metadata": {},
   "source": [
    "Since $f\\,'(a)$ is the slope of the tangent line of $f(x)$ at $x=a$, then if for every input $x$ on an interval $I$:\n",
    "- $f\\,'(x)>0 \\Rightarrow$ slope of tangent line is positive $\\Rightarrow$ tangent line is increasing $\\Rightarrow$ $f(x)$ is increasing.\n",
    "- $f\\,'(x)<0 \\Rightarrow$ slope of tangent line is negative $\\Rightarrow$ tangent line is decreasing $\\Rightarrow$ $f(x)$ is decreasing.\n",
    "- $f\\,'(x)=0 \\Rightarrow$ slope of tangent line is zero     $\\Rightarrow$ tangent line is flat $\\Rightarrow$ $f(x)$ is constant."
   ]
  },
  {
   "cell_type": "markdown",
   "id": "15c4c4b1-6d8a-4778-85be-ca8d837fab51",
   "metadata": {},
   "source": [
    "Below is an example code that asks the user for the function $f(x)$ and the interval $I=(a,b)$. It will return the intervals within $(a,b)$ where $f(x)$ increases or decreases."
   ]
  },
  {
   "cell_type": "code",
   "execution_count": 30,
   "id": "d24929ed-504d-4861-992d-51ab8fa0ed97",
   "metadata": {
    "tags": [
     "hide-input"
    ]
   },
   "outputs": [
    {
     "name": "stdin",
     "output_type": "stream",
     "text": [
      "Enter the function f(x):  -x**5+2.5*x**4+(40/3)*x**3+5\n",
      "Enter the value of a:  -4\n",
      "Enter the value of b:  5\n"
     ]
    },
    {
     "name": "stdout",
     "output_type": "stream",
     "text": [
      "Interval (-4.0, -2.0): Decreasing\n",
      "Interval (-2.0, 4.0): Increasing\n",
      "Interval (4.0, 5.0): Decreasing\n"
     ]
    }
   ],
   "source": [
    "def check_interval(f, a, b):\n",
    "    x = np.linspace(a, b, 1000)  # Generate x values within the interval\n",
    "    y = f(x)  # Evaluate f(x) for each x value\n",
    "\n",
    "    intervals = []\n",
    "    prev_direction = None\n",
    "    start = a\n",
    "\n",
    "    for i in range(1, len(x)):\n",
    "        direction = \"Increasing\" if y[i] > y[i-1] else \"Decreasing\"\n",
    "\n",
    "        if prev_direction is None:\n",
    "            prev_direction = direction\n",
    "            continue\n",
    "\n",
    "        if direction != prev_direction:\n",
    "            intervals.append((round(start, 3), round(x[i-1], 3), prev_direction))\n",
    "            start = x[i-1]\n",
    "\n",
    "        prev_direction = direction\n",
    "\n",
    "    intervals.append((round(start, 3), round(b, 3), prev_direction))  # Add the last interval\n",
    "\n",
    "    return intervals\n",
    "\n",
    "# Prompt user for the function f(x) and the interval (a, b)\n",
    "equation = input(\"Enter the function f(x): \")\n",
    "f = lambda x: eval(equation)\n",
    "a = float(input(\"Enter the value of a: \"))\n",
    "b = float(input(\"Enter the value of b: \"))\n",
    "\n",
    "# Determine the intervals of increase, decrease, and constancy\n",
    "intervals = check_interval(f, a, b)\n",
    "\n",
    "# Print the intervals\n",
    "for interval in intervals:\n",
    "    start, end, status = interval\n",
    "    print(f\"Interval ({start}, {end}): {status}\")"
   ]
  },
  {
   "cell_type": "markdown",
   "id": "c6e58f67-1986-4c45-995c-7ef1d82219de",
   "metadata": {},
   "source": [
    "#### Concave Up and Concave Down"
   ]
  },
  {
   "cell_type": "markdown",
   "id": "ce0552bf-f130-44dd-97f2-e3cb6b92cd61",
   "metadata": {},
   "source": [
    "A function is **concave up** if it \"opens\" upward. A function is **concave down** if it \"opens\" downward.\n",
    "\n",
    "<img src=\"4Deriv3Concavity.png\" width=\"750px\">"
   ]
  },
  {
   "cell_type": "markdown",
   "id": "232245d3",
   "metadata": {},
   "source": [
    "```{index} inflection points\n",
    "```"
   ]
  },
  {
   "cell_type": "markdown",
   "id": "43dbfbd5-b258-4eb8-af2d-e115610a8c6e",
   "metadata": {},
   "source": [
    "A point $x=c$ is called an **inflection point** of $f(x)$ if the graph of $f(x)$ is continuous and its concavity changes at $x=c$."
   ]
  },
  {
   "cell_type": "markdown",
   "id": "bb5d687a-6cb0-42ae-8074-d2d85ac1fd2f",
   "metadata": {},
   "source": [
    "Suppose the graph of $f(x)$ is concave up as given below. Draw tangent lines across the inputs of $f(x)$.\n",
    "\n",
    "<img src=\"4Deriv3Concavityslope.png\" width=\"250px\">\n",
    "\n",
    "Note that as the value of $a$ increases, the slope of the tangent line of $f(x)$ at $x=a$ also increases (from negative, to zero, to positive).\n",
    "This implies that if the graph of $f\\,'(x)$ is increasing, then the graph of $f(x)$ is concave up.\n",
    "From the previous subsection about Increasing and Decreasing, if the graph of $f\\,''(x)$ is positive then the graph of $f\\,'(x)$ is increasing.\n",
    "\n",
    "Apply a similar argument for cases where the graph of $f(x)$ is concave down, we can summarize that if for all $x$ in some interval $I$ we have:\n",
    "- $f\\,''(x)>0$ then $f(x)$ is concave up on $I$.\n",
    "- $f\\,''(x)<0$ then $f(x)$ is concave down on $I$.\n",
    "\n",
    "Note that if $f\\,''(x)=0$ then we cannot guarantee the shape of the graph of $f(x)$.\n",
    "$f\\,''(x)=0$ only means the graph of $f'(x)$ is flat, and many different cases that can cause this. Can you think of these cases?"
   ]
  },
  {
   "cell_type": "markdown",
   "id": "5f54e62b-a201-445a-beeb-1b0e04871d5b",
   "metadata": {},
   "source": [
    "Below is an example code that asks the user for the function $f(x)$ and the interval $I=(a,b)$.\n",
    "It will plot the graph of $f(x)$ and $f\\,''(x)$ on $(a,b)$, list all the inflection points, and highlight the area on which $f(x)$ concave up (or concave down) with green (or red)."
   ]
  },
  {
   "cell_type": "code",
   "execution_count": 107,
   "id": "203cb102-6170-40ec-813e-e5ba308c4552",
   "metadata": {
    "tags": [
     "hide-input"
    ]
   },
   "outputs": [
    {
     "name": "stdin",
     "output_type": "stream",
     "text": [
      "Enter the function f(x):  -x**5+2.5*x**4+(40/3)*x**3+5\n",
      "Enter the left endpoint of the interval (a):  -3\n",
      "Enter the right endpoint of the interval (b):  4\n"
     ]
    },
    {
     "data": {
      "image/png": "[encoded data removed]",
      "text/plain": [
       "<Figure size 800x600 with 1 Axes>"
      ]
     },
     "metadata": {},
     "output_type": "display_data"
    },
    {
     "name": "stdout",
     "output_type": "stream",
     "text": [
      "Inflection Points:\n",
      "(-1.388, -16.236)\n",
      "(-0.001, 5.000)\n",
      "(2.886, 298.696)\n"
     ]
    }
   ],
   "source": [
    "import matplotlib.pyplot as plt\n",
    "import numpy as np\n",
    "\n",
    "def plot_concavity():\n",
    "    # Prompt the user for the function and interval\n",
    "    function_input = input(\"Enter the function f(x): \")\n",
    "    interval_a = float(input(\"Enter the left endpoint of the interval (a): \"))\n",
    "    interval_b = float(input(\"Enter the right endpoint of the interval (b): \"))\n",
    "\n",
    "    # Define the function using numpy\n",
    "    x = np.linspace(interval_a, interval_b, 1000)\n",
    "    f = eval(\"lambda x: \" + function_input)\n",
    "\n",
    "    # Compute the second derivative of f(x)\n",
    "    f_double_prime = np.gradient(np.gradient(f(x), x), x)\n",
    "\n",
    "    # Plot the function and concavity\n",
    "    fig, ax = plt.subplots(figsize=(8, 6))\n",
    "    ax.plot(x, f(x), label='f(x)', linewidth=1.5)\n",
    "    ax.plot(x, f_double_prime, label=\"f''(x)\", linewidth=1.5, alpha=0.7)\n",
    "\n",
    "    # Identify the intervals of concavity\n",
    "    concave_up_intervals = []\n",
    "    concave_down_intervals = []\n",
    "\n",
    "    for i in range(len(x) - 1):\n",
    "        if f_double_prime[i] > 0:\n",
    "            concave_up_intervals.append((x[i], x[i + 1]))\n",
    "        elif f_double_prime[i] < 0:\n",
    "            concave_down_intervals.append((x[i], x[i + 1]))\n",
    "\n",
    "    # Add vertical lines for concavity intervals\n",
    "    for interval in concave_up_intervals:\n",
    "        ax.axvline(interval[0], color='green', linestyle='--', alpha=0.15, linewidth=0.5)\n",
    "        ax.axvline(interval[1], color='green', linestyle='--', alpha=0.15, linewidth=0.5)\n",
    "\n",
    "    for interval in concave_down_intervals:\n",
    "        ax.axvline(interval[0], color='red', linestyle='--', alpha=0.15, linewidth=0.5)\n",
    "        ax.axvline(interval[1], color='red', linestyle='--', alpha=0.15, linewidth=0.5)\n",
    "\n",
    "    # Find the inflection points\n",
    "    inflection_points = []\n",
    "\n",
    "    for i in range(1, len(x) - 1):\n",
    "        if (f_double_prime[i] > 0 and f_double_prime[i + 1] < 0) or (f_double_prime[i] < 0 and f_double_prime[i + 1] > 0):\n",
    "            inflection_points.append((x[i], f(x[i])))\n",
    "\n",
    "    # Add points for inflection points\n",
    "    for point in inflection_points:\n",
    "        ax.scatter(point[0], point[1], color='blue')\n",
    "\n",
    "    # Add x-axis and y-axis\n",
    "    ax.axhline(0, color='black', linewidth=0.5)  # Horizontal line for x-axis\n",
    "    ax.axvline(0, color='black', linewidth=0.5)  # Vertical line for y-axis\n",
    "\n",
    "    # Set plot labels and legend\n",
    "    ax.set_xlabel('x')\n",
    "    ax.set_ylabel('y')\n",
    "    ax.set_title('Concavity of f(x)')\n",
    "    ax.legend()\n",
    "\n",
    "    # Show the plot\n",
    "    plt.show()\n",
    "\n",
    "    # Print the inflection points\n",
    "    print(\"Inflection Points:\")\n",
    "    for point in inflection_points:\n",
    "        print(f'({point[0]:.3f}, {point[1]:.3f})')\n",
    "\n",
    "# Run the function to plot the concavity\n",
    "plot_concavity()"
   ]
  },
  {
   "cell_type": "markdown",
   "id": "e38a0972-ce34-4830-8f50-8b890c158754",
   "metadata": {},
   "source": [
    "## Extrema"
   ]
  },
  {
   "cell_type": "markdown",
   "id": "c2aa6f43",
   "metadata": {},
   "source": [
    "```{index} absolute extrema\n",
    "```"
   ]
  },
  {
   "cell_type": "markdown",
   "id": "c901a809",
   "metadata": {},
   "source": [
    "```{index} relative extrema\n",
    "```"
   ]
  },
  {
   "cell_type": "markdown",
   "id": "de75343d-3e39-409a-a479-2ffcf15e9750",
   "metadata": {},
   "source": [
    "Many applications of Calculus revolve around maximizing or minimizing values of a function.\n",
    "While visualizing the extrema can be done by analyzing the graph of the function, it might be computationally cheaper to find the extrema using derivatives."
   ]
  },
  {
   "cell_type": "markdown",
   "id": "34cb67b7-76a5-4876-a7db-a119f4b87f64",
   "metadata": {},
   "source": [
    "#### Definition"
   ]
  },
  {
   "cell_type": "markdown",
   "id": "504afc2f-a642-4b78-b508-3b52330bd0c1",
   "metadata": {},
   "source": [
    "**Relative Extrema**\n",
    "- $f(x)$ has a **relative (or local) maximum** at $x=a$ if $f(x)>f(a)$ for every $x$ in some open interval around $x=a$ (in the \"local\" neighborhood of $x=a$).\n",
    "- $f(x)$ has a **relative (or local) minimum** at $x=a$ if $f(x)<f(a)$ for every $x$ in some open interval around $x=a$ (in the \"local\" neighborhood of $x=a$).\n",
    "\n",
    "Relative extrema cannot happen at the endpoints of the domain (since the open interval around $x=a$ should include some value both to the left and right of $x=a$).\n",
    "\n",
    "**Absolute Extrema**\n",
    "- $f(x)$ has a **absolute (or global) maximum** at $x=a$ if $f(x)\\leq f(a)$ for every $x$ in the domain of $f$.\n",
    "- $f(x)$ has a **absolute (or global) minimum** at $x=a$ if $f(x)\\geq f(a)$ for every $x$ in the domain of $f$."
   ]
  },
  {
   "cell_type": "markdown",
   "id": "14ff42f9-b06c-4e61-b62b-e65690f8fc03",
   "metadata": {},
   "source": [
    "#### Extreme Value Theorem"
   ]
  },
  {
   "cell_type": "markdown",
   "id": "425f38ae",
   "metadata": {},
   "source": [
    "```{index} extreme value theorem\n",
    "```"
   ]
  },
  {
   "cell_type": "markdown",
   "id": "244c086c-969f-4449-bfa8-26d0d97ca954",
   "metadata": {},
   "source": [
    "**Theorem:** Suppose that $f(x)$ is continuous on the interval $[a,b]$ then there are two numbers $c,d$ where $a\\leq c$ and $d\\leq b$ such that $f(c)$ is an absolute maximum for $f$ and $f(d)$ is an absolute minimum of $f$.\n",
    "\n",
    "Note that this theorem doesn't provide the information on where the absolute extrema are, or whether they will occur more than once. It only says that absolute extrema exists somewhere in the interval."
   ]
  },
  {
   "cell_type": "markdown",
   "id": "681755ed-077b-4215-af22-25c08d1fd32e",
   "metadata": {},
   "source": [
    "On the other hand, since relative extrema cannot occur at the endpoints, the existence of relative extrema is not guaranteed. \n",
    "\n",
    "One easy example is the constant function $f(x)=k$ for some real number $k$.\n",
    "This function has no relative extrema in any interval, but the absolute max and absolute min are both $k$ (that occurs infinitely many times at every point in the domain)."
   ]
  },
  {
   "cell_type": "markdown",
   "id": "158f8da9-dca4-45d8-950e-b84d035593e6",
   "metadata": {},
   "source": [
    "#### Finding Extrema"
   ]
  },
  {
   "cell_type": "markdown",
   "id": "fdb10fd0-3a24-4b70-a64d-4e4b3e0066a7",
   "metadata": {},
   "source": [
    "A **critical number** of a function $f(x)$ is $x=c$ where $f(c)$ exists, but either $f\\,'(c)=0$ or $f\\,'(c)$ does not exist. The point $(c,f(c))$ is called a **critical point**.\n",
    "- $f\\,'(c)=0$ means the tangent line of $f(x)$ at $x=c$ has slope $0$, meaning it is a horizontal tangent line.\n",
    "    This can happen on the relative max, relative min, or an inflection point(concave up or down).\n",
    "    \n",
    "- $f\\,'(c)$ does not exist, which means there is no tangent line, or a tangent line exists but is vertical (has an undefined slope).\n",
    "    This can happen at a corner/cusp when the function is not continuous, or at an inflection point."
   ]
  },
  {
   "cell_type": "markdown",
   "id": "b8329600-1328-496c-b27b-935523671e3f",
   "metadata": {},
   "source": [
    "Using critical numbers, we have the First Derivative Test:\n",
    "\n",
    "**First Derivative Test**  \n",
    "Suppose that $x=c$ is a critical point of $f(x)$, then:\n",
    "- If $f\\,'(x)$ change sign from $+$ to $-$ at $x=c$, then $f(x)$ has a relative maximum at $x=c$.\n",
    "- If $f\\,'(x)$ change sign from $-$ to $+$ at $x=c$, then $f(x)$ has a relative minimum at $x=c$.\n",
    "- If $f\\,'(x)$ doesn't change sign at $x=c$, then $f(x)$ has neither a relative maximum nor a relative minimum at $x=c$.\n",
    "\n",
    "Going further to the second derivative, recall the relation between the second derivative $f\\,''(x)$ and the shape of graph $f(x)$.\n",
    "Note that a concave up graph has a lowest point while a concave down graph has a highest point, which we will use for the Second Derivative Test:\n",
    "\n",
    "**Second Derivative Test**  \n",
    "Suppose that $x=c$ is a critical point of $f(x)$ such that $f\\,'(c)=0$ and that $f\\,''(x)$ is continuous in the local neighborhood around $x=c$, then:\n",
    "- If $f\\,''(x)<0$, then $f(x)$ has a relative maximum at $x=c$.\n",
    "- If $f\\,''(x)>0$, then $f(x)$ has a relative minimum at $x=c$.\n",
    "- If $f\\,''(x)=0$, then at $x=c$ the function $f(x)$ can have a relative maximum, relative minimum, or neither."
   ]
  },
  {
   "cell_type": "markdown",
   "id": "d9971c94-4d2e-4d05-b8c3-68c3743db139",
   "metadata": {},
   "source": [
    "Summarizing, below are the steps to find extrema given a continuous function $f(x)$ on the interval $[a,b]$:\n",
    "- Find the critical points\n",
    "- Do the first or second derivative test to get the relative extrema\n",
    "- Evaluate and compare the values of $f(x)$ at the critical points and the endpoints to get the absolute extrema"
   ]
  },
  {
   "cell_type": "markdown",
   "id": "b935bdd7-6aa0-47a5-9cec-77707c316801",
   "metadata": {},
   "source": [
    "It is left to motivated students to do these steps manually.\n",
    "\n",
    "Below is the example code that asks the user to give $f(x)$ and the endpoints of closed interval $[a,b]$. Code will return the list of absolute and relative extrema."
   ]
  },
  {
   "cell_type": "code",
   "execution_count": 77,
   "id": "dfcd5eec-c7e9-46f1-aa0c-55d902de5181",
   "metadata": {
    "tags": [
     "hide-input"
    ]
   },
   "outputs": [
    {
     "name": "stdin",
     "output_type": "stream",
     "text": [
      "Enter the function f(x):  -x**5+2.5*x**4+(40/3)*x**3+5\n",
      "Enter the left endpoint of the interval (a):  -4\n",
      "Enter the right endpoint of the interval (b):  5\n"
     ]
    },
    {
     "name": "stdout",
     "output_type": "stream",
     "text": [
      "Relative Maxima:\n",
      "(4.00000000000000, 474.333)\n",
      "Relative Minima:\n",
      "(-2.00000000000000, -29.667)\n",
      "Absolute Maximum:\n",
      "(-4.0, 815.667)\n",
      "Absolute Minimum:\n",
      "(-2.00000000000000, -29.667)\n"
     ]
    }
   ],
   "source": [
    "def find_extrema():\n",
    "    # Prompt the user for the function and interval\n",
    "    function_input = input(\"Enter the function f(x): \")\n",
    "    interval_a = float(input(\"Enter the left endpoint of the interval (a): \"))\n",
    "    interval_b = float(input(\"Enter the right endpoint of the interval (b): \"))\n",
    "\n",
    "    # Convert the function string to a SymPy expression\n",
    "    x = sp.Symbol('x')\n",
    "    f = sp.sympify(function_input)\n",
    "\n",
    "    # Evaluate the function at critical points and exclude endpoints\n",
    "    critical_points = sp.solve(sp.diff(f, x), x)\n",
    "    critical_points = [point for point in critical_points if interval_a < point < interval_b]\n",
    "\n",
    "    # Evaluate the function at the endpoints\n",
    "    endpoints = [interval_a, interval_b]\n",
    "    extrema_coordinates = [(round(point, 3), round(f.subs(x, point), 3)) for point in critical_points]\n",
    "\n",
    "    # Find the absolute maximum and minimum\n",
    "    extrema_coordinates.extend([(interval_a, round(f.subs(x, interval_a), 3)), (interval_b, round(f.subs(x, interval_b), 3))])\n",
    "    absolute_max = max(extrema_coordinates, key=lambda coord: coord[1])\n",
    "    absolute_min = min(extrema_coordinates, key=lambda coord: coord[1])\n",
    "\n",
    "    # Find the relative maxima and minima\n",
    "    relative_maxima = []\n",
    "    relative_minima = []\n",
    "\n",
    "    for point in critical_points:\n",
    "        second_derivative = sp.diff(f, x, 2).subs(x, point)\n",
    "        if second_derivative < 0:\n",
    "            relative_maxima.append((point, round(f.subs(x, point), 3)))\n",
    "        elif second_derivative > 0:\n",
    "            relative_minima.append((point, round(f.subs(x, point), 3)))\n",
    "\n",
    "    # Print the extrema coordinates\n",
    "    print(\"Relative Maxima:\")\n",
    "    if len(relative_maxima) > 0:\n",
    "        for coordinate in relative_maxima:\n",
    "            print(coordinate)\n",
    "    else:\n",
    "        print(\"none\")\n",
    "\n",
    "    print(\"Relative Minima:\")\n",
    "    if len(relative_minima) > 0:\n",
    "        for coordinate in relative_minima:\n",
    "            print(coordinate)\n",
    "    else:\n",
    "        print(\"none\")\n",
    "\n",
    "    print(\"Absolute Maximum:\")\n",
    "    print(absolute_max)\n",
    "\n",
    "    print(\"Absolute Minimum:\")\n",
    "    print(absolute_min)\n",
    "\n",
    "# Run the function to find the extrema\n",
    "find_extrema()"
   ]
  },
  {
   "cell_type": "markdown",
   "id": "b220fd9e-ce44-44ab-85c9-bb8af7c7eb49",
   "metadata": {},
   "source": [
    "## The Mean Value Theorem"
   ]
  },
  {
   "cell_type": "markdown",
   "id": "0591d7e1",
   "metadata": {},
   "source": [
    "```{index} mean value theorem\n",
    "```"
   ]
  },
  {
   "cell_type": "markdown",
   "id": "e8eca1ef-e7f1-4cf1-8d8f-58d18733a13f",
   "metadata": {},
   "source": [
    "Also called the **Lagrange Theorem**, the **Mean Value Theorem (MVT)** stated that, if $f$ is a continuous function on the closed interval $[a,b]$ and differentiable on the open interval $(a,b)$, then there is a point $c$ in $(a,b)$ such that the tangent at $c$ is parallel to the secant line through the endpoints $(a,f(a))$ and $(b,f(b))$, that is, $f\\,'(c)=\\dfrac{f(b)-f(a)}{b-a}$, or, $f(b)-f(a)=f\\,'(c)(b-a)$.\n",
    "\n",
    "<img src=\"4Deriv6MVT.png\" width=\"300px\">"
   ]
  },
  {
   "cell_type": "markdown",
   "id": "9e9c0b73-db6e-4b7f-8130-7f52627b18ed",
   "metadata": {},
   "source": [
    "Note that MVT doesn't give what $c$ is. It only guarantees the existence of at least one of such $c$. Finding the $c$ can be done manually or using code.\n",
    "\n",
    "\n",
    ":::{admonition} Example\n",
    "\n",
    "Determine the number(s) $c$ which satisfies the conclusion of the MVT for the function $f(x)=4x-x^2$ on $[0.5,3]$.\n",
    "\n",
    "The derivative of $f(x)$ is $f\\,'(x)=4-2x$. From the conclusion of the MVT we have $4-2c=f\\,'(c) =\\dfrac{f(3)-f(0.5)}{3-0.5}=\\dfrac{1.25}{2.5}=0.5$, giving $c=1.75$ as the only such $c$.\n",
    ":::\n",
    "\n",
    "Below is the code that prompts the user to provide $f(x)$ and the interval endpoints $a$ and $b$, then returns the value(s) of $c$ satisfying the conclusion of MVT."
   ]
  },
  {
   "cell_type": "code",
   "execution_count": 25,
   "id": "04d6ad70-8b1b-427c-a374-2593b83426cd",
   "metadata": {
    "tags": [
     "hide-input"
    ]
   },
   "outputs": [
    {
     "name": "stdin",
     "output_type": "stream",
     "text": [
      "Enter the function f(x):  4*x-x**2\n",
      "Enter the value of a:  0.5\n",
      "Enter the value of b:  3\n"
     ]
    },
    {
     "name": "stdout",
     "output_type": "stream",
     "text": [
      "Values of c that satisfy the conclusion of MVT:\n",
      "c = 1.75000000000000\n"
     ]
    }
   ],
   "source": [
    "# Prompt the user for the function f(x)\n",
    "equation = input(\"Enter the function f(x): \")\n",
    "\n",
    "# Define the variable x\n",
    "x = sp.Symbol('x')\n",
    "\n",
    "# Create a SymPy expression for f(x)\n",
    "f_expr = sp.sympify(equation)\n",
    "\n",
    "# Prompt the user for the values of a and b\n",
    "a = float(input(\"Enter the value of a: \"))\n",
    "b = float(input(\"Enter the value of b: \"))\n",
    "\n",
    "# Compute the derivative of f(x)\n",
    "f_prime_expr = sp.diff(f_expr, x)\n",
    "\n",
    "# Compute the right-hand side of the equation\n",
    "rhs = (f_expr.subs(x, b) - f_expr.subs(x, a)) / (b - a)\n",
    "\n",
    "# Find all values of c that satisfy f'(c) = (f(b) - f(a))/(b - a)\n",
    "solutions = sp.solve(sp.Eq(f_prime_expr, rhs), x)\n",
    "\n",
    "# Print the values of c\n",
    "print(\"Values of c that satisfy the conclusion of MVT:\")\n",
    "for c in solutions:\n",
    "    print(f\"c = {c.evalf()}\")  # Evaluate the symbolic solution"
   ]
  },
  {
   "cell_type": "markdown",
   "id": "876aa5f5-0c2f-41ce-855b-1bf6bc581bbf",
   "metadata": {},
   "source": [
    ":::{admonition} Example\n",
    "Given $f(x)$ a continuous and differentiable function on $[2,10]$. It is known that $f(2)=-5$ and $f\\,'(x)\\leq 6$. What is the largest possible value for $f(10)$?\n",
    "\n",
    "From the conclusion of MVT, we have $f(10)-f(2)=f\\,'(c)(10-2)$, so $f(10)=f(2)+f\\,'(c)(10-2)=-5+8f\\,'(c)$.\n",
    "\n",
    "Since $f\\,'(x)\\leq 6$ then $f\\,'(c)\\leq 6$. Thus $f(10)=-5+8f\\,'(c)\\leq -5+8(6)=43$. Thus, the largest possible value for $f(10)$ is 43.\n",
    ":::"
   ]
  },
  {
   "cell_type": "markdown",
   "id": "2e425fac-ab64-4414-b816-113a977c6548",
   "metadata": {},
   "source": [
    "## Linearization"
   ]
  },
  {
   "cell_type": "markdown",
   "id": "04432c33",
   "metadata": {},
   "source": [
    "```{index} linearization\n",
    "```"
   ]
  },
  {
   "cell_type": "markdown",
   "id": "03f28d2b-a814-493e-a1da-2756e0a4754d",
   "metadata": {},
   "source": [
    "Recall that $f\\,'(a)$ is the slope of the tangent line of $f(x)$ at $x=a$. Conversely, given a function $f(x)$, the equation of the tangent line that touch $f(x)$ at $x=a$ using derivative $f\\,'(a)$ is given by $L(x)=f(a)+f\\,'(a)(x-a)$."
   ]
  },
  {
   "cell_type": "markdown",
   "id": "0a7505fa-2e40-4c90-891a-c4abe95671ae",
   "metadata": {},
   "source": [
    "Look at the graph of a function $f(x)$ with its tangent line at $x=a$ below:\n",
    "\n",
    "<img src=\"4Deriv7Linear.png\" width=\"300px\">\n",
    "\n",
    "Note that the values of $f(x)$ and $L(x)$ get closer and closer as $x\\to a$, so we can use $L(x)$ to approximate the value of $f(x)$ near $x=a$.\n",
    "Due to this, this tangent line $L(x)$ is often called the **linear approximation** or **linearization** of $f(x)$ at $x=a$."
   ]
  },
  {
   "cell_type": "markdown",
   "id": "e0f84292-e3eb-4ad7-9556-a9024abfeb6c",
   "metadata": {},
   "source": [
    ":::{admonition} Example\n",
    "Find the linearization for $f(x)=\\sqrt[3]{x}$ at $x=27$, and use it to approximate $\\sqrt[3]{27.137}$ and $\\sqrt[3]{8}$.\n",
    "\n",
    "Now $f(27)=\\sqrt[3]{27}=3$ and using power rule get $f\\,'(x)=\\dfrac{1}{3}x^{2/3}=\\dfrac{1}{3\\sqrt[3]{2}}$ so $f\\,'(x)=\\dfrac{1}{27}$.\n",
    "The linearization is then $L(x)=3+\\dfrac{1}{27}(x-27)$.\n",
    "\n",
    "Thus $\\sqrt[3]{27.137}\\approx L(27.137) =3+\\dfrac{1}{27}(0.137) = 3.00507\\overline{407}$ and $\\sqrt[3]{8}\\approx L(8) =3+\\dfrac{1}{27}(-19) = 2.\\overline{296}$.\n",
    "\n",
    "Comparing with the actual value $\\sqrt[3]{27.137}\\approx 3.005065516\\ldots$ and $\\sqrt[3]{8}=2$, see that the approximation for $\\sqrt[3]{27.137}$ is much more accurate than the approximation for $\\sqrt[3]{8}$.\n",
    "\n",
    "This makes sense since $8$ is much further from $27$ compared to $27.137$ and hence the distance between the curve of $f(x)$ and the tangent line $L(x)$ is much further as well.\n",
    "\n",
    ":::\n",
    "   "
   ]
  },
  {
   "cell_type": "markdown",
   "id": "5d32c479-b94a-45fc-8a44-ff669fc99050",
   "metadata": {},
   "source": [
    "Below is the code that prompts the user to give the function $f(x)$ and the point $x=a$. The code return equation $L(x)$ at $x=a$ as well as their plots."
   ]
  },
  {
   "cell_type": "code",
   "execution_count": 21,
   "id": "7d203876-b5a3-4d75-88b5-51de8f50f03f",
   "metadata": {
    "tags": [
     "hide-input"
    ]
   },
   "outputs": [
    {
     "name": "stdin",
     "output_type": "stream",
     "text": [
      "Enter the function f(x):   x**(1/3)\n",
      "Enter the value of x (a):  27\n"
     ]
    },
    {
     "name": "stdout",
     "output_type": "stream",
     "text": [
      "Equation of L(x): 0.037037037037037 x + 2.0\n"
     ]
    },
    {
     "data": {
      "image/png": "[encoded data removed]",
      "text/plain": [
       "<Figure size 640x480 with 1 Axes>"
      ]
     },
     "metadata": {},
     "output_type": "display_data"
    }
   ],
   "source": [
    "# Prompt user for the function f(x) and a value of x=a\n",
    "equation = input(\"Enter the function f(x): \")\n",
    "a = float(input(\"Enter the value of x (a): \"))\n",
    "\n",
    "# Create a symbolic expression for the given equation\n",
    "x = sp.symbols('x')\n",
    "f_expr = sp.sympify(equation)\n",
    "f = sp.lambdify(x, f_expr)\n",
    "\n",
    "# Calculate the derivative of f(x) at x=a\n",
    "f_prime = sp.diff(f_expr, x).subs(x, a)\n",
    "\n",
    "# Calculate the linearization L(x) at x=a\n",
    "L_expr = f(a) + f_prime * (x - a)\n",
    "L = sp.lambdify(x, L_expr)\n",
    "\n",
    "# Generate x values from a-15 to a+15\n",
    "x_vals = np.linspace(a - 15, a + 15, 100)\n",
    "\n",
    "#Print the linearization L(x)\n",
    "print(\"Equation of L(x):\", sp.latex(L_expr))\n",
    "\n",
    "# Plot f(x), L(x), and the point (a, f(a))\n",
    "plt.plot(x_vals, f(x_vals), label=\"f(x)\")\n",
    "plt.plot(x_vals, L(x_vals), label=\"L(x)\")\n",
    "plt.scatter(a, f(a), color=\"red\", label=\"(a, f(a))\")\n",
    "plt.xlabel(\"x\")\n",
    "plt.ylabel(\"y\")\n",
    "plt.title(\"Linearization of f(x) at x=a\")\n",
    "plt.legend()\n",
    "plt.grid(True)\n",
    "plt.axhline(0, color=\"black\", linewidth=0.5)\n",
    "plt.axvline(0, color=\"black\", linewidth=0.5)\n",
    "plt.show()"
   ]
  },
  {
   "cell_type": "markdown",
   "id": "72bf5ce2-8d6f-4277-8b60-037aaf20e635",
   "metadata": {},
   "source": [
    "## Implicit Differentiation"
   ]
  },
  {
   "cell_type": "markdown",
   "id": "7fadee01",
   "metadata": {},
   "source": [
    "```{index} implicit differentiation\n",
    "```"
   ]
  },
  {
   "cell_type": "markdown",
   "id": "1038cc00-cf5a-493c-ac82-baabb4045359",
   "metadata": {},
   "source": [
    "So far we have discussed derivatives of functions of the form $y=f(x)$. However, there are cases where the equations relating $y$ and $x$ either cannot be written explicitly as $y=f(x)$, or writing it as $y=f(x)$ results in some issues in finding the derivative. In these cases, we can use **implicit differentiation**."
   ]
  },
  {
   "cell_type": "markdown",
   "id": "c450ed4a-bb25-4ace-9c6c-a6f6eae86491",
   "metadata": {},
   "source": [
    ":::{admonition} Example\n",
    "- Writing the equation $e^{x+2y}=\\ln\\left(xy^2\\right)+x^2$ in the form $y=f(x)$ is challenging at best.\n",
    "- Writing the equation $x^2+y^2=4$ in the form $y=f(x)$ gives $y=\\pm\\sqrt{4-x^2}$, but then how to deal with the $\\pm$ for the derivative if we only want to write the derivative as a single function? \n",
    ":::"
   ]
  },
  {
   "cell_type": "markdown",
   "id": "4fea4174-2cbf-4ad4-acb7-5c2f96ba945a",
   "metadata": {},
   "source": [
    "With implicit differentiation, we can treat the variable $y$ as $y(x)$ and utilize Chain Rule as we derive both sides and obtain the derivative as a single function that likely will have both $x$ and $y$. Below is the example for the equation $x^2+y^2=4$:\n",
    "\n",
    "$$\n",
    "\\begin{align}\n",
    "\\dfrac{d}{dx}\\left(x^2+\\left[y(x)\\right]^2\\right) &=\\dfrac{d}{dx}[4]\\\\\n",
    "2x+2\\cdot y(x)\\cdot y\\,'(x) &=0 \\\\\n",
    "2x+2yy\\,'&=0\\\\\n",
    "2yy\\,'&=-2x\\\\\n",
    "y\\,'&=-\\dfrac{x}{y}\n",
    "\\end{align}\n",
    "$$\n"
   ]
  },
  {
   "cell_type": "markdown",
   "id": "193fcc4a-8127-4fc1-ac0c-bf9a01d83ce2",
   "metadata": {},
   "source": [
    "While Python does not have built-in functionality specifically dedicated to implicit differentiation, we can leverage SymPy to perform implicit differentiation. Depending on the complexity of the equation, further algebraic manipulation or specific handling may be required. Below is a code example, prompting the user to input the equation. For $x^2+y^2=4$, first rewrite into $x^2+y^2-4=0$ and input the nonzero side as the equation:"
   ]
  },
  {
   "cell_type": "code",
   "execution_count": 8,
   "id": "f011a500-27f5-45ec-80c6-f820c5213c4b",
   "metadata": {
    "tags": [
     "hide-input"
    ]
   },
   "outputs": [
    {
     "name": "stdin",
     "output_type": "stream",
     "text": [
      "Enter the equation:  x**2+y**2-4\n"
     ]
    },
    {
     "name": "stdout",
     "output_type": "stream",
     "text": [
      "The derivative dy/dx is: -x/y\n"
     ]
    }
   ],
   "source": [
    "# Prompt the user to input the equation\n",
    "equation_str = input(\"Enter the equation: \")\n",
    "\n",
    "# Define the variables\n",
    "x, y = sp.symbols('x y')\n",
    "\n",
    "# Convert the equation string to a SymPy expression\n",
    "equation = sp.sympify(equation_str)\n",
    "\n",
    "# Differentiate implicitly\n",
    "diff_eq = sp.diff(equation, x)  # Differentiate with respect to x\n",
    "diff_eq_y = sp.diff(equation, y)  # Differentiate with respect to y\n",
    "\n",
    "# Solve for dy/dx using the chain rule\n",
    "dy_dx = -diff_eq / diff_eq_y\n",
    "\n",
    "# Simplify the result\n",
    "dy_dx_simplified = sp.simplify(dy_dx)\n",
    "\n",
    "# Print the result\n",
    "print(\"The derivative dy/dx is:\", dy_dx_simplified)"
   ]
  },
  {
   "cell_type": "markdown",
   "id": "22d8aae9-d39f-4bc1-8414-19acced4a318",
   "metadata": {},
   "source": [
    "## Exercises"
   ]
  },
  {
   "cell_type": "markdown",
   "id": "69dcfb87-3e99-42f2-891a-07f7d99a70d8",
   "metadata": {},
   "source": [
    ":::{admonition} Exercises\n",
    "\n",
    "\n",
    "1. (Section 4.1) Find the derivative of the following functions using the limit definition of the derivative.\n",
    "\n",
    "    - $f(x)=3x^2-12x+32$\n",
    "    \n",
    "    - $g(x)=\\dfrac{x}{x+2}$\n",
    "    \n",
    "    - $h(x)=\\sqrt{4x^2-6}$\n",
    "    \n",
    "2. (Section 4.1) Prove $\\left[f \\pm g\\right]' = f' \\pm g'$ using the limit definition of the derivative. \n",
    "\n",
    "3. (Section 4.2) Find the derivative of the following functions using the appropriate properties, formulas, and/or rules. Compare the result by using code.\n",
    "\n",
    "    - $f(x)=3x^2-12x+32$\n",
    "    \n",
    "    - $g(x)=\\dfrac{x}{x+2}$\n",
    "    \n",
    "    - $h(x)=\\sqrt{4x^2-6}$\n",
    "    \n",
    "    - $z(x)=x^5\\sin\\left(3x^4+1\\right)+\\ln\\left(20^x-e^{5x}\\right)$\n",
    "    \n",
    "4. (Section 4.2) Find the derivative of the following function using both Product and Quotient Rule, and verify that they gives the same answer.\n",
    "\n",
    "    - $a(x)=\\dfrac{\\sin(x)}{x}$\n",
    "    \n",
    "    - $b(x)=\\dfrac{\\cos(x)}{2-x^9}$\n",
    "    \n",
    "    - $c(x)=\\dfrac{\\sin\\left(3+4^x\\right)}{2-x^9}$\n",
    "    \n",
    " 5. (Section 4.2) Use Quotient Rule and the Basic Derivative formulas for $\\sin(x)$ and $\\cos(x)$, to find the derivative of $\\tan(x),\\cot(x),\\sec(x),$ and $\\csc(x)$.\n",
    " \n",
    " 6. (Section 4.3) Find the interval(s) in which the following functions is increasing, decreasing, concave up, concave down.\n",
    "    - $a(x)=2x^3+3x^2-12x+4$ on $[-4,3]$\n",
    "    - $b(x)=3x+\\sin(4x)$ on $[0,1]$\n",
    "    \n",
    " 7. (Section 4.4) Find the absolute and relative extrema of the following functions:\n",
    "    - $a(x)=2x^3+3x^2-12x+4$ on $[-4,3]$\n",
    "    - $b(x)=3x+\\sin(4x)$ on $[0,1]$\n",
    "    \n",
    "8. (Section 4.5) Use the MVT to do the following problems:\n",
    "    - Determine all the number(s) $c$ which satisfy the conclusion of the MVT for the function $f(x)=4x^3-8x^2+7x-2$ on $[-3,5]$\n",
    "    - Given $f(x)$ a continuous and differentiable function on $[-3,2]$. It is known that $f(-3)=5$ and $f\\,'(x)\\geq 7$. What is the smallest possible value for $f(2)$?\n",
    "    \n",
    "9. (Section 4.6) Find the linearization for each given function at each given points, and plot the graph together with their linearization.\n",
    "    For each, also use the linearization to approximate the value at the given nearby point, then calculate the error of the approximation.\n",
    "    \n",
    "    - $f(x)=\\sqrt[4]{x}$ at $x=16$, use to approximate $\\sqrt[4]{16.7}$\n",
    "    \n",
    "    - $g(x)=\\sin(x)$ at $x=\\dfrac{\\pi}{4}$, use to approximate $\\sin\\left(\\dfrac{3\\pi}{11}\\right)$\n",
    "    \n",
    "10. (Section 4.7) Use implicit differentiation to find $y\\,'$ for each of the following:\n",
    "\n",
    "    - $5x+x^4y^3=7y^3-2$\n",
    "    \n",
    "    - $3x^2\\tan(y)=x-y^5\\sec{x}$\n",
    "    \n",
    "    - $e^{x+2y}=\\ln\\left(xy^2\\right)+x^2$\n",
    "    \n",
    " :::"
   ]
  }
 ],
 "metadata": {
  "celltoolbar": "Edit Metadata",
  "kernelspec": {
   "display_name": "Python 3 (ipykernel)",
   "language": "python",
   "name": "python3"
  },
  "language_info": {
   "codemirror_mode": {
    "name": "ipython",
    "version": 3
   },
   "file_extension": ".py",
   "mimetype": "text/x-python",
   "name": "python",
   "nbconvert_exporter": "python",
   "pygments_lexer": "ipython3",
   "version": "3.11.7"
  }
 },
 "nbformat": 4,
 "nbformat_minor": 5
}
