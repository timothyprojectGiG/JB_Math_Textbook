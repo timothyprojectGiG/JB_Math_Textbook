{
 "cells": [
  {
   "cell_type": "markdown",
   "id": "a1678ffb-2491-4d34-a781-5d0977d4f594",
   "metadata": {},
   "source": [
    "# Sequences and Series"
   ]
  },
  {
   "cell_type": "markdown",
   "id": "62d92938",
   "metadata": {},
   "source": [
    "```{index} Sequences\n",
    "```"
   ]
  },
  {
   "cell_type": "markdown",
   "id": "d046c44d-5f7e-4874-8881-d80f497c3c4c",
   "metadata": {},
   "source": [
    ":::{tip}\n",
    "\n",
    "Below is the list of topics that are covered in this section:\n",
    "- Sequences\n",
    "- Series\n",
    "- Convergence and Divergence of Series\n",
    "- Convergence Tests\n",
    "- Power Series\n",
    ":::"
   ]
  },
  {
   "cell_type": "code",
   "execution_count": null,
   "id": "10bb1100",
   "metadata": {},
   "outputs": [],
   "source": [
    "import matplotlib.pyplot as plt\n",
    "import math"
   ]
  },
  {
   "cell_type": "markdown",
   "id": "66ee9668-370c-4876-810b-d892669270e0",
   "metadata": {},
   "source": [
    "## Sequences"
   ]
  },
  {
   "cell_type": "markdown",
   "id": "25d4189e-eaa6-4c45-8d3f-e5014be11c07",
   "metadata": {},
   "source": [
    "In this module, we define a **sequence** as an arrangement of an infinite number of numbers written in a specific order.\n",
    "\n",
    "The common notations used for a sequence are $\\left\\lbrace a_n\\right\\rbrace = \\left\\lbrace a_n\\right\\rbrace_{n=1}^{\\infty} = \\left\\lbrace a_1, a_2, \\ldots \\right\\rbrace$, where $a_i$ denote the $i^{\\text{th}}$ term of the sequence.\n",
    "\n",
    ":::{admonition} Example\n",
    "\n",
    "Write the first 5 terms of the following sequences:\n",
    "- $\\left\\lbrace \\dfrac{1}{n} \\right\\rbrace = \\dfrac{1}{1}, \\dfrac{1}{2}, \\dfrac{1}{3}, \\dfrac{1}{4}, \\dfrac{1}{5}, \\ldots$\n",
    "\n",
    "- $\\big\\lbrace (-1)^n \\big\\rbrace_{n=0}^{\\infty} = 1, -1, 1, -1, 1, \\ldots $\n",
    ":::"
   ]
  },
  {
   "cell_type": "markdown",
   "id": "a90967b1-14b6-4dbd-867b-d8219124b88c",
   "metadata": {},
   "source": [
    "Some common sequences:\n",
    "- **Arithmetic sequence**: created by adding a certain constant $d$ to the preceding term.\n",
    "  - Using $a_1=a$, the sequence is written explicitly: $\\left\\lbrace a, a+d, a+2d, a+3d, \\ldots \\right\\rbrace$\n",
    "  - Or, written recursively: $\\lbrace a_n \\rbrace$ where $a_1=a$ and $a_{i} = a_{i-1} + d$ for $i=2,3,\\ldots$.\n",
    "\n",
    "- **Geometric sequence**: created by multiplying a certain constant ratio $r$ to the preciding term.\n",
    "  - Using $a_1=a$, the sequence is written explicitly: $\\left\\lbrace a, ar, ar^2, ar^3, \\ldots \\right\\rbrace$\n",
    "  - Or, written recursively: $\\lbrace a_n \\rbrace$ where $a_1=a$ and $a_i = a_{i-1}\\cdot r$ for $i=2,3,\\ldots$.\n",
    "    \n",
    "- **Harmonic sequence**: created by taking the reciprocal of an arithmetic sequence.\n",
    "  - Using $a_1=\\dfrac{1}{a}$, the sequence is written explicitly: $\\left\\lbrace \\dfrac{1}{a}, \\dfrac{1}{a+d}, \\dfrac{1}{a+2d}, \\dfrac{1}{a+3d}, \\dots \\right\\rbrace$\n",
    "    \n",
    "- **Fibonacci sequence**: created by taking each term as the sum of the two preceding terms.\n",
    "  - Written recursively: $\\lbrace a_n \\rbrace$ where $a_1=0, a_2=1$, and $a_i = a_{i-1} + a_{i-2}$ for $i=3, 4, \\ldots$"
   ]
  },
  {
   "cell_type": "markdown",
   "id": "e3f54336-9b83-4ef7-802c-41c2b92916aa",
   "metadata": {},
   "source": [
    "#### Properties of Sequences"
   ]
  },
  {
   "cell_type": "markdown",
   "id": "a90f04e3-ed22-4a7e-b796-8cc5e4fbf3c7",
   "metadata": {},
   "source": [
    "Given a sequence $\\lbrace a_n \\rbrace$.\n",
    "- $\\lbrace a_n \\rbrace$ is **increasing** if $a_n < a_{n+1}$ for every $n$, also called **monotonic increasing**.\n",
    "- $\\lbrace a_n \\rbrace$ is **decreasing** if $a_n > a_{n+1}$ for every $n$, also called **monotonic decreasing**.\n",
    "- $\\lbrace a_n \\rbrace$ is **monotonic nonincreasing (or monotonic nondecreasing)** if $\\lbrace a_n \\rbrace$ never increase (or decrease).\n",
    "- $\\lbrace a_n \\rbrace$ is **bounded below** if there exist a number $m$ such that $m\\leq a_n$ for every $n$. Here $m$ is called a **lower bound**.\n",
    "- $\\lbrace a_n \\rbrace$ is **bounded above** if there exist a number $M$ such that $M\\geq a_n$ for every $n$. Here $M$ is called a **upper bound**.\n",
    "- $\\lbrace a_n \\rbrace$ is **bounded** if it is **both** bounded below and bounded above."
   ]
  },
  {
   "cell_type": "markdown",
   "id": "dafe125a-f3a4-4f41-ac93-839ded1bb780",
   "metadata": {},
   "source": [
    ":::{admonition} Example\n",
    "Determine if the given sequence is monotonic and/or bounded.\n",
    "- $\\lbrace a_n \\rbrace=\\left\\lbrace \\dfrac{1}{n} \\right\\rbrace$\n",
    "  - $\\lbrace a_n \\rbrace$ **is monotonic (decreasing)** as $\\dfrac{1}{n} > \\dfrac{1}{n+1}$ for every $n$.\n",
    "  - $\\lbrace a_n \\rbrace$ **is bounded** since $0 \\leq a_n \\leq 1$ for every $n$. The first term is $1$, value kept decreasing, but no matter how big $n$ is, $\\dfrac{1}{n}$ is never negative.\n",
    "    \n",
    "- $\\lbrace a_n \\rbrace=\\big\\lbrace (-1)^n \\big\\rbrace_{n=0}^{\\infty}$\n",
    "  - $\\lbrace a_n \\rbrace$ **is NOT monotonic** since the sequence terms alternate between $1$ and $-1$ so neither an increasing nor a decreasing sequence.\n",
    "  - $\\lbrace a_n \\rbrace$ **is bounded** since $-1 \\leq a_n \\leq 1$ for every $n$.\n",
    "  - Note that the lower bound and upper bound are not unique. We can also said $\\lbrace a_n \\rbrace$ **is bounded** since $-35 \\leq a_n \\leq 708$ for every $n$. \n",
    ":::"
   ]
  },
  {
   "cell_type": "markdown",
   "id": "330e8fff-c0a7-49ba-a48a-69d5957752eb",
   "metadata": {},
   "source": [
    "Below is an example code that plot the first 100 terms of the sequence $\\lbrace a_n\\rbrace$. "
   ]
  },
  {
   "cell_type": "code",
   "execution_count": 6,
   "id": "40a64e74-cb63-46ed-85a4-08429ce048dd",
   "metadata": {
    "tags": [
     "hide-input"
    ]
   },
   "outputs": [
    {
     "name": "stdin",
     "output_type": "stream",
     "text": [
      "Enter the sequence {a_n}:  (-1)**n\n"
     ]
    },
    {
     "data": {
      "image/png": "[encoded data removed]",
      "text/plain": [
       "<Figure size 640x480 with 1 Axes>"
      ]
     },
     "metadata": {},
     "output_type": "display_data"
    }
   ],
   "source": [
    "# Ask the user for the sequence\n",
    "sequence = input(\"Enter the sequence {a_n}: \")\n",
    "\n",
    "# Evaluate the sequence for the first 100 terms (can change the range as needed)\n",
    "terms = []\n",
    "for n in range(1, 101):\n",
    "    term = eval(sequence, {'n': n})\n",
    "    terms.append(term)\n",
    "\n",
    "# Create the plot with dots\n",
    "plt.scatter(range(1, 101), terms)\n",
    "plt.xlabel(\"n\")\n",
    "plt.ylabel(\"a_n\")\n",
    "plt.title(\"Plot of the Sequence {a_n}\")\n",
    "plt.grid(True)\n",
    "\n",
    "# Display the plot\n",
    "plt.show()"
   ]
  },
  {
   "cell_type": "markdown",
   "id": "637941f7-4c51-49d7-92e2-e7358d285087",
   "metadata": {},
   "source": [
    "#### Limit of Sequences"
   ]
  },
  {
   "cell_type": "markdown",
   "id": "d9acbfa0-f246-4aa2-9798-02ade6f5db22",
   "metadata": {},
   "source": [
    "Recall limit notation from the Limit Section. \n",
    "- We say that $\\lim\\limits_{n\\to \\infty} a_n = L$ if for every number $\\varepsilon >0$ there is an integer $N$ such that $\\vert a_n - L\\vert <\\varepsilon$ whenever $n>N$. \n",
    "- We say that $\\lim\\limits_{n\\to \\infty} a_n = \\infty$ if for every number $M>0$ there is an integer $N$ such that $a_n > M$ whenever $n>N$.\n",
    "- We say that $\\lim\\limits_{n\\to \\infty} a_n = -\\infty$ if for every number $M<0$ there is an integer $N$ such that $a_n < M$ whenever $n>N$.\n",
    "\n",
    "If $\\lim\\limits_{n\\to \\infty} a_n$ exists and is finite, we say $\\lbrace a_n \\rbrace$ is **convergent**.\n",
    "\n",
    "If $\\lim\\limits_{n\\to \\infty} a_n$ DNE or is infinite, we say $\\lbrace a_n \\rbrace$ is **divergent**. If $\\lim\\limits_{n\\to \\infty} a_n = \\pm\\infty$ then we say $\\lbrace a_n \\rbrace$ diverges to $\\pm \\infty$."
   ]
  },
  {
   "cell_type": "markdown",
   "id": "cb864161-0fbd-4546-86bb-511195e10d50",
   "metadata": {},
   "source": [
    "Note that these limit definitions are not the same with monotonicity, which is stricter.\n",
    "\n",
    "The use of an integer $N$ whenever $n>N$ emphasizes how limits only consider the end part of a sequence, not necessarily for every $n$ like in monotonicity.\n",
    "For example:\n",
    "- The sequence $\\lbrace a_n\\rbrace = \\lbrace 2,5, 60, 700,8000,43,521,1,-70,-500, -2,1,1,1,1,1,1,1,\\ldots\\rbrace$ (the rest of the terms are all $1$).>\n",
    "  - $\\lbrace a_n \\rbrace$ is not monotonic, but $\\lim\\limits_{n\\to \\infty} a_n = 1$ since at some point, all the term goes to $1$. \n",
    "- The sequence $\\lbrace a_n\\rbrace = \\lbrace 35,75,42,21,-12,-1,-2,-3,-4,-5,-6,\\ldots\\rbrace$ (the rest of the terms keep going down by $1$).\n",
    "  - $\\lbrace a_n \\rbrace$ is not monotonic decreasing, but $\\lim\\limits_{n\\to \\infty} a_n = -\\infty$ since at some point the term kept going down."
   ]
  },
  {
   "cell_type": "markdown",
   "id": "fc6faad7-c8e9-4875-adad-d47741d05cde",
   "metadata": {},
   "source": [
    "Properties of limits of sequences follow from the properties of limits, so will not be relisted in this section."
   ]
  },
  {
   "cell_type": "markdown",
   "id": "396d9805-446f-4709-a128-bc31052e73db",
   "metadata": {},
   "source": [
    "#### Theorems"
   ]
  },
  {
   "cell_type": "markdown",
   "id": "79129e6c-9dca-4af8-a183-8beb7d7ef163",
   "metadata": {},
   "source": [
    "Below are some useful theorems on sequences. Motivated students are encouraged to prove them.\n",
    "\n",
    ":::::{admonition} Theorems\n",
    ":class: tip\n",
    "\n",
    "**Theorem 1:** If $\\lbrace a_n \\rbrace$ is monotonic and bounded, then $\\lbrace a_n \\rbrace$ is convergent.\n",
    "\n",
    "**Theorem 2:** If $\\lim\\limits_{n\\to \\infty} \\vert a_n\\vert = 0$ then $\\lim\\limits_{n\\to \\infty} a_n= 0$.\n",
    "\n",
    "**Theorem 3:** The sequence $\\left\\lbrace r^n\\right\\rbrace_{n=0}^{\\infty}$ converges to $0$ if $-1<r <1$, converges to $1$ if $r=1$, and diverges for all other values of $r$.\n",
    "\n",
    "**Theorem (Squeeze Theorem for Sequences):** If $a_n\\leq c_n \\leq b_n$ for all $n>N$ for some integer $N$ and $\\lim\\limits_{n\\to \\infty} a_n= \\lim\\limits_{n\\to \\infty} b_n = L$, then $\\lim\\limits_{n\\to \\infty} c_n=L$.\n",
    ":::::"
   ]
  },
  {
   "cell_type": "markdown",
   "id": "cbbebcd7-dcee-4cc1-87bf-8ae165114169",
   "metadata": {},
   "source": [
    "While the theorems are useful, it is also useful to be able to check the convergence or divergence of a sequence using Python code.\n",
    "Below is a code that checked the first 100 terms of $\\lbrace a_n \\rbrace$ to determine whether $\\lbrace a_n \\rbrace$ converges or diverges. It is easy to change the number of terms to check if needed."
   ]
  },
  {
   "cell_type": "code",
   "execution_count": 9,
   "id": "394f4579-2255-498f-ab51-fe5269581e8c",
   "metadata": {
    "tags": [
     "hide-input"
    ]
   },
   "outputs": [
    {
     "name": "stdin",
     "output_type": "stream",
     "text": [
      "Enter the sequence a_n:  math.exp(2*n)/2\n"
     ]
    },
    {
     "name": "stdout",
     "output_type": "stream",
     "text": [
      "The sequence diverges.\n"
     ]
    }
   ],
   "source": [
    "# Ask the user for the sequence\n",
    "sequence = input(\"Enter the sequence a_n: \")\n",
    "\n",
    "# Evaluate the first 100 terms of the sequence\n",
    "terms = []\n",
    "for n in range(1, 101):\n",
    "    term = eval(sequence, {'n': n, 'math': math})\n",
    "    terms.append(term)\n",
    "\n",
    "# Check if the sequence converges or diverges\n",
    "converges = all(term == terms[0] for term in terms)\n",
    "if converges:\n",
    "    print(\"The sequence converges.\")\n",
    "else:\n",
    "    print(\"The sequence diverges.\")"
   ]
  },
  {
   "cell_type": "markdown",
   "id": "6d1ae6ed-ae94-445c-af84-d64c14c6bfb4",
   "metadata": {},
   "source": [
    "## Series"
   ]
  },
  {
   "cell_type": "markdown",
   "id": "da123cad-0e33-47d2-af69-f23a2b5b294b",
   "metadata": {},
   "source": [
    "**(Infinite) series** are an infinite sum of terms $a_1+a_2+a_3+\\ldots$, typically written using sigma notation $\\sum\\limits_{i=1}^{\\infty} a_i$.\n",
    "\n",
    ":::{admonition} Example\n",
    "- $\\sum\\limits_{i=1}^{\\infty} i = 1+2+3+4+\\ldots$\n",
    "\n",
    "- $\\sum\\limits_{i=1}^{\\infty} 2^i = 2^1+2^2+2^3+2^4+\\ldots$\n",
    "\n",
    "- $\\sum\\limits_{i=1}^{\\infty} \\dfrac{3^i}{4i} = \\dfrac{3^1}{4\\cdot 1}+\\dfrac{3^2}{4\\cdot 2}+\\dfrac{3^3}{4\\cdot 3}+\\dfrac{3^4}{4\\cdot 4}+\\ldots$\n",
    ":::"
   ]
  },
  {
   "cell_type": "markdown",
   "id": "511a2eaa-40b8-40f9-b39c-c82f17f4ad83",
   "metadata": {},
   "source": [
    "The $i$ in $\\sum\\limits_{i=1}^{\\infty} a_i$ is called the **index (of summation)**, not to be confused with the notation of imaginary numbers. \n",
    "- What letter used to represent the index does not matter: $\\sum\\limits_{i=1}^{\\infty} a_i=\\sum\\limits_{k=1}^{\\infty} a_k=\\sum\\limits_{n=1}^{\\infty} a_n$, etc.\n",
    "- For convenience, **index shift** can be applied to series: $\\sum\\limits_{i=1}^{\\infty} a_i = \\sum\\limits_{i=2}^{\\infty} a_{(i-1)} = \\sum\\limits_{i=0}^{\\infty} a_{(i+1)}$, etc.\n",
    "  - With this in mind, it is normal for different resources and math literatures to define series with index started with $i\\neq 1$.\n",
    "\n",
    ":::{admonition} Example\n",
    "- $\\sum\\limits_{i=1}^{\\infty} \\dfrac{1}{i^2} = \\dfrac{1}{1^2}+\\dfrac{1}{2^2}+\\dfrac{1}{3^2}+\\ldots = \\sum\\limits_{k=1}^{\\infty} \\dfrac{1}{k^2}$\n",
    "\n",
    "- $\\sum\\limits_{i=1}^{\\infty} \\dfrac{1}{i^2} = \\dfrac{1}{1^2}+\\dfrac{1}{2^2}+\\dfrac{1}{3^2}+\\ldots = \\sum\\limits_{i=5}^{\\infty} \\dfrac{1}{(i-4)^2}$\n",
    ":::"
   ]
  },
  {
   "cell_type": "markdown",
   "id": "d813282d-441b-47a7-9518-85af8f08f174",
   "metadata": {},
   "source": [
    "## Convergence and Divergence of Series"
   ]
  },
  {
   "cell_type": "markdown",
   "id": "7655eb46-661b-40b5-b955-298888920fd8",
   "metadata": {},
   "source": [
    "The $\\boldsymbol{n^{\\text{th}}}$ **partial sums** of $\\sum\\limits_{i=1}^{\\infty} a_i$ is the finite sum $S_n=\\sum\\limits_{i=1}^{n} a_i = a_i+a_2+\\ldots +a_n$.\n",
    "\n",
    "The series $\\sum\\limits_{i=1}^{\\infty} a_i$ is **convergent** if the sequence of partial sums $\\left\\lbrace S_n \\right\\rbrace_{n=1}^{\\infty}$ is convergent to a finite limit.\n",
    "\n",
    "The series $\\sum\\limits_{i=1}^{\\infty} a_i$ is **divergent** if the sequence of partial sums $\\left\\lbrace S_n \\right\\rbrace_{n=1}^{\\infty}$ is divergent."
   ]
  },
  {
   "cell_type": "markdown",
   "id": "0fe78ef7-588c-4f94-9781-5890326a44c2",
   "metadata": {},
   "source": [
    ":::{admonition} Example\n",
    "- $\\sum\\limits_{i=1}^{\\infty} \\dfrac{1}{i^2+i}$ is convergent since \n",
    "$\\lim\\limits_{n\\to \\infty} S_n = \\lim\\limits_{n\\to \\infty} \\left(\\sum\\limits_{i=1}^{n} \\dfrac{1}{i^2+i}\\right)=\\lim\\limits_{n\\to \\infty} \\left(\\sum\\limits_{i=1}^{n} \\dfrac{1}{i(i+1)}\\right) = \\lim\\limits_{n\\to \\infty} \\left(\\sum\\limits_{i=1}^{n} \\dfrac{1}{i}-\\dfrac{1}{i+1}\\right) = \\lim\\limits_{n\\to \\infty} \\left(1-\\dfrac{1}{n}\\right)=1$.\n",
    "\n",
    "- $\\sum\\limits_{i=1}^{\\infty} i$ is divergent since $\\lim\\limits_{n\\to \\infty} S_n = \\lim\\limits_{n\\to \\infty} \\left(\\sum\\limits_{i=1}^{n} i\\right)= \\lim\\limits_{n\\to \\infty} \\left(\\dfrac{n(n+1)}{2}\\right)=\\infty$.\n",
    ":::"
   ]
  },
  {
   "cell_type": "markdown",
   "id": "a4782830-1312-4daa-98c3-7c82190093eb",
   "metadata": {},
   "source": [
    "#### Properties of Convergent Series"
   ]
  },
  {
   "cell_type": "markdown",
   "id": "52ab6e58-4831-420f-aa8e-7c859f6f5686",
   "metadata": {},
   "source": [
    "If $\\sum\\limits_{i=k}^{\\infty} a_i$ and $\\sum\\limits_{i=k}^{\\infty} b_i$ are both convergent, then \n",
    "- $\\sum\\limits_{i=k}^{\\infty} ca_i = c\\sum\\limits_{i=k}^{\\infty} a_i$ is also convergent for any constant $c$. \n",
    "\n",
    "- $\\sum\\limits_{i=k}^{\\infty} a_i \\pm \\sum\\limits_{i=k}^{\\infty} b_i = \\sum\\limits_{i=k}^{\\infty} \\left(a_i \\pm b_i\\right)$ is also convergent."
   ]
  },
  {
   "cell_type": "markdown",
   "id": "bb291169-b20d-4bd9-bf57-12be1521b748",
   "metadata": {},
   "source": [
    "Recall distributive property to note that $\\left(\\sum\\limits_{i=1}^{\\infty} a_i\\right)\\left(\\sum\\limits_{i=1}^{\\infty} b_i\\right) \\neq \\sum\\limits_{i=1}^{\\infty} \\left(a_ib_i\\right)$.\n",
    "In fact, $\\left(\\sum\\limits_{i=1}^{\\infty} a_i\\right)\\left(\\sum\\limits_{i=1}^{\\infty} b_i\\right)= \\sum\\limits_{i=1}^{\\infty} c_i$ where $c_i=\\sum\\limits_{k=1}^{i} a_kb_{(i-k)}$.\n",
    "\n",
    "No conclusions can be drawn about the convergence or multiplication of series.\n",
    "Moreover, given how complicated the multiplication of infinite series is, people would rather avoid doing it."
   ]
  },
  {
   "cell_type": "markdown",
   "id": "96b38e38-87f9-4e8e-9612-2103075f3654",
   "metadata": {},
   "source": [
    ":::::{admonition} Theorems\n",
    ":class: tip\n",
    "\n",
    "\n",
    "**Theorem:** If $\\sum\\limits_{n=1}^{\\infty} a_n$ converges then $\\lim\\limits_{n\\to \\infty} a_n=0$.\n",
    "\n",
    "**Theorem (Divergence Test):** If $\\lim\\limits_{n\\to \\infty} a_n\\neq 0$ then $\\sum\\limits_{n=1}^{\\infty} a_n$ diverges.\n",
    ":::::\n",
    "\n",
    "**Example**\n",
    "The series $\\sum\\limits_{i=1}^{\\infty} \\dfrac{3i^2+5}{7i-i^2}$ diverges since $\\lim\\limits_{n\\to \\infty} \\dfrac{3n^2+5}{7n-n^2}=-3 \\neq 0$."
   ]
  },
  {
   "cell_type": "markdown",
   "id": "46ba4427-9c31-47c2-a19c-aefe2247f514",
   "metadata": {},
   "source": [
    "#### Geometric Series"
   ]
  },
  {
   "cell_type": "markdown",
   "id": "53870b78-9e07-4901-b834-2b4ed31dc4f7",
   "metadata": {},
   "source": [
    "A **geometric series** is a series that can be written in the form $\\sum\\limits_{i=1}^{\\infty} ar^{i-1}$, or, with index shift, $\\sum\\limits_{i=0}^{\\infty} ar^{i}$.\n",
    "\n",
    "The $n^{\\text{th}}$ partial sum $S_n$ of a geometric series can be found as follows:\n",
    "\n",
    "\\begin{align*}\n",
    "S_n - rS_n &= \\left(a + ar + ar^2 + ar^3 + \\ldots + ar^{n-1}\\right)-\\left(ar + ar^2 + ar^3 + \\ldots + ar^{n-1} + ar^n\\right)  \\\\\n",
    "(1-r)S_n &= a- ar^n \\\\\n",
    "S_n &= \\dfrac{a\\left(1-r^n\\right)}{1-r}\n",
    "\\end{align*}\n",
    "\n",
    "\n",
    "Taking the limit of the sequence of partial sums: \n",
    "\n",
    "\\begin{align*}\n",
    "\\lim\\limits_{n\\to \\infty} S_n &= \\lim\\limits_{n\\to \\infty} \\dfrac{a\\left(1-r^n\\right)}{1-r} \\\\\n",
    "&= \\lim\\limits_{n\\to \\infty} \\left(\\dfrac{a}{1-r} - \\dfrac{ar^n}{1-r} \\right) \\\\\n",
    "&= \\lim\\limits_{n\\to \\infty} \\dfrac{a}{1-r} - \\lim\\limits_{n\\to \\infty} \\dfrac{ar^n}{1-r}\\\\\n",
    "&= \\dfrac{a}{1-r} - \\dfrac{a}{1-r}\\lim\\limits_{n\\to \\infty} r^n\n",
    "\\end{align*}\n",
    "\n",
    "The only term depending on $n$ is $r^n$, which only provides finite answers $-1<r \\leq 1$.\n",
    "However, $r=1$ gives division by zero on the $\\dfrac{a}{1-r}$, and the limit only exists (and equals zero) when $-1<r<1$ (or, $|r|<1$). \n",
    "Thus, the limit of the partial sums, as well as the sum of the geometric series, is $\\sum\\limits_{i=1}^{\\infty} ar^{i-1}=\\lim\\limits_{n\\to \\infty} S_n  = \\dfrac{a}{1-r} - \\dfrac{a}{1-r} \\cdot 0 = \\dfrac{a}{1-r}$.\n",
    "\n",
    ":::{admonition} Example \n",
    "Determine if $\\sum\\limits_{n=1}^{\\infty} \\dfrac{2^{n+2}}{3^{n-1}}$ converge or diverge. If it converges, give the value of the series. \n",
    "\n",
    "The convergence of this series can be seen by rewriting it in geometric series form and calculating: \n",
    "\n",
    "\\begin{equation*}\n",
    "\\sum\\limits_{n=1}^{\\infty} \\dfrac{2^{n+2}}{3^{n-1}} =\\sum\\limits_{n=1}^{\\infty} \\dfrac{2^3\\cdot 2^{n-1}}{3^{n-1}} = \\sum\\limits_{n=1}^{\\infty} 8\\left(\\dfrac{2}{3}\\right)^{n-1} = \\dfrac{8}{1-\\frac{2}{3}} = \\dfrac{8}{\\frac{1}{3}}=24.\n",
    "\\end{equation*}\n",
    "\n",
    ":::"
   ]
  },
  {
   "cell_type": "markdown",
   "id": "10ea3d19-da4f-4bfc-ab86-73a63b53cb2e",
   "metadata": {},
   "source": [
    "#### Harmonic Series"
   ]
  },
  {
   "cell_type": "markdown",
   "id": "d8ee61ec-a13a-4372-8f23-feb161c38036",
   "metadata": {},
   "source": [
    "A **harmonic series** is the series $\\sum\\limits_{i=1}^{\\infty} \\dfrac{1}{i}$.\n",
    "Remember that if $\\sum\\limits_{n=1}^{\\infty} a_n$ converges then $\\lim\\limits_{n\\to \\infty} a_n=0$, but not the other way around.\n",
    "While $\\lim\\limits_{n\\to \\infty} \\dfrac{1}{n}=0$, the Harmonic series is divergent. This will be shown with the Integral Test below."
   ]
  },
  {
   "cell_type": "markdown",
   "id": "30e6afe2-4708-44dc-9152-c812da3cf640",
   "metadata": {},
   "source": [
    "## Convergence Tests"
   ]
  },
  {
   "cell_type": "markdown",
   "id": "17a8d439-2526-48f4-a994-37d5474d8d27",
   "metadata": {},
   "source": [
    "#### Integral Test"
   ]
  },
  {
   "cell_type": "markdown",
   "id": "a94dd5a6-fcd1-4ad2-ad03-3fe375c0dae1",
   "metadata": {},
   "source": [
    "If $f(x)$ is a continuous, positive, and decreasing function on the interval $[k,\\infty)$ and that $f(i)=a_i$, then,\n",
    "- if $\\displaystyle\\int_k^{\\infty} f(x) \\,dx$ is convergent then $\\sum\\limits_{i=k}^{\\infty} a_i$ is also convergent.\n",
    "- if $\\displaystyle\\int_k^{\\infty} f(x) \\,dx$ is divergent then $\\sum\\limits_{i=k}^{\\infty} a_i$ is also divergent.\n",
    "\n",
    ":::{admonition} Example: Harmonic Series\n",
    "Note that $f(x)=\\dfrac{1}{x}$ is a continuous, positive and decreasing function on $[1,\\infty)$.\n",
    "\n",
    "Since $\\displaystyle\\int_1^{\\infty} \\dfrac{1}{x} \\,dx=\\infty$ and hence is divergent, then by the Integral test, the Harmonic series $\\sum\\limits_{i=1}^{\\infty} \\dfrac{1}{i}$ also divergent.\n",
    ":::"
   ]
  },
  {
   "cell_type": "markdown",
   "id": "68d859e0-6efc-4bdd-9be0-937c3cae5e3d",
   "metadata": {},
   "source": [
    "#### The $p$-series Test"
   ]
  },
  {
   "cell_type": "markdown",
   "id": "704edf19-d0fb-4e2c-a0a3-60973691bae6",
   "metadata": {},
   "source": [
    "If $k>0$ then then $\\sum\\limits_{i=k}^{\\infty} \\dfrac{1}{i^p}$ converges if $p>1$ and diverges if $p\\leq 1$.\n",
    "\n",
    ":::{admonition} Example\n",
    "\n",
    "$\\sum\\limits_{i=2}^{\\infty} \\dfrac{1}{i^5}$ converges as it is a $p$-series with $p=5>1$, while $\\sum\\limits_{i=2}^{\\infty} \\dfrac{1}{\\sqrt{i}}$ diverges as it is a $p$-series with $p=0.5<1$. \n",
    ":::"
   ]
  },
  {
   "cell_type": "markdown",
   "id": "02cefeda-7473-4c95-9e03-f0eb08f8ccdf",
   "metadata": {},
   "source": [
    "#### Comparison Test"
   ]
  },
  {
   "cell_type": "markdown",
   "id": "dd7d733f-21d2-4147-8b82-3be91252eac8",
   "metadata": {},
   "source": [
    "Given two series $\\sum a_i$ and $\\sum b_i$ with nonnegative $a_i$ and $b_i$ for all $i$. If $a_i\\leq b_i$ for all $i$, then:\n",
    "- If $\\sum b_i$ is convergent then $\\sum a_i$ is also convergent\n",
    "- If $\\sum a_i$ is divergent then $\\sum b_i$ is also divergent\n",
    "\n",
    ":::{admonition} Example\n",
    "- $\\sum\\limits_{i=1}^{\\infty} \\dfrac{i^3+2}{i^7-5}$ is convergent, because $\\dfrac{i^3+2}{i^7-5} > \\dfrac{i^3+2}{i^7} > \\dfrac{i^3}{i^7}=\\dfrac{1}{i^4}$ and $\\sum\\limits_{i=1}^{\\infty} \\dfrac{1}{i^4}$ is convergent as it is a $p$-series with $p=4>1$.\n",
    "\n",
    "- $\\sum\\limits_{i=1}^{\\infty} \\dfrac{i}{i^2+7}$ is divergent, because $\\dfrac{i}{i^2+7} <\\dfrac{i}{i^2} =\\dfrac{1}{i}$ and $\\sum\\limits_{i=1}^{\\infty} \\dfrac{1}{i}$ is divergent as it is a $p$-series with $p=1$.\n",
    ":::"
   ]
  },
  {
   "cell_type": "markdown",
   "id": "da1929cf-19a6-4a3d-b5d3-2a50f3fa7cac",
   "metadata": {},
   "source": [
    "#### Limit Comparison Test"
   ]
  },
  {
   "cell_type": "markdown",
   "id": "d6fdd745-77e4-4dc6-9b4d-2f88b71cc818",
   "metadata": {},
   "source": [
    "Given two series $\\sum a_i$ and $\\sum b_i$ with $a_i\\geq 0$ and $b_i>0$ for all $i$. Define $c=\\lim\\limits_{i\\to\\infty} \\dfrac{a_i}{b_i}$.\n",
    "\n",
    "If $0<c<\\infty$, then either both $\\sum a_i$ and $\\sum b_i$ converge or both $\\sum a_i$ and $\\sum b_i$ diverge.\n",
    "\n",
    "Limit Comparison Test (LCT) is similar to the Comparison Test (CT) in the sense that we want to compare the series with a series that we know or easily recognize as converging or diverging.\n",
    "\n",
    ":::{admonition} Example\n",
    "Is $\\sum\\limits_{i=1}^{\\infty} \\dfrac{1}{i+2^i}$ convergent or divergent?\n",
    "\n",
    "Take $\\dfrac{1}{i+2^i}$ as $b_i$ and $\\dfrac{1}{2^i}$ as $a_i$ so that $c=\\lim\\limits_{i\\to\\infty} \\dfrac{\\frac{1}{2^i}}{\\frac{1}{i+2^i}}=\\lim\\limits_{i\\to\\infty} \\dfrac{i+2^i}{2^i} = \\lim\\limits_{i\\to\\infty} \\dfrac{i}{2^i} +  \\lim\\limits_{i\\to\\infty} 1 =  \\lim\\limits_{i\\to\\infty} \\dfrac{1}{2^i \\ln(2)} +1 = 1$.\n",
    "\n",
    "As $c=1$ is finite positive and $\\sum\\limits_{i=1}^{\\infty} \\dfrac{1}{2^i}$ is convergent for being a geometric series with $|r|=\\Bigg\\vert \\dfrac{1}{2} \\Bigg\\vert <1$, then by LCT, $\\sum\\limits_{i=1}^{\\infty} \\dfrac{1}{i+2^i}$ is also convergent.\n",
    ":::"
   ]
  },
  {
   "cell_type": "markdown",
   "id": "5ffff4a6-715a-4e87-b9cf-eec4ebacdea5",
   "metadata": {},
   "source": [
    "#### Alternating Series Test"
   ]
  },
  {
   "cell_type": "markdown",
   "id": "1db0d365-a720-4ecb-a69b-d4ac16914f2a",
   "metadata": {},
   "source": [
    "Suppose $\\sum a_i$ is a series with $a_i=(-1)^ib_i$ or $a_i=(-1)^{i+1}b_i$ where $b_i\\geq 0$ for all $i$.\n",
    "\n",
    "If $\\lim\\limits_{i\\to\\infty} b_i=0$ and $\\lbrace b_i \\rbrace$ is a decreasing sequence, then $\\sum a_i$ is convergent.\n",
    "\n",
    ":::{admonition} Example\n",
    "Determine if $\\sum\\limits_{i=3}^{\\infty} \\dfrac{\\sin(i\\pi)}{\\sqrt{i}}$ is convergent or divergent.\n",
    "\n",
    "Note that $\\sin(i\\pi)=(-1)^i$ hence we can rewrite the series into $\\sum\\limits_{i=3}^{\\infty} \\dfrac{(-1)^i}{\\sqrt{i}}$, which is in the alternating form with $b_i=\\dfrac{1}{\\sqrt{i}}$.\n",
    "\n",
    "Since $\\lim\\limits_{i\\to\\infty} b_i=\\lim\\limits_{i\\to\\infty} \\dfrac{1}{\\sqrt{i}}=0$ and $\\dfrac{1}{\\sqrt{i}}>\\dfrac{1}{\\sqrt{i+1}}$ for all $i\\geq 3$, then the Alternating Series Test conditions are satisfied and hence $\\sum\\limits_{i=3}^{\\infty} \\dfrac{\\sin(i\\pi)}{\\sqrt{i}}$ is convergent.\n",
    ":::"
   ]
  },
  {
   "cell_type": "markdown",
   "id": "48100221-edf3-42d9-8763-eb0f11a1b04d",
   "metadata": {},
   "source": [
    "#### Absolute and Conditional Convergence"
   ]
  },
  {
   "cell_type": "markdown",
   "id": "8be6d317-58ca-4429-96cf-b4fa40bb90f0",
   "metadata": {},
   "source": [
    "The series $\\sum\\limits_{i=1}^{\\infty} a_i$ is **absolutely convergent** if $\\sum\\limits_{i=1}^{\\infty} a_i$ converges and $\\sum\\limits_{n=i}^{\\infty} |a_i|$ converges.\n",
    "\n",
    "The series $\\sum\\limits_{i=1}^{\\infty} a_i$ is **conditionally convergent** if $\\sum\\limits_{i=1}^{\\infty} a_i$ converges but $\\sum\\limits_{n=i}^{\\infty} |a_i|$ diverges.\n",
    "\n",
    "It immediately follows that absolute convergence implies convergence, but not vice versa. \n",
    "\n",
    ":::{admonition} Example\n",
    "$\\sum\\limits_{i=1}^{\\infty} \\dfrac{(-1)^n}{n}$ is conditionally convergent:\n",
    "- $\\sum\\limits_{i=1}^{\\infty} \\dfrac{(-1)^n}{n}$ is convergent by the Alternating Series Test\n",
    "- $\\sum\\limits_{i=1}^{\\infty} \\Bigg\\vert \\dfrac{(-1)^n}{n}\\Bigg\\vert = \\sum\\limits_{i=1}^{\\infty} \\dfrac{1}{n}$ since it's a Harmonic series (by the Integral Test).\n",
    ":::"
   ]
  },
  {
   "cell_type": "markdown",
   "id": "005d612f-b8e9-4606-a17d-6602ec683427",
   "metadata": {},
   "source": [
    "#### Ratio Test"
   ]
  },
  {
   "cell_type": "markdown",
   "id": "b7e01212-b51a-4089-8dee-eefd2bdc6a23",
   "metadata": {},
   "source": [
    "Given the series $\\sum a_i$. Define $L=\\lim\\limits_{i\\to \\infty} \\Bigg\\vert \\dfrac{a_{i+1}}{a_i} \\Bigg\\vert=\\lim\\limits_{i\\to \\infty} \\Bigg\\vert a_{i+1}\\cdot\\dfrac{1}{a_i} \\Bigg\\vert$. \n",
    "- If $L<1$ then the series is absolutely convergent, and hence convergent\n",
    "- If $L>1$ then the series is divergent\n",
    "- If $L=1$ then the test is inconclusive\n",
    "\n",
    ":::{admonition} Example\n",
    "- $\\sum\\limits_{i=1}^{\\infty} \\dfrac{i^2}{(2i)!}$ is absolutely convergent since \n",
    "\n",
    "\\begin{align*}\n",
    "L=\\lim\\limits_{i\\to \\infty} \\Bigg\\vert \\dfrac{(i+1)^2}{(2(i+1))!} \\cdot \\dfrac{(2i)!}{i^2} \\Bigg\\vert &=\\lim\\limits_{i\\to \\infty} \\Bigg\\vert \\dfrac{(i+1)^2(2i)!}{i^2(2i+2)!} \\Bigg\\vert \\\\\n",
    "&=\\lim\\limits_{i\\to \\infty} \\dfrac{(i+1)^2(2i)!}{i^2(2i+2)(2i+1)(2i!)}\\\\\n",
    "&=\\lim\\limits_{i\\to \\infty} \\dfrac{(i+1)^2}{i^2(2i+2)(2i+1)} =0<1.\n",
    "\\end{align*}\n",
    "\n",
    "- $\\sum\\limits_{i=1}^{\\infty} \\dfrac{i!}{2^i}$ is divergent since $L=\\lim\\limits_{i\\to \\infty} \\Bigg\\vert \\dfrac{(i+1)!}{2^{i+1}} \\cdot \\dfrac{2^i}{i!} \\Bigg\\vert = \\lim\\limits_{i\\to \\infty} \\dfrac{i+1}{2}=\\infty>1$.\n",
    "\n",
    "- Ratio Test fails for determining convergence of $\\sum\\limits_{i=1}^{\\infty} \\dfrac{1}{i^2}$ since $L=\\lim\\limits_{i\\to \\infty} \\Bigg\\vert \\dfrac{(i+1)^2}{i^2} \\Bigg\\vert =\\lim\\limits_{i\\to \\infty} \\dfrac{i^2+2i+1}{i^2} =\\lim\\limits_{i\\to \\infty} 1+\\dfrac{2}{i}+\\dfrac{1}{i^2}=1$.\n",
    "  - However, we knew from $p$-test that $\\sum\\limits_{i=1}^{\\infty} \\dfrac{1}{i^2}$ is convergent.\n",
    " :::"
   ]
  },
  {
   "cell_type": "markdown",
   "id": "c12e71e0-f169-4f9e-b70f-ab18a9c63f7c",
   "metadata": {},
   "source": [
    "#### Root Test"
   ]
  },
  {
   "cell_type": "markdown",
   "id": "47330b56-c385-4e3d-a172-512d6e668261",
   "metadata": {},
   "source": [
    "Given the series $\\sum a_i$. Define $L=\\lim\\limits_{i\\to \\infty} \\sqrt[i]{\\vert a_i \\vert} =\\lim\\limits_{i\\to \\infty} \\vert a_i \\vert^{1/i} $. \n",
    "- If $L<1$ then the series is absolutely convergent, and hence convergent\n",
    "- If $L>1$ then the series is divergent\n",
    "- If $L=1$ then the series is inconclusive\n",
    "\n",
    "In using the Root Test, we often use the fact that $\\lim\\limits_{n\\to\\infty} n^{1/n}=1$.\n",
    "\n",
    ":::{admonition} Example\n",
    "- $\\sum\\limits_{i=1}^{\\infty} \\left(\\dfrac{3-4i^2}{5i^2+6}\\right)^i$ is absolutely convergent since $L=\\lim\\limits_{i\\to \\infty} \\Bigg\\vert \\left(\\dfrac{3-4i^2}{5i^2+6}\\right)^i \\Bigg\\vert^{\\frac{1}{i}}= \\lim\\limits_{i\\to \\infty} \\Bigg\\vert \\dfrac{3-4i^2}{5i^2+6}\\Bigg\\vert =\\Bigg\\vert \\dfrac{-4}{5} \\Bigg\\vert =\\dfrac{4}{5}<1$.\n",
    "\n",
    "- $\\sum\\limits_{i=1}^{\\infty} \\dfrac{2^i}{i}$ is divergent since $L=\\lim\\limits_{i\\to \\infty} \\Bigg\\vert \\dfrac{2^i}{i} \\Bigg\\vert^{\\frac{1}{i}} = \\lim\\limits_{i\\to \\infty} \\dfrac{2}{i^{1/i}}=\\dfrac{2}{1}>1$.\n",
    "\n",
    "- The Root Test fails for determining convergence of $\\sum\\limits_{i=1}^{\\infty} \\dfrac{1}{i}$ since $L=\\lim\\limits_{i\\to \\infty} \\Bigg\\vert \\dfrac{1}{i} \\Bigg\\vert^{\\frac{1}{i}} =\\lim\\limits_{i\\to \\infty}  \\dfrac{1}{i^{1/i}} =\\dfrac{1}{1} = 1$.\n",
    "  - However, we already know that this Harmonic series is divergent.\n",
    "    \n",
    ":::"
   ]
  },
  {
   "cell_type": "markdown",
   "id": "1ac01c89-08d5-4ff3-99e1-b6fff89c652c",
   "metadata": {},
   "source": [
    "#### Convergence Test with Python"
   ]
  },
  {
   "cell_type": "markdown",
   "id": "add9ce2e-ab42-4602-ac86-47985fac2993",
   "metadata": {},
   "source": [
    "While multiple tests can be used to manually determine the convergence of a series with steps that can become complicated, in Python, testing the convergence of a series is built in.\n",
    "\n",
    "Below is a code that ask for $a_n$ and return the convergence of $\\sum\\limits_{n=1}^{\\infty}$. The lower bound $n=1$ can be changed as needed."
   ]
  },
  {
   "cell_type": "code",
   "execution_count": 11,
   "id": "1ed08fc4-5c07-416d-ac8f-6d36dec8c9b6",
   "metadata": {
    "tags": [
     "hide-input"
    ]
   },
   "outputs": [
    {
     "name": "stdin",
     "output_type": "stream",
     "text": [
      "Enter the sequence a_n:  ((3-4*n**2)/(5*n**2+6))**n\n"
     ]
    },
    {
     "name": "stdout",
     "output_type": "stream",
     "text": [
      "The series is convergent.\n"
     ]
    }
   ],
   "source": [
    "# Ask the user for the sequence\n",
    "sequence = input(\"Enter the sequence a_n: \")\n",
    "\n",
    "# Define the symbol n\n",
    "n = sp.Symbol('n')\n",
    "\n",
    "# Define the series sum(a_n) from n=1 to infinity\n",
    "series = sp.Sum(eval(sequence), (n, 1, sp.oo))\n",
    "\n",
    "# Check if the series is convergent or divergent\n",
    "if series.is_convergent():\n",
    "    print(\"The series is convergent.\")\n",
    "else:\n",
    "    print(\"The series is divergent.\")"
   ]
  },
  {
   "cell_type": "markdown",
   "id": "d1ff9b06-c766-4386-a133-8530baa55615",
   "metadata": {},
   "source": [
    "## Power Series"
   ]
  },
  {
   "cell_type": "markdown",
   "id": "adf8369c-67d3-4592-97a1-b737f1c0a90f",
   "metadata": {},
   "source": [
    "A **power series (about $\\boldsymbol{a}$)** is a series that can be written in the form $\\sum\\limits_{i=0}^{\\infty} c_i(x-a)^i$ where $a$ and $c_i$ are constants. The $c_i$'s are called the **coefficient** of the power series.\n",
    "\n",
    "Since power series are a function of $x$, the convergence of the series depends on the values of $x$.\n",
    "\n",
    "The **radius of convergence** of a power series is the number $R$ such that the series will converge for $|x-a|<R$ and diverge for $|x-a|>R$. The series may or may not converge if $|x-a|=R$.\n",
    "\n",
    "The **interval of convergence** is the interval containing all values of $x$ in which a power series converges, hence it's the interval $(a-R,a+R)$ possibly combined with the endpoint $a-R$ and/or $a+R$. "
   ]
  },
  {
   "cell_type": "markdown",
   "id": "e4fb4ffd-3550-47f3-bdaa-1ac25c83b58d",
   "metadata": {},
   "source": [
    ":::{admonition} Example\n",
    "Determine the radius and interval of convergence for $\\sum\\limits_{i=0}^{\\infty} \\dfrac{2^i(x-2)^i}{i}$.\n",
    "\n",
    "Using Ratio Test: $L=\\lim\\limits_{i\\to\\infty} \\Bigg\\vert \\dfrac{2^{i+1}(x-2)^{i+1}}{i+1} \\cdot \\dfrac{i}{2^i(x-2)^i} \\Bigg\\vert=\\lim\\limits_{i\\to\\infty} \\Bigg\\vert \\dfrac{2 i (x-2)}{i+1}  \\Bigg\\vert = 2|x-2| \\lim\\limits_{i\\to\\infty} \\dfrac{i}{i+1}= 2|x-2|$.\n",
    "\n",
    "By Ratio Test, $\\sum\\limits_{i=0}^{\\infty} \\dfrac{2^i(x-2)^i}{i}$ converges when $2|x-2|<1 \\Rightarrow |x-2|<0.5$.\n",
    "\n",
    "Hence the **radius of convergence is 0.5**.\n",
    "\n",
    "For the interval of convergence, solving for $x$ from $|x-2|<0.5 \\Rightarrow 1.5<x<2.5$, so we are left to check for the endpoints: \n",
    "- at $x=1.5$, the sum is $\\sum\\limits_{i=0}^{\\infty} \\dfrac{2^i(1.5-2)^i}{i} = \\sum\\limits_{i=0}^{\\infty} \\dfrac{2^i}{i}\\left(\\dfrac{-1}{2}\\right)^i = \\sum\\limits_{i=0}^{\\infty} \\dfrac{(-1)^i}{i}$, which converges by the Alternating Series Test.\n",
    "- at $x=2.5$, the sum is $\\sum\\limits_{i=0}^{\\infty} \\dfrac{2^i(2.5-2)^i}{i} = \\sum\\limits_{i=0}^{\\infty} \\dfrac{2^i}{i}\\left(\\dfrac{1}{2}\\right)^i = \\sum\\limits_{i=0}^{\\infty} \\dfrac{1}{i}$, which diverges since it is a Harmonic series.\n",
    "\n",
    "Thus, the **interval of convergence is** $\\boldsymbol{1.5\\leq x<2.5}$.\n",
    ":::"
   ]
  },
  {
   "cell_type": "markdown",
   "id": "0191e3f5-3bf6-497c-b081-e6551440cc55",
   "metadata": {},
   "source": [
    "## Exercises"
   ]
  },
  {
   "cell_type": "markdown",
   "id": "6553352a-d2d2-4c2b-9cc6-9dd5243f5c5a",
   "metadata": {},
   "source": [
    ":::{admonition} Exercises\n",
    "\n",
    "1. List the first 5 terms of each given sequence, then determine whether each sequence is monotonic and/or bounded.\n",
    "\n",
    "    - $\\left\\lbrace \\dfrac{n}{n+1} \\right\\rbrace_{n=1}^{\\infty}$\n",
    "    \n",
    "    - $\\left\\lbrace \\dfrac{2n^2-1}{n} \\right\\rbrace_{n=2}^{\\infty}$\n",
    "    \n",
    " 2. Determine whether the following sequences converge or diverge. Determine the limit if it exists.\n",
    "\n",
    "    - $\\left\\lbrace \\dfrac{(-1)^n\\cdot n^3}{5-n^4} \\right\\rbrace_{n=0}^{\\infty}$\n",
    "    \n",
    "    - $\\left\\lbrace \\dfrac{e^{3n}}{2+e^n} \\right\\rbrace_{n=1}^{\\infty}$\n",
    "    \n",
    "    - $\\left\\lbrace \\dfrac{\\ln(n+6)}{\\ln(3+3n)} \\right\\rbrace_{n=1}^{\\infty}$    \n",
    "    \n",
    " 3. Index shift and rename exercise:\n",
    "    \n",
    "    - Write $\\sum\\limits_{i=1}^{\\infty} \\dfrac{5-i}{i^3}$ as a series that starts at $n=3$.\n",
    "    \n",
    "    - Write $\\sum\\limits_{i=5}^{\\infty} (-1)^{i+2}2^i$ as a series that starts at $k=1$.\n",
    "    \n",
    " 4. Determine the convergence of the following series:\n",
    "    \n",
    "    - $\\sum\\limits_{i=1}^{\\infty} \\dfrac{1}{i^{\\pi/4}}$\n",
    "    \n",
    "    - $\\sum\\limits_{i=1}^{\\infty} \\dfrac{i-1}{\\sqrt{i^4+2}}$\n",
    "    \n",
    "    - $\\sum\\limits_{i=1}^{\\infty} \\dfrac{(-1)^{i+2}}{i^3+2i+2}$\n",
    "    \n",
    " 5. Determine the interval and radius of convergence of the following series:\n",
    "\n",
    "    - $\\sum\\limits_{i=1}^{\\infty} \\dfrac{4^{2i+1}}{5^{1+i}} (x+3)^i$\n",
    "    \n",
    "    - $\\sum\\limits_{i=1}^{\\infty} \\dfrac{(i+1)}{(2i+1)!} (x-2)^i$   \n",
    "::: "
   ]
  }
 ],
 "metadata": {
  "celltoolbar": "Edit Metadata",
  "kernelspec": {
   "display_name": "Python 3 (ipykernel)",
   "language": "python",
   "name": "python3"
  },
  "language_info": {
   "codemirror_mode": {
    "name": "ipython",
    "version": 3
   },
   "file_extension": ".py",
   "mimetype": "text/x-python",
   "name": "python",
   "nbconvert_exporter": "python",
   "pygments_lexer": "ipython3",
   "version": "3.12.3"
  }
 },
 "nbformat": 4,
 "nbformat_minor": 5
}
