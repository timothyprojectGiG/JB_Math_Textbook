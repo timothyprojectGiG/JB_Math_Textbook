{
 "cells": [
  {
   "cell_type": "markdown",
   "id": "964754dc-96b2-4350-ab50-b5bac2b31c32",
   "metadata": {},
   "source": [
    "# Introduction"
   ]
  },
  {
   "cell_type": "markdown",
   "id": "cebcbd03-92f7-42ca-8e4b-00b8e6880504",
   "metadata": {},
   "source": [
    "The purpose of this chapter is to show how differential equations can be used to solve real world issues in both human disease tracking and natural phenomena.\n",
    "- Logistic Growth and COVID-19: This section shows how the logistic growth model can be useful in predicting the spread of a disease like COVID-19\n",
    "- The Basic SIR Model: Introduces the SIR model, a system of three differential equations used to track the populations of infected, recovered, and susceptible individuals in an epidemic\n",
    "- Cholera in Haiti: Uses the SIR model to track the spread of Cholera in Haiti during an outbreak\n",
    "- CWS Model of Alzheimer's Disease: Introduces the CWS model, a tool that can be useful in tracking the progression of Alzheimer's Disease\n",
    "- Gravity Fed Water Delivery: Analyzes an application of Newton's 2nd law of motion (F=ma) on water fed delivery systems and introduces Bernoulli's equation\n",
    "- Earthquake resistant Construction: Introduces the spring mass equation as it relates to structural dynamics, along with topics like resonance, damping, and forcing"
   ]
  },
  {
   "cell_type": "code",
   "execution_count": null,
   "id": "afccee65-1762-4a56-bcce-10e72043f33b",
   "metadata": {},
   "outputs": [],
   "source": []
  }
 ],
 "metadata": {
  "kernelspec": {
   "display_name": "Python 3 (ipykernel)",
   "language": "python",
   "name": "python3"
  },
  "language_info": {
   "codemirror_mode": {
    "name": "ipython",
    "version": 3
   },
   "file_extension": ".py",
   "mimetype": "text/x-python",
   "name": "python",
   "nbconvert_exporter": "python",
   "pygments_lexer": "ipython3",
   "version": "3.11.7"
  }
 },
 "nbformat": 4,
 "nbformat_minor": 5
}
