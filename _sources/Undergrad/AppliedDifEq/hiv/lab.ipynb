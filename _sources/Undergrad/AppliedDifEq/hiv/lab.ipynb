{
 "cells": [
  {
   "cell_type": "code",
   "execution_count": 5,
   "metadata": {},
   "outputs": [],
   "source": [
    "import numpy as np\n",
    "import matplotlib.pyplot as plt\n",
    "from scipy.integrate import odeint\n",
    "from mpl_toolkits import mplot3d"
   ]
  },
  {
   "cell_type": "markdown",
   "metadata": {},
   "source": [
    "# JNB Lab: HIV-AIDS"
   ]
  },
  {
   "cell_type": "markdown",
   "metadata": {},
   "source": [
    "## Introduction"
   ]
  },
  {
   "cell_type": "markdown",
   "metadata": {},
   "source": [
    "The war against HIV/AIDS has been fought for many years on a variety of fronts. Clinical research has shown that early administration of anti-retroviral therapy (ART)  can  reduce transmission of HIV from one infected partner to another (Cohen et al 2011).  Similarly, such therapy can help prevent the transmission of HIV from mother to newborn.  Countries such as the African country of Lesotho have experienced having 1/4 of their population HIV-positive. In such situations, there is an urgent need to get the word out to at-risk  people to go for HIV testing. Vodafone foundation initiated a mobile outreach program in September 2015, using the mobile platform to register HIV patients and track treatment, as well as send out SMS messages providing information about HIV AIDS, all messages ending with the words \"Get tested for HIV\". Timely testing can make all the difference.\n",
    "\n",
    "Mosotho's mother discovered that she was HIV+ early in her pregnancy, and immediately began to take drugs to prevent her from infecting her baby. When Mosotho was born, he was immediately put on the life saving treatment. M'e N'thabang, a mother of eight children, three of whom were HIV+, for months would bring her young grandson, Mosotho, for his pediatric check-up. Today, he is HIV-, a testament to the impact of what proper health care can do for people. (allafrica.com, 2016)"
   ]
  },
  {
   "cell_type": "markdown",
   "metadata": {},
   "source": [
    "## UNAIDS Fact Sheet\n",
    "\n",
    "Here is the data from a recent UNAIDS fact sheet highlighting how grave the HIV situation is.  (https://www.unaids.org/en/resources/fact-sheet)\n",
    "\n",
    "**Global HIV statistics**\n",
    "\n",
    "- 39.0 million [33.1 million–45.7 million] people globally were living with HIV in 2022.\n",
    "- 1.3 million [1 million–1.7 million] people became newly infected with HIV in 2022.\n",
    "- 630 000 [480 000–880 000] people died from AIDS-related illnesses in 2022.\n",
    "- 29.8 million people were accessing antiretroviral therapy in 2022.\n",
    "- 85.6 million [64.8 million–113.0 million] people have become infected with HIV since the start of the epidemic.\n",
    "- 40.4 million [32.9 million–51.3 million] people have died from AIDS-related illnesses since the start of the epidemic.\n",
    "\n",
    "**Infected Population**\n",
    "\n",
    "- In 2022, there were 39.0 million [33.1 million–45.7 million] people living with HIV.\n",
    "    - 37.5 million [31.8 million–43.6 million] adults (15 years or older).\n",
    "    - 1.5 million [1.2 million–2.1 million] children (0–14 years).\n",
    "    - 53% of all people living with HIV were women and girls.\n",
    "    - 86% [73– 98%] of all people living with HIV knew their HIV status in 2022.\n",
    "- About 5.5 million people did not know that they were living with HIV in 2022.\n",
    " \n",
    "**People living with HIV accessing antiretroviral therapy**\n",
    "\n",
    "- At the end of December 2022, 29.8 million people were accessing antiretroviral therapy, up from 7.7 million in 2010.\n",
    "- In 2022, 76% [65–89%] of all people living with HIV were accessing treatment.\n",
    "- 77% [65–90%] of adults aged 15 years and older living with HIV had access to treatment, as did 57% [44–78%] of children aged 0–14 years.\n",
    "- 82% [69–95%] of women aged 15 years and older had access to treatment; however, just 72% [60–84%] of men aged 15 years and older had access.\n",
    "- 82% [64–98%] of pregnant women living with HIV had access to antiretroviral medicines to prevent transmission of HIV to their child in 2022.\n",
    " \n",
    "\n",
    "**New HIV infections**\n",
    "\n",
    "- New HIV infections have been reduced by 59% since the peak in 1995.\n",
    "- In 2022, 1.3 million [1 million–1.7 million] people were newly infected with HIV, compared to 3.2 million [2.5 million–4.3 million] people in 1995.\n",
    "- Women and girls accounted for 46% of all new infections in 2022.\n",
    "- Since 2010, new HIV infections have declined by 38%, from 2.1 million [1.6 million–2.8 million] to 1.3 million [1 million–1.7 million] in 2022.\n",
    "- Since 2010, new HIV infections among children have declined by 58%, from 310 000 [210 000–490 000] in 2010 to 130 000 [90 000–210 000] in 2022.\n",
    "\n",
    "**AIDS-related deaths**\n",
    "\n",
    "- AIDS-related deaths have been reduced by 69% since the peak in 2004 and by 51% since 2010.\n",
    "- In 2022, around 630 000 [480 000–880 000] people died from AIDS-related illnesses worldwide, compared to 2.0 million [1.5 million–2.8 million] people in 2004 and 1.3 million [970 000–1.8 million] people in 2010.\n",
    "- AIDS-related mortality has declined by 55% among women and girls and by 47% among men and boys since 2010.\n",
    "\n",
    "**Key populations**\n",
    "\n",
    "Globally, median HIV prevalence among the adult population (ages 15-49) was 0.7%. However, median prevalence was higher among key populations:\n",
    "\n",
    "- 2.5% among sex workers\n",
    "- 7.7% among gay men and other men who have sex with men\n",
    "- 5.0% among people who inject drugs\n",
    "- 10.3% among transgender persons\n",
    "- 1.4% among people in prisons.\n",
    "\n",
    "**Women and Girls**\n",
    "\n",
    "- Globally 46% of all new HIV infections were among women and girls (all ages) in 2022.\n",
    "- In sub-Saharan Africa, women and girls (all ages) accounted for 63% of all new HIV infections.  In all other geographical regions, over 70% of new HIV infections in 2022 occurred among men and boys.\n",
    "- Every week, 4000 adolescent girls and young women aged 15–24 years became infected with HIV globally in 2022. 3100 of these infections occurred in sub-Saharan Africa.\n",
    "\n",
    "**Testing and Treatment Targets (95–95–95)**\n",
    "\n",
    "- In 2022, 86% [73– >98%] of all people living with HIV knew their HIV status. \n",
    "    - Among people who knew their status, 89% [75– >98%] were accessing treatment. \n",
    "    - And among people accessing treatment, 93% [79– >98%] were virally suppressed.\n",
    "    - Among children ages 0-14 years the 95-95-95 targets were 63% [49% - 86%], 91% [71% - >98%], 81% [63%->98%] \n",
    "    - Among women, the 95-95-95 targets were: 90% [76->98%], 91% [77->98%], and 93% [79->98%].\n",
    "    - Among men, the 95-95-95 targets were: 83% [70-98%] of adult men living with HIV knew their HIV status, 86% [72->98%] were accessing treatment and 94% [79->98%] were virally suppressed.\n",
    "- Among all people living with HIV, 86% [73– >98%] knew their status, 76% [65–89%] were accessing treatment and 71% [60–83%] were virally suppressed in 2022.\n",
    "\n",
    "**Investments**\n",
    "\n",
    "- At the end of 2022, 20.8 billion (in constant 2019 United States dollars) was available for the AIDS response in low- and middle-income countries—around 60% was from domestic sources.\n",
    "\n",
    "- UNAIDS estimates that 29 billion (in constant 2019 United States dollars) will be required for the AIDS response in low- and middle-income countries, including countries formerly considered to be upper-income countries, in 2025 to get on track to end AIDS as a public health threat.\n"
   ]
  },
  {
   "cell_type": "markdown",
   "metadata": {},
   "source": [
    "```{index} Perelson's immunological HIV model\n",
    "```"
   ]
  },
  {
   "cell_type": "markdown",
   "metadata": {},
   "source": [
    " ## Perelson's Immunological HIV Model\n",
    "Almost 50 years have passed since the first immunological model of HIV was proposed by Leon Cooper [1986]. Differential equation models and discrete difference equations have been used by both immunologists and epidemiologists in the war against HIV/AIDS. Whereas immunological models describe how the HIV virus attacks the body's immune system, epidemiological models describe the spread of the HIV/AIDS throughout a population.\n",
    "With the understanding that all mathematical models depend on simplifying assumptions which need to be revised as further experimental evidence/data is obtained (Covert and Kischner 2000), Perelson's model, as introduced briefly in this lab, will help us understand why ART helps the human immune system fight HIV (see Isihara et. al 2005 for a more complete introduction).\n",
    "\n",
    "Our immune system has two lines of defense:  *innate* (i.e., general defense against all invaders) and *acquired*  (i.e., defense targeted at specific invaders). Our front-line defense keeps invaders from entering the body or bloodstream, and secondary defense fights invaders that have passed through the front-line. Whereas the innate immune system (eg. skin, stomach acid, mucus, phagocytes) works in both lines of defense, the acquired immune system only works in the second-line via lymphocytes which target *antigens*, (i.e. large molecules on the surfaces of cells, viruses, bacteria etc.) which uniquely identify invaders. T-cells are a type of lymphocyte produced in the marrow. CD4$^{+}$ T-cells normally average about 1000 per cubic mm of blood and a decrease in their concentration level is used to assess HIV positive status. Perelson's model describes the change in concentration of healthy CD4$^{+}$ T-cells after an individual becomes infected with the HIV virus.  After the\n",
    "primary infection, an HIV positive individual may go through a latency period which may vary considerably before the onset of AIDS. During this period, while free HIV viral cells attach themselves to healthy T-cells resulting in latently affected T-cells, the healthy T-cell concentration remains sufficiently high so that the immune system remains functional. AIDS occurs when the T-cell concentration drops and the HIV viral concentration rises sufficiently, thereby crippling the acquired immune system. AIDS patients are then at critical risk to succumb to other diseases such as pneumonia.\n",
    "\n",
    "Perelson's Immunological Model is a non-linear system of four ordinary\n",
    "differential equations. Perelson's model considers the qualitative dynamics of the healthy T-cell and HIV-viral concentrations shown  in Figure 1 below.\n",
    "\n",
    "<img src=\"fig1.png\" width=\"400px\">\n",
    "\n",
    "\n",
    "In this model, $T(t)$, $T^*(t)$, $T^{**}(t)$ and $V(t)$ represent respectively the concentrations of healthy T-cells, latently infected T-cells, actively infected T-cells, and HIV viral cells. The four equations specify the dynamics shown in Figure 2.\n",
    "<img src=\"fig2.png\" width=\"500px\">\n",
    "\n",
    "**Change in Healthy T-Cells** Equation {eq}`HIV1`\n",
    "\n",
    "```{math}\n",
    ":label: HIV1\n",
    "dT/dt = s+rT (1-\\frac{T+T^*+T^{**}}{T_{max}})- \\mu_T T -k_{1}TV\n",
    "\n",
    "```\n",
    " This equation gives the rate of change $\\dfrac{dT}{dt}$ in the concentration $T(t)$ of\n",
    "healthy T-cells New, healthy T-cells enter into the blood stream at a constant rate s (this is an oversimplification, since the rate is expected to decrease during the course of the HIV infection. See Kirschner and Webb 1996). In the absence of free virus (V = 0), the entire right-hand side of the equation reduces to a modified logistic growth equation. The $−k_1T V$ term assumes that the rate of infection of T-cells by free viral cells is jointly proportional to the concentration of T-cells and the concentration of free virus.\n",
    "\n",
    "\n",
    "\n",
    "**Change in Infected T-Cells** Equation {eq}`HIV2`\n",
    "\n",
    "```{math}\n",
    ":label: HIV2\n",
    "dT^*/dt =k_{1}TV- \\mu_T T^*-k_{2}T^*\n",
    "\n",
    "```\n",
    "This equation gives the rate of change $\\dfrac{dT^∗}{dt}$ in the concentration $T^∗(t)$ of\n",
    "latently infected T-cells. Growth is due to the infection of healthy T-cells with free viral cells\n",
    "($k_1T V$ ). Decreases are due to death ($−\\mu_{T^∗} T)$ (the death rates may be different for\n",
    "healthy, latently infected, and actively infected T-cells), and by progression from latent to active infection ($−k_2T^∗$).\n",
    "\n",
    "\n",
    "\n",
    "**Change in Actively Infected T-Cells** Equation {eq}`HIV3`\n",
    "\n",
    "```{math}\n",
    ":label: HIV3\n",
    "dT^{**}/dt = k_{2}T^{*} - \\mu_b T^{**}\n",
    "\n",
    "```\n",
    "This equation gives the rate of change $\\dfrac{dT^{∗∗}}{dt}$ in the concentration $T^{∗∗}(t)$ of\n",
    "actively infected T-cells. Growth is due to latently infected cells becoming actively infected ($k_2T^∗$).\n",
    "Decrease in concentration is due only to death ($µ_{T^{∗∗}}T^{∗∗}$).\n",
    "\n",
    "**Change in Virus Concentration** Equation {eq}`HIV4`\n",
    "\n",
    "```{math}\n",
    ":label: HIV4\n",
    "dV/dt = N \\mu_{b}T^{**} - k_1 TV -\\mu_{V}V\n",
    "\n",
    "```\n",
    "This equation gives the rate of change $\\dfrac{dV}{dt}$ in the concentration $V (t)$ of the free virus.  Growth occurs when an actively infected T-cell lyses (i.e., explodes). It is assumed that $N$ copies of the free viral cell are created upon lysing ($Nµ_{T^{∗∗}} T^{∗∗}$). The free viral concentration decreases as the free virus becomes attached\n",
    "to healthy T-cells ($−k_1T V$) and also through death ($−µ_V V$).\n",
    "\n",
    " In particular, Equation HIV1 tells us latently infected T-cells are created when free HIV viral cells attach  to healthy T-cells with rate constant $k_1$. Also, Equation HIV4, giving the rate of change $\\dfrac{dV}{dt}$ in the concentration $V(t)$ of the HIV virus indicates that when an actively infected T-cell lyses (i.e. explodes), it releases $N$ copies of the  HIV viral cell ($N\\mu_bT^{**}$).  The free viral concentration decreases as the free virus becomes attached to healthy T-cells ($-k_{1}TV$) and also through death ($-\\mu_VV$).\n",
    "\n"
   ]
  },
  {
   "cell_type": "markdown",
   "metadata": {},
   "source": [
    "```{index} equilibrium analysis\n",
    "```"
   ]
  },
  {
   "cell_type": "markdown",
   "metadata": {},
   "source": [
    "## Equilibrium Analysis\n",
    "\n",
    "\n",
    "\n",
    "A key to understanding how Perelson's model simulates the lowering of the healthy T-cell concentration is based on an equilibrium analysis. Full details of this equilibrium analysis can be found [here](https://drive.google.com/file/d/1ogtSOT2e--F84M1GM3pSg4vXSg8ria1L/view?usp=sharing).\n",
    "\n",
    "The equilibrium points for the system are obtained by solving the following system of algebraic equations:\n",
    "\n",
    "<img src=\"equil.png\" width=\"400px\">\n",
    "\n",
    "Using the parameter values shown in Table 1 below, the system has two different equilibrium points for the healthy T cell concentration.  Figure 3  shows that for lower values of the lysing parameter $N$, the equilibrium value corresponding to a healthy person's T-cell concentration is stable.\n",
    "\n",
    "<img src=\"fig3.png\" width=\"400px\">\n",
    "\n",
    "Figure 4 shows at higher values of $N$ a loss of stability of the equilibrium representing healthy T-cell concentrations and gain of stability of the other equilibrium representing a low T-cell count characteristic of the onset of AIDS.\n",
    "\n",
    "<img src=\"fig4.png\" width=\"400px\">\n",
    "\n",
    "Figure 5 shows the long term stability of T-cells as $N$ grows larger and larger, displaying \n",
    "\n",
    "<img src=\"fig5.png\" width=\"400px\">\n"
   ]
  },
  {
   "cell_type": "markdown",
   "metadata": {},
   "source": [
    "One type of anti-retrovial drug called a nucleotide reverse transcriptase inhibitor (NRTI), for example AZT, reduces the lysing number $N$ by preventing the virus from reproducing inside infected T-cells.  "
   ]
  },
  {
   "cell_type": "markdown",
   "metadata": {},
   "source": [
    "## Analysis in Python\n",
    "The script below can be used to solve the Perelson model numerically using the initial and constant values given in Table 1.  \n",
    "\n",
    "<img src=\"table1.png\" width=\"400px\">\n",
    "\n",
    "What is important to observe is\n",
    "the long-range or steady-state T-cell and free viral concentrations. A drop significantly below the\n",
    "(healthy) steady state value of 1000 cell/ml indicates the onset of AIDS. "
   ]
  },
  {
   "cell_type": "code",
   "execution_count": 4,
   "metadata": {
    "scrolled": true
   },
   "outputs": [
    {
     "data": {
      "image/png": "[encoded data removed]",
      "text/plain": [
       "<Figure size 500x300 with 1 Axes>"
      ]
     },
     "metadata": {},
     "output_type": "display_data"
    }
   ],
   "source": [
    "def f(y, t, params):\n",
    "    T, T1,T2, V = y      # unpack current values of y\n",
    "    s,r,Tmax,muT,mub,muV,k1,k2,N= params  # unpack parameters\n",
    "    derivs = [s+r*T*(1-(T+T1+T2)/Tmax)-muT*T-k1*T*V,   # list of dy/dt=f functions\n",
    "             k1*T*V-muT*T1-k2*T1,\n",
    "             k2*T1-mub*T2,\n",
    "             N*mub*T2-k1*T*V-muV*V]\n",
    "    return derivs\n",
    "\n",
    "# Parameters\n",
    "s=10\n",
    "r=.03\n",
    "Tmax=1500\n",
    "muT=.02\n",
    "mub=.24\n",
    "muV=2.4\n",
    "k1 = 2.4*10**(-5)       \n",
    "k2=3*10**(-3)\n",
    "N=1800\n",
    "\n",
    "# Initial values\n",
    "T0=1000\n",
    "T10=0\n",
    "T20=0\n",
    "V0=10**(-3)\n",
    "\n",
    "# Bundle parameters for ODE solver\n",
    "params = [s,r,Tmax,muT,mub,muV,k1,k2,N]\n",
    "\n",
    "# Bundle initial conditions for ODE solver\n",
    "y0 = [T0,T10,T20,V0]\n",
    "\n",
    "# Make time array for solution\n",
    "tStop = 1501\n",
    "tInc = 0.05\n",
    "t = np.arange(0., tStop, tInc)\n",
    "\n",
    "# Call the ODE solver\n",
    "psoln = odeint(f, y0, t, args=(params,))\n",
    "\n",
    "# Plot results\n",
    "fig = plt.figure(1, figsize=(5,3))\n",
    "plt.plot(t, psoln[:,0],label='Healthy T-Cell')\n",
    "plt.plot(t, psoln[:,3],label='Free Virus')\n",
    "plt.legend()\n",
    "plt.xlabel('time')\n",
    "plt.ylabel('Concentration')\n",
    "plt.savefig(\"HIV1.png\")\n",
    "plt.tight_layout()\n",
    "plt.show()"
   ]
  },
  {
   "cell_type": "code",
   "execution_count": 2,
   "metadata": {},
   "outputs": [
    {
     "name": "stdout",
     "output_type": "stream",
     "text": [
      "Steady State Healthy T-cell Concentration= 427.7491644977716\n",
      "Steady State Free Viral Concentration= 751.3443859716944\n"
     ]
    }
   ],
   "source": [
    "print(\"Steady State Healthy T-cell Concentration=\",psoln[30000,0])\n",
    "print(\"Steady State Free Viral Concentration=\",psoln[30000,3])"
   ]
  },
  {
   "cell_type": "markdown",
   "metadata": {},
   "source": [
    "```{index} sensitivity analysis\n",
    "```"
   ]
  },
  {
   "cell_type": "markdown",
   "metadata": {},
   "source": [
    "## Sensitivity Analysis\n",
    "\n",
    "The onset of HIV is marked by  rapid decrease in healthy T-cell  concentration which impairs the immune system.  Let us see how the long-range (i.e. steady-state) healthy T-cell concentration depends on the size of the lysing parameter $N$."
   ]
  },
  {
   "cell_type": "code",
   "execution_count": 6,
   "metadata": {},
   "outputs": [
    {
     "data": {
      "image/png": "[encoded data removed]",
      "text/plain": [
       "<Figure size 500x300 with 1 Axes>"
      ]
     },
     "metadata": {},
     "output_type": "display_data"
    }
   ],
   "source": [
    "def f(y, t, params):\n",
    "    T, T1,T2, V = y      # unpack current values of y\n",
    "    s,r,Tmax,muT,mub,muV,k1,k2,N= params  # unpack parameters\n",
    "    derivs = [s+r*T*(1-(T+T1+T2)/Tmax)-muT*T-k1*T*V,   # list of dy/dt=f functions\n",
    "             k1*T*V-muT*T1-k2*T1,\n",
    "             k2*T1-mub*T2,\n",
    "             N*mub*T2-k1*T*V-muV*V]\n",
    "    return derivs\n",
    "\n",
    "# Parameters\n",
    "s=10\n",
    "r=.03\n",
    "Tmax=1500\n",
    "muT=.02\n",
    "mub=.24\n",
    "muV=2.4\n",
    "k1 = 2.4*10**(-5)       \n",
    "k2=3*10**(-3)\n",
    "\n",
    "# Initial values\n",
    "T0=1000\n",
    "T10=0\n",
    "T20=0\n",
    "V0=10**(-3)\n",
    "# Bundle initial conditions for ODE solver\n",
    "y0 = [T0,T10,T20,V0]\n",
    "\n",
    "# Make time array for solution\n",
    "tStop = 1501.\n",
    "tInc = 0.05\n",
    "t = np.arange(0., tStop, tInc)\n",
    "\n",
    "# N values\n",
    "Nval=np.arange(0,2001,1)\n",
    "Tval=np.arange(0,2001,1)\n",
    "Vval=np.arange(0,2001,1)\n",
    "\n",
    "for N in Nval:\n",
    "    # Bundle parameters for ODE solver\n",
    "    params = [s,r,Tmax,muT,mub,muV,k1,k2,N]\n",
    "    # Call the ODE solver\n",
    "    psoln = odeint(f, y0, t, args=(params,))\n",
    "    Tval[N]=psoln[30000,0]\n",
    "    Vval[N]=psoln[30000,3]\n",
    "    \n",
    "fig = plt.figure(1, figsize=(5,3))\n",
    "plt.plot(Nval, Tval,label='Healthy T cell Concentration')\n",
    "plt.plot(Nval, Vval,label='Free Viral Concentration')\n",
    "plt.legend()\n",
    "plt.xlabel('N')\n",
    "plt.ylabel('Concentration')\n",
    "plt.savefig(\"Nsa.png\")\n",
    "plt.tight_layout()\n",
    "plt.show()"
   ]
  },
  {
   "cell_type": "markdown",
   "metadata": {},
   "source": [
    "Note that around $N=1200$, there is a rapid drop off in the healthy T-cell concentration. Our model predicts that an anti-retroviral drug therapy which reduces the value of $N$ to less than 1000 would help prevent the onset of AIDS. "
   ]
  },
  {
   "cell_type": "markdown",
   "metadata": {},
   "source": [
    "## Exercises"
   ]
  },
  {
   "cell_type": "markdown",
   "metadata": {},
   "source": [
    ":::{admonition} Exercises\n",
    "\n",
    "1)  A second type of anti-retroviral drug reduces the value of $k_1$ by attaching themselves to free HIV viral cells so they are not able to infect healthy T-cells.\n",
    "\n",
    "a) Using the values in Table 1 except $k_1=10^{-6}$ and $N=500$, plot the healthy $T$ cell and free viral concentration $V$ as a function of time $t$ over the time interval $0\\le t\\le 1500$. \n",
    "\n",
    "b) Repeat using $k_1=10^{-4}$ and $N=500$. What do you observe?\n",
    "\n",
    "2) Using the parameter values in Table 1 with $N=500$, do a sensitivity analysis showing how the steady state healthy T-cell and free-viral concentrations depend on $k_1$.\n",
    "\n",
    "3) Explore combinations of anti-retroviral therapies.\n",
    "\n",
    "a) First define a function $z$=treatment$(i,j)$ which assigns the values $N=100+i$ and $k_1=10^{-5}j$ and computes the corresponding steady-state healthy T-cell concentration.\n",
    "\n",
    "b) Let $Z(i,j)$=treatment$(i,j)$ over the range $1\\le i \\le 100$ and $1\\le j\\le 20$. Give the value of $Z(10,5)$ and interpret it's meaning.\n",
    "\n",
    "c) Make a 3D plot of your output.  Label the axes appropriately. \n",
    "\n",
    "4) What caution is needed in interpreting our model results?\n",
    "\n",
    "5) What parts of the world have the most serious HIV/AIDS problem today?\n",
    "\n",
    "6) A pandemic must be fought at all times by as many  people as possible. What role might you play in fighting HIV/AIDS?\n",
    "\n",
    "\n",
    ":::\n"
   ]
  },
  {
   "cell_type": "markdown",
   "metadata": {},
   "source": [
    "## Bibliography\n",
    "\n",
    "\n",
    "Africa: Using Mobile to Fight HIV/Aids in Lesotho and Kenya - Breaking the Cycle of Infection With Data, M-Money and SMS.(May 1, 2016)\n",
    "http://allafrica.com/stories/201605301340.html\n",
    "\n",
    "\n",
    "Cohen, Myron S. et. al., 2011. Prevention of HIV-1 Infection with Early Anti-retroviral Therapy. The new England Journal of Medicine, 365(6), 493-505.\n",
    "\n",
    "\n",
    "Cooper, Leon N. 1986.  Theory of an immune system\n",
    "retrovirus.  **{Proceedings of the National Academy of Science.}**  83: 9159-9163.\n",
    "\n",
    "\n",
    "Covert, Douglas J. and Denise Kirschner. 2000. Revisiting Early Models of the Host-Pathogen\n",
    "Interactions in HIV Infection. **{Comments Theoretical Biology.}** 5(6): 383-411.\n",
    "\n",
    "\n",
    "GBD 2015 HIV Collaborators. Estimates of global, regional, and national incidence, prevalence, and mortality of HIV, 1980-2015: the Global Burden of Disease Study 2015.\n",
    "http://www.thelancet.com/pdfs/journals/lanhiv/PIIS2352-3018(16)30087-X.pdf\n",
    "\n",
    "\n",
    "Isihara, P. et. al., Immunological and Epidemiological HIV/AIDS Modeling. 2005. UMAP Journal 26.1, 49-90.\n",
    "\n",
    "\n",
    "\n",
    "Perelson, Alan S., D.E. Kirschner and R. DeBoer. 1993. Dynamics of HIV Infection of CD4$^{+}$ cells. **{Mathematical Biosciences.}** 114: 81-125.\n",
    "\n",
    "\n",
    "UNAIDS, 2014, 90-90-90 An ambitious treatment target to help end the AIDS epidemic.\n",
    "http://www.unaids.org/sites/default/files/media\\_asset/90-90-90\\_en\\_0.pdf\n",
    "\n",
    "\n",
    "\n",
    "\n"
   ]
  }
 ],
 "metadata": {
  "kernelspec": {
   "display_name": "Python 3 (ipykernel)",
   "language": "python",
   "name": "python3"
  },
  "language_info": {
   "codemirror_mode": {
    "name": "ipython",
    "version": 3
   },
   "file_extension": ".py",
   "mimetype": "text/x-python",
   "name": "python",
   "nbconvert_exporter": "python",
   "pygments_lexer": "ipython3",
   "version": "3.11.7"
  }
 },
 "nbformat": 4,
 "nbformat_minor": 4
}
