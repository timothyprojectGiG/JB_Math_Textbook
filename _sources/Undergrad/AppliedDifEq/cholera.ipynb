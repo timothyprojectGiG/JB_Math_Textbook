{
 "cells": [
  {
   "cell_type": "markdown",
   "metadata": {},
   "source": [
    "# Cholera in Haiti"
   ]
  },
  {
   "cell_type": "markdown",
   "metadata": {
    "jp-MarkdownHeadingCollapsed": true,
    "tags": []
   },
   "source": [
    "### Introduction\n",
    "On January 12, 2010, Haiti was struck by a 7.1 \n",
    "magnitude eathquake; this was the largest earthquake\n",
    "this area had seen in more than 200 years.  The \n",
    "epicenter was seventeen kilometers southwest\n",
    "of the capital city, Port-au-Prince. Millions of\n",
    "people were affected, with over 200,000 people \n",
    "killed and over 500,000 left homeless.\n",
    "Haiti’s woes were exacerbated in October 2010 with one of the\n",
    "worst Cholera outbreaks in history resulting in over\n",
    "600,000 cases including 8,000 deaths by June 2013.\n",
    "Health officials and scientists are concerned that a\n",
    "reservoir of the Cholera bacteria in Haiti's coastal\n",
    "waters could lead to endemic outbreaks depending on\n",
    "environmental factors such as precipitation and\n",
    "surface water temperature. Consequently, models\n",
    "that consider not only human-to-human transmission\n",
    "processes but also environment-to-human transmission\n",
    "are vitally important. The importance of the Cholera\n",
    "aquatic reservoir was the focus of research in Brazil\n",
    "published 10 years earlier [1], and subsequently revised\n",
    "in the context of Haiti [3]. Important humanitarian\n",
    "goals of cholera modeling include prediction of future\n",
    "outbreaks and reduction of the Cholera bacteria \n",
    "populations to a safe level.\n",
    "\n",
    "<b>MATLAB Script Objective </b>\n",
    "\n",
    "The SIR (S=susceptible, I=infected, R=recovered)\n",
    "model from epidemiology can be used to analyze a\n",
    "number of aspects of cholera mathematically ([2])\n",
    "including:\n",
    "\n",
    "<b>Basic reproduction number (R0)</b>: the average number of susceptible people infected by someone with cholera;\n",
    "\n",
    "<b>Seasonal variation</b>: the changes in characteristics of disease transmission over time;\n",
    "\n",
    "<b>Inapparent cholera infections</b>: accounting for the people whose infections are not known or reported;\n",
    "\n",
    "<b>Human mobility</b>: taking into account the movement of individuals who could spread the disease;\n",
    "\n",
    "<b>Interventional impact</b>: medical treatment, vacination, and sanitation.\n"
   ]
  },
  {
   "cell_type": "markdown",
   "metadata": {},
   "source": [
    "### SIR Model\n",
    "The SIR cholera model that we will study in this lab\n",
    "was introduced in a Brazilian context [1] fifteen\n",
    "years before the earthquake, but became the basis for models related to the ongoing concern for\n",
    "cholera in Haiti [2, 3]. The basic model is a system\n",
    "of 3 ordinary differential equations\n",
    "\n",
    "Equation (1)\n",
    "\n",
    "$$\n",
    "\\frac{dS}{dt} = n(H − S) − a\\frac{B}{K + B}\n",
    "S \n",
    "$$\n",
    "\n",
    "\n",
    "Equation (2)\n",
    "\n",
    "$$\n",
    "\\frac{dI}{dt} = a\\frac{B}{K + B}S − rI \n",
    "$$\n",
    "\n",
    "Equation (3)\n",
    "\n",
    "$$\n",
    "\\frac{dB}{dt} = B(nb − mb) + eI,\n",
    "$$\n",
    "\n",
    "where B(t) is the average reservoir concentration of\n",
    "cholera bacteria (cells/ml), and K is the bacteria\n",
    "concentration giving a 50\\% chance that a susceptible person catches cholera. \n",
    "\n",
    "The initial conditions\n",
    "and a set of hypothetical parameters values [1] are\n",
    "given in Table 1. \n",
    "\n",
    "\n",
    "<img src=\"choleratable.png\" width=\"400px\">\n"
   ]
  },
  {
   "cell_type": "markdown",
   "metadata": {},
   "source": [
    "The system of equations can be easily understood from {numref}`cholerafig`\n",
    "\n",
    "```{figure} cholerafig1.png\n",
    "---\n",
    "width: 700px\n",
    "name: cholerafig\n",
    "---\n",
    "Schematic diagram of transitions. (Adapted from [1]).\n",
    "```\n",
    "\n"
   ]
  },
  {
   "cell_type": "markdown",
   "metadata": {},
   "source": [
    "## Exercises"
   ]
  },
  {
   "cell_type": "markdown",
   "metadata": {},
   "source": [
    ":::{admonition} Exercises\n",
    "\n",
    "1) Consider the basic SIR model defined by equations (1)-(3). Perform a sensitivity analysis which shows how the peak infected population I depends on the exposure to contaminated water parameter a. \n",
    "(Keep the other parameter and initial values the same as in Table 1.)\n",
    "\n",
    "2) A water, sanitation, and hygiene intervention (WASH) replacing latrines with flush toilets reduces the contamination rate e. Perform a sensitivity analysis relating e to the peak infected population using the values a = 40 and a = 80. Simulate over a 10 day period.\n",
    "\n",
    "3) The primary treatment for cholera is oral rehydration which reduces the mortality rate and hence increases the value of the recovery rate r. Perform a sensitivity analysis relating r to the the peak infected population using the values a = 40 and\n",
    "a = 80 keeping fixed e = 10. Simulate over a 10 day period. Comparing your answer with your answers to problems 1 and 2, what might you recommend as an effective intervention strategy?\n",
    "\n",
    "4) Consider the case where initially no one is infected (I(0) = 0 and S(0) = 10, 000). Perform a sensitivity analysis showing the combined effect of the contamination rate a and initial B(0) aquatic reserve bacteria concentration. (Use the range of\n",
    "values .1 ≤ a ≤ 20 and .1 ≤ B(0) ≤ 100.) What do you observe?\n",
    "\n",
    "5) Does the basic SIR model with reservoir B(t) (1)-(3) allow for modeling treatment via vaccination?\n",
    "Explain why or why not.\n",
    "\n",
    "6) What other factors might need to be considered besides minimization of the maximum infected\n",
    "population? \n",
    ":::\n",
    "\n"
   ]
  },
  {
   "cell_type": "markdown",
   "metadata": {},
   "source": [
    "#### References\n",
    "\n",
    "[1] Codeco, Claudia Torres, 2001. “Endemic and\n",
    "epidemic dynamics of cholera: the role of the\n",
    "aquatic reservoir.” BMC Infectious Diseases 1:1.\n",
    "\n",
    "[2] Fung, Isaac C-H, 2014, “Cholera Transmission\n",
    "Dynamic Models for public health practioners.”\n",
    "Emerging Themes in Epidemiology, 11(1), 1-11.\n",
    "\n",
    "[3] Kirpich, Alexander, Wappelmann, Thomas,\n",
    "Yang, Yang, Ali, Afsar, Morris, J. Glenn and\n",
    "Longini, Ira, 2015. “Cholera Transmission in\n",
    "Ouest Department of Haiti: Dynamic Modeling and the Future of the Epidemic.” PLOS Ne\u0002glected Tropical Diseases, October 21, 1-12.\n",
    "\n",
    "[4] Partners in Health, June 11, 2015. “Haiti\n",
    "Continues to Battle Cholera Outbreak”\n",
    "https://www.pih.org/blog/haiti-continues-to-battle-cholera-outbreaks.\n",
    "\n",
    "\n",
    "\n",
    "\n"
   ]
  }
 ],
 "metadata": {
  "kernelspec": {
   "display_name": "Python 3 (ipykernel)",
   "language": "python",
   "name": "python3"
  },
  "language_info": {
   "codemirror_mode": {
    "name": "ipython",
    "version": 3
   },
   "file_extension": ".py",
   "mimetype": "text/x-python",
   "name": "python",
   "nbconvert_exporter": "python",
   "pygments_lexer": "ipython3",
   "version": "3.11.7"
  }
 },
 "nbformat": 4,
 "nbformat_minor": 4
}
