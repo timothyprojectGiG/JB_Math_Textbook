{
 "cells": [
  {
   "cell_type": "code",
   "execution_count": 1,
   "metadata": {},
   "outputs": [],
   "source": [
    "import numpy as np\n",
    "import matplotlib.pyplot as plt\n",
    "from scipy.integrate import odeint"
   ]
  },
  {
   "cell_type": "markdown",
   "metadata": {},
   "source": [
    "# The Basic SIR Model\n"
   ]
  },
  {
   "cell_type": "markdown",
   "metadata": {},
   "source": [
    "## Introduction\n",
    "\n",
    "The SIR model is a system of three ordinary differential equations that describe the dynamics over time $t$ of the number of susceptible, number of infected, and number of recovered individuals during an epidemic.\n",
    "\n",
    ":::{admonition} Basic SIR Model\n",
    "\n",
    "\\begin{eqnarray*}\n",
    "\\frac{dS}{dt} & = & -\\beta S I \\\\\n",
    "\\frac{dI}{dt} & =  &\\beta S I - \\gamma I \\\\\n",
    "\\frac{dR}{dt} & = & \\gamma I\n",
    "\\end{eqnarray*}\n",
    "\n",
    "where\n",
    "\n",
    "$S(t)$ the number of susceptible individuals, \n",
    "\n",
    "$I(t)$ is the number of infected individuals, \n",
    "\n",
    "$R(t)$ is number of recovered individuals.\n",
    "\n",
    "The parameter $\\beta>0$ is called the transmission rate, and the parameter $\\gamma>0$ is the recovery rate. (See {numref}`SIRdiagram`.)\n",
    ":::\n",
    "\n",
    "```{figure} SIRdiagram.png\n",
    "---\n",
    "width: 150px\n",
    "name: SIRdiagram\n",
    "---\n",
    "Schematic diagram of transitions.\n",
    "```\n",
    "\n",
    "The differential equations are \n",
    "\n",
    "**Change in Susceptibles** Equation {eq}`SIR1`\n",
    "\n",
    "```{math}\n",
    ":label: SIR1\n",
    "dS/dt = -\\beta S I\n",
    "```\n",
    "The number of susceptibles ($S$) decreases with time at a rate proportional to the number of encounters $S I$ between susceptibles and infected (with a constant of proportionality $\\beta$).\n",
    "\n",
    "\n",
    "\n",
    "**Change in Infected** Equation {eq}`SIR2`\n",
    "\n",
    "```{math}\n",
    ":label: SIR2\n",
    "dI/dt = \\beta S I - \\gamma I\n",
    "```\n",
    "\n",
    "\n",
    "The number  of infected $I$ is increasing with respect to time $t$, proportional to the number of encounters $S I$ between susceptibles and infected (with a constant of proportionality $\\beta$) and decreasing proportional to the number of infected $I$ present (with a constant of proportionality $\\gamma$)\n",
    "\n",
    "**Change in Recovered** Equation {eq}`SIR3`\n",
    "\n",
    "```{math}\n",
    ":label: SIR3\n",
    "dR/dt = \\gamma I.\n",
    "```\n",
    "\n",
    "The number of recovered $R$ is increasing at a rate proportional to the number of infected $I$ (with a constant of proportionality $\\gamma$.)\n",
    " "
   ]
  },
  {
   "cell_type": "markdown",
   "metadata": {},
   "source": [
    "## Numerical Solutions\n",
    "\n",
    "We now show how to use an ODE solver to obtain graphs of the solutions $S(t)$, $I(t)$ and $R(t)$ for the following parameter values and initial conditions:\n",
    "\n",
    "**PARAMETER VALUES**\n",
    "\n",
    "$\\beta$ (transmission_rate) = 0.000001 \n",
    "\n",
    "$\\gamma$ (recovery_rate) = 0.2.\n",
    "\n",
    "**INITIAL CONDITIONS**\n",
    "\n",
    "$S_0 = 1,000,000$  (Initial number of susceptibles)\n",
    "\n",
    "$I_0 = 1$  (Initial number of infected)\n",
    "\n",
    "$R_0 = 0$ (initial number of recovered)\n",
    "\n"
   ]
  },
  {
   "cell_type": "code",
   "execution_count": 2,
   "metadata": {
    "scrolled": true
   },
   "outputs": [
    {
     "data": {
      "image/png": "[encoded data removed]",
      "text/plain": [
       "<Figure size 500x300 with 1 Axes>"
      ]
     },
     "metadata": {},
     "output_type": "display_data"
    }
   ],
   "source": [
    "# Define Equations\n",
    "def f(y, t, params):\n",
    "    S, I, R = y      # unpack current values of y\n",
    "    beta, gamma      # unpack parameters\n",
    "    #specify dS/dt, dI/dt and dR/dt\n",
    "    derivs = [-beta * S * I,  \n",
    "             beta * S * I - gamma * I,\n",
    "             gamma * I]  \n",
    "    return derivs\n",
    "\n",
    "# Parameters\n",
    "beta=.000001\n",
    "gamma=.2\n",
    "# Initial values\n",
    "S0=1000000\n",
    "I0=1\n",
    "R0=0\n",
    "\n",
    "# Bundle parameters for ODE solver\n",
    "params = [beta,gamma]\n",
    "# Bundle initial conditions for ODE solver\n",
    "y0 = [S0,I0,R0]\n",
    "\n",
    "# Make time array for solution\n",
    "tStop = 70  # number of days\n",
    "tInc = .001  \n",
    "t = np.arange(0., tStop, tInc)\n",
    "\n",
    "# Call the ODE solver\n",
    "psoln = odeint(f, y0, t, args=(params,))\n",
    "\n",
    "# Plot results\n",
    "fig = plt.figure(1, figsize=(5,3))\n",
    "plt.plot(t, psoln[:,0],label='susceptible')\n",
    "plt.plot(t, psoln[:,1],label='infected')\n",
    "plt.plot(t, psoln[:,2],label='recovered')\n",
    "plt.legend()\n",
    "plt.xlabel('day')\n",
    "plt.ylabel('number')\n",
    "plt.savefig(\"SIR.png\")\n",
    "plt.tight_layout()\n",
    "plt.show()"
   ]
  },
  {
   "cell_type": "markdown",
   "metadata": {},
   "source": [
    "Note that the transmission rate is sufficiently low that allows for a full recovery of the population (end of epidemic) by roughly day 40."
   ]
  },
  {
   "cell_type": "markdown",
   "metadata": {},
   "source": [
    "## Exercises"
   ]
  },
  {
   "cell_type": "markdown",
   "metadata": {},
   "source": [
    ":::{admonition} Exercises\n",
    "\n",
    "1) Investigate how the parameter change affects the disease progression. \n",
    "\n",
    "\n",
    "(a) What happens if you change the population to a smaller or a larger number? For instance, if you change the population (initial S) to 3,000,000, will the epidemic be over sooner or later? What happens if the population is 1000?\n",
    "\n",
    "\n",
    "(b) What happens if you change the transmission rate? For instance, if the transmission rate is high, e.g. 0.0001, what do you observe from the curves in the epidemic model? What happens if the transmission rate is lower, e.g. $ 10^{-7} $ ?\n",
    "\n",
    "\n",
    "(c) Does the recovery rate play a role in the epidemic model? If so, how does the recovery rate contribute to the disease progression? Show your adjustments of the recovery rate and their related results.\n",
    "\n",
    "\n",
    "(d) According to your observations, do you think all people can potentially be infected by the disease? Explain your answer.\n",
    "\n",
    "\n",
    "(e) Is it possible, based on some initial conditions and parameter values, that there is no disease outbreak?\n",
    "Explain your answer.\n",
    "\n",
    "\n",
    "2)  Consider a modification of the SIR model called the SIRV model for the mathematical modeling of epidemics, where V is the number of vaccinated individuals, and the parameter v>0 is the given constant vaccination rate. The goal is to solve for S(t), I(t), R(t), and V(t). Model and simulate the populations levels S, I, R, and V and interpret the results for this model as above.\n",
    "\n",
    "In the model, change the equation with dS/dt to convey that not only does the number of susceptibles decrease proportionally to the number of encounters S*I between susceptibles and infected (with a constant of proportionality $\\beta$), but it also decreases proportionally to the number of vaccinated individuals V present (with a constant of proportionality v). Also, add an equation to convey that the number of vaccinated individuals increases proportionally to the number of susceptibles present (with a constant of proportionality v). Draw a schematic diagram to summarize the movement of people between the compartments S, I, R, and V for the population in this model.\n",
    "\n",
    "\n",
    "3) Consider a modification of the SIR model called the SIRD model for the mathematical modeling of epidemics, where D is the number of individuals who have died, and the parameter $\\mu>0$ is the given constant mortality rate. The goal is to solve for S(t), I(t), R(t), and D(t). Our new model will simulate the populations levels S, I, R, and D. Visualize and interpret the results for this model as above.\n",
    "\n",
    "In the SIR model, change the equation with dI/dt to convey that not only does the number of infected increase proportionally to the number of encounters S*I between susceptibles and infected (with a constant of proportionality $\\beta$) and decrease proportionally to the number of infected individuals I present (with a constant of proportionality $\\gamma$), but the number of infectives also decreases proportionally to the number of infectives I present (with a constant of proportionality of the mortality rate $\\mu$). Also, add an equation to convey that the number of individuals who have died increases proportionally to the number of infected (with a constant of proportionality $\\mu$). Draw a schematic diagram to summarize the movement of people between the compartments S, I, R, and V for the population in this model.\n",
    ":::"
   ]
  },
  {
   "cell_type": "code",
   "execution_count": null,
   "metadata": {},
   "outputs": [],
   "source": []
  }
 ],
 "metadata": {
  "kernelspec": {
   "display_name": "Python 3 (ipykernel)",
   "language": "python",
   "name": "python3"
  },
  "language_info": {
   "codemirror_mode": {
    "name": "ipython",
    "version": 3
   },
   "file_extension": ".py",
   "mimetype": "text/x-python",
   "name": "python",
   "nbconvert_exporter": "python",
   "pygments_lexer": "ipython3",
   "version": "3.11.7"
  }
 },
 "nbformat": 4,
 "nbformat_minor": 4
}
