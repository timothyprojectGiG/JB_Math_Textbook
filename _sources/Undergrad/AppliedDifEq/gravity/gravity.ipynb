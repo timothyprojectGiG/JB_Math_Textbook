{
 "cells": [
  {
   "cell_type": "markdown",
   "metadata": {},
   "source": [
    "# Gravity Fed Water Delivery "
   ]
  },
  {
   "cell_type": "markdown",
   "metadata": {},
   "source": [
    "Newton's 2nd Law of motion $F=ma=m\\frac{dv}{dt}$ is a classic differential equation with an amazingly wide range of physical applications.  In this section, we consider an application of Newton's 2nd law to analysis of gravity-fed water delivery systems. Understanding how the limit-quotient definition of derivative arises in a physical context is an important idea in understanding how differential equations governing physical processes are derived. In this case, solving the differential equation is simple. Antidifferentiation of the differential equation gives a solution which is called  Bernoulli's Law.  We will then show how Bernoulli's law applies to practical design of gravity-fed water delivery systems."
   ]
  },
  {
   "cell_type": "markdown",
   "metadata": {},
   "source": [
    "## Introduction\n",
    "\n",
    "According to the World Health Organization, in 2022, around 2 billion people worldwide lived without close proximity to a safe water resource [https://www.who.int/news-room/fact-sheets/detail/drinking-water]. Unsafe water sources and lack of sanitation cause diseases and disabilities such as malaria, diarrhea,\n",
    "and blindness.  These diseases kill an estimated 3.5 million people per year with most of the victims under\n",
    "five years old.  Furthermore, unprotected water sources, such as surface and ground water, can become polluted by pesticides and by household and industrial waste.  Additionally, agricultural and industrial over-extraction threatens the sustainability of these resources.\n",
    "\n",
    "Globally, there exists a disparity in access to safe water between urban and rural\n",
    "populations.  Simple, affordable pipe systems supply spring water to impoverished rural villages that would otherwise have no water delivery.  The simplest of these systems are entirely gravity-powered; gravity alone moves water that flows through pipes directly from a source tank supplied by a natural spring at a higher elevation to a receiving tank for distribution at a lower elevation as shown in Figure 1 below.\n",
    "\n",
    "<img src=\"fig1.png\" width=\"400px\">\n"
   ]
  },
  {
   "cell_type": "markdown",
   "metadata": {},
   "source": [
    "In this section we will introduce and apply basic principles from fluid mechanics to construct a mathematical model of such gravity-fed water delivery systems.  This model provides insight into calculations needed   for actual construction (Figure 2), and serves as an excellent example of how even beginning calculus students (concurrently taking physics) can engage in a modeling problem of great practical importance.\n",
    "\n",
    "<img src=\"fig2.png\" width=\"600px\">\n",
    "\n",
    "\t"
   ]
  },
  {
   "cell_type": "markdown",
   "metadata": {},
   "source": [
    "We begin in Section 1.1 by using elementary physics to derive a basic form of Bernoulli's equation, which describes conservation of energy for a fluid particle flowing along a streamline.  Next, in Section 1.2 we apply Bernoulli's equation to a simple gravity-fed water delivery system. We introduce the concept of hydraulic heads  to help visualize the conversion of potential energy into fluid pressure, revealing the need for break-pressure tanks to avoid any risk of pipe explosion. We also analyze the conversion of potential to kinetic energy to predict flow rates (important for meeting the client village's demand). Section 1.3 explains how the basic model is modified to account for friction and different kinds of water flow.  In particular, we show how the fluid velocity changes for laminar or viscous flow and explain qualitatively the use of Moody charts in finding the friction factor for turbulent flow.   Section 1.4  gives an example of steps involved in overall system design.    Section 1.5 looks at how basic water delivery systems have been effectively used in Honduras.  Finally, Section 1.6 gives suggestions for those interested in further study. Table 1 serves as a hand reference for the notation and units used in this Module.\n",
    "\n",
    "\n",
    "<img src=\"table1.png\" width=\"600px\">\n"
   ]
  },
  {
   "cell_type": "markdown",
   "metadata": {},
   "source": [
    "## Derivation of Bernoulli's Equation"
   ]
  },
  {
   "cell_type": "markdown",
   "metadata": {},
   "source": [
    "\n",
    "   Our goal is to model the motion of a water particle along a path called a *streamline* when building a simple system to deliver water through a pipe.  *Bernoulli's equation* is fundamental in fluid mechanics for analyzing the motion of a fluid particle (not only liquid) along a streamline and is of particular importance in our analysis of gravity-fed water delivery systems. We will derive a basic form of this equation, following Young, et. al. [2001], using several simplifying assumptions compiled in Table 2.\n",
    "   \n",
    "   \n",
    "<img src=\"table2.png\" width=\"600px\">\n",
    "\n",
    "   "
   ]
  },
  {
   "cell_type": "markdown",
   "metadata": {},
   "source": [
    "We start by representing a fluid particle as a differential volume element shaped as a rectangular prism with size $\\delta V$ cubic units, and look at the forces acting on it.  To analyze this motion, we introduce the ($\\hat{s}$,$\\hat{y}$,$\\hat{n}$) orthogonal curvilinear coordinate system (see Figure 3). If we assume the streamline is situated in a single plane, then the ($\\hat{s}$,$\\hat{y}$,$\\hat{n}$) coordinate system is obtained from $(\\hat{x}$,$\\hat{y}$,$\\hat{z}$) coordinates by keeping the $\\hat{y}$ axis (which is normal to the plane) fixed and rotating the  $\\hat{x}$ and $\\hat{z}$ axes by a negative angle $\\theta$ to obtain the $\\hat{s}$ and $\\hat{n}$ axes respectively. The positive  $\\hat{s}$  axis gives the direction of fluid particle motion along a path called a <i>streamline</i>.\n",
    "\n",
    "<img src=\"fig3.png\" width=\"600px\">"
   ]
  },
  {
   "cell_type": "markdown",
   "metadata": {},
   "source": [
    " $\\hat{s}$= distance traveled along a streamline (note that the unit vector in the positive $\\hat{s}$ direction is always tangent to the streamline);\n",
    " \n",
    " $\\hat{n}$= normal to the streamline; and\n",
    " \n",
    "$\\hat{y}$= perpendicular to the $\\hat{s}-\\hat{n}$ plane.\n",
    "\n",
    "\n",
    "\n",
    "\n",
    "\n",
    "At each point along its path of motion, the total force $\\stackrel{\\rightarrow}{F}_{total}$ on the fluid particle (control volume) satisfies Newton's $2^{nd} $ Law:\n",
    "\n",
    "Equation (1)\n",
    "\n",
    "$$\n",
    "\\stackrel{\\rightarrow}{F}_{total}=m \\stackrel{\\rightarrow}{a},\n",
    "$$"
   ]
  },
  {
   "cell_type": "markdown",
   "metadata": {},
   "source": [
    " where $m$ is the mass of the control volume and $\\stackrel{\\rightarrow}{a}$ is its acceleration.\n",
    "Since we assume the system doesn't create or absorb force, meaning it has no sources or\n",
    "sinks of energy (assumption A2) and there is no friction (inviscid flow--assumption A4), the only forces acting on the particle will be due to\n",
    "\n",
    " gravity: ($\\stackrel{\\rightarrow}{F}_{gravity} $), acts in the  downward (-$\\hat{z}$) direction; and\n",
    "        \n",
    " fluid pressure: ($\\stackrel{\\rightarrow}{F}_{pressure})$, acts in the $\\hat{s}$ direction.\n",
    "\n",
    "\n",
    "Thus we calculate net force and the components of forces in the direction of the streamline as follows:\n",
    "\n",
    "$$\n",
    "\\stackrel{\\rightarrow}{F}_{total}  =  \\stackrel{\\rightarrow}{F}_{pressure}+\\stackrel{\\rightarrow}{F}_{gravity}\\hspace{.2in} \\Rightarrow \n",
    "$$\n",
    "\n",
    "Equation (2)\n",
    "\n",
    "$$\n",
    "F_{s}  = F_{ps} \\,+\\,F_{gs} \\label{ForceSums}\n",
    "$$\n",
    "\n",
    "where (see Figure 4)\n",
    "\n",
    "$F_{s}$ is the component of the total force along the streamline;\n",
    " \n",
    "$F_{ps}$ is the component of the pressure force along the streamline; and\n",
    "\n",
    "$F_{gs}$ is the component of the gravitational force along the streamline.\n",
    "\n",
    "<img src=\"fig4.png\" width=\"600px\">\n"
   ]
  },
  {
   "cell_type": "markdown",
   "metadata": {},
   "source": [
    "Note that the acceleration of the control volume at time $t$ will be $\\stackrel{\\rightarrow}{a}=\\stackrel{\\rightarrow}{a_{s}}=\\frac{d \\stackrel{\\rightarrow}{u}}{dt}$, where $\\stackrel{\\rightarrow}{u}(t)$\n",
    "is the fluid particle's velocity which, by definition, is along the streamline.  (For curved water pipes and streamlines, beyond the scope of this Module, the  normal component of acceleration\n",
    "($a_{n}$) is considered when computing pressure variation across a streamline  [Young et. al. 2001].)  Recalling that $u=\\mid \\stackrel{\\rightarrow}{u} \\mid = \\frac{ds}{dt}$, by the chain rule of differentiation, the component $a_{s}$ of the acceleration $\\vec{a_{s}}$ of the control volume in the direction of the streamline is\n",
    "\n",
    "$$\n",
    "a_{s} =  \\frac{du}{dt}  = \n",
    "$$\n",
    "\n",
    "$$\n",
    "\\frac{du}{ds} \\frac{ds}{dt} =\n",
    "$$\n",
    "\n",
    "\n",
    "Equation (3)\n",
    "\n",
    "$$\n",
    "u\\frac{du}{ds}.  \\label{StreamAccel}\n",
    "$$\n",
    "\n",
    "Noting that $F_{s} = ma_{s}$, by equations (2) and  (3),\n",
    "\n",
    "$$\n",
    "F_{s} \\,= \\, mu\\frac{du}{ds}   \\Rightarrow \n",
    "$$\n",
    "\n",
    "Equation (4)\n",
    "\n",
    "$$\n",
    "F_{gs} \\,+  \\,F_{ps}\\,= \\rho \\delta V u\\frac{du}{ds}, \\label{StreamlineForces}\n",
    "$$\n",
    "\n",
    "where the mass $m$ of the control volume is the product of the mass density $\\rho$ (mass per unit volume) and volume $\\delta V$ .\n",
    "\n"
   ]
  },
  {
   "cell_type": "markdown",
   "metadata": {},
   "source": [
    "We will now obtain expressions for $F_{gs}$ and $F_{ps}$ in equation (2). First, to find $F_{gs}$ we observe that the magnitude of the force due to gravity is given by\n",
    "\n",
    "Equation (5)\n",
    "\n",
    "$$\n",
    "F_{g}=mg= \\rho g\\delta V, \\label{Gravity}\n",
    "$$\n",
    "\n",
    "which we recall is in the $-\\hat{z}$ direction.  It is convenient to define the <i>specific weight</i> $\\gamma = \\rho g$,\n",
    "so we can rewrite equation (5) as\n",
    "\n",
    "Equation (6)\n",
    "\n",
    "$$\n",
    "F_{g}=\\gamma \\delta V.  \\label{FinalGravity}\n",
    "$$\n",
    "\n",
    "\n",
    "<img src=\"fig5.png\" width=\"300px\">\n",
    "\n"
   ]
  },
  {
   "cell_type": "markdown",
   "metadata": {},
   "source": [
    "\n",
    "From equations (5) and (6), the component of the gravitational\n",
    "force acting on the control volume along the direction of the streamline will be\n",
    "\n",
    "$$\n",
    "F_{gs}= -F_{g} \\sin \\theta =\n",
    "$$\n",
    "\n",
    "Equation (7)\n",
    "\n",
    "$$\n",
    "  - \\gamma \\delta V \\sin \\theta \\label{netgravity}.\n",
    "$$\n",
    "\n",
    "Note that the negative sign is needed since $-\\frac{\\pi}{2}<\\theta<0 \\Rightarrow -\\sin \\theta >0$.\n",
    "\n",
    "Our next task is to find the magnitude $F_{ps}$  of the force on the control volume (in the direction of the streamline) due to pressure.  For steady, inviscid flow (assumptions  A3, A4), pressure acts perpendicular to each point of every cross section and its magnitude is a function of $s$ only; that is, $F_{\\textup{ps}}=p(s)$. Suppose the center of the control volume is at $\\hat s = s_0$.  Recalling that pressure is force per unit area, let $p(s_0)$ be the magnitude of the pressure on the rectangular cross-section $\\mathcal{R}_0$  which is perpendicular to the streamline at $\\hat s = s_0$ (see Figure 6).\n",
    "\n",
    "<img src=\"fig6.png\" width=\"500px\">\n",
    "\n"
   ]
  },
  {
   "cell_type": "markdown",
   "metadata": {},
   "source": [
    "The magnitude of the pressure at the two ends of the control volume parallel to $\\mathcal{R}_0$ are $p_{right}=p(s_o+\\frac{\\delta s}{2})$ and $p_{left}=p(s_o-\\frac{\\delta s}{2})$ . A linear approximation for $p_{right}$ (Figure (7))\n",
    "is given by\n",
    "\n",
    "Equation (8)\n",
    "\n",
    "$$\n",
    "p_{right}=p(s_o+\\frac{\\delta s}{2})= p(s_o)+\\delta p_{s} \\approx  p(s_o)+\\frac{dp}{ds}\\frac{\\delta s}{2}.\\label{Taylor}\n",
    "$$\n",
    "\n",
    "\n",
    "<img src=\"fig7.png\" width=\"500px\">"
   ]
  },
  {
   "cell_type": "markdown",
   "metadata": {},
   "source": [
    "As $\\delta s \\rightarrow 0$ the approximation error also approaches 0.  The control volume is infinitesimal, so Equation (8) is a good approximation.  In a similar way, we approximate $p_{left}$ using $p(s_o-\\frac{\\delta s}{2})\\approx p(s_0) - \\frac{dp}{ds}\\frac{\\delta s}{2}$.\n",
    "\n",
    "  Since pressure is force per unit area, and the cross-sectional area is $\\delta A=\\delta n \\delta y$ (Figure (3)), the net force magnitude from pressure on the control volume at $\\hat{s}=s_0$ will be\n",
    "\n",
    "$$\n",
    "F_{ps} = p_{left} \\delta A-p_{right} \\delta A =\n",
    "$$\n",
    "\n",
    "$$ (p(s_0) - \\frac{dp}{ds}\\frac{\\delta s}{2})\\delta n \\delta y - (p(s_o)+\\frac{dp}{ds}\\frac{\\delta s}{2})\\delta n \\delta y =  - \\frac{dp}{ds}  \\delta s \\delta n \\delta y\n",
    "$$\n",
    "\n",
    "Equation (9)\n",
    "\n",
    "$$\n",
    "F_{ps}=\\,-\\frac{d p}{d s}\\delta V. \\label{NetPressure}\n",
    "$$\n",
    "\n",
    "The desired expressions for the gravitational force magnitude $F_{gs}$ and pressure force magnitude $F_{ps}$ on the control volume in the direction of the\n",
    "streamline are given by equations (7) and (9), respectively. Substituting these expressions in equation (4), we obtain\n",
    "\n",
    "$$\n",
    "-\\gamma \\delta V \\sin \\theta \\hspace{.35in} - \\hspace{.15in}\\frac{dp}{ds}\\delta V\\hspace{.15in} = \\rho \\delta V u\\frac{du}{ds}  \\Rightarrow \n",
    "$$\n",
    "\n",
    "Equation (10)\n",
    "\n",
    "$$\n",
    "-\\gamma \\sin \\theta \\hspace{.5in} - \\hspace{.25in}\\frac{dp}{ds}\\hspace{.25in} = \\rho u\\frac{du}{ds}.\n",
    "$$ \n",
    "\n",
    "\n",
    "We will express this relationship in a slightly different form by\n",
    "noting the following:\n",
    "\n",
    " $u\\frac{du}{ds} = \\frac{1}{2}\\frac{d(u^2)}{ds}$; and (see Figure 8)\n",
    " \n",
    "$\\sin \\theta=\\frac{dz}{ds}$.\n",
    "\n",
    "<img src=\"fig8.png\" width=\"200px\">"
   ]
  },
  {
   "cell_type": "markdown",
   "metadata": {},
   "source": [
    "Thus, equation (10) becomes\n",
    "\n",
    "$$\n",
    "-\\gamma \\frac{dz}{ds} - \\frac{dp}{ds}\\,= \\,\\frac{1}{2}\\rho \\frac{d(u^2)}{ds} \\Rightarrow \n",
    "$$\n",
    "\n",
    "Equation (11)\n",
    "\n",
    "$$\n",
    "\\frac{dp}{ds}+\\frac{1}{2}\\rho  \\frac{d(u^2)}{ds} + \\gamma \\frac{dz}{ds} = 0.   \\label{BeforeIntegral}\n",
    "$$\n",
    "\n",
    "\n",
    "Finally, recalling that $\\rho$ is constant (incompressibility assumption A1), integrating both sides of equation (11) with respect to $s$  gives\n",
    "\n",
    "$$\n",
    "p + \\frac{\\rho u^2}{2} + \\gamma z= \\,constant \\,along \\, a \\, streamline.   \\label{Bernoulli1}\n",
    "$$\n",
    "\n",
    "From equation (12) we see that there is a relationship along a streamline between the fluid pressure, particle speed and particle elevation.   We have achieved our goal to obtain a basic form of <i>Bernoulli's equation</i>, a very powerful tool in fluid mechanics [Young et al. 2001].\n",
    "\n",
    "When modeling gravity-fed water delivery systems,  we will apply the following equivalent form of Bernoulli's equation obtained by dividing\n",
    "all terms in equation (12) by the specific weight $\\gamma=\\rho g$ (with $\\frac{\\rho}{\\gamma}=\\frac{1}{g}$):\n",
    "\n",
    "$$\n",
    "\\frac{p}{\\gamma} + \\frac{u^2}{2g} + z = Constant\\, along\\, a \\,streamline. \\label{Bernoulli}\n",
    "$$\n",
    "\n",
    "The different terms in equation (13) represent three types of energy (pressure ($\\frac{p}{\\gamma}$), kinetic ($\\frac{u^2}{2g}$) and potential ($z$)) expressed in  units of length (**Exercise 2.3**). These terms are called *heads* as listed in **Table 3**. We will discuss application of these heads in the next section.\n",
    "\n",
    "\n",
    "<img src=\"table3.png\" width=\"300px\">\n"
   ]
  },
  {
   "cell_type": "markdown",
   "metadata": {},
   "source": [
    "## Application to Gravity-Fed Water Delivery Systems\n",
    "\n",
    "### Basic Case\n",
    "\n",
    "In the previous section, we showed how Bernoulli's equation describes a fluid particle moving along a one-dimensional streamline. Though it applies more generally than to water flowing through a closed pipe, Bernoulli's equation will now help us plan and model a simple, gravity-fed water delivery system. Note that the assumptions behind Bernoulli's equation are valid in this situation:\n",
    "\n",
    "[A1] The fluid is incompressible- This assumption is good for liquids since they are\n",
    "less easily compressible than gases.\n",
    "\n",
    "[A2] No sources or sinks of energy- All energy in this system comes from gravitational potential energy\n",
    "with no pumps, turbines, etc.\n",
    "\n",
    "[A3] Steady flow- We will assume the spring keeps the source tank filled to capacity when the outlet faucet is open so that the water flow in the pipe is steady with time.\n",
    "\n",
    "[A4] Inviscid flow- For our initial cases we will assume inviscid flow, meaning there is no friction,\n",
    "and energy is conserved.  \n",
    "\n",
    "We begin by considering the portion of a system in which water from a supply tank flows through a pipe to a single outlet faucet (Figure 9).\n",
    "\n",
    "<img src=\"fig9.png\" width=\"300px\">"
   ]
  },
  {
   "cell_type": "markdown",
   "metadata": {},
   "source": [
    "\n",
    "\n",
    "When the outlet faucet is closed, water flow in the pipe is halted and hence water in the supply tank is conserved. On the other hand, Bernoulli's equation implies that pressure must build as we move down the pipe.  Pressure in the case of a closed outlet is known as *static pressure*.\n",
    "To see why, let us consider the static case in which no new water enters the source tank and hence the water speed\n",
    "satisfies $u=0$ throughout the system.  In this case, Bernoulli's equation simplifies to\n",
    "\n",
    "$$\n",
    "\\frac{p}{\\gamma}+z=C,\n",
    "$$\n",
    "\n",
    "where $C$ is constant.  Referring to Figure 10, since at point A the pressure\n",
    "head is zero (i.e. equal to atmospheric pressure) and the elevation head is $z=h_1+h_2$,  the constant $C$  must satisfy $C=h_1+h_2$.\n",
    "At the base of the faucet (point $B$), the elevation head is equal to zero and hence the pressure head satisfies\n",
    "\n",
    "\n",
    "Equation (14)\n",
    "\n",
    "$$\n",
    "\\frac{p}{\\gamma} = h_1+h_2 \\,\\Rightarrow \\, p = (h_1+h_2)\\gamma.\n",
    "\\label{pressureeqn}\n",
    "$$\n",
    "\n",
    "\n",
    "If the static pressure build-up as we move along the streamline is too great, the delivery pipe could burst, as is considered in Exercise 3.1.2.\n",
    "<img src=\"fig10.png\" width=\"500px\">"
   ]
  },
  {
   "cell_type": "markdown",
   "metadata": {},
   "source": [
    "### Break-Pressure Tanks\n",
    "\n",
    "As mentioned in the previous section, if the flow of water is stopped in a gravity-fed system the\n",
    " static pressure inside the pipe must increase (increasing pressure head) as the pipe elevation decreases. If the pressure exceeds the pipe's pressure capacity, the pipe could\n",
    "burst (see Exercise 3.1 b).  To prevent this type of system failure, a small *break-pressure tank* (see Figures (11) and (12)) is installed at some judicious point along the path of the pipeline. Such a tank, typically\n",
    "made of brick, relieves pressure by allowing the flow to discharge into open air space inside the tank.\n",
    "\n",
    "<img src=\"fig11.png\" width=\"500px\">"
   ]
  },
  {
   "cell_type": "markdown",
   "metadata": {},
   "source": [
    "In other words $p=0$ (atmospheric pressure) at the water level inside the break-pressure tank. A simple shut-off float valve (similar to that used to stop water flow in a toilet) and safety overflow pipe keep the water from exceeding the tank's capacity so there is always open air space inside the tank. The break-pressure tank essentially becomes a new source tank for its outgoing pipeline Exercise 3.2.2.\n",
    "\n",
    "<img src=\"fig12.png\" width=\"500px\">"
   ]
  },
  {
   "cell_type": "markdown",
   "metadata": {},
   "source": [
    "### Water-Flow Rates"
   ]
  },
  {
   "cell_type": "markdown",
   "metadata": {},
   "source": [
    "In the previous sections we discussed pressure build up in a static system in which the flow of water is stopped by an outlet faucet at the end of a pipe from the source tank. In this case the outlet faucet will be open and water will flow, so the pressure is referred to as *dynamic pressure* (as opposed to static).  We make the distinction now since, in the case of viscous flow, the static and dynamic pressures will be different (see Section 4).  In this section we will analyze the speed of the water as it flows from one tank to another (Figure 13). Similar reasoning can be used to determine the flow rate from a tank to a home outlet with an open delivery pipe.\n",
    "\n",
    "<img src=\"fig13.png\" width=\"500px\">\n"
   ]
  },
  {
   "cell_type": "markdown",
   "metadata": {},
   "source": [
    " Being able to project flow rates is important for a number of reasons [Tawney n.d.].  If the flow rate is too slow, sedimentation occurs inside the pipe causing it to clog. On the other hand, if the flow rate is too fast, the pipe wall may erode.  For these reasons the average water velocity should remain between 0.7 and 3 m/s.  Further, the *volumetric flow rate* or volume of water per unit time depends on the speed of the water.  The ability to meet the demand for water is determined by the volumetric flow rate.\n",
    "\n",
    "\n",
    "\n",
    "Consider the gravity-fed water delivery system shown in **Figure 14**,  in which a source fed pipe with radius $r_1$ supplies a tank at a  rate $u_0$ so that the tank remains at height $h_1$ above the delivery pipe; and the delivery pipe with radius $r_2$ and vertical drop $h_2$ meters connects the first tank to a second tank with capacity $h_3$.\n",
    " \n",
    "\n",
    "<img src=\"fig14.png\" width=\"500px\">\n"
   ]
  },
  {
   "cell_type": "markdown",
   "metadata": {},
   "source": [
    "\n",
    "\n",
    "We find the rate $u_B$ at which water exits the delivery pipe into the receiving tank as follows:\n",
    "\n",
    "at point A, $u=0,p=0,z=h_1+h_2$; and\n",
    "\n",
    "at point B, $u=u_B,p=0,z=0$.\n",
    "\n",
    "\n",
    "Applying Bernoulli's equation, we obtain\n",
    "\n",
    "$$\n",
    "\\frac{p_{A}}{\\gamma} + \\frac{u_{A}^2}{2g}  + z_{A} = \\frac{p_{B}}{\\gamma} +\\frac{u_{B}^2}{2g} + z_{B} \\Rightarrow\n",
    "$$\n",
    "\n",
    "$$ 0 + 0 + (h_1 + h_2)=\\, 0 + \\frac{u_{B}^2}{2g}  + 0 \\Rightarrow  \\, u_{B} = \\sqrt{2g(h_1 + h_2)}. $$"
   ]
  },
  {
   "cell_type": "markdown",
   "metadata": {},
   "source": [
    "## Viscous Flow in Pipes\n",
    "### Head Loss"
   ]
  },
  {
   "cell_type": "markdown",
   "metadata": {},
   "source": [
    "To this point we have assumed inviscid or frictionless flow, but now we will consider how friction affects a gravity-fed system.  In the inviscid case all energy was conserved, but now some of the initial gravitational energy in the pipe will be lost to friction as it flows through the streamline.  This loss of energy is known as *head loss*, which is measured in meters and denoted as $h_f$.  Since all energy will either be conserved or lost to friction, Bernoulli's equation becomes\n",
    "\n",
    "Equation (15)\n",
    "\n",
    "$$\n",
    "\\frac{p}{\\gamma} + \\frac{u^2}{2g} + z + h_f = \\,Constant\\, along\\, a\\, streamline.  \\label{BernoulliLoss}\n",
    "$$\n",
    "\n",
    "\n",
    "It is important to note that in the case of a closed outlet faucet the velocity and, consequently, the head loss, will both be zero.  This is the case of static pressure and is the same for inviscid and viscous flow.  However, when the outlet is open energy will be lost along the streamline.  Since the velocity and elevation heads will be unchanged by friction all head loss will come from the dynamic pressure head in the form of a pressure drop $\\Delta p$.  In other words,\n",
    "\n",
    "$$\n",
    "Dynamic\\, Pressure\\,=\\, Static Pressure-h_f.\n",
    "$$\n",
    "\n",
    "Note that if a pipe can withstand a system's static pressure case it will be able to withstand the dynamic pressure (**Exercise 4.1**)."
   ]
  },
  {
   "cell_type": "markdown",
   "metadata": {},
   "source": [
    "### Reynold's Number"
   ]
  },
  {
   "cell_type": "markdown",
   "metadata": {},
   "source": [
    "\n",
    "Before we continue, we need to look closer at the friction occurring between the water and the pipe wall.  In particular, we will investigate how the fluid velocity vectors on a cross-section of the pipe are affected by friction.\n",
    "\n",
    "The effect of friction is related to the type of flow, classified into one of  three types (see Figure 15):\n",
    "\n",
    "<i>laminar</i>-- streamlines are smooth;\n",
    "\n",
    "<i>turbulent</i>-- streamlines exhibit random fluctuations with pronounced nonlinear characteristics; and\n",
    "\n",
    "<i>transitional</i>-- streamlines change between laminar and turbulent characteristics.\n",
    "\n",
    "\n",
    "<img src=\"fig15.png\" width=\"500px\">\n"
   ]
  },
  {
   "cell_type": "code",
   "execution_count": 1,
   "metadata": {},
   "outputs": [
    {
     "data": {
      "image/jpeg": "[encoded data removed]",
      "text/html": [
       "\n",
       "        <iframe\n",
       "            width=\"400\"\n",
       "            height=\"300\"\n",
       "            src=\"https://www.youtube.com/embed/rn9y1CSoFZs\"\n",
       "            frameborder=\"0\"\n",
       "            allowfullscreen\n",
       "            \n",
       "        ></iframe>\n",
       "        "
      ],
      "text/plain": [
       "<IPython.lib.display.YouTubeVideo at 0x225ad958e10>"
      ]
     },
     "execution_count": 1,
     "metadata": {},
     "output_type": "execute_result"
    }
   ],
   "source": [
    "# This video shows the transition between laminar and turbulent flow.\n",
    "\n",
    "from IPython.display import YouTubeVideo\n",
    "YouTubeVideo('rn9y1CSoFZs')"
   ]
  },
  {
   "cell_type": "markdown",
   "metadata": {},
   "source": [
    "The standard way to distinguish between the different kinds of flow is using the *Reynolds number*. Denoted $Re$,  the Reynolds number is defined as\n",
    "\n",
    "$$\n",
    "Re=\\frac{\\rho \\bar{u} D}{\\mu},  \\label{Reynolds}\n",
    "$$\n",
    "\n",
    "where $\\rho$ is the fluid density (mass/volume), $\\bar{u}$ is the  average speed on a cross section, $D$ is the pipe diameter, and $\\mu$ is the *dynamic viscosity*, a parameter accounting for the fluid's resistance to flow ($\\mu_{H_2O}=0.001 \\frac{kg}{m \\cdot s}$ at $20^o C$).\n",
    "\n",
    "For a round pipe, the type of flow relates to the Reynolds number approximately as follows:\n",
    "\n",
    "$Re<2100$ $\\rightarrow$ Laminar flow: flow follows a smooth path;\n",
    "\n",
    "$2100 \\leq Re \\leq 4000$ $\\rightarrow$ Transitional flow: flow is a mix of laminar and turbulent characteristics; and\n",
    "\n",
    "$4000<Re$ $\\rightarrow$ Turbulent flow: flow is irregular with random changes in direction.\n",
    "\n"
   ]
  },
  {
   "cell_type": "markdown",
   "metadata": {},
   "source": [
    "### Laminar Flow\n",
    "\n"
   ]
  },
  {
   "cell_type": "markdown",
   "metadata": {},
   "source": [
    "Laminar flow is the easiest to analyze, and allows us to find a mathematical expression for the effects of friction on the flow.  It can also be necessary for studying transitional flow since it is a combination of laminar and turbulent characteristics.  However, it is worth noting that laminar flow is very rare in gravity-fed water delivery systems due to the velocities and diameters used (**Exercise 4.2.4**).  For our derivation of velocity for a laminar flow we will begin by looking at a homogeneous, circular pipe with constant radius. To this end, we introduce cylindrical coordinates as follows (see Figure 16):\n",
    "\n",
    "<img src=\"fig16.png\" width=\"500px\">\n",
    "\n"
   ]
  },
  {
   "cell_type": "markdown",
   "metadata": {},
   "source": [
    "\n",
    "\n",
    " $\\hat{s}$= position on a streamline along the central axis of symmetry;\n",
    "\n",
    "$\\hat{r}$= radial distance from the central axis of symmetry;\n",
    "\n",
    "$\\hat{\\phi}$= not needed since we assume radial symmetry (as in the 2D pipe representation in Figure 17.)\n",
    "\n",
    " We assume for our steady, incompressible viscous flow that velocity vectors are always perpendicular to each normal cross section of the pipe.  That is, velocity is always parallel to the central axis of symmetry. It is important to note that velocity is no longer constant on a normal cross-section.  Friction occurs where the water contacts the pipe, creating a cross-sectional *velocity profile*, as shown in **Figure 17**. Note, in particular, that the velocity of the water is $\\stackrel{\\rightarrow}{0}$ at the pipe wall (*no-slip condition*) and is a maximum along the central axis of symmetry of the pipe ($\\hat{r}=0$).\n",
    "\n",
    "<img src=\"fig17.png\" width=\"500px\">\n",
    "\n"
   ]
  },
  {
   "cell_type": "markdown",
   "metadata": {},
   "source": [
    "Note that the velocity profile is assumed to be the same on every cross-section. In other words, there is no fluid acceleration. A velocity profile is determined by its *velocity gradient*, meaning the rate of change $\\frac{du}{dr}$ of the magnitude of the velocity   $u=\\mid\\vec{u}\\mid$ with respect to $\\hat{r}$.     Friction is described by the *shear stress* $\\tau(r)$, which gives the magnitude of the frictional force per unit (lateral surface) area $r$ units from the central axis of symmetry.  For a *Newtonian fluid* (such as water), stress is related to the velocity gradient by the equation\n",
    "\n",
    "$$\n",
    "\\tau (r)  = -\\mu \\frac{du}{dr},\n",
    "$$\n",
    "\n",
    "where $\\mu$ is a constant called the <i>dynamic viscosity</i>.  The negative sign indicates that the frictional force opposes the direction of fluid motion.\n",
    "\n",
    "To derive the velocity profile we consider a concentric, cylindrical control volume (i.e. mathematical construct)  with radius $r$,  cross-sectional area  $A_{cs}=\\pi r^2$, and lateral surface  area $A_{L}=2\\pi r L$ (**Figure 18**).\n",
    "\n",
    "<img src=\"fig18.png\" width=\"450px\">"
   ]
  },
  {
   "cell_type": "markdown",
   "metadata": {},
   "source": [
    " By Newton's $2^{nd}$ law, the total force (gravitational, pressure, and friction) acting in the $\\hat{s}$ direction on this volume must be zero since there is no acceleration in that direction:\n",
    "\n",
    "Equation (18)\n",
    "\n",
    "$$\n",
    "F_{gs}  + F_{ps} + F_{friction} =  ma_{s}=0.\n",
    "\\label{horiz}\n",
    "$$\n",
    "\n",
    "\n",
    "The component of the gravitational force $F_{gs}$ on the control volume in the $\\hat{s}$ direction is given by $F_{gs}=-\\gamma \\pi r^2 L \\sin \\theta$ (Exercise [4.3.1]).  The component of the pressure force is given by $F_{ps}= - \\Delta \\overline{p} A_{cs} = -\\Delta \\overline{p}\\, \\pi r^2$ where $\\Delta \\overline{p}= \\overline{p}_{right} -\\overline{p}_{left}$ is the difference between the average pressures on the right and left faces of the control volume. The frictional force is given by $F_{friction} = - \\tau (r) A_{L}=  -\\tau (r) 2\\pi rL $.   It follows  from  equation (18) that\n",
    "\n",
    "$$\n",
    "-\\gamma \\pi r^2 L \\sin \\theta - \\, \\Delta \\overline{p} \\, \\pi r^2\\,- \\tau (r) 2\\pi rL=\\, 0 \\Rightarrow  \\nonumber  \n",
    "$$\n",
    "\n",
    "\n",
    "$$\n",
    "\\tau(r) \\,= -(\\frac{\\gamma  L \\sin \\theta +  \\Delta \\overline{p} }{2L}) r.  \\label{FirstStress}\n",
    "$$"
   ]
  },
  {
   "cell_type": "markdown",
   "metadata": {},
   "source": [
    " Recalling our assumption that stress is simply proportional to the velocity gradient  ($\\tau (r) = -\\mu \\frac{du}{dr}$), we have\n",
    "\n",
    "$$\n",
    "\\frac{du}{dr} = (\\frac{\\gamma  L \\sin \\theta  + \\Delta \\overline{p} }{2\\mu L}) r \\Rightarrow\n",
    "$$\n",
    "\n",
    "$$\n",
    "u(r) = (\\frac{\\gamma  L \\sin \\theta  + \\Delta \\overline{p} }{4\\mu L} ) r^2 + C_1,\n",
    "$$\n",
    "\n",
    "for some constant $C_1$.  Noting that the velocity at the pipe wall is zero ($u(R)=0$)\n",
    "gives $C_1 =  -(\\frac{\\gamma  L \\sin \\theta +\\Delta \\overline{p} \\hspace{.01in}}{4\\mu L}) R^2$. We conclude that the velocity profile for laminar viscous flow in a pipe must be parabolic:\n",
    "\n",
    "Equation (20)\n",
    "\n",
    "$$\n",
    "u(r) = -(\\frac{\\gamma L \\sin \\theta +\\Delta \\overline{p}} {4\\mu L}) R^2  [1-(\\frac{r}{R})^2]=u_0 [1-(\\frac{r}{R})^2 \n",
    "\\label{laminarvelocityprofile}\n",
    "$$\n",
    "\n",
    "where $u_0=u(0)= -(\\frac{\\gamma L \\sin \\theta + \\Delta \\overline{p} \\hspace{.01in} }{4\\mu L} ) R^2  $ is the speed along the central axis of symmetry.\n",
    "\n",
    "In Exercise [4.3.2] you are asked to show that the corresponding volumetric flow rate is $Q=\\frac{\\pi R^2 u_0}{2}$. Note that the maximum flow rate $u_0$ is twice the constant speed of inviscid flow [Young et. al. 2001], so that the volumetric flow rate $Q$ remains the same for laminar and inviscid flow (as one might predict from the continuity equation for incompressible flow)."
   ]
  },
  {
   "cell_type": "markdown",
   "metadata": {},
   "source": [
    "### Turbulent Flow"
   ]
  },
  {
   "cell_type": "markdown",
   "metadata": {},
   "source": [
    "Modeling of turbulent flow is more complex than laminar flow in many respects [Young et. al. 2001], including: \n",
    "\n",
    "the velocity gradient for turbulent flow changes with the position $\\hat{s}$ of the cross section. (In this Module, for both inviscid and laminar flow, we only consider the case where the velocity gradient is the same on each cross section (i.e. fully developed flow));\n",
    "\n",
    "the shear stress $\\tau$ for turbulent flow is no longer proportional to the velocity gradient and depends on both the dynamic viscosity $\\mu$ and the mass density  $\\rho$ of the fluid. (For laminar flow, shear stress is independent of fluid density); and\n",
    "\n",
    "the pressure drop $\\Delta p$ for turbulent flow depends on a roughness parameter $\\epsilon$ of the pipe wall. (For laminar flow, pressure drop is independent of pipe roughness).\n",
    "\n",
    " The above considerations imply that for steady, incompressible turbulent flow, the pressure drop $\\Delta p$ in a round pipe with constant diameter may be described by a function of the form\n",
    "\n",
    "Equation (21)\n",
    "\n",
    "$$\n",
    "\\Delta p=F(\\bar{u}, R, L, \\epsilon, \\mu, \\rho) \\label{6var}\n",
    "$$\n",
    "\n",
    "where $\\bar{u}$ is the average velocity on a cross section, $R$ is the pipe radius, $L$ is the length of the pipe, $\\epsilon$ is a roughness parameter of the pipe wall, $\\mu$ is the dynamic viscosity, and $\\rho$ is the density. (Other factors affecting pressure, such as water temperature, suspended particles, or dissolved gases are considered to be negligible, so equation (21) serves as a good approximation)\n",
    "\n",
    "For steady, incompressible flow through a pipe of length $L$ and diameter $D=2R$, the head loss $h_{f}(L)$ (i.e. loss in total energy due to friction) is dependent on a *friction factor* $f$ according to the <i>Darcy-Weisbach</i> formula [Young et. al. 2001]\n",
    "\n",
    "Equation (22)\n",
    "\n",
    "$$\n",
    "h_{f}(L)  = f \\frac{L}{D} \\frac{\\bar{u}^2}{2g}. \\label{turbHeadLoss}\n",
    "$$\n",
    "\n",
    "Here the average speed $\\bar{u}$ is the same on each cross-section by the continuity equation **(Exercise 3.3)**. The friction factor $f$ is assumed to be a function of the form\n",
    "\n",
    "$$\n",
    "f=G(Re, \\frac{\\epsilon}{D})\n",
    "$$\n",
    "\n",
    "where Re is the Reynolds number and $\\frac{\\epsilon}{D}$ is called the relative roughness.  The friction factor $f$ is related to the Reynolds number Re and relative roughness $\\epsilon/D$, via the equation\n",
    "\n",
    "$$\n",
    "\\frac{1}{\\sqrt{f}}=-2.0\\log_{10}(\\frac{\\epsilon/D}{3.7}+\\frac{2.51}{Re\\sqrt{f}}), \\label{Colebrook} \n",
    "$$\n",
    "\n",
    "whose solutions are compiled in tables or displayed graphically as *Moody charts* [Young et. al. 2001]. The latter has the qualitative form shown in Figure (20).\n",
    "\n",
    " <img src=\"fig20.png\" width=\"500px\"> \n",
    "\n"
   ]
  },
  {
   "cell_type": "markdown",
   "metadata": {},
   "source": [
    "### Pipe Selection"
   ]
  },
  {
   "cell_type": "markdown",
   "metadata": {},
   "source": [
    "We have introduced a number of important parameters related to pipe selection, including diameter, average cross-sectional speed, volumetric flow-rate,  head loss due to friction, pressure capacity, Reynolds number and the friction factor, as summarized in Table 4.  In this section, we discuss how relatively small changes in pipe diameter can lead to dramatic changes in the system design.\n",
    "\n",
    " <img src=\"table4.png\" width=\"300px\">"
   ]
  },
  {
   "cell_type": "markdown",
   "metadata": {},
   "source": [
    " Figure (21)  qualitatively shows a segment of a water delivery system for which three different pipes are being considered. The static head line shows the initial total energy available due to gravitational potential energy. The *hydraulic grade line (HGL)* for each pipe shows the amount of energy remaining after head loss as the water flows along the streamline.\n",
    " \n",
    " \n",
    " <img src=\"fig21.png\" width=\"400px\">\n",
    "\n",
    " Table 5 (based on Appendix C of [Tawney n.d.]) shows the meters of head loss due to friction (per 100 meters of pipe) for various diameter pipes and flow rates.  Note that flow rates that are too fast  or too slow for practical use are excluded ($>3 m/s$ causes too much erosion inside the pipe, while $<0.7 m/s$ sediment from water settles and can block the pipe).\n",
    " \n",
    " \n",
    " <img src=\"table5.png\" width=\"430px\">\n"
   ]
  },
  {
   "cell_type": "markdown",
   "metadata": {},
   "source": [
    "Observing that head loss and pressure capacity both vary inversely with pipe diameter, the three pipes in Figure 21 may be categorized as follows:\n",
    "\n",
    "Pipe A: Head loss is the smallest, suggesting that this pipe has the largest diameter $D$ and volumetric flow-rate $Q$. Pipe A can thus service a greater demand for water, and friction effects are only a small factor in impeding water flow from reaching the destination outlet. However, a larger size pipe has a lower pressure capacity $C$, so this pipe is most at risk of failure if the flow is halted by a closed outlet. In other words, a break-pressure tank is most likely needed for this pipe to prevent the static pressure from getting too high. (A break-pressure tank is required if the pipe's allowable pressure head is less than the initial elevation head ($h$) minus the head loss ($h_f$));\n",
    "\n",
    "Pipe B: This pipe has an intermediate pipe diameter and flow-rate, and as such, can meet an intermediate demand and also has an intermediate pressure capacity. A break-pressure tank  may or may not be needed. Even with significantly greater head loss than pipe A, there is still enough available energy to transport the water all the way to the outlet; and\n",
    "\n",
    "Pipe C: This pipe, with the smallest pipe diameter and volumetric flow-rate, would have the highest pressure capacity and thus is most likely to eliminate the need for a break-pressure tank.   However, it can only meet a limited demand. Furthermore, since the pipe has a smaller diameter, the water will move through it with a higher velocity and lose more energy to friction.  More energy goes into the head loss, making the HGL more steep and causing the HGL to fall below the pipe level.  Where the HGL falls below the pipe level, there is insufficient energy available to move the water in the pipe to the outlet. In this case, a pump would have to be employed. (For systems empowered by gravity alone, the HGL should never fall below the pipe level since this results in negative pressure (to satisfy Bernoulli's equation) which will prevent motion and can suck air or dirt into the pipe.  Ideally the pipe will be built at least 5 meters below the HGL.)\n",
    "\n",
    "Varying diameters in water-delivery systems between roughly 25 and 50 mm in diameter can result in these major differences in system performance ([Tawney n.d.]), thus highlighting the importance of careful system design before beginning construction.\n"
   ]
  },
  {
   "cell_type": "markdown",
   "metadata": {},
   "source": [
    "## Designing a System"
   ]
  },
  {
   "cell_type": "markdown",
   "metadata": {},
   "source": [
    " In this section, we will apply the ideas we have presented to the problem of designing a gravity-fed system for the village of Nan Mand in Micronesia.  Using data from [Mogenson, 1996], we note that:\n",
    "\n",
    "the population of 400 grows at an average rate of $2\\%$ annually;\n",
    "\n",
    "the water demand is estimated at 416 liters per person per day; and\n",
    "\n",
    "the system will flow from a source tank at an elevation of 195 m to an outlet faucet 2220 m away at 5 m, and\n",
    "         the elevation survey between these points returns:\n",
    "         \n",
    "<img src=\"table7.png\" width=\"400px\">       "
   ]
  },
  {
   "cell_type": "markdown",
   "metadata": {},
   "source": [
    "Our system design specifications include:\n",
    "\n",
    "the system will meet the village's need for the next 20 years;\n",
    "\n",
    "the volumetric flow rate will be maintained with an acceptable water velocity;\n",
    "\n",
    "the location and number of break pressure tanks (if any) will be specified;\n",
    "\n",
    "head loss will be analyzed via an HGL diagram to ensure that the pipe stays below the HGL (hydraulic grade line); and\n",
    "\n",
    "the pipe diameter will be the same for the whole system for the sake of simplicity.\n",
    "         \n"
   ]
  },
  {
   "cell_type": "markdown",
   "metadata": {},
   "source": [
    "At its current rate, the village will have a population of $400*1.02^{20}=594$ in 20 years.  With a water demand of 416 liters/person/day the system must supply 2.86 liters/sec, which we convert to 0.00286 $m^3/s$ (1 $m^3=$1000 liters).  Since we have a fairly large demand and a small change in elevation (i.e. less pressure buildup) we will first try a 50 mm diameter pipe. We will use the continuity equation\n",
    "\n",
    "$$\n",
    " Q=\\bar{u}*A \\rightarrow \\bar{u}=\\frac{0.00286 m^3/s}{\\pi *0.025^2}=1.457 m/s, \\nonumber\n",
    "$$\n",
    "\n",
    "which is within the velocity bounds of 0.7 and 3 m/s (otherwise a new pipe diameter would need to be selected).\n",
    "Next we consider the static pressure limitations.  The greatest pressure will be at the outlet faucet at an elevation of 5 m when the outlet is closed.  The difference in elevation from the outlet to the source tank (190 m) gives us a pressure head of 190 m. We convert this to pressure as follows:\n",
    "\n",
    "$$\n",
    "Pressure\\, Head=\\frac{p}{\\gamma} \\rightarrow p=190*9789=1860 \\frac{kN}{m^2}.\n",
    "$$\n",
    "\n",
    "This static pressure exceeds the 50 mm pipe's maximum operating pressure of 1144.5 $\\frac{kN}{m^2}$, so at least one break pressure tank will be needed.  If one is placed at an elevation of 91 m (horizontal distance 1128 m), the first and second maximum static pressures will be 1019.2 $\\frac{kN}{m^2}$ and 842.8 $\\frac{kN}{m^2}$, respectively.  Both of these are within the pipe's rating, so no more break pressure tanks will be needed.  The head loss per 100 m is given in **Table 5**, and since our flow rate of 2.86 l/s isn't included we will use the closest value of Q (3 l/s) for this step.  Also, since the pipe is at a small angle, we will estimate the pipe length as the horizontal distance.  With this in mind our rate of head loss is 6.04 m per 100 m of horizontal distance (x).\n",
    "Now we will look at the dynamic pressure (outlet open) to make an HGL diagram using equation (13).  The different heads are as follows:\n",
    "\n",
    "\n",
    "Velocity Head ($\\frac{{\\bar u^2}}{2g}$)-constant, $=\\frac{1.457^2}{2*9.8}=$0.108 m\n",
    "\n",
    "Elevation Head (z)-elevation of the current point in meters\n",
    "\n",
    "Head Loss ($h_f$)-increases at constant rate with horizontal distance, $=\\frac{x}{100}*6.04$\n",
    "\n",
    " Pressure Head ($\\frac{p}{\\gamma}$)-dynamic pressure while pipe is flowing, $=z-\\frac{{\\bar u^2}}{2g}-h_f$\n",
    "\n",
    "<img src=\"fig22.png\" width=\"400px\">  \n",
    "\n",
    "\n",
    "In Figure 22, the slope of the Hydraulic Grade Line is the rate of head loss, so the HGL has an equation of $HGL=195-0.108-0.0604x$.  Since the pipeline remains below the HGL at all points, we can be satisfied that this design meets all conditions.  If the pipe went above the HGL, we would have to re-design the pipe with a larger diameter to reduce head loss and prevent negative pressures.\n"
   ]
  },
  {
   "cell_type": "markdown",
   "metadata": {},
   "source": [
    "## Case Study: Honduras"
   ]
  },
  {
   "cell_type": "markdown",
   "metadata": {},
   "source": [
    " A service learning project is an invaluable enrichment or motivation to the modeling of a gravity-fed water delivery system as described in this Module.  For example, the nation of Honduras is one of the poorest in the Western Hemisphere, and its rural areas have historically had little access to clean water.  In 2002, the World Health Organization (WHO) estimated 2,500 people die in Honduras each year due to lack of clean water.  Gravity-fed water supply systems are cheap and low-maintenance, and the availability of mountain springs in Honduras makes such systems ideal to meet real needs.  Indeed, water supply systems that use gravity correspond to $93\\%$ of all constructed systems in Honduras.\n",
    "\n",
    "The <i>Honduras Project</i> (HP) is a student-led organization at Wheaton College which, since 1982, has helped bring potable water to under-served villages  by installing gravity-fed systems.    HP partnered for many years with the late Arnoldo Alvaraez, a Honduran civil engineer with years of experience designing, installing and maintaining systems. Throughout the year, the students raise funds through community projects and support letters. During spring break, the group travels to a Honduran village to help dig trenches, build tanks, and lay pipes.\n",
    "\n",
    "<img src=\"fig23.png\" width=\"400px\"> \n",
    "\n",
    "\n",
    " HP, and programs like it, have helped Honduras' water coverage improve significantly over the last few decades (Figure 24).  These kinds of programs can be replicated by other schools or organizations.  If you would like to learn more about the Honduras Project, you can visit their website at\n",
    "https://www.wheaton.edu/life-at-wheaton/ministry-and-evangelism/students/ministry-teams/honduras-project/.\n",
    "\n",
    "<img src=\"fig24.png\" width=\"400px\"> \n",
    "\n",
    "\n"
   ]
  },
  {
   "cell_type": "markdown",
   "metadata": {},
   "source": [
    "## Further Directions"
   ]
  },
  {
   "cell_type": "markdown",
   "metadata": {},
   "source": [
    "In this Module, we have derived Bernoulli's equation and then applied it to the  modeling of pressure build-up and flow rates in a basic gravity-fed water delivery system. We then introduced break-pressure tanks, computed the velocity profile for laminar viscous flow, and described qualitatively friction effects for turbulent flow.\n",
    "\n",
    "There are both practical and mathematical considerations leading to models of increasing complexity which have not been discussed in this chapter, including, but not limited to\n",
    "\n",
    "<ul>\n",
    "<li>study of the effects on pressure and velocity if the main pipe splits into the smaller pipes of a distribution system;</li>\n",
    "\n",
    "<li>consideration of daily peak demand for water;</li>\n",
    "\n",
    "<li>evaluation of the water source, determining its quality and supply capacity;</li>\n",
    "\n",
    "<li>computation of vertical drop using surveying instruments;</li>\n",
    "\n",
    "<li>determination of demand in the village being serviced, including peak periods and population growth;</li>\n",
    "\n",
    "<li>inclusion of air-release valves within pipe systems;</li>\n",
    "\n",
    "<li>selection of attachments (eg. faucets) in delivery to individual homes;</li>\n",
    "\n",
    "<li>discussion of system maintenance and safety factors such as long-term use of PVC pipes;</li>\n",
    "\n",
    "<li>consideration of pressure variation within curved pipes;</li>\n",
    "\n",
    "<li>inclusion of other factors contributing to head loss such as suspended particles, dissolved gases, and water temperature;</li>\n",
    "\n",
    "<li>incorporation of non-steady and transitional flow analysis including head-loss through valves etc; and</li>\n",
    "\n",
    "<li>application of chaos theory, fractal geometry, and numerical analysis to turbulent flow.\n",
    "</ul>\n",
    "\n",
    "Those interested in further study may consult Tawney [n.d.] and ACF [2008] for practical considerations, Nakayama and Boucher [1999] or Young et. al. [2001] for general background in fluid mechanics, Chin [2000] for general background in water-related engineering problems, and  Jordan [1980] for a more in-depth discussion of gravity-fed water delivery systems.\n",
    "\n",
    "Practical resources include:\n",
    "\n",
    "Graphing calculators can easily be used to compare elevations with the HGL by entering the elevations into the stat plot and then graphing the HGL equation;\n",
    "\n",
    "https://www.engineeringtoolbox.com/pvc-cpvc-pipes-pressures-d_796.html\n",
    "gives the maximum operating pressures of PVC pipes;\n",
    "\n",
    "https://www.efunda.com/formulae/fluids/calc_reynolds.cfm provides a useful Reynolds number calculator with several different kinds of units.\n"
   ]
  },
  {
   "cell_type": "markdown",
   "metadata": {},
   "source": [
    "## Exercises"
   ]
  },
  {
   "cell_type": "markdown",
   "metadata": {},
   "source": [
    ":::{admonition} Exercises\n",
    "\n",
    "**Section 2**\n",
    "\n",
    "2.1) Express in terms of $\\gamma$, $\\delta V$, and $\\frac{dz}{ds}$ the component of the gravitational force $F_{gn}$ in the $\\hat{n}$ direction.\n",
    "\n",
    "2.2) Recalling that the derivative is obtainable as a limit of a difference quotient, obtain the control volume pressure estimate $p_{left}=p(s_0-\\frac{\\delta s}{2})\\approx p(s_0) - \\frac{dp}{ds} \\frac{\\delta s}{2}.$\n",
    "\n",
    "2.3) Let $L$ be the dimension for length, $M$ for mass, and $T$ for time. Check the consistency of the dimensions in Equation (13) (terms which are added must have the same dimension).\n",
    "\n",
    "**Section 3**\n",
    "\n",
    "3.1.1 a) Referring to Figure (10),  given that $h_1=2$ m, $h_2=9$ m, and water has a specific weight $\\gamma=9.789\\frac{kN}{m^3}$, compute the pressure at point B in $\\frac{kN}{m^2}$, assuming the tap is closed (i.e. static pressure).\n",
    "\n",
    "b) We are designing the same system as in part a using US units.  We are given $h_1=6$ ft., $h_2=30$ ft., and water's specific weight $\\gamma=62.3 \\frac{lb}{ft^3}$.  Compute the pressure at point B in psi (pounds per square inch), assuming the tap is closed.\n",
    "\n",
    "3.1.2) Given that a 2.5 cm diameter PVC pipe has a maximum operating pressure of $1862\\frac{kN}{m^2}$, how many meters below the base of the source reservoir tank could the base of the faucet be safely located assuming the water level in the source reservoir never exceeds 3 meters?  (All maximum operating pressures of PVC pipes are for schedule 40 pipes [Engineeringtoolbox n.d.])\n",
    "\n",
    "<img src=\"table4.png\" width=\"300px\">\n",
    "\n",
    "\n",
    "a) At what horizontal distance will the pressure be the greatest when the faucet is closed?\n",
    "\n",
    "b)  If a 10 cm diameter PVC pipe (with a maximum operating pressure of 917 $\\frac{kN}{m^2}$) was used, how many intermediate tanks would be needed to break pressure? (Water has a specific weight $\\gamma=9.789\\frac{kN}{m^3}$.)\n",
    "\n",
    "[3.2.1] A water delivery system is being designed based on the land surveyed in Tawney [2000] with a source tank at an elevation of 1000 m and an outlet faucet located at a horizontal distance of 850 m away at an elevation of 906 m.  A survey for the proposed pipe path resulted in the following data:\n",
    "\n",
    "\n",
    "3.2.2 Referring to Figure (12), assuming that the supply and break pressure tanks are filled to capacity, compute the water pressure in the pipe at point A (closed shut-off valve) and also at point B (base of the closed faucet). By how much is the pressure at the base of the faucet be reduced with the inclusion of the break pressure tank?\n",
    "\n",
    "[3.3.1]   The village of Mundenda, Zimbabwe is made up of 70 households with an average of five people per household whose minimum requirement for healthy living is 30 liters per person per day [Manyanhaire, 2009].  Find the volumetric flow rate Q (in liters/s) needed to keep its supply tank filled to capacity during an average demand period.\n",
    "\n",
    "[3.3.2]  If the pipe radius narrows (or alternately, widens),  the rate of incompressible, steady fluid flow will increase (resp. decrease). To see why,  consider two points $\\hat{s}=s_1, \\hat{s}=s_2$  on a streamline. Let $A_1$, $A_2$ be the respective normal cross-sectional pipe areas (in $m^2$) and $u_1$, $u_2$ be the respective (average) speeds of the water flow through $A_1$, $A_2$. The *continuity equation* (see Chin [2000]) states that $ u_1 A_1   =  u_2 A_2  =  Q$, where the constant $Q$  is  the volumetric flow rate.\n",
    "\n",
    "a) Suppose water flowing through a 5 cm (2 inch) diameter pipe has a velocity head of 3 m (10 ft).  According to the\n",
    "continuity equation, what would the velocity head be if the pipe narrows to a 4 cm (1.5 inch) diameter? (Assume that $g=9.8 \\frac{m}{s^2}$).\n",
    "\n",
    "b) For the system shown in Figure 14, find the value for the spring supply rate $u_0$ (in terms of $h_1$, $h_2$, $r_1$ and $r_2$) in order to maintain steady flow at B.\n",
    "\n",
    "**Section 4**\n",
    "\n",
    "[4.1] A water source at an elevation of 50 m is flowing to an outlet faucet at 5 m.  In the middle of the pipe at 30 m elevation you measure the velocity at 2.5 m/s.  If the head loss to that point is 25 m, what does this mean for the pressure at that point?  Recall that atmospheric pressure is our reference with p=0.\n",
    "\n",
    "[4.2]  Show that the Reynolds number is dimensionless.\n",
    "\n",
    "[4.3.1] Show that $F_{gs}=-\\gamma \\pi r^2 L \\sin \\theta$.\n",
    "\n",
    "[4.3.2] Show that for  a circular pipe with radius $R$,  the laminar, viscous flow rate (volume per unit time) through a cross section is $Q=\\frac{\\pi R^2 u_0}{2}$  (Hint:  Using polar coordinates, integrate the velocity profile $u(r)$ given in  equation (20) over a disc with radius $R$).\n",
    "\n",
    "[4.3.3]\n",
    "\n",
    " a) How does Figure 19 (adopted from [Nakayama, 1999]) account for the changing pipe diameter?  Head loss due to friction?\n",
    "\n",
    " b) How is Bernoulli's equation for inviscid flow modified to include head loss?\n",
    "\n",
    " <img src=\"fig19.png\" width=\"500px\"> \n",
    "\n",
    "\n",
    "[4.3.4] A pipe is being constructed to transport water at an average speed of 2 m/s.  What is the largest possible diameter of pipe that would still have laminar flow?  What would be the volumetric flow rate from this pipe?  Is this realistic?  Recall that $\\rho_{H_20}=998.2 \\frac{kg}{m^3}$.\n",
    "\n",
    "\n",
    "[4.4.1] Given that PVC is smoother than an iron pipe (i.e., PVC has a smaller relative roughness $\\frac{\\epsilon}{D}$ than iron pipe), which of the two pipes has the greater friction factor $f$ for a given Reynolds number Re?\n",
    "\n",
    "[4.4.2] Assuming the maximum speed for turbulent flow is between that of inviscid and laminar flows, make a qualitative sketch showing the (symmetric) velocity profiles on a cross-section for these three types of flows.\n",
    "\n",
    "[4.5.1] For a 25 mm diameter PVC pipe, a volumetric flow rate Q between .35 and  1.4 L/s is recommended by **Table 5**.  Find  the Reynolds number $Re$ and head loss associated with the minimum and maximum flow rate.\n",
    "\n",
    "\n",
    "[4.5.2] Suppose you are considering Pipe X for the pipeline shown in **Figure 21**. You are given Pipe X's diameter $D$, length $L=\\sqrt{h^2+x^2}$, friction factor $f$, and relative roughness $\\frac{\\epsilon}{D}$. Explain how you would obtain the Reynolds number $Re$, average flow rate $\\stackrel{-}{u}$, volumetric flow rate $Q$, head loss $h_f$, and hydraulic grade line (HGL).\n",
    "\n",
    "**Section 5**\n",
    "\n",
    "[5.1] You are designing a gravity-fed water delivery system for the village of Tesuque Pueblo, New Mexico.  The village has 980 people with an annual growth rate of 1.6 $\\%$ and an expected use of 322 liters per person per day.  The Barranca Road source tank is at an elevation of 2255 meters and the outlet faucet is 15.3 km away at an elevation of 1920 m (Leder, 2001).  An elevation survey gives us the following data:\n",
    "\n",
    "<img src=\"table8.png\" width=\"400px\"> \n",
    "\n",
    "\n",
    "Design a system that can meet the average demand for the next 10 years with no upgrades.  Choose a pipe diameter listed in Table 6 that meets the flow rate and velocity restrictions and assume all pipe to be the same diameter\n",
    "\n",
    "\n",
    "\n",
    "\n",
    "\n",
    ":::"
   ]
  },
  {
   "cell_type": "markdown",
   "metadata": {},
   "source": [
    "### References"
   ]
  },
  {
   "cell_type": "markdown",
   "metadata": {},
   "source": [
    "ACF International. 2008. <i>Design, Sizing, Construction and Maintenance of Gravity-Fed Systems in Rural Areas, Module 2.</i> France: ACF.\n",
    "\n",
    "Bentley, Jessica, et al. 2002. <i>Sustainable Water Development for the Village of Miramar, Honduras.</i> Water Resources Program, The University of New Mexico. \n",
    "http://repository.unm.edu/bitstream/handle/1928/10483/wrp-5.pdf?sequence=1\n",
    "\n",
    "Chin, David. 2000. <i>Water-Resources Engineering</i>. Upper Saddle River, NJ: Prentice Hall.\n",
    "\n",
    "eFunda.com. 2011. Reynolds Number Calculator http://www.efunda.com/formulae/fluids/calc$\\_$reynolds.cfm\n",
    "\n",
    "EngineeringToolbox.com. 2011. http://www.engineeringtoolbox.com\n",
    "    \n",
    "Hofkes, E.H. 1981. \\<i>Small Community Water Supplies</i>. New York: John Wiley \\& Sons.\n",
    "\n",
    "Jordan, Thomas. 1980. <i>A Handbook of Gravity-Flow Water Systems</i>. London: Intermediate Technology Publications.\n",
    "\n",
    "Leder, Charles. 2001. <i>Water Production/Transmission/Distribution System Pre-Feasibility Study for Pojoaque River Basin, NM.</i> Albuquerque, NM: ASCG Inc.http://www.ose.state.nm.us/water-info/AamodtSettlement/Appendix03.pdf\n",
    "\n",
    "Manyanhaire, Itai Offat and Taneal Kamuzungu. 2009. \"Access to Safe Drinking Water by Rural Communities in Zimbabwe: A Case of Mundenda Village.\" <i>Journal of Sustainable Development in Africa</i>11: 113-127.\n",
    "\n",
    "Mogenson, Ulla. 1996. \"Engineering Report for Nan Mand Water Supply System.\"  <i>SOPAC Technical Report</i> 241.\n",
    "\n",
    "Nakayama, Y., R.F. Boucher. 1999. <i>Introduction to Fluid Mechanics</i>. New York: John Wiley \\& Sons.\n",
    "\n",
    "Tawney, Eric. n.d. <i>Masters International Peace Corp Program Technical Brief \\#4: Visualization of Construction of a Gravity-Fed Water Supply System.</i>    http://cee.eng.usf.edu/peacecorps/Resources.htm\n",
    "\n",
    "U.S. Census Bureau. 2005. \"Tesuque CDP, New Mexico 2005-2009 American Community Survey 5-year Estimates.\" American FactFinder Fact Sheet.\n",
    "\n",
    "Water.org. 2010. \"Learn about the water crisis.\" Accessed February 20, 2011.\n",
    "http://water.org/learn-about-the-water-crisis/facts/\n",
    "\n",
    "WHO/Unicef Joint Monitoring Program for Water Supply and Sanitation. 2010.  \"Improved Drinking-Water Sources: Honduras.\" Accessed February 20, 2011\n",
    "http://www.wssinfo.org/fileadmin/user$\\_$upload/resources/HND$\\_$wat.pdf\n",
    "\n",
    "Young, D., B. Munson and F. Okiishi. 2001. <i>Brief Introduction to Fluid Mechanics</i>\n",
    "New York: John Wiley \\& Sons.\n",
    "\n"
   ]
  }
 ],
 "metadata": {
  "kernelspec": {
   "display_name": "Python 3 (ipykernel)",
   "language": "python",
   "name": "python3"
  },
  "language_info": {
   "codemirror_mode": {
    "name": "ipython",
    "version": 3
   },
   "file_extension": ".py",
   "mimetype": "text/x-python",
   "name": "python",
   "nbconvert_exporter": "python",
   "pygments_lexer": "ipython3",
   "version": "3.11.7"
  }
 },
 "nbformat": 4,
 "nbformat_minor": 2
}
