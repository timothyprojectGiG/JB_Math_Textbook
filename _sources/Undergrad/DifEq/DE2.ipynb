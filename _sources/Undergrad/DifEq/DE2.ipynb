{
 "cells": [
  {
   "cell_type": "markdown",
   "id": "7a7ebea3",
   "metadata": {},
   "source": [
    "# Introduction to Differential Equations"
   ]
  },
  {
   "cell_type": "code",
   "execution_count": null,
   "id": "8be76d5f",
   "metadata": {},
   "outputs": [],
   "source": [
    "import sympy as sym"
   ]
  },
  {
   "cell_type": "markdown",
   "id": "f4f22994",
   "metadata": {},
   "source": [
    ":::{note} \n",
    "Differential equations form a fundamental branch of mathematics that deals with the modeling and analysis of change and variation. They play a crucial role in describing and understanding various phenomena across different fields, including physics, engineering, biology, economics, and many others. In simple terms, a differential equation is an equation that involves derivatives. It expresses a relationship between an unknown function and its derivatives, representing how the function changes with respect to one or more independent variables. These equations capture dynamic processes and allow us to study how quantities evolve and interact with each other.\n",
    "\n",
    "Differential equations arise naturally when trying to model real-world problems. Applying mathematics to practical problems often leads to a situation where it's simpler to establish a connection between a function and its rate of change, rather than figuring out the function's exact formula. This relationship, between an unknown function and its derivatives, essentially gives rise to a differential equation.\n",
    "\n",
    "Solving differential equations involves finding the function or functions that satisfy the equation. This task can be challenging as it often requires advanced mathematical techniques, including integration, differentiation, linear algebra, and complex analysis. Differential equations can exhibit a wide range of behaviors. Some equations have simple and explicit solutions, while others may require numerical methods or approximation techniques. Understanding the solutions to differential equations provides valuable insights into the underlying processes and helps make predictions about future behavior.\n",
    "\n",
    "Moreover, differential equations serve as a bridge between theoretical mathematics and real-world applications. They enable us to formulate mathematical models that accurately represent complex systems and phenomena, allowing us to analyze, optimize, and make informed decisions. For instance, in physics, they describe the motion of objects, the flow of fluids, and the behavior of electromagnetic fields. In biology, differential equations help us analyze population growth, the spread of diseases, and the dynamics of biological systems. Engineers rely on differential equations to study control systems, electrical circuits, and structural stability. \n",
    ":::"
   ]
  },
  {
   "cell_type": "markdown",
   "id": "a9524057",
   "metadata": {},
   "source": [
    "### Basic Terminology"
   ]
  },
  {
   "cell_type": "markdown",
   "id": "bee2af21-ff08-4b31-a768-564cd2e5ca63",
   "metadata": {},
   "source": [
    "```{index} Differential Equations\n",
    "```"
   ]
  },
  {
   "cell_type": "markdown",
   "id": "f2014f09",
   "metadata": {},
   "source": [
    "A <b>differential equation</b> is any equation involving an unknown function and one or more of its derivatives. Differential equations can be largely classified into two categories: ordinary differential equations and partial differential equations. When the unknown function within the equation only relies on a single variable, we label it as an <b>ordinary differential equation</b>. However, when the unknown function depends on multiple independent variables, we refer to it as a <b>partial differential equation</b>. In this latter scenario, the derivatives present in the equation are identified as partial derivatives."
   ]
  },
  {
   "cell_type": "markdown",
   "id": "f5818d03",
   "metadata": {},
   "source": [
    "#### Example 1"
   ]
  },
  {
   "cell_type": "markdown",
   "id": "6f03a2b6",
   "metadata": {},
   "source": [
    ":::{admonition} Example 1\n",
    " - $y' = x^3$ is an ordinary differential equation.\n",
    " - $\\frac{dx}{dt} = kx^2\\sin(t)$ is an ordinary differential equation.\n",
    " - $y'(x) + \\mu \\sqrt{y(x)} = 0$ is an ordinary differential equation. \n",
    " - $\\frac{\\partial Q}{\\partial t} + Q(s,t) = 5$ is a partial differential equation.\n",
    ":::"
   ]
  },
  {
   "cell_type": "markdown",
   "id": "692037af",
   "metadata": {},
   "source": [
    "Note that in this chapter we will primarily be working with ordinary differential equations. A differential equation can consist of three distinct types of quantities. First, the unknown function, which the equation aims to solve, is referred to as the <b>dependent variable</b>. In the context of ordinary differential equations, this dependent variable is a function of a single <b>independent variable</b>. Beyond the independent and dependent variables, there's a third variable known as a <b>parameter</b> that may feature in the equation. A parameter is a value that stays constant within a specific problem, but it can vary when comparing different problems. The <b>order</b> of a differential equation is determined by the rank of the highest derivative of the unknown function included in the equation."
   ]
  },
  {
   "cell_type": "markdown",
   "id": "ad331e3a",
   "metadata": {},
   "source": [
    "#### Example 1 (continued)"
   ]
  },
  {
   "cell_type": "markdown",
   "id": "930c02a1",
   "metadata": {},
   "source": [
    ":::{admonition} Example 1 (continued)\n",
    " - $y''(x) = x^3$ is an ODE. The dependent variable is $y$. The independent variable is $x$. There are no parameters and the order is $2$.\n",
    " - $\\frac{dx}{dt} = kx^2\\sin(t)$ is an ODE. The dependent variable is $x$. The independent variable is $t$. There is one parameter, $k$. The order is $1$.\n",
    " - $y^{(5)}(x) + \\mu \\sqrt{y(x)} = 0$ is an ODE. The dependent variable is $y$. The independent variable is $x$. There is one parameter, $\\mu$. The order is $5$.\n",
    " \n",
    " :::"
   ]
  },
  {
   "cell_type": "markdown",
   "id": "435d3642",
   "metadata": {},
   "source": [
    "An $n^{th}$ order ordinary differential equation is said to be <b>linear</b> if it can be written in the form\n",
    "\n",
    "$a_n(x)y^{(n)}(x)+a_{n-1}(x)y^{(n-1)}(x)+...+a_1(x)y'(x)+a_0(x)y(x) = g(x).$\n",
    "    \n",
    "If it cannot be written in that form, we say that the ordinary differential equation is <b>nonlinear</b>."
   ]
  },
  {
   "cell_type": "markdown",
   "id": "b3d0b5b0",
   "metadata": {},
   "source": [
    "#### Example 1 (continued)"
   ]
  },
  {
   "cell_type": "markdown",
   "id": "1d45845a",
   "metadata": {},
   "source": [
    ":::{admonition} Example 1 (continued)\n",
    " - $y''(x) = x^3$ is a linear ODE.\n",
    " - $\\frac{dx}{dt} = kx^2\\sin(t)$ is a nonlinear ODE. This is because $x$, the dependent variable, is raised to the second power.\n",
    " - $y^{(5)}(x) + \\mu \\sqrt{y(x)} = 0$ is a nonlinear ODE. This is because $y$ is under a radical sign. Note that the parameters in either problem, $k$ and $\\mu$, do not affect the linearity of either of these last two problems.\n",
    " :::"
   ]
  },
  {
   "cell_type": "markdown",
   "id": "8969e5fa",
   "metadata": {},
   "source": [
    "A <b>solution</b> to a differential equation is a sufficiently differentiable function that, if substituted into the equation together with its necessary derivatives, makes the equation an identity over some interval of the independent variable."
   ]
  },
  {
   "cell_type": "markdown",
   "id": "b9dea837",
   "metadata": {},
   "source": [
    "#### Example 2"
   ]
  },
  {
   "cell_type": "markdown",
   "id": "7fb30d1d",
   "metadata": {},
   "source": [
    ":::{admonition} Example 2\n",
    "Show that $f(x) = e^{-x}$ is a solution for all $x$ to $2y'+3y = e^{-x}$.\n",
    ":::"
   ]
  },
  {
   "cell_type": "code",
   "execution_count": 2,
   "id": "4d3b53a9",
   "metadata": {
    "tags": [
     "hide-input"
    ]
   },
   "outputs": [
    {
     "name": "stdout",
     "output_type": "stream",
     "text": [
      "This is the function f(x): exp(-x)\n",
      "This is the derivative of f(x): -exp(-x)\n"
     ]
    },
    {
     "data": {
      "text/plain": [
       "True"
      ]
     },
     "execution_count": 2,
     "metadata": {},
     "output_type": "execute_result"
    }
   ],
   "source": [
    "x = sym.Symbol('x')\n",
    "#Define f(x)\n",
    "f = sym.exp(-x)\n",
    "print('This is the function f(x):', f)\n",
    "\n",
    "#Define f'(x)\n",
    "dfdx = sym.diff(f)\n",
    "print('This is the derivative of f(x):', dfdx)\n",
    "\n",
    "#See if f(x) is a solution to the differential equation. If it outputs True, f(x) is a solution.\n",
    "2*dfdx+3*f == sym.exp(-x)"
   ]
  },
  {
   "cell_type": "markdown",
   "id": "c3477de9",
   "metadata": {},
   "source": [
    "### Exercises"
   ]
  },
  {
   "cell_type": "markdown",
   "id": "e0f7baa1",
   "metadata": {},
   "source": [
    ":::{admonition} Exercises\n",
    "\n",
    "1. List the type and order of each of the following differential equations. For each ordinary differential equation, determine if it is linear or nonlinear.\n",
    "    - $\\dfrac{dQ}{dt} = \\dfrac{tP}{100}$\n",
    "    - $\\frac{\\partial^2 v}{\\partial t^2} + \\frac{\\partial^2 v}{\\partial w^2} = 5$\n",
    "    - $2\\dfrac{d^2q}{dt^2} + \\cos(t) \\dfrac{dq}{dt} = E(t)$\n",
    "    \n",
    "    \n",
    "2. Show that $f(x) = \\sin(x)+\\cos(x)+x^2-2$ is a solution for all $x$ to $y''+y = x^2$. \n",
    ":::"
   ]
  }
 ],
 "metadata": {
  "celltoolbar": "Edit Metadata",
  "kernelspec": {
   "display_name": "Python 3 (ipykernel)",
   "language": "python",
   "name": "python3"
  },
  "language_info": {
   "codemirror_mode": {
    "name": "ipython",
    "version": 3
   },
   "file_extension": ".py",
   "mimetype": "text/x-python",
   "name": "python",
   "nbconvert_exporter": "python",
   "pygments_lexer": "ipython3",
   "version": "3.11.7"
  }
 },
 "nbformat": 4,
 "nbformat_minor": 5
}
