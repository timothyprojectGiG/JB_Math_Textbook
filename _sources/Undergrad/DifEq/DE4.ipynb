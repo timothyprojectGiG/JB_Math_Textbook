{
 "cells": [
  {
   "cell_type": "markdown",
   "id": "46c46fa6",
   "metadata": {},
   "source": [
    "# Second-Order Differential Equations"
   ]
  },
  {
   "cell_type": "markdown",
   "id": "74db0aec",
   "metadata": {},
   "source": [
    ":::{note} \n",
    "In this section, we will start with some general theory of $n$th-order linear differential equations to motivate the techniques used for solving second-order differential equations. Second-order differential equations play a critical role in mathematical physics and engineering disciplines due to their ubiquity in modeling natural phenomena. They are differential equations in which the highest order derivative is of the second order. Specifically, a second-order differential equation can be written as $\\frac{d^2x}{dt^2} = f(t, x, \\frac{dx}{dt})$ where $x$ is the unknown function we are interested in, $t$ is the independent variable, $\\frac{dx}{dt}$ is the first derivative of $x$, and $\\frac{d^2x}{dt^2}$ is the second derivative of $x$.\n",
    "\n",
    "Examples of the practical applications of second-order differential equations include but are not limited to: modeling the motion of a spring (harmonic oscillator), predicting the population dynamics in ecology, and describing the behavior of electric circuits. They are also widely used in the fields of physics, economics, and engineering to create mathematical models of real-world situations. One reason for the importance of second-order equations is that if $x(t)$ represents the position of an object at time $t$, then $x'(t)$ is its instantaneous velocity and $x''(t)$ is its acceleration; thus, real-world problems from the physical sciences often lead to equations of this type.\n",
    "\n",
    "Solving second-order differential equations can be quite complex and may involve techniques such as characteristic equations, method of undetermined coefficients, and variation of parameters, among others. The nature of the solution can widely vary depending on the form of the equation. For instance, solutions can be real or complex, periodic or exponential, and convergent or divergent. Some special types of second-order differential equations, like the Cauchy-Euler equation or the Bessel's equation, have their own dedicated methods of solutions due to their unique structure.\n",
    "\n",
    "As we explore the world of second-order differential equations, we uncover a variety of mathematical landscapes with significant implications for understanding the world around us. Through these equations, we can dive deep into the patterns and behaviors that underscore numerous phenomena, both natural and man-made.\n",
    ":::"
   ]
  },
  {
   "cell_type": "markdown",
   "id": "bd24460b",
   "metadata": {},
   "source": [
    "Recall that a general linear $n$th-order initial-value problem is of the form \n",
    "\n",
    "$$\n",
    "a_n(x)y^{(n)}(x)+a_{n-1}y^{(n-1)}(x) + \\dots + a_1(x)y'(x) + a_0(x)y(x)=g(x)\n",
    "$$ \n",
    "\n",
    "where $y(x_0)=y_0$, $y'(x_0)=y_1$, $\\dots$, $y{(n-1)}(x_0)=y_{n-1}$. Recall that the number of initial conditions must match the order of the differential equation and they must have the same input $x_0$. We call a linear differential equation **homogeneous** if $g(x)=0$, or in other words, if it can be written as \n",
    "\n",
    "$$\n",
    "a_n(x)y^{(n)}(x)+a_{n-1}y^{(n-1)}(x) + \\dots + a_1(x)y'(x) + a_0(x)y(x)=0.\n",
    "$$"
   ]
  },
  {
   "cell_type": "markdown",
   "id": "ab8b1ff4-836c-4458-ac26-0a1e59c54aed",
   "metadata": {},
   "source": [
    "```{index} superposition principle\n",
    "```"
   ]
  },
  {
   "cell_type": "markdown",
   "id": "921d3a81",
   "metadata": {},
   "source": [
    "### General Theory"
   ]
  },
  {
   "cell_type": "markdown",
   "id": "4d1c8845",
   "metadata": {},
   "source": [
    "One of the most important principles for homogeneous equations is the **Superposition Principle** which states that if $y_1, y_2 \\dots, y_n$ are solutions to the homogeneous linear $n$th-order differential equation $a_n(x)y^{(n)}(x)+a_{n-1}y^{(n-1)}(x) + \\dots + a_1(x)y'(x) + a_0(x)y(x)=0$ on an interval $I$. Then the linear combination $y(x)= c_1y_1(x) + c_2y_2(x) + \\dots + c_ny_n(x)$ where $c_k$ is an arbitrary constant for each $k$ is also a solution on $I$. In other words, we can build new solutions from existing solutions. This idea is critical in solving second-order differential equations.\n",
    "\n",
    "Some nice consequences of the Superposition Principle are\n",
    "1. If $y$ is a solution to a homogeneous differential equation, then so is $cy$ for any constant $c$. In other words, we can scale every solution to produce another solution.\n",
    "\n",
    "2. $y=0$ is a solution to every homogeneous differential equation. This comes from setting $c_k=0$ for all $k$."
   ]
  },
  {
   "cell_type": "markdown",
   "id": "183123bb",
   "metadata": {},
   "source": [
    ":::{admonition} Example\n",
    "\n",
    "Consider the differential equation $y''-4y=0$. Verify that $y(x)=e^{2x}$ and $y(x)=e^{-2x}$. Use the Superposition Principle to conclude that $y(x) = Ae^{2x}+Be^{-2x}$ is also a solution for any constants $A$ and $B$.\n",
    ":::"
   ]
  },
  {
   "cell_type": "code",
   "execution_count": 2,
   "id": "5f3ebbe3",
   "metadata": {
    "tags": [
     "hide-input"
    ]
   },
   "outputs": [
    {
     "name": "stdout",
     "output_type": "stream",
     "text": [
      "This is the function f(x): exp(2*x)\n",
      "This is the derivative of f(x): 2*exp(2*x)\n",
      "This is the second derivative of f(x): 4*exp(2*x)\n"
     ]
    },
    {
     "data": {
      "text/plain": [
       "True"
      ]
     },
     "execution_count": 2,
     "metadata": {},
     "output_type": "execute_result"
    }
   ],
   "source": [
    "# Check that y=e^{2x} is a solution \n",
    "import sympy as sym\n",
    "\n",
    "x = sym.Symbol('x')\n",
    "#Define f(x)\n",
    "f = sym.exp(2*x)\n",
    "print('This is the function f(x):', f)\n",
    "\n",
    "#Define f'(x)\n",
    "dfdx = sym.diff(f)\n",
    "print('This is the derivative of f(x):', dfdx)\n",
    "\n",
    "#Define f''(x)\n",
    "dfdxx = sym.diff(dfdx)\n",
    "print('This is the second derivative of f(x):', dfdxx)\n",
    "\n",
    "#See if f(x) is a solution to the differential equation. If it outputs True, f(x) is a solution.\n",
    "dfdxx-4*f == 0"
   ]
  },
  {
   "cell_type": "code",
   "execution_count": 1,
   "id": "e659e311",
   "metadata": {
    "tags": [
     "hide-input"
    ]
   },
   "outputs": [
    {
     "name": "stdout",
     "output_type": "stream",
     "text": [
      "This is the function f(x): exp(-2*x)\n",
      "This is the derivative of f(x): -2*exp(-2*x)\n",
      "This is the second derivative of f(x): 4*exp(-2*x)\n"
     ]
    },
    {
     "data": {
      "text/plain": [
       "True"
      ]
     },
     "execution_count": 1,
     "metadata": {},
     "output_type": "execute_result"
    }
   ],
   "source": [
    "# Check that y=e^{-2x} is a solution \n",
    "import sympy as sym\n",
    "\n",
    "x = sym.Symbol('x')\n",
    "#Define f(x)\n",
    "f = sym.exp(-2*x)\n",
    "print('This is the function f(x):', f)\n",
    "\n",
    "#Define f'(x)\n",
    "dfdx = sym.diff(f)\n",
    "print('This is the derivative of f(x):', dfdx)\n",
    "\n",
    "#Define f''(x)\n",
    "dfdxx = sym.diff(dfdx)\n",
    "print('This is the second derivative of f(x):', dfdxx)\n",
    "\n",
    "#See if f(x) is a solution to the differential equation. If it outputs True, f(x) is a solution.\n",
    "dfdxx-4*f == 0"
   ]
  },
  {
   "cell_type": "markdown",
   "id": "cbf4269c",
   "metadata": {},
   "source": [
    "The Superposition Principle tells us that we can build new solutions by taking linear combinations of known solutions. This means that $y(x)=Ae^{2x}+Be^{-2x}$ is a solution since $y(x)=e^{2x}$ and $y(x)=e^{-2x}$ are known solutions."
   ]
  },
  {
   "cell_type": "markdown",
   "id": "8e0c8b46-230d-4d29-b5d6-a67f32b83c91",
   "metadata": {},
   "source": [
    "```{index} linear homogeneous differential equations with constant coefficients\n",
    "\n",
    "```"
   ]
  },
  {
   "cell_type": "markdown",
   "id": "16acd600",
   "metadata": {},
   "source": [
    "### Linear Homogeneous Differential Equations with Constant Coefficients"
   ]
  },
  {
   "cell_type": "markdown",
   "id": "d7db246e",
   "metadata": {},
   "source": [
    "We expect solutions of an $n$th-order linear homogeneous differential equation with constant coefficients $a_nx^{(n)} + a_{n-1}x^{(n-1)} + \\dots + a_1x' + a_0x = 0$ to be of the form $x(t) = e^{kt}$ for some constant $k$. We also know that if $x_1(t)=e^{k_1t}$ and $x_2(t) = e^{k_2t}$ are both solutions, then $x(t) = c_1e^{k_1t}+c_2e^{k_2t}$, where $c_1$ and $c_2$ are any constants, is also a solution by the Superposition Principle."
   ]
  },
  {
   "cell_type": "markdown",
   "id": "516355ec",
   "metadata": {},
   "source": [
    ":::{admonition} Motivating Example\n",
    "\n",
    "Find all solutions to $x'' - 7x' +12x =0$.\n",
    "\n",
    "Suppose $x(t)=e^{kt}$ is a solution. This means it satisfies our differential equation. Since $x'(t) = ke^{kt}$ and $x''(t) = k^2e^{kt}$, we know \n",
    "\n",
    "$x'' - 7x' +12x = k^2e^{kt} -7ke^{kt}+12e^{kt} = e^{kt}(k^2-7k+12)=0$.\n",
    "\n",
    "Since $e^{kt} \\neq 0$, we know that $k^2-7k+12=0$ when $e^{kt}$ is a solution. We call the equation $k^2-7k+12=0$ the **characteristic equation** of the differential equation. Solving the characteristic equation gives $k^2-7k+12=(k-3)(k-4)=0$. Thus, $k=3$ or $k=4$ meaning that $x(t)=e^{3t}$ and $x(t)=e^{4t}$ are both solutions to the differential equation. Moreover, by the Superposition Principle, $x(t) = c_1e^{3t} + c_2e^{4t}$ are also solutions for all constants $c_1$ and $c_2$. \n",
    "\n",
    "So a natural question is did we find all solutions? We found an infinite family of solutions, but how do we know there are not any other solutions? We will be exploring this question next.\n",
    ":::"
   ]
  },
  {
   "cell_type": "markdown",
   "id": "596971d3",
   "metadata": {},
   "source": [
    "A set of functions is said to be **linearly dependent** if one function can be written as a linear combination of the others. This means that a set of function $\\{f_1(t), f_2(t), \\dots, f_n(t)\\}$ is linearly dependent if there exist constants $c_1, c_2, \\dots, c_n$ **not all zero** such that $c_1f_1(t)+c_2f_2(t)+\\dots+c_nf_n(t)=0$. A set of functions is said to be **linearly independent** if the only way $c_1f_1(t)+c_2f_2(t)+\\dots+c_nf_n(t)=0$ is true is if all of the $c_i$ are zero."
   ]
  },
  {
   "cell_type": "markdown",
   "id": "8f2a93aa",
   "metadata": {},
   "source": [
    ":::{admonition} Example\n",
    "- $\\{1, t, 4t+2\\}$ is a linearly dependent set of functions because 2(1)+4(t)-(4t+2)=0.\n",
    "- $\\{1, x, x^2\\}$ is a linearly independent set of functions because $c_1+c_2x+c_3x^2=0$ only when $c_1=c_2=c_3=0$.\n",
    ":::"
   ]
  },
  {
   "cell_type": "markdown",
   "id": "42430973",
   "metadata": {},
   "source": [
    "It turns out that this idea of a linearly dependent/independent set of functions allows us to precisely answer the earlier question of \"Did we find all of the solutions?\" through the following theorem.\n",
    "\n",
    ":::::{admonition} Theorem\n",
    ":class: tip\n",
    "Every $n$th-order linear homogeneous equation has a set of $n$ linearly independent solutions; this is called a **fundamental set of solutions**. Let $x_1, x_2, \\dots, x_n$ be a fundamental set of solutions of an $n$th-order linear homogeneous equation. By the Superposition Principle, $x(t) = c_1x_1(t)+c_2x_2(t)+\\dots+c_nx_n(t)$ is also a solutions; we call this the **general solution**.\n",
    ":::::\n",
    "\n",
    "Let's now return to our motivating example."
   ]
  },
  {
   "cell_type": "markdown",
   "id": "d9f45707",
   "metadata": {},
   "source": [
    ":::{admonition} Motivating Example (continued)\n",
    "\n",
    "Find all solutions to $x'' - 7x' +12x =0$.\n",
    "\n",
    "Recall previously we found that $x(t)=e^{3t}$ and $x(t)=e^{4t}$ are both solutions to the differential equation. Moreover, by the Superposition Principle, $x(t) = c_1e^{3t} + c_2e^{4t}$ are also solutions for all constants $c_1$ and $c_2$. \n",
    "\n",
    "Since this differential equation is second-order, we know that the fundamental set of solutions contains two linearly independent solutions. Notice that $e^{3t}$ and $e^{4t}$ are linearly independent as $c_1e^{3t}+c_2e^{4t}=0$ only when $c_1=c_2=0$. This means that $\\{e^{3t},e^{4t}\\}$ *is* the fundamental set of solutions and thus, the general solution $x(t)= c_1e^{3t} + c_2e^{4t}$ does capture *all* solutions of this differential equation.\n",
    ":::"
   ]
  },
  {
   "cell_type": "markdown",
   "id": "182b8add",
   "metadata": {},
   "source": [
    "We will now look at two other examples that will ultimately motivate our strategy for these second-order differential equations."
   ]
  },
  {
   "cell_type": "markdown",
   "id": "b9df5bc4",
   "metadata": {},
   "source": [
    ":::{admonition} Example\n",
    "\n",
    "Find all solutions to $x'' - 6x' +9x =0$.\n",
    "\n",
    "Suppose $x(t)=e^{kt}$ is a solution. This means it satisfies our differential equation. Since $x'(t) = ke^{kt}$ and $x''(t) = k^2e^{kt}$, we know \n",
    "\n",
    "$x'' - 6x' +9x = k^2e^{kt} -6ke^{kt}+9e^{kt} = e^{kt}(k^2-6k+9)=0$.\n",
    "\n",
    "Since $e^{kt} \\neq 0$, we know that $k^2-6k+9=0$ when $e^{kt}$ is a solution. Thus, $k^2-6k+9=0$ is the **characteristic equation** of this differential equation. Solving the characteristic equation gives $k^2-6k+9=(k-3)(k-3)=0$. Thus, $k=3$ meaning that $x(t)=e^{3t}$ is a solution to the differential equation. But, since this differential equation is second-order, we know that the fundamental set of solutions contains two linearly independent solutions. This means we are missing one. \n",
    "\n",
    "We will now guess a second solution that is linearly independent from the first solution. Our guess is $y(t)=te^{3t}$. The motivation for the guess is that we expect the solution to look \"like\" $x(t)=e^{3t}$ and be linearly independent from it. But now we need to verify that our guess is actually a solution. If $y(t)=te^{3t}$ is a solution, then it satisfies our differential equation. Since $y'(t) = 3te^{3t}+e^{3t}$ and $y''(t) = 9te^{3t}+6e^{3t}$, we know  $x'' - 6x' +9x = (9te^{3t}+6e^{3t}) -6(3te^{3t}+e^{3t})+9(te^{3t}) =0$. Thus, $y(t)=te^{3t}$ is a solution.\n",
    "\n",
    "This means that $\\{e^{3t},te^{3t}\\}$ *is* the fundamental set of solutions and thus, the general solution $x(t)= c_1e^{3t} + c_2te^{3t}$ does capture *all* solutions of this differential equation.\n",
    ":::"
   ]
  },
  {
   "cell_type": "markdown",
   "id": "a167b885",
   "metadata": {},
   "source": [
    ":::{admonition} Example\n",
    "\n",
    "Find the *real-valued* general solution to $x'' +9x =0$.\n",
    "\n",
    "Suppose $x(t)=e^{kt}$ is a solution. This means it satisfies our differential equation. Since $x'(t) = ke^{kt}$ and $x''(t) = k^2e^{kt}$, we know \n",
    "\n",
    "$x''+9x = k^2e^{kt} +9e^{kt} = e^{kt}(k^2+9)=0$.\n",
    "\n",
    "Since $e^{kt} \\neq 0$, we know that $k^2+9=0$ when $e^{kt}$ is a solution. Thus, $k^2+9=0$ is the **characteristic equation** of this differential equation. Solving the characteristic equation gives $k^2+9=0$. Thus, $k=\\pm3i$ meaning that $x_1(t)=e^{3it}$ and $x_2(t)=e^{-3it}$ are solutions to the differential equation. But, these are not *real-valued* solutions. \n",
    "\n",
    "Recall Euler's formula which says that $e^{i\\theta} = \\cos(\\theta)+i\\sin(\\theta)$. Using Euler's formula we can rewrite $x_1(t)=e^{3it} = \\cos(3t)+i\\sin(3t)$ and $x_2(t)=e^{-3it} = \\cos(-3t)+i\\sin(-3t)$. Moreover, since cosine is an even function, we know $\\cos(-\\theta) = \\cos(\\theta)$ and since sine is an odd function, we know $\\sin(-\\theta) = -\\sin(\\theta)$. Thus, $x_2(t) = \\cos(3t)-i\\sin(3t)$.\n",
    "\n",
    "Recall that any linear combination of $x_1, x_2$ is also a solution by the superposition principle. This means that $y_1(t) = \\frac{x_1(t)+x_2(t)}{2} = \\cos(3t)$ is a solution *and* $y_2(t) = \\frac{x_1(t)-x_2(t)}{2i} = \\sin(3t)$ is also a solution. Note that $y_1(t)$ and $y_2(t)$ are still linearly independent and they are real-vlaued.\n",
    "\n",
    "This means that $\\{\\cos(3t),\\sin(3t)\\}$ *is* the fundamental set of solutions and thus, the general solution $x(t)= c_1\\cos(3t) + c_2\\sin(3t)$ does capture *all* solutions of this differential equation.\n",
    "\n",
    ":::"
   ]
  },
  {
   "cell_type": "markdown",
   "id": "f75f5347",
   "metadata": {},
   "source": [
    ":::{admonition} Summary \n",
    "\n",
    "Consider the differential equation $ax''+bx'+cx=0$. \n",
    "\n",
    "1. The characteristic equation is $ak^2+bk+c=0$.\n",
    "\n",
    "2. The possible solutions to the characteristic equation are $k = \\frac{-b \\pm \\sqrt{b^2-4ac}}{2a}$. There are three cases for what the roots of the characteristic equation can look like.\n",
    "    - Case 1: $b^2-4ac >0$. In this case the characteristic equation, has two distinct real roots.\n",
    "    - Case 2: $b^2-4ac =0$. In this case the characteristic equation, has one real root with multiplicity two.\n",
    "    - Case 3: $b^2-4ac <0$. In this case the characteristic equation, has two complex roots.\n",
    "    \n",
    "3. Based on 2, we can write down the possible forms of solutions to the differential equation.\n",
    "    - Case 1: $b^2-4ac >0$. Let $k_1, k_2$ be the distinct real roots. Then the general solution to the differential equation is $x(t)=c_1e^{k_1t}+c_2e^{k_2t}$.\n",
    "    - Case 2: $b^2-4ac =0$. Let $k$ be the repeated root. Then the general solution to the differential equation is $x(t)=c_1e^{kt}+c_2te^{kt}$.\n",
    "    - Case 3: $b^2-4ac <0$. Let $k_1=\\alpha+i\\beta, k_2=\\alpha-i\\beta$ be the complex roots. Then the general solution to the differential equation is $x(t)=c_1e^{\\alpha t}\\cos(\\beta t)+c_2e^{\\alpha t}\\sin(\\beta t)$.\n",
    " :::"
   ]
  },
  {
   "cell_type": "markdown",
   "id": "1691b1ee-6ccf-4a64-9615-b75c3aec43a2",
   "metadata": {},
   "source": [
    "```{index}  nonhomogeneous linear differential equations\n",
    "```\n",
    "\n",
    "```{index} undetermined coefficients\n",
    "```"
   ]
  },
  {
   "cell_type": "markdown",
   "id": "863ae55a",
   "metadata": {},
   "source": [
    "### Nonhomogeneous Linear Equations and Undetermined Coefficients"
   ]
  },
  {
   "cell_type": "markdown",
   "id": "2e95dd21",
   "metadata": {},
   "source": [
    "This goal of this subsection is to discuss how to solve differential equations of the form $a_nx^{(n)} + a_{n-1}x^{(n-1)}+\\dots + a_1x'+a_0x=f(t)$ for some \"nice\" functions $f(t)$. \n",
    "\n",
    "Any function $x_p$ *that has no unknown parameters* and is a solution to $a_nx^{(n)} + a_{n-1}x^{(n-1)}+\\dots + a_1x'+a_0x=f(t)$ is called a **particular solution**. We should note that particular solutions are not unique.\n",
    "\n",
    "Given a particular solution, $x_p$ to $a_nx^{(n)} + a_{n-1}x^{(n-1)}+\\dots + a_1x'+a_0x=f(t)$ and the fundamental set of solutions, \\{x_1, x_2, \\dots, x_n\\}, to the corresponding homogeneous differential equation $a_nx^{(n)} + a_{n-1}x^{(n-1)}+\\dots + a_1x'+a_0x=0$, we can produce the general solution to $a_nx^{(n)} + a_{n-1}x^{(n-1)}+\\dots + a_1x'+a_0x=f(t)$. In particular, the general solution is $x(t) = c_1x_1(t)+c_2x_2(t)+\\dots+c_nx_n(t)+x_p(t)$ where $c_1, c_2, \\dots, c_n$ are arbitrary constants. In other words, we simply need to add the solution to the associated homogeneous differential equation to a particular solution."
   ]
  },
  {
   "cell_type": "markdown",
   "id": "c0b1f574",
   "metadata": {},
   "source": [
    ":::{admonition} Motivating Example\n",
    "\n",
    "Consider the second order linear differential equation $x''+2x'+x=e^{-5t}$. Find *one* solution.\n",
    "\n",
    "First we will try to guess a particular solution. We know that $f(t)=e^{-5t}$ in this case. So we will guess a particular solution that looks similar, $x_p(t)=Ce^{-5t}$. Now we want to figure out what value of $C$ (if any) makes $x_p(t)$ a solution\n",
    ":::"
   ]
  },
  {
   "cell_type": "markdown",
   "id": "eab2bea6",
   "metadata": {},
   "source": [
    "The method of undetermined coefficients is a technique used to solve certain types of non-homogeneous second-order differential equations. Specifically, this method is suitable for equations where the non-homogeneous term (the term not involving the function or its derivatives) is a simple function like a polynomial, exponential, sine, cosine, or a combination of these.\n",
    "\n",
    "The overall process of the method of undetermined coefficients involves several steps:\n",
    "\n",
    "1. Homogeneous Solution: First, solve the homogeneous version of the given differential equation (i.e., set the non-homogeneous term equal to zero). This gives the homogeneous solution, often denoted as $x_h$.\n",
    "\n",
    "2. Particular Solution: Next, make an educated guess (using the table below) about the form of the particular solution $x_p$, which corresponds to the non-homogeneous term of the differential equation. The guessed form should match the non-homogeneous term but must include arbitrary constants (the \"undetermined coefficients\"). One important aspect to note is that if a term in the guessed $x_p$ is already a solution to the corresponding homogeneous equation, this term must be multiplied by $t$ to ensure linear independence. This is often referred to as the rule of \"modification of trial functions\".\n",
    "\n",
    "3. Substitution: Substitute the guessed $x_p$ and its derivatives into the original non-homogeneous differential equation. This will yield an equation in terms of the undetermined coefficients.\n",
    "\n",
    "4. Determine Coefficients: Solve the resulting equation from the previous step to determine the values of the undetermined coefficients. **Note: The undetermine coefficients depend on the differential equation and not any initial conditions. This means that we can always solve for the undetermined coefficients.**\n",
    "\n",
    "5. General Solution: The general solution to the original non-homogeneous differential equation is then the sum of the homogeneous solution $x_h$ and the particular solution $x_p$.\n",
    "\n",
    "While the method of undetermined coefficients is a powerful tool, it is not universal; its applicability is limited to differential equations with constant coefficients and fairly simple non-homogeneous terms. For more complex scenarios, other methods such as the method of variation of parameters may be needed."
   ]
  },
  {
   "cell_type": "markdown",
   "id": "32be3e06",
   "metadata": {},
   "source": [
    "| $f(t)$  | $x_p(t) \\text{ (These are your guesses)}$  | \n",
    "| :-------- | :-------- |\n",
    "| $a_nt^n + a_{n-1}t^{n-1} + \\dots + a_0$ | $b_nt^n + b_{n-1}t^{n-1} + \\dots + b_0$ |\n",
    "| $e^{at}$ | $Ce^{at}$ |\n",
    "| $\\sin(bt)$ | $c_1\\sin(bt)+c_2\\cos(bt)$ |\n",
    "| $\\cos(bt)$ | $c_1\\sin(bt)+c_2\\cos(bt)$ |\n",
    "| $e^t + t$ | $Ce^t + (b_1t+b_0)$ |\n",
    "| $t^2\\cos(t)$ | $(b_2x^2+b_1x+b_0)(c_1\\sin(bt)+c_2\\cos(bt))$ |"
   ]
  },
  {
   "cell_type": "markdown",
   "id": "a5632dbb",
   "metadata": {},
   "source": [
    ":::{admonition} Example\n",
    "\n",
    "Solve the initial value problem $x'' + 5x = -15$, $x(0)=0$ and $x'(0)=1$.\n",
    "\n",
    "Step 1: Solve the homogeneous differential equation. \n",
    "\n",
    "$$x'' +5x=0.$$\n",
    "\n",
    "Thus, $k^2+5=0$ is the **characteristic equation** of this differential equation. Solving the characteristic equation gives $k=\\pm\\sqrt{5}i$. Thus, $x_h(t)=c_1\\cos(\\sqrt{5}t)+c_2\\sin(\\sqrt{5}t)$ is the general solution to the homogeneous differential equation.\n",
    "\n",
    "Step 2: Guess $x_p$. \n",
    "\n",
    "Note in this case $f(t)=-15$, which is a degree 1 polynomial. Using the table above our guess is $x_p(t)=b_0$. Notice that this guess for $x_p$ is linearly independent from $x_h$ so we do not need to adjust our guess.\n",
    "\n",
    "Step 3: Solve the guess.\n",
    "\n",
    "$$x_p(t) = b_0, \\quad x_p'(t) = 0, \\quad x_p''(t) = 0$$\n",
    "\n",
    "Plugging this back into $x'' + 5x = -15$, we find that $0 + 5b_0 = -15$. Thus, $b_0=-3$.\n",
    "\n",
    "Step 4: General Solution\n",
    "\n",
    "This means that $x(t) = x_h(t)+x_p(t) = c_1\\cos(\\sqrt{5}t)+c_2\\sin(\\sqrt{5}t)-3$.\n",
    "\n",
    "Step 5: Find $c_1$, $c_2$ using the initial conditions.\n",
    "\n",
    "Since $x(0)=0$, we have\n",
    "\n",
    "$$ 0 = c_1\\cos(0)+c_2\\sin(0)-3$$\n",
    "$$ 0 = c_1 - 3$$\n",
    "$$ c_1 = 3.$$\n",
    "\n",
    "Since $x'(t) = -\\sqrt{5}c_1\\sin(\\sqrt{5}t) + \\sqrt{5}c_2\\cos(\\sqrt{5}t)$ and $x'(0)=1$, we have\n",
    "\n",
    "$$1 = -\\sqrt{5}c_1\\sin(0) + \\sqrt{5}c_2\\cos(0)$$\n",
    "\n",
    "$$1 = \\sqrt{5}c_2$$\n",
    "\n",
    "$$c_2 = \\dfrac{1}{\\sqrt{5}}$$\n",
    "\n",
    "Step 6: State the final solution.\n",
    "\n",
    "This means the final solution to the initial value problem is $x(t) = 3\\cos(\\sqrt{5}t)+\\dfrac{1}{\\sqrt{5}}\\sin(\\sqrt{5}t)-3$.\n",
    ":::\n"
   ]
  },
  {
   "cell_type": "markdown",
   "id": "886dcb81",
   "metadata": {},
   "source": [
    "Now that we have the solution we can generate a plot of it to see how the solution behaves."
   ]
  },
  {
   "cell_type": "code",
   "execution_count": 1,
   "id": "b24bfd27",
   "metadata": {
    "tags": [
     "hide-input"
    ]
   },
   "outputs": [
    {
     "data": {
      "image/png": "[encoded data removed]",
      "text/plain": [
       "<Figure size 800x600 with 1 Axes>"
      ]
     },
     "metadata": {},
     "output_type": "display_data"
    }
   ],
   "source": [
    "import numpy as np\n",
    "import matplotlib.pyplot as plt\n",
    "\n",
    "# Define the time array\n",
    "t = np.linspace(0, 10, 500)\n",
    "\n",
    "# Define the function x(t)\n",
    "x = -3*np.cos(np.sqrt(5)*t) + (1/np.sqrt(5))*np.sin(np.sqrt(5)*t) - 3\n",
    "\n",
    "# Plot the function\n",
    "plt.figure(figsize=(8, 6))\n",
    "plt.plot(t, x)\n",
    "plt.xlabel('Time (t)')\n",
    "plt.ylabel('x(t)')\n",
    "plt.title('Plot of the function x(t)')\n",
    "plt.grid(True)\n",
    "plt.show()"
   ]
  },
  {
   "cell_type": "markdown",
   "id": "4d2b93c1",
   "metadata": {},
   "source": [
    "It turns out that the **Superposition Principle** holds for nonhomogeneous equations as well. In particular, suppose $y_k$ is a particular solution to \n",
    "\n",
    "$$\n",
    "a_n(x)y^{(n)}(x)+a_{n-1}y^{(n-1)}(x) + \\dots + a_1(x)y'(x) + a_0(x)y(x)=f_k(x).\n",
    "$$ \n",
    "\n",
    "Then the linear combination $y(x)= y_1(x) + y_2(x) + \\dots + y_n(x)$ is a particular solution to\n",
    "\n",
    "$$\n",
    "a_n(x)y^{(n)}(x)+a_{n-1}y^{(n-1)}(x) + \\dots + a_1(x)y'(x) + a_0(x)y(x)=f_1(x)+f_2(x)+\\dots+f_n(x).\n",
    "$$"
   ]
  },
  {
   "cell_type": "markdown",
   "id": "085f1ec9",
   "metadata": {},
   "source": [
    "### Exercises"
   ]
  },
  {
   "cell_type": "markdown",
   "id": "b519a828",
   "metadata": {},
   "source": [
    ":::{admonition} Exercises\n",
    "1. Find all solutions to $x''+x'-6x=0$.\n",
    "    \n",
    "2. Use your answer to 1 to find the general solution to the differential equation $x''+x'-6x=\\sin(3t)$.\n",
    "\n",
    "3. Use your answer to 1 to find the general solution to the differential equation $x''+x'-6x=5e^{4t}$.\n",
    "\n",
    "4. Use your answer to 1 to find the general solution to the differential equation $x''+x'-6x=5e^{2t}$. Hint: Think about why changing the exponent from $4t$ to $2t$ adds an extra step to the problem.\n",
    "\n",
    "5. Use your answer to 2 and 3 to find the general solution of the differential equation $x''+x'-6x = 5e^{4t}+\\sin(3t)$. Hint: What does the Superposition Principle tell us?\n",
    "\n",
    "6. Find the form of the particular solution of the following differential equations. Note you do not need to solve for the undetermined coefficients.\n",
    "    - $x''-6x'+9x = 3t+10\\cos(t)$\n",
    "    - $x''-9x=te^{3t}$\n",
    "    - $2x''+x'+4x = 3t^2\\sin(2t)$\n",
    ":::"
   ]
  }
 ],
 "metadata": {
  "celltoolbar": "Edit Metadata",
  "kernelspec": {
   "display_name": "Python 3 (ipykernel)",
   "language": "python",
   "name": "python3"
  },
  "language_info": {
   "codemirror_mode": {
    "name": "ipython",
    "version": 3
   },
   "file_extension": ".py",
   "mimetype": "text/x-python",
   "name": "python",
   "nbconvert_exporter": "python",
   "pygments_lexer": "ipython3",
   "version": "3.11.7"
  }
 },
 "nbformat": 4,
 "nbformat_minor": 5
}
