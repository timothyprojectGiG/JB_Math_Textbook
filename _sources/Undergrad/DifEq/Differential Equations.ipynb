{
 "cells": [
  {
   "cell_type": "markdown",
   "id": "173dea4e",
   "metadata": {},
   "source": [
    "## Overview of Chapter"
   ]
  },
  {
   "cell_type": "markdown",
   "id": "20990be2",
   "metadata": {},
   "source": [
    "This Differential Equations Module offers a brief introduction to several important topics in undergraduate Differential Equations:\n",
    "\n",
    " - Introduction to Differential Equations: Introduces the reader to the concept of differential equations and their applications, as well as basic terminology and classification. (Section 2)\n",
    " - First-Order Differential Equations: Shows the reader how to solve first order differential equations, plot slope fields, and find equilibrium solutions (Section 3)\n",
    " - Second-Order Differential Equations: Shows the reader how to solve second order differential equations (Section 4)\n",
    " - Systems of Linear First Order Differential Equations: Shows the reader how to solve linear systems, find eigenvalues and eigenvectors, and draw and interpret phase planes and nullclines (Section 5)\n",
    " - Laplace Transforms: Introduces the basic Laplace Transform, Inverse Laplace Transform, and Heaviside Function (Section 6)\n",
    "\n",
    "For each topic, we provide basic definitions, examples, and exercises that are designed to be easily understood by entry level undergraduate students. The exercises include problems that are both solvable manually to check students' comprehension of the concepts and solvable using Python Jupyter Notebooks. The book ends with a lab that allows further practice of the topics taught in each chapter. This module focuses on the more pure mathematical aspects of Differential Equations, while the more applied side can be explored under the <b>Differential Equations for the Benefit of Society</b> Module in the <b>APPLICATIONS</b> chapter of this book."
   ]
  },
  {
   "cell_type": "code",
   "execution_count": null,
   "id": "f82f18fa",
   "metadata": {},
   "outputs": [],
   "source": []
  }
 ],
 "metadata": {
  "kernelspec": {
   "display_name": "Python 3 (ipykernel)",
   "language": "python",
   "name": "python3"
  },
  "language_info": {
   "codemirror_mode": {
    "name": "ipython",
    "version": 3
   },
   "file_extension": ".py",
   "mimetype": "text/x-python",
   "name": "python",
   "nbconvert_exporter": "python",
   "pygments_lexer": "ipython3",
   "version": "3.11.7"
  }
 },
 "nbformat": 4,
 "nbformat_minor": 5
}
