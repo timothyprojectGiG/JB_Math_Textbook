{
 "cells": [
  {
   "cell_type": "markdown",
   "id": "08274f31",
   "metadata": {},
   "source": [
    "# JNB Lab: Differential Equations"
   ]
  },
  {
   "cell_type": "markdown",
   "id": "3508953f-4f03-4d51-80f5-5c63d3559f0e",
   "metadata": {},
   "source": [
    "## Chapter Review"
   ]
  },
  {
   "cell_type": "markdown",
   "id": "c32b272c-102a-458b-8142-84bc166a92cb",
   "metadata": {},
   "source": [
    "```{note}\n",
    "This first section of practice problems can serve as a review of the topics covered in the Differential Equations chapter organized by section; most of these questions can (and should) be completed by hand. It is followed by a series of problems drawing from the material of the chapter overall, which should be completed using code.\n",
    "```"
   ]
  },
  {
   "cell_type": "markdown",
   "id": "cfbe2680",
   "metadata": {},
   "source": [
    "### Section 2 Questions"
   ]
  },
  {
   "cell_type": "markdown",
   "id": "d1a60353",
   "metadata": {},
   "source": [
    "1. List the type, order, and parameters of each of the following differential equations. For each ordinary differential equation, determine if it is linear or nonlinear.\n",
    "    - $\\dfrac{dy}{dx} +3x^2 = sin(x) + 3$\n",
    "    \n",
    "    - $(\\dfrac{dy}{dx})^2 +3x^2 = sin(x) + 3$\n",
    "    \n",
    "    - $\\dfrac{dy}{dx}k +3x^2 k = y\\,sin(x) + 3$\n",
    "    \n",
    "    - $\\dfrac{d^2y}{dx^2} +3x^2 = sin(x) + 3$\n",
    "\n",
    "$ $\n",
    "   \n",
    "    \n",
    "2. List the type, order, and parameters of each of the following differential equations. For each ordinary differential equation, determine if it is linear or nonlinear.\n",
    "    - $\\frac{\\partial w}{\\partial u} + \\frac{\\partial^2 w}{\\partial v^2} = u$\n",
    "    \n",
    "    - $\\frac{\\partial w}{\\partial u} + \\frac{\\partial w}{\\partial v} = u^2$\n",
    "    \n",
    "    - $\\dfrac{dt}{dv}t = tan(t) +9$\n",
    "    - $\\dfrac{dt}{dv}v = tan(t) +9$\n",
    "    \n",
    "\n",
    "$ $\n",
    "    \n",
    "3. Show that $y = e^{2t}$ is a solution for all $t$ to $y''+y = 5y$.\n",
    "4. Show that $y = te^{5t}$ is a solution for all $t$ to $y''-10y'=-25y$.\n",
    "5. Show that $y = sin(3t)+cos(3t) + t^3 -6$ is a solution for all $t$ to $y'''+9y' = 27t^2+6$.\n",
    "6. Show that $y = 12t^2+t^4$ is a solution for all $t$ to $(y'+y'')-(y'''+y^{(4)}) = y-t^4+4t^3$."
   ]
  },
  {
   "cell_type": "markdown",
   "id": "41f29dc8",
   "metadata": {},
   "source": [
    "### Section 3 Questions"
   ]
  },
  {
   "cell_type": "markdown",
   "id": "365e11a2",
   "metadata": {},
   "source": [
    "1. Solve the separable equations:\n",
    "\n",
    "    - $ \\dfrac{dx}{dt} = \\dfrac{1}{t}e^{-2x} $\n",
    "    \n",
    "    - $ \\dfrac{dx}{dt} = \\dfrac{-1}{x^2t^2} $\n",
    "    \n",
    "    - $ \\dfrac{dy}{dx} = cos^2(y)e^{x^2}2x $\n",
    "    \n",
    "    - $ \\dfrac{1}{x}-\\dfrac{dx}{dt}=x^{-1}\\dfrac{1}{sec(t)} $\n",
    "    \n",
    "2. Solve the linear equations using the method of integrating factors ($\\mu(t) = e^{P(t)}$):\n",
    "\n",
    "    - $ t\\dfrac{dx}{dt} = sin(t) -x $\n",
    "    \n",
    "    - $ \\dfrac{dx}{dt} + x 4t^3 = \\dfrac{1}{t e^{t^4}} $\n",
    "    \n",
    "    - $ \\dfrac{dy}{dx} + \\dfrac{y}{x} = \\dfrac{1}{x+x^3} $\n",
    "    \n",
    "    - $ \\dfrac{dy}{dx}x + \\dfrac{-2y}{x^2} = xe^{-x^{-2}}sec(x)tan(x) $\n",
    "\n",
    "3. Find the equilibrium solutions and draw the phase lines for the following functions. Classify each equilibrium solution.\n",
    "\n",
    "    - $ y'=(y-6)(y+7)  $\n",
    "\n",
    "    - $ y'= y^3-8y^2+12y  $\n",
    "\n",
    "    - $ y'= y(y^2-1) $\n",
    "    \n",
    "    - $ y'= y^2(y^2-1) $"
   ]
  },
  {
   "cell_type": "markdown",
   "id": "0bd9420a",
   "metadata": {},
   "source": [
    "### Section 4 Questions"
   ]
  },
  {
   "cell_type": "markdown",
   "id": "84d02986",
   "metadata": {},
   "source": [
    "1. Solve the initial value problem:\n",
    "    - $ x'' - x' -42x = 0 $; $ x'(0) = 0$, $ x''(0) = 1$\n",
    "    - $ x''-14x'+48x=0 $; $x'(0)=0$, $x''(0)=5$\n",
    "    - $ x''+6x'+9x=0, x'(0)=0, x''(0)=9 $\n",
    "    - $ x''+16x'+64x=0, x'(0)=0, x''(0)=8 $\n",
    "    - $ x''+4x'+8x=0, x'(0)=0, x''(0)=4 $\n",
    "    - $ x''+10x'+30x=0, x'(0)= 0, x''(0)= 30 $\n",
    "2. Solve the non-homogeneous equations:\n",
    "    - $ x''-9x'+20x=-10 $\n",
    "    - $ x''-9x'+20x=20t^2 $\n",
    "    - $ x''-9x'+20x=e^{3t} $\n",
    "    - $ x''-9x'+20x=e^{5t} $\n",
    "3. Solve the non-homogeneous equations:\n",
    "    - $ x''+4x'+4x =sin(t)$\n",
    "    - $ x''+4x'+4x =8t^2 $"
   ]
  },
  {
   "cell_type": "markdown",
   "id": "106c33a7",
   "metadata": {},
   "source": [
    "### Section 5 Questions"
   ]
  },
  {
   "cell_type": "markdown",
   "id": "cd7b4b39",
   "metadata": {},
   "source": [
    "1. Rewrite as a system of first order equations:\n",
    "    - $ x'''+3x''+12x'+x=sin(t)+e^{3t} $\n",
    "2. Test the following sets of vectors for linear independence:\n",
    "    - $\\biggl\\{\\begin{bmatrix} 2e^{t} \\\\ e^{12t} \\end{bmatrix}, \\begin{bmatrix} 12e^{2t} \\\\ 6e^{12t} \\end{bmatrix}\\biggr\\}$\n",
    "    - $\\biggl\\{\\begin{bmatrix} 5e^{3t} \\\\ 6e^{6t} \\end{bmatrix}, \\begin{bmatrix} 10e^{3t} \\\\ 12e^{6t} \\end{bmatrix}\\biggr\\}$\n",
    "    - $\\biggl\\{\\begin{bmatrix} 3t \\\\ 1 \\end{bmatrix}, \\begin{bmatrix} 3t \\\\ tan^2(t) \\end{bmatrix}, \\begin{bmatrix} 6t \\\\ sec^2(t) \\end{bmatrix} \\biggr\\}$\n",
    "3. Find the eigenvalues and eigenvectors:\n",
    "    - $\\begin{bmatrix} 3&0 \\\\ 0&4 \\end{bmatrix}$\n",
    "    - $\\begin{bmatrix} 6&2 \\\\ -2&2 \\end{bmatrix}$\n",
    "    - $\\begin{bmatrix} 3&2 \\\\ -9&-3 \\end{bmatrix}$\n",
    "4. Solve the linear systems where $ x'=Ax $ of differential equations, for each choice of A:\n",
    "    - $A=\\begin{bmatrix} 3&-2 \\\\ 4&9 \\end{bmatrix}$\n",
    "    - $A=\\begin{bmatrix} 5&-2 \\\\ 2&1 \\end{bmatrix}$\n",
    "    - $A=\\begin{bmatrix} 6&13 \\\\ -4&-6 \\end{bmatrix}$\n",
    "5. Find the nullclines, equilibrium solutions, and linearization of the system:\n",
    "    - $ x'=x(1-x)-4xy $; $ y'=y(2-y)-3xy $"
   ]
  },
  {
   "cell_type": "markdown",
   "id": "4b07202d",
   "metadata": {},
   "source": [
    "### Section 6 Questions"
   ]
  },
  {
   "cell_type": "markdown",
   "id": "2985c996",
   "metadata": {},
   "source": [
    "1. Solve the following Laplace Transforms by hand, using the formula $\\mathcal{L}(f(t)) = \\int_{0}^{\\infty} e^{-st}f(t) \\mathrm{d}t \\equiv F(s).$\n",
    "    - $ f(t)= sin(t)$\n",
    "    - $ f(t)= cos(t)$\n",
    "    - $ f(t)=8t+e^{3t}+cos(3t) $\n",
    "2. Find the inverse Laplace Transforms of the following functions:\n",
    "    - $ \\mathcal{L}(x)=-\\dfrac{14}{s^3}+\\dfrac{1}{s^2+49} $\n",
    "    - $ \\mathcal{L}(x)= \\dfrac{s+9}{(s+2)(s+3)}$\n",
    "    - $ \\mathcal{L}(x)= x''+12x=3, x(0)=x'(0)=0 $\n",
    "3. Express the following functions in terms of the unit step function, then take the Laplace Transform:\n",
    "    - $ f(t) = \\begin{cases} 0 & \\text{ if } t < 2 \\\\ 1 & \\text{ if } t>2 \\end{cases}  $\n",
    "    - $ f(t) = \\begin{cases} 2 & \\text{ if } 0< t < 1 \\\\ 3 & \\text{ if } 1<t<2 \\\\ 4 & \\text{ if } t>2  \\end{cases}  $"
   ]
  },
  {
   "cell_type": "markdown",
   "id": "e4f3fae0-a956-4cd6-a517-8ea5e6c70164",
   "metadata": {},
   "source": [
    "## Python Questions"
   ]
  },
  {
   "cell_type": "code",
   "execution_count": 87,
   "id": "fc788168-791c-42a0-bb63-fee755171d2d",
   "metadata": {},
   "outputs": [],
   "source": [
    "import sympy as sp"
   ]
  },
  {
   "cell_type": "markdown",
   "id": "83940ae4-b788-405d-972d-3357e1976c49",
   "metadata": {},
   "source": [
    "```{note}\n",
    "Now that we have practiced solving differential equations by hand, we review some tools and implement new ones to solve differential equations using Python code.\n",
    "```"
   ]
  },
  {
   "cell_type": "markdown",
   "id": "947b8aa9-cc41-41e4-876b-0fe959e7f428",
   "metadata": {},
   "source": [
    "### First and second order equations"
   ]
  },
  {
   "cell_type": "markdown",
   "id": "c089147e-a092-41ca-81ac-80895e5ec765",
   "metadata": {},
   "source": [
    "First and second order equations can be solved fairly easily by using Sympy:"
   ]
  },
  {
   "cell_type": "markdown",
   "id": "1e574989-5121-45c6-9d38-9eeee88ffeb9",
   "metadata": {},
   "source": [
    "Example: Solve $ \\dfrac{dy}{dx} =3x^2\\,y$"
   ]
  },
  {
   "cell_type": "code",
   "execution_count": 78,
   "id": "a8030642-500b-4a47-9057-4c42f80cfaf8",
   "metadata": {},
   "outputs": [],
   "source": [
    "x = symbols(\"x\") #Independent variable\n",
    "y = Function(\"y\") #Dependent variable"
   ]
  },
  {
   "cell_type": "code",
   "execution_count": 80,
   "id": "75cac978-726d-4f62-8857-d12276bbedf8",
   "metadata": {},
   "outputs": [
    {
     "data": {
      "text/latex": [
       "$\\displaystyle 3 x^{2} y{\\left(x \\right)} - \\frac{d}{d x} y{\\left(x \\right)}$"
      ],
      "text/plain": [
       "3*x**2*y(x) - Derivative(y(x), x)"
      ]
     },
     "execution_count": 80,
     "metadata": {},
     "output_type": "execute_result"
    }
   ],
   "source": [
    "ex = 3*x**2 *y(x) - y(x).diff(x) #Enter the function\n",
    "ex"
   ]
  },
  {
   "cell_type": "code",
   "execution_count": 82,
   "id": "5b2ffcae-2720-4fbd-aa3a-d454c95ba775",
   "metadata": {},
   "outputs": [
    {
     "data": {
      "text/latex": [
       "$\\displaystyle y{\\left(x \\right)} = C_{1} e^{x^{3}}$"
      ],
      "text/plain": [
       "Eq(y(x), C1*exp(x**3))"
      ]
     },
     "execution_count": 82,
     "metadata": {},
     "output_type": "execute_result"
    }
   ],
   "source": [
    "dsolve(ex) #Solve the equation"
   ]
  },
  {
   "cell_type": "markdown",
   "id": "47849f97-5123-4abd-9da5-80b6c34c4890",
   "metadata": {},
   "source": [
    "1. Solve $ \\dfrac{dy}{dx}= 3x^2y $ using Sympy code\n",
    "2. Solve $y'' + 3y = 0$\n",
    "3. Solve $ \\dfrac{dy}{dx}= cos(x)+3y $\n",
    "4. Solve $ x''+2x'+2x=12 $\n",
    "5. Solve $ \\dfrac{dy}{dx} = \\dfrac{1}{(1+x^2)}y^2 $"
   ]
  },
  {
   "cell_type": "markdown",
   "id": "3f185031-360a-4f78-b934-f9474390ea1a",
   "metadata": {},
   "source": [
    "### Direction Fields"
   ]
  },
  {
   "cell_type": "markdown",
   "id": "e7771ad6-471f-445b-850e-2f0d10138321",
   "metadata": {},
   "source": [
    "Use Python code to plot the direction fields:\n",
    "1. $ \\dfrac{dy}{dx}= x^2-y^2-y $\n",
    "\n",
    "2. $ \\dfrac{dy}{dx}= x(y-x) $\n",
    "    \n",
    "3. $ \\dfrac{dy}{dx}= y(x-y) $"
   ]
  },
  {
   "cell_type": "markdown",
   "id": "2f49d4be-1dbf-4c5a-98dc-4b8f33cc39b0",
   "metadata": {},
   "source": [
    "### Phase Planes and Phase Portraits"
   ]
  },
  {
   "cell_type": "markdown",
   "id": "7284a331-16ca-445c-8fc5-eb4bf41134a0",
   "metadata": {},
   "source": [
    "Edit the code from Section 5.4 to plot the phase planes, then find the equilibrium solutions:\n",
    "1. $ \\dfrac{dx}{dt}= x (x + 3) - 2xy $, $ \\dfrac{dy}{dt} = y (3y - 8) - xy $\n",
    "2. $ \\dfrac{dx}{dt} = x (5 - 2x) + xy$, $ \\dfrac{dy}{dt} = y (y + 1) + y$<br>\n",
    "Edit the code from Section 5.4 to plot the phase portraits of the same systems\n",
    "3. $ \\dfrac{dx}{dt}= x (x + 3) - 2xy $, $ \\dfrac{dy}{dt} = y (3y - 8) - xy $\n",
    "4. $ \\dfrac{dx}{dt} = x (5 - 2x) + xy$, $ \\dfrac{dy}{dt} = y (y + 1) + y$"
   ]
  },
  {
   "cell_type": "markdown",
   "id": "820f9964-673d-41fb-b6f6-2f42b2a9daa9",
   "metadata": {},
   "source": [
    "### Nullclines"
   ]
  },
  {
   "cell_type": "markdown",
   "id": "9d78bff3-0304-4bad-bdf6-e14cf7d3a3f9",
   "metadata": {},
   "source": [
    "Plot the nullclines for the following system:\n",
    "- $ x'=x(1-x)-4xy $; $ y'=y(2-y)-3xy $"
   ]
  },
  {
   "cell_type": "markdown",
   "id": "6c9b4384-0757-4973-a2e4-a66a57760352",
   "metadata": {},
   "source": [
    "### Laplace Transforms"
   ]
  },
  {
   "cell_type": "markdown",
   "id": "ebaeda81-03f8-4e5f-9f90-e4b55ccc0001",
   "metadata": {},
   "source": [
    "```{note}\n",
    "Laplace Transforms can also be solved using code- we will utilize both the Sympy and Numpy libraries\n",
    "```"
   ]
  },
  {
   "cell_type": "markdown",
   "id": "2d765449-1c35-4324-a225-9586f04d3e4d",
   "metadata": {},
   "source": [
    "Example: Find the Laplace Transform of $ f(t)= sin(t)$"
   ]
  },
  {
   "cell_type": "code",
   "execution_count": 9,
   "id": "c21f8aca-ab7c-4cb7-8738-e65a5c593b29",
   "metadata": {},
   "outputs": [],
   "source": [
    "import numpy as np\n",
    "import matplotlib.pyplot as plt\n",
    "import sympy as sym\n",
    "from sympy.abc import s,t"
   ]
  },
  {
   "cell_type": "code",
   "execution_count": 31,
   "id": "5a6b2277-d9c6-4aaa-9f1a-00b85d4b510d",
   "metadata": {},
   "outputs": [
    {
     "name": "stdout",
     "output_type": "stream",
     "text": [
      "(1/(s**2 + 1), 0, True)\n"
     ]
    }
   ],
   "source": [
    "f = sym.sin(t)  # define your function with respect to t\n",
    "F = sym.laplace_transform(f, t, s)  # sym.laplace_transform_(function, func_var, out_var)\n",
    "\n",
    "print(F)  # returns F(s) and convergence interval"
   ]
  },
  {
   "cell_type": "markdown",
   "id": "ce4fa515-8bf9-40b5-bb5a-6bbf68282a89",
   "metadata": {},
   "source": [
    "Example: Find the Inverse Laplace Transform of $ f(t) = \\dfrac{1}{s^2+1} $"
   ]
  },
  {
   "cell_type": "code",
   "execution_count": 11,
   "id": "39b6cd37-e01d-44c5-b95f-dde6f849a291",
   "metadata": {},
   "outputs": [
    {
     "name": "stdout",
     "output_type": "stream",
     "text": [
      "sin(t)*Heaviside(t)\n"
     ]
    }
   ],
   "source": [
    "# Define the inverse Laplace transform function\n",
    "def invL(F):\n",
    "    return sym.inverse_laplace_transform(F, s, t)\n",
    "\n",
    "F= 1/(s**2+1)\n",
    "print(invL(F))"
   ]
  },
  {
   "cell_type": "markdown",
   "id": "50491e67-80dc-4b17-bf41-3a6a46e68459",
   "metadata": {},
   "source": [
    "Note: Heaviside(t) means that $ t \\geq 0$"
   ]
  },
  {
   "cell_type": "markdown",
   "id": "6ce322b5",
   "metadata": {},
   "source": [
    "Example: Solve the initial value problem\n",
    "\n",
    "$$y'' + 4y'+3y = 10\\cos(t), \\quad y(0)=2, \\quad y'(0)=3.$$"
   ]
  },
  {
   "cell_type": "code",
   "execution_count": 5,
   "id": "4983c377",
   "metadata": {},
   "outputs": [
    {
     "name": "stdout",
     "output_type": "stream",
     "text": [
      "Transform of cos(t) is s/(s**2 + 1)\n",
      "Transform of y is [(2*s**3 + 11*s**2 + 12*s + 11)/(s**4 + 4*s**3 + 4*s**2 + 4*s + 3)]\n",
      "y= ((2*sin(t) + cos(t))*exp(3*t) + 2*exp(2*t) - 1)*exp(-3*t)*Heaviside(t)\n"
     ]
    }
   ],
   "source": [
    "from sympy import *\n",
    "s=sym.symbols('s')\n",
    "f=sym.Function('s')\n",
    "F=sym.laplace_transform(f(t),t,s)\n",
    "g=sym.cos(t)\n",
    "G=sym.laplace_transform(g,t,s)\n",
    "print('Transform of cos(t) is', G[0])\n",
    "# Define the inverse Laplace transform function\n",
    "def invL(F):\n",
    "    return sym.inverse_laplace_transform(F, s, t)\n",
    "# Transform the equation  and solve for Y=L(y)\n",
    "eq=Eq((s**2) * F - 2*s - 3 + 4 *s* F -4*( 2) + 3* F -10*G[0],0 )\n",
    "Y = solve(eq, F)\n",
    "print('Transform of y is',Y)\n",
    "\n",
    "# Take the inverse transform\n",
    "print('y=',invL(Y[0]))"
   ]
  },
  {
   "cell_type": "markdown",
   "id": "5c6e7d48-a153-41f2-9a92-15939e068cc4",
   "metadata": {},
   "source": [
    "1. Find the Laplace Transforms of the following functions:\n",
    "    - $ f(t)= 3t^2+cos(3t)+12 $\n",
    "    - $ f(t)= \\dfrac{1}{2}sin(t)+ 5t$   \n",
    "2. Find the Inverse Laplace Transforms of the following functions:\n",
    "    - $ f(t)= \\dfrac{7}{s}+ \\dfrac{720}{s^7} + \\dfrac{1}{(5s^2+\\dfrac{1}{5})} $\n",
    "    - $ f(t)= \\dfrac{2}{2s-1}+\\dfrac{72}{s^4} $\n",
    " 3. Solve the IVP:\n",
    "    - $ y'' + 2y'+3y = 9t, \\, y(0)=1, \\, y'(0)=2 $"
   ]
  }
 ],
 "metadata": {
  "kernelspec": {
   "display_name": "Python 3 (ipykernel)",
   "language": "python",
   "name": "python3"
  },
  "language_info": {
   "codemirror_mode": {
    "name": "ipython",
    "version": 3
   },
   "file_extension": ".py",
   "mimetype": "text/x-python",
   "name": "python",
   "nbconvert_exporter": "python",
   "pygments_lexer": "ipython3",
   "version": "3.11.3"
  }
 },
 "nbformat": 4,
 "nbformat_minor": 5
}
