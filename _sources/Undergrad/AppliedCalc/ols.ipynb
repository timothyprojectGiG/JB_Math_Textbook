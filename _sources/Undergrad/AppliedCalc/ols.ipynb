{
 "cells": [
  {
   "cell_type": "markdown",
   "metadata": {},
   "source": [
    "# Partial Derivatives and OLS Regression"
   ]
  },
  {
   "cell_type": "markdown",
   "metadata": {},
   "source": [
    "Ordinary least squares (OLS) regression of 2-dimensional data is an important concept in data analysis.  Given a collection of data points \n",
    "\n",
    "$$(x_1,y_1),(x_2,y_2),...,(x_n,y_n)$$\n",
    "\n",
    "the goal is to find a line $y=mx+b$ (called the OLS regression line) that best fits the data in the sense that it minimizes the sum of square vertical separations between the data points and the line:\n",
    "\n",
    "$$ S(m,b) =(y_1-(mx_1+b))^2  +  (y_2-(mx_2+b))^2 + ... + (y_n-(mx_n+b))^2.$$\n",
    "\n",
    "The optimal values of $m$ and $b$ minimize $S(m,b)$, and hence may be obtained using a system of two equations and 2 unknowns:\n",
    "\n",
    "$$\\frac{\\partial S}{\\partial m} = 0 $$\n",
    "\n",
    "$$\\frac{\\partial S}{\\partial b} = 0 $$\n"
   ]
  },
  {
   "cell_type": "markdown",
   "metadata": {},
   "source": [
    "::: {admonition} Example \n",
    "Consider the data values (1,1), (2,3), and (4,3). In this case,\n",
    "\n",
    "$$ S(m,b)= (m+b-1)^2 + (2m+b-3)^2+(4m+b-3)^2.$$\n",
    "\n",
    "This gives rise to the system\n",
    "\n",
    "$$\\frac{\\partial S}{\\partial m} = 2(m+b-1)+2(2m+b-3)(2)+2(4m+b-3)(4)=42m +14b-38=0 $$\n",
    "\n",
    "$$\\frac{\\partial S}{\\partial b} = 2(m+b-1)+2(2m+b-3)+2(4m+b-3)=14m+6b-14=0. $$\n",
    "\n",
    "The system is equivalent to \n",
    "\n",
    "$$21m +7b=19 $$\n",
    "\n",
    "$$7m+3b=7. $$\n",
    "\n",
    "\n",
    "We can solve this system by multiplying the first equation through by 3, and the second equation through by 7\n",
    "\n",
    "$$63m +21b=57 $$\n",
    "\n",
    "$$49m+21b=49. $$\n",
    "\n",
    "Subtracting the second equation from the first equation gives\n",
    "\n",
    "$$14m= 8 \\Rightarrow m=\\frac{4}{7}. $$\n",
    "\n",
    "We find $b$ by back substitution:\n",
    "\n",
    "$$7(4/7) + 3b = 7 \\Rightarrow 3b=3 \\Rightarrow b=1. $$\n",
    "\n",
    "The plot below shows the OLS regression line $y=\\frac{4}{7}x+1$ together with the three data points.\n",
    "\n",
    ":::"
   ]
  },
  {
   "cell_type": "code",
   "execution_count": 3,
   "metadata": {
    "tags": [
     "hide-input"
    ]
   },
   "outputs": [
    {
     "data": {
      "image/png": "[encoded data removed]",
      "text/plain": [
       "<matplotlib.figure.Figure at 0x23288f2e780>"
      ]
     },
     "metadata": {
      "needs_background": "light"
     },
     "output_type": "display_data"
    }
   ],
   "source": [
    "import matplotlib.pyplot as plt\n",
    "import numpy as np\n",
    "plt.figure(figsize=(8, 4))\n",
    "plt.xlim((0,4.2))\n",
    "plt.ylim((0,4.2))\n",
    "#--plot the data points-----\n",
    "x=[1,2,4] #(x coordinates of the data)\n",
    "y=[1,3,3] #(y-coordinates of the data)\n",
    "plt.scatter(x,y,color='r',label='data')\n",
    "#--plot the OLS regression line-----\n",
    "m=4/7\n",
    "b=1\n",
    "xreg=np.linspace(0,5,50)\n",
    "yreg=m*xreg+b\n",
    "plt.plot(xreg,yreg,label=\"OLS Regression Line\")\n",
    "plt.gca().set_xticks(np.arange(0,5,1))\n",
    "plt.grid()\n",
    "plt.legend()\n",
    "plt.xlabel(\"x\")\n",
    "plt.ylabel(\"y\")\n",
    "plt.show()"
   ]
  },
  {
   "cell_type": "markdown",
   "metadata": {},
   "source": [
    "## Exercises"
   ]
  },
  {
   "cell_type": "markdown",
   "metadata": {},
   "source": [
    " ::: {admonition} Exercises\n",
    " \n",
    " A college admissions officer has compiled the following data relating 8 students' high school and college GPA:\n",
    "\n",
    "| GPA              |     |     |     |     |     |     |     |     |\n",
    "| ---------------- | --- | --- | --- | --- | --- | --- | --- | --- |\n",
    "| High School GPA: | 2.0 | 2.5 | 3.0 | 3.0 | 3.5 | 3.5 | 4.0 | 4.0 |\n",
    "| College GPA:     | 1.5 | 2.0 | 2.5 | 3.5 | 2.5 | 3.0 | 3.0 | 3.5 |\n",
    "\n",
    "1) Complete the plot of this data and then guess the value of $m$ and $b$ for the least squares regression line $y=mx+b$. (Use your guess to check that your answer to problem 2 is reasonable).\n",
    "\n",
    ":::"
   ]
  },
  {
   "cell_type": "code",
   "execution_count": 2,
   "metadata": {
    "tags": [
     "hide-input"
    ]
   },
   "outputs": [
    {
     "data": {
      "image/png": "[encoded data removed]",
      "text/plain": [
       "<matplotlib.figure.Figure at 0x23288f43898>"
      ]
     },
     "metadata": {
      "needs_background": "light"
     },
     "output_type": "display_data"
    }
   ],
   "source": [
    "import matplotlib.pyplot as plt\n",
    "import numpy as np\n",
    "plt.figure(figsize=(8, 4))\n",
    "plt.xlim((0,4.2))\n",
    "plt.ylim((0,4.2))\n",
    "hs=[2.0,2.5]\n",
    "col=[1.5,2.0]\n",
    "plt.scatter(hs,col,color='r',marker='x')\n",
    "plt.gca().set_xticks(np.arange(0,5,1))\n",
    "plt.grid()\n",
    "plt.xlabel(\"High School GPA\")\n",
    "plt.ylabel(\"College GPA\")\n",
    "plt.show()"
   ]
  },
  {
   "cell_type": "markdown",
   "metadata": {},
   "source": [
    "::: {admonition} Exercises (continued)\n",
    "\n",
    "2) Use calculus to find the least squares regression line $y=mx+b$.\n",
    "\n",
    "3) Use the second derivative test to verify the choice of $m$ and $b$ in problem 2 that gives a minimum for the sum of squares $S(m,b)$.\n",
    "   \n",
    "4) Use the regression line to predict the college GPA's:\n",
    "\n",
    "| GPA              |     |     |     |\n",
    "| ---------------- | --- | --- | --- |\n",
    "| High School GPA: | 2.0 | 3.0 | 4.0 |\n",
    "| College GPA:     |     |     |     |\n",
    "\n",
    ":::"
   ]
  }
 ],
 "metadata": {
  "celltoolbar": "Edit Metadata",
  "kernelspec": {
   "display_name": "Python 3 (ipykernel)",
   "language": "python",
   "name": "python3"
  },
  "language_info": {
   "codemirror_mode": {
    "name": "ipython",
    "version": 3
   },
   "file_extension": ".py",
   "mimetype": "text/x-python",
   "name": "python",
   "nbconvert_exporter": "python",
   "pygments_lexer": "ipython3",
   "version": "3.11.7"
  }
 },
 "nbformat": 4,
 "nbformat_minor": 4
}
