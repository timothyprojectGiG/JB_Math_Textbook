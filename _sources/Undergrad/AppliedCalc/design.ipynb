{
 "cells": [
  {
   "cell_type": "markdown",
   "metadata": {},
   "source": [
    "# Optimization and Object Design"
   ]
  },
  {
   "cell_type": "markdown",
   "metadata": {},
   "source": [
    "```{index} optimization\n",
    "```"
   ]
  },
  {
   "cell_type": "markdown",
   "metadata": {},
   "source": [
    ":::{admonition} Intro\n",
    "Optimization is the problem of finding a maximum or minimum value of an objective function, and is one of the main applications of differential calculus. In this section we will consider optimal design of several objects encountered in every day life.\n",
    ":::"
   ]
  },
  {
   "cell_type": "markdown",
   "metadata": {},
   "source": [
    "## Example 1: Cathedral Door\n",
    "\n",
    "::: {admonition} Example 1: Cathedral Door\n",
    "Suppose we wish to design a cathedral door with a rectangular base and semi-circular top. How can we maximize the area $A$ of the door for a given perimeter $P$?\n",
    "\n",
    "This can be solved using calculus as outlined below.\n",
    "\n",
    ":::"
   ]
  },
  {
   "cell_type": "markdown",
   "metadata": {},
   "source": [
    "<img src=\"door.png\" width=\"100px\"> "
   ]
  },
  {
   "cell_type": "markdown",
   "metadata": {},
   "source": [
    "\n",
    "<img src=\"door1.png\" width=\"100px\"> \n"
   ]
  },
  {
   "cell_type": "markdown",
   "metadata": {},
   "source": [
    "1) First note that the perimeter $P$ is kept constant throughout this problem.  The radius $r$ and height $h$ must satisfy the equation\n",
    "\n",
    "$$P=2r + 2h + \\pi r.$$\n",
    "\n",
    "This implies that $P=(2+\\pi)r+2h$ or $2h= P-(2+\\pi)r$. This tells us the height $h$ of the door is related to the constant perimeter $P$ and radius $r$ as follows:\n",
    "\n",
    "$$h= \\frac{P}{2}-(1+\\frac{\\pi}{2})r.$$"
   ]
  },
  {
   "cell_type": "markdown",
   "metadata": {},
   "source": [
    "2) Next note that the total area $A$ of the door is the sum of the recatangular base with area $2rh$ and semi-circular top with area $\\frac{1}{2}\\pi r^2$:\n",
    "\n",
    "$$\n",
    "A= 2rh + \\frac{1}{2}\\pi r^2.\n",
    "$$\n",
    "\n",
    "We can replace the height $h$ with the expression we obtained in step 1):\n",
    "\n",
    "$$\n",
    "A=2r[ \\frac{P}{2}-(1+\\frac{\\pi}{2})r]+ \\frac{1}{2}\\pi r^2.\n",
    "$$\n",
    "\n",
    "We simplify the right side of the last equation as follows:\n",
    "\n",
    "$$\n",
    "A= Pr - r^2(2+\\pi)+\\frac{1}{2}\\pi r^2\n",
    "$$ \n",
    "\n",
    "or\n",
    "\n",
    "$$\n",
    "A= Pr - r^2(2+\\frac{\\pi}{2}).\n",
    "$$\n",
    "\n"
   ]
  },
  {
   "cell_type": "markdown",
   "metadata": {},
   "source": [
    "3) Keeping in mind that $P$ is a constant, we compute the derivative $\\frac{dA}{dr}$ and set it equal to zero:\n",
    "\n",
    "$$\\frac{dA}{dr} = P - 2r(2+\\frac{\\pi}{2})=0.$$\n",
    "\n",
    "This gives us the optimal radius $r$ of the door in terms of the fixed perimeter $P$:\n",
    "\n",
    "$$P = 2r(2+\\frac{\\pi}{2})=r(4+\\pi)\\,\\,\\,\\Rightarrow\\,\\,\\, r = \\frac{P}{4+\\pi}.$$"
   ]
  },
  {
   "cell_type": "markdown",
   "metadata": {},
   "source": [
    "4) The corresponding value for the height $h$ of the door is\n",
    "\n",
    "$$h= \\frac{P}{2} - (1+\\frac{\\pi}{2})r=\\frac{P}{2} - (1+\\frac{\\pi}{2})\\frac{P}{4+\\pi}=\\frac{P[4+\\pi -2(1+\\frac{\\pi}{2})]}{2(4+\\pi)}=\\frac{P}{4+\\pi}.  $$\n",
    "\n",
    "(Note that the optimal radius and height are equal to each other: the door is low and wide.)"
   ]
  },
  {
   "cell_type": "markdown",
   "metadata": {},
   "source": [
    "5) Finally, note that the second derivative is negative, guaranteeing that we have maximized rather than minimized the area:\n",
    "\n",
    "$$A''(r)= -2(2+\\frac{\\pi}{2})<0.$$"
   ]
  },
  {
   "cell_type": "markdown",
   "metadata": {},
   "source": [
    "## Example 2: Office Space Design\n",
    "\n",
    "::: {admonition} Example 2: Office Design\n",
    "\n",
    "Consider the problem of designing an office space. We will consider two designs, and decide which is better on the basis of lower cost of wall materials per unit area of enclosed workspace.  For simplicity, assume that the cost of wall materials is  1 monetary unit per unit of wall base area.\n",
    "\n",
    ":::"
   ]
  },
  {
   "cell_type": "markdown",
   "metadata": {
    "tags": [
     "hide-input"
    ]
   },
   "source": [
    "<img src=\"fig1.png\" width=\"400px\"> "
   ]
  },
  {
   "cell_type": "markdown",
   "metadata": {},
   "source": [
    "For the square carrel, the area of the wall is $4x^2+4x$ and the enclosed workspace is 1 square unit, so the cost of materials per square foot of workspace is \n",
    "\n",
    "$$\n",
    "f(x) =  4x^2+4x.\n",
    "$$\n",
    "\n",
    "For the hexagonal carrel, the area of the wall is $3x^2\\frac{\\sqrt{3}}{2}+6x$ and the enclosed workspace has area $\\frac{3\\sqrt{3}}{2}.$  Thus, the cost of materials per square foot of workspace is\n",
    "\n",
    "\n",
    "$$\n",
    "g(x) =  \\frac{3x^2\\frac{\\sqrt{3}}{2}+6x}{\\frac{3\\sqrt{3}}{2}} = x^2+\\frac{4x}{\\sqrt{3}} .\n",
    "$$\n",
    "\n",
    "\n"
   ]
  },
  {
   "cell_type": "markdown",
   "metadata": {},
   "source": [
    "Note that both functions start at the origin, and for any wall thickness $x>0$, we must have $f(x)>g(x)$. We can argue this analytically since we first compute $f'(x)=8x+4$, $f''(x)=8$ and $g'(x)=2x+\\frac{4}{\\sqrt{3}}$ and $g''(x)=2$. Note that $f'(0)=4$ and $f''(x)=8$ for all $x$. On the other hand, $g'(0)=2+\\frac{4}{\\sqrt{3}}<4$ and $g''(x)=2$ for all $x$. Thus the graph of $f(x)$ has a steeper tangent than $g(x)$ at $x=0$. Moreover, the concavity of $f(x)$ is greater than the concavity of $g(x)$ for all $x\\ge0$.  This guarantees that $f(x)>g(x)$."
   ]
  },
  {
   "cell_type": "markdown",
   "metadata": {},
   "source": [
    "Graphically, we can use code from Section 4 of the Calculus chapter to confirm this relationship."
   ]
  },
  {
   "cell_type": "code",
   "execution_count": 1,
   "metadata": {
    "tags": [
     "hide-input"
    ]
   },
   "outputs": [
    {
     "name": "stdout",
     "output_type": "stream",
     "text": [
      "Equation of Lf(x): 4 x\n",
      "Equation of Lg(x): 2.3094010767585 x\n"
     ]
    },
    {
     "data": {
      "image/png": "[encoded data removed]",
      "text/plain": [
       "<Figure size 640x480 with 1 Axes>"
      ]
     },
     "metadata": {},
     "output_type": "display_data"
    }
   ],
   "source": [
    "import matplotlib.pyplot as plt\n",
    "import numpy as np\n",
    "import sympy as sp\n",
    "\n",
    "\n",
    "# Create a symbolic expression for the given equation\n",
    "x = sp.symbols('x')\n",
    "f = sp.lambdify(x, 4*x**2+4*x)\n",
    "g = sp.lambdify(x, x**2+4*x/np.sqrt(3))\n",
    "\n",
    "# Calculate the derivative of f(x) at x=a\n",
    "a=0\n",
    "f_prime = sp.diff( 4*x**2+4*x, x).subs(x, a)\n",
    "g_prime = sp.diff(x**2+4*x/np.sqrt(3), x).subs(x, a)\n",
    "\n",
    "# Calculate the linearization L(x) at x=a\n",
    "Lf_expr = f(a) + f_prime * (x - a)\n",
    "Lf = sp.lambdify(x, Lf_expr)\n",
    "\n",
    "Lg_expr = g(a) + g_prime * (x - a)\n",
    "Lg = sp.lambdify(x, Lg_expr)\n",
    "\n",
    "# Generate x values from a to a+1\n",
    "x_vals = np.linspace(a , a + 1, 100)\n",
    "\n",
    "#Print the linearization L(x)\n",
    "print(\"Equation of Lf(x):\", sp.latex(Lf_expr))\n",
    "print(\"Equation of Lg(x):\", sp.latex(Lg_expr))\n",
    "\n",
    "# Plot f(x), L(x), and the point (a, f(a))\n",
    "plt.plot(x_vals, f(x_vals), 'b',label=\"f(x)\")\n",
    "plt.plot(x_vals, Lf(x_vals),'b--', label=\"Lf(x)\")\n",
    "plt.plot(x_vals, g(x_vals),'r', label=\"g(x)\")\n",
    "plt.plot(x_vals, Lg(x_vals), 'r--',label=\"Lg(x)\")\n",
    "\n",
    "plt.xlabel(\"x\")\n",
    "plt.ylabel(\"y\")\n",
    "plt.title(\"Graphs and Linearizations of f(x) and g(x) at x=0\")\n",
    "plt.legend()\n",
    "plt.grid(True)\n",
    "plt.axhline(0, color=\"black\", linewidth=0.5)\n",
    "plt.axvline(0, color=\"black\", linewidth=0.5)\n",
    "plt.show()"
   ]
  },
  {
   "cell_type": "markdown",
   "metadata": {},
   "source": [
    "## Exercises"
   ]
  },
  {
   "cell_type": "markdown",
   "metadata": {},
   "source": [
    ":::{admonition}  Exercises\n",
    "1. Suppose a bulk food container is in the shape of a right-circular cylinder and designed to hold 250 cubic inches.  Our goal is to find the dimensions of the can which will minimize the amount of material needed for construction.\n",
    "\n",
    "a) Make a sketch of the can, using $x$ for the radius of the can and $h$ for the height.\n",
    "\n",
    "b) Given that the volume $V$ of the can is 250 cubic inches, find a formula for $h$ in terms of $x$.\n",
    "\n",
    "c) Find a function $f(x)$ which gives the total area of the can (top, bottom, and side) in terms of $x$.\n",
    "\n",
    "d) Compute $f'(x)$.\n",
    "\n",
    "e) Find $x$ such that $f'(x)=0$.\n",
    "\n",
    "f) Find $h$ corresponding to the $x$ in part 5).\n",
    "\n",
    "g) What is the relationship between the diameter of the can (2x) and the height $h?$. Describe the shape of the bulk food can. \n",
    "\n",
    "h) Use the second derivative to explain why your answer gives a minimum amount of material used to construct the can.\n",
    "\n",
    "2)  Suppose you would like to design a paper cup using a circular piece of paper of radius $r$, cutting out a sector from the circle, and joining the two radial edges OA and OB.\n",
    "\n",
    "a) What is the maximum volume of the cup?\n",
    "\n",
    "b) Does the second derivative test apply?\n",
    "\n",
    "c) Make a graph of the volume of the cup as a function of its height $h$ for the case $r=1$.\n",
    "\n",
    "<img src=\"fig2.png\" width=\"100px\"> \n",
    ":::"
   ]
  }
 ],
 "metadata": {
  "celltoolbar": "Edit Metadata",
  "kernelspec": {
   "display_name": "Python 3 (ipykernel)",
   "language": "python",
   "name": "python3"
  },
  "language_info": {
   "codemirror_mode": {
    "name": "ipython",
    "version": 3
   },
   "file_extension": ".py",
   "mimetype": "text/x-python",
   "name": "python",
   "nbconvert_exporter": "python",
   "pygments_lexer": "ipython3",
   "version": "3.11.3"
  }
 },
 "nbformat": 4,
 "nbformat_minor": 4
}
