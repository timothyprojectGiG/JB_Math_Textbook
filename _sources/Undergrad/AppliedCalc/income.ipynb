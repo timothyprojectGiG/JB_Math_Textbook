{
 "cells": [
  {
   "cell_type": "code",
   "execution_count": 1,
   "metadata": {
    "tags": [
     "hide-input"
    ]
   },
   "outputs": [],
   "source": [
    "import numpy as np\n",
    "import matplotlib.pyplot as plt\n",
    "import math\n",
    "%matplotlib inline"
   ]
  },
  {
   "cell_type": "markdown",
   "metadata": {},
   "source": [
    "# Integral Test and Income Streams"
   ]
  },
  {
   "cell_type": "markdown",
   "metadata": {},
   "source": [
    "```{index} continuous compounding interest\n",
    "```"
   ]
  },
  {
   "cell_type": "markdown",
   "metadata": {},
   "source": [
    "In this lab, we show that it is possible due to continuous compounding of interest to deposit a fixed amount $P$ at time $t=0$, and then withdraw at times $t=1, 2, 3,...$  increasing amounts $A+Bt$ (where $A>0$ and $B>0$ are constants) \"in perpetuity\" while always maintaining a positive balance in the account."
   ]
  },
  {
   "cell_type": "markdown",
   "metadata": {},
   "source": [
    "```{index} integral test\n",
    "```"
   ]
  },
  {
   "cell_type": "markdown",
   "metadata": {},
   "source": [
    "## Integral Test\n",
    "\n",
    "The integral test is one of the standard tests for convergence/divergence of an infinite series.  The basic idea of the test is that for a continuous function $f(x)$ defined on the interval $1\\le x < \\infty$, the infinite series\n",
    "\n",
    "$$\\sum_{n=1}^{\\infty} f(n) $$\n",
    "\n",
    "and the improper integral\n",
    "\n",
    "$$ \\int_{x=1}^{\\infty} f(x)\\, dx $$\n",
    "\n",
    "either both converge or both diverge."
   ]
  },
  {
   "cell_type": "markdown",
   "metadata": {},
   "source": [
    "```{index} p-series\n",
    "```"
   ]
  },
  {
   "cell_type": "markdown",
   "metadata": {},
   "source": [
    "```{index} convergent\n",
    "```"
   ]
  },
  {
   "cell_type": "markdown",
   "metadata": {},
   "source": [
    "```{index} divergent\n",
    "```"
   ]
  },
  {
   "cell_type": "markdown",
   "metadata": {},
   "source": [
    "## P-Series \n",
    "\n",
    "The integral test can be used to determine all positive values of $p$ for which the $p$ series\n",
    "\n",
    "$$\\sum_{n=1}^{\\infty} \\frac{1}{n^p} $$\n",
    "\n",
    "converges or diverges.\n",
    "\n",
    "For example the case $p=1$ so we have the harmonic series\n",
    "\n",
    "$$\\sum_{n=1}^{\\infty} \\frac{1}{n}. $$\n",
    "\n",
    "The corresponding improper integral is divergent:\n",
    "\n",
    "$$\\int_{x=1}^{\\infty} \\frac{1}{x}\\,dx = \\lim_{b\\rightarrow \\infty} \\ln x \\mid _1^{b} =  \\lim_{b\\rightarrow \\infty} \\ln b = \\infty . $$\n",
    "\n",
    "Thus the harmonic series is also divergent, as suggested by the circumscribed rectangles representing the first five terms in the harmonic series as shown in the figure below."
   ]
  },
  {
   "cell_type": "code",
   "execution_count": 2,
   "metadata": {
    "tags": [
     "hide-input"
    ]
   },
   "outputs": [
    {
     "data": {
      "image/png": "[encoded data removed]",
      "text/plain": [
       "<matplotlib.figure.Figure at 0x1bf006e5128>"
      ]
     },
     "metadata": {
      "needs_background": "light"
     },
     "output_type": "display_data"
    }
   ],
   "source": [
    "f = lambda x : 1/x\n",
    "x=np.arange(1,6,.0001)\n",
    "y=f(x)\n",
    "x_left = np.arange(1,6,1)\n",
    "plt.figure(figsize=(5,3))\n",
    "plt.gca().set_xticks(np.arange(1,7,1))\n",
    "plt.gca().set_yticks([.1,.2,.3,.4,.5,.6,.7,.8,.9,1])\n",
    "plt.plot(x,y,'k',markersize=1)\n",
    "plt.bar(x_left,1/x_left,width=1,alpha=0.1,align='edge',color='r',edgecolor='k')\n",
    "plt.title('Divergence of the Harmonic Series')\n",
    "plt.text(1.5,1,'1')\n",
    "plt.text(2.3,.5,'1/2')\n",
    "plt.text(3.3,.33,'1/3')\n",
    "plt.text(4.3,.25,'1/4')\n",
    "plt.text(5.3,.2,'1/5')\n",
    "plt.xlabel('x')\n",
    "plt.ylabel('y')\n",
    "plt.ylim((0,1.1)) \n",
    "#plt.grid()\n",
    "plt.savefig('harmonic.png')\n",
    "plt.show()"
   ]
  },
  {
   "cell_type": "markdown",
   "metadata": {},
   "source": [
    "On the other hand, a $p$-series with $p=2$ series must converge as shown by a convergent improper integral\n",
    "\n",
    "$$\\int_1^{\\infty}\\frac{1}{x^2}\\,dx = \\lim_{b\\rightarrow\\infty} -x^{-1}\\mid_1^b = \\lim_{b\\rightarrow\\infty} -\\frac{1}{b}+1=1.$$\n",
    "\n",
    "in comparison with inscribed rectangles representing the tail of the series \n",
    "\n",
    "$$\\frac{1}{2^2}+\\frac{1}{3^2}+...<\\int_1^{\\infty}\\frac{1}{x^2}=1 \\Rightarrow$$\n",
    "\n",
    "$$\\sum_{n=1}^{\\infty} \\frac{1}{n^2}= 1+\\frac{1}{2^2}+\\frac{1}{3^2}+...<1+\\int_1^{\\infty}\\frac{1}{x^2}=2.$$"
   ]
  },
  {
   "cell_type": "code",
   "execution_count": 3,
   "metadata": {
    "tags": [
     "hide-input"
    ]
   },
   "outputs": [
    {
     "data": {
      "image/png": "[encoded data removed]",
      "text/plain": [
       "<matplotlib.figure.Figure at 0x1bf7f578fd0>"
      ]
     },
     "metadata": {
      "needs_background": "light"
     },
     "output_type": "display_data"
    }
   ],
   "source": [
    "f = lambda x : 1/x**2\n",
    "x=np.arange(1,6,.0001)\n",
    "y=f(x)\n",
    "x_right = np.arange(2,6,1)\n",
    "plt.figure(figsize=(5,3))\n",
    "plt.gca().set_xticks(np.arange(1,7,1))\n",
    "plt.gca().set_yticks([.1,.2,.3,.4,.5,.6,.7,.8,.9,1])\n",
    "plt.plot(x,y,'k',markersize=1)\n",
    "plt.bar(x_right-1,1/x_right**2,width=1,alpha=0.1,align='edge',color='r',edgecolor='k')\n",
    "plt.title('Convergence of a p-Series with p=2')\n",
    "plt.text(1.,.25,'1/2^2')\n",
    "plt.text(2.,1/8,'1/3^2')\n",
    "plt.text(3.,1/16,'1/4^2')\n",
    "plt.text(4.,1/25,'1/5^2')\n",
    "plt.xlabel('x')\n",
    "plt.ylabel('y')\n",
    "plt.ylim((0,1.1)) \n",
    "#plt.grid()\n",
    "plt.savefig('p2.png')\n",
    "plt.show()"
   ]
  },
  {
   "cell_type": "markdown",
   "metadata": {},
   "source": [
    "## Income Streams"
   ]
  },
  {
   "cell_type": "markdown",
   "metadata": {},
   "source": [
    "```{index} income streams\n",
    "```"
   ]
  },
  {
   "cell_type": "markdown",
   "metadata": {},
   "source": [
    "If $P$ dollars are invested into an account with interest compounded continuously with annual interest rate $r=.05$ (i.e 5%), then after $t$ years the amount $P$ grows to $Pe^{rt}=Pe^{.05t}$.\n",
    "\n",
    "Suppose $f(t)=200+10t$ dollars are invested into an account with the same interest rate at times $t=1, 2, 3$ (in years) and the total including interest is computed at $t=3$. \n",
    "\n",
    "The amount $\\$ 210$ invested at $t=1$ grows to $A_1=\\$ 210 e^{.05(3-1)}=210e^{.05(2).}$\n",
    "\n",
    "The amount $\\$ 220$ invested at $t=2$ grows to $A_2=\\$ 220 e^{.05(3-2)}=220e^{.05(1).}$\n",
    "\n",
    "The amount $\\$ 230$ invested at $t=3$ grows to $A_3=\\$ 230 e^{.05(3-3)}=230e^{.05(0)}=230.$\n",
    "\n",
    "Note that \n",
    "\n",
    "$$A_1+A_2+A_3 < \\int_1^3 (200+10t)e^{.05(3-t)}.$$\n"
   ]
  },
  {
   "cell_type": "code",
   "execution_count": 4,
   "metadata": {
    "tags": [
     "hide-input"
    ]
   },
   "outputs": [
    {
     "data": {
      "image/png": "[encoded data removed]",
      "text/plain": [
       "<matplotlib.figure.Figure at 0x1bf087bbb70>"
      ]
     },
     "metadata": {
      "needs_background": "light"
     },
     "output_type": "display_data"
    }
   ],
   "source": [
    "f = lambda t : (200+10*t)*math.e**(.05*(3-t))\n",
    "a = 0; b = 3; N = 3\n",
    "n = 10 # Use n*N+1 points to plot the function smoothly\n",
    "#right endpoint rule\n",
    "t = np.linspace(a,b,N+1)\n",
    "y = f(t)\n",
    "T = np.linspace(a,b,n*N+1)\n",
    "Y = f(T)\n",
    "\n",
    "plt.figure(figsize=(5,5))\n",
    "plt.gca().set_xticks([1,2,3])\n",
    "plt.plot(T,Y,'r', linestyle =':')\n",
    "t_right = t[1:] # right endpoints\n",
    "y_right = y[1:]\n",
    "plt.plot(t_right,y_right,'k.',markersize=10)\n",
    "plt.bar(t_right,y_right,width=-(b-a)/N,alpha=0.1,align='edge',color='k',edgecolor='k')\n",
    "plt.title('Right Rectangle Sum, N = {}'.format(N))\n",
    "plt.xlabel('Time t investment of 200+10t dollars with interest')\n",
    "plt.ylabel('Value of investment at t=3')\n",
    "plt.text(1,232.5,\"f(t)=(200+10t)e^{.05(3-t)}\",color='r')\n",
    "plt.text(.3,232,\"A_1\")\n",
    "plt.text(1.3,231,\"A_2\")\n",
    "plt.text(2.3,230,\"A_3\")\n",
    "plt.ylim((225, 233)) \n",
    "#plt.grid()\n",
    "plt.savefig('3 period.png')\n",
    "plt.show()"
   ]
  },
  {
   "cell_type": "markdown",
   "metadata": {},
   "source": [
    "## Exercises"
   ]
  },
  {
   "cell_type": "markdown",
   "metadata": {},
   "source": [
    ":::{admonition} Exercises\n",
    "\n",
    "1) Suppose $f(t) = 10,000+500 t$ dollars are invested into an account (with the same interest rate) at times $t=1, 2, 3,$ and $4$ ($t$ in years). At time $t=4$, find the total value of the investment with interest $A_1+A_2+A_3+A_4.$ \n",
    " \n",
    "2) Show geometrically that the sum  $10,500 e^{.05(3)} + 11,000 e^{.05(2)} + 11,500 e^{.05} + 12,000 $ is less than $I_4=\\int_0^4 (10,000+500 t) e^{.05 (4-t)} dt$.\n",
    "\n",
    "3) Explain why \n",
    "\n",
    "$$\n",
    "I_4=\\int_0^4 (10,000+500 t) e^{.05 (4-t)} dt =  e^{.05 (4)} \\int_0^4 (10,000+500 t) e^{-.05 t} dt = e^{.05(4)}P_4.\n",
    "$$\n",
    "\n",
    "\n",
    "4) Explain why an amount $P_4=\\int_0^4 (10,000+500 t) e^{-.05 t} dt$ invested at time $t=0$ will allow withdrawals whose total value with interest is  $A_1+A_2+A_3+A_4$.\n",
    "\n",
    "5) Extend the reasoning in exercises 1-4 to show that  $P_N =  \\int_0^N (10,000+500 t) e^{-.05t } dt $ deposited at $t=0$ is sufficient to allow $f(t) = 10,000+500 t$  to be withdrawn from the account at $t=1,2,...,N$.  Use integration by parts to find $P_{\\infty} = \\int_0^{\\infty} (10,000+500 t) e^{-.05 t} dt $. (If this finite amount $P_{\\infty}$ is  deposited at $t=0$, then $f(t)=10,000 + 500 t$ can be withdrawn at $t=1, 2, 3,...$ (\"in perpetuity\".)\n",
    "\n",
    ":::"
   ]
  }
 ],
 "metadata": {
  "celltoolbar": "Edit Metadata",
  "kernelspec": {
   "display_name": "Python 3 (ipykernel)",
   "language": "python",
   "name": "python3"
  },
  "language_info": {
   "codemirror_mode": {
    "name": "ipython",
    "version": 3
   },
   "file_extension": ".py",
   "mimetype": "text/x-python",
   "name": "python",
   "nbconvert_exporter": "python",
   "pygments_lexer": "ipython3",
   "version": "3.11.7"
  }
 },
 "nbformat": 4,
 "nbformat_minor": 4
}
