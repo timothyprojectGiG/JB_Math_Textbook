{
 "cells": [
  {
   "cell_type": "code",
   "execution_count": null,
   "metadata": {
    "tags": [
     "hide-input"
    ]
   },
   "outputs": [],
   "source": [
    "import numpy as np\n",
    "import matplotlib.pyplot as plt\n",
    "import math\n",
    "%matplotlib inline"
   ]
  },
  {
   "cell_type": "markdown",
   "metadata": {},
   "source": [
    "# Ordinary Differential Equations and Exponential Growth/Decay"
   ]
  },
  {
   "cell_type": "markdown",
   "metadata": {},
   "source": [
    "```{index} ordinary differential equation\n",
    "```"
   ]
  },
  {
   "cell_type": "markdown",
   "metadata": {},
   "source": [
    "Simply put, a differential equation is an equation that includes at least one derivative of a function. For example,\n",
    "\n",
    "$$ \\frac{dy}{dt} = y, $$\n",
    "\n",
    "is a differential equation involving a function $y(t)$ and its first derivative $\\frac{dy}{dt}$.\n",
    "\n",
    "Differential equations are used widely across many areas of science, economics, and mathematics.\n"
   ]
  },
  {
   "cell_type": "markdown",
   "metadata": {},
   "source": [
    "```{index} initial value problem (IVP)\n",
    "```\n",
    "\n",
    "```{index} initial condition\n",
    "```"
   ]
  },
  {
   "cell_type": "markdown",
   "metadata": {},
   "source": [
    "## Initial Value Problems\n",
    "\n",
    "An initial value problem (IVP) consists of a differential equation (DE) and an initial condition (IC). Here is an example:\n",
    "\n",
    "$$ (DE)\\, \\frac{dy}{dt} = \\frac{1}{y}, $$\n",
    "\n",
    "$$ (IC)\\, y(0) =1 $$\n"
   ]
  },
  {
   "cell_type": "markdown",
   "metadata": {},
   "source": [
    "```{index} separation of variables\n",
    "```"
   ]
  },
  {
   "cell_type": "markdown",
   "metadata": {},
   "source": [
    "## Separation of Variables \n",
    "\n",
    "A basic technique which can be used to solve simple IVP's is called <i>separation of variables</i>.  Here is how we solve the above IVP using this technique:\n",
    "\n",
    "1) bring to one side of the equation all the $y$'s times $dy$, and to the other side of the equation all the $t's$ times $dt$:\n",
    "\n",
    "$$ y\\,dy = \\, \\, dt. $$\n",
    "\n",
    "2) Integrate both sides of the equation:\n",
    "\n",
    "\n",
    "$$ \\int y\\,dy = \\, \\int \\, dt \\Rightarrow \\frac{y^2}{2} = t + C. $$\n",
    "\n",
    "3) Use the initial condition (IC) $y(0)=1$  (i.e. $y=1$ when $t=0$) to find the value of $C$:\n",
    "\n",
    "$$  \\frac{1}{2}= 0 + C \\Rightarrow C=\\frac{1}{2}.    $$\n",
    "\n",
    "4) Substitute the value for $C$.\n",
    "\n",
    "$$ \\frac{y^2}{2} = t + \\frac{1}{2}. $$\n",
    "\n",
    "\n",
    "5)  Solve for $y$.\n",
    "\n",
    "$$ y^2 = 2t + 1. $$\n",
    "\n",
    "$$ y=\\sqrt{2t+1} . $$\n",
    "\n",
    "Note that we use the positive square root to satisfy the IC $y(0)=1$.\n"
   ]
  },
  {
   "cell_type": "markdown",
   "metadata": {},
   "source": [
    "```{index} exponential growth\n",
    "```"
   ]
  },
  {
   "cell_type": "markdown",
   "metadata": {},
   "source": [
    "## Exponential Growth \n",
    "\n",
    "In some situations such as continuous compounding of interest, the rate of growth of a quantity is proportional to the size of the quantity:\n",
    "\n",
    "$$ \\frac{dy}{dt} = k y. $$\n",
    "\n",
    "The constant $k>0$ is called the growth constant.\n",
    "\n",
    "If at $t=0$ the value of $y$ is $y_0$ (that is we are given the IC: $y(0)=y_0$), we can use separation of variables to solve for $y(t)$:\n",
    "\n",
    "$$ \\frac{dy}{y} = k dt $$\n",
    "\n",
    "$$ \\int \\frac{dy}{y} = k \\int dt $$\n",
    "\n",
    "$$\\ln(y) = kt+C $$\n",
    "\n",
    "$$ y = e^{kt+c}=e^{kt}e^C = C_1 e^{kt}$$\n",
    "\n",
    "$$ y(0) = C_1 e^0 = C_1 = y_0.$$\n",
    "\n",
    "Thus, our solution is $y(t)=y_0 e^t.$\n",
    "\n",
    "\n",
    "\n"
   ]
  },
  {
   "cell_type": "code",
   "execution_count": 2,
   "metadata": {
    "tags": [
     "hide-input"
    ]
   },
   "outputs": [
    {
     "data": {
      "image/png": "[encoded data removed]",
      "text/plain": [
       "<matplotlib.figure.Figure at 0x23122c619e8>"
      ]
     },
     "metadata": {
      "needs_background": "light"
     },
     "output_type": "display_data"
    }
   ],
   "source": [
    "f = lambda t : y0 * np.exp(t)\n",
    "y0=1\n",
    "plt.figure(figsize=(5,3))\n",
    "t=np.arange(0,2.1,.001)\n",
    "y=f(t)\n",
    "plt.gca().set_xticks(np.arange(0,2.1))\n",
    "plt.gca().set_yticks(np.arange(0,8,1))\n",
    "plt.plot(t,y,'r',markersize=1)\n",
    "plt.title('Exponential growth k=1, y(0)=1')\n",
    "plt.xlabel('t')\n",
    "plt.ylabel('y')\n",
    "plt.xlim((-.01,2)) \n",
    "plt.ylim((-.01,8))\n",
    "plt.gca().axhline(y=0, color='b')\n",
    "plt.gca().axvline(x=0, color='b')\n",
    "plt.savefig('expgrowth.png')\n",
    "plt.show()"
   ]
  },
  {
   "cell_type": "markdown",
   "metadata": {},
   "source": [
    "```{index} exponential decay\n",
    "```"
   ]
  },
  {
   "cell_type": "markdown",
   "metadata": {},
   "source": [
    "## Exponential Decay \n",
    "\n",
    "In some situations such as radioactive decay, the IVP is\n",
    "\n",
    "$$\\frac{dy}{dt} = - ky, \\,y(0)=y_0. $$\n",
    "\n",
    "Using separation variables in a similar way to solving the exponential growth equation leads to the solution\n",
    "\n",
    "$$y(t)=y_0 e^{-kt}. $$"
   ]
  },
  {
   "cell_type": "code",
   "execution_count": 3,
   "metadata": {
    "tags": [
     "hide-input"
    ]
   },
   "outputs": [
    {
     "data": {
      "image/png": "[encoded data removed]",
      "text/plain": [
       "<matplotlib.figure.Figure at 0x23122c92128>"
      ]
     },
     "metadata": {
      "needs_background": "light"
     },
     "output_type": "display_data"
    }
   ],
   "source": [
    "f = lambda t : y0 * np.exp(-t)\n",
    "y0=1\n",
    "plt.figure(figsize=(5,3))\n",
    "t=np.arange(0,3.1,.001)\n",
    "y=f(t)\n",
    "plt.gca().set_xticks(np.arange(0,3.1))\n",
    "plt.gca().set_yticks(np.arange(0,1.1,.2))\n",
    "plt.plot(t,y,'r',markersize=1)\n",
    "plt.title('Exponential decay k=1, y(0)=1')\n",
    "plt.xlabel('t')\n",
    "plt.ylabel('y')\n",
    "plt.xlim((0,3)) \n",
    "plt.ylim((0,1))\n",
    "plt.gca().axhline(y=0, color='b')\n",
    "plt.gca().axvline(x=0, color='b')\n",
    "plt.savefig('expdecay.png')\n",
    "plt.show()"
   ]
  },
  {
   "cell_type": "markdown",
   "metadata": {},
   "source": [
    "```{index} half-life\n",
    "```"
   ]
  },
  {
   "cell_type": "markdown",
   "metadata": {},
   "source": [
    "**Half-Life**\n",
    "\n",
    "For radioactive decay problems, the time it takes for radioactive material to decay to half the original amount is called the <i>half-life</i>.\n",
    "\n",
    "To find the half-life $t=t_h$ for the case $k=1$, we solve as follows:\n",
    "\n",
    "$$ y(t_h)= y_0 e^{-t_h}=\\frac{1}{2}y_0$$\n",
    "\n",
    "$$e^{-t_h}=\\frac{1}{2}$$\n",
    "\n",
    "$$-t_h=\\ln\\frac{1}{2}$$\n",
    "\n",
    "$$t_h=-\\ln\\frac{1}{2} = \\ln 2\\approx .69. $$\n"
   ]
  },
  {
   "cell_type": "code",
   "execution_count": 4,
   "metadata": {
    "tags": [
     "hide-input"
    ]
   },
   "outputs": [
    {
     "data": {
      "image/png": "[encoded data removed]",
      "text/plain": [
       "<matplotlib.figure.Figure at 0x23122c920b8>"
      ]
     },
     "metadata": {
      "needs_background": "light"
     },
     "output_type": "display_data"
    }
   ],
   "source": [
    "f = lambda t : y0 * np.exp(-t)\n",
    "y0=1\n",
    "plt.figure(figsize=(5,3))\n",
    "t=np.arange(0,3.1,.001)\n",
    "y=f(t)\n",
    "plt.gca().set_xticks(np.arange(0,3.1))\n",
    "plt.gca().set_yticks(np.arange(0,1.1,.2))\n",
    "plt.plot(t,y,'r',markersize=1)\n",
    "plt.plot(t,0*t+.5,'-.k')\n",
    "plt.title('Exponential decay k=1, y(0)=1')\n",
    "x1, y1 = [np.log(2),np.log(2)], [0,.5]\n",
    "plt.plot(x1, y1,marker = 'o')\n",
    "plt.xlabel('t')\n",
    "plt.ylabel('y')\n",
    "plt.xlim((0,3)) \n",
    "plt.ylim((-.001,1))\n",
    "plt.gca().axhline(y=0, color='b')\n",
    "plt.gca().axvline(x=0, color='b')\n",
    "plt.text(.64,-.1,'t_h')\n",
    "plt.savefig('expdecay.png')\n",
    "plt.show()"
   ]
  },
  {
   "cell_type": "markdown",
   "metadata": {},
   "source": [
    "## Exercises"
   ]
  },
  {
   "cell_type": "markdown",
   "metadata": {},
   "source": [
    ":::{admonition} Exercises\n",
    "\n",
    "1. Let $y(t)$ be the amount (in grams) of a pollutant at time $t$ (in days) found in a certain water supply. Suppose after an industrial accident, $y(0)=100$ and additional pollutant enters the water supply at a constant rate of $c_1= 5$ gm/day. Emergency water purification measures are used to reduce the daily amount of pollutant at a rate of 1% of the existing amount of pollution.\n",
    "\n",
    "a) What IVP is used to model this situation?\n",
    "\n",
    "Hint: The rate of change of pollutant $\\frac{dy}{dt}$ is equal to rate in - rate out. \n",
    "\n",
    "b) Use separation of variables to solve the IVP.\n",
    "\n",
    "\n",
    "c) Suppose the water supply becomes unsafe if the pollution level reaches 400 gm. After how many days will the water supply become unsafe?\n",
    "\n",
    "\n",
    "d) Make a graph of $y(t)$.\n",
    "\n",
    "\n",
    "2. Prove the Rule of 72: If money is deposited into an account with an annual interest rate $r$ (expressed as a percentage) compounded continuously, then it will take roughly $72/r$ years for the money to double.\n",
    "\n",
    "3. For exponential decay, find a formula relating the decay constant $k$ and the half-life $t_h$.\n",
    "\n",
    "4. The exponential growth model predicts that $y\\rightarrow\\infty$ as $t\\rightarrow\\infty.$ This may not be realistic. For example, if $y(t)$ represents the population at time $t$, there is a limit to how big $y(t)$ can grow.\n",
    "\n",
    "The logistic model includes a cap $M$ on how big the population can grow, and is given by the following IVP:\n",
    "\n",
    "$$ \n",
    "\\frac{dy}{dt} = ky(M-y),\\,y(0)=y_0.\n",
    "$$\n",
    "\n",
    "Use separation of variables to solve the logistic growth model for the case $k=1$, $M=100$, $y_0=5$.\n",
    "\n",
    "Hint:\n",
    "\n",
    "$$\n",
    "\\frac{1}{y(M-y)}=\\frac{1}{M}(\\frac{1}{y}+\\frac{1}{M-y}).\n",
    "$$\n",
    "\n",
    "\n",
    ":::"
   ]
  }
 ],
 "metadata": {
  "celltoolbar": "Edit Metadata",
  "kernelspec": {
   "display_name": "Python 3 (ipykernel)",
   "language": "python",
   "name": "python3"
  },
  "language_info": {
   "codemirror_mode": {
    "name": "ipython",
    "version": 3
   },
   "file_extension": ".py",
   "mimetype": "text/x-python",
   "name": "python",
   "nbconvert_exporter": "python",
   "pygments_lexer": "ipython3",
   "version": "3.11.7"
  }
 },
 "nbformat": 4,
 "nbformat_minor": 4
}
