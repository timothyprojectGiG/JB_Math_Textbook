{
 "cells": [
  {
   "cell_type": "markdown",
   "metadata": {},
   "source": [
    "# Related Rates with Trig Functions and Football"
   ]
  },
  {
   "cell_type": "markdown",
   "metadata": {},
   "source": [
    "In this lab, we will solve a related rates problem which involves the use of trig functions.  In particular, we will determine how fast a camera is rotating as it tracks a football player speeding along the sideline to the endzone."
   ]
  },
  {
   "cell_type": "markdown",
   "metadata": {},
   "source": [
    "```{index} related rates\n",
    "```"
   ]
  },
  {
   "cell_type": "markdown",
   "metadata": {},
   "source": [
    "<img src=\"Football_Animation.gif\" width=\"500\" align=\"center\">"
   ]
  },
  {
   "cell_type": "markdown",
   "metadata": {},
   "source": [
    "The following code creates the animation, Football_Animation.gif. If you execute the code, you can open and view the .gif file."
   ]
  },
  {
   "cell_type": "code",
   "execution_count": 1,
   "metadata": {
    "tags": [
     "hide-input"
    ]
   },
   "outputs": [],
   "source": [
    "import numpy as np\n",
    "import pandas as pd\n",
    "import matplotlib.pyplot as plt\n",
    "from matplotlib.path import Path\n",
    "import matplotlib.animation as animation\n",
    "from matplotlib.animation import FuncAnimation\n",
    "%matplotlib notebook\n",
    "%matplotlib inline\n",
    "from matplotlib.markers import MarkerStyle\n",
    "import matplotlib.pyplot as plt\n",
    "from matplotlib.lines import Line2D\n",
    "from matplotlib.transforms import Affine2D\n",
    "import matplotlib.patches as patches\n",
    "from matplotlib.patches import Rectangle\n",
    "\n",
    "frames=9\n",
    "for n in range(frames):\n",
    "\n",
    "#green background\n",
    "    verts = [(-20, -20),  # left, bottom\n",
    "         (-20, 100),  # left, top\n",
    "         (100, 100),  # right, top\n",
    "         (100, -20),  # right, bottom\n",
    "         (0., 0.),  # ignored\n",
    "        ]\n",
    "    codes = [Path.MOVETO,Path.LINETO,Path.LINETO,Path.LINETO,Path.CLOSEPOLY,]\n",
    "\n",
    "    path = Path(verts, codes)\n",
    "    patch = patches.PathPatch(path, facecolor='green', lw=.1, edgecolor='w')\n",
    "    fig, ax = plt.subplots()\n",
    "    ax.add_patch(patch)\n",
    "    ax.set_xlim(-2, 10)\n",
    "    ax.set_ylim(-2, 10)\n",
    "    \n",
    "#endzone\n",
    "    plt.gca().add_patch(Rectangle((7.88,-20),50,20.04, edgecolor='w', facecolor=(.0,.1,.4), lw=4))\n",
    "\n",
    "#side line\n",
    "    plt.gca().add_patch(Rectangle((6.8,-20),70,200, edgecolor='w', facecolor='none', lw=70))\n",
    "\n",
    "#Yard Marks\n",
    "    yards= [0,1,2,3,4,5,6,7,8,9,10]\n",
    "    for i in range(len(yards)):\n",
    "        plt.gca().add_patch(Rectangle((8.1,i),.5,.1, edgecolor='w', facecolor='w', lw=1))\n",
    "#5 & 10\n",
    "    plt.gca().add_patch(Rectangle((8.1,5),50,.1, edgecolor='w', facecolor='w', lw=1))\n",
    "    plt.gca().add_patch(Rectangle((8.1,10),50,.1, edgecolor='w', facecolor='w', lw=1))\n",
    "\n",
    "#Adjacent line to camera\n",
    "    plt.gca().add_patch(Rectangle((0.3,-0.1),7.68,.1, edgecolor='none', facecolor='yellow', lw=1))\n",
    "\n",
    "#Tracking line\n",
    "    x = np.linspace(0, 8, 100)\n",
    "    f = lambda x : ((8-n)/8)*x\n",
    "    y=f(x)\n",
    "    plt.plot(x,((8-n)/8)*x,'--y')\n",
    "\n",
    "#Bob Hayes\n",
    "    import matplotlib as mpl\n",
    "    from svgpath2mpl import parse_path\n",
    "    from svgpathtools import svg2paths\n",
    "    player_path, attributes = svg2paths('bullet_bob.svg')\n",
    "    player_marker = parse_path(attributes[0]['d'])\n",
    "    player_marker.vertices -= player_marker.vertices.mean(axis=0)\n",
    "    x=7.8\n",
    "    y=8.8-(n)\n",
    "    plt.plot(x,y, marker=player_marker, markersize=35,color= 'b')\n",
    "    \n",
    "#Camera\n",
    "    camera_path, attributes = svg2paths('camera.svg')\n",
    "    camera_marker = parse_path(attributes[0]['d'])\n",
    "    camera_marker.vertices -= camera_marker.vertices.mean(axis=0)\n",
    "    camera_marker = camera_marker.transformed(mpl.transforms.Affine2D().rotate_deg(45-(5*n)))\n",
    "    camera_marker = camera_marker.transformed(mpl.transforms.Affine2D().scale(.1,.1))\n",
    "    x = -0.01\n",
    "    y = 0.15\n",
    "    plt.plot(x,y,marker=camera_marker,markersize=30,color = 'k')\n",
    "\n",
    "#Annotations\n",
    "    ax.annotate('Camera',\n",
    "                xy=(0, 1), xycoords='data',\n",
    "                xytext=(0, -35), textcoords='offset points', color='white')\n",
    "#Legend\n",
    "    plt.xlabel('Distance from camera (yds)')\n",
    "    plt.ylabel('Distance from endzone (yds)')\n",
    "    plt.title('\"Bullet\" Bob Hayes Returning a Kick')\n",
    "\n",
    "#Save each frame as a .png\n",
    "    plt.savefig(str(n)+'.png')\n",
    "    plt.close()\n",
    "\n",
    "#Save as a GIF\n",
    "from PIL import Image\n",
    "images = []\n",
    "for n in range(frames):\n",
    "    exec('a'+str(n)+'=Image.open(\"'+str(n)+'.png\")')\n",
    "    images.append(eval('a'+str(n)))\n",
    "images[0].save('Football_Animation.gif',\n",
    "               save_all=True,\n",
    "               append_images=images[1:],\n",
    "               duration=400,\n",
    "               loop=0)"
   ]
  },
  {
   "cell_type": "markdown",
   "metadata": {},
   "source": [
    "Now the idea of the scenario is how we can use calculus to solve the problem of how fast the camera must rotate to stay pointed at the player. To begin, we need to review some basic info about trig functions."
   ]
  },
  {
   "cell_type": "markdown",
   "metadata": {},
   "source": [
    "```{index} trig functions\n",
    "```"
   ]
  },
  {
   "cell_type": "markdown",
   "metadata": {},
   "source": [
    "## Defintion of Trig Functions\n",
    "\n",
    "The acronym SOH-CAH-TOA is helpful to remember the definitions of the three basic trig functions sine, cosine, and tangent as ratios of sides of a right triangle:"
   ]
  },
  {
   "cell_type": "markdown",
   "metadata": {},
   "source": [
    "$$\\sin(\\theta)=\\frac{opposite}{hypotenuse}$$\n",
    "\n",
    "$$\\cos(\\theta)=\\frac{adjacent}{hypotenuse} $$\n",
    "\n",
    "$$\\tan(\\theta)= \\frac{opposite}{adjacent} \n",
    "$$"
   ]
  },
  {
   "cell_type": "markdown",
   "metadata": {},
   "source": [
    "```{index} derivatives of trig functions\n",
    "```"
   ]
  },
  {
   "cell_type": "markdown",
   "metadata": {},
   "source": [
    "## Derivatives of basic trig functions\n",
    "The basic derivative formuas are \n",
    "\n",
    "$$\n",
    "\\frac{d}{d\\theta} \\sin(\\theta)=\\cos(\\theta)\n",
    "$$\n",
    "     \n",
    "$$\\frac{d}{d\\theta} \\cos(\\theta)=-\\sin(\\theta)\n",
    "$$  \n",
    "\n",
    "$$ \\frac{d}{d\\theta} \\tan(\\theta)=\\sec^2(\\theta)=\\frac{1}{\\cos^2(\\theta)} \n",
    "$$\n",
    "\n",
    "    \n",
    "In our application problem, we will assume that the angle $\\theta$ is changing with time $t$.  In this case, the derivatives with respect to time $t$ are given by\n",
    "\n",
    "$$\\frac{d}{dt}\\sin(\\theta(t))=\\cos(\\theta)\\frac{d\\theta}{dt}$$\n",
    "\n",
    "$$\\frac{d}{dt}\\cos(\\theta(t))=-\\sin(\\theta)\\frac{d\\theta}{dt}$$\n",
    "\n",
    "$$\\frac{d}{dt}\\tan(\\theta(t))=\\sec^2(\\theta)\\frac{d\\theta}{dt}=\\frac{d\\theta/dt}{\\cos^2(\\theta)} $$"
   ]
  },
  {
   "cell_type": "markdown",
   "metadata": {},
   "source": [
    "### Example\n",
    "\n",
    "Find $\\frac{d}{dt}$ of $\\tan$($t^2$). (Hint: In this case, $\\theta(t)=t^2$)\n",
    "\n",
    ">**Answer**:    $\\sec^2(t^2)2t$ or $\\frac{2t}{\\cos^2(t^2)}$ \n",
    "\n"
   ]
  },
  {
   "cell_type": "markdown",
   "metadata": {},
   "source": [
    "*Explanation:*\n",
    "\n",
    "It's been given that the derivative $d/dt$ of $\\tan$($\\theta(t)$) is $\\sec^2(\\theta)\\frac{d\\theta}{dt}$ . Therefore, since $d\\theta/dt$ is $2t$, multiplying by $\\sec^2(\\theta)$ gives $\\sec^2(t^2)2t$ or equivalently,   $\\frac{2t}{\\cos^2(t^2)}$."
   ]
  },
  {
   "cell_type": "markdown",
   "metadata": {},
   "source": [
    "```{index} radian measure\n",
    "```"
   ]
  },
  {
   "cell_type": "markdown",
   "metadata": {},
   "source": [
    "## Radian Measure\n",
    "\n",
    "The above formulas for the derivatives of $\\sin(\\theta)$, $\\cos(\\theta))$ and $\\tan(\\theta)$ all assume that the angle $\\theta$ is measured in radians.  \n",
    "\n",
    "Conversion between radians and degrees is possible if we remember that $\\pi$ radians = 180 degrees or $2\\pi$ radians = 360 degrees.\n",
    "\n",
    "### Example\n",
    "\n",
    "Convert $\\frac{5}{6}$ radians to degrees\n",
    "\n",
    ">**Answer**: $\\frac{5}{6}$ $radians$ x $\\frac{180 \\, degrees}{\\pi \\,  radians}$ = $\\frac{150}{\\pi}$ degrees\n",
    "\n",
    "\n"
   ]
  },
  {
   "cell_type": "markdown",
   "metadata": {},
   "source": [
    "_Explanation:_\n",
    "\n",
    "It's been given that $\\pi$ radians = 180 degrees so $\\frac{180 \\, degrees}{\\pi \\, radians} = 1$. We can complete the conversion using cross cancelation method.\n",
    "\n"
   ]
  },
  {
   "cell_type": "markdown",
   "metadata": {},
   "source": [
    "## Python trig functions \n"
   ]
  },
  {
   "cell_type": "code",
   "execution_count": 9,
   "metadata": {},
   "outputs": [],
   "source": [
    "from math import pi, sin, cos, tan, asin, acos, atan, radians, degrees"
   ]
  },
  {
   "cell_type": "markdown",
   "metadata": {},
   "source": [
    "You can use these imported python functions to do calculations within the notebook. For correct syntax, code as follows: "
   ]
  },
  {
   "cell_type": "code",
   "execution_count": 10,
   "metadata": {},
   "outputs": [
    {
     "data": {
      "text/plain": [
       "0.7071067811865475"
      ]
     },
     "execution_count": 10,
     "metadata": {},
     "output_type": "execute_result"
    }
   ],
   "source": [
    "sin(pi/4)"
   ]
  },
  {
   "cell_type": "markdown",
   "metadata": {},
   "source": [
    "To convert from radians to degrees, simply type degrees(radian value). This will give you the corresponding degree value:"
   ]
  },
  {
   "cell_type": "code",
   "execution_count": 11,
   "metadata": {},
   "outputs": [
    {
     "data": {
      "text/plain": [
       "180.0"
      ]
     },
     "execution_count": 11,
     "metadata": {},
     "output_type": "execute_result"
    }
   ],
   "source": [
    "degrees(pi)"
   ]
  },
  {
   "cell_type": "markdown",
   "metadata": {},
   "source": [
    "Furthermore, by default Python assumes the input angle measure is in radians. You can convert the final answer to degrees as such:"
   ]
  },
  {
   "cell_type": "code",
   "execution_count": 12,
   "metadata": {},
   "outputs": [
    {
     "data": {
      "text/plain": [
       "45.0"
      ]
     },
     "execution_count": 12,
     "metadata": {},
     "output_type": "execute_result"
    }
   ],
   "source": [
    "degrees(atan(1)) "
   ]
  },
  {
   "cell_type": "markdown",
   "metadata": {},
   "source": [
    "Note that the above example asks for the degree conversion of the radian value of the arctangent of a right triangle with congruent sides (8/8, 6/6, and so on)."
   ]
  },
  {
   "cell_type": "markdown",
   "metadata": {},
   "source": [
    "### Example\n",
    "\n",
    " Bob Hayes won the 100 meter dash at the Tokyo '64 Olympics equalling the world record of 10.0 seconds.  Hayes went on to be a star wide receiver with the Dallas Cowboys.\n",
    " \n",
    "Suppose a TV camera is positioned on the goal line and 8 yards from the sideline. The camera stays fixed on Hayes, who is currently on the 8 yard line and sprinting towards the end zone at 10 yards per second.  \n",
    " \n",
    " Answer the questions below to determine how fast the camera is turning (in degrees per second).\n",
    "\n",
    " "
   ]
  },
  {
   "cell_type": "markdown",
   "metadata": {},
   "source": [
    "1) From the Figure below , give an equation for $y$ in terms of $\\theta$.\n",
    "\n",
    "<img src=\"football.png\" alt=\"Drawing\" style=\"width: 150px;\"/>"
   ]
  },
  {
   "cell_type": "markdown",
   "metadata": {},
   "source": [
    ">**Answer**: $y(t) = 8 \\tan(\\theta(t)$)\n",
    "\n"
   ]
  },
  {
   "cell_type": "markdown",
   "metadata": {},
   "source": [
    "_Explanation:_\n",
    "\n",
    "We know that $\\tan(\\theta)= \\frac{opposite}{adjacent} \n",
    "$. \n",
    "\n",
    "In our case, the opposite side is $y$ and adjacent side is 8, so $\\tan$($\\theta$) =  $\\frac{y}{8}$. \n",
    "\n",
    "To convert to $y(t)$, we multiply on both sides and get $y(t)$ = $8$ $\\tan$($\\theta$)"
   ]
  },
  {
   "cell_type": "markdown",
   "metadata": {},
   "source": [
    "2a)  What is the physical meaning of $\\frac{dy}{dt}$ ?\n",
    "\n",
    ">**Answer**: The physical meaning of $\\frac{dy}{dt}$ is the speed of Bob Hayes as he is running towards the end line from the side line measured in yds/sec.\n",
    "\n",
    "2b) What is the physical meaning of $\\frac{d\\theta}{dt}$ ?\n",
    "\n",
    ">**Answer**: The physical meaning of $\\frac{d\\theta}{/dt}$ is how fast the camera angle is turning as it keeps pointing at Hayes as he runs towards the goal line."
   ]
  },
  {
   "cell_type": "markdown",
   "metadata": {},
   "source": [
    "3) If $\\theta$ is measured in radians, then $\\frac{d}{dt} \\tan(\\theta(t)) = \\frac{1}{\\cos^2\\theta} \\frac{d\\theta}{dt}$.  Use your answer to problem 1 to find a general relationship between $\\frac{dy}{dt}$ and $\\frac{d\\theta}{dt}$.\n",
    "\n",
    ">**Answer**: If $y = 8\\tan(\\theta)$, then $dy/dt = 8\\frac{ d\\theta/dt}{\\cos^2(\\theta)}$ \n",
    "\n"
   ]
  },
  {
   "cell_type": "markdown",
   "metadata": {},
   "source": [
    "_Explanation:_ \n",
    "\n",
    "We learn that the derivative of $tan(\\theta) = \\frac{1}{\\cos^2\\theta}$ . \n",
    "\n",
    "Using chain rule, we deduce that the derivative of $tan(\\theta(t))= \\frac{1}{\\cos^2\\theta}\\frac{d\\theta}{dt}$ . \n",
    "\n",
    "Thus, $\\frac{dy}{dt}$, using the equation in question one in which $y(t) = 8\\tan(\\theta(t))$, equals $8 \\frac{d(\\theta)/dt} {\\cos^2(\\theta)}$"
   ]
  },
  {
   "cell_type": "markdown",
   "metadata": {},
   "source": [
    "4)  Find $\\frac{d\\theta}{dt}$ (in radians per second) at the instant when $y=8.$ (Hint: $\\cos(\\theta)=\\frac{adjacent}{hypotenuse}$).\n",
    "\n",
    ">**Answer**: $-$$\\frac{5}{8}$ \n",
    "\n"
   ]
  },
  {
   "cell_type": "markdown",
   "metadata": {},
   "source": [
    "_Explanation:_ \n",
    "\n",
    "$$\n",
    "y(t) = 8 \\tan(\\theta(t)) \\Rightarrow \\tan(\\theta(t)) = \\frac{y(t)}{8}.\n",
    "$$\n",
    "\n",
    "Since $y(t) = 8$, then $\\tan(\\theta(t)) = 1$, which means $\\theta(t)$ is  $\\frac{\\pi}{4}$ radians .\n",
    "\n",
    "\n",
    "\n",
    "The formula \n",
    "\n",
    "$$\n",
    "\\frac{dy}{dt} = \\frac{\\frac{d\\theta}{dt}}{\\cos^2(\\theta)}\n",
    "$$\n",
    "\n",
    "implies that \n",
    "\n",
    "$$\n",
    "\\frac{d\\theta}{dt} = \\frac{\\cos^2(\\theta)\\frac{dy}{dt}}{8}.\n",
    "$$\n",
    "\n",
    "\n",
    "We can substitute $\\theta$ with $\\frac{\\pi}{4}$ and $\\frac{dy}{dt}$ with -10.\n",
    "\n",
    "Then we get: \n",
    "\n",
    "$$\n",
    "-\\frac{10 \\cos^2 (\\frac{\\pi}{4})}{8} = - \\frac{5}{4}\\cos^2(\\frac{\\pi}{4}) = - \\frac{5}{4}  (\\frac{\\sqrt 2}{2})^2 = - \\frac{5}{4} * \\frac{1}{2} = -\\frac{5}{8}.\n",
    "$$"
   ]
  },
  {
   "cell_type": "markdown",
   "metadata": {},
   "source": [
    "5)  Use the fact that 1 radian = $(\\frac{180}{\\pi})^o$ to express your answer to problem 4 in degrees per second.\n",
    "\n",
    ">**Answer**: $-$$\\frac{225}{2\\pi}$ degrees per second or around 35.8 degrees per second.\n",
    "\n"
   ]
  },
  {
   "cell_type": "markdown",
   "metadata": {},
   "source": [
    "_Explanation:_ \n",
    "\n",
    "Multiply $-\\frac{5}{8}\\frac{ radians}{ second}$ by $\\frac{180 \\, degrees}{\\pi \\, radians}\n",
    "= \\frac{225 \\, degrees}{2\\pi \\, seconds}$ = $-35.8$ degrees per second."
   ]
  },
  {
   "cell_type": "markdown",
   "metadata": {},
   "source": [
    "6)  Let $R$ be your answer to problem 5.  If the camera revolves at the constant rate of $R$ degrees per second, how many seconds would it take to make one $360^o$ revolution?\n",
    "\n",
    ">**Answer**: It will take the camera approximately 10 seconds to make a full revolution.\n",
    "\n"
   ]
  },
  {
   "cell_type": "markdown",
   "metadata": {},
   "source": [
    "Explanation:\n",
    "\n",
    "Using the cross-canceling unit method, $360 degrees x {\\frac{1\\ second}{R\\ degrees}},$ we cancel the degrees and we are given seconds: $360/35.8 = 10.04$ seconds."
   ]
  },
  {
   "cell_type": "markdown",
   "metadata": {},
   "source": [
    "### Questions"
   ]
  },
  {
   "cell_type": "markdown",
   "metadata": {},
   "source": [
    "1. Find $\\theta$ in degrees if the camera was 3.5 yds from the sidelines. "
   ]
  },
  {
   "cell_type": "markdown",
   "metadata": {},
   "source": [
    "2. If the camera is rotated .5 radians away from the endzone towards Bob Hayes, what yard line must he be on? (Given he is running at velocity of 10yds/sec again)."
   ]
  },
  {
   "cell_type": "markdown",
   "metadata": {},
   "source": [
    "3. Find $\\theta$ in radians when t = 0.4 seconds."
   ]
  },
  {
   "cell_type": "markdown",
   "metadata": {},
   "source": [
    "4. Find $\\frac{d\\theta}{dt}$ in degrees/sec if Bob Hayes had pulled his hamstring and could only run 6 yds/sec at the instant when y=5. "
   ]
  },
  {
   "cell_type": "markdown",
   "metadata": {},
   "source": [
    "5. Find $\\frac{d\\theta}{dt}$ in radians/sec of the angle relative from Bob to the camera when y=4 and he was going 9 yds/sec. "
   ]
  },
  {
   "cell_type": "markdown",
   "metadata": {},
   "source": [
    "## Exercises \n",
    "\n",
    "    \n",
    "Hint: draw pictures to assist you in visualizing the problem and marking necessary measurements. "
   ]
  },
  {
   "cell_type": "markdown",
   "metadata": {},
   "source": [
    "::: {admonition} Exercises\n",
    "\n",
    "\n",
    "1. A baseball diamond is a square with side length of 90ft. A batter hits the ball and runs toward first base with a speed of 20ft/s. At what rate is his distance from second base decreasing when he is halfway to the first base? At what rate is his angle to second base changing? \n",
    "\n",
    "2. At 1:00 PM, Jet-ski A is 7 miles east of Jet-ski B. Jet-ski A is moving north at 20 miles/hr while Jet-ski B is moving south 30 miles/h. How fast is the distance between the Jet-skis changing at 3:00 PM?\n",
    "\n",
    "\n",
    ":::"
   ]
  }
 ],
 "metadata": {
  "celltoolbar": "Edit Metadata",
  "kernelspec": {
   "display_name": "Python 3 (ipykernel)",
   "language": "python",
   "name": "python3"
  },
  "language_info": {
   "codemirror_mode": {
    "name": "ipython",
    "version": 3
   },
   "file_extension": ".py",
   "mimetype": "text/x-python",
   "name": "python",
   "nbconvert_exporter": "python",
   "pygments_lexer": "ipython3",
   "version": "3.11.7"
  }
 },
 "nbformat": 4,
 "nbformat_minor": 4
}
