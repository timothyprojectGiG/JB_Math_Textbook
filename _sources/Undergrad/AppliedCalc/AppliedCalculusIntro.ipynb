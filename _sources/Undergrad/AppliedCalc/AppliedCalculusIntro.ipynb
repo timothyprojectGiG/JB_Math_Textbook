{
 "cells": [
  {
   "cell_type": "markdown",
   "id": "0d291078-8fdd-493d-b6e7-54a790d5962e",
   "metadata": {},
   "source": [
    "# Introduction"
   ]
  },
  {
   "cell_type": "markdown",
   "id": "453064bf-7280-4eda-b996-b2120bc9d567",
   "metadata": {},
   "source": [
    "This chapter takes mathematical principles explored in calculus (graphing lines and linear systems, optimization, related rates, area between two curves, integrals, exponential growth and decay, etc.) and shows their real life applications:\n",
    "\n",
    "- Linear Systems and the Two-commodity Model: Explains how linear systems can be useful in budgeting and shifts in basic economic systems\n",
    "- Marginal and Average Cost: Uses derivatives to introduce the concept of marginal functions\n",
    "- Optimization and Object Design: Uses optimization to help design architecture\n",
    "- Optimization and Cobbs-Douglas Production: Finds minimums and maximums in production output using optimization\n",
    "- Related Rates and Volumes: Shows how to analyze changing volumes using related rates\n",
    "- Related Rates with Trig Functions and Football: Shows how related rates can be useful in analyzing sports plays\n",
    "- Probability Distributions and Drive Thrus: Uses probability techniques to simulate drive thru orders\n",
    "- Normal Distribution and Process Control: Introduces the concept of normal distribution and its relevance to process control in manufacturing\n",
    "- Partial Derivatives and OLS Regression: Shows an application of partial derivatives in data analysis (Ordinary Least Squares)\n",
    "- Area Between Curves and the Gini Index: Uses the calculus technique of finding the area between two curves to represent inequity\n",
    "- Integral Test and Income Streams: Introduces an application of the integral test and convergence/divergence to income and long-range investment\n",
    "- Ordinary Differential Equations and Exponential Growth/Decay: Introduces the use of exponential growth and decay models in pollution and economic modeling"
   ]
  },
  {
   "cell_type": "code",
   "execution_count": null,
   "id": "5d4ee480-2fd8-4108-ad3a-af76cd6fb459",
   "metadata": {},
   "outputs": [],
   "source": []
  }
 ],
 "metadata": {
  "kernelspec": {
   "display_name": "Python 3 (ipykernel)",
   "language": "python",
   "name": "python3"
  },
  "language_info": {
   "codemirror_mode": {
    "name": "ipython",
    "version": 3
   },
   "file_extension": ".py",
   "mimetype": "text/x-python",
   "name": "python",
   "nbconvert_exporter": "python",
   "pygments_lexer": "ipython3",
   "version": "3.11.3"
  }
 },
 "nbformat": 4,
 "nbformat_minor": 5
}
