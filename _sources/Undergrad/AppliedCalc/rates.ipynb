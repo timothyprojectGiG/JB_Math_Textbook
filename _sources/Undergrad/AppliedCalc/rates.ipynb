{
 "cells": [
  {
   "cell_type": "markdown",
   "metadata": {},
   "source": [
    "# Related Rates and Volumes"
   ]
  },
  {
   "cell_type": "markdown",
   "metadata": {},
   "source": [
    "<b> Introduction </b>\n",
    "\n",
    "Along with max/min problems, related rates problems are one of the main applications introduced in calculus.  The idea of related rates is that if two or more variables are related to each  other (eg. radius $r$ and area $A$ of a circle), and one of the quantities is changing with time (for example, the radius $r(t)$ of a pond ripple may be expanding at a rate of $\\frac{dr}{dt} = 1 ft/sec$) than the other variable will also be changing with time (the area enclosed by the circular ripple is also changing with time.)  Knowing the formula relating the area $A$ to the radius $r$, namely\n",
    "\n",
    "$$\n",
    "A=\\pi r^2,\n",
    "$$\n",
    "\n",
    "we may find the relationship between $\\frac{dA}{dt}$ and $\\frac{dr}{dt}:$\n",
    "\n",
    "$$\n",
    "\\frac{dA}{dt}=2\\pi r \\frac{dr}{dt}. \n",
    "$$\n",
    "\n",
    "Thus, for example, at the instant the radius of the ripple is $r=10$, we can find the rate of change of the area: \n",
    "\n",
    "$$ \n",
    "\\frac{dA}{dt} = 2 \\pi (10) (1) in^2/sec.\n",
    "$$"
   ]
  },
  {
   "cell_type": "markdown",
   "metadata": {},
   "source": [
    "<b> Example </b>\n",
    "\n",
    "Suppose sand is emptying from a conical hourglass in such a way that the height of the sand $h_{top}$ in the top part is decreasing at a rate of $2 in/min$. Assume the sand flows smoothly and forms a conical pile in the bottom part, how fast is the height $h_{bottom}$ of the bottom conical pile increasing if the height of the sand in the top cone is 8 inches and the height of the sand in the bottom cone is 4 inches?"
   ]
  },
  {
   "cell_type": "markdown",
   "metadata": {},
   "source": [
    "<img src=\"hourglass.png\" width=\"250px\"> "
   ]
  },
  {
   "cell_type": "markdown",
   "metadata": {},
   "source": [
    "Solution.\n",
    "\n",
    "1) Let $r_{top}$ be the radius of the top conical pile of sand. Note by similar triangles\n",
    "\n",
    "$$\\frac{r_{top}}{h_{top}}=\\frac{5}{10}$$\n",
    "\n",
    "so we deduce that $r_{top}=\\frac{1}{2} h_{top}.$\n",
    "\n",
    "\n",
    "\n"
   ]
  },
  {
   "cell_type": "markdown",
   "metadata": {},
   "source": [
    "2) The volume of the top conical pile of sand is\n",
    "\n",
    "$$V_{top}=\\frac{1}{3} \\pi r_{top}^2 h_{top}.$$\n",
    "\n",
    "Substituting the relationship obtained in step 1), we have\n",
    "\n",
    "$$V_{top}=\\frac{1}{3} \\pi (\\frac{1}{2}h_{top})^2 h_{top}=\\frac{\\pi}{12}h_{top}^3.$$\n"
   ]
  },
  {
   "cell_type": "markdown",
   "metadata": {},
   "source": [
    "3) Differentiating with respect to $t$ the last equation relating $V_{top}$ and $h_{top}$, we obtain\n",
    "\n",
    "$$ \\frac{dV_{top}}{dt} = \\frac{\\pi}{4} h_{top}^2 \\frac{dh_{top}}{dt}.  $$"
   ]
  },
  {
   "cell_type": "markdown",
   "metadata": {},
   "source": [
    "4) Using the given information $h_{top}=8 in$ and $\\frac{dh_{top}}{dt}=-2 in/min$, we find\n",
    "\n",
    "$$ \\frac{dV_{top}}{dt} = \\frac{\\pi}{4} 16 (-2) =-8\\pi \\,in^3/min.  $$"
   ]
  },
  {
   "cell_type": "markdown",
   "metadata": {},
   "source": [
    "5) Under the assumption that all the sand on top flows smoothly to the bottom conical pile, we have\n",
    "\n",
    "$$ \\frac{dV_{bot}}{dt} = 8\\pi \\, in^3/min. $$"
   ]
  },
  {
   "cell_type": "markdown",
   "metadata": {},
   "source": [
    "6) Note that\n",
    "\n",
    "$$ V_{bot} = \\frac{1}{3} \\pi (5^2) h_{bot} = \\frac{25\\pi}{3}h_{bot}.$$"
   ]
  },
  {
   "cell_type": "markdown",
   "metadata": {},
   "source": [
    "7) Differentiating the last equation with respect to $t$ gives\n",
    "\n",
    "$$\\frac{dV_{bot}}{dt} = \\frac{25\\pi}{3}\\frac{dh_{bot}}{dt}.$$"
   ]
  },
  {
   "cell_type": "markdown",
   "metadata": {},
   "source": [
    "8) Substituting the value in Step 5, we find\n",
    "\n",
    "$$8 \\pi = \\frac{25\\pi}{3} \\frac{dh_{bot}}{dt} \\Rightarrow $$\n",
    "\n",
    "$$ \\frac{dh_{bot}}{dt} = \\frac{24}{25} in/min.$$"
   ]
  },
  {
   "cell_type": "markdown",
   "metadata": {},
   "source": [
    "## Exercise\n"
   ]
  },
  {
   "cell_type": "markdown",
   "metadata": {},
   "source": [
    "::: {admonition} Exercise\n",
    "In the following problem, we will outline the steps used to analyze a hypothetical scenario where coffee drips from a filter in the shape of a right circular cone into a pot in the shape of a right circular cylinder.  The radius of the filter and cylinder are both 3 inches and the height of the filter is 6 inches. If the level of the coffee in the cylindrical pot is rising at the constant rate of 1 inch per minute, how fast is the height of the coffee in the filter decreasing when the coffee in the filter is 5 inches deep?\n",
    "\n",
    "1)  On the diagram below, label the radius (3 in) of the filter and cylinder and the height (6 in) of the filter. Also, label the radius  $r_{cone}$ and height $h_{cone}$ of coffee in the filter, and also the height $h_{pot}$ of coffee in the pot.\n",
    "\n",
    "<img src=\"cofeepot.png\" width=\"250px\"> \n",
    "\n",
    "2)  Using similar triangles, express the radius $r_{cone}$ in terms of the height $h_{cone}$.\n",
    "\n",
    "3) Use your answer to problem 2 to give a formula for the volume $V_{cone}$ of coffee in the filter in terms of $h_{cone}$.\n",
    "\n",
    "4)  Find the derivative $\\frac{d}{dt} [V_{cone}]$ assuming that $h_{cone}$ is a functions of time $t$.\n",
    "\n",
    "5) Give a formula for the volume $V_{pot}$ of coffee in the pot in terms of $h_{pot}$.\n",
    "\n",
    "6) Find the derivative $\\frac{d}{dt} [V_{pot}]$ assuming that $h_{pot}$ is a function of time $t$.'\n",
    "\n",
    "7) Give an equation that relates your answers to problem 4 and problem 6.\n",
    "\n",
    "8) Answer the question posed at the beginning.\n",
    "\n",
    "9) What assumption(s) have we made in analyzing this coffee pot?\n",
    "\n",
    ":::"
   ]
  }
 ],
 "metadata": {
  "kernelspec": {
   "display_name": "Python 3 (ipykernel)",
   "language": "python",
   "name": "python3"
  },
  "language_info": {
   "codemirror_mode": {
    "name": "ipython",
    "version": 3
   },
   "file_extension": ".py",
   "mimetype": "text/x-python",
   "name": "python",
   "nbconvert_exporter": "python",
   "pygments_lexer": "ipython3",
   "version": "3.11.7"
  }
 },
 "nbformat": 4,
 "nbformat_minor": 4
}
