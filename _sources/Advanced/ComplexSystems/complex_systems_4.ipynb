{
 "cells": [
  {
   "cell_type": "markdown",
   "id": "bb05057d",
   "metadata": {},
   "source": [
    "# Societal Applications"
   ]
  },
  {
   "cell_type": "markdown",
   "id": "33f0a3f0",
   "metadata": {},
   "source": [
    "Perhaps the most obvious example of complex social systems and justification for urban science is the proliferation of large metropolitan cities.\n",
    "\n",
    "<ul>\n",
    "    <li>RAPID URBANIZATION: The vast majority of those living a traditional subsistent existence are projected to move to urban environments. In 2007, the world's urban population surpassed the rural, and in 2021, the latter peaked and is now in decline [Bettencourt 2021]. The emergence of major metropolitan areas has shifted inter-connectivity of people from familiar local relations to global business between strangers.</li>\n",
    "<li>TRANSFORMATIVE POWER: Urban environments have enormous transformative power which compels a scientific understanding of how cities grow and impact their environment. There is a positive correlation between  urbanization and economic and human development [Bettencourt 2021]. Informed/uninformed political decisions influencing large, high-density masses of people may support or destroy civilization.</li></ul>\n",
    "\n",
    "In this section, we give three examples of urban data analysis which draw on concepts introduced earlier in this Module. A fourth example returns to  consideration of a  complex problem in post-war Tigray, Ethiopia; namely, the plight of internally displaced people (IDP).\n",
    "\n",
    "\n",
    "\n",
    "### Incarceration and Parole\n",
    "The penal population is large and complex, and every individual in this population is different. The state of each offender (incarcerated, parole, not incarcerated, not on parole) is important and must be tracked. The macroscopic state (percentage in each category) while in flux, may be expected to approach a steady state in the absence of policy changes.\n",
    "Raphael [2011] describes a dynamical system categorizing the U.S. population into one of three states: (a) Not Incarcerated, Not on Parole, (b) Incarcerated, (c) Parole.  Table 1 gives the probability that an individual will transition from one state to another in 1980 and also in 2005. Determining the steady state populations associated with these transition probabilities is one way to assess improvement or deterioration of the criminal justice system over this 25 year period. \n",
    "\n",
    "To this end, in 1980, the probability that someone on Parole (third row) transitioned to Not Incarcerated, Not on Parole was roughly .40; the probability that someone on Parole transitioned to being Incarcerated was .13; and the probability that a person on Parole remained on Parole was .47.  Notice that the sum .40+.13+.47 =1 since the three states are the only possible states to which a parolee can transition.  Each of the rows in the transition matrices must add to 1 for the same reason.  \n",
    "\n",
    " <img src=\"table1.png\" width=\"400px\"> \n",
    "\n",
    "Transition matrices can be used to compute the equilibrium levels for each of the 3 groups (Not Incarcerated, Not on Parole, Incarcerated, Parole).  The steady states are the proportion of the total population comprised by each group.  \n",
    "\n",
    "We now describe mathematically how the steady state incarcerated is computed for 1980 using a simplified transition probability matrix based on section A of Table 1.  Consider the transition matrix $M$ defined as follows:\n",
    "\n",
    "$$\n",
    "\\begin{pmatrix}\n",
    ".999 & .08 & .4\\\\\n",
    ".001 & .53 & .13\\\\\n",
    "0 & .39 & .47\n",
    "\\end{pmatrix}\n",
    "$$\n",
    "\n",
    "Note that this is the transpose of the entries in Table 1.\n",
    "\n",
    "\n",
    "Let the steady state population levels be $x_1$ (Not incarcerated, Not on parole), $x_2$ (Incarcerated), $x_3$ (Parole). Then $x_1$, $x_2$, $x_3$ as steady state values must by definition satisfy $x_1+x_2+x_3=1$ and also \n",
    "\n",
    "$$\n",
    "\\begin{pmatrix}\n",
    ".999 & .08 & .4\\\\\n",
    ".001 & .53 & .13\\\\\n",
    "0 & .39 & .47\n",
    "\\end{pmatrix}\n",
    "\\begin{pmatrix}\n",
    "x_1  \\\\\n",
    "x_2 \\\\\n",
    "x_3 \n",
    "\\end{pmatrix}\n",
    "=\n",
    "\\begin{pmatrix}\n",
    "x_1  \\\\\n",
    "x_2 \\\\\n",
    "x_3 \n",
    "\\end{pmatrix}.\n",
    "$$\n",
    "\n",
    "Thus the steady state is an eigenvector of the transition matrix $M$ with eigenvalue 1.  \n",
    "\n",
    "$$\n",
    "\\begin{pmatrix}\n",
    "x_1 \\\\\n",
    "x_2 \\\\\n",
    "x_3 \n",
    "\\end{pmatrix}\n",
    "=\n",
    "\\begin{pmatrix}\n",
    "    .995\\\\\n",
    "    .003\\\\\n",
    "    .002\n",
    "\\end{pmatrix}\n",
    "$$\n",
    "\n",
    "Since $x_1^*= .995$, $x_2^*=.003$, and $x_3^*=.002$ the Not Incarcerated, Not on Parole population  steady state proportion is $99.5\\%$ of the total  population. The steady state Incarcerated population is .3\\% and the Parole population is .2\\%. An equilibrium is stable if nearby  states converge to the equilibrium state as time progresses.  Otherwise, the equilibrium is unstable. In this case, the graph shown below suggests these equilibrium values are stable.\n",
    "\n",
    " <img src=\"fig17.png\" width=\"300px\"> \n",
    " \n"
   ]
  },
  {
   "cell_type": "markdown",
   "id": "985a48b5",
   "metadata": {},
   "source": [
    "### Exercise"
   ]
  },
  {
   "cell_type": "markdown",
   "id": "9c1fb25e",
   "metadata": {},
   "source": [
    ":::{admonition} Exercise\n",
    "4.1  Find the steady state values for 2005 and comment on its similarities/ differences with the steady state values for 1980.\n",
    "\n",
    ":::"
   ]
  },
  {
   "cell_type": "markdown",
   "id": "7eb3165c",
   "metadata": {},
   "source": [
    "## Urban Productivity"
   ]
  },
  {
   "cell_type": "markdown",
   "id": "51a5976d",
   "metadata": {},
   "source": [
    "A city's productivity is a basic socio-economic indicator often measured by GDP per capita. Such an indicator follows a power scaling law of the form \n",
    "\n",
    "$$\n",
    "    GDP_i = a N_i^s\n",
    "$$\n",
    "\n",
    "where $a$ and $s$ are constants and $N_i$ is  the population of city $i$.  Note that given GDP and population  data for $N$ cities, the scaling law implies that\n",
    "\n",
    "$$\n",
    "    \\ln GDP_i = A + s \\ln N_i.\n",
    "$$\n",
    "\n",
    "with $A=\\ln a$. In other words, the power $s$ may be obtained by OLS regression of data points $(\\ln N_i, \\ln GDP_i)$ ($i=1,...,N)$ as shown in <b>Figure 18</b>.\n",
    "\n",
    "\n",
    "<img src=\"fig18.png\" width=\"600px\">\n",
    "\n",
    "<b> Figure 18</b> SAMI for GDP of the largest cities in China shows the scaling behavior as a regression line and uses residuals to assess city productivity.\n",
    "\n",
    "\n",
    "SAMI (Scale Adjusted Metropolitan Index) uses the residuals (deviation from the expected power law scaling) rather than the (log of the) GDP values to assess city performance.  One notes that Suzhou has an exceptionally large residual. In fact, Suzhou experimented with a central business park patterned after Singapore and became one of the most highly developed and prosperous cities in China.  \n"
   ]
  },
  {
   "cell_type": "markdown",
   "id": "6d372110",
   "metadata": {},
   "source": [
    "### Exercise"
   ]
  },
  {
   "cell_type": "markdown",
   "id": "a150bf5a",
   "metadata": {},
   "source": [
    ":::{admonition} Exercise\n",
    "4.2 Where would Hong Kong fall if added to the SAMI graph (<b>Figure 18</b>)?\n",
    "\n",
    ":::"
   ]
  },
  {
   "cell_type": "markdown",
   "id": "529a4d14",
   "metadata": {},
   "source": [
    "## Job Diversification\n",
    "\n",
    "Another interesting and important question about cities is their degree of business diversification. According to US Bureau of Labor Statistics data (https://www.bls.gov/oes/tables.htm) Abilene, TX has over 70,000 jobs which can be classfied into 290 types. Using data for a large number of cities, one can look for a scaling law of the form\n",
    "\n",
    "$$\n",
    "    D_S(N)=c N^s.\n",
    "$$\n",
    "\n",
    "where $D_S(N)$ is the expected number of different job types for a city of size $N$.\n",
    "(Note that the value of $D_S(N)$ depends on the resolution of job classification.) Then as before, one can use SAMI to assess the amount of job diversification for a given city.\n",
    "\n",
    "Business types have various classifications, including the North American Industry Classification System (NAICS), a hierarchical taxonomy (resolution levels 2-6 with 2 a broad sector such as 71 arts and entertainment and 6 the most specific classification such as 711110 dinner theater) of business types. The histogram in the figure below gives the number of jobs in each job type. Abilene TX has over 70,000 jobs classfied into 290 types. (Data Source: US Bureau of Labor Statistics https://www.bls.gov/oes/tables.htm}\n",
    "\n",
    "\n",
    " <img src=\"fig19.png\" width=\"5000px\"> \n",
    " \n",
    "\n",
    "Data for this histogram specifies empirical probabilities that a job is of a given type.  Thus, the types can be ranked in terms of decreasing empirical probabilities.  The Shannon entropy $H=-\\sum_{i=1}^{D_S} P(i\\mid N)\\ln P(i\\mid N)$ where $D_S=290$ is thus a more sophisticated measure of diversification.  \n",
    "\n"
   ]
  },
  {
   "cell_type": "markdown",
   "id": "d7c51175",
   "metadata": {},
   "source": [
    "### Exercise"
   ]
  },
  {
   "cell_type": "markdown",
   "id": "0f337730",
   "metadata": {},
   "source": [
    ":::{admonition} Exercises\n",
    "\n",
    "<b> 4.3</b> Consider the following distributions of students turning in late assignments for three different classes:\n",
    "\n",
    " <img src=\"ex4-3.png\" width=\"600px\"> \n",
    "\n",
    "a) For each of the three class distributions, compute the Shannon entropy\n",
    "\n",
    "$$\n",
    "    H = - \\sum_{i=0}^4 P(i) \\ln P(i)\n",
    "$$\n",
    "\n",
    "where $P(i)$ denotes the empirical probability that a student turns in $i$ late assignments.\n",
    "\n",
    "\n",
    "b) In this context, why does higher entropy indicate higher disorder?\n",
    "\n",
    ":::"
   ]
  },
  {
   "cell_type": "markdown",
   "id": "7b83e2b0",
   "metadata": {},
   "source": [
    "## A Simple IDP Response Model\n",
    "\n"
   ]
  },
  {
   "cell_type": "markdown",
   "id": "78459229",
   "metadata": {},
   "source": [
    "Between Nov 2020 and Nov 2022, the Tigray region in northern Ethiopia suffered a horrific civil war. At one point their were an estimated 2.5 million internally displaced people (IDP) out of a population of 6-7 million. Even a year after the Pretoria Peace agreement, fighting by tribal militia continued in western Tigray, leaving 1 million IDPs. If the IDP problem were the only problem, the situation would be complex. The instability caused by the on-going fighting, widespread trauma due to a huge number of civilian deaths and rape victims, a crippled infrastructure in multiple sectors (eg. health, education) left leaders wondering where to begin the reconstruction.\n",
    "\n",
    "\n",
    "### IDP Data\n",
    "\n",
    "We considered the data set DTM Ethiopia - SA - Tigray - R33XLSX (1.4M) (downloaded on 12/18/23 from https://data.humdata.org/dataset/ethiopia-displacement-northern-region-tigray-idps-site-assessment-iom-dtm?). This data was published by the U.N.'s  International Office of Migration (IOM), gives information about IDP camps collected in Summer 2023,  and was  last modified on August 11, 2023 (Round 33). The dataset contains 638 rows and 468 columns, and thus has information for more than 600 IDP camps. <b> Figure 20</b> summarizes the 468 columns of information provided.\n",
    "\n",
    " <img src=\"fig20.png\" width=\"300px\"> \n",
    " \n",
    " <b> Figure 20</b> International Office of Migration (IOM) IDP data with Excel sheet column references.\n",
    "\n",
    "### Simplifying Assumptions on IDP System Complexity\n",
    "\n",
    "The complexity of the IDP situation  is reduced by two simplifying assumptions: \n",
    "\n",
    "<ul>\n",
    "    <li> Data Reliability: the IOM data set for over 600 IDP camps  is regarded as accurate. For example, number of IDPs in a camp, age and gender breakdown,  and classification of a camp's overcrowding  are not questioned.</li>\n",
    "  <li> Static Equilibrium: We also assume that the 600+ IDP camps scattered across most of Tigray are stable (neither movement of IDP from one camp to another, nor formation of new camps or closing of existing camps.)</li>\n",
    "</ul>\n",
    "\n",
    "A model's output would therefore only have a certain temporal validity and would need to be re-run on future updates to the IOM data.\n",
    "\n",
    "### A  Basic Response Model\n",
    "\n",
    "With such overwhelming needs and very few NGOs responding due to the continued instability and travel warnings, we first considered the following practical assignment problem:  to which IDP camp should\n",
    " a given NGO respond?  We used the following two criteria as the basis for assignments:\n",
    "\n",
    "<b>Effectiveness</b>: The first criteria we considered is effectiveness of a response. That is, an NGO should only be assigned to an IDP camp for which it has sufficient resources to meet the need.\n",
    "    \n",
    "<b>Child Vulnerability</b>: The second criteria we considered is child protection: what proportion of the camp population is children under the age of 3?\n",
    "\n",
    "\n",
    "We first designate the  need categories under consideration  $1,2,...,k$.  For example $1$ might be food, $2$ shelter, etc.  Each camp has a state vector \n",
    "\n",
    "$$\n",
    "s=<s_1,s_2,...,s_k>\n",
    "$$\n",
    "\n",
    " where $s_i=1$ if the camp has need $i$ and 0 otherwise.  For simplicity we assume the need of the camp is given by \n",
    "\n",
    "$$\n",
    "Ns= <Ns_1,Ns_2,...,Ns_k>\n",
    "$$\n",
    "\n",
    "where $N$ is the number of people in the camp.\n",
    "\n",
    "Each NGO has a capacity vector of the form\n",
    "\n",
    "$$\n",
    "<n_1,n_2,...,n_k>\n",
    "$$\n",
    "\n",
    "where $n_i$ indicates the number of people for which it can supply need $i$. An IDP camp with need $Ns$ is feasible for an NGO  if and only if \n",
    "\n",
    "$$\n",
    "Ns= <Ns_1,Ns_2,...,Ns_k>  \\preceq  <n_1,n_2,...,n_k>,\n",
    "$$\n",
    "\n",
    "where $p \\preceq q$ if each component of $p$ is less than or equal to the corresponding component  of $q$. The figure below shows a basic response model output which maps effective response options for a hypothetical NGO. Clicking on an icon gives the camp name and proportion of children under 3. (See the JNB \"IDP Response\" available at https://drive.google.com/drive/folders/1zqQB-hEPocxOVOjiI0Q32XDKVJoq6PI3?usp=sharing.)\n",
    "\n",
    " <img src=\"fig21.png\" width=\"600px\">\n",
    " \n",
    "Hypothetical NGO's map of effective response IDP camp locations  with proportion of children under age 3. See the JNB 'IDP Response' available at https://drive.google.com/drive/folders/1zqQB-hEPocxOVOjiI0Q32XDKVJoq6PI3?usp=sharing"
   ]
  },
  {
   "cell_type": "markdown",
   "id": "f2eb3a48",
   "metadata": {},
   "source": [
    "### ENTROPY IN SOCIETAL APPLIATIONS\n",
    "\n",
    "Entropy for societal applications can be introduced in an intuitive way using simple examples. We suggest that there is more than one way to interpret the meaning of entropy depending on the context.  The computation of entropy is based on empirical histograms whose choice of bins determines the meaning of higher or lower entropy.  \n",
    "\n",
    "**Example 1:  ENTROPY AS A MEASURE OF DISAGREEMENT**\n",
    "\n",
    "Suppose a campus club's leadership committee comprised of $N$ students is deliberating the use of funding for a certain year-end activity and must decide between Option A and Option B. The table below shows several possibilities where a proportion $p_1=p$ of the committee strongly prefers option A and a proportion $p_2=1-p$ strongly prefers option B. The degree of disagreement is reflected by   the (Shannon) entropy defined as\n",
    "\n",
    "$$\n",
    "H(p_1,p_2) = -\\sum_{i=1}^2 p_i \\ln p_i = -[p\\ln p + (1-p)\\ln(1-p)],\n",
    "$$\n",
    "\n",
    "where $0\\le p \\le 1$.\n",
    "\n",
    "<table style=\"width:50%\">\n",
    "    <tr>\n",
    "        <th> Committee Preferences </th>\n",
    "        <th>p1</th>\n",
    "        <th>p2</th>\n",
    "        <th>Disagreement</th>\n",
    "        <th> H</th>\n",
    "    </tr>   \n",
    "   <tr>\n",
    "       <td>All favor Option A</td>\n",
    "       <td>1 </td>\n",
    "       <td>0 </td>\n",
    "       <td>none</td>\n",
    "       <td>0</td>\n",
    "   </tr>   \n",
    "   <tr>\n",
    "       <td>All favor Option B</td>\n",
    "       <td>0 </td>\n",
    "       <td>1 </td>\n",
    "       <td>none</td>\n",
    "       <td>0</td>\n",
    "    </tr>\n",
    "    <tr>\n",
    "        <td>90\\% favor Option A</td>\n",
    "        <td>.9</td>\n",
    "        <td>.1</td>\n",
    "        <td>small</td>\n",
    "        <td>.325</td>\n",
    "    </tr>\n",
    "    <tr>    \n",
    "    <td>50\\% favor each option</td>\n",
    "        <td>.5</td>\n",
    "        <td>.5 </td>\n",
    "        <td>maximum</td>\n",
    "        <td> .69</td>\n",
    "    </tr>\n",
    "</table>\n",
    " Note \n",
    "\n",
    "<ul>\n",
    "    <li>  H=0 when $p_1=1$,$p_2=0$ or when $p_1=0$,$p_2=1$.</li>\n",
    "<li> H has a maximum at $p_1=p_2=.5$ as can be seen from a graph of $H(p)=-[p\\ln p + (1-p)\\ln(1-p)]$ (see Figure below) and verified using calculus:\n",
    "</li>\n",
    " </ul>\n",
    "    \n",
    "$$\n",
    "H'(p)=-\\ln p - 1 + 1 + \\ln(1-p)= 0 \\Rightarrow \\ln(\\frac{1-p}{p})=0\\Rightarrow \\frac{1-p}{p}=1\\Rightarrow p=.5.\n",
    "$$\n",
    "    \n",
    "    \n",
    "    \n",
    " <img src=\"H.png\" width=\"100px\"> \n",
    "\n",
    "Note that the entropy generalizes to any number of options $n\\ge 2$: \n",
    "\n",
    "$$\n",
    "H(p_1,p_2,...,p_n)=-\\sum_{p_i>0} p_i \\ln p_i.\n",
    "$$\n",
    "\n",
    " where $p_i\\ge 0$ and  $\\sum p_i=1$. For the case where the committee is split evenly between the $n$ options ($p_i=1/n$ for $i=1,2,...,n$), the entropy is\n",
    "\n",
    "$$\n",
    "H= -\\sum_{i=1}^n (1/n) \\ln(1/n) = \\ln n.\n",
    "$$\n",
    "    \n",
    "Thus, for an even split between two options, the level of disagreement is $H=\\ln 2 \\approx .69 $ and for three options it is $\\ln 3 \\approx 1.1.$\n",
    "\n",
    "\n"
   ]
  },
  {
   "cell_type": "markdown",
   "id": "a467e615",
   "metadata": {},
   "source": [
    "**Example 2  ENTROPY AS A MEASURE OF DIVERSIFICATION**\n",
    "\n",
    "Business types have various classifications, including the North American Industry Classification System (NAICS), a hierarchical taxonomy with resolution levels 2-6. Level 2 describes broad sectors such as \"71= arts and entertainment\" and level 6 the most granular classifications of businesses such as \"711110= dinner theater\". Using  data from the US Bureau of Labor Statistics https://www.bls.gov/oes/tables.htm, a histogram such as Figure 4 gives in order of decreasing frequency the number of jobs in each of $N$ job categories.\n",
    "\n",
    " <img src=\"jobs.png\" width=\"400px\"> \n",
    " \n",
    "Data for this histogram specifies empirical probabilities that a job is of a given category.  The Shannon entropy  is computed from the histogram data as $H=-\\sum_{p_i>0} p_i\\ln p_i$ where $p_i$ is the proportion of jobs belonging to job type $i$ and $N$ is the number of job types ($N=290$ and $H=7.25$ for Abilene. (See the JNB \"Job Diversification\" available at https://tinyurl.com/3awd2kvx.) \n",
    "\n",
    "This entropy can be used to compare the level of job diversification in different cities. A higher entropy reflects greater diversification of employment. \n",
    "\n"
   ]
  },
  {
   "cell_type": "markdown",
   "id": "29c31fc1",
   "metadata": {},
   "source": [
    "**Example 3: ENTROPY AS A MEASURE OF TEST DEFICIENCY**\n",
    "\n",
    "1) Let's specify the distribution of number of test failures (0,1,2, or 3) for six sections of a calculus course. For example, \n",
    "\n",
    "in section S1, 30 students have zero test failures.  \n",
    "\n",
    "In section S2, 19 students have zero test failures and 1 student has one test failure.\n",
    "\n",
    "In section S3, 15 students have zero test failures, 5 students have one test failure, 3 students have two test failures, and 2 students have three test failures.\n",
    "\n",
    "In section S4, 1 student has zero test failures, 5 students have two test failures, and 4 students have three test failures.\n",
    "\n",
    "In section S5, the numbers of failures is exactly double that of extion S4.\n",
    "\n",
    "Section S6 resembles section S2, with 19 students in one bin and 1 student in another bin.  (The numbers 19 and 1 are the same, but the deficiencies are completely different.)"
   ]
  },
  {
   "cell_type": "code",
   "execution_count": 1,
   "id": "824c75e9",
   "metadata": {},
   "outputs": [],
   "source": [
    "S1=[30,0,0,0]\n",
    "S2=[19,1,0,0]\n",
    "S3=[15,5,3,2]\n",
    "S4=[1,0,5,4]\n",
    "S5=[2,0,10,8]\n",
    "S6=[1,0,0,19]"
   ]
  },
  {
   "cell_type": "markdown",
   "id": "22703b08",
   "metadata": {},
   "source": [
    "Note that the total number $N$ of students in all six sections is $N$=30+20+25+10+20+20=125 and the mean number of tests failed $U= 57/125\\approx .456$."
   ]
  },
  {
   "cell_type": "markdown",
   "id": "66a35749",
   "metadata": {},
   "source": [
    "2) The mean number of tests failed in a section (m), the weighted mean ($w_m$) Shannon entropy ($H$) and weighted Shannon entropy for deficiency ($H_d$) are given respectively by\n",
    "\n",
    "$$\n",
    "m = \\sum_{p_i>0} i \\,p_i =\\sum_{n_i>0} i \\, \\frac{n_i}{n} \n",
    "$$\n",
    "\n",
    "$$\n",
    "m_w= \\frac{1}{N}\\sum_{p_i>0} n_i\\,i \\,p_i = -\\frac{1}{N}\\sum_{n_i>0} n_i\\,i\\, \\frac{n_i}{n}\n",
    "$$\n",
    "\n",
    "$$\n",
    "H = - \\sum_{p_i>0} p_i \\ln p_i = \\sum_{n_i>0} \\frac{n_i}{n}\\ln(\\frac{n_i}{n}) ,\n",
    "$$\n",
    "\n",
    "and\n",
    "\n",
    "$$\n",
    "H_{d} = - \\frac{1}{N}\\sum_{p_i>0}  n_i\\,i\\,p_i\\ln(p_i) =- \\frac{1}{N}\\sum_{n_i>0}  n_i\\,i\\, \\frac{n_i}{n} \\,  \\ln (\\frac{n_i}{n}),\n",
    "$$\n",
    "\n",
    "where\n",
    "\n",
    "i) $N$ is the total number of students in all sections \n",
    "\n",
    "ii) $i$=number of deficiencies (tests failed) \n",
    "\n",
    "iii) $n_i=$number of students in a given section failing $i$ tests\n",
    "\n",
    "iv) $p_i=n_i/n$ where $n$ is the number of students in the given section \n",
    "\n",
    "\n"
   ]
  },
  {
   "cell_type": "code",
   "execution_count": 2,
   "id": "cf481048",
   "metadata": {
    "tags": [
     "hide-input"
    ]
   },
   "outputs": [],
   "source": [
    "def TestD(sec):\n",
    "    n=np.sum(sec)\n",
    "    N=125  #total number of students\n",
    "    \n",
    "    ### Compute entropy and weighted entropy\n",
    "    H=0\n",
    "    Hd=0\n",
    "    for i in np.arange(0,4,1):\n",
    "        if sec[i]>0:\n",
    "            H = H - (sec[i]/n)*np.log(sec[i]/n)\n",
    "            Hd = Hd - sec[i]*i*(sec[i]/n)*np.log(sec[i]/n)\n",
    "    Hd=Hd/N\n",
    "    H=np.round(H,3)\n",
    "    Hd=np.round(Hd,3)\n",
    "\n",
    "    ### Compute mean and weighted mean\n",
    "    m=0\n",
    "    mw=0\n",
    "    for i in np.arange(0,4,1):\n",
    "        m = m + i*sec[i]/n\n",
    "        mw= mw + sec[i]*i*sec[i]/n\n",
    "    mw=mw/N\n",
    "    m=np.round(m,3)\n",
    "    mw=np.round(mw,3)\n",
    "\n",
    "    print(\"Test Failures\",sec)\n",
    "    print(\"Entropy H=\",H)\n",
    "    print(\"mean m=\",m)\n",
    "    print(\"weighted mean m_w=\",mw)\n",
    "    print(\"Deficiency Entropy Hd=\",Hd)\n",
    "    return "
   ]
  },
  {
   "cell_type": "markdown",
   "id": "b0894053",
   "metadata": {},
   "source": [
    "3) We can now compute the entropy $H$, deficiency entropy $H_d$ , mean $m$, and weighted mean $w_m$ for each section."
   ]
  },
  {
   "cell_type": "code",
   "execution_count": 5,
   "id": "726d0362",
   "metadata": {},
   "outputs": [
    {
     "name": "stdout",
     "output_type": "stream",
     "text": [
      "Test Failures [30, 0, 0, 0]\n",
      "Entropy H= 0.0\n",
      "mean m= 0.0\n",
      "weighted mean m_w= 0.0\n",
      "Deficiency Entropy Hd= 0.0\n"
     ]
    }
   ],
   "source": [
    "TestD(S1)"
   ]
  },
  {
   "cell_type": "code",
   "execution_count": 6,
   "id": "5d73c9b8",
   "metadata": {},
   "outputs": [
    {
     "name": "stdout",
     "output_type": "stream",
     "text": [
      "Test Failures [19, 1, 0, 0]\n",
      "Entropy H= 0.199\n",
      "mean m= 0.05\n",
      "weighted mean m_w= 0.0\n",
      "Deficiency Entropy Hd= 0.001\n"
     ]
    }
   ],
   "source": [
    "TestD(S2)"
   ]
  },
  {
   "cell_type": "code",
   "execution_count": 7,
   "id": "c5413498",
   "metadata": {},
   "outputs": [
    {
     "name": "stdout",
     "output_type": "stream",
     "text": [
      "Test Failures [15, 5, 3, 2]\n",
      "Entropy H= 1.085\n",
      "mean m= 0.68\n",
      "weighted mean m_w= 0.018\n",
      "Deficiency Entropy Hd= 0.035\n"
     ]
    }
   ],
   "source": [
    "TestD(S3)"
   ]
  },
  {
   "cell_type": "code",
   "execution_count": 8,
   "id": "546fc125",
   "metadata": {},
   "outputs": [
    {
     "name": "stdout",
     "output_type": "stream",
     "text": [
      "Test Failures [1, 0, 5, 4]\n",
      "Entropy H= 0.943\n",
      "mean m= 2.2\n",
      "weighted mean m_w= 0.078\n",
      "Deficiency Entropy Hd= 0.063\n"
     ]
    }
   ],
   "source": [
    "TestD(S4)"
   ]
  },
  {
   "cell_type": "code",
   "execution_count": 9,
   "id": "03b5e24c",
   "metadata": {},
   "outputs": [
    {
     "name": "stdout",
     "output_type": "stream",
     "text": [
      "Test Failures [2, 0, 10, 8]\n",
      "Entropy H= 0.943\n",
      "mean m= 2.2\n",
      "weighted mean m_w= 0.157\n",
      "Deficiency Entropy Hd= 0.126\n"
     ]
    }
   ],
   "source": [
    "TestD(S5)"
   ]
  },
  {
   "cell_type": "code",
   "execution_count": 10,
   "id": "dc74c96b",
   "metadata": {},
   "outputs": [
    {
     "name": "stdout",
     "output_type": "stream",
     "text": [
      "Test Failures [1, 0, 0, 19]\n",
      "Entropy H= 0.199\n",
      "mean m= 2.85\n",
      "weighted mean m_w= 0.433\n",
      "Deficiency Entropy Hd= 0.022\n"
     ]
    }
   ],
   "source": [
    "TestD(S6)"
   ]
  },
  {
   "cell_type": "markdown",
   "id": "47af9090",
   "metadata": {},
   "source": [
    "4) We can create a histogram of the data"
   ]
  },
  {
   "cell_type": "markdown",
   "id": "29b312d3",
   "metadata": {},
   "source": [
    "### Exercises"
   ]
  },
  {
   "cell_type": "code",
   "execution_count": 11,
   "id": "1e2c175e",
   "metadata": {},
   "outputs": [
    {
     "data": {
      "image/png": "[encoded data removed]",
      "text/plain": [
       "<Figure size 915x400 with 1 Axes>"
      ]
     },
     "metadata": {},
     "output_type": "display_data"
    }
   ],
   "source": [
    "import matplotlib.pyplot as plt\n",
    "\n",
    "plt.figure(figsize=(9.15, 4))\n",
    "\n",
    "count=('0','1','2','3')\n",
    "frequency = {\n",
    "    'S1 (H=0, m=0, m_w=0,H_d=0)': S1,\n",
    "    'S2 (H=.20, m=.05, m_w=.000,H_d=.001)': S2,\n",
    "    'S3 (H=1.09, m=.68, m_w=.018,H_d=.035)': S3,\n",
    "    'S4 (H=.94, m=2.2, m_w=.078,H_d=.063)': S4,\n",
    "    'S5 (H=.94, m=2.2, m_w=.157, H_d=.126)':S5,\n",
    "    'S6 (H=.20, m=2.85, m_w=.433, H_d=.022)':S6\n",
    "}\n",
    "x = np.arange(len(count))  # the label locations\n",
    "width=.15\n",
    "multiplier=.2\n",
    "\n",
    "for attribute, measurement in frequency.items():\n",
    "    offset = .125+width * multiplier\n",
    "    rects = plt.gca().bar(x +offset, measurement, width, label=attribute)\n",
    "    #plt.gca().bar_label(rects, padding=3)\n",
    "    multiplier += 1\n",
    "    \n",
    "for i in np.arange(0,4,1):\n",
    "    if S1[i]>0:\n",
    "        plt.gca().text(x[i]+.07,S1[i],'S1',size=12,ha='left',va='bottom')\n",
    "    if S2[i]>0:\n",
    "        plt.gca().text(x[i]+.22,S2[i],'S2',size=12,ha='left',va='bottom')\n",
    "    if S3[i]>0:\n",
    "        plt.gca().text(x[i]+.39,S3[i],'S3',size=12,ha='left',va='bottom')\n",
    "    if S4[i]>0:\n",
    "        plt.gca().text(x[i]+.54,S4[i],'S4',size=12,ha='left',va='bottom')\n",
    "    if S5[i]>0:\n",
    "        plt.gca().text(x[i]+.69,S5[i],'S5',size=12,ha='left',va='bottom')\n",
    "    if S6[i]>0:\n",
    "        plt.gca().text(x[i]+.84,S6[i],'S6',size=12,ha='left',va='bottom')\n",
    "# Add some text for labels, title and custom x-axis tick labels, etc.\n",
    "plt.gca().set_xlabel('Number of Tests Failed',size='15')\n",
    "plt.gca().set_ylabel('Number of Students',size='15')\n",
    "plt.gca().set_xticks(x + 3.5*width, count)\n",
    "plt.gca().legend(loc='upper left', ncols=2,fontsize='9.75')\n",
    "plt.gca().set_ylim(0, 50)\n",
    "plt.xticks(fontsize= 15)\n",
    "plt.yticks(fontsize= 15)\n",
    "plt.grid(axis='y')\n",
    "plt.savefig(\"fig1.png\")\n",
    "plt.show()"
   ]
  },
  {
   "cell_type": "markdown",
   "id": "b2fe2638",
   "metadata": {},
   "source": [
    ":::{admonition}Exercises\n",
    "\n",
    "4.4.1 \n",
    "\n",
    "Suppose  a group of $x$ NGO's denoted $NGO_1,...,NGO_x$  are considering  a response in a region $R$ with  $y$ camps denoted $Camp_1,...,Camp_y$ (we assume $x\\le y$). An effective total response is of the form \n",
    "\n",
    "$$\n",
    "<a_1,a_2,...,a_x>\n",
    "$$\n",
    "  \n",
    "where $Camp_{a_i}$ is feasible for $NGO_i$ ($i=1,2,...,x$).  What is the probability of a random assignment being effective if there are $f$ effective total responses? \n",
    "\n",
    "4.4.2    Suppose   $NGO_i$ has a utility function which measures its preference for a feasible assignment to a camp $a_i$. Utility is measured by efficiency. For example, a camp which is easier to reach (lower total cost to transport staff and materials) would have higher utility.  Explain how effective total responses might be rank-ordered by efficiency. \n",
    "\n",
    "4.4.3 How might a basic response model be modified in the case where there are no effective total responses (overwhelming needs) ?\n",
    "\n",
    "\n",
    ":::"
   ]
  },
  {
   "cell_type": "markdown",
   "id": "f18edfe3",
   "metadata": {},
   "source": [
    "#### References\n",
    "\n",
    "Amdat, W.C. (2022). \"The Chicago Hardship Index: An Introduction to Urban Inequity.\" Available at https://www.tandfonline.com/doi/full/10.1080/26939169.2021.1994489\n",
    "\n",
    "Bertin, E. (2021). Statistical Physics of Complex Systems: A Concise Introduction (3rd Edition). Cham, Switzerland: Springer Nature.\n",
    "\n",
    "GAISE College Report ASA Revision Committee, (2016), \"Guidelines for Assessment and Instruction in\n",
    "\t\tStatistics Education College Report 2016,\" available at: https://www.amstat.org/asa/files/pdfs/GAISE/GaiseCollege_Full.pdf \n",
    "\n",
    " Hartnett, K. (2022), \"How Shannon entropy imposes fundamental limits on communication,\" available at https://www.quantamagazine.org/how-claude-shannons-concept-of-entropy-quantifies-information-20220906/\n",
    "\n",
    "Lesser, L. (2007),\"Critical Values and Transforming Data: Teaching Statistics with Social Justice.\" Journal of Statistics Education, 15:1,  DOI:10.1080/10691898.2007.11889454\n",
    "\n",
    "Nawrock, D.N. and Harding W.H. (1986), \"State-value weighted entropy as a measure of investment risk,\" available at https://www.researchgate.net/publication/24072353_State-Value_Weighted_Entropy_as_a_Measure_of_Investment_Risk\n",
    "  \n",
    "Saraiva, P. (2023) \"On Shannon entropy and its applications.\" Available at https://www.sciencedirect.com/science/article/pii/S2307410823000433\n",
    "\t\t\n",
    "\t\n",
    "Schramm, H., Koehlmoos T.,  and  Nestler, S. (2018), \"Statistics in Pursuit of Social Justice,\" available at:https://csbaonline.org/about/news/statistics-in-pursuit-of-social-justice\n",
    "\t\n",
    " Wang, L., Whittemore, K., Johnston, S.A., and Stafford P. (2017), \"Entropy is a simple measure of the antibody profile and is an indicator of health status: proof of concept,\" available at https://www.nature.com/articles/s41598-017-18469-6} "
   ]
  }
 ],
 "metadata": {
  "celltoolbar": "Edit Metadata",
  "kernelspec": {
   "display_name": "Python 3 (ipykernel)",
   "language": "python",
   "name": "python3"
  },
  "language_info": {
   "codemirror_mode": {
    "name": "ipython",
    "version": 3
   },
   "file_extension": ".py",
   "mimetype": "text/x-python",
   "name": "python",
   "nbconvert_exporter": "python",
   "pygments_lexer": "ipython3",
   "version": "3.11.7"
  }
 },
 "nbformat": 4,
 "nbformat_minor": 5
}
