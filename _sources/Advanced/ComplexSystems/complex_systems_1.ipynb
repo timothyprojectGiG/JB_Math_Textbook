{
 "cells": [
  {
   "cell_type": "markdown",
   "id": "40272062",
   "metadata": {},
   "source": [
    "# Introduction"
   ]
  },
  {
   "cell_type": "markdown",
   "id": "a8ce9495",
   "metadata": {},
   "source": [
    "```{index} Tigray\n",
    "```\n",
    "\n",
    "```{index} International Office for Migration (IOM)\n",
    "```\n",
    "\n",
    "```{index} internally displaced people (IDP)\n",
    "```"
   ]
  },
  {
   "cell_type": "markdown",
   "id": "9d0a4cd4",
   "metadata": {},
   "source": [
    "## Setting the Scene\n",
    "A brutal two year civil war (Nov 2020-Nov 2022) crippled the entire infrastructure of the Tigray region of northern Ethiopia. All 6-7 million people in the region experienced trauma due to a large number of civilian deaths and victims of rape as a weapon of war, as well as a 2-year blockade of internet, \n",
    " cell phone communication, banking, and humanitarian aid.  Today, there are food shortages everywhere, and hundreds of deaths by starvation have occurred during the writing of this Module. Poverty abounded everywhere during the war and continues to be a major problem with many women forced into prostitution for survival. \n",
    "Almost all medical services were incapacitated and doctors were among those left begging on the streets for food. In the education sector, over 2,000 schools were closed during the war.   Without outside intervention, over two million children  faced their third year out of school. To compound this already overwhelming scenario, one year after the Pretoria peace agreement was signed, fighting continued in the western part of Tigray, leaving 1 million internally displaced people (IDP) living in over 600 IDP camps scattered across the rest of the region ( **Figure 1**). Maintaining a minimum holistic standard of living for one million IDP (food, water, sanitation, health, education, safety,...) is a complex problem. Is this a problem for the Tigray regional government to implement a well-orchestrated and funded policy across the region? (With all the other problems it faces, how high a priority can the regional government give to the IDP's?)  Or, is this a problem requiring intervention by individuals, NGOs, and local district governments (woredas)   who might make a difference for selected groups of IDP's?\n",
    "\n",
    "Let's narrow our focus to the following scenario which considers just one aspect of the complex IDP problem. A small NGO involved in disaster relief has experience in supporting education within IDP camps. Data made available by the U.N.'s International Office for Migration (IOM) in August 2023 \n",
    "(https://data.humdata.org/dataset/ethiopia-displacement-northern-region-tigray-idps-site-assessment-iom-dtm?) includes information whether or not IDP camps have education needs in the following areas:\n",
    "\n",
    "- pre-primary; \n",
    "- secondary;\n",
    "- resources;\n",
    "- quality/satisfaction;\n",
    "- girl attendance;\n",
    "- boy attendance; and\n",
    "- teachers.\n",
    "\n",
    "<img src=\"fig1.png\" width=\"600px\">   \n",
    "\n",
    "**Figure 1** Numbers of IDP camps in Tigray.  The regional capital (Mekelle) and second largest city (Shire) have the largest number of camps.\n",
    "\n",
    "To maximize effective  impact in an efficient way, it would make sense for the NGO to base its efforts either in the regional capital (Mekelle) or the second largest city (Shire) since they have roughly half of all the IDP camps and half of the one million IDPs.   Moreover, these cities  have  direct flights to and from Addis Ababa which is important for safety considerations.  A specific question we pose here and re-visit at the end of this Module is:  \"which city has the greater need for the NGO's intervention due to a higher degree of educational disorder in its IDP camps?\"\n",
    "\n",
    "\n"
   ]
  },
  {
   "cell_type": "markdown",
   "id": "5c122264",
   "metadata": {},
   "source": [
    "```{index} complex system science\n",
    "```\n",
    "\n",
    "```{index} redlining\n",
    "```\n",
    "\n",
    "```{index} collective efficacy\n",
    "```"
   ]
  },
  {
   "cell_type": "markdown",
   "id": "d7301cff",
   "metadata": {},
   "source": [
    "\n",
    "## Complex System Science\n",
    "\n",
    " This Module offers a brief introduction to complex system science. Complexity is an intuitive concept which arises across disciplines, including urban issues such as the problem of an influx of large numbers of displaced people.  The science of complex systems seeks to develop a rigorous methodology  for analyzing overall system behavior based on interactions involving a large number of constituent parts or agents.  Analytical methods, including those arising from statistical physics, utilize a wide range of undergraduate level mathematics such as calculus, linear algebra, differential equations, and probability and statistics.  Our goal is to show how a few important concepts found in these quantitative methods (for example, equilibrium, phase transition, and entropy) support basic notions of complex systems, and how they offer a perspective on practical questions in complex human society. \n",
    " \n",
    " \n",
    "From a humanitarian standpoint, two goals of complex system science include:\n",
    "\n",
    "- prevent dangerous misunderstanding and unjust practices associated with an erroneous  view of complex social/environmental systems; and \n",
    "- provide insights which can help facilitate enduring solutions to complex societal problems.\n",
    "\n",
    " A classic example of a dangerous misunderstanding of a complex situation in Chicago is the  urban redlining maps from the 1920's  which classified neighborhoods with high density of African Americans as 'hazardous' and deemed mortgages not insurable by the F.H.A. Redlining permanently crippled Black home ownership (see **Figure 2**, left panel). As for a recent example of a helpful insight into the same urban area,   Robert Sampson [2012] introduced a concept called *collective efficacy* (cooperation between community members) suggesting that violent crime reduction might be facilitated by  a coherent community-based approach (**Figure 2** right panel).\n",
    "\n",
    " <img src=\"fig2.png\" width=\"600px\"> \n",
    " \n",
    " **Figure 2** (Left) Home Owners' Loan Corporation neighborhood classifications and present day city owned empty lots. The circled area with a high concentration of empty lots was labeled 'Hazardous'. Map Credit: Claire Wagner   (Right) Collective efficacy (CE) levels and homicides. Map credit: Robert Sampson https://www.youtube.com/watch?v=gEXSOUqwztA (Used with permission of the author.)\n",
    "       \n",
    "\n",
    "\n",
    "\n",
    "This Module is organized into three sections:\n",
    "\n",
    "- Fundamental Concepts **(Section 2**); \n",
    "- Mathematical Formalism from Statistical Physics (**Section 3**); and \n",
    "- Societal Applications (**Section 4**).\n",
    "\n",
    "The Exercises are an integral part of this Module, and should at least be read if not attempted in earnest (solutions to the Exercises are included at the end of the Module).  Python Jupyter Notebooks (JNBs) are also an important part of this Module and available to the reader at https://drive.google.com/drive/folders/1zqQB-hEPocxOVOjiI0Q32XDKVJoq6PI3?usp=sharing.\n",
    "\n"
   ]
  },
  {
   "cell_type": "code",
   "execution_count": null,
   "id": "aa254da4",
   "metadata": {},
   "outputs": [],
   "source": []
  }
 ],
 "metadata": {
  "kernelspec": {
   "display_name": "Python 3 (ipykernel)",
   "language": "python",
   "name": "python3"
  },
  "language_info": {
   "codemirror_mode": {
    "name": "ipython",
    "version": 3
   },
   "file_extension": ".py",
   "mimetype": "text/x-python",
   "name": "python",
   "nbconvert_exporter": "python",
   "pygments_lexer": "ipython3",
   "version": "3.12.3"
  }
 },
 "nbformat": 4,
 "nbformat_minor": 5
}
