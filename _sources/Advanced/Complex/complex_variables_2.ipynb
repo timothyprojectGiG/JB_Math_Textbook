{
 "cells": [
  {
   "cell_type": "markdown",
   "metadata": {},
   "source": [
    "# Complex Analysis Background"
   ]
  },
  {
   "cell_type": "markdown",
   "metadata": {},
   "source": [
    "### 2.1 The Complex Function $f(z)$"
   ]
  },
  {
   "cell_type": "markdown",
   "metadata": {},
   "source": [
    "```{index} complex function\n",
    "```"
   ]
  },
  {
   "cell_type": "markdown",
   "metadata": {},
   "source": [
    "```{index} complex number\n",
    "```"
   ]
  },
  {
   "cell_type": "markdown",
   "metadata": {},
   "source": [
    "A complex function $w=f(z)$ maps a complex number $z\\in \\mathbb{C}$ to a complex number $w\\in\\mathbb{C}$ where the set of complex numbers, $\\mathbb{C}$, is defined as\n",
    "\n",
    "$$\n",
    "\\mathbb{C} = \\{x+iy : x, y \\in \\mathbb{R}, i^2=-1\\}, \n",
    "$$\n",
    "\n",
    "where $\\mathbb{R}$ denotes the set of real numbers.  Basic arithmetic operations in $\\mathbb{C}$ include:\n",
    "\n",
    "<b>Addition and Subtraction:</b> $\\, z_1\\pm z_2=(x_1+iy_1)\\pm (x_2+iy_2) = (x_1\\pm x_2)+i(y_1 \\pm y_2)$;\n",
    "\n",
    " <b>Multiplication:</b> $\\, z_1z_2=(x_1+iy_1)(x_2+iy_2)=x_1x_2-y_1y_2+i(x_1y_2+x_2y_1)$; and\n",
    " \n",
    "<b>Division: </b> $\\frac{z_1}{z_2}=\\frac{x_1+iy_1}{x_2+iy_2}=\\frac{(x_1+iy_1)(x_2-iy_2)}{(x_2+iy_2)(x_2-iy_2)}=\\frac{x_1x_2+y_1y_2}{x_2^2+y_2^2}+i\\frac{x_2y_1-x_1y_2}{x_2^2+y_2^2}$ .\n",
    "\n",
    "\n"
   ]
  },
  {
   "cell_type": "markdown",
   "metadata": {},
   "source": [
    "Each complex number $z=x+iy$ is identified with a point $z=(x,y)$ in the Cartesian plane as shown in the figure below. \n",
    "\n",
    "<img src=\"fig2.png\" width=\"200px\"> \n",
    "\n",
    "\n",
    "We call $x=Re(z)$ the real part of $z$, and $y=Im(z)$  the imaginary part. Complex numbers are also expressed in polar or exponential form as $z=r\\,e^{i\\theta}$, where $r=|z|=\\sqrt{x^2+y^2}$ is called the modulus of $z$ and $\\theta=\\arctan{\\frac{y}{x}}$ is called the **argument** of $z$ (denoted $\\arg z$) . Note that $|z|$ can be thought of as the ``magnitude\" of $z$, and $|z_1-z_2|=\\sqrt{(x_1-x_2)^2+(y_1-y_2)^2}$ the distance between $z_1=(x_1,y_1)$ and $z_2=(x_2,y_2)$ as points in the Cartesian plane."
   ]
  },
  {
   "cell_type": "markdown",
   "metadata": {},
   "source": [
    "Given a complex number $z=x+iy$, the number $\\overline{z}=x-iy$ is  called the conjugate of $z$. Note that $z\\,\\overline{z}=x^2+y^2\\in \\mathbb{R}$. Complex conjugates are used in division since multiplication by the reciprocal of $z$ is multiplication by $\\frac{1}{z}=\\frac{\\bar{z}}{z \\bar{z}}=\\frac{x}{x^2+y^2}-i\\frac{y}{x^2+y^2}.$\n",
    "\n",
    "The output of a complex function  $f:\\mathbb{C} \\rightarrow \\mathbb{C}$ may be expressed as $f(x+iy)= u(x,y)+iv(x,y)$, where $u$ and $v$ are both real-valued functions. For example, if $f(z)=z^3$, then $f(x+iy) = (x+iy)^3=x^3+3ix^2y-3xy^2-iy^3=(x^3-3xy^2)+i(3x^2y-y^3)$. In this case, $u(x,y)=x^3-3xy^2$ and $v(x,y)=3x^2y-y^3$. \n",
    "\n",
    "Here are some important elementary complex functions:"
   ]
  },
  {
   "cell_type": "markdown",
   "metadata": {},
   "source": [
    "``` {index} polynomial function\n",
    "```"
   ]
  },
  {
   "cell_type": "markdown",
   "metadata": {},
   "source": [
    "```{index} rational function\n",
    "```"
   ]
  },
  {
   "cell_type": "markdown",
   "metadata": {},
   "source": [
    "```{index} exponential function\n",
    "```"
   ]
  },
  {
   "cell_type": "markdown",
   "metadata": {},
   "source": [
    "<b> Polynomial functions:</b>\n",
    "\n",
    "$f(z)=a_0 + a_1z + a_2 z^2 + ... + a_n z^n $ where $a_i\\in\\mathbb{C}$ for $i=0,...,n$  and $a_n\\neq 0$. The value of the whole number $n$ is called the degree of the polynomial. ($a_0=0$ is allowed for the special case $n=0$ when $f(z)$ is constant.)\n",
    "\n",
    "\n",
    " <b>Rational functions:</b>\n",
    " \n",
    " $f(z)=\\frac{P(z)}{Q(z)}$, where $P$ and $Q$ are both polynomials and $Q(z)\\neq 0$.  \n",
    " \n",
    " \n",
    "<b>Exponential function:</b>\n",
    "\n",
    "$f(z)=e^z$, where $e$ is Euler's number ($e\\approx 2.71...$).\n",
    "Note that  $e^z=e^{x+iy}=e^xe^{iy}= e^x(\\cos(y)+ i \\sin (y))=e^x\\cos(y) + i e^x\\sin(y)$, so in this case $u(x,y)=e^x\\cos(y)$ and $v(x,y)=e^x\\sin(y)$. This result follows from Euler's identity\n",
    "        \n",
    " $$e^{i\\theta}=\\cos \\theta + i \\sin \\theta$$\n",
    "        \n",
    " which can be proven using the Taylor expansion \n",
    " \n",
    " $$e^z=\\sum_{j=0}^\\infty \\frac{z^j}{j!}$$\n",
    " \n",
    " that is valid for all  $z\\in\\mathbb{C}$:\n",
    "        \n",
    "$$\n",
    "e^{i\\theta}=\\sum_{j=0}^\\infty \\frac{(i\\theta)^j}{j!}= 1+i\\,\\theta-\\frac{\\theta^2}{2!}-i\\,\\frac{\\theta^3}{3!}+\\frac{\\theta^4}{4!}+i\\,\\frac{\\theta^5}{5!}-...=\n",
    "$$\n",
    "\n"
   ]
  },
  {
   "cell_type": "markdown",
   "metadata": {},
   "source": [
    "$$\n",
    "(1-\\frac{\\theta^2}{2!}+\\frac{\\theta^4}{4!}-...)+i\\,(\\theta-\\frac{\\theta^3}{3!}+\\frac{\\theta^5}{5!}-...) =\\cos \\theta + i\\,\\sin \\theta\\,.\n",
    "$$"
   ]
  },
  {
   "cell_type": "markdown",
   "metadata": {},
   "source": [
    "```{index} complex logarithm\n",
    "```"
   ]
  },
  {
   "cell_type": "markdown",
   "metadata": {},
   "source": [
    "\n",
    "<b> The complex logarithm: </b>\n",
    "\n",
    "$f(z)=\\log(z)$. To define the complex log function $\\log z$, we use the real natural log function $\\ln(\\cdot)$ applied to the polar form  $z=re^{i(\\theta +2n\\pi)}$:\n",
    "\n",
    "$$\n",
    "    \\log z = \\ln (r) + i(\\theta + 2 n\\pi)=\\ln(\\mid z \\mid) + i \\arg(z).\n",
    "$$\n",
    "\n",
    " Note that since there are multiple polar representations of the same complex number $z$, the complex log is multiple valued as well. In order to make a single-valued function, we need to restrict the values of $\\theta$ to an interval of length $2\\pi$ (with one of the endpoints excluded). This restriction is called a <i>branch</i> of the natural log.  A <i>branch cut</i> is a ray which determines the branch. The point from which the branch cut emanates is called the branch point.  For example, the ray $\\theta=-\\pi$ determines a branch $-\\pi < \\theta \\le \\pi$. This branch is called the <i>principal branch</i> and the principal value is denoted Log $z$ (note the capital L):\n",
    "\n",
    "$$\n",
    "  Log \\, z = \\ln |z| + i \\,Arg \\,z,\n",
    "$$\n",
    "\n",
    "where $-\\pi < Arg\\, z \\le \\pi$.\n",
    "\n",
    "The figure below shows the argument of $z$  given by $\\theta = \\arg(z)=Arg\\, z+ 2n\\pi$ for the case $n=2$\n",
    "\n",
    "<img src=\"fig3.png\" width=\"200px\"> "
   ]
  },
  {
   "cell_type": "markdown",
   "metadata": {},
   "source": [
    "#### Exercises"
   ]
  },
  {
   "cell_type": "markdown",
   "metadata": {},
   "source": [
    ":::{admonition} Exercises\n",
    "\n",
    "\n",
    "<b> 2.1.1 </b>  Let $x=2+3i$ and $y=-1+5i$. Calculate the following:\n",
    " \n",
    "   a) $x+y$\n",
    "    \n",
    "   b) $x-y$\n",
    "   \n",
    "   c) $xy$\n",
    "    \n",
    "   d) $\\frac{x}{y}$\n",
    "     \n",
    "   e) $x\\bar{y}$\n",
    "    \n",
    "    \n",
    "<b>2.1.2</b> Express the following complex functions in the form $u(x,y)+iv(x,y)$.\n",
    "    \n",
    "   a) $f(z)=e^{2z}$ \n",
    "    \n",
    "   b) $g(z)= \\log (z+1)$ \n",
    "    \n",
    "   c) $h(z)=z^2-1$ \n",
    "    \n",
    "\n",
    "<b> 2.1.3</b> Show that $|z_1 z_2| = |z_1| |z_2|$.\n",
    "\n",
    "<b> 2.1.4 </b> Does $\\arg(z_1z_2)=\\arg(z_1)\\cdot \\arg(z_2)$?\n",
    ":::"
   ]
  },
  {
   "cell_type": "markdown",
   "metadata": {},
   "source": [
    "### 2.2 The Derivative $f'(z)$"
   ]
  },
  {
   "cell_type": "markdown",
   "metadata": {},
   "source": [
    "The  limit quotient definition of the derivative is\n",
    "\n",
    "$$\n",
    "    f'(z)=\\lim_{h\\rightarrow0 }\\frac{f(z+h) -f(z)}{h}\\,\\hspace{.2in}\n",
    "$$\n",
    "\n",
    "(note that h is complex!)\n",
    "\n",
    " We emphasize that in order for a complex function $f(z)$ to be differentiable at $z_0$, the quotient $(f(z+h)-f(z))/h$ must approach the same value along every path as $h \\rightarrow 0$ including along both the real and imaginary axes. \n",
    " \n",
    "As one might guess based on the similarity of the definitions, the basic derivative rules from real-variable calculus continue to hold in complex variables.  Given that $f(z)$ and $g(z)$ are both differentiable, and $c_1,c_2$ are complex constants,"
   ]
  },
  {
   "cell_type": "markdown",
   "metadata": {},
   "source": [
    "```{index} linearity\n",
    "```"
   ]
  },
  {
   "cell_type": "markdown",
   "metadata": {},
   "source": [
    "```{index} product rule\n",
    "```"
   ]
  },
  {
   "cell_type": "markdown",
   "metadata": {},
   "source": [
    "```{index} quotient rule\n",
    "```"
   ]
  },
  {
   "cell_type": "markdown",
   "metadata": {},
   "source": [
    "```{index} chain rule\n",
    "```"
   ]
  },
  {
   "cell_type": "markdown",
   "metadata": {},
   "source": [
    "```{index} power rule\n",
    "```"
   ]
  },
  {
   "cell_type": "markdown",
   "metadata": {},
   "source": [
    "```{index} L'Hopital's rule\n",
    "```"
   ]
  },
  {
   "cell_type": "markdown",
   "metadata": {},
   "source": [
    "\n",
    "\n",
    "<b>Linearity</b> \n",
    "$(c_1f(z)+c_2g(z))'=c_1f'(z)+c_2g'(z)$ \n",
    "\n",
    "<b>Product Rule</b>\n",
    "$(f(z)g(z))'=f(z)g'(z)+g(z)f'(z)$\n",
    "\n",
    "<b>Quotient Rule</b>\n",
    "$(\\frac{f(z)}{g(z)})'=\\frac{g(z)f'(z)-f(z)g'(z)}{[g(z)]^2}$\n",
    "\n",
    "<b>Chain Rule</b>\n",
    "$[f(g(z))]'=f'(g(z)) g'(z)$\n",
    "\n",
    "<b>Power Rule</b>\n",
    "$\\frac{d}{dz} z^n = n z^{n-1}$, where $n$ is an integer,\n",
    "\n",
    "<b>L'Hopital's Rule</b>\n",
    "$\\lim_{z\\rightarrow z_0}\\frac{f(z)}{g(z)} =\\lim_{z\\rightarrow z_0}\\frac{f'(z)}{g'(z)}$   for 0/0 indeterminate form limits."
   ]
  },
  {
   "cell_type": "markdown",
   "metadata": {},
   "source": [
    "#### Exercises"
   ]
  },
  {
   "cell_type": "markdown",
   "metadata": {},
   "source": [
    ":::{admonition} Exercises\n",
    "<b>2.2.1 </b> Show using the limit definition that $\\frac{d}{dz} (10z^3) = 30z^2$. \n",
    "\n",
    "<b> 2.2.2</b> Show that the function $f(z)=\\bar z $ is not differentiable. \n",
    "\n",
    "<b> 2.2.3</b> Find $\\lim_{z\\rightarrow i} \\frac{z^4-1}{z^8-1}.$ \n",
    ":::"
   ]
  },
  {
   "cell_type": "markdown",
   "metadata": {},
   "source": [
    "### 2.3 The Cauchy-Riemann Equations"
   ]
  },
  {
   "cell_type": "markdown",
   "metadata": {},
   "source": [
    "```{index} Cauchy-Riemann equation\n",
    "```"
   ]
  },
  {
   "cell_type": "markdown",
   "metadata": {},
   "source": [
    " The Cauchy-Riemann equations are a pair of partial differential equations that, along with conditions of continuity, are necessary and sufficient conditions for a complex function $f(z)$ to be  differentiable. These equations are fundamental to both the theory and application of complex analysis. "
   ]
  },
  {
   "cell_type": "markdown",
   "metadata": {},
   "source": [
    "Recall from Section 1 that the limit quotient definition of the derivative is\n",
    "\n",
    "$$\n",
    "    f'(z)=\\lim_{h\\rightarrow0 }\\frac{f(z+h) -f(z)}{h}.\n",
    "$$\n",
    "\n",
    "Assuming that $f(z)=f(x+iy)=u(x,y)+i v(x,y)$ is differentiable, and $h=a+ib$, we may compute $f'(z)$ along any path $(a,b)\\rightarrow (0,0)$.  In particular, let us choose the paths along the x and y axes:\n",
    "\n",
    "\n",
    "<b> Along the x-axis ($h=a$ where $a$ is real): </b>\n",
    "\n",
    "$$\n",
    "   f'(z)=\\lim_{a\\rightarrow 0} \\frac{u(x+a,y)+ i v(x+a,y) -[u(x,y)+i v(x,y)]}{a} =\n",
    "$$\n",
    "   \n",
    "$$\n",
    "\\lim_{a\\rightarrow 0}  \\frac{u(x+a,y) -u(x,y)}{a} + \\frac{i v(x+a,y) -i v(x,y)}{a} =\n",
    "$$\n",
    "\n",
    "\n",
    " $$\n",
    " \\frac{\\partial}{\\partial x} u(x,y) + i \\frac{\\partial}{\\partial x} v(x,y) .$$\n",
    "    \n",
    "    \n"
   ]
  },
  {
   "cell_type": "markdown",
   "metadata": {},
   "source": [
    "<b> Along the y-axis ($h=bi$, where $b$ is real): </b>\n",
    "    \n",
    " $$\n",
    " f'(z)=\\lim_{b\\rightarrow 0} \\frac{u(x,y+b)+ i v(x,y+b) -[u(x,y)+ i v(x,y)]}{bi} =\n",
    " $$\n",
    "      \n",
    " $$\n",
    " \\lim_{b\\rightarrow 0} \\frac{u(x,y+b) -u(x,y)}{bi} + \\frac{i v(x,y+b) - i v(x,y)}{bi} = \n",
    " $$\n",
    " \n",
    " $$ \n",
    " -i \\frac{\\partial}{\\partial y} u(x,y) + \\frac{\\partial}{\\partial y} v(x,y). \n",
    " $$"
   ]
  },
  {
   "cell_type": "markdown",
   "metadata": {},
   "source": [
    " The Cauchy-Riemann equations are obtained by equating the two expressions  for $f'(z)$:\n",
    "\n",
    "$$\n",
    "\\frac{\\partial u(x,y)}{\\partial x}  =  \\frac{\\partial v(x,y) }{\\partial y}\n",
    "$$\n",
    "\n",
    "and\n",
    "\n",
    "$$\n",
    "\\frac{\\partial u(x,y)}{\\partial y}  =  -\\frac{\\partial v(x,y) }{\\partial x} \n",
    "$$\n"
   ]
  },
  {
   "cell_type": "markdown",
   "metadata": {},
   "source": [
    "Note that the CR-equations are a necessary condition for differentiability:  if $f(z)$ is differentiable, then the C-R equations must hold. It is also possible to prove  that the CR-equations are sufficient for differentiability (see Thm 2.2 in [Sato 2015]). That is, if the C-R equations are satisfied with $u_x,v_x,u_y$, and $v_y$ all continuous functions, then $f(z)$ is differentiable. In other words, assuming sufficient smoothness of $u(x,y)$ and $v(x,y)$, the CR equations are both necessary and sufficient conditions for $f(z)$ to be differentiable."
   ]
  },
  {
   "cell_type": "markdown",
   "metadata": {},
   "source": [
    "#### Polar Form of the Cauchy-Riemann Equations"
   ]
  },
  {
   "cell_type": "markdown",
   "metadata": {},
   "source": [
    "We now consider the polar representation $f(z)=f(re^{i\\theta}) = u(r,\\theta) + i v(r,\\theta)$ and obtain the C-R equations for $u$ and $v$ in polar coordinates.\n",
    "\n",
    "Let $z=re^{i\\theta}$ and let $w=z+h$. We again evaluate $f'(z)$ using two different paths $h\\rightarrow 0$ (equivalently $w\\rightarrow z$).\n",
    "\n",
    "<b>straight path</b>\n",
    "\n",
    "$h\\rightarrow 0$ along the straight path $h= a e^{i\\theta}$ (i.e.  $a\\rightarrow 0$ where $a$ is real). In this case  \n",
    "  \n",
    " $$\n",
    " f'(z)=\\lim_{a\\rightarrow 0} \\frac{[u(r+a,\\theta)+iv(r+a,\\theta)] -[u(r,\\theta)+iv(r,\\theta)]}{ae^{i\\theta}} =\n",
    " $$\n",
    " \n",
    "$$\n",
    "\\lim_{a\\rightarrow 0} \\frac{u(r+a,\\theta) -u(r,\\theta)}{ae^{i\\theta}} +  i\\frac{v(r+a,\\theta) -v(r,\\theta)}{ae^{i\\theta} }=\n",
    "$$\n",
    "\n",
    "$$\n",
    "e^{-i\\theta} (u_r + i v_r)\n",
    "$$\n"
   ]
  },
  {
   "cell_type": "markdown",
   "metadata": {},
   "source": [
    "<b> circular path</b>\n",
    "\n",
    "$w\\rightarrow z$ along the circular path $w= r e^{i(\\theta +b)}$ ($b\\rightarrow 0$ where $b$ is real). In this case\n",
    "\n",
    "$$\n",
    "f'(z)=\\lim_{b\\rightarrow 0} \\frac{[u(r,\\theta + b)+iv(r,\\theta + b)] -[u(r,\\theta)+iv(r,\\theta)]}{re^{i(\\theta +b)} -re^{i\\theta}}=\n",
    "$$      \n",
    "      \n",
    "$$\n",
    "\\lim_{b\\rightarrow 0} \\frac{u(r,\\theta+b) -u(r,\\theta)}{re^{i\\theta}(e^{ib}-1)} +  i\\frac{v(r,\\theta+b) -v(r,\\theta)}{re^{i\\theta}(e^{ib}-1)} =$$\n",
    "\n",
    "$$\n",
    "\\lim_{b\\rightarrow 0} [\\frac{u(r,\\theta+b) -u(r,\\theta)}{re^{i\\theta}b} +  i\\frac{v(r,\\theta+b) -v(r,\\theta)}{re^{i\\theta}b}]\\frac{b}{e^{ib}-1}=\n",
    "$$\n",
    "\n",
    "$$\n",
    "\\lim_{b\\rightarrow 0} [\\frac{u(r,\\theta+b) -u(r,\\theta)}{re^{i\\theta}b} +  i\\frac{v(r,\\theta+b) -v(r,\\theta)}{re^{i\\theta}b}]\\frac{1}{i}=\n",
    "$$\n",
    "\n",
    "$$\n",
    "e^{-i\\theta}[-i (\\frac{1}{r})u_{\\theta} + \\frac{1}{r}v_{\\theta}]\\label{cr4}.\n",
    "$$"
   ]
  },
  {
   "cell_type": "markdown",
   "metadata": {},
   "source": [
    "  \n",
    "It follows that the C-R equations in polar form are\n",
    "\n",
    "$$\n",
    "u_r  =  \\frac{1}{r} v_{\\theta} \n",
    "$$\n",
    "  \n",
    "$$\n",
    "\\frac{1}{r}u_{\\theta}  =  - v_r .\n",
    "$$"
   ]
  },
  {
   "cell_type": "markdown",
   "metadata": {},
   "source": [
    "#### Exercises"
   ]
  },
  {
   "cell_type": "markdown",
   "metadata": {},
   "source": [
    ":::{admonition} Exercises\n",
    "\n",
    "\n",
    "<b>2.3.1</b> Use the C-R equations to show that $f(z)= z^2 $ is differentiable.  \n",
    "\n",
    "\n",
    "<b>2.3.2</b> Use the C-R equations to show that $f(z)= \\mid z \\mid^2 $ is not differentiable.  \n",
    "\n",
    "<b>2.3.3</b> Use the CR-equations to show that  $f(z)=e^z$ is differentiable, and find its derivative.\n",
    "\n",
    "\n",
    "<b>2.3.4</b>  Use the polar form of the CR-equations to find $\\frac{d}{dz} \\log z.$  \n",
    ":::"
   ]
  },
  {
   "cell_type": "markdown",
   "metadata": {},
   "source": [
    "### 2.4 Harmonic Conjugates"
   ]
  },
  {
   "cell_type": "markdown",
   "metadata": {},
   "source": [
    "```{index} harmonic function\n",
    "```"
   ]
  },
  {
   "cell_type": "markdown",
   "metadata": {},
   "source": [
    "```{index} Laplace equation\n",
    "```"
   ]
  },
  {
   "cell_type": "markdown",
   "metadata": {},
   "source": [
    "Harmonic functions are extremely important and have a close connection to complex differentiable functions. A  real valued function\n",
    "$g(x,y)$ of the real variables $x$ and $y$ is said to be harmonic if its Laplacian is zero:\n",
    "\n",
    "$$\n",
    "\\nabla^2 g(x,y) = g_{xx} + g_{yy} = 0.  \n",
    "$$\n",
    "\n",
    "In other words, $g$ satisfies the Laplace equation.\n",
    "\n",
    " Let $f(z)=u(x,y)+iv(x,y)$ be a differentiable function with $u(x,y)$ and $v(x,y)$ both having continuous second partial derivatives. The C-R equation  $u_x=v_y$ differentiated with respect to $x$ gives $u_{xx}=v_{xy}$ and  the other C-R equation $u_y=-v_x$ differentiated with respect to $y$ gives $u_{yy}=-v_{yx}=-v_{xy}$, (the last equality follows from the equality of mixed partials). Adding these two results together yields \n",
    " \n",
    " \n",
    "$$\n",
    "u_{xx}+u_{yy}=v_{xy}-v_{xy}=0,\n",
    "$$\n",
    "\n",
    "showing that $u$ satisfies the Laplace equation.\n",
    "\n",
    "Using similar reasoning,  $v$ must satisfy the Laplace equation as well.\n",
    " \n",
    "Writing $f(z)$ in the polar form $f(z)=u(r,\\theta)+i\\,v(r,\\theta)$, the polar C-R equations imply that both $u$ and $v$ satisfy the polar form of the Laplace equation (see Sec 2.4.2 in [Sato 2015]):\n",
    "\n",
    "$$\n",
    "\\frac{1}{r} \\frac{\\partial}{\\partial r}(r\\,u_r) + \\frac{1}{r^2} u_{\\theta \\theta} =  0,\n",
    "$$\n",
    "\n",
    "and,\n",
    "\n",
    "$$\n",
    "    \\frac{1}{r} \\frac{\\partial}{\\partial r}(r\\,v_r) + \\frac{1}{r^2} v_{\\theta \\theta} = 0.\n",
    "$$\n",
    "\n",
    "This leads us now to the main topic of this section: harmonic conjugates. If the functions $u$ and $v$ satisfy the C-R equations for the Cartesian form or polar form, then we say $v$ is the harmonic conjugate of $u$. This leads to the result that  \n",
    "\n",
    "\n",
    "\n",
    "\n",
    "\n"
   ]
  },
  {
   "cell_type": "markdown",
   "metadata": {},
   "source": [
    "<b>\n",
    "  f(z)=u+iv is differentiable if and only if v is the harmonic conjugate of u (see Thm 2.4 in [Sato 2015]).  \n",
    "</b>"
   ]
  },
  {
   "cell_type": "markdown",
   "metadata": {},
   "source": [
    "```{index} harmonic conjugate\n",
    "```"
   ]
  },
  {
   "cell_type": "markdown",
   "metadata": {},
   "source": [
    "The harmonic conjugate of $u$ is obtainable as follows:\n",
    "\n",
    "\n",
    "i) antidifferentiate $v_y=u_x$ with respect to $y$  to obtain \n",
    "\n",
    "$$\n",
    " v=U(x,y) + t(x)\n",
    "$$\n",
    "\n",
    "where  $t(x)$ is a real function of $x$ only and $U_y=v_y$.\n",
    "\n",
    "ii) differentiate the last equation with respect to $x$ and use the C-R equation $v_x=-u_y$ to obtain\n",
    "\n",
    "$$\n",
    "v_x=U_x + t'(x) = -u_y \\Rightarrow t'(x)=-U_x - u_y.\n",
    "$$"
   ]
  },
  {
   "cell_type": "markdown",
   "metadata": {},
   "source": [
    "iii) Anti-differentiating with respect to x, we obtain $t(x)$."
   ]
  },
  {
   "cell_type": "markdown",
   "metadata": {},
   "source": [
    "#### Example"
   ]
  },
  {
   "cell_type": "markdown",
   "metadata": {},
   "source": [
    "Find the harmonic conjugate of $u(x,y)=y^3-3x^2y$. "
   ]
  },
  {
   "cell_type": "markdown",
   "metadata": {},
   "source": [
    "<b>Solution:</b>\n",
    "\n",
    "First note that $u$ is harmonic because $u_{xx}=-6y$ and $u_{yy}=6y$, so $u_{xx}+u_{yy}=0$. Hence, we know that $u$ has a harmonic conjugate, and can find it by Following the three steps above:\n",
    "\n",
    "i) $v_y= u_x=-6xy \\Rightarrow v = -3xy^2 + t(x).$\n",
    "ii) $v_x=-3y^2+t'(x)=-u_y=-3y^2+3x^2 \\Rightarrow t'(x)=3x^2$\n",
    "iii) $t(x)=x^3+ C$, and hence $v=-3xy^2+x^3+ C$ is the harmonic conjugate of $u$.\n",
    "\n",
    "It follows that $f(z)=u+iv=(y^3-3x^2y)+i(-3xy^2+x^3+C)$ is a differentiable function."
   ]
  },
  {
   "cell_type": "markdown",
   "metadata": {},
   "source": [
    "#### Exercises"
   ]
  },
  {
   "cell_type": "markdown",
   "metadata": {},
   "source": [
    ":::{admonition} Exercises\n",
    "\n",
    "\n",
    "<b>2.4.1</b>  Determine whether the following functions can be the real parts of differentiable complex functions.\n",
    "\n",
    "a) $u_1(x,y)=x^2-y^2$ \n",
    "\n",
    "b) $u_2(x,y)= x^2+y^2$ \n",
    "\n",
    "c) $u_3(x,y)=x+42$ \n",
    "\n",
    "d)  $u_4(x,y)=e^x\\,\\cos y$ \n",
    "\n",
    "e) $u_5(x,y)=\\sin x+\\sin y$ \n",
    " \n",
    "<b>2.4.2</b> For the questions to which you answered \"yes\" in the question above, find the harmonic conjugates. \n",
    ":::"
   ]
  },
  {
   "cell_type": "markdown",
   "metadata": {},
   "source": [
    "### 2.5 Orthogonality"
   ]
  },
  {
   "cell_type": "markdown",
   "metadata": {},
   "source": [
    "```{index} orthogonality\n",
    "```"
   ]
  },
  {
   "cell_type": "markdown",
   "metadata": {},
   "source": [
    "Another important relationship between the real and imaginary parts $u$ and $v$ of a differentiable function $f(z)$ is the orthogonality of their level curves. That is, the families of curves defined by $u(x,y)=p_1$ and $v(x,y)=p_2$, where $p_1$ and $p_2$ are constants, are orthogonal. We now show this to be the case. Assuming that $y$ is a function of $x$, if we differentiate  the level curve $u(x,y)=p_1$ with respect to $x$, we get\n",
    "\n",
    "$$\n",
    " \\frac{\\partial u}{\\partial x}+ \\frac{\\partial u}{\\partial y}\\frac{dy}{dx}=0,\n",
    "$$\n",
    "\n",
    "so the slope along this level curve is computable using\n",
    "\n",
    "$$\n",
    "\\frac{dy}{dx}=-\\frac{\\partial u}{\\partial x}/ \\frac{\\partial u}{\\partial y} $$"
   ]
  },
  {
   "cell_type": "markdown",
   "metadata": {},
   "source": [
    "#### Exercises\n",
    "\n"
   ]
  },
  {
   "cell_type": "markdown",
   "metadata": {},
   "source": [
    ":::{admonition} Exercises\n",
    "<b>2.5.1</b>  Let $\\Phi(x,y) = -x$. Determine $\\Psi(x,y)$ such that $\\Omega(z)=\\Omega(x+iy)=\\Phi(x,y)+i\\Psi(x,y)$ is differentiable and explain why $\\Phi(x,y)=c_1$ and $\\Psi(x,y)=c_2$ defines an orthogonal family of curves.\n",
    "\n",
    "<b>2.5.2</b> Let $f(z)=z^2$. \n",
    "\n",
    "a)Find $u(x,y)$ and $v(x,y)$ such that $f(z)=u(x,y)+iv(x,y)$.\n",
    "\n",
    "b) Show that the family of curves $u(x,y)=c_1$, $v(x,y)=c_2$ are orthogonal.\n",
    ":::"
   ]
  }
 ],
 "metadata": {
  "kernelspec": {
   "display_name": "Python 3 (ipykernel)",
   "language": "python",
   "name": "python3"
  },
  "language_info": {
   "codemirror_mode": {
    "name": "ipython",
    "version": 3
   },
   "file_extension": ".py",
   "mimetype": "text/x-python",
   "name": "python",
   "nbconvert_exporter": "python",
   "pygments_lexer": "ipython3",
   "version": "3.11.7"
  }
 },
 "nbformat": 4,
 "nbformat_minor": 2
}
