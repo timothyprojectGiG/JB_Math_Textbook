{
 "cells": [
  {
   "cell_type": "markdown",
   "metadata": {},
   "source": [
    "# Idealized Groundwater Flow"
   ]
  },
  {
   "cell_type": "markdown",
   "metadata": {},
   "source": [
    "### Two-Dimensional Flow and the Continuity Equation"
   ]
  },
  {
   "cell_type": "markdown",
   "metadata": {},
   "source": [
    "```{index} groundwater flow equation\n",
    "```"
   ]
  },
  {
   "cell_type": "markdown",
   "metadata": {},
   "source": [
    "```{index} flow rate\n",
    "```"
   ]
  },
  {
   "cell_type": "markdown",
   "metadata": {},
   "source": [
    "Having introduced differentiable (also called analytic) functions in Section 2, we now turn to the topic of how these functions are used to model idealized 2-dimensional groundwater flow. We will also show how isolated singularities (points where a function is not differentiable) are used to describe sources or sinks. In modeling groundwater flow, we assume that the flow is two dimensional with $x$  corresponding to the east-west and $y$ to the north-south directions. In particular, such flow in 3 dimensions does not depend on $z$; that is, any plane parallel to the $(x,y)$-plane has an identical flow pattern. The groundwater flow equation used to model such flow in 3 dimensions results when the <i>continuity equation</i> is combined with Darcy's Law (Section 3.2) The continuity equation relates the rate of change in density at a given point $(x,y,z)$ to the divergence of the mass flow rate. This flow rate is the product of the density $\\rho(x,y,z;t)$ (mass per unit volume at the position $(x,y,z)$ and time $t$) times the fluid velocity $\\vec{v}(x,y,z;t)=\\mathbf{V}$  at the same point and time. The velocity is assumed to be continuously differentiable."
   ]
  },
  {
   "cell_type": "markdown",
   "metadata": {},
   "source": [
    "```{index} continuity equation\n",
    "```"
   ]
  },
  {
   "cell_type": "markdown",
   "metadata": {},
   "source": [
    "The continuity equation is given by the equation\n",
    "\\begin{equation}\n",
    "\\frac{\\partial \\rho}{\\partial t} + \\nabla \\cdot \\rho \\mathbf{V} = 0.\n",
    "\\label{continuity}\n",
    "\\end{equation}\n",
    "This equation is essentially a statement of the conservation of mass, meaning mass is neither created nor destroyed.  Note that the continuity equation does not hold at a source or sink since the velocity is undefined at such points. \n",
    "\n",
    "The continuity equation may be understood  mathematically by defining a \"control\" volume region $\\mathcal{V}$ bounded by a surface $\\mathcal{S}$. Fluid flows into and out of this control volume. Since no mass is created or destroyed within $\\mathcal{V}$, any increase in the fluid density within $\\mathcal{V}$ over time is due solely to mass flowing into $\\mathcal{V}$ through the boundary surface $\\mathcal{S}$. We express this relationship as\n",
    "\n",
    "$$\n",
    "\\iiint_\\mathcal{V} \\frac{\\partial \\rho}{\\partial t} \\, dV = \n",
    "-\\iint_\\mathcal{S} (\\rho \\mathbf{V} \\cdot \\mathbf{\\hat{n}}) \\, dS,\n",
    "$$\n",
    "\n",
    "where $dV$ is an infinitesimal volume element, $dS$ is an infinitesimal surface area element, and $\\mathbf{\\hat{n}}$ is the outward unit vector normal to the surface. Using the divergence theorem, we have:\n",
    "\n",
    "$$\n",
    "    \\iiint_\\mathcal{V} \\frac{\\partial \\rho}{\\partial t} \\, dV + \\iiint_\\mathcal{V} (\\nabla \\cdot \\rho \\mathbf{V}) \\, dV =  \\iiint_\\mathcal{V} \\frac{\\partial \\rho}{\\partial t} \\,  +  (\\nabla \\cdot \\rho \\mathbf{V}) \\, dV  =  0.\n",
    "$$\n",
    "\n",
    "Finally, since the mathematical volume $\\mathcal{V}$ is arbitrarily chosen and could be infinitesimal, the  integrand in the last integral must itself be equal to 0:\n",
    "\n",
    "$$\n",
    "    \\frac{\\partial \\rho}{\\partial t} + \\nabla \\cdot \\rho \\mathbf{V} = 0,\n",
    "$$\n",
    "\n",
    "which is the continuity equation previously stated. For an <i>incompressible</i> fluid, $\\frac{\\partial \\rho}{\\partial t} = 0$, which is also an underlying assumption about the fluid flow discussed in this module.\n",
    "\n"
   ]
  },
  {
   "cell_type": "markdown",
   "metadata": {},
   "source": [
    "#### Exercise"
   ]
  },
  {
   "cell_type": "markdown",
   "metadata": {},
   "source": [
    ":::{admonition} Exercises\n",
    "\n",
    "<b>3.1.1</b>  For the density function $\\rho (x,y) = 2e^{-y}$ and the velocity vector $\\mathbf{V} (x,y) = \\langle x^2 + y^2,2x\\rangle,$ compute the following to evaluate whether $\\rho (x,y)$ and $\\mathbf{V} (x,y)$ satisfy the continuity equation:\n",
    "\n",
    "a) $\\frac{\\partial \\rho}{\\partial t}$\n",
    "\n",
    "\n",
    "b) $\\nabla \\cdot \\mathbf{V}$\n",
    "\n",
    "\n",
    "c) $\\frac{\\partial \\rho}{\\partial t}$ + $\\nabla \\cdot \\rho \\mathbf{V}$. Does this equal 0 as in the continuity equation? \n",
    "\n",
    ":::"
   ]
  },
  {
   "cell_type": "markdown",
   "metadata": {},
   "source": [
    "### Darcy's Law and the Velocity Potential $\\Phi$"
   ]
  },
  {
   "cell_type": "markdown",
   "metadata": {},
   "source": [
    "```{index} Darcy's Law\n",
    "```"
   ]
  },
  {
   "cell_type": "markdown",
   "metadata": {},
   "source": [
    "To analyze groundwater flow, we note that the velocity vector $\\mathbf{V}$ depends on the type of liquid, the characteristics of the surrounding material, and the pressure at any given point. Darcy's Law summarizes these relationships. For the groundwater flows we are considering, Darcy's Law states that the velocity $\\mathbf{V}$ is given by\n",
    "\n",
    "$$\n",
    "        \\mathbf{V}=-\\frac{k}{\\mu}\\nabla p, \n",
    "$$\n",
    "\n",
    "where $k$ is the permeability of the surrounding material, $\\mu$ is the viscosity of the liquid,  and $p$ is  the pressure. The fluid flow moves in the direction from higher to lower pressure, that is, the direction of $-\\nabla p$. Incidentally, Darcy's Law has many analogues in other physical situations, such as heat transfer or electricity and magnetism. All of these feature vector fields which depend on the negative gradient of a scalar quantity.\n",
    "\n",
    "From vector calculus, we are familiar with conservative vector fields that can be written as the gradient of a scalar potential function. In the case of Darcy's Law, the fluid velocity $\\mathbf{V}$ has a <i>velocity potential</i> $\\Phi=\\frac{k}{\\mu}p$  such that\n",
    "\n",
    "$$\n",
    "    \\mathbf{V}=-\\nabla \\Phi.\n",
    "$$\n",
    "\n",
    "Note that fluid flows from higher to lower values of the velocity potential $\\Phi$ since we remarked earlier that fluid flows from higher to lower pressure $p$.\n"
   ]
  },
  {
   "cell_type": "markdown",
   "metadata": {},
   "source": [
    "```{index} velocity potential\n",
    "```"
   ]
  },
  {
   "cell_type": "markdown",
   "metadata": {},
   "source": [
    "Since we assume that the groundwater flow is incompressible (constant density $\\rho$), the continuity equation reduces to\n",
    "\n",
    "$$\n",
    "     \\nabla \\cdot \\mathbf{V} = 0.\n",
    "$$\n",
    "\n",
    "Combining these results, we  see that for a 2-dimensional flow,  the potential $\\Phi(x,y)$ satisfies Laplace's equation:\n",
    "\n",
    "$$\n",
    "   \\nabla\\cdot \\mathbf{V} = -\\nabla\\cdot (\\nabla \\Phi) =0 \\Rightarrow \\nabla\\cdot(\\Phi_x\\vec{i}+\\Phi_y\\vec{j})=0\\Rightarrow \\Phi_{xx}+\\Phi_{yy}=0.\n",
    " $$\n",
    " \n",
    " In other words, for the flows we consider, the velocity potential $\\Phi(x,y)$ will be a harmonic function."
   ]
  },
  {
   "cell_type": "markdown",
   "metadata": {},
   "source": [
    "#### Exercises"
   ]
  },
  {
   "cell_type": "markdown",
   "metadata": {},
   "source": [
    ":::{admonition} Exercises\n",
    "\n",
    "<b>3.2.1</b> For the density function $\\rho (x,y) = 2x^2e^{-y}$, compute $\\nabla \\rho$.\n",
    "\n",
    "\n",
    "<b>3.2.2</b> Given the velocity vector $\\mathbf{V} (x,y) = \\langle 2xy, x^2 - y^2 \\rangle,$ \n",
    "\n",
    "a)  Show that $\\nabla\\cdot\\mathbf{V}=0.$\n",
    "\n",
    "\n",
    "b) Find a function $\\Phi$ such that $ \\mathbf{V}=-\\nabla \\Phi.$ \n",
    "\n",
    "\n",
    "c) Show that the $\\Phi$ you obtained in part b) is harmonic.\n",
    "\n",
    ":::"
   ]
  },
  {
   "cell_type": "markdown",
   "metadata": {},
   "source": [
    "### The Stream Function $\\Psi$ and Complex Potential $\\Omega$"
   ]
  },
  {
   "cell_type": "markdown",
   "metadata": {},
   "source": [
    "```{index} stream function\n",
    "```\n",
    "\n",
    "```{index} equipotentials\n",
    "```\n",
    "\n",
    "```{index} complex potential\n",
    "```"
   ]
  },
  {
   "cell_type": "markdown",
   "metadata": {},
   "source": [
    "Since all harmonic functions have a harmonic conjugate, we know that the 2-dimensional velocity potential $\\Phi(x,y)$ from the previous section has a harmonic conjugate which we designate $\\Psi(x,y)$ and call a <i>stream function</i>. \n",
    "\n",
    "$\\Phi(x,y)$ and $\\Psi(x,y)$ are related by the Cauchy-Riemann (C-R) Equations.\n",
    "\n",
    "<b> Cartesian form:</b> \n",
    "\n",
    "$$\n",
    "\\frac{\\partial \\Phi}{\\partial x}  =  \\frac{\\partial \\Psi}{\\partial y}\n",
    "$$\n",
    "\n",
    "$$\n",
    "\\frac{\\partial \\Phi}{\\partial y}  =  -\\frac{\\partial \\Psi}{\\partial x},\\\\ \n",
    "$$\n",
    "\n",
    "<b> Polar form:</b>\n",
    "\n",
    "$$\n",
    "\\frac{\\partial \\Phi}{\\partial r}  =  \\frac{1}{r}\\frac{\\partial \\Psi}{\\partial \\theta}\n",
    "$$\n",
    "\n",
    "$$\n",
    "\\frac{1}{r}\\frac{\\partial \\Phi}{\\partial \\theta}  =  -\\frac{\\partial \\Psi}{\\partial r}.\n",
    "$$\n",
    "\n",
    " Given a velocity potential $\\Phi(x,y)$, we can apply our method from the section on Harmonic Conjugates to find a stream function $\\Psi(x,y)$, and thereby obtain a differentiable function  $\\Omega(z)=\\Phi+i\\Psi$ called a <i>complex potential</i>.  The level curves $\\Phi$=constant are called <i>equipotentials</i>, and the level curves $\\Psi=$ constant are called <i>streamlines</i>. Our 2D groundwater modeling approach is based on the complex potential $\\Omega$, and its associated velocity potential $\\Phi=Re(\\Omega)$ and stream function $\\Psi=Im(\\Omega)$. "
   ]
  },
  {
   "cell_type": "markdown",
   "metadata": {},
   "source": [
    "#### Example"
   ]
  },
  {
   "cell_type": "markdown",
   "metadata": {},
   "source": [
    "Given the velocity potential $\\Phi(r)= k \\ln r$ where  =$\\sqrt{x^2+y^2}$ and $k$ is a real constant, find the stream function $\\Psi$. Show that the equipotentials and streamlines are orthogonal.\n",
    "\n",
    "<b> Solution.</b>\n",
    "\n",
    "First we take the partial derivative of $\\Phi$ with respect to r,\n",
    "\n",
    "$$\n",
    "\\frac{\\partial }{\\partial r} \\Phi =\n",
    "\\frac{\\partial }{\\partial r} k\\ln r =\n",
    "\\frac{k}{r}\\,.\n",
    "$$\n",
    "\n",
    "Using the polar Cauchy-Riemann (C-R) equation $\\frac{\\partial \\Phi}{\\partial r}=\n",
    "\\frac{1}{r}\\frac{\\partial \\Psi}{\\partial \\theta}$, we have \n",
    "\n",
    "$$\n",
    "\\frac{\\partial \\Phi}{\\partial r}=\n",
    "\\frac{k}{r}=\n",
    "\\frac{1}{r}\\frac{\\partial \\Psi}{\\partial \\theta} \\Rightarrow\n",
    "\\frac{\\partial \\Psi}{\\partial \\theta} =\n",
    "k\\,\\Rightarrow \\Psi=k\\theta + t(r)\n",
    "$$\n",
    "\n",
    "Next we take the derivative of $\\Psi$ with respect to $r$ and use the other polar C-R equation $-\\frac{\\partial \\Psi}{\\partial r}=\\frac{1}{r}\\frac{\\partial \\Phi}{\\partial \\theta}$ to solve for $t(r)$,\n",
    "\n",
    "$$\n",
    "-t'(r)=\n",
    "\\frac{1}{r}\\frac{\\partial \\Phi}{\\partial \\theta} =\n",
    "0 \\Rightarrow\n",
    "t(r)=\\, constant.\n",
    "$$\n",
    "\n",
    "Thus, the stream function is\n",
    "$\\Psi=\n",
    "k\\theta + \\, constant.$ If  we let $t(r)=0$, then $\\Omega=\\Phi+i\\Psi=k\\ln r + ik \\theta = k\\log(z)$. For this complex potential $\\Omega(z)=k\\log z$, the streamlines  $\\theta=$ constant are radial lines which include the origin.\n",
    "\n",
    "Note that the equipotentials are given by $\\ln r$ = constant or equivalently $r=$ constant and hence are concentric circles centered at the origin. This illustrates the general fact that the streamlines and equipotentials are orthogonal.\n"
   ]
  },
  {
   "cell_type": "markdown",
   "metadata": {},
   "source": [
    "#### Exercise"
   ]
  },
  {
   "cell_type": "markdown",
   "metadata": {},
   "source": [
    ":::{admonition} Exercise\n",
    "3.3.1 Let $\\Phi(x)= - \\frac{q_u}{A}x+\\Phi_0$ be the velocity potential for uniform flow. Find the corresponding stream function $\\Psi$ and complex potential $\\Omega$. Then show that the equipotentials and streamlines are orthogonal.\n",
    ":::"
   ]
  },
  {
   "cell_type": "markdown",
   "metadata": {},
   "source": [
    "### Uniform Flow"
   ]
  },
  {
   "cell_type": "markdown",
   "metadata": {},
   "source": [
    "```{index} uniform flow\n",
    "```"
   ]
  },
  {
   "cell_type": "markdown",
   "metadata": {},
   "source": [
    "\n",
    "Uniform flow means both the flow rate $q_u$ ($\\frac{m^3}{s}$) and the velocity vector $<V_x,V_y>$ are constant at each point.  If the flow is in the $x$ direction, then $V_y=0$ and $V_x=q_u/A$, where $A$ is the cross-sectional area through which such flow in 3 dimensions passes (see figure below). The flow pattern is exactly the same in every plane parallel to the original.\n",
    "\n",
    "<img src=\"fig4.png\" width=\"200px\"> \n",
    "\n",
    "In this case, Darcy's Law becomes\n",
    "\n",
    "$$\n",
    "  V_x=\\frac{q_u}{A}  =-\\frac{d\\Phi}{dx}.\n",
    "$$\n",
    "\n",
    "Integrating, we get \n",
    "\n",
    "$$\n",
    "    \\Phi(x)= -\\frac{q_u}{A} x + \\Phi_0. \n",
    "$$\n",
    "  "
   ]
  },
  {
   "cell_type": "markdown",
   "metadata": {},
   "source": [
    "  For example, set $-\\frac{q_u}{A}=1$ and $\\Phi_0=0$ so in this case $\\Phi=-x$.  Since $\\Psi_y(x,y)=\\Phi_x=-1$, we can let $\\Psi(x,y)=-y$ and obtain the complex potential is $\\Omega(x,y)=-x-iy=-z$ \n",
    "  \n",
    "   <img src=\"fig5.png\" width=\"200px\"> "
   ]
  },
  {
   "cell_type": "markdown",
   "metadata": {},
   "source": [
    "#### Exercise"
   ]
  },
  {
   "cell_type": "markdown",
   "metadata": {},
   "source": [
    ":::{admonition} Exercise\n",
    "\n",
    "<b>3.4.1</b> Consider the uniform flow with complex potential $\\Omega(z)=z$.  Find $\\Phi$ and $\\Psi$, and describe the direction of the flow.\n",
    "\n",
    ":::   "
   ]
  },
  {
   "cell_type": "markdown",
   "metadata": {},
   "source": [
    "### Sources and Sinks"
   ]
  },
  {
   "cell_type": "markdown",
   "metadata": {},
   "source": [
    "```{index} sink\n",
    "```"
   ]
  },
  {
   "cell_type": "markdown",
   "metadata": {},
   "source": [
    "```{index} source\n",
    "```"
   ]
  },
  {
   "cell_type": "markdown",
   "metadata": {},
   "source": [
    "For a source or sink with a constant flow  rate $q_w$ ($\\frac{m^3}{s}$) in the $r$ (radial) direction ($q_w>0$ for a source and $q_w<0$ for a sink),  the area $A$  through which such flow  in 3 dimensions passes is the lateral surface of a circular cylinder with radius $r$ and height $h$:  $A=2\\pi r h$ (see figure below).  The  flow pattern is assumed to be exactly  the same in each plane parallel to the original.\n",
    "    \n",
    "    \n",
    " <img src=\"fig6.png\" width=\"200px\"> \n",
    " \n",
    " Darcy's law becomes\n",
    " \n",
    " $$\n",
    "        V_r=\\frac{q_w}{2\\pi r h} = - \\frac{d\\Phi}{dr},\\,\n",
    "$$\n",
    "\n",
    "so $\\Phi(r)= - \\frac{q_w}{2\\pi h} \\ln r $. Since fluid flows  from higher potential to lower potential, the velocity potential $\\Phi$ decreases with increasing $r$ for a source ( $q_w>0$ ) and increases with increasing $r$ for a sink $(q_w<0$). The equipotential lines (level curves for $\\Phi$) have the form $\\ln(r)=constant$, or more simply $r$ = constant. The equipotentials are concentric circles centered at the origin.\n",
    "   \n",
    "  <img src=\"fig7.png\" width=\"200px\">   "
   ]
  },
  {
   "cell_type": "markdown",
   "metadata": {},
   "source": [
    "Setting $\\Phi_0=0$, as we showed earlier in introducing the stream function and complex potential, a corresponding stream function is $\\Psi=- \\frac{q_w}{2\\pi h}\\theta=- \\frac{q_w}{2\\pi h}\\arg(z)$ so the streamlines have the form $\\Psi=- \\frac{q_w}{2\\pi h} \\arg z=- \\frac{q_w}{2\\pi h}\\arctan(\\frac{y}{x})$ = constant, or more simply, $\\theta$ = constant. The streamlines are half-lines which radiate to or away from the origin. Note that in this case, we can use a potential of the form $\\Omega(z)=- \\frac{q_w}{2\\pi h}(\\ln r+\\theta)=- \\frac{q_w}{2\\pi h}\\log(z)$ to model  a sink ($q_w<0$) or a source ($q_w>0$) at the origin.  (More generally, if the source or sink is located at $z_w=(x_w,y_w)$, then a complex potential of the form $\\Omega(z)=- \\frac{q_w}{2\\pi h} \\log(z-z_w)$ is used to model the source or sink.)"
   ]
  },
  {
   "cell_type": "markdown",
   "metadata": {},
   "source": [
    "#### Example"
   ]
  },
  {
   "cell_type": "markdown",
   "metadata": {},
   "source": [
    "Consider a complex potential for an equal strength source ($q_w/h=1$)  at A(0,0) and sink ($q_w/h=-1$) at C(1,1):  $\\Omega(z) =\\frac{-1}{2\\pi}[\\log(z)-\\log(z-(1+i))$].  In this case, the velocity potential  is given by\n",
    "\n",
    "$$\n",
    "   \\Phi(x,y) =\\frac{-1}{2\\pi}[\\sqrt{x^2+y^2}-\\sqrt{(x-1)^2+(y-1)^2}].\n",
    "$$\n",
    "\n",
    "  The stream function must account for the choice of branch cuts. Suppose we specify the branches as shown in the figure below,  namely a branch cut in the direction of the negative x-axis at the branch point A(0,0) and a branch cut in the direction of the positive x-axis at the branch point C(1,1). The stream function is in this case  \n",
    "   \n",
    "  $ \\Psi(x,y)= \\frac{-1}{2\\pi}[\\theta(z,z_{source})-\\theta(z,z_{sink})],\\, z=x+iy.$\n",
    "  \n",
    "   <img src=\"fig8.png\" width=\"200px\"> \n",
    "  \n",
    "The equipotentials and streamlines are shown in the figure below.\n",
    "\n",
    " <img src=\"fig9.png\" width=\"200px\"> "
   ]
  },
  {
   "cell_type": "markdown",
   "metadata": {},
   "source": [
    "### The Rankine Oval"
   ]
  },
  {
   "cell_type": "markdown",
   "metadata": {},
   "source": [
    "```{index} The Rankine Oval\n",
    "```"
   ]
  },
  {
   "cell_type": "markdown",
   "metadata": {},
   "source": [
    "The superposition principle for flows (based on superposition of harmonic functions) says that to find the complex potential $\\Omega(z)$ for a uniform flow with a source at $d_1$ and a sink at $d_2$, we add together the three individual complex potentials:\n",
    "\n",
    "$$\n",
    "\\Omega(z)=-\\frac{q_{u}}{A}z   -\\frac{q_{source}}{2\\pi h} \\log(z-d_1) - \\frac{q_{sink}}{2\\pi h} \\log(z-d_2) .\n",
    "$$\n",
    "\n",
    "If the flow rates are balanced (i.e. have equal strength $q_{source}=-q_{sink}=q_s$), and the sink and source positioned symetrically about the origin ($-d_1=d_2=d>0)$ then the complex potential has the form\n",
    "\n",
    "$$\n",
    "\\Omega(z)=-\\frac{q_{u}}{A}z-\\frac{q_{s}}{2\\pi h}\\log(\\frac{z+d}{z-d})\\, ,\n",
    "$$\n",
    "\n",
    "where $2d$ is the distance between the source and sink.\n",
    "\n",
    "This complex potential $\\Omega(z)$  can be used to model uniform flow  around an oval boundary known as Rankine's oval which contains in its interior the flow from source to sink. The figure below shows streamlines for the complex potential $\\Omega(z)=-z-2\\log(\\frac{z+1}{z-1})$. A source is located at (-1,0) and equal strength sink at (1,0). Rankine's oval is the dividing streamline between uncontaminated and contaminated flow. A separation of the flow occurs at the stagnation point where the oval intersects the horizontal axis through the center of the oval. \n",
    "\n",
    " <img src=\"fig10.png\" width=\"600px\"> \n",
    "\n",
    "\n",
    "      "
   ]
  },
  {
   "cell_type": "markdown",
   "metadata": {},
   "source": [
    "In general, the complex velocity $W$ is defined to be the negative of the derivative of $\\Omega$. That is, $W=-\\frac{d\\Omega}{dz}$. The stagnation points, or critical points where the velocity is zero and thus the flow can abruptly change directions, are obtained by setting $W=0$. In our example,  \n",
    "\n",
    "$$\n",
    "    W=-\\frac{d\\Omega}{dz}=\\frac{q_{u}}{A}+\\frac{q_{s}}{2\\pi h}\\Big(\\frac{1}{z+d}-\\frac{1}{z-d}\\Big)=0\\, ,\n",
    "$$\n",
    "\n",
    "which yields the stagnation points  $z=\\pm \\sqrt{d^{2}+\\frac{A}{q_{u}}\\frac{q_{s}}{\\pi h}d}$. A streamline which passes through a stagnation point is called a **dividing streamline**.  The value of the stream function $\\Psi$ at a stagnation point gives the value of the level curve representing the dividing streamline. If we think of the source as a pollution source, then the Rankine oval is the dividing streamline passing through the two stagnation points and thus indicates the boundary between uncontaminated and contaminated flow.\n",
    "\n",
    "In the limit as $d\\rightarrow 0$ and  $m=\\frac{q_s}{2\\pi h} \\rightarrow \\infty$ in such a way that $2dm=\\sigma$ remains finite, a dipole is created with a circular Rankine oval. In this case, the complex potential  takes the form $\\Omega(z)=-\\frac{q_u}{A}z-\\frac{\\sigma}{z}$ (see Exercise 3) and is used to represent uniform flow around a circular boundary.\n",
    "   "
   ]
  },
  {
   "cell_type": "markdown",
   "metadata": {},
   "source": [
    "#### Exercises"
   ]
  },
  {
   "cell_type": "markdown",
   "metadata": {},
   "source": [
    ":::{admonition} Exercises\n",
    "\n",
    "**3.6.1** What scenario is modelled by the complex potential $\\Omega=-z-2 \\log(z+1)$? Make a sketch of the streamlines corresponding to this potential.\n",
    "\n",
    "**3.6.2** The figure below shows the streamlines for the potential $\\Omega(z) = -z-4\\log(z-(-8+i)) +2\\log(z-(1+i))-4\\log(z-(-8-i)) +2\\log(z-(1-i))$\n",
    "\n",
    " <img src=\"fig11.png\" width=\"300px\"> \n",
    " \n",
    "a)  Find the stream function $\\Psi(x,y).$\n",
    "\n",
    "b) How many sinks and sources are there?\n",
    "\n",
    "c) Which have greater strength, the sources or the sinks?\n",
    "\n",
    "d) If contaminant flows from the sources along the streamlines, will it be contained by the sinks (extraction wells)?\n",
    "\n",
    "e) What are the approximate coordinates of the stagnation points? \n",
    "\n",
    "f) What equation is used to find the exact coordinates of the stagnation points?\n",
    "\n",
    "3) Use a centered-difference quotient definition of derivative $\\frac{d}{dz} \\log z = \\frac{\\log(z+d)-\\log(z-d)}{2d}$ to show that \n",
    "\n",
    "$$\n",
    " -\\lim_{d\\rightarrow 0} \\frac{q_s}{2\\pi h} \\log \\frac{z+d}{z-d} = -\\frac{\\sigma}{z}\n",
    "$$\n",
    "\n",
    "where $m=q_s/(2\\pi h)$ and  $\\sigma=2dm.$\n",
    "\n",
    ":::"
   ]
  },
  {
   "cell_type": "code",
   "execution_count": null,
   "metadata": {},
   "outputs": [],
   "source": []
  }
 ],
 "metadata": {
  "kernelspec": {
   "display_name": "Python 3 (ipykernel)",
   "language": "python",
   "name": "python3"
  },
  "language_info": {
   "codemirror_mode": {
    "name": "ipython",
    "version": 3
   },
   "file_extension": ".py",
   "mimetype": "text/x-python",
   "name": "python",
   "nbconvert_exporter": "python",
   "pygments_lexer": "ipython3",
   "version": "3.11.7"
  }
 },
 "nbformat": 4,
 "nbformat_minor": 2
}
