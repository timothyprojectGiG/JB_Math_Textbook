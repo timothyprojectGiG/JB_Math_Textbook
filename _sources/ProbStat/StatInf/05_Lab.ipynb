{
 "cells": [
  {
   "cell_type": "code",
   "execution_count": 1,
   "id": "9c87c7fb",
   "metadata": {},
   "outputs": [
    {
     "data": {
      "text/html": [
       "        <script type=\"text/javascript\">\n",
       "        window.PlotlyConfig = {MathJaxConfig: 'local'};\n",
       "        if (window.MathJax && window.MathJax.Hub && window.MathJax.Hub.Config) {window.MathJax.Hub.Config({SVG: {font: \"STIX-Web\"}});}\n",
       "        if (typeof require !== 'undefined') {\n",
       "        require.undef(\"plotly\");\n",
       "        requirejs.config({\n",
       "            paths: {\n",
       "                'plotly': ['https://cdn.plot.ly/plotly-2.12.1.min']\n",
       "            }\n",
       "        });\n",
       "        require(['plotly'], function(Plotly) {\n",
       "            window._Plotly = Plotly;\n",
       "        });\n",
       "        }\n",
       "        </script>\n",
       "        "
      ]
     },
     "metadata": {},
     "output_type": "display_data"
    }
   ],
   "source": [
    "# import libraries\n",
    "# Always run this cell first!\n",
    "import numpy as np\n",
    "import pandas as pd\n",
    "\n",
    "import scipy\n",
    "import statsmodels.api # appear to need to import the api as well as the library itself for the interpreter to find the modules\n",
    "import statsmodels as sm\n",
    "\n",
    "import matplotlib.pyplot as plt\n",
    "import seaborn as sns\n",
    "%matplotlib inline\n",
    "import plotly.graph_objects as go\n",
    "import plotly.offline\n",
    "plotly.offline.init_notebook_mode(connected=True) # make plotly work with Jupyter Notebook using CDN"
   ]
  },
  {
   "cell_type": "markdown",
   "id": "b47c6dc6",
   "metadata": {},
   "source": [
    "# Lab: The Framingham Heart Study"
   ]
  },
  {
   "cell_type": "markdown",
   "id": "c0044166",
   "metadata": {},
   "source": [
    "The [Framingham Heart Study](https://en.wikipedia.org/wiki/Framingham_Heart_Study) is an ongoing study of cardiovascular health in the United States. The initial study followed over 5,000 volunteers from  Framingham, Massachusetts, USA over the course of several decades, and it still continues today. The study led to important findings in many areas, including a link between cholesterol and heart disease. (These excercises are inspired by an assignment from UC Berkeley's [Data 8](http://data8.org/).)\n",
    "\n",
    "We load in the data below from the file `framingham.csv` (click [here](framingham.csv) to download a copy). There are a number of different interesting variables to explore, but we will focus on exploring total cholesterol levels (`TOTCHOL`) versus the occurence of heart disease (`ANYCHD`). The variable `ANYCHD` takes the value `0` if the patient does not have heart disease and the value `1` if they do."
   ]
  },
  {
   "cell_type": "code",
   "execution_count": 2,
   "id": "b911dc3f",
   "metadata": {},
   "outputs": [
    {
     "data": {
      "text/html": [
       "<div>\n",
       "<style scoped>\n",
       "    .dataframe tbody tr th:only-of-type {\n",
       "        vertical-align: middle;\n",
       "    }\n",
       "\n",
       "    .dataframe tbody tr th {\n",
       "        vertical-align: top;\n",
       "    }\n",
       "\n",
       "    .dataframe thead th {\n",
       "        text-align: right;\n",
       "    }\n",
       "</style>\n",
       "<table border=\"1\" class=\"dataframe\">\n",
       "  <thead>\n",
       "    <tr style=\"text-align: right;\">\n",
       "      <th></th>\n",
       "      <th>AGE</th>\n",
       "      <th>SYSBP</th>\n",
       "      <th>DIABP</th>\n",
       "      <th>TOTCHOL</th>\n",
       "      <th>CURSMOKE</th>\n",
       "      <th>DIABETES</th>\n",
       "      <th>GLUCOSE</th>\n",
       "      <th>DEATH</th>\n",
       "      <th>ANYCHD</th>\n",
       "    </tr>\n",
       "  </thead>\n",
       "  <tbody>\n",
       "    <tr>\n",
       "      <th>0</th>\n",
       "      <td>39</td>\n",
       "      <td>106.0</td>\n",
       "      <td>70.0</td>\n",
       "      <td>195.0</td>\n",
       "      <td>0</td>\n",
       "      <td>0</td>\n",
       "      <td>77.0</td>\n",
       "      <td>0</td>\n",
       "      <td>1</td>\n",
       "    </tr>\n",
       "    <tr>\n",
       "      <th>1</th>\n",
       "      <td>46</td>\n",
       "      <td>121.0</td>\n",
       "      <td>81.0</td>\n",
       "      <td>250.0</td>\n",
       "      <td>0</td>\n",
       "      <td>0</td>\n",
       "      <td>76.0</td>\n",
       "      <td>0</td>\n",
       "      <td>0</td>\n",
       "    </tr>\n",
       "    <tr>\n",
       "      <th>2</th>\n",
       "      <td>48</td>\n",
       "      <td>127.5</td>\n",
       "      <td>80.0</td>\n",
       "      <td>245.0</td>\n",
       "      <td>1</td>\n",
       "      <td>0</td>\n",
       "      <td>70.0</td>\n",
       "      <td>0</td>\n",
       "      <td>0</td>\n",
       "    </tr>\n",
       "    <tr>\n",
       "      <th>3</th>\n",
       "      <td>61</td>\n",
       "      <td>150.0</td>\n",
       "      <td>95.0</td>\n",
       "      <td>225.0</td>\n",
       "      <td>1</td>\n",
       "      <td>0</td>\n",
       "      <td>103.0</td>\n",
       "      <td>1</td>\n",
       "      <td>0</td>\n",
       "    </tr>\n",
       "    <tr>\n",
       "      <th>4</th>\n",
       "      <td>46</td>\n",
       "      <td>130.0</td>\n",
       "      <td>84.0</td>\n",
       "      <td>285.0</td>\n",
       "      <td>1</td>\n",
       "      <td>0</td>\n",
       "      <td>85.0</td>\n",
       "      <td>0</td>\n",
       "      <td>0</td>\n",
       "    </tr>\n",
       "  </tbody>\n",
       "</table>\n",
       "</div>"
      ],
      "text/plain": [
       "   AGE  SYSBP  DIABP  TOTCHOL  CURSMOKE  DIABETES  GLUCOSE  DEATH  ANYCHD\n",
       "0   39  106.0   70.0    195.0         0         0     77.0      0       1\n",
       "1   46  121.0   81.0    250.0         0         0     76.0      0       0\n",
       "2   48  127.5   80.0    245.0         1         0     70.0      0       0\n",
       "3   61  150.0   95.0    225.0         1         0    103.0      1       0\n",
       "4   46  130.0   84.0    285.0         1         0     85.0      0       0"
      ]
     },
     "execution_count": 2,
     "metadata": {},
     "output_type": "execute_result"
    }
   ],
   "source": [
    "framingham = pd.read_csv(\"framingham.csv\")\n",
    "framingham.head()"
   ]
  },
  {
   "cell_type": "markdown",
   "id": "8d48db1f",
   "metadata": {},
   "source": [
    "## Part 1: Explore the data"
   ]
  },
  {
   "cell_type": "markdown",
   "id": "11263005",
   "metadata": {},
   "source": [
    "As always, it's important to take a look at your data before you dive into any kind of inference. We first note that we have both categorical and numerical variables, which changes what types of vizualization we might be interested in. First, we'll look at the size of the data frame, which shows that we have 3842 observations of 9 variables."
   ]
  },
  {
   "cell_type": "code",
   "execution_count": 3,
   "id": "ac75ae95",
   "metadata": {},
   "outputs": [
    {
     "data": {
      "text/plain": [
       "(3842, 9)"
      ]
     },
     "execution_count": 3,
     "metadata": {},
     "output_type": "execute_result"
    }
   ],
   "source": [
    "framingham.shape"
   ]
  },
  {
   "cell_type": "markdown",
   "id": "942e57d4",
   "metadata": {},
   "source": [
    "Since we are interested in how cholesterol connects to occurence of heart disease, we next explore those variables. Like the penguin example in the text, we will separate our data into our two samples. Then we'll calculate the mean cholesterol rating for each group."
   ]
  },
  {
   "cell_type": "code",
   "execution_count": 4,
   "id": "0dd0acaa",
   "metadata": {},
   "outputs": [
    {
     "name": "stdout",
     "output_type": "stream",
     "text": [
      "The mean total cholesterol for those with an occurence of CHD is 249.482.\n",
      "The mean total cholesterol for those without occurence of CHD is 232.846.\n"
     ]
    }
   ],
   "source": [
    "chd = framingham[framingham['ANYCHD'] == 1]\n",
    "nochd = framingham[framingham['ANYCHD'] == 0]\n",
    "\n",
    "print(f\"The mean total cholesterol for those with an occurence of CHD is {chd['TOTCHOL'].mean():.3f}.\")\n",
    "print(f\"The mean total cholesterol for those without occurence of CHD is {nochd['TOTCHOL'].mean():.3f}.\")"
   ]
  },
  {
   "cell_type": "markdown",
   "id": "2d52d0ed",
   "metadata": {},
   "source": [
    "The means are different, but it's not clear if they are a lot different, or just a little bit. That depends on the sample sizes and the distribution of cholesterol levels!\n",
    "\n",
    "1. Write a line or two of code to figure out how many people in the study have an occurence of CHD and how many do not.\n",
    "\n",
    "2. Make a histogram of the cholesterol levels for both samples. Describe the distributions' centers, shapes, and compare the two."
   ]
  },
  {
   "cell_type": "markdown",
   "id": "df98a94f",
   "metadata": {},
   "source": [
    "## Part 2: Two Sample T-tests"
   ]
  },
  {
   "cell_type": "markdown",
   "id": "3917c8b0",
   "metadata": {},
   "source": [
    "We want to determine if there is a true difference in average cholesterol levels between people with heart disease and those without. This is true in our sample, but we need to see if the evidence is enough to make a claim about the population. We are testing the hypotheses:\n",
    "\n",
    "$ H_0: \\mu_1 = \\mu_2$\n",
    "$ H_1: \\mu_1 \\neq \\mu_2$\n",
    "\n",
    "where $\\mu_1$ and $\\mu_2$ represent the average total cholesterol levels of the CHD and No CHD populations, respectively. But first we need to know if using a T-test is valid!\n",
    "\n",
    "1. Describe the assumptions of the T-test and comment on if they are valid for this example. Your work in Part 1 should be enough."
   ]
  },
  {
   "cell_type": "markdown",
   "id": "91b9825a",
   "metadata": {},
   "source": [
    "Once we know that the test is appropriate for our problem, we want to perform the test. Recall that to do this we want to set up a `CompareMeans` object from our two samples. Just like in the chapter, we do that in the following way."
   ]
  },
  {
   "cell_type": "code",
   "execution_count": 5,
   "id": "6a03f648",
   "metadata": {},
   "outputs": [],
   "source": [
    "sample1 = chd['TOTCHOL']\n",
    "sample2 = nochd['TOTCHOL']\n",
    "\n",
    "# create a CompareMeans object from the two samples\n",
    "cm = sm.stats.weightstats.CompareMeans.from_data(sample1, sample2)"
   ]
  },
  {
   "cell_type": "markdown",
   "id": "69c78330",
   "metadata": {},
   "source": [
    "Now we are ready to perform the test!\n",
    "\n",
    "2. Compute the test statistic and $P$-value using `cm.ttest_ind`. \n",
    "3. Write your conclusion in a complete sentence.\n",
    "4. Give a confidence interval for the difference in average total cholesterol."
   ]
  }
 ],
 "metadata": {
  "kernelspec": {
   "display_name": "Python 3 (ipykernel)",
   "language": "python",
   "name": "python3"
  },
  "language_info": {
   "codemirror_mode": {
    "name": "ipython",
    "version": 3
   },
   "file_extension": ".py",
   "mimetype": "text/x-python",
   "name": "python",
   "nbconvert_exporter": "python",
   "pygments_lexer": "ipython3",
   "version": "3.10.9"
  }
 },
 "nbformat": 4,
 "nbformat_minor": 5
}
