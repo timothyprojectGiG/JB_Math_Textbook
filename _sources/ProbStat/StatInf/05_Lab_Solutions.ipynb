{
 "cells": [
  {
   "cell_type": "code",
   "execution_count": 1,
   "id": "9c87c7fb",
   "metadata": {
    "tags": [
     "hide-input"
    ]
   },
   "outputs": [
    {
     "data": {
      "text/html": [
       "        <script type=\"text/javascript\">\n",
       "        window.PlotlyConfig = {MathJaxConfig: 'local'};\n",
       "        if (window.MathJax && window.MathJax.Hub && window.MathJax.Hub.Config) {window.MathJax.Hub.Config({SVG: {font: \"STIX-Web\"}});}\n",
       "        if (typeof require !== 'undefined') {\n",
       "        require.undef(\"plotly\");\n",
       "        requirejs.config({\n",
       "            paths: {\n",
       "                'plotly': ['https://cdn.plot.ly/plotly-2.12.1.min']\n",
       "            }\n",
       "        });\n",
       "        require(['plotly'], function(Plotly) {\n",
       "            window._Plotly = Plotly;\n",
       "        });\n",
       "        }\n",
       "        </script>\n",
       "        "
      ]
     },
     "metadata": {},
     "output_type": "display_data"
    }
   ],
   "source": [
    "# import libraries\n",
    "# Always run this cell first!\n",
    "import numpy as np\n",
    "import pandas as pd\n",
    "\n",
    "import scipy\n",
    "import statsmodels.api # appear to need to import the api as well as the library itself for the interpreter to find the modules\n",
    "import statsmodels as sm\n",
    "\n",
    "import matplotlib.pyplot as plt\n",
    "import seaborn as sns\n",
    "%matplotlib inline\n",
    "import plotly.graph_objects as go\n",
    "import plotly.offline\n",
    "plotly.offline.init_notebook_mode(connected=True) # make plotly work with Jupyter Notebook using CDN"
   ]
  },
  {
   "cell_type": "markdown",
   "id": "b47c6dc6",
   "metadata": {},
   "source": [
    "# JNB Lab Solutions"
   ]
  },
  {
   "cell_type": "code",
   "execution_count": 3,
   "id": "b911dc3f",
   "metadata": {
    "scrolled": true
   },
   "outputs": [
    {
     "data": {
      "text/html": [
       "<div>\n",
       "<style scoped>\n",
       "    .dataframe tbody tr th:only-of-type {\n",
       "        vertical-align: middle;\n",
       "    }\n",
       "\n",
       "    .dataframe tbody tr th {\n",
       "        vertical-align: top;\n",
       "    }\n",
       "\n",
       "    .dataframe thead th {\n",
       "        text-align: right;\n",
       "    }\n",
       "</style>\n",
       "<table border=\"1\" class=\"dataframe\">\n",
       "  <thead>\n",
       "    <tr style=\"text-align: right;\">\n",
       "      <th></th>\n",
       "      <th>AGE</th>\n",
       "      <th>SYSBP</th>\n",
       "      <th>DIABP</th>\n",
       "      <th>TOTCHOL</th>\n",
       "      <th>CURSMOKE</th>\n",
       "      <th>DIABETES</th>\n",
       "      <th>GLUCOSE</th>\n",
       "      <th>DEATH</th>\n",
       "      <th>ANYCHD</th>\n",
       "    </tr>\n",
       "  </thead>\n",
       "  <tbody>\n",
       "    <tr>\n",
       "      <th>0</th>\n",
       "      <td>39</td>\n",
       "      <td>106.0</td>\n",
       "      <td>70.0</td>\n",
       "      <td>195.0</td>\n",
       "      <td>0</td>\n",
       "      <td>0</td>\n",
       "      <td>77.0</td>\n",
       "      <td>0</td>\n",
       "      <td>1</td>\n",
       "    </tr>\n",
       "    <tr>\n",
       "      <th>1</th>\n",
       "      <td>46</td>\n",
       "      <td>121.0</td>\n",
       "      <td>81.0</td>\n",
       "      <td>250.0</td>\n",
       "      <td>0</td>\n",
       "      <td>0</td>\n",
       "      <td>76.0</td>\n",
       "      <td>0</td>\n",
       "      <td>0</td>\n",
       "    </tr>\n",
       "    <tr>\n",
       "      <th>2</th>\n",
       "      <td>48</td>\n",
       "      <td>127.5</td>\n",
       "      <td>80.0</td>\n",
       "      <td>245.0</td>\n",
       "      <td>1</td>\n",
       "      <td>0</td>\n",
       "      <td>70.0</td>\n",
       "      <td>0</td>\n",
       "      <td>0</td>\n",
       "    </tr>\n",
       "    <tr>\n",
       "      <th>3</th>\n",
       "      <td>61</td>\n",
       "      <td>150.0</td>\n",
       "      <td>95.0</td>\n",
       "      <td>225.0</td>\n",
       "      <td>1</td>\n",
       "      <td>0</td>\n",
       "      <td>103.0</td>\n",
       "      <td>1</td>\n",
       "      <td>0</td>\n",
       "    </tr>\n",
       "    <tr>\n",
       "      <th>4</th>\n",
       "      <td>46</td>\n",
       "      <td>130.0</td>\n",
       "      <td>84.0</td>\n",
       "      <td>285.0</td>\n",
       "      <td>1</td>\n",
       "      <td>0</td>\n",
       "      <td>85.0</td>\n",
       "      <td>0</td>\n",
       "      <td>0</td>\n",
       "    </tr>\n",
       "  </tbody>\n",
       "</table>\n",
       "</div>"
      ],
      "text/plain": [
       "   AGE  SYSBP  DIABP  TOTCHOL  CURSMOKE  DIABETES  GLUCOSE  DEATH  ANYCHD\n",
       "0   39  106.0   70.0    195.0         0         0     77.0      0       1\n",
       "1   46  121.0   81.0    250.0         0         0     76.0      0       0\n",
       "2   48  127.5   80.0    245.0         1         0     70.0      0       0\n",
       "3   61  150.0   95.0    225.0         1         0    103.0      1       0\n",
       "4   46  130.0   84.0    285.0         1         0     85.0      0       0"
      ]
     },
     "execution_count": 3,
     "metadata": {},
     "output_type": "execute_result"
    }
   ],
   "source": [
    "framingham = pd.read_csv(\"framingham.csv\")"
   ]
  },
  {
   "cell_type": "markdown",
   "id": "8d48db1f",
   "metadata": {},
   "source": [
    "## Part 1: Explore the data"
   ]
  },
  {
   "cell_type": "markdown",
   "id": "2d52d0ed",
   "metadata": {},
   "source": [
    "1. Write a line or two of code to figure out how many people in the study have an occurrence of CHD and how many do not.\n",
    "\n",
    "There are 954 people in the study with CHD and 2888 without CHD."
   ]
  },
  {
   "cell_type": "code",
   "execution_count": 60,
   "id": "9c60ec21",
   "metadata": {
    "tags": [
     "hide-input"
    ]
   },
   "outputs": [
    {
     "name": "stdout",
     "output_type": "stream",
     "text": [
      "954 2888\n"
     ]
    }
   ],
   "source": [
    "# Solution 1.1\n",
    "print(chd.shape[0], nochd.shape[0])"
   ]
  },
  {
   "cell_type": "markdown",
   "id": "7c17f1ca",
   "metadata": {},
   "source": [
    "```{index} histogram\n",
    "```"
   ]
  },
  {
   "cell_type": "markdown",
   "id": "44761712",
   "metadata": {},
   "source": [
    "2. Make a histogram of the cholesterol levels for both samples. Describe the distributions' centers, shapes, and compare the two."
   ]
  },
  {
   "cell_type": "code",
   "execution_count": 84,
   "id": "b4e1ee50",
   "metadata": {
    "tags": [
     "hide-input"
    ]
   },
   "outputs": [
    {
     "data": {
      "image/png": "[encoded data removed]",
      "text/plain": [
       "<Figure size 640x480 with 1 Axes>"
      ]
     },
     "metadata": {},
     "output_type": "display_data"
    }
   ],
   "source": [
    "# Solution 1.2\n",
    "sns.histplot(\n",
    "    data=framingham,\n",
    "    x='TOTCHOL',\n",
    "    hue='ANYCHD',\n",
    "    stat='density',\n",
    "    common_norm=False,\n",
    "    bins=30\n",
    ");"
   ]
  },
  {
   "cell_type": "markdown",
   "id": "5dd82837",
   "metadata": {},
   "source": [
    "```{index} t-test; two-sample\n",
    "```"
   ]
  },
  {
   "cell_type": "markdown",
   "id": "df98a94f",
   "metadata": {},
   "source": [
    "## Part 2: Two Sample T-tests"
   ]
  },
  {
   "cell_type": "markdown",
   "id": "3917c8b0",
   "metadata": {},
   "source": [
    "1. Describe the assumptions of the T-test and comment on if they are valid for this example. Your work in Part 1 should be enough."
   ]
  },
  {
   "cell_type": "markdown",
   "id": "bda1779d",
   "metadata": {},
   "source": [
    "The t-test is valid since we have a large sample size in both samples ($n_1 = 945$ and $n_2 = 2888$), and both sample distributions are relatively mound shaped."
   ]
  },
  {
   "cell_type": "markdown",
   "id": "69c78330",
   "metadata": {},
   "source": [
    "2. Compute the test statistic and $P$-value using `cm.ttest_ind`. "
   ]
  },
  {
   "cell_type": "code",
   "execution_count": 58,
   "id": "29497a04",
   "metadata": {
    "tags": [
     "hide-input"
    ]
   },
   "outputs": [
    {
     "name": "stdout",
     "output_type": "stream",
     "text": [
      "Results of T-test: test statistic is 9.766 with 1545.774 degrees of freedom.\n",
      "P-value is 0.000.\n"
     ]
    }
   ],
   "source": [
    "# Solution\n",
    "sample1 = chd['TOTCHOL']\n",
    "sample2 = nochd['TOTCHOL']\n",
    "\n",
    "# create a CompareMeans object from the two samples\n",
    "cm = sm.stats.weightstats.CompareMeans.from_data(sample1, sample2)\n",
    "\n",
    "(stat, pval, df) = cm.ttest_ind(\n",
    "    value = 0, # null hypothesis: difference in means is 0\n",
    "    alternative = 'two-sided', # two-sided alternative hypothesis\n",
    "    usevar = 'unequal', # perform Welch's t-test\n",
    ")\n",
    "\n",
    "print(f'Results of T-test: test statistic is {stat:.3f} with {df:.3f} degrees of freedom.\\nP-value is {pval:.3f}.')"
   ]
  },
  {
   "cell_type": "markdown",
   "id": "a344879b",
   "metadata": {},
   "source": [
    "3. Write your conclusion in a complete sentence.\n",
    "\n",
    "Solution: Our test yields a test statistic of 9.766 on 1545.774 degrees of freedom, with a p-value of 0. Thus, we reject the null hypothesis that the average total cholesterol levels are the same in both populations. \n",
    "\n",
    "4. Give a confidence interval for the difference in average total cholesterol.\n",
    "\n",
    "Solution: A 95% confidence interval for the difference is (13.295, 19.977), meaning that we are 95% confident that average cholesterol levels are (roughly) 13 to 20 points higher in patients with CHD."
   ]
  },
  {
   "cell_type": "markdown",
   "id": "13b6275f",
   "metadata": {},
   "source": [
    "```{index} confidence intervals\n",
    "```"
   ]
  },
  {
   "cell_type": "code",
   "execution_count": 61,
   "id": "6d84aa42",
   "metadata": {
    "tags": [
     "hide-input"
    ]
   },
   "outputs": [
    {
     "name": "stdout",
     "output_type": "stream",
     "text": [
      "95% confidence interval is (13.295, 19.977).\n"
     ]
    }
   ],
   "source": [
    "conflevel = 0.95\n",
    "\n",
    "# compute confidence interval, using the same CompareMeans object as before\n",
    "(lower, upper) = cm.tconfint_diff(\n",
    "    alpha = 1-conflevel,\n",
    "    alternative = 'two-sided',\n",
    "    usevar = 'unequal', # perform Welch's t-test\n",
    ")\n",
    "print(f'{int(conflevel*100)}% confidence interval is ({lower:.3f}, {upper:.3f}).')"
   ]
  }
 ],
 "metadata": {
  "celltoolbar": "Edit Metadata",
  "kernelspec": {
   "display_name": "Python 3 (ipykernel)",
   "language": "python",
   "name": "python3"
  },
  "language_info": {
   "codemirror_mode": {
    "name": "ipython",
    "version": 3
   },
   "file_extension": ".py",
   "mimetype": "text/x-python",
   "name": "python",
   "nbconvert_exporter": "python",
   "pygments_lexer": "ipython3",
   "version": "3.11.3"
  }
 },
 "nbformat": 4,
 "nbformat_minor": 5
}
