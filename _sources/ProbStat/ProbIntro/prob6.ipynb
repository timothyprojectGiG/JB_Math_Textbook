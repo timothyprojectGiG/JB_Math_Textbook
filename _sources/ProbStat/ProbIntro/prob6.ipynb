{
 "cells": [
  {
   "cell_type": "markdown",
   "metadata": {},
   "source": [
    "# Mathematical Games\n",
    "\n",
    "<span style='font-size:medium'>Many games that people play for pleasure have mathematical aspects. Indeed </span><span style='font-size:medium'>**game theory**</span><span style='font-size:medium'> is a field of mathematics. </span>\n",
    "\n",
    "<span style='font-size:medium'>We can identify properties of games mathematically and via computer simulation. In this section, we focus on modeling, simulation, and visualization of the results of a few games that involve randomness. The goal is to get insights into the likelihoods of different outcomes, given rules, rather than actually to engage in games for pure entertainment. No prior familiarity with the games is assumed, and we do not include any betting, which some people consider morally objectionable.</span>\n",
    "\n",
    "## Craps\n",
    "\n",
    "<span style='font-size:medium'>The game of craps uses two six\\-sided dice. The rules for two versions of the game are as follows:</span>\n",
    "\n",
    "1. <span style='font-size:medium'>“Pass Line”:</span>\n",
    "\n",
    "- <span style='font-size:medium'>If the first roll is a 7 or 11, you win.</span>\n",
    "- <span style='font-size:medium'>Otherwise, if the first roll is a 2, 3, or 12, you lose.</span>\n",
    "- <span style='font-size:medium'>In all other cases, the specific number rolled is “the point”, and you roll again until one of the following outcomes:</span>\n",
    "  - <span style='font-size:medium'>If you roll “the point” again, you win.</span>\n",
    "  - <span style='font-size:medium'>If you roll a 7, you lose.</span>\n",
    "\n",
    "2. <span style='font-size:medium'>“Don't Pass”:</span>\n",
    "\n",
    "- <span style='font-size:medium'>If the first roll is a 7 or 11, you lose.</span>\n",
    "- <span style='font-size:medium'>Otherwise, if the first roll is a 2, 3, or 12, you win.</span>\n",
    "- <span style='font-size:medium'>In all other cases, the specific number rolled is “the point”, and you roll again until one of the following outcomes:</span>\n",
    "  - <span style='font-size:medium'>If you roll “the point” again, you lose.</span>\n",
    "  - <span style='font-size:medium'>If you roll a 7, you win.</span>\n",
    "\n",
    "<span style='font-size:medium'>If you neither win, nor lose, we call the result a draw or a tie.</span>\n",
    "\n",
    "<span style='font-size:medium'>We can implement these two versions of the game in Python. We see possible output below. </span>\n",
    "\n"
   ]
  },
  {
   "cell_type": "code",
   "execution_count": 24,
   "metadata": {},
   "outputs": [
    {
     "name": "stdout",
     "output_type": "stream",
     "text": [
      "Pass line:\n",
      "draw\n",
      "\n",
      "Play again\n",
      "\n",
      "Don't pass:\n",
      "lose\n"
     ]
    }
   ],
   "source": [
    "def roll_two_dice():\n",
    "    die1 = random.randint(1, 6)\n",
    "    die2 = random.randint(1, 6)\n",
    "    return die1 + die2\n",
    "\n",
    "def pass_line():\n",
    "    roll = roll_two_dice()\n",
    "    if (roll == 7) or (roll == 11):\n",
    "        return \"win\"\n",
    "    elif (roll == 2) or (roll == 3) or (roll == 12):\n",
    "        return \"lose\"\n",
    "    else:\n",
    "        the_point = roll\n",
    "        roll = roll_two_dice()\n",
    "        if (roll == the_point):\n",
    "            return \"win\"\n",
    "        elif (roll == 7):\n",
    "            return \"lose\"\n",
    "        else:\n",
    "            return \"draw\"\n",
    "\n",
    "def dont_pass():\n",
    "    roll = roll_two_dice()\n",
    "    if (roll == 7) or (roll == 11):\n",
    "        return \"lose\"\n",
    "    elif (roll == 2) or (roll == 3) or (roll == 12):\n",
    "        return \"win\"\n",
    "    else:\n",
    "        the_point = roll\n",
    "        roll = roll_two_dice()\n",
    "        if (roll == the_point):\n",
    "            return \"lose\"\n",
    "        elif (roll == 7):\n",
    "            return \"win\"\n",
    "        else:\n",
    "            return \"draw\"\n",
    "\n",
    "print(\"Pass line:\")\n",
    "print(pass_line())\n",
    "print(\"\\nPlay again\\n\")\n",
    "print(\"Don't pass:\")\n",
    "print(dont_pass())"
   ]
  },
  {
   "cell_type": "markdown",
   "metadata": {},
   "source": [
    "<span style='font-size:medium'>Explore these two versions of the game craps in the Exercises section.</span>\n"
   ]
  },
  {
   "cell_type": "markdown",
   "metadata": {},
   "source": [
    "## Choosing the Right One\n",
    "\n",
    "<span style='font-size:medium'>Consider the following problem:</span>\n",
    "\n",
    "<span style='font-size:medium'>You arrive at a hotel and are invited to walk down the hall and choose what you consider the best out of $n$ rooms. The rooms are varied with no underlying organization. You will view them one\\-by\\-one, and the person in charge says you must accept or reject a room immediately after viewing it because a stream of others seeking lodging is coming in behind you. If you have not accepted a room before you reach the end of the hall, you will get the last of the $n$ rooms.</span>\n",
    "\n",
    "<span style='font-size:medium'>Problem: How can you maximize the chance that you will accept the room you consider the best?</span>\n",
    "\n",
    "<span style='font-size:medium'>Optimal stopping problems like this one arise in various contexts, including financial markets \\(choosing when to sell stock in an </span>$n$<span style='font-size:medium'>\\-day period\\), housing markets \\(choosing when to sell a house in an </span>$n$<span style='font-size:medium'>\\-day period\\), and hiring or marriage \\(selecting someone when </span>$n$<span style='font-size:medium'> candidates \"dribble in\" sequentially\\).</span>\n",
    "\n",
    "<span style='font-size:medium'>Notice that if your strategy is to pick a room at random, your chance of getting the best room is $1/n$. If your strategy is to choose the first, second, last, or \"middle\" room, your chance of getting the best room is also $1/n$. For larger values of $n$, this strategy performs increasingly poorly.</span>\n",
    "\n",
    "<span style='font-size:medium'>An insight here is that you can benefit from a \"preview process.\" Set a strategy in which you preview $r$ rooms (rejecting each one) and record the maximum score $m$ from the preview set. Then pick the first room with a score that is better than $m$.\n",
    "</span>\n",
    "\n",
    "<span style='font-size:medium'>For example, suppose </span>$n = 10$<span style='font-size:medium'>. Previewing </span>$r$<span style='font-size:medium'> rooms is possible if </span>$0 \\le r < n$<span style='font-size:medium'>. Suppose your strategy is to preview </span>$r = 3$<span style='font-size:medium'> rooms. If the scores for the rooms are \\[67, 91, 85, 92, 2, 71, 32, 56, 37, 34\\], then </span>$m = 91$<span style='font-size:medium'>. The first room with a score better than </span>$m$<span style='font-size:medium'> is the fourth room with a score of 92. In this case, the strategy yielded the best room.</span>\n",
    "\n",
    "\n",
    "<span style='font-size:medium'>We can explore the game of choosing the right one with the following algorithm:</span>\n"
   ]
  },
  {
   "cell_type": "code",
   "execution_count": 25,
   "metadata": {},
   "outputs": [],
   "source": [
    "# 1. Generate a list ratings of n rooms, from 0 to 100.\n",
    "\n",
    "# 2. Define the number_rooms_to_preview as int(0.37 * n).\n",
    "\n",
    "# 3. Find max among the first 37% by looping through the rooms to be visited.\n",
    "\n",
    "# 4. While rooms still remain to be visited,\n",
    "# and the rating does not surpass the first 37% of ratings,\n",
    "# advance to the next room:\n",
    "# while (i < n) and (ratings[i] <= max):\n",
    "    # i += 1\n",
    "\n",
    "# 5. Once you exit the while loop, if you haven't reached the final room,\n",
    "# if i < n:\n",
    "# then you have found a room that surpasses the first 37%.\n",
    "# You found the first rating that exceeds max, so assign that rating as your choice:\n",
    "    # choice = ratings[i]\n",
    "\n",
    "# 6. Otherwise, you have been through all the rooms, and you must take the last room:\n",
    "# else:\n",
    "    # choice = ratings[n-1]\n",
    "\n",
    "# 7. Sort apartments best to worst:\n",
    "# ratings.sort(reverse = True)\n",
    "\n",
    "# 8. Find the index of your choice in the sorted list\n",
    "# to get the rank of your chosen room (1 <= rank <= n):\n",
    "# rank = ratings.index(choice) + 1\n",
    "\n",
    "# 9. Append the rank of the selected apartment into a list.\n",
    "\n",
    "# 10. Plot these ranks in a histogram."
   ]
  },
  {
   "cell_type": "markdown",
   "metadata": {},
   "source": [
    "<span style='font-size:medium'>Explore this algorithm for choosing the right one in the Exercises section. </span>\n"
   ]
  },
  {
   "cell_type": "markdown",
   "metadata": {},
   "source": [
    "## Coin\\-flipping Game\n",
    "\n",
    "<span style='font-size:medium'>Suppose you have a coin to flip and </span>$n$<span style='font-size:medium'> tokens. In this game, you put a fraction </span>$F$<span style='font-size:medium'> of your tokens \\(</span>$Fn$<span style='font-size:medium'> tokens\\)</span> <span style='font-size:medium'>on the table, </span>$0 <F \\le 1$<span style='font-size:medium'>. You choose either heads or tails for the game, for example heads. Then you flip the coin. If it comes up with your choice \\(heads\\), then you win </span>$Fn$<span style='font-size:medium'> additional tokens. If your choice is wrong \\(the coin comes up tails\\), then you lose all </span>$Fn$<span style='font-size:medium'> tokens. Repeat the process, each time using the same fraction </span>$F$<span style='font-size:medium'> of the number of tokens that you now have and using the same coin\\-flip choice \\(in this example, heads\\). Do this until you lose all your tokens or up to a maximum number of flips, for example 30, whichever comes first.</span>\n",
    "\n",
    "<span style='font-size:medium'>Example: You start the game with </span>$n=100$<span style='font-size:medium'> tokens. You decide that you will put down </span>$F = 1/2$<span style='font-size:medium'> of your tokens for each turn, use heads as your guess, and play until you lose all your tokens or up to a maximum of 30 flips, whichever comes first. As such, you put 50 tokens on the table. You flip the coin. It comes up heads, so you win 50 tokens. Therefore, you have 150 tokens altogether \\(150 points\\). So, next you put 75 tokens on the table. You flip the coin. It comes up tails, so you lose the 75 tokens. Now you have 75 tokens \\(75 points\\) altogether. In one version of the game, points must be positive integers, so you chose a convention for rounding up or rounding down when the number of tokens </span>$Fn$<span style='font-size:medium'>is odd. In another version, fractional points like 37.5 are allowed. We could simulate a continuation of the game with one of these conventions to determine how many points you have at the end of the game.</span>\n",
    "\n",
    "<span style='font-size:medium'>It has been mathematically established that a winning strategy to maximize your points is to put down the optimal fraction </span>$F$<span style='font-size:medium'> of your tokens,  given by the Kelly criterion as \n",
    "\n",
    "</span>$$F = \\frac{bp – 1 + p}{b},$$\n",
    "\n",
    "<span style='font-size:medium'>where </span>$p$<span style='font-size:medium'> is the probability of winning, like </span>$p = 0.5$<span style='font-size:medium'> for heads, </span>$1 − p$<span style='font-size:medium'> is the probability of losing, and </span>$b$<span style='font-size:medium'> are the odds in the game. For example, odds </span>$b = 1$<span style='font-size:medium'> means “put down 1 and win </span>$b = 1$<span style='font-size:medium'> points” \\(or lose </span>$b = 1$<span style='font-size:medium'> point\\).</span>\n",
    "\n",
    "<span style='font-size:medium'>Explore this game in the Exercises section.</span>\n",
    "\n"
   ]
  },
  {
   "cell_type": "markdown",
   "metadata": {},
   "source": [
    "## Exercises"
   ]
  },
  {
   "cell_type": "markdown",
   "metadata": {},
   "source": [
    ":::{admonition} Exercises\n",
    "<span style='font-size:medium'>Exercise 1: For the game of craps, does the choice of “Pass Line” vs. “Don't Pass” affect the likelihood of winning, under the rules given? If so, what kind of difference and how much difference? Use quantitative information to support your answer. State whether you have provided mathematical proof or computational evidence.</span>\n",
    "\n",
    "<span style='font-size:medium'>Exercise 2: If one of the two dice is biased in the game of craps, how does that affect the analysis and conclusions from Exercise 1? Illustrate your answer by doing some simulations and discussing the results.</span>\n",
    "\n",
    "Exercise 3: Simulate the optimal stopping problem for ten rooms using the algorithm discussed in this section. Execute many trials.\n",
    "(a) Explain whether you typically get the best room or not when you preview three of the rooms.\n",
    "(b) If you don't get the best room, how good of a room do you typically get?\n",
    "(c) Show a histogram of the ranks of the rooms you choose. Do the shape, center, and spread of the ranks suggest that the strategy (algorithm) is a good one for winning the best room? Explain.\n",
    "(d) Does the strategy of previewing three rooms tend to lead to a better outcome than if you preview two or four? Support your answer.\n",
    "(e) It can be shown mathematically that the optimal fraction of the total rooms that you should preview is $1/e$ as $n$ gets very large. The probability that you will select the best room this way is also $1/e$ for large $n$. Are your simulations consistent with these results? Explain.\n",
    ":::"
   ]
  },
  {
   "cell_type": "markdown",
   "metadata": {},
   "source": [
    "### References"
   ]
  },
  {
   "cell_type": "markdown",
   "metadata": {},
   "source": [
    "Dekking, F.M., Kraaikamp, C., Lopuhaa, L.E., Meester, L.E.  2005. A Modern Introduction to Probability and Statistics: Understanding why and how. The Netherlands: Delft.\n",
    "\n",
    "Guttag, J.V. 2021. Introduction to Computation and Programming Using Python (3E) Cambridge, MA. The MIT Press. "
   ]
  }
 ],
 "metadata": {
  "kernelspec": {
   "display_name": "Python 3",
   "language": "python",
   "name": "python3"
  },
  "language_info": {
   "codemirror_mode": {
    "name": "ipython",
    "version": 3
   },
   "file_extension": ".py",
   "mimetype": "text/x-python",
   "name": "python",
   "nbconvert_exporter": "python",
   "pygments_lexer": "ipython3",
   "version": "3.8.8"
  }
 },
 "nbformat": 4,
 "nbformat_minor": 4
}
