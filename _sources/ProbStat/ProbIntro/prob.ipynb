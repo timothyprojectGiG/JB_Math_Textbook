{
 "cells": [
  {
   "cell_type": "markdown",
   "metadata": {},
   "source": [
    "# Introduction\n",
    "\n",
    "<span style='font-size:medium'>The </span><span style='font-size:medium'>**probability**</span><span style='font-size:medium'> is the chance or likelihood that a given event will occur. For example, we can ask, \"What is the probability that it will rain tomorrow?\", and evaluate the possibility of that event occuring mathematically. Probability is a branch of mathematics concerned with the study of probabilities.</span>\n",
    "\n",
    "<span style='font-size:medium'>We quantify the probabilities of various events in this chapter. We do both mathematical analysis and computation. As in other fields of mathematics, mathematical understanding guides the choices of what to compute, and insights gained from computational exploration enhance mathematical understanding.</span>\n",
    "\n",
    "<span style='font-size:medium'>Ultimately we use </span><span style='font-size:medium'>**models**</span><span style='font-size:medium'> to describe practical problems via mathematics or an **algorithm** \\(precise method\\). We solve mathematical models approximately using Python programs or implement algorithms using Python. The results mimic, imitate, or simulate the behavior of the physical or practical problem at hand. We can use Python to create visualizations that facilitate interpretation of the computer simulation.</span>"
   ]
  },
  {
   "cell_type": "code",
   "execution_count": null,
   "metadata": {},
   "outputs": [],
   "source": []
  }
 ],
 "metadata": {
  "kernelspec": {
   "display_name": "Python 3 (ipykernel)",
   "language": "python",
   "name": "python3"
  },
  "language_info": {
   "codemirror_mode": {
    "name": "ipython",
    "version": 3
   },
   "file_extension": ".py",
   "mimetype": "text/x-python",
   "name": "python",
   "nbconvert_exporter": "python",
   "pygments_lexer": "ipython3",
   "version": "3.11.7"
  }
 },
 "nbformat": 4,
 "nbformat_minor": 4
}
