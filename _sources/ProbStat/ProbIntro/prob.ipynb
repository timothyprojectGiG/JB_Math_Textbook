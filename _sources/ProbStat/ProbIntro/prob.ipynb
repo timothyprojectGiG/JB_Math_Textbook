{
 "cells": [
  {
   "cell_type": "markdown",
   "metadata": {},
   "source": [
    "# Introduction\n",
    "\n",
    "The **probability** is the chance or likelihood that a given event will occur. For example, we can ask, \"What is the probability that it will rain tomorrow?\", and evaluate the possibility of that event occuring mathematically. Probability is a branch of mathematics concerned with the study of probabilities.\n",
    "\n",
    "We quantify the probabilities of various events in this chapter. We do both mathematical analysis and computation. As in other fields of mathematics, mathematical understanding guides the choices of what to compute, and insights gained from computational exploration enhance mathematical understanding.\n",
    "\n",
    "Ultimately we use **models** to describe practical problems via mathematics or an **algorithm** (precise method). We solve mathematical models approximately using Python programs or implement algorithms using Python. The results mimic, imitate, or simulate the behavior of the physical or practical problem at hand. We can use Python to create visualizations that facilitate interpretation of the computer simulation."
   ]
  },
  {
   "cell_type": "code",
   "execution_count": null,
   "metadata": {},
   "outputs": [],
   "source": []
  }
 ],
 "metadata": {
  "kernelspec": {
   "display_name": "Python 3 (ipykernel)",
   "language": "python",
   "name": "python3"
  },
  "language_info": {
   "codemirror_mode": {
    "name": "ipython",
    "version": 3
   },
   "file_extension": ".py",
   "mimetype": "text/x-python",
   "name": "python",
   "nbconvert_exporter": "python",
   "pygments_lexer": "ipython3",
   "version": "3.11.7"
  }
 },
 "nbformat": 4,
 "nbformat_minor": 4
}
