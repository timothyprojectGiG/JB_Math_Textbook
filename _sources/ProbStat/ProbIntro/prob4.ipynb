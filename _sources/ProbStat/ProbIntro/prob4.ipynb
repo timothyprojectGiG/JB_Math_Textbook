{
 "cells": [
  {
   "cell_type": "code",
   "execution_count": 1,
   "metadata": {},
   "outputs": [],
   "source": [
    "import math\n",
    "import numpy as np\n",
    "import matplotlib.pyplot as plt\n",
    "import random\n",
    "random.seed()"
   ]
  },
  {
   "cell_type": "markdown",
   "metadata": {},
   "source": [
    "# Probability Distributions\n",
    "\n",
    "<span style='font-size:medium'>A probability distribution is a mathematical function that maps each possible numerical outcome </span>$X$<span style='font-size:medium'> of an experiment to its probability. Probability distributions come in many different types. Some fundamental ones include uniform, normal and binormal. </span>\n",
    "\n"
   ]
  },
  {
   "cell_type": "markdown",
   "metadata": {},
   "source": [
    "## Uniform distribution\n",
    "\n",
    "<span style='font-size:medium'>The graph of a </span><span style='font-size:medium'>**uniform distribution**</span><span style='font-size:medium'> could look like this:</span>\n",
    "\n",
    "```{figure} uniform.png\n",
    "```\n",
    "                                         "
   ]
  },
  {
   "cell_type": "markdown",
   "metadata": {},
   "source": [
    "<span style='font-size:medium'>In the uniform distribution, each value along the horizontal axis is equally probable.</span>\n",
    "\n",
    "<span style='font-size:medium'>Mathematical distributions are important.  We use them to determine probabilities for results of certain random experiments and to approximate real frequency distributions.</span>\n",
    "\n",
    "<span style='font-size:medium'>For example, if we use Python to generate a random integer between 1 and 6, the number is selected from a uniform distribution: Each outcome is equally likely. We see a possible output below.</span>"
   ]
  },
  {
   "cell_type": "code",
   "execution_count": 2,
   "metadata": {},
   "outputs": [
    {
     "name": "stdout",
     "output_type": "stream",
     "text": [
      "6\n"
     ]
    }
   ],
   "source": [
    "print(random.randint(1, 6))"
   ]
  },
  {
   "cell_type": "markdown",
   "metadata": {},
   "source": [
    "<span style='font-size:medium'>A histogram is a visualization of a frequency distribution: It shows how often a random variable takes on a value.</span>\n",
    "<span style='font-size:medium'>It shows the shape, center, and spread.</span>\n",
    "\n",
    "<span style='font-size:medium'>For example, consider the simulation of rolling a die 6000 times. We can capture the results with a histogram in Python using the  **matplptlib.pyplot** package. </span><span style='font-size:medium'>`Matplotlib`</span><span style='font-size:medium'> contains a variety of functions to create visualizations of data.</span><span style='font-size:medium'></span><span style='font-size:medium'> It captures the functionality of the proprietary </span><span style='font-size:medium'>`Matlab`</span><span style='font-size:medium'>.\n",
    "\n",
    "\n",
    "<span style='font-size:medium'> In this section we use the </span><span style='font-size:medium'>`Numpy package`</span><span style='font-size:medium'>. <span style='font-size:medium'></span><span style='font-size:medium'> It provides tools for numerical computing, e.g., efficient numerical vector/array calculations based on underlying libraries in the Fortran and C programming languages. \n",
    "\n",
    "\n",
    "</span>\n",
    "\n",
    "<span style='font-size:medium'>Here we call the </span><span style='font-size:medium'>`hist`</span><span style='font-size:medium'> method on the data values that fall in the range 1 to 7 inclusive, where each bar has width 0.8 using . Experiment to see how this call is an improvement over </span><span style='font-size:medium'>`plt.hist(values)`</span><span style='font-size:medium'> and </span><span style='font-size:medium'>`plt.hist(values, bins = 6)`</span><span style='font-size:medium'> and </span><span style='font-size:medium'>`plt.hist(values, bins = 6, rwidth = 0.8)`</span><span style='font-size:medium'>. We improve the layout of the bars by specifying the leftmost and rightmost values.</span>\n"
   ]
  },
  {
   "cell_type": "code",
   "execution_count": 3,
   "metadata": {},
   "outputs": [
    {
     "data": {
      "image/png": "[encoded data removed]",
      "text/plain": [
       "<Figure size 432x288 with 1 Axes>"
      ]
     },
     "metadata": {
      "needs_background": "light"
     },
     "output_type": "display_data"
    }
   ],
   "source": [
    "values = [] # Work with list or array.\n",
    "for i in range(6000): # Roll the die 6000 times.\n",
    "    roll = random.randint(1, 6)\n",
    "    values.append(roll)\n",
    "# Plot a histogram of the values.\n",
    "plt.hist(values, bins = range(1, 8), rwidth = 0.8)\n",
    "# The leftmost edge is 1, and the rightmost is 7.\n",
    "plt.xlabel('Outcome')\n",
    "plt.ylabel('Number of times')\n",
    "plt.show()"
   ]
  },
  {
   "cell_type": "markdown",
   "metadata": {},
   "source": [
    "The results of the simulation of 6000 die rolls look approximately uniform with some slight differences in the frequencies of the rolls of the six numbers.\n"
   ]
  },
  {
   "cell_type": "markdown",
   "metadata": {},
   "source": [
    "The uniform distribution approximates real data, like births by month, as shown in the figure. The real data for the years shown in the figure have some slight month\\-to\\-month differences.\n",
    "\n",
    "```{figure} birthsUS.png\n",
    "```\n"
   ]
  },
  {
   "cell_type": "markdown",
   "metadata": {},
   "source": [
    "## Normal distribution\n",
    "\n",
    "<span style='font-size:medium'>A probability distribution can be discrete or continuous, depending on whether it maps a discrete value or a continuous value </span>$X$<span style='font-size:medium'> of an experiment to its probability. A numerical variable is discrete if there are jumps between the possible values. A numerical variable is continuous if it can take on any real\\-number value between two other values.</span>\n",
    "\n",
    "<span style='font-size:medium'>The data in the previous examples are discrete. There is a jump of 1 between each possible value on the die. There is a jump of 1 between each possible number of births per month. We cannot roll a 3.72 on a die or have 10,007.21 births per month.</span>\n",
    "\n",
    "<span style='font-size:medium'>The graph of a </span><span style='font-size:medium'>**normal distribution**</span><span style='font-size:medium'> or Gaussian distribution could look like this:</span>\n"
   ]
  },
  {
   "cell_type": "markdown",
   "metadata": {},
   "source": [
    "```{figure} normal.png\n",
    "```\n",
    "\n"
   ]
  },
  {
   "cell_type": "markdown",
   "metadata": {},
   "source": [
    "<span style='font-size:medium'>In the normal distribution, the values in the middle ranging along the horizontal axis are more probable than at the ends \\(\"in the tails\"\\) of the distribution. The normal distribution is often called a \"bell curve\" because it is shaped like a bell.</span>\n",
    "\n",
    "<span style='font-size:medium'>The distribution could be discrete. The continuous form of the normal distribution </span>\n",
    "\n",
    "$$P(X) = \\frac{1}{\\sigma \\sqrt{2 \\pi}} \\exp\\left(-\\frac{1}{2} \\left(\\frac{X - \\mu}{\\sigma}\\right)^2\\right),$$\n",
    "\n",
    "<span style='font-size:medium'>where </span>$\\mu$ <span style='font-size:medium'>is the mean, and </span>$\\sigma$<span style='font-size:medium'> is the standard deviation, can be graphed in Python as: </span>\n"
   ]
  },
  {
   "cell_type": "code",
   "execution_count": 4,
   "metadata": {},
   "outputs": [
    {
     "data": {
      "image/png": "[encoded data removed]",
      "text/plain": [
       "<Figure size 432x288 with 1 Axes>"
      ]
     },
     "metadata": {
      "needs_background": "light"
     },
     "output_type": "display_data"
    }
   ],
   "source": [
    "def plot_normal_curve(start, end, mu, sigma):\n",
    "    # Plot the normal distribution with mean mu and standard deviation sigma on an interval from start to end.\n",
    "    y_coords = []\n",
    "    x_coords = np.arange(start, end, (end-start)/100) # Use 100 points between start and end.\n",
    "    for x in x_coords:\n",
    "        y_coords.append(1/sigma/math.sqrt(2*math.pi)*math.exp(-1/2 * ((x-mu)/sigma)**2))\n",
    "    plt.plot(x_coords, y_coords)\n",
    "\n",
    "plot_normal_curve(-2, 2, 0, 0.6)"
   ]
  },
  {
   "cell_type": "markdown",
   "metadata": {},
   "source": [
    "<span style='font-size:medium'>Distributions, such as the normal distribution, are useful for determining probabilities for results of certain random experiments, e.g., in mathematical statistics. </span><span style='font-size:medium'>**Statistics**</span><span style='font-size:medium'> is the science of collecting and analyzing data in large quantities, especially for making inferences about a </span><span style='font-size:medium'>**whole population**</span><span style='font-size:medium'> from a </span><span style='font-size:medium'>**representative sample**</span><span style='font-size:medium'>. </span>\n",
    "\n",
    "<span style='font-size:medium'>For example, how can we estimate the average height of all women in the country? Here the population is women in the country. The average height is the </span><span style='font-size:medium'>**expected value**</span><span style='font-size:medium'> or population parameter.</span>\n",
    "\n",
    "1. <span style='font-size:medium'>Sample some women at random. Measure them and average their heights to get the sample average or </span><span style='font-size:medium'>**sample mean**</span><span style='font-size:medium'>.</span>\n",
    "2. <span style='font-size:medium'>Repeat the process of sampling, measuring, and averaging.</span>\n",
    "3. <span style='font-size:medium'>Average the average heights for the samples.</span>\n",
    "\n",
    "<span style='font-size:medium'>The Law of Large Numbers could be casually stated as: The sample averages converge to the expected value, as the number of samples is increased.</span>\n",
    "\n",
    "<span style='font-size:medium'>The Central Limit Theorem could be casually stated as: The distribution of the sample statistic is approximately normal, if the sample size is large enough.</span>\n",
    "\n",
    "<span style='font-size:medium'>A sample statistic could be a sample mean for a </span><span style='font-size:medium'>**numerical variable**</span><span style='font-size:medium'> \\(like the average height of a sample of people\\) or a </span><span style='font-size:medium'>**sample proportion**</span><span style='font-size:medium'> for a </span><span style='font-size:medium'>**categorical variable**</span><span style='font-size:medium'> \\(like the proportion of adults in a sample of people who are in the \"yes\" category for the variable that measures completion of a sixth\\-grade education\\). Note that for </span><span style='font-size:medium'>**numerical variables**</span><span style='font-size:medium'>, quantities like the average, sum, or difference of their values have clear meaning. The possible values of </span><span style='font-size:medium'>**categorical variables**</span><span style='font-size:medium'> are called \"levels\", such as the yes/no \"levels\".</span>\n",
    "\n",
    "<span style='font-size:medium'>Experiment with / illustrate the law and theorem using </span><span style='font-size:medium'>`Python`</span><span style='font-size:medium'>. </span>\n",
    "\n"
   ]
  },
  {
   "cell_type": "code",
   "execution_count": 5,
   "metadata": {},
   "outputs": [
    {
     "name": "stdout",
     "output_type": "stream",
     "text": [
      "The mean of the proportions is 0.49986099999999817.\n"
     ]
    },
    {
     "data": {
      "image/png": "[encoded data removed]",
      "text/plain": [
       "<Figure size 432x288 with 1 Axes>"
      ]
     },
     "metadata": {
      "needs_background": "light"
     },
     "output_type": "display_data"
    },
    {
     "data": {
      "text/plain": [
       "<Figure size 432x288 with 0 Axes>"
      ]
     },
     "metadata": {},
     "output_type": "display_data"
    }
   ],
   "source": [
    "def flip(num_flips):\n",
    "    head_count = 0\n",
    "    for i in range(num_flips):\n",
    "        if random.choice(('H', 'T')) == 'H':\n",
    "            head_count += 1\n",
    "    return head_count/num_flips\n",
    "\n",
    "def flip_trials(num_flips_per_trial, num_trials):\n",
    "    # Return the proportions of heads in num_trials trials of num_flips coin flips.\n",
    "    # Return the mean of the proportions.\n",
    "    fraction_heads = []\n",
    "    for i in range(num_trials):\n",
    "        fraction_heads.append(flip(num_flips_per_trial))\n",
    "    mean = sum(fraction_heads) / len(fraction_heads)\n",
    "    return fraction_heads, mean\n",
    "\n",
    "def make_histogram_of_proportions(num_flips, num_trials):\n",
    "    # Make a histogram of the proportions of heads in num_trials trials of num_flips coin flips.\n",
    "    plt.title(f'{num_trials} trials of {num_flips} flips')\n",
    "    plt.xlabel('Proportion of heads')\n",
    "    plt.ylabel('Number of trials')\n",
    "    proportions_heads, mean_of_proportions = flip_trials(num_flips, num_trials)\n",
    "    plt.hist(proportions_heads, bins = 20)\n",
    "    xmin, xmax = 0.4, 0.6\n",
    "    plt.figure()\n",
    "    print(f'The mean of the proportions is {mean_of_proportions}.')\n",
    "\n",
    "make_histogram_of_proportions(1000, 10_000)"
   ]
  },
  {
   "cell_type": "markdown",
   "metadata": {},
   "source": [
    "## Binomial distribution\n",
    "\n",
    "<span style='font-size:medium'>Consider a fixed number $n$ of independent experiments, where each experiment can result in \"success\" with the same probability $p$. The binomial distribution maps the non-negative integer </span>$k$<span style='font-size:medium'> to the probability of achieving exactly $k$ successes in $n$ experiments.</span>\n",
    "\n",
    "<span style='font-size:medium'>The graph of a </span><span style='font-size:medium'>**binomial distribution**</span><span style='font-size:medium'> could look like this:</span>\n",
    "\n"
   ]
  },
  {
   "cell_type": "markdown",
   "metadata": {},
   "source": [
    "```{figure} binomial.png\n",
    "```\n",
    "\n",
    "<span style='font-size:medium'>The distribution is discrete. The binomial distribution </span>\n",
    "\n",
    "$$P(k) = \\frac{n!}{k! (n-k)!} \\ p^k (1-p)^{n-k}$$\n",
    "\n",
    "<span style='font-size:medium'>can be graphed in Python as: </span>"
   ]
  },
  {
   "cell_type": "code",
   "execution_count": 6,
   "metadata": {},
   "outputs": [
    {
     "data": {
      "image/png": "[encoded data removed]",
      "text/plain": [
       "<Figure size 432x288 with 1 Axes>"
      ]
     },
     "metadata": {
      "needs_background": "light"
     },
     "output_type": "display_data"
    }
   ],
   "source": [
    "def plot_binomial_curve(n, p):\n",
    "    # Plot the binomial distribution for n independent trials, each with probability p of success.\n",
    "    y_coords = []\n",
    "    for k in range(n):\n",
    "        y_coords.append(math.factorial(n)/math.factorial(k)/math.factorial(n-k) * p**k * (1-p)**(n-k))\n",
    "    plt.plot(np.arange(0, n, 1), y_coords) # Plot x-coordinates 0, 1, 2, 3, ..., n against y-coordinates.\n",
    "\n",
    "plot_binomial_curve(30, 0.2)"
   ]
  },
  {
   "cell_type": "markdown",
   "metadata": {},
   "source": [
    "## Exercises"
   ]
  },
  {
   "cell_type": "markdown",
   "metadata": {},
   "source": [
    ":::{admonition} Exercises\n",
    "<span style='font-size:medium'>Exercise 1: Consider points </span>$(x, y)$<span style='font-size:medium'> in a 1 x 1 square in the first quadrant of the plane </span>$(x, y) \\in [0, 1) \\times [0, 1)$<span style='font-size:medium'>. Simulate filling the square with dots by picking points in the square at random. Generate the coordinates in each </span>$x$<span style='font-size:medium'>\\-</span>$y$<span style='font-size:medium'> pair by using Python to sample from a uniform distribution on the interval \\[0, 1\\). Use the ratio of number of dots inside a quarter circle with center at the origin to total dots to simulate the ratio of the area of the quarter circle to the area of the square. Use this ratio to to estimate the value of </span>$\\pi$<span style='font-size:medium'>.</span>\n",
    "\n",
    "<span style='font-size:medium'>Exercise 2: Use Python to simulate a game board in which 10,000 balls are dropped down onto a triangle of ten levels of pegs, one\\-by\\-one. Level 1 has 1 peg. Level 2 below it has 2 pegs, etc., down to 10 pegs at Level 10 at the bottom. Assume each ball has equal probability of moving to the left or to the right at each level.</span>\n",
    "\n",
    "<span style='font-size:medium'>\\(a\\) Plot the number of balls against the landing\\-peg number. Include a descriptive title and labels for both axes on your plot.</span>\n",
    "\n",
    "<span style='font-size:medium'>\\(b\\) How does the graph tend to change if you use more levels and keep the number of balls the same? Why?</span>\n",
    "\n",
    "<span style='font-size:medium'>\\(c\\) How does the graph tend to change if you use more balls and keep the number of levels the same? Why?</span>\n",
    "\n",
    "Hint: To keep a record of how many balls land in each position, start with a list or array total_balls, consisting of ten zeroes. For each of 10,000 trials (each drop of a ball), start a current_position variable for the ball at 0. Loop through levels 1 to 9. (Start at Level 1 and go up to and not including the bottom row.) Increment current_position by random.randrange(2) at each level to represent a drop to the next level, where, say, 0 represents a move left, and 1 represents a move right. When you're done with all levels, increment the ball total at the index corresponding to the position where the ball ended up using, say, total_balls[current_position] += 1. \n",
    "\n",
    "<span style='font-size:medium'>Exercise 3: Consider a biased coin that lands on heads 20% of the time. Simulate 30 flips of the coin. Record whether no heads were flipped, 1 head was flipped, 2 heads were flipped,  3 heads were flipped, etc., up to 30 heads. Repeat the experiment 10,000 times. Draw a histogram that shows how often each number 1\\-30 of heads was flipped. Describe the shape and spread of the graph. Compare it to the graph of the mathematical distribution given by the formula.</span>\n",
    "\n",
    "Hint: Note that one way to simulate the flip of a fair coin, is as follows because a random number generated in the left half of the interval $[0, 1)$ represents a flip of heads, and a random number generated in the right half of the interval represents tails:\n",
    "\n",
    "p = 0.5\n",
    "if random.uniform(0, 1) < p:\n",
    "    print(\"You flipped heads!\")\n",
    "else:\n",
    "    print(\"You flipped tails!\")\n",
    "\n",
    "With a different value of $p$ than 0.5, you can simulate the flip of a coin biased to come up heads with a probability of $p$. You can increment a variable heads_counter (initialized to 0) with each simulated flip of the coin that comes up heads to check that your simulation performs as intended. \n",
    "\n",
    ":::"
   ]
  },
  {
   "cell_type": "code",
   "execution_count": null,
   "metadata": {},
   "outputs": [],
   "source": []
  }
 ],
 "metadata": {
  "kernelspec": {
   "display_name": "Python 3 (ipykernel)",
   "language": "python",
   "name": "python3"
  },
  "language_info": {
   "codemirror_mode": {
    "name": "ipython",
    "version": 3
   },
   "file_extension": ".py",
   "mimetype": "text/x-python",
   "name": "python",
   "nbconvert_exporter": "python",
   "pygments_lexer": "ipython3",
   "version": "3.11.7"
  }
 },
 "nbformat": 4,
 "nbformat_minor": 4
}
