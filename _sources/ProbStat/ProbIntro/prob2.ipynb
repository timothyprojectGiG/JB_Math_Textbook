{
 "cells": [
  {
   "cell_type": "code",
   "execution_count": 1,
   "metadata": {},
   "outputs": [],
   "source": [
    "import random"
   ]
  },
  {
   "cell_type": "markdown",
   "metadata": {},
   "source": [
    "# Probability\n",
    "\n",
    "<span style='font-size:medium'>Consider a six\\-sided die. \\(See image of two six\\-sided dice in the previous section.\\) The die can be used to select a number between 1 and 6 inclusive. By </span><span style='font-size:medium'>**inclusive**</span><span style='font-size:medium'>, we mean inclusive of the \"end points\" 1 and 6 \\(as well as of 2, 3, 4, and 5\\). The die can be used to select one of the numbers in an approximately random manner, modulo the slight imperfections \\(physical asymmetries\\) in the die.</span>\n",
    "\n",
    "<span style='font-size:medium'>Suppose you roll a perfect die </span>$n$<span style='font-size:medium'> times and keep a record of each outcome.</span>\n",
    "\n",
    "<span style='font-size:medium'>We list the following examples: What is the chance or </span><span style='font-size:medium'>**probability**</span><span style='font-size:medium'> that...</span>\n",
    "\n",
    "1. <span style='font-size:medium'>the die lands on a given number \\(say, 3\\) on the first roll?</span>\n",
    "2. <span style='font-size:medium'>the die lands on a given number \\(say, 4\\) on the second roll?</span>\n",
    "3. <span style='font-size:medium'>the die lands on a 1 or 6 on the first roll?</span>\n",
    "4. <span style='font-size:medium'>the die lands on the same number on the first two rolls?</span>\n",
    "5. <span style='font-size:medium'>the die lands on 1, 2, 3, 4, 5, and then 6 when rolled six times ($n=6$)?</span>\n",
    "\n",
    "<span style='font-size:medium'>The </span><span style='font-size:medium'>**probability**</span><span style='font-size:medium'> of an event, given a set of all of the equally likely outcomes, is the ratio </span>\n",
    "\n",
    "$$\\frac{\\text{the number of outcomes that produce the event}}{\\text{the total number of possible outcomes}}.$$\n",
    "\n",
    "<span style='font-size:medium'>Does this definition help you answer Example 1? Give it a try. Then read on!</span>\n",
    "\n",
    "<span style='font-size:medium'>We can do all of Examples 1\\-\\-5 </span><span style='font-size:medium'>**approximately**</span><span style='font-size:medium'> by using </span><span style='font-size:medium'>**computer simulation**</span><span style='font-size:medium'>. The computer </span><span style='font-size:medium'>**simulates**</span><span style='font-size:medium'> or imitates the rolling of a physical die. We can generate \\(pseudo\\-\\)random numbers many times and see what fraction of the cases result in the target outcome. Also, we can answer Problems 1\\-\\-5 </span><span style='font-size:medium'>**exactly**</span><span style='font-size:medium'> by using </span><span style='font-size:medium'>**mathematical ideas**</span><span style='font-size:medium'>. </span>\n",
    "\n",
    "## Definitions and Facts\n",
    "\n",
    "<span style='font-size:medium'>Definitions and rules. The </span><span style='font-size:medium'>**sample space**</span><span style='font-size:medium'> is the set of possible outcomes. The sample space for the roll of the die is {1, 2, 3, 4, 5, 6}. </span>\n",
    "\n",
    "<span style='font-size:medium'>Definition. An </span><span style='font-size:medium'>**event**</span><span style='font-size:medium'> $E$ corresponds to a subset of the sample space. For example, one event $E$ is that the die lands on a 1 or a 6. The event $E$ corresponds to the subset {1, 6}.</span>\n",
    "\n",
    "<span style='font-size:medium'>Example 1.  The probability that the die lands on a given number \\(say, 3\\) on the first roll is 1/6.</span>\n",
    "\n",
    "<span style='font-size:medium'>Fact. The probability of an event $A$ is a real number $P(A)$ between 0 and 1 inclusive, for example 1/6.</span>\n",
    "\n",
    "<span style='font-size:medium'>Fact. The probability of the sample space is 1. For example, the probability that the die lands on a 1 or 2 or 3 or 4 or 5 or 6 is 6/6 or 1.</span>\n",
    "\n",
    "<span style='font-size:medium'>Fact. The probability that event $A$ does not occur is $P(\\text{not} A) = 1 - P(A)$.</span>\n",
    "\n",
    "<span style='font-size:medium'>Example 3. The probability that the die lands on a 1 or a 6 is 2/6 or 1/3.</span>\n",
    "\n",
    "<span style='font-size:medium'>Example 4. The sample space for two rolls of the die is {11, 12,..., 16, 21, 22,..., 26, 31, 32,..., 36,...61, 62,..., 66}, where each two\\-digit number represents two rolls of the die. An event </span>$A$<span style='font-size:medium'>, in which the die lands on the same number on the first two rolls, corresponds to the set {11, 22, 33, 44, 55, 66}. The probability that the die lands on the same number on the first two rolls is 6/36 or 1/6.</span>\n",
    "\n",
    "<span style='font-size:medium'>Definition. </span><span style='font-size:medium'>**Mutually exclusive** </span><span style='font-size:medium'>events are events that cannot happen at the same time. For example, one roll of the die can yield one of six mutually exclusive events.</span>\n",
    "\n",
    "## Addition rule\n",
    "\n",
    "<span style='font-size:medium'>The addition rule for mutually exclusive events </span>$A$<span style='font-size:medium'> and </span>$B$<span style='font-size:medium'> is that </span>$P(A \\ \\text{or} \\ B) = P(A) + P(B)$<span style='font-size:medium'>. </span>\n",
    "\n",
    "<span style='font-size:medium'>Example 3. For example, the probability that the die lands on 1 \\(event </span>$A$<span style='font-size:medium'>\\) or the die lands on 6 \\(event </span>$B$<span style='font-size:medium'>\\) is </span>$P(A \\ \\text{or} \\ B) = P(A) + P(B) = 1/6 + 1/6 = 1/3$<span style='font-size:medium'>. This agrees with the prior solution.</span>\n",
    "\n",
    "## Multiplication rule\n",
    "\n",
    "<span style='font-size:medium'>The multiplication rule for mutually exclusive events </span>$A$<span style='font-size:medium'> and </span>$B$<span style='font-size:medium'> is that </span>$P(A \\ \\text{and} \\ B) = P(A) P(B).$\n",
    "\n",
    "<span style='font-size:medium'>Example 4. For example, the probability that the die lands on the same number on the first two rolls is the probability that a number is rolled \\(event </span>$A$<span style='font-size:medium'>\\) and the same number is rolled \\(event </span>$B$<span style='font-size:medium'>\\) is </span>$P(A \\ \\text{and} \\ B) = P(A) P(B) = 1 * 1/6 = 1/6$<span style='font-size:medium'>. This agrees with the prior solution.</span>\n",
    "\n",
    "## Simulation\n",
    "\n",
    "<span style='font-size:medium'>This section opened with Problems 1\\-\\-5 above. We said we could use a computer program to </span><span style='font-size:medium'>**simulate**</span><span style='font-size:medium'> the rolling of a physical die to answer the questions approximately.</span>\n",
    "\n",
    "<span style='font-size:medium'>Let's write a </span><span style='font-size:medium'>`roll`</span><span style='font-size:medium'> function to generate \\(pseudo\\-\\)random numbers many times. We'll approximate the probability of an event by calculating the fraction of the total cases that result in the event.  We see a possible output below.</span>\n"
   ]
  },
  {
   "cell_type": "code",
   "execution_count": 2,
   "metadata": {},
   "outputs": [],
   "source": [
    "# Return a list of num_rolls die rolls.\n",
    "def roll(num_rolls):\n",
    "    # Define a list for the results of the die rolls.\n",
    "    die_rolls = []\n",
    "    # Roll the die num_rolls times.\n",
    "    for i in range(num_rolls):\n",
    "        # Store a number 1-6 inclusive in die_roll.\n",
    "        die_roll = random.randint(1, 6)\n",
    "        # Append the die roll into the list of die rolls.\n",
    "        die_rolls.append(die_roll)\n",
    "\n",
    "    return(die_rolls)"
   ]
  },
  {
   "cell_type": "code",
   "execution_count": 2,
   "metadata": {},
   "outputs": [
    {
     "name": "stdout",
     "output_type": "stream",
     "text": [
      "[3, 3, 4, 4, 1, 3, 3, 2, 4, 5]\n",
      "Number of threes: 4\n"
     ]
    }
   ],
   "source": [
    "# Store ten rolls of the die in a list.\n",
    "rolls = roll(10)\n",
    "# Print the list.\n",
    "print(rolls)\n",
    "# Print the number of threes that were rolled.\n",
    "print(f\"Number of threes: {rolls.count(3)}\")"
   ]
  },
  {
   "cell_type": "markdown",
   "metadata": {},
   "source": [
    "<span style='font-size:medium'>Simulating Example 1. Answer Example 1 from the beginning of this section approximately by simulating a large number of rolls and counting the number of threes. Compare the result to the mathematical answer in a complete sentence.  We see a possible output below.</span>\n"
   ]
  },
  {
   "cell_type": "code",
   "execution_count": 3,
   "metadata": {
    "tags": [
     "hide-input"
    ]
   },
   "outputs": [
    {
     "name": "stdout",
     "output_type": "stream",
     "text": [
      "For large number of trials, the simulation should yield a fraction of threes approximately equal to 1/6 or 0.16666666666666666.\n",
      "Result obtained: 0.16629\n"
     ]
    }
   ],
   "source": [
    "# Make the variable trials equal a large number of rolls.\n",
    "trials = 100_000\n",
    "# Roll the die a large number of times.\n",
    "rolls = roll(trials)\n",
    "# Count the number of threes in the returned list and divide by the number of rolls.\n",
    "p3 = rolls.count(3)/trials\n",
    "print(f\"For large number of trials, the simulation should yield a fraction of threes approximately equal to 1/6 or {1/6}.\\nResult obtained: {p3}\")"
   ]
  },
  {
   "cell_type": "code",
   "execution_count": 4,
   "metadata": {
    "tags": [
     "hide-input"
    ]
   },
   "outputs": [
    {
     "name": "stdout",
     "output_type": "stream",
     "text": [
      "For large number of trials, the simulation should yield a fraction of ones and sixes approximately equal to 1/3 or 0.3333333333333333.\n",
      "Result obtained: 0.33291\n"
     ]
    }
   ],
   "source": [
    "# Make the variable trials equal a large number of rolls.\n",
    "trials = 100_000\n",
    "# Roll the die a large number of times.\n",
    "rolls = roll(trials)\n",
    "# Count the number of ones and sixes in the returned list and divide by the number of rolls.\n",
    "p_1_or_6 = (rolls.count(1) + rolls.count(6))/trials\n",
    "print(f\"For large number of trials, the simulation should yield a fraction of ones and sixes approximately equal to 1/3 or {1/3}.\\nResult obtained: {p_1_or_6}\")"
   ]
  },
  {
   "cell_type": "markdown",
   "metadata": {},
   "source": [
    "<span style='font-size:medium'>For 100,000 simulated rolls of the die, the fraction of values of 3 is typically rather close to the mathematical probability of rolling a 3.</span>\n",
    "\n",
    "<span style='font-size:medium'>Simulating Example 3. Answer Example 3 from the beginning of this section approximately by simulating a large number of rolls and counting the number of ones and sixes. Compare the result to the mathematical answer in a complete sentence. We see a possible output below.</span>"
   ]
  },
  {
   "cell_type": "code",
   "execution_count": 3,
   "metadata": {
    "tags": [
     "hide-input"
    ]
   },
   "outputs": [
    {
     "name": "stdout",
     "output_type": "stream",
     "text": [
      "For large number of trials, the simulation should yield a fraction approximately equal to 2/6 or 0.3333333333333333.\n",
      "Result obtained: 0.336\n"
     ]
    }
   ],
   "source": [
    "# Set a counter to 0.\n",
    "count = 0\n",
    "# Make the variable trials equal a large number of rolls.\n",
    "trials = 100_000\n",
    "# Roll two dice a large number of times.\n",
    "for i in range(trials):\n",
    "    rolls = roll(1) # Roll a die once\n",
    "    if (rolls[0] == 1 or rolls[0]==6): # If the roll is a 1 or a 6\n",
    "        count = count + 1 # increment the counter.\n",
    "print(f\"For large number of trials, the simulation should yield a fraction approximately equal to 2/6 or {1/3}.\\nResult obtained: {count/trials}\")"
   ]
  },
  {
   "cell_type": "markdown",
   "metadata": {},
   "source": [
    "<span style='font-size:medium'>Simulating Example 4. Answer Example 4 from the beginning of this section approximately by doing a large number of trials of two rolls of a die and counting the fraction of times the two rolls are the same. Compare the result to the mathematical probability in a complete sentence. </span>\n"
   ]
  },
  {
   "cell_type": "code",
   "execution_count": 5,
   "metadata": {
    "tags": [
     "hide-input"
    ]
   },
   "outputs": [
    {
     "name": "stdout",
     "output_type": "stream",
     "text": [
      "For large number of trials, the simulation should yield a fraction of 'double numbers' approximately equal to 1/6 or 0.16666666666666666.\n",
      "Result obtained: 0.16767\n"
     ]
    }
   ],
   "source": [
    "# Set a counter to 0.\n",
    "count = 0\n",
    "# Make the variable trials equal a large number of rolls.\n",
    "trials = 100_000\n",
    "# Roll two dice a large number of times.\n",
    "for i in range(trials):\n",
    "    rolls = roll(2) # Roll a die twice\n",
    "    if (rolls[0] == rolls[1]): # If the two rolls are the same,\n",
    "        count = count + 1 # increment the counter.\n",
    "print(f\"For large number of trials, the simulation should yield a fraction of 'double numbers' approximately equal to 1/6 or {1/6}.\\nResult obtained: {count/trials}\")"
   ]
  },
  {
   "cell_type": "markdown",
   "metadata": {},
   "source": [
    "For 100,000 simulated rolls of the die, the fraction of times the two rolls came up is typically rather close to the mathematical probability of the two rolls coming up the same."
   ]
  },
  {
   "cell_type": "markdown",
   "metadata": {},
   "source": [
    "## Law of large numbers\n",
    "\n",
    "<span style='font-size:medium'>In probability theory, the law of large numbers \\(LLN\\) says that the average of the results obtained from a large number of trials should be close to the expected average and tends to become closer to the expected average as more trials are performed \\(based on the Wikipedia article on the LLN, citing A Modern Introduction to Probability and Statistics: Understanding Why and How,  by F.M. Dekking, C. Kraaikamp, H.P. Lopuhaa, and L.E. Meester. Springer (Delft, The Netherlands, 2005\\)\\).</span>\n",
    "\n",
    "<span style='font-size:medium'>Example. A single roll of a fair, six\\-sided die produces 1, 2, 3, 4, 5, or 6, each with equal probability. Therefore, the expected value of the average of the rolls is \\(1 \\+ 2 \\+ 3 \\+ 4 \\+ 5 \\+ 6\\) / 6 = 3.5. According to the LLN, if a six\\-sided die is rolled a large number of times, the average value will approach 3.5 as the number of die rolls approaches infinity. We will illustrate this idea using simulations with a larger and larger amount of rolls.  We see a possible output below.</span>\n"
   ]
  },
  {
   "cell_type": "code",
   "execution_count": 6,
   "metadata": {},
   "outputs": [
    {
     "name": "stdout",
     "output_type": "stream",
     "text": [
      "10, 3.3\n",
      "100, 3.42\n",
      "1000, 3.547\n",
      "10000, 3.5135\n",
      "100000, 3.49626\n",
      "1000000, 3.498728\n"
     ]
    }
   ],
   "source": [
    "for i in range(6):\n",
    "    n = 10**(i+1)\n",
    "    print(f\"{n}, {sum(roll(n))/n}\")"
   ]
  },
  {
   "cell_type": "markdown",
   "metadata": {},
   "source": [
    "<span style='font-size:medium'>For a number of rolls </span>$n=10, 100, 1000, 10^4, 10^5, 10^6$<span style='font-size:medium'>, the average value is, for example, 3.3, 3.42, 3.547, 3.5135, 3.49626, 3.498728, respectively.</span>\n"
   ]
  },
  {
   "cell_type": "markdown",
   "metadata": {},
   "source": [
    "## Gambler's fallacy\n",
    "\n",
    "<span style='font-size:medium'>\"...the law of large numbers does not imply, as too many seem to think, that if deviations from expected behavior occur, these deviations are likely to be 'evened out' by opposite deviations in the future. This misapplication of the law of large numbers is known as the gambler’s fallacy\" \\(Introduction to Computation and Programming Using Python by Guttag\\).</span>\n",
    "\n",
    "<span style='font-size:medium'>Example. At the Casino de Monte\\-Carlo on August 18, 1913, the roulette ball landed on black 26 times in a row, and gamblers lost millions betting on red, incorrectly believing that landing on red became increasingly likely as the length of the run of blacks increased \\(</span>[https://www.bbc.com/future/article/20150127\\-why\\-we\\-gamble\\-like\\-monkeys](https://www.bbc.com/future/article/20150127-why-we-gamble-like-monkeys)<span style='font-size:medium'> , 1/27/2015\\). If you assume that there is a probability of 0.5 of landing on black and a probability of 0.5 of landing on red, what is the probability that 26 spins will result in black all 26 times? What is the probability that the 27th spin will land on black?</span>\n"
   ]
  },
  {
   "cell_type": "code",
   "execution_count": 7,
   "metadata": {},
   "outputs": [
    {
     "name": "stdout",
     "output_type": "stream",
     "text": [
      "1.4901161193847656e-08\n",
      "1.5e-08\n"
     ]
    }
   ],
   "source": [
    "# If you assume that there is a probability of 0.5 of landing on black and a probability of 0.5 of landing on red,\n",
    "# the probability that 26 spins will result in black all 26 times is\n",
    "print((0.5)**26)\n",
    "print(1.5/100_000_000)\n",
    "# If you do 100 million trials of spinning 26 times each, getting black 26 times will typically happen only once or twice."
   ]
  },
  {
   "cell_type": "markdown",
   "metadata": {},
   "source": [
    "<span style='font-size:medium'>If you spin a 27th time, the probability of landing on black is 0.5.</span>\n"
   ]
  },
  {
   "cell_type": "markdown",
   "metadata": {},
   "source": [
    "## Exercises"
   ]
  },
  {
   "cell_type": "markdown",
   "metadata": {},
   "source": [
    ":::{admonition} Exercises\n",
    "\n",
    "<span style='font-size:medium'>Exercise 1: Do Example 5 from the beginning of the Probability section mathematically: Suppose you roll a perfect die </span>$n$<span style='font-size:medium'> times and keep a record of each outcome. What is the chance or probability that the die lands on 1, 2, 3, 4, 5, and then 6 when rolled six times \\(</span>$n=6$<span style='font-size:medium'>\\)? Use Python to evaluate your answer. Explain your conclusion in a complete sentence. </span>\n",
    "\n",
    "<span style='font-size:medium'>Exercise 2: Do Example 5 from the beginning of the Probability section computationally: Suppose you roll a perfect die </span>$n$<span style='font-size:medium'> times and keep a record of each outcome. What is the chance or probability that the die lands on 1, 2, 3, 4, 5, and then 6 when rolled six times \\(</span>$n=6$<span style='font-size:medium'>\\)? Do a large number of trials of six rolls of a die and count the number of times the rolls come out as 1 followed by 2, followed by 3, followed by 4, followed by 5, followed by 6. A piece of syntax you may consider using is </span><span style='font-size:medium'>`if (rolls[0] == 1 and rolls[1] == 2 and rolls[2] == 3 and rolls[3] == 4 and rolls[4] == 5 and rolls[5] == 6):`</span><span style='font-size:medium'>. Compare the fraction times you get this pattern to your mathematical answer from the previous exercise in a complete sentence.</span>\n",
    "\n",
    "<span style='font-size:medium'>Exercise 3: If event </span>$A$<span style='font-size:medium'> is that the die comes up 2, and event </span>$B$<span style='font-size:medium'> is that the die comes up with an even number, are the two events </span>$A$<span style='font-size:medium'> and </span>$B$<span style='font-size:medium'> mutually exclusive? Explain. Is the addition rule </span>$P(A \\ \\text{or} \\ B) = P(A) + P(B)$<span style='font-size:medium'> applicable? If so, show that the rule holds. If not, show that the rule does not hold. Use Python to illustrate your answer. </span>\n",
    "\n",
    "<span style='font-size:medium'>Exercise 4: Calculate the probability \\(a\\) mathematically and \\(b\\) computationally of obtaining the given result in </span>$n$<span style='font-size:medium'> rolls of a fair six\\-sided die. Make a statement in a complete sentence about how many times you expect the outcome, in terms of a number of trials \\(consisting of </span>$n$<span style='font-size:medium'> rolls per trial\\). Compare the fraction of times your simulation produces the target pattern with your mathematical answer.</span>\n",
    "\n",
    "1. $n=6$, all numbers are the same\n",
    "2. $n=6$, at least one number is different\n",
    "3. $n=1$, the number rolled is greater than 2\n",
    "4. $n=2$, the sum of the two numbers is greater than 2\n",
    "5. $n=2$, the two numbers are different\n",
    "6. $n=3$, two numbers are the same and one is different\n",
    "7. $n=6$, all the numbers are different\n",
    "8. $n=100$, all the numbers are the same\n",
    "9. $n=6$, the number 1 appears at least once\n",
    "10. $n = 6$, the number 1 appears at most once\n",
    "\n",
    "<span style='font-size:medium'>Exercise 5: Consider the function **flip** below. Summarize its purpose in a complete sentence. Add comments \\(with \\#\\) to clarify the code. Demonstrate its performance on a sample run. Summarize the results in a complete sentence.</span>\n",
    "\n",
    "<span style='font-size:medium'>Exercise 6. Consider the function **flip_trials_preliminary** below. Add comments to explain the code. Summarize the purpose of the function in a complete sentence. Demonstrate its performance on a sample run. Summarize the results in a complete sentence.</span>\n",
    "\n",
    "<span style='font-size:medium'>Exercise 7. When a fair coin is flipped once, the theoretical probability that the outcome will be heads is equal to 1/2. Therefore, according to the LLN, the proportion of heads in a \"large\" number n of coin flips \"should be\" roughly 1⁄2, and the proportion of heads approaches 1/2 as n approaches infinity. Illustrate this idea using simulation with a larger and larger number of flips.</span>\n",
    ":::"
   ]
  },
  {
   "cell_type": "code",
   "execution_count": 8,
   "metadata": {},
   "outputs": [],
   "source": [
    "def flip(num_flips):\n",
    "    head_count = 0\n",
    "    for i in range(num_flips):\n",
    "        if random.choice(('H', 'T')) == 'H':\n",
    "            head_count += 1\n",
    "    return head_count/num_flips"
   ]
  },
  {
   "cell_type": "code",
   "execution_count": 9,
   "metadata": {},
   "outputs": [],
   "source": [
    "def flip_trials_preliminary(num_flips_per_trial, num_trials):\n",
    "    fraction_heads = []\n",
    "    for i in range(num_trials):\n",
    "        fraction_heads.append(flip(num_flips_per_trial))\n",
    "    mean = sum(fraction_heads) / len(fraction_heads)\n",
    "    return mean"
   ]
  }
 ],
 "metadata": {
  "celltoolbar": "Edit Metadata",
  "kernelspec": {
   "display_name": "Python 3 (ipykernel)",
   "language": "python",
   "name": "python3"
  },
  "language_info": {
   "codemirror_mode": {
    "name": "ipython",
    "version": 3
   },
   "file_extension": ".py",
   "mimetype": "text/x-python",
   "name": "python",
   "nbconvert_exporter": "python",
   "pygments_lexer": "ipython3",
   "version": "3.11.7"
  }
 },
 "nbformat": 4,
 "nbformat_minor": 4
}
