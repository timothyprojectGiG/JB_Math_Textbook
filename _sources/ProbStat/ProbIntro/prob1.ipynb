{
 "cells": [
  {
   "cell_type": "markdown",
   "metadata": {},
   "source": [
    "# Random Numbers\n",
    "\n",
    "<span style='font-size:medium'>Many areas of study involve random numbers. Examples include probability, computational science, data science, and statistics.</span>\n",
    "\n",
    "## Arbitrariness\n",
    "\n",
    "<span style='font-size:medium'>When you tell a friend to \"Pick a number between 1 and 10,\" you may think you are telling the friend to pick a </span><span style='font-size:medium'>**random**</span><span style='font-size:medium'> number. However, for true randomness, each outcome 1, 2, 3, ..., 10 must be equally likely. It turns out that people have a preference, usually unconscious, for picking some numbers over others. Therefore, you are really telling the friend to pick an </span><span style='font-size:medium'>**arbitrary**</span><span style='font-size:medium'> integer between 1 and 10, rather than a random one.</span>\n",
    "\n",
    "## Pseudo\\-randomness\n",
    "\n",
    "<span style='font-size:medium'>Even when computers do the choosing, most of time we should only say we have generated pseudo\\-random \\(fake random\\) numbers. A pseudo\\-random number generator, or PRNG, is a program that uses mathematical methods to </span><span style='font-size:medium'>**simulate**</span><span style='font-size:medium'> \\(mimic\\) randomness. </span>\n",
    "\n",
    "<span style='font-size:medium'>The basic process is to:</span>\n",
    "\n",
    "1. <span style='font-size:medium'>Provide the PRNG with an arbitrary seed \\(starting condition\\).</span>\n",
    "2. <span style='font-size:medium'>Ask the PRNG for the next \"random\" number. It is produced by a step\\-by\\-step, complicated, but not random, process.</span>\n",
    "\n",
    "<span style='font-size:medium'>Such a generator is also called a </span><span style='font-size:medium'>**deterministic**</span><span style='font-size:medium'> random bit generator. \"Deterministic\" means causally determined by preceding actions. The word \"deterministic\" is typically used in contrast to \"random.\"</span>\n",
    "\n",
    "<span style='font-size:medium'>Sometimes, researchers use a cryptographically secure pseudo\\-random number generator \\(CSPRNG\\). A CSPRNG may sound like it uses true randomness \\(for strong security\\). However, you cannot safely assume that you have a completely fair \\(unbiased\\) \"coin flip\" or means of selection, even in this context. Fortunately, though, the prescriptive \\(deterministic\\) mechanism involved is hard to reverse, ensuring some measure of security. The key is to have a CSPRNG that is good enough for the application at hand.</span>\n",
    "\n",
    "## Pseudo-random number generation in Python\n",
    "\n",
    "<span style='font-size:medium'>People typically speak of computers </span><span style='font-size:medium'>**generating random numbers**</span><span style='font-size:medium'>. We will use this language when we use Python. However, Python \\(or Excel, Java, C, C\\+\\+, or R\\) is technically doing pseudo\\-random number generation.</span>\n",
    "\n",
    "<span style='font-size:medium'>In Python, a default mechanism is used to set the seed for the PRNG. If you want to use the default mechanism explicitly, you can import the</span><span style='font-size:medium'>`random`</span><span style='font-size:medium'>library and do</span>\n",
    "\n"
   ]
  },
  {
   "cell_type": "code",
   "execution_count": 1,
   "metadata": {},
   "outputs": [],
   "source": [
    "import random\n",
    "random.seed()"
   ]
  },
  {
   "cell_type": "markdown",
   "metadata": {},
   "source": [
    "<span style='font-size:medium'>If for any reason you want to set the seed to a specific integer, such as 123, you can do</span>\n"
   ]
  },
  {
   "cell_type": "code",
   "execution_count": 2,
   "metadata": {},
   "outputs": [],
   "source": [
    "random.seed(123)"
   ]
  },
  {
   "cell_type": "markdown",
   "metadata": {},
   "source": [
    "## True randomness\n",
    "\n",
    "<span style='font-size:medium'>A truly random number cannot simply be generated from a certain </span><span style='font-size:medium'>**algorithm**</span><span style='font-size:medium'> \\(detailed method\\) or by a computer itself \\(unless the computer is purposely re\\-designed\\). Truly\\-random number generation is possible when we consider some physical phenomenon or process, such as atmospheric noise \\(static from lightning discharges\\), cosmic background radiation, etc. While truly random numbers are useful in many practical fields, it is sufficient for us to generate and use pseudo\\-random numbers in this book. </span>\n",
    "\n"
   ]
  },
  {
   "cell_type": "markdown",
   "metadata": {},
   "source": [
    "## Exercises"
   ]
  },
  {
   "cell_type": "markdown",
   "metadata": {},
   "source": [
    ":::{admonition} Exercises\n",
    "\n",
    "<span style='font-size:medium'>Exercise 1. Which statement do you judge to be more accurate? Why?</span>\n",
    "\n",
    "1. The computer program selected a number between 1 and 10 at random.\n",
    "2. The computer program selected a number between 1 and 10 arbitrarily.\n",
    "\n",
    "<span style='font-size:medium'>Exercise 2. When a computer program selects a number between 1 and 10, do you think that the choice involves possible preference for some number over others? Support your answer with examples. </span>\n",
    "\n",
    "<span style='font-size:medium'>Exercise 3: Think of an example of how randomness might be involved in a study investigating a new medicine. Explain how randomness is involved. Could computation, for example using Python, be helpful in the study? Explain your answer. </span>\n",
    "\n",
    "<span style='font-size:medium'>Exercise 4: Think of an example of how randomness might occur in the natural world. Explain how randomness is involved. Could a computer simulate or mimic a natural process in the context of your example? If so, how could a computer simulation be useful?</span>\n",
    "\n",
    "<span style='font-size:medium'>Exercise 5: Think of an example of how randomness might occur in a game. Explain how randomness is involved. Could a computer simulate the game? If so, how could the computer simulation be useful?</span>\n",
    "\n",
    "<span style='font-size:medium'>Exercise 6: Consider a die \\(plural: \"dice\"\\). \\(See the image below.\\) Do you think that when we roll a physical die, we can be certain that there is an equal chance of the die landing with each of the six sides facing up? Or could there be a bias toward some sides? Explain your thinking. Do you think the outcome of a roll of the physical die could be influenced by the previous roll? Explain your thinking. How could we use a computer program to simulate a die roll? What are some advantages of doing so?</span>\n",
    "\n",
    "\n",
    "<img src=\"dice.png\" width=\"400px\">\n",
    "\n",
    "<span style='font-size:medium'>Exercise 7: Consider the following answer to the question \"True or false\\-\\-\\- An arbitrary choice is made for no special reason\":</span>\n",
    "\n",
    "<span style='font-size:medium'>_\"Yes, an arbitrary choice typically refers to a decision or selection that is made without any specific reason or justification. It means that there is no objective or rational basis for choosing one option over another. Arbitrary choices are often made when there is no clear preference or when the decision doesn't have a significant impact on the outcome. In such cases, people may resort to random selection, personal whim, or other non\\-logical factors to make a choice.\" \\(ChatGPT, personal communication, June 6, 2023\\)._</span>\n",
    "\n",
    "<span style='font-size:medium'>Provide a critique for which parts are right \\(if any\\). Provide justification for why they are correct. Identify which parts are wrong \\(if any\\) and explain what is wrong. Rewrite the answer in your own words with any corrections that are needed. \\(Retain the citation as with any paraphrased material.\\) Add an example that you think of yourself to clarify the answer to the true/false question.</span>\n",
    "\n",
    "<span style='font-size:medium'>Exercise 8: Use the code below to explore Python commands in the</span><span style='font-size:medium'>`random`</span><span style='font-size:medium'>library. Read the documentation here as desired: </span>https://docs.python.org/3/library/random.html <span style='font-size:medium'>. For each</span><span style='font-size:medium'>`print`</span><span style='font-size:medium'>statement, insert a comment \\(using</span><span style='font-size:medium'>`#`</span><span style='font-size:medium'>\\) that describes all the possible numbers that can be generated. We see possible output below.</span>\n",
    "\n",
    "<span style='font-size:medium'>Exercise 9: Which does a Python program generate: a pseudo\\-random number or a truly random number? Give an example, and explain why the example is pseudo random or truly random.</span>\n",
    "\n",
    "\n",
    ":::\n"
   ]
  },
  {
   "cell_type": "code",
   "execution_count": 3,
   "metadata": {},
   "outputs": [
    {
     "name": "stdout",
     "output_type": "stream",
     "text": [
      "0\n",
      "3\n",
      "1\n",
      "4\n",
      "4\n",
      "11.07700234938439\n"
     ]
    }
   ],
   "source": [
    "print(random.randrange(6))\n",
    "print(random.randrange(6) + 1)\n",
    "print(random.randrange(1, 7))\n",
    "print(random.randint(1, 6))\n",
    "print(random.randrange(0, 10, 2))\n",
    "print(random.uniform(10, 20))"
   ]
  }
 ],
 "metadata": {
  "kernelspec": {
   "display_name": "Python 3",
   "language": "python",
   "name": "python3"
  },
  "language_info": {
   "codemirror_mode": {
    "name": "ipython",
    "version": 3
   },
   "file_extension": ".py",
   "mimetype": "text/x-python",
   "name": "python",
   "nbconvert_exporter": "python",
   "pygments_lexer": "ipython3",
   "version": "3.8.8"
  }
 },
 "nbformat": 4,
 "nbformat_minor": 4
}
