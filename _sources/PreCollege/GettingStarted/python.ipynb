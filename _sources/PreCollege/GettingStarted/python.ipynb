{
 "cells": [
  {
   "cell_type": "markdown",
   "metadata": {},
   "source": [
    "# Beginning Python Programming"
   ]
  },
  {
   "cell_type": "markdown",
   "metadata": {},
   "source": [
    "```{index} JNB\n",
    "```"
   ]
  },
  {
   "cell_type": "markdown",
   "metadata": {},
   "source": [
    "## Getting Started with JNBs"
   ]
  },
  {
   "cell_type": "markdown",
   "metadata": {},
   "source": [
    ":::{note}\n",
    "We begin with an outline of how you can install and run a Jupyter Notebook (JNB) on your computer.\n",
    ":::\n",
    "\n"
   ]
  },
  {
   "cell_type": "markdown",
   "metadata": {},
   "source": [
    "1) Begin by downloading the free Anaconda distribution from www.anaconda.com\n",
    "\n",
    "2) Register an account and open the application Jupyter Notebook using Anaconda\n",
    "\n",
    "3) Next, download two files from  https://drive.google.com/drive/folders/1cpRptbyjYZSENEtjNNEiV7tBrIz4mONI?usp=sharing   \n",
    "\n",
    "(i) the Jupyter Notebook \"Getting Started with Jupyter Notebooks.ipynb\"\n",
    "\n",
    "(ii) the Excel file \"bears.xlsx\"\n",
    "\n",
    "4) Upload the two files in step two into your JNB directory:\n",
    "\n",
    "<img src=\"upload.png\" width=\"800px\"> \n",
    "\n",
    "5) Open the JNB \"Getting Started with Jupyter Notebooks\" and follow the instuctions.\n",
    "\n",
    "<img src=\"open.png\" width=\"800px\"> \n"
   ]
  },
  {
   "cell_type": "markdown",
   "metadata": {},
   "source": [
    "```{index} functions\n",
    "```"
   ]
  },
  {
   "cell_type": "markdown",
   "metadata": {},
   "source": [
    "## Functions\n",
    "\n",
    ":::{note}\n",
    "The Python program language is one of the most popular worldwide.  It is used widely by data scientists, a profession that is in high demand and well paid if you are good at it. In this demo, we introduce the concept of a function.\n",
    ":::"
   ]
  },
  {
   "cell_type": "markdown",
   "metadata": {},
   "source": [
    "1) Here we define a function called add(a,b) that computes the sum a+b.  Click on the next cell and press the Run key at the top menu bar (or alternately, hit shift+enter simultaneously) to execute the next cell which creates our function.  The # symbol followed by a comment is not needed to execute the code."
   ]
  },
  {
   "cell_type": "code",
   "execution_count": null,
   "metadata": {},
   "outputs": [],
   "source": [
    "def add(a,b):   #make sure you include the :\n",
    "    x = a+b   #make sure you indent\n",
    "    return x  #return is a key word found at the last line of the code defining the function"
   ]
  },
  {
   "cell_type": "markdown",
   "metadata": {},
   "source": [
    "2) Here is an example of how we can use the function we just created to compute 5+3.  (Always click on the cell and press Run or hit shift+enter to execute the cell)."
   ]
  },
  {
   "cell_type": "code",
   "execution_count": null,
   "metadata": {},
   "outputs": [],
   "source": [
    "add(5,3)"
   ]
  },
  {
   "cell_type": "markdown",
   "metadata": {},
   "source": [
    "3) Now it's your turn.  Define a function called subtract(a,b) which computes a-b.  Then test that your function is working by showing subtract(5,3) is equal to 5-3=2."
   ]
  },
  {
   "cell_type": "code",
   "execution_count": null,
   "metadata": {},
   "outputs": [],
   "source": [
    "#Define your function subtract(a,b) in this cell\n",
    "\n",
    "\n",
    "\n"
   ]
  },
  {
   "cell_type": "code",
   "execution_count": null,
   "metadata": {},
   "outputs": [],
   "source": [
    "#Test your function by computing subtract(5,3) in this cell. (Make sure you pressed shift+enter in the previous cell.)\n",
    "\n"
   ]
  },
  {
   "cell_type": "markdown",
   "metadata": {},
   "source": [
    "4) Now read over and then execute the next cell.  Remember  # is the start of a comment."
   ]
  },
  {
   "cell_type": "code",
   "execution_count": null,
   "metadata": {},
   "outputs": [],
   "source": [
    "# Let's define a function multiply(a,b) and then test it on multiply(5,3)\n",
    "def multiply(a,b):\n",
    "    x=a*b\n",
    "    return x\n",
    "multiply(5,3)"
   ]
  },
  {
   "cell_type": "markdown",
   "metadata": {},
   "source": [
    "5) Now it's your turn.  Define a function divide(a,b) and test it on divide(5,3).  Note that the symbol for divide is /"
   ]
  },
  {
   "cell_type": "code",
   "execution_count": null,
   "metadata": {},
   "outputs": [],
   "source": [
    "# Define your function divide(a,b) in this cell\n",
    "\n"
   ]
  },
  {
   "cell_type": "code",
   "execution_count": null,
   "metadata": {},
   "outputs": [],
   "source": [
    "# Test your function by computing divide(5,3) in this cell\n",
    "\n"
   ]
  },
  {
   "cell_type": "markdown",
   "metadata": {},
   "source": [
    "6) CHALLENGE 1: Can you solve the following math problem by providing the correct input to the Python function?"
   ]
  },
  {
   "cell_type": "markdown",
   "metadata": {},
   "source": [
    "Study the code below average(a,b,c).  Then given that a=2, b=5, figure out the correct value of c so that average(a,b,c)=10."
   ]
  },
  {
   "cell_type": "code",
   "execution_count": null,
   "metadata": {},
   "outputs": [],
   "source": [
    "def average(a,b,c):\n",
    "    ave = (a+b+c)/3\n",
    "    return ave"
   ]
  },
  {
   "cell_type": "code",
   "execution_count": null,
   "metadata": {},
   "outputs": [],
   "source": [
    "a=2\n",
    "b=5\n",
    "c=20 #Here's a guess for c.  Edit it so you get the right answer.\n",
    "average(a,b,c)"
   ]
  },
  {
   "cell_type": "markdown",
   "metadata": {},
   "source": [
    "Congratulations if you defined c in such a way as to get 10.0.  "
   ]
  },
  {
   "cell_type": "markdown",
   "metadata": {},
   "source": [
    ":::{note}\n",
    "Your instructor may ask you to submit a file of your completed work. \n",
    "\n",
    "You can create a PDF of your completed JNB by selecting File on the top menu bar, and then Print Preview. Right-click, and then print to PDF. \n",
    "\n",
    "You can also download the JNB itself by selecting File, Download as, Notebook(.ipynb). \n",
    "\n",
    "Try creating both file formats.\n",
    ":::"
   ]
  },
  {
   "cell_type": "markdown",
   "metadata": {},
   "source": [
    "Congratulations! You have succesfully completed this intro to functions!"
   ]
  },
  {
   "cell_type": "markdown",
   "metadata": {},
   "source": [
    "```{index} numpy\n",
    "```"
   ]
  },
  {
   "cell_type": "markdown",
   "metadata": {},
   "source": [
    "## numpy"
   ]
  },
  {
   "cell_type": "markdown",
   "metadata": {},
   "source": [
    ":::{note}\n",
    "In the previous section, we created a few simple functions to get used to how we can create a 'special work order' to get the computer to do something for us.  \n",
    "\n",
    "Certain functions are used so often and widely that it really makes no sense for everyone to re-invent the wheel each time by defining a new function.  Instead, there are 'libraries' of functions which can be 'imported' for use in our Jupyter Notebook (JNB).  We can use any  function in an imported library by knowing the name of the function and what inputs are required.\n",
    "\n",
    "The first library we will use is the 'numerical Python' library called 'numpy' and abbreviated as 'np'.  \n",
    "\n",
    ":::"
   ]
  },
  {
   "cell_type": "markdown",
   "metadata": {},
   "source": [
    "(1) Click on the next cell and then press run (or shift+enter) to import the numpy library."
   ]
  },
  {
   "cell_type": "code",
   "execution_count": null,
   "metadata": {},
   "outputs": [],
   "source": [
    "import numpy as np  #this is how we import the numpy library with abbreviated name np"
   ]
  },
  {
   "cell_type": "markdown",
   "metadata": {},
   "source": [
    "#### The . extension"
   ]
  },
  {
   "cell_type": "markdown",
   "metadata": {},
   "source": [
    "(2) We can access a function in the numpy library using\n",
    "\n",
    "np.   \n",
    "\n",
    "followed by the name of the function.  \n",
    "\n",
    "For example, suppose we wish to create a list of numbers 0,10,20,30,40,50,60,70,80,90,100.\n",
    "There is a numpy library function arange(starting_number,gone_too_far_number,spacing_by)\n",
    "which works well for this task.\n",
    "\n",
    "In our case, use starting_number=0, gone_too_far_number=110, spacing_by=10.  \n",
    "\n",
    "Remembering to put np. in front of the function, execute the next cell (press run or shift+enter) to see the result."
   ]
  },
  {
   "cell_type": "code",
   "execution_count": null,
   "metadata": {},
   "outputs": [],
   "source": [
    "np.arange(0,110,10)"
   ]
  },
  {
   "cell_type": "markdown",
   "metadata": {},
   "source": [
    "(3) Now you try it.  Use numpy to make a list of all the numbers between 0 and 50."
   ]
  },
  {
   "cell_type": "code",
   "execution_count": null,
   "metadata": {},
   "outputs": [],
   "source": []
  },
  {
   "cell_type": "markdown",
   "metadata": {},
   "source": [
    "(4) Inside of a library there might be  sub-libraries, akin to a children's library within a main library.  One of numpy's sub-libraries is called random. \n",
    "\n",
    "\n",
    "SINGLE CHOICE POP QUIZ \n",
    "How do we access the random library within the numpy library?  \n",
    "a) np.random\n",
    "\n",
    "If you answered a) np.random you are correct! \n",
    "\n",
    "Inside the random library is a function called randint(numbers_in_a_hat).\n",
    "\n",
    "The input value for numbers_in_a_hat is a positive integer like 10.\n",
    "This specifies that ten numbers starting with 0 (i.e. 0,1,2,...,9) will put into a hat.\n",
    "\n",
    "The function randint(10) then tells the computer to pull out randomly one of the numbers in our hat. \n",
    "\n",
    "Remembering to put np.random. in front of the function, try it by hitting shift+enter several times in succession on the cell below to simulate random draws from a hat (with replacement)."
   ]
  },
  {
   "cell_type": "code",
   "execution_count": null,
   "metadata": {},
   "outputs": [],
   "source": [
    "np.random.randint(10)"
   ]
  },
  {
   "cell_type": "markdown",
   "metadata": {},
   "source": [
    "(5) Now it's your turn.  Tell the computer to pick a random number from a hat which has the numbers 0,2,3,...,999.  Do it 3 times to see if you get the same number each time."
   ]
  },
  {
   "cell_type": "code",
   "execution_count": null,
   "metadata": {},
   "outputs": [],
   "source": [
    "#First Try\n",
    "np.random.randint(1000)"
   ]
  },
  {
   "cell_type": "code",
   "execution_count": null,
   "metadata": {},
   "outputs": [],
   "source": [
    "#Second Try\n",
    "np.random.randint(1000)"
   ]
  },
  {
   "cell_type": "code",
   "execution_count": null,
   "metadata": {},
   "outputs": [],
   "source": [
    "#Third Try\n",
    "np.random.randint(1000)"
   ]
  },
  {
   "cell_type": "markdown",
   "metadata": {},
   "source": [
    "Hope you enjoyed this quick look at the numpy library!"
   ]
  },
  {
   "cell_type": "markdown",
   "metadata": {},
   "source": [
    "```{index} pandas\n",
    "```"
   ]
  },
  {
   "cell_type": "markdown",
   "metadata": {},
   "source": [
    "## pandas"
   ]
  },
  {
   "cell_type": "markdown",
   "metadata": {},
   "source": [
    ":::{note}\n",
    "Python's data analysis library is called pandas and usually abbreviated as pd. Pandas is one of the most important tools used by data scientists today.\n",
    ":::"
   ]
  },
  {
   "cell_type": "markdown",
   "metadata": {},
   "source": [
    "1) Let's begin by importing the library in the same way that we imported the numpy library. (Remember to click on the next cell and then press run (or shift+enter) to execute the next cell.)"
   ]
  },
  {
   "cell_type": "code",
   "execution_count": null,
   "metadata": {},
   "outputs": [],
   "source": [
    "import pandas as pd"
   ]
  },
  {
   "cell_type": "markdown",
   "metadata": {},
   "source": [
    "#### File upload \n",
    "Get the file bears.xlsx from the folder https://drive.google.com/drive/folders/1cpRptbyjYZSENEtjNNEiV7tBrIz4mONI?usp=sharing\n",
    "\n",
    "Then put the file in the same directory as this Jupyter notebook. (You can do this by choosing File on the top left of the Jupyter Notebook menu bar, and then selecting Open. Then hit the Upload button on the top right, find bears.xlsx, hit Open and then Upload.)  Return to this Notebook when you have completed the upload of the datafile."
   ]
  },
  {
   "cell_type": "markdown",
   "metadata": {},
   "source": [
    "2) Now we can use the read_excel() function in the pandas library to read  the data into what is called a dataframe.  We will name our dataframe bear_info."
   ]
  },
  {
   "cell_type": "code",
   "execution_count": null,
   "metadata": {},
   "outputs": [],
   "source": [
    "bear_info=pd.read_excel(\"bears.xlsx\")  #read in the data\n",
    "bear_info  #display the data"
   ]
  },
  {
   "cell_type": "markdown",
   "metadata": {},
   "source": [
    "We can set the names of the columns using the following command."
   ]
  },
  {
   "cell_type": "code",
   "execution_count": null,
   "metadata": {},
   "outputs": [],
   "source": [
    "bear_info.columns=[\"Type\",\"Age\",\"Size\",\"Weight\"]\n",
    "bear_info"
   ]
  },
  {
   "cell_type": "markdown",
   "metadata": {},
   "source": [
    "4) We can display just the first two rows of our dataframe using a command of the form df.head(2) where df is the name of our dataframe."
   ]
  },
  {
   "cell_type": "code",
   "execution_count": null,
   "metadata": {},
   "outputs": [],
   "source": [
    "bear_info.head(2)"
   ]
  },
  {
   "cell_type": "markdown",
   "metadata": {},
   "source": [
    "5) The column at the left is called the index.  Note that the index values start with 0.  We can locate information in the dataframe using a command of the form df.loc[index,column] where df is the name of our dataframe, index is the value of the index, and column is the name of the column inside of quotation marks. Here is an example."
   ]
  },
  {
   "cell_type": "code",
   "execution_count": null,
   "metadata": {},
   "outputs": [],
   "source": [
    "bear_info.loc[1,\"Weight\"]"
   ]
  },
  {
   "cell_type": "markdown",
   "metadata": {},
   "source": [
    "6) Use .loc() to get the age of a Grizzly bear."
   ]
  },
  {
   "cell_type": "code",
   "execution_count": null,
   "metadata": {},
   "outputs": [],
   "source": [
    "#your answer to 6)\n"
   ]
  },
  {
   "cell_type": "markdown",
   "metadata": {},
   "source": [
    "7) Use .loc to get the size of a Black bear."
   ]
  },
  {
   "cell_type": "code",
   "execution_count": null,
   "metadata": {},
   "outputs": [],
   "source": [
    "#your answer to 7)\n"
   ]
  },
  {
   "cell_type": "markdown",
   "metadata": {},
   "source": [
    "### Exercises"
   ]
  },
  {
   "cell_type": "markdown",
   "metadata": {},
   "source": [
    ":::{admonition} Exercises\n",
    "\n",
    "1) Create your own data file with some interesting info. Read in the data into a dataframe  called df using pd.read_excel().\n",
    "\n",
    "2) Display the first row of df.\n",
    "\n",
    "3) Abbreviate the column names.\n",
    "\n",
    "4) Display the first line of your dataframe with abbreviated column names.\n",
    "\n",
    "5) Show how to use .loc() to get a particular entry in your dataframe.\n",
    "```"
   ]
  },
  {
   "cell_type": "markdown",
   "metadata": {},
   "source": [
    "```{index} matplotlib\n",
    "```"
   ]
  },
  {
   "cell_type": "markdown",
   "metadata": {},
   "source": [
    "## matplotlib\n"
   ]
  },
  {
   "cell_type": "markdown",
   "metadata": {},
   "source": [
    ":::{note}\n",
    "Matplotlib was created by John Hunter to help make graphs.  Like numpy and pandas, matplotlib is a widely used Python library. Dr. Hunter used this library as a neurobiologist, studying epilepsy at the University of Chicago. Unfortunately, Dr. Hunter died of cancer at age 44.\n",
    ":::"
   ]
  },
  {
   "cell_type": "markdown",
   "metadata": {},
   "source": [
    "1) The matplotlib library has a sub-library called pyplot (plt).  We can access the functions in pyplot by executing the next cell."
   ]
  },
  {
   "cell_type": "code",
   "execution_count": null,
   "metadata": {},
   "outputs": [],
   "source": [
    "import matplotlib.pyplot as plt"
   ]
  },
  {
   "cell_type": "markdown",
   "metadata": {},
   "source": [
    "2) Here is an example of a simple plot."
   ]
  },
  {
   "cell_type": "code",
   "execution_count": null,
   "metadata": {},
   "outputs": [],
   "source": [
    "# create a new figure\n",
    "plt.figure()\n",
    "# plot the points (0, 1) (1,0),(2,1),(3,0) and (4,1) with a 'o' marker and connect them using 'o'\n",
    "xvalues=[0,1,2,3,4]\n",
    "yvalues=[1,0,1,0,1]\n",
    "plt.plot(xvalues, yvalues, 'o-',color='blue')"
   ]
  },
  {
   "cell_type": "markdown",
   "metadata": {},
   "source": [
    "3) Use pyplot to create a red letter M."
   ]
  },
  {
   "cell_type": "code",
   "execution_count": null,
   "metadata": {},
   "outputs": [],
   "source": [
    "#Your answer to 3)\n"
   ]
  },
  {
   "cell_type": "code",
   "execution_count": null,
   "metadata": {
    "tags": [
     "hide-input"
    ]
   },
   "outputs": [],
   "source": [
    "#Solution to 3)\n",
    "plt.figure()\n",
    "xvalues=[0,1,2,3,4]\n",
    "yvalues=[0,1,0,1,0]\n",
    "plt.plot(xvalues, yvalues, 'o-',color='red')"
   ]
  },
  {
   "cell_type": "markdown",
   "metadata": {},
   "source": [
    "4) Let's make a simple bargraph using pyplot."
   ]
  },
  {
   "cell_type": "code",
   "execution_count": null,
   "metadata": {},
   "outputs": [],
   "source": [
    "plt.figure()\n",
    "xvals = [0,1,2]\n",
    "heights=[2,4,6]\n",
    "plt.bar(xvals, heights, width = 0.3,color='black')"
   ]
  },
  {
   "cell_type": "markdown",
   "metadata": {},
   "source": [
    "5) Create a bar graph with 4 bars at x positions 1,2,3 and 4 and with heights 2,3,1,5."
   ]
  },
  {
   "cell_type": "code",
   "execution_count": null,
   "metadata": {},
   "outputs": [],
   "source": [
    "# Your answer to 5)\n"
   ]
  },
  {
   "cell_type": "markdown",
   "metadata": {},
   "source": [
    "6) One more example is a pie chart.\n"
   ]
  },
  {
   "cell_type": "code",
   "execution_count": null,
   "metadata": {},
   "outputs": [],
   "source": [
    "plt.figure(figsize=(5,5)) #you can adjust the figure size\n",
    "activities=[\"work\",\"play\",\"eat\",\"sleep\"]\n",
    "hours=[8,3,3,10]\n",
    "plt.pie(hours,labels=activities,autopct='%1.1f%%')  #percentages are automatically computed"
   ]
  },
  {
   "cell_type": "markdown",
   "metadata": {},
   "source": [
    "7) Make a piechart which describes your usual daily activities and how long you spend on each."
   ]
  },
  {
   "cell_type": "code",
   "execution_count": null,
   "metadata": {},
   "outputs": [],
   "source": [
    "#Your answer to 7)\n"
   ]
  },
  {
   "cell_type": "markdown",
   "metadata": {},
   "source": [
    "```{index} for loops\n",
    "```"
   ]
  },
  {
   "cell_type": "markdown",
   "metadata": {},
   "source": [
    "## for loops"
   ]
  },
  {
   "cell_type": "markdown",
   "metadata": {},
   "source": [
    ":::{note}\n",
    "In this section, we will introduce a \"for loop\" as a tool to build more complicated user-defined functions.  We will also make use of the numpy library function arange().  (It might be good to go back and review the previous sections.)\n",
    "\n",
    ":::"
   ]
  },
  {
   "cell_type": "markdown",
   "metadata": {},
   "source": [
    "1) Let's start by importing the  numpy library. (Don't forget to press shift+enter to execute each cell.)"
   ]
  },
  {
   "cell_type": "code",
   "execution_count": null,
   "metadata": {},
   "outputs": [],
   "source": [
    "import numpy as np"
   ]
  },
  {
   "cell_type": "markdown",
   "metadata": {},
   "source": [
    "2) Let's create a list of all numbers between 1 and 10. "
   ]
  },
  {
   "cell_type": "code",
   "execution_count": null,
   "metadata": {},
   "outputs": [],
   "source": [
    "my_list=np.arange(1,11,1)\n",
    "my_list"
   ]
  },
  {
   "cell_type": "markdown",
   "metadata": {},
   "source": [
    "3) Python has  technical names for the things we create.  The built-in type() function will give us the technical name.  Let's check the technical name for our list."
   ]
  },
  {
   "cell_type": "code",
   "execution_count": null,
   "metadata": {},
   "outputs": [],
   "source": [
    "type(my_list)"
   ]
  },
  {
   "cell_type": "markdown",
   "metadata": {},
   "source": [
    "4) Let's define a function which takes an input list and outputs the square of each number in the list.  A for loop is used to go through one by one the numbers in a  list."
   ]
  },
  {
   "cell_type": "code",
   "execution_count": null,
   "metadata": {},
   "outputs": [],
   "source": [
    "def squared(my_list):  #remember the use of :\n",
    "    for i in my_list:  #must indent lines in a function; for loops need a :\n",
    "        print(i**2)       #must also indent lines in a for loop\n",
    "    return print(\"Finished!\")  #prints a message to the screen when completed"
   ]
  },
  {
   "cell_type": "markdown",
   "metadata": {},
   "source": [
    "5) Let's see if this works."
   ]
  },
  {
   "cell_type": "code",
   "execution_count": null,
   "metadata": {},
   "outputs": [],
   "source": [
    "squared(my_list)"
   ]
  },
  {
   "cell_type": "markdown",
   "metadata": {},
   "source": [
    "6) The cube of a number is the number multiplied by itself 3 times.  For example, $2^3=8$ and $10^3=1000$. In Python we write $2**3$  and $10**3$  to get the computer to compute these cubes. Define a function called cube which cubes each number in an input list and then returns the message \"That was easy!\"  Test out your function on the list we defined earlier."
   ]
  },
  {
   "cell_type": "code",
   "execution_count": null,
   "metadata": {},
   "outputs": [],
   "source": [
    "#Your answer to 8)"
   ]
  },
  {
   "cell_type": "code",
   "execution_count": null,
   "metadata": {
    "tags": [
     "hide-input"
    ]
   },
   "outputs": [],
   "source": [
    "#Solution to 8)\n",
    "def cubed(my_list):\n",
    "    for i in my_list:\n",
    "        print(i**3)\n",
    "    return print(\"That was easy!\")"
   ]
  },
  {
   "cell_type": "code",
   "execution_count": null,
   "metadata": {
    "tags": [
     "hide-input"
    ]
   },
   "outputs": [],
   "source": [
    "#test of the function\n",
    "cubed(my_list)"
   ]
  },
  {
   "cell_type": "markdown",
   "metadata": {},
   "source": [
    "### Exercise"
   ]
  },
  {
   "cell_type": "markdown",
   "metadata": {},
   "source": [
    ":::{admonition} Exercise\n",
    "Define a new list called list1 which has all the even numbers between 0 and 10.  Then define a function called addone which adds one to each number in list1 and prints \"Mission Accomplished!\" when done.  Test that your function does what it is supposed to do. \n",
    ":::"
   ]
  },
  {
   "cell_type": "markdown",
   "metadata": {},
   "source": [
    "```{index} if conditional statements\n",
    "```"
   ]
  },
  {
   "cell_type": "markdown",
   "metadata": {},
   "source": [
    "## if conditional statements"
   ]
  },
  {
   "cell_type": "markdown",
   "metadata": {},
   "source": [
    ":::{note}\n",
    "In this section, we will introduce an if conditional statement as another useful tool in its own right and in writing  user-defined functions.  Basically a command(s) is executed only if a specified  condition is true. If not, there is an 'else' option to specify a different command(s) to be executed.\n",
    "\n",
    ":::"
   ]
  },
  {
   "cell_type": "markdown",
   "metadata": {},
   "source": [
    "1) Let's start by importing the  numpy library. (Don't forget to press run (or shift+enter) to execute each cell.)"
   ]
  },
  {
   "cell_type": "code",
   "execution_count": null,
   "metadata": {},
   "outputs": [],
   "source": [
    "import numpy as np"
   ]
  },
  {
   "cell_type": "markdown",
   "metadata": {},
   "source": [
    "2) Let's create a list of all numbers between 1 and 10. "
   ]
  },
  {
   "cell_type": "code",
   "execution_count": null,
   "metadata": {},
   "outputs": [],
   "source": [
    "list=np.arange(1,11,1)\n",
    "list"
   ]
  },
  {
   "cell_type": "markdown",
   "metadata": {},
   "source": [
    "3) Let's define a function checksize which takes an input list and outputs whether each number in the list is less than 7. If so, the computer will print \"OK\" and if not, the computer will print \"Too Big!\" "
   ]
  },
  {
   "cell_type": "code",
   "execution_count": null,
   "metadata": {},
   "outputs": [],
   "source": [
    "def checksize(list):  #remember the use of :\n",
    "    for i in list:  #the for statement needs a : at the end. The next line  must also be indented.\n",
    "        if i<7:     #an if statement also needs a : at the end;  must also indent the next line\n",
    "            print(i,\"is OK\")   # computer does this if i<7\n",
    "        else:      # else needs a : at the end; must indent the next line\n",
    "            print(i, \"is Too Big!\") # instruction if x >=7\n",
    "    return print(\"Finished!\")  #prints a message to the screen when completed"
   ]
  },
  {
   "cell_type": "markdown",
   "metadata": {},
   "source": [
    "4) Let's see if this works."
   ]
  },
  {
   "cell_type": "code",
   "execution_count": null,
   "metadata": {},
   "outputs": [],
   "source": [
    "checksize(list)"
   ]
  },
  {
   "cell_type": "markdown",
   "metadata": {},
   "source": [
    "5) Create a new list called list1 consisting of numbers from 1 to 20.  Define a function numberdigits(list1) which goes through the numbers in list1 and prints \"is single digit\" if the number is single digit and \"is double digits\" if the number is double digit.  Check that your function runs correctly on list1."
   ]
  },
  {
   "cell_type": "code",
   "execution_count": null,
   "metadata": {},
   "outputs": [],
   "source": [
    "#Your answer to 5)\n"
   ]
  },
  {
   "cell_type": "code",
   "execution_count": null,
   "metadata": {},
   "outputs": [],
   "source": [
    "#test your anser to 5)\n"
   ]
  },
  {
   "cell_type": "code",
   "execution_count": null,
   "metadata": {
    "tags": [
     "hide-input"
    ]
   },
   "outputs": [],
   "source": [
    "#define list 1 \n",
    "list1=np.arange(1,21,1)\n",
    "\n",
    "#definition of the function\n",
    "def numberdigits(list1):\n",
    "    for i in list1:\n",
    "        if i<10:\n",
    "            print(i,\"is single digit\")\n",
    "        else:\n",
    "            print(i,\"is double digits\")"
   ]
  },
  {
   "cell_type": "code",
   "execution_count": null,
   "metadata": {
    "tags": [
     "hide-input"
    ]
   },
   "outputs": [],
   "source": [
    "#test of the function\n",
    "numberdigits(list1)"
   ]
  },
  {
   "cell_type": "markdown",
   "metadata": {},
   "source": [
    "### Exercise"
   ]
  },
  {
   "cell_type": "markdown",
   "metadata": {},
   "source": [
    ":::{admonition} Exercise\n",
    "Define a new list called list2 which has all the even numbers between 0 and 20.  Then define a function halve_upper_half(list2) which outputs half of each number in list2 if the original number is greater than 10.  Check that your function does what it is supposed to do.\n",
    "\n",
    ":::"
   ]
  },
  {
   "cell_type": "markdown",
   "metadata": {},
   "source": [
    "```{index} dataframe\n",
    "```"
   ]
  },
  {
   "cell_type": "markdown",
   "metadata": {},
   "source": [
    "## dataframes"
   ]
  },
  {
   "cell_type": "markdown",
   "metadata": {},
   "source": [
    ":::{note}\n",
    "\n",
    "One important use of dataframes is the analysis of real world data. For such analysis, the basic Python skills we have introduced so far are all utilized:\n",
    "\n",
    "- (user-defined) functions \n",
    "- the numpy library \n",
    "- the pandas library  \n",
    "- the matplotlib library  \n",
    "- for loops \n",
    "- if conditionals \n",
    "    \n",
    "We will use a dataframe called COVID to explore COVID-19 data imported directly from the City of Chicago's Data Portal.  \n",
    ":::"
   ]
  },
  {
   "cell_type": "markdown",
   "metadata": {},
   "source": [
    "1) Let's start by importing the  numpy and pandas libraries. In general, we will always begin by importing these two libraries (Don't forget to press run or shift+enter to execute each cell.)"
   ]
  },
  {
   "cell_type": "code",
   "execution_count": null,
   "metadata": {},
   "outputs": [],
   "source": [
    "import numpy as np\n",
    "import pandas as pd"
   ]
  },
  {
   "cell_type": "markdown",
   "metadata": {},
   "source": [
    "2) We can use pandas (pd) to get up-to-date info about COVID 19. Let's create a dataframe called COVID with this info and display the first line."
   ]
  },
  {
   "cell_type": "code",
   "execution_count": null,
   "metadata": {},
   "outputs": [],
   "source": [
    "COVID=pd.read_json(\"https://data.cityofchicago.org/resource/yhhz-zm2v.json?$limit=5000000\")\n",
    "COVID.head(1)"
   ]
  },
  {
   "cell_type": "markdown",
   "metadata": {},
   "source": [
    "3) Let's list just the columns in the COVID dataframe."
   ]
  },
  {
   "cell_type": "code",
   "execution_count": null,
   "metadata": {},
   "outputs": [],
   "source": [
    "COVID.columns"
   ]
  },
  {
   "cell_type": "markdown",
   "metadata": {},
   "source": [
    "4) Let's get the number of rows and columns in our dataframe."
   ]
  },
  {
   "cell_type": "code",
   "execution_count": null,
   "metadata": {},
   "outputs": [],
   "source": [
    "COVID.shape"
   ]
  },
  {
   "cell_type": "markdown",
   "metadata": {},
   "source": [
    "5) Let's use just 4 columns: deaths_cumulative, population, tests_cumulative, and zip_code."
   ]
  },
  {
   "cell_type": "code",
   "execution_count": null,
   "metadata": {},
   "outputs": [],
   "source": [
    "COVID=COVID[[\"deaths_cumulative\", \"population\", \"tests_cumulative\",\"zip_code\"]]\n",
    "COVID.head(1)"
   ]
  },
  {
   "cell_type": "markdown",
   "metadata": {},
   "source": [
    "6) Let's shorten the column names."
   ]
  },
  {
   "cell_type": "code",
   "execution_count": null,
   "metadata": {},
   "outputs": [],
   "source": [
    "COVID.columns=[\"deaths\",\"population\",\"tests\",\"zip\"]\n",
    "COVID.head(15)"
   ]
  },
  {
   "cell_type": "markdown",
   "metadata": {},
   "source": [
    "7) We can get the latest test info for zip 60601  by first creating a datframe df for that zip code, and then using max() to get the highest value in the \"tests\" column."
   ]
  },
  {
   "cell_type": "code",
   "execution_count": null,
   "metadata": {},
   "outputs": [],
   "source": [
    "df = COVID[COVID[\"zip\"]=='60601']\n",
    "numtested=df[\"tests\"].max()\n",
    "numtested"
   ]
  },
  {
   "cell_type": "markdown",
   "metadata": {},
   "source": [
    "8) Let's define a function MyCOVID(COVID,zip) which allows us to enter a 5-digit zip code number and have the computer tell us how many tests, and the number of deaths."
   ]
  },
  {
   "cell_type": "code",
   "execution_count": null,
   "metadata": {},
   "outputs": [],
   "source": [
    "def MyCOVID(COVID,zipcode):\n",
    "    alreadychecked=0  #eliminate duplication of information\n",
    "    for z in COVID.index:  #go through all the index values\n",
    "        if COVID.loc[z,\"zip\"]==zipcode and alreadychecked==0:    #found the zip we requested (first-time)\n",
    "            alreadychecked=1  #we will only do this once\n",
    "            df=COVID[COVID[\"zip\"]==zipcode]\n",
    "            numtested=df[\"tests\"].max()\n",
    "            numdeaths=df[\"deaths\"].max()\n",
    "            print(\"Zip code: \", COVID.loc[z,\"zip\"])\n",
    "            print(\"number tested is \", numtested)\n",
    "            print(\"number deaths \", numdeaths)\n",
    "    return (\"Enter a different zip code if you wish.\")"
   ]
  },
  {
   "cell_type": "markdown",
   "metadata": {},
   "source": [
    "9) Let's see if there's data for zipcode='60623'."
   ]
  },
  {
   "cell_type": "code",
   "execution_count": null,
   "metadata": {},
   "outputs": [],
   "source": [
    "zipcode='60623'\n",
    "MyCOVID(COVID,zipcode)"
   ]
  },
  {
   "cell_type": "markdown",
   "metadata": {},
   "source": [
    "10) Now analyze zipicode='60637'"
   ]
  },
  {
   "cell_type": "code",
   "execution_count": null,
   "metadata": {},
   "outputs": [],
   "source": [
    "# Your answer to problem 10)"
   ]
  },
  {
   "cell_type": "code",
   "execution_count": null,
   "metadata": {
    "tags": [
     "hide-input"
    ]
   },
   "outputs": [],
   "source": [
    "zipcode='60637'\n",
    "MyCOVID(COVID,zipcode)"
   ]
  },
  {
   "cell_type": "markdown",
   "metadata": {},
   "source": [
    "### Exercise"
   ]
  },
  {
   "cell_type": "markdown",
   "metadata": {},
   "source": [
    ":::{admonition} Exercise\n",
    "Modify the MyCOVID function so that a function MyCOVID2 also includes the population of the input zipcode. Then check that your function works on zipcode='60637'\n",
    "\n",
    ":::"
   ]
  }
 ],
 "metadata": {
  "celltoolbar": "Edit Metadata",
  "kernelspec": {
   "display_name": "Python 3 (ipykernel)",
   "language": "python",
   "name": "python3"
  },
  "language_info": {
   "codemirror_mode": {
    "name": "ipython",
    "version": 3
   },
   "file_extension": ".py",
   "mimetype": "text/x-python",
   "name": "python",
   "nbconvert_exporter": "python",
   "pygments_lexer": "ipython3",
   "version": "3.11.3"
  }
 },
 "nbformat": 4,
 "nbformat_minor": 4
}
