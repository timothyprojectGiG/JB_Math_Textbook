{
 "cells": [
  {
   "cell_type": "markdown",
   "id": "bd66cd07",
   "metadata": {},
   "source": [
    "# Glimpse of Chicago"
   ]
  },
  {
   "cell_type": "markdown",
   "id": "7b71d00e",
   "metadata": {},
   "source": [
    ":::{admonition} Note\n",
    "In the Summer of 2020, Hope Wood (Wheaton College Urban Studies staff), Demetrius Crawford (Wheaton College Urban Studies outreach program participant) and I (Dr. Paul Isihara, Wheaton College math professor) launched the idea of creating JNB labs as a tool to teach math, data analysis and STEAM to disadvantaged Chicago grade-school students. \n",
    "\n",
    "In Fall 2020, Mr. Jim Wilkes, principal of Cornerstone Academy, an alternative Christian High School serving mainly low to middle income students on the West Side of Chicago held the pilot offering of a JNB after-school program via Zoom. A class of Wheaton College student mentors worked online in small groups of 2 or 3 with Cornerstone students. Mr. Wilkes and I served as co-program directors, and Hope Wood and Antoinette Ratliff as program staff.\n",
    "\n",
    "The following JNBs were developed for use with 8th graders participating in an after-school program at a non-profit organization called Celestial Ministries. The first two years, the scholars' middle school math teacher brought them to to the program and participated in the class. I served as teacher.  Our goal was for the middle school teacher to eventually take over the primary teaching responsibilities. \n",
    "\n",
    "Celestial Ministries serves mainly single parent children in the Lawndale neighborhood on the West Side of Chicago. Parents and friends were invited to a recognition ceremony in which students demonstrated various functionalities of JNBs which were covered in the program. Students who successfully completed the program were given a certificate and a 100 dollar stipend.\n",
    ":::"
   ]
  },
  {
   "cell_type": "markdown",
   "id": "9c0f0756",
   "metadata": {},
   "source": [
    ":::::{admonition} Word of Advice\n",
    ":class: tip\n",
    "There are likely opportunities to introduce Python Jupyter Notebooks in disadvantaged communities within proximity of your workplace or residence. Establishing a good working relationship with a well-established community organization and local community math teacher is highly recommended as opposed to seeking to establish a program on your own.\n",
    ":::::"
   ]
  },
  {
   "cell_type": "markdown",
   "id": "694e3080",
   "metadata": {},
   "source": [
    "```{index} functions\n",
    "```"
   ]
  },
  {
   "cell_type": "markdown",
   "id": "7015bcc4",
   "metadata": {},
   "source": [
    "## Michael Jordan's Greatest Scoring Game\n",
    ":::{note}\n",
    "In this section, we will introduce a very important programming tool called a function. \n",
    ":::"
   ]
  },
  {
   "cell_type": "markdown",
   "id": "d5f3d714",
   "metadata": {},
   "source": [
    "::::{only} latex\n",
    ":::{note}\n",
    "Please visit {{ '[the web version of this section]({website}/{path}.html)'.format(website=web_ver_url, path=env.docname) }} to engage with this interactive resource.\n",
    ":::\n",
    "::::"
   ]
  },
  {
   "cell_type": "markdown",
   "id": "7e92afcc",
   "metadata": {},
   "source": [
    "__STEP#1__\n",
    "Review the PowerPoint on this lesson:\n",
    "[link to PPT](https://drive.google.com/file/d/1GlvEmf_TnwEDfB9xgEeAQfO0dAT50LVL/view?usp=shar)"
   ]
  },
  {
   "cell_type": "markdown",
   "id": "e4a329fd",
   "metadata": {},
   "source": [
    "__STEP #2__\n",
    "From the PowerPoint, a variable is like a b  ____ . A variable has a n  ______ . We can store some i  ______  such as a number (eg. 3) or a message (eg. 'God is Good!') in a variable.\n",
    "Let's give names to two variables:\n",
    "\n",
    "* feet\n",
    "* inch\n",
    "    \n",
    "In Michael Jordan's case, the info stored in the variable feet is the number 6 and the info stored in the variable inch is also equal to 6. For short, we just write feet=6 and inch=6\n",
    "Let's go around and each person state your name and what your value is for the variables feet and inch.\n",
    "\n",
    "(Answers: box, name, info)"
   ]
  },
  {
   "cell_type": "markdown",
   "id": "4357ab78",
   "metadata": {},
   "source": [
    "__STEP #3__\n",
    "The word for a short computer program is a c ______. The programming language we are using is Py  ______ n.\n",
    "In the next cell, we give Python code to create the function in STEP 2. (If it looks complicated, try to find someone to help explain it to you.) \n",
    "\n",
    "(Answers: code, Python)"
   ]
  },
  {
   "cell_type": "code",
   "execution_count": 1,
   "id": "da6d100b",
   "metadata": {},
   "outputs": [],
   "source": [
    "def height(feet,inch):\n",
    "    height_in_inches = 12*feet + inch  \n",
    "    return height_in_inches"
   ]
  },
  {
   "cell_type": "code",
   "execution_count": 2,
   "id": "02b602e2",
   "metadata": {},
   "outputs": [
    {
     "data": {
      "text/plain": [
       "72"
      ]
     },
     "execution_count": 2,
     "metadata": {},
     "output_type": "execute_result"
    }
   ],
   "source": [
    "height(6,0)  #Test on Seimone's height  feet=6, inch=0"
   ]
  },
  {
   "cell_type": "markdown",
   "id": "b8155ef1",
   "metadata": {},
   "source": [
    "__STEP #4__\n",
    "What do we have to do in the next cell to test our function on 6'6\" Michael Jordan?"
   ]
  },
  {
   "cell_type": "code",
   "execution_count": 3,
   "id": "311a47b3",
   "metadata": {},
   "outputs": [],
   "source": [
    "# Test our function on Michael Jordan's height."
   ]
  },
  {
   "cell_type": "markdown",
   "id": "6ca75e65",
   "metadata": {},
   "source": [
    "__STEP #5__\n",
    "One of the fun parts of programming is that we can try to design a function to do almost anything we want. \n",
    "\n",
    "Define a function called points(fg,ft,tp) which computes the points scored by a basketball player given the input variables \n",
    "\n",
    "* fg= number of 2 point field goals made\n",
    "* ft=number of free throws made\n",
    "* tp=number of three point shots made\n",
    "    \n",
    "Use a variable called pts to store the answer."
   ]
  },
  {
   "cell_type": "markdown",
   "id": "4a80bde0",
   "metadata": {},
   "source": [
    "__STEP 6__\n",
    "In his highest scoring game, Michael Jordan made 21 two-point field goals, 21 free throws and 2 three point shots.\n",
    "Check that your function gives the correct value of 69 for his point total."
   ]
  },
  {
   "cell_type": "code",
   "execution_count": 4,
   "id": "c822a978",
   "metadata": {},
   "outputs": [],
   "source": [
    "#Supply the missing values for points(fg,ft,tp)\n"
   ]
  },
  {
   "cell_type": "markdown",
   "id": "59b3547d",
   "metadata": {},
   "source": [
    ":::{admonition} For Discussion\n",
    "\n",
    "1.  What would you like your mentors to explain about today's lesson?\n",
    "\n",
    "2. What is one of your favorite sports memories?\n",
    "\n",
    ":::"
   ]
  },
  {
   "cell_type": "markdown",
   "id": "f3c40d7a",
   "metadata": {},
   "source": [
    "```{index} COVID-19\n",
    "```"
   ]
  },
  {
   "cell_type": "markdown",
   "id": "8b261d47",
   "metadata": {},
   "source": [
    "## How Bad is COVID-19?"
   ]
  },
  {
   "cell_type": "markdown",
   "id": "982dd982",
   "metadata": {},
   "source": [
    ":::{note}\n",
    "In this section we will analyze data imported directly from the Chicago Data Portal\n",
    "\n",
    "https://data.cityofchicago.org/\n",
    ":::"
   ]
  },
  {
   "cell_type": "markdown",
   "id": "750bce4b",
   "metadata": {},
   "source": [
    "__STEP 1__\n",
    "Let's read in up to 100,000 rows of COVID data for Chicago from the Chicago Data Portal."
   ]
  },
  {
   "cell_type": "code",
   "execution_count": 5,
   "id": "e04a37b8",
   "metadata": {
    "tags": [
     "hide-input"
    ]
   },
   "outputs": [],
   "source": [
    "import pandas as pd\n",
    "import numpy as np\n",
    "rawCOVID = pd.read_json('https://data.cityofchicago.org/resource/yhhz-zm2v.json?$limit=100000') #Import data directly from data portal\n",
    "rawCOVID.head(10)"
   ]
  },
  {
   "cell_type": "markdown",
   "id": "409fce9f",
   "metadata": {},
   "source": [
    "Let's check the number of rows and columns."
   ]
  },
  {
   "cell_type": "code",
   "execution_count": 6,
   "id": "f1409c64",
   "metadata": {},
   "outputs": [],
   "source": [
    "rawCOVID.shape"
   ]
  },
  {
   "cell_type": "markdown",
   "id": "b224e1e7",
   "metadata": {},
   "source": [
    "We'll list the 26 column names"
   ]
  },
  {
   "cell_type": "code",
   "execution_count": 7,
   "id": "1b289ff0",
   "metadata": {},
   "outputs": [],
   "source": [
    "list(rawCOVID.columns)"
   ]
  },
  {
   "cell_type": "markdown",
   "id": "cee7840b",
   "metadata": {},
   "source": [
    "__Q1__ Does case matter when referring to a column name?\n",
    "\n",
    "__STEP TWO__\n",
    "Let's streamline the data to just 4 columns, drop rows with missing data,  simplify the column names, and then display the first 20 rows."
   ]
  },
  {
   "cell_type": "code",
   "execution_count": 8,
   "id": "111c25d8",
   "metadata": {},
   "outputs": [],
   "source": [
    "COVID=rawCOVID[['deaths_cumulative', \"population\",  'tests_cumulative','zip_code']]\n",
    "COVID.dropna  #drop rows with missing data\n",
    "COVID.columns=[\"deaths\",\"population\",\"tests\",\"zip\"] #simplify the column names\n",
    "COVID.head(20)"
   ]
  },
  {
   "cell_type": "markdown",
   "id": "f6fa66c6",
   "metadata": {},
   "source": [
    "__Q2__ Why is there different information for the same zip code?\n",
    "\n",
    "__STEP THREE__\n",
    "\n",
    "Let's check how many rows have data in each column."
   ]
  },
  {
   "cell_type": "code",
   "execution_count": 9,
   "id": "58665fff",
   "metadata": {},
   "outputs": [],
   "source": [
    "COVID.count()"
   ]
  },
  {
   "cell_type": "markdown",
   "id": "64cb59b3",
   "metadata": {},
   "source": [
    "__Q3__  How many data rows are there in each column?\n",
    "\n",
    "__STEP FOUR__\n",
    "\n",
    "Let's find out how many times each zip code appears."
   ]
  },
  {
   "cell_type": "code",
   "execution_count": 10,
   "id": "d7145418",
   "metadata": {},
   "outputs": [],
   "source": [
    "COVID[\"zip\"].value_counts()"
   ]
  },
  {
   "cell_type": "markdown",
   "id": "6f86b4d6",
   "metadata": {},
   "source": [
    "__STEP FIVE__\n",
    "\n",
    "Let's make a copy of the COVID dataframe and display the first 5 rows."
   ]
  },
  {
   "cell_type": "code",
   "execution_count": 11,
   "id": "8ef563c0",
   "metadata": {},
   "outputs": [],
   "source": [
    "df1=COVID\n",
    "df1.head(5)"
   ]
  },
  {
   "cell_type": "markdown",
   "id": "3e535252",
   "metadata": {},
   "source": [
    "__STEP SIX__\n",
    "\n",
    "Filter data by a specific zip code, for example, '60611'"
   ]
  },
  {
   "cell_type": "code",
   "execution_count": 12,
   "id": "4d202f14",
   "metadata": {},
   "outputs": [],
   "source": [
    "df2=df1[df1['zip']=='60611']\n",
    "df2.head()"
   ]
  },
  {
   "cell_type": "code",
   "execution_count": 13,
   "id": "0fc0deff",
   "metadata": {},
   "outputs": [],
   "source": [
    "df2[\"zip\"].value_counts()"
   ]
  },
  {
   "cell_type": "markdown",
   "id": "559a87b5",
   "metadata": {},
   "source": [
    "__STEP SEVEN__\n",
    "\n",
    "Let's find the largest value in the 'tests' column for zip '60611'."
   ]
  },
  {
   "cell_type": "code",
   "execution_count": 14,
   "id": "fde40a4e",
   "metadata": {},
   "outputs": [],
   "source": [
    "df2 = df1[df1[\"zip\"]=='60637'] #get just rows with zip 60611\n",
    "numtested=df2[\"tests\"].max() #get the largest number for tests\n",
    "numtested"
   ]
  },
  {
   "cell_type": "markdown",
   "id": "bf55ea86",
   "metadata": {},
   "source": [
    "__Q4__\n",
    "How can we find how many deaths due to COVID have occurred in zip '60623'?  (Create a new dataframe for 60623 called temp)"
   ]
  },
  {
   "cell_type": "code",
   "execution_count": 15,
   "id": "35a95df5",
   "metadata": {
    "tags": [
     "hide-input"
    ]
   },
   "outputs": [],
   "source": [
    "df3 = COVID[df1[\"zip\"]=='60623'] #get just rows with zip 60611\n",
    "numdeaths=df3[\"deaths\"].max() #get the largest number for tests\n",
    "numdeaths"
   ]
  },
  {
   "cell_type": "markdown",
   "id": "eb2e1976",
   "metadata": {},
   "source": [
    "__Q5__ How can we get the population in 60623?"
   ]
  },
  {
   "cell_type": "code",
   "execution_count": 16,
   "id": "6e286b10",
   "metadata": {
    "tags": [
     "hide-input"
    ]
   },
   "outputs": [],
   "source": [
    "df3 = COVID[df1[\"zip\"]=='60623'] #get just rows with zip 60611\n",
    "pop=df3[\"population\"].max() #get the largest number for tests\n",
    "pop\n"
   ]
  },
  {
   "cell_type": "code",
   "execution_count": 17,
   "id": "3ca60212",
   "metadata": {},
   "outputs": [],
   "source": [
    "df3 = COVID[df1[\"zip\"]=='60623'] #get just rows with zip 60611\n",
    "pop=df3[\"population\"].max() #get the largest number for tests\n",
    "pop\n"
   ]
  },
  {
   "cell_type": "markdown",
   "id": "d2c61ab9",
   "metadata": {},
   "source": [
    "__STEP EIGHT__\n",
    "We can instruct the computer to give us the number of COVID tests for any Chicago zipcode."
   ]
  },
  {
   "cell_type": "code",
   "execution_count": 18,
   "id": "fd06597e",
   "metadata": {},
   "outputs": [],
   "source": [
    "def MyCOVID(COVID,zip):\n",
    "    alreadychecked=0  #eliminate duplication of information\n",
    "    for z in COVID.index:  #go through all the index values\n",
    "        if COVID.loc[z,\"zip\"]==zip and alreadychecked==0:    #found the zip we requested (first-time)\n",
    "            alreadychecked=1  #we will only do this once\n",
    "            df=COVID[COVID[\"zip\"]==zip]\n",
    "            numtested=df[\"tests\"].max()\n",
    "            print(\"Zip code: \", zip)  #print zipcode\n",
    "            print(\"number tested is \", numtested) #print number tested\n",
    "    return (\"Enter a different zip code if you wish.\")"
   ]
  },
  {
   "cell_type": "markdown",
   "id": "0dff1c91",
   "metadata": {},
   "source": [
    "__Q6__ Test out the function on zip code '60610'"
   ]
  },
  {
   "cell_type": "code",
   "execution_count": 19,
   "id": "7734ea28",
   "metadata": {
    "tags": [
     "hide-input"
    ]
   },
   "outputs": [],
   "source": [
    "MyCOVID(COVID,'60637')"
   ]
  },
  {
   "cell_type": "markdown",
   "id": "4f1481ed",
   "metadata": {},
   "source": [
    "### Exercises"
   ]
  },
  {
   "cell_type": "markdown",
   "id": "ad7e7b9b",
   "metadata": {},
   "source": [
    ":::{admonition} Exercises\n",
    "1. Define a function myCOVID2() which outputs for each given zip code the population, number tested, and number of deaths. \n",
    "\n",
    "2.  Use your function myCOVID2() to determine the COVID data for each of the following Chicago landmarks:\n",
    "\n",
    "a) North Park University (zip  '60625')\n",
    "\n",
    "b) Wheaton in Chicago (zip='60637')\n",
    "\n",
    "3. Why is COVID disproportionately impacting black and brown communities?\n",
    "\n",
    ":::"
   ]
  },
  {
   "cell_type": "markdown",
   "id": "173e2c1f",
   "metadata": {},
   "source": [
    "```{index} map\n",
    "```"
   ]
  },
  {
   "cell_type": "markdown",
   "id": "2c870b3e",
   "metadata": {},
   "source": [
    "## Mapping Famous Chicagoans"
   ]
  },
  {
   "cell_type": "markdown",
   "id": "3271c6cc",
   "metadata": {},
   "source": [
    ":::{note}\n",
    "In the section we will learn how to use Python to put information on a map of a geographical location.\n",
    ":::"
   ]
  },
  {
   "cell_type": "markdown",
   "id": "62281a10",
   "metadata": {},
   "source": [
    "__Step One__\n",
    "Let's begin by importing data of some famous people born in Chicago."
   ]
  },
  {
   "cell_type": "code",
   "execution_count": 20,
   "id": "bfd0e1d6",
   "metadata": {},
   "outputs": [],
   "source": [
    "import pandas as pd\n",
    "Chi=pd.read_csv('chicagoans.csv')\n",
    "Chi"
   ]
  },
  {
   "cell_type": "markdown",
   "id": "d2c77241",
   "metadata": {},
   "source": [
    "__Q1__ How old was Bobby Fischer when he became a grandmaster?\n",
    "\n",
    "__STEP TWO__\n",
    "Let's use a Python library called folium to make a map of Chicago."
   ]
  },
  {
   "cell_type": "markdown",
   "id": "7fa75d3f",
   "metadata": {},
   "source": [
    "```{index} folium\n",
    "```"
   ]
  },
  {
   "cell_type": "code",
   "execution_count": null,
   "id": "5035812d",
   "metadata": {},
   "outputs": [],
   "source": [
    "!pip install folium\n"
   ]
  },
  {
   "cell_type": "code",
   "execution_count": null,
   "id": "c9d938fa",
   "metadata": {},
   "outputs": [],
   "source": [
    "import folium # map rendering library\n",
    "from folium.features import DivIcon #used to add popup info to a map\n",
    "Chicago_map = folium.Map(location=[41.886456, -87.62325],  tiles=\"openstreetmap\", zoom_start=10)\n",
    "Chicago_map"
   ]
  },
  {
   "cell_type": "markdown",
   "id": "7bcac6c9",
   "metadata": {},
   "source": [
    "::::{only} latex\n",
    ":::{note}\n",
    "Please visit {{ '[the web version of this section]({website}/{path}.html)'.format(website=web_ver_url, path=env.docname) }} to engage with this interactive resource.\n",
    ":::\n",
    "::::"
   ]
  },
  {
   "cell_type": "markdown",
   "id": "bcd16688",
   "metadata": {},
   "source": [
    "__Q2__\n",
    "\n",
    "Try adjusting the \"zoom_start\" value. What happens?\n",
    "\n",
    "What happens if you change the numbers in location=[41.886456, -87.62325]\""
   ]
  },
  {
   "cell_type": "markdown",
   "id": "ad09281c",
   "metadata": {},
   "source": [
    "__STEP THREE__\n",
    "Let's add our data about famous Chicagoans to the map."
   ]
  },
  {
   "cell_type": "code",
   "execution_count": null,
   "id": "06ce6283",
   "metadata": {},
   "outputs": [],
   "source": [
    "Chicago_map=folium.Map(location=[41.886456,-87.62325],tiles=\"openstreetmap\",zoom_start=11)\n",
    "for i in Chi.index:\n",
    "    p=[Chi.loc[i,\"Lat\"],Chi.loc[i,\"Lon\"]]\n",
    "    folium.Marker(p,icon=DivIcon(\n",
    "        icon_size=(100,0),\n",
    "        icon_anchor=(0,8),\n",
    "        html='<div style=\"font-size:20pt; color:red\">'+str(Chi.loc[i,\"Name\"]) +'</div>',\n",
    "            )).add_to(Chicago_map)\n",
    "    Chicago_map.add_child(folium.CircleMarker(p, radius=1,color='black'))\n",
    "Chicago_map.save(\"Chicagoans.html\")\n",
    "Chicago_map"
   ]
  },
  {
   "cell_type": "markdown",
   "id": "5619656a",
   "metadata": {},
   "source": [
    "__Q3__ What side of the city was Michelle Obama born?\n",
    "\n",
    "__STEP FOUR__\n",
    "Let's make a function which can add another person to our dataframe called Chi  "
   ]
  },
  {
   "cell_type": "code",
   "execution_count": null,
   "id": "ea2a3352",
   "metadata": {
    "tags": [
     "hide-input"
    ]
   },
   "outputs": [],
   "source": [
    "def addperson(map_name,df,name,age,alive,noted,birth,zipcode,lat,lon,fact):\n",
    "    our_map=map_name \n",
    "    new_row = {'Name':name, \n",
    "                   'Age':age, \n",
    "                   'Alive':alive,\n",
    "                   'Noted For':noted,\n",
    "                    'Place of Birth':birth,\n",
    "                    'Zip':zipcode,\n",
    "                    'Lat':lat,\n",
    "                    'Lon':lon,\n",
    "                    'fun fact':fact            }\n",
    "    df = pd.concat([df, pd.DataFrame([new_row])], ignore_index=True)\n",
    "    i=len(df)-1\n",
    "    p=[df.loc[i,\"Lat\"],df.loc[i,\"Lon\"]]\n",
    "    folium.Marker(p,icon=DivIcon(\n",
    "        icon_size=(100,0),\n",
    "        icon_anchor=(0,8),\n",
    "        html='<div style=\"font-size: 15pt; color : blue\">'+str(df.loc[i,\"Name\"]) +'</div>',\n",
    "            )).add_to(our_map)\n",
    "    our_map.add_child(folium.CircleMarker(p, radius=1,color='blue'))\n",
    "    return df,our_map"
   ]
  },
  {
   "cell_type": "markdown",
   "id": "ac314e09",
   "metadata": {},
   "source": [
    "__Q4__ What command is used to add a new line to the dataframe df?\n",
    "\n",
    "__STEP FIVE__\n",
    "Let's add Jenifer Hudson to our dataframe using the following info:\n",
    "\n",
    "'Jennifer Hudson',38,'yes','Actress','Englewood',60621,41.779699,-87.633194,'worked at Burger King'\n"
   ]
  },
  {
   "cell_type": "markdown",
   "id": "3b262191",
   "metadata": {},
   "source": [
    "::::{only} latex\n",
    ":::{note}\n",
    "Please visit {{ '[the web version of this section]({website}/{path}.html)'.format(website=web_ver_url, path=env.docname) }} to engage with this interactive resource.\n",
    ":::\n",
    "::::"
   ]
  },
  {
   "cell_type": "code",
   "execution_count": null,
   "id": "cef0aa52",
   "metadata": {},
   "outputs": [],
   "source": [
    "[Chi,Chicago_map]=addperson(Chicago_map,Chi,'Jennifer Hudson','Actress',41,'yes','Englewood',60621,41.779699,-87.633194,'worked at Burger King')\n",
    "Chicago_map"
   ]
  },
  {
   "cell_type": "markdown",
   "id": "f089fdb8",
   "metadata": {},
   "source": [
    "__Q5__ Where did Jennifer Hudson work before becoming famous?\n",
    "\n",
    "__STEP SIX__\n",
    "Add your info to the map by editing the info in the next cell.\n"
   ]
  },
  {
   "cell_type": "code",
   "execution_count": null,
   "id": "af428909",
   "metadata": {},
   "outputs": [],
   "source": [
    "#answer to Step Six\n"
   ]
  },
  {
   "cell_type": "markdown",
   "id": "d98a308b",
   "metadata": {},
   "source": [
    "__STEP SEVEN__\n",
    "Use the following two commands to save your map and info in a new Excel file:\n",
    "\n",
    "Chicago_map.save(\"Chicagoans.html\")\n",
    "\n",
    "Chi.to_excel('ChiRevised.xlsx')\n",
    "\n",
    "Enter and run the commands in the cell below."
   ]
  },
  {
   "cell_type": "markdown",
   "id": "c347166d",
   "metadata": {},
   "source": [
    "__Q7__ Did your map display correctly?  Did the new Excel file include your name?\n",
    "\n"
   ]
  },
  {
   "cell_type": "markdown",
   "id": "3b28c35d",
   "metadata": {},
   "source": [
    ":::{admonition} Discussion\n",
    "\n",
    "\n",
    "1) Whom do you admire?  Why so?\n",
    "\n",
    "2)  What character qualities can help someone to be successful in life?\n",
    "\n",
    "3) What can help you to be more successful?\n",
    "\n",
    "\n",
    ":::"
   ]
  },
  {
   "cell_type": "markdown",
   "id": "0fd326b6",
   "metadata": {},
   "source": [
    "## Predicting Exemplary Schools"
   ]
  },
  {
   "cell_type": "markdown",
   "id": "e5e9d99a",
   "metadata": {},
   "source": [
    ":::{note}\n",
    "This section is a friendly competition predict whether a K-8 Chicago school's IL State Board of Education Summative Designation is designated 'Exemplary' (the 'Non-Exemplary' school categories are \"Commendable\", \"Targeted\", and \"Comprehensive\").\n",
    "\n",
    "The prediction will be based on the file MiddleSchool.xlsx with the following data:\n",
    "    \n",
    "* Student Enrollment - Black or African American   \n",
    "* Student Enrollment - Hispanic or Latino         \n",
    "* Student Enrollment - Children with Disabilities  \n",
    "* Student Enrollment - Low Income                \n",
    "* Total Number of School Days                         \n",
    "* 8th Grade Passing Algebra 1                   \n",
    "* Student Attendance Rate                        \n",
    "* Student Chronic Truancy Rate                       \n",
    "* Avg Class Size – All Grades                     \n",
    "* Teacher Retention Rate\n",
    ":::"
   ]
  },
  {
   "cell_type": "markdown",
   "id": "120a6c0c",
   "metadata": {},
   "source": [
    "```{index} true positive\n",
    "```\n",
    "\n",
    "```{index} false positive\n",
    "```\n",
    "\n",
    "```{index} true negative\n",
    "```\n",
    "\n",
    "```{index} false negative\n",
    "```\n",
    "\n",
    "```{index} true accuracy\n",
    "```\n",
    "\n",
    "```{index} specificity\n",
    "```\n",
    "\n",
    "```{index} precision\n",
    "```\n",
    "\n",
    "```{index} sensitivity\n",
    "```\n",
    "\n",
    "```{index} recall\n",
    "```"
   ]
  },
  {
   "cell_type": "markdown",
   "id": "5bd890ae",
   "metadata": {},
   "source": [
    "__Scoring__\n",
    "\n",
    "Scoring for our competition is based on values for the __Confusion Matrix__:\n",
    "\n",
    "$$\n",
    "\\begin{pmatrix}\n",
    "TP & FN \\\\\n",
    "FP & TN \n",
    "\\end{pmatrix}\n",
    "$$\n",
    "\n",
    "where\n",
    "\n",
    "* TP=True Positive: your model predicts exemplary and the school is exemplary\n",
    "* TN=True Negative: your model predicts not exemplary and the school is not exemplary\n",
    "* FP=False Positive: your model predicts exemplary but the school is not exemplary\n",
    "* FN=False Negative: your model predicts not exemplary but the school is exemplary\n",
    "    \n",
    " The number of each type of prediction then determines\n",
    " \n",
    "* **Accuracy** = $\\frac{\\mid TP\\mid + \\mid TN \\mid}{\\mid TP\\mid + \\mid TN \\mid+ \\mid FP\\mid + \\mid FN \\mid}$    (proportion that were correctly predicted out of all the schools)\n",
    " \n",
    "* **Specificity (Precision)** = $\\frac{\\mid TP\\mid}{\\mid TP\\mid + \\mid FP\\mid }$ (proportion that were correct out of those you predicted to be exemplary)\n",
    " \n",
    "* **Sensitivity (Recall)** = $\\frac{\\mid TP\\mid}{\\mid TP\\mid + \\mid FN\\mid }$ (proportion that you predicted correctly among just the exemplary schools)\n",
    " \n",
    "Your competition (F1) score is the geometric mean of the precision (specificity), and recall(sensitivity):\n",
    "    \n",
    "$$\n",
    "F_1=2\\frac{precision*recall}{precision+recall}\n",
    "$$"
   ]
  },
  {
   "cell_type": "markdown",
   "id": "c0788e11",
   "metadata": {},
   "source": [
    "__STEP ONE__ Exploratory Data Analysis\n",
    "1a) Import the usual libraries including matplotlib.pyplot as plt, as well as the MiddleSchool report card data into a datframe df."
   ]
  },
  {
   "cell_type": "code",
   "execution_count": null,
   "id": "b3cff453",
   "metadata": {
    "tags": [
     "hide-input"
    ]
   },
   "outputs": [],
   "source": [
    "import pandas as pd\n",
    "import numpy as np\n",
    "import matplotlib.pyplot as plt\n",
    "df=pd.read_excel(\"MiddleSchool.xlsx\")\n",
    "df.head(2)"
   ]
  },
  {
   "cell_type": "markdown",
   "id": "e36fb03d",
   "metadata": {},
   "source": [
    "__1b)__ Display the column names and the number of data rows in each column."
   ]
  },
  {
   "cell_type": "code",
   "execution_count": null,
   "id": "97eb992f",
   "metadata": {},
   "outputs": [],
   "source": [
    "df.count()"
   ]
  },
  {
   "cell_type": "markdown",
   "id": "7e5cb180",
   "metadata": {},
   "source": [
    "__1c__ Get the max and min values in each column."
   ]
  },
  {
   "cell_type": "code",
   "execution_count": null,
   "id": "60e522ee",
   "metadata": {
    "tags": [
     "hide-input"
    ]
   },
   "outputs": [],
   "source": [
    "n1min=df[\"# Student Enrollment\"].min()\n",
    "n1max=df[\"# Student Enrollment\"].max()\n",
    "n2min=df[\"% Student Enrollment - Black or African American\"].min()\n",
    "n2max=df[\"% Student Enrollment - Black or African American\"].max()\n",
    "n3min=df[\"% Student Enrollment - Hispanic or Latino\"].min()\n",
    "n3max=df[\"% Student Enrollment - Hispanic or Latino\"].max()\n",
    "n4min=df[\"% Student Enrollment - Children with Disabilities\"].min()\n",
    "n4max=df[\"% Student Enrollment - Children with Disabilities\"].max()\n",
    "n5min=df[\"% Student Enrollment - Low Income\"].min()\n",
    "n5max=df[\"% Student Enrollment - Low Income\"].max()\n",
    "n6min=df[\"Total Number of School Days\"].min()\n",
    "n6max=df[\"Total Number of School Days\"].max()\n",
    "n7min=df[\"% 8th Grade Passing Algebra 1\"].min()\n",
    "n7max=df[\"% 8th Grade Passing Algebra 1\"].max()\n",
    "n8min=df[\"Student Attendance Rate\"].min()\n",
    "n8max=df[\"Student Attendance Rate\"].max()\n",
    "n9min=df[\"Student Chronic Truancy Rate\"].min()\n",
    "n9max=df[\"Student Chronic Truancy Rate\"].max()\n",
    "n10min=df[\"Avg Class Size – All Grades\"].min()\n",
    "n10max=df[\"Avg Class Size – All Grades\"].max()\n",
    "n11min=df[\"Teacher Retention Rate\"].min()\n",
    "n11max=df[\"Teacher Retention Rate\"].max()\n",
    "print(\"min enroll\",n1min)\n",
    "print(\"max enroll\",n1max)\n",
    "print(\"min % Student Enrollment - Black or African American\",n2min)\n",
    "print(\"max % Student Enrollment - Black or African American\",n2max)\n",
    "print(\"min % Student Enrollment - Hispanic or Latino\",n3min)\n",
    "print(\"max % Student Enrollment - Hispanic or Latino\",n3max)\n",
    "print(\"min % Student Enrollment - Children with Disabilities\",n4min)\n",
    "print(\"max % Student Enrollment - Children with Disabilities\",n4max)\n",
    "print(\"min % Student Enrollment - Low Income\",n5min)\n",
    "print(\"max % Student Enrollment - Low Income\",n5max)\n",
    "print(\"min Total Number of School Days\",n6min)\n",
    "print(\"max Total Number of School Days\",n6max)\n",
    "print(\"min % 8th Grade Passing Algebra 1\",n7min)\n",
    "print(\"max % 8th Grade Passing Algebra 1\",n7max)\n",
    "print(\"min Student Attendance Rate\",n8min)\n",
    "print(\"max Student Attendance Rate\",n8max)\n",
    "print(\"min Student Chronic Truancy Rate\",n9min)\n",
    "print(\"max Student Chronic Truancy Rate\",n9max)\n",
    "print(\"Avg Class Size – All Grades\",n10min)\n",
    "print(\"Avg Class Size – All Grades\",n10max)\n",
    "print(\"Teacher Retention Rate\",n11min)\n",
    "print(\"Teacher Retention Rate\",n11max)\n"
   ]
  },
  {
   "cell_type": "markdown",
   "id": "317115e9",
   "metadata": {},
   "source": [
    "__1d__ Check how many schools are in each category."
   ]
  },
  {
   "cell_type": "code",
   "execution_count": null,
   "id": "fc06fb40",
   "metadata": {},
   "outputs": [],
   "source": [
    "df[\"Summative Designation\"].value_counts()"
   ]
  },
  {
   "cell_type": "markdown",
   "id": "db08abbd",
   "metadata": {},
   "source": [
    "__STEP TWO__\n",
    "Define a function which predicts whether a school is exemplary (1) or not-exemplary (0)."
   ]
  },
  {
   "cell_type": "markdown",
   "id": "68f45acd",
   "metadata": {},
   "source": [
    "__2a__ For a simple prediction, let us predict that a school is exemplary if the Teacher Retention Rate is at least 90%."
   ]
  },
  {
   "cell_type": "code",
   "execution_count": null,
   "id": "9ea6ccff",
   "metadata": {
    "tags": [
     "hide-input"
    ]
   },
   "outputs": [],
   "source": [
    "#---PREDICTION MODEL----#\n",
    "def mypredict(df):\n",
    "    for i in df.index:\n",
    "        if df.loc[i,\"Teacher Retention Rate\"]>90:\n",
    "            df.loc[i,\"Prediction\"]=1\n",
    "        else:\n",
    "            df.loc[i,\"Prediction\"]=0\n",
    "    return df\n",
    "\n",
    "#---APPLY MODEL TO OUR DATA---#\n",
    "mydf=mypredict(df)\n",
    "mydf=mydf.reset_index(drop=True)\n",
    "\n",
    "#---COMPUTE YOUR SCORE---#\n",
    "TP=0\n",
    "TN=0\n",
    "FP=0\n",
    "FN=0\n",
    "numschools=0\n",
    "for i in mydf.index:\n",
    "    if mydf.loc[i,\"Prediction\"]==1 and mydf.loc[i,\"Summative Designation\"]==\"Exemplary\":\n",
    "        TP=TP+1\n",
    "    if mydf.loc[i,\"Prediction\"]==0 and mydf.loc[i,\"Summative Designation\"]!=\"Exemplary\":\n",
    "        TN=TN+1\n",
    "    if mydf.loc[i,\"Prediction\"]==1 and mydf.loc[i,\"Summative Designation\"]!=\"Exemplary\":\n",
    "        FP=FP+1\n",
    "    if mydf.loc[i,\"Prediction\"]==0 and mydf.loc[i,\"Summative Designation\"]==\"Exemplary\":\n",
    "        FN=FN+1\n",
    "    numschools=numschools+1\n",
    "print(\"|TP|=\",TP)\n",
    "print(\"|TN|=\",TN)\n",
    "print(\"|FP|=\",FP)\n",
    "print(\"|FN|=\",FN)\n",
    "accuracy=round((TP+TN)/numschools,2)\n",
    "precision=round(TP/(TP+FP),2)\n",
    "recall=round(TP/(TP+FN),2)\n",
    "F1score=2*(precision*recall)/(precision+recall)\n",
    "print(\"Accuracy (% correct all 122 schools)=\",100*accuracy,\"%\")\n",
    "print(\"Precision (% correct of those you predicted to be exemplary) =\",100*precision,\"%\")\n",
    "print(\"Recall (% correct of schools that are exemplary) =\",100*recall,\"%\")\n",
    "print('COMPETITION F1 SCORE=',round(F1score*100,2),\"%\" )\n",
    "    "
   ]
  },
  {
   "cell_type": "markdown",
   "id": "0e9dfcef",
   "metadata": {},
   "source": [
    "### Assignment"
   ]
  },
  {
   "cell_type": "markdown",
   "id": "328d92c1",
   "metadata": {},
   "source": [
    ":::{admonition} Assignment\n",
    "\n",
    "Modify the Prediction Model to see how high you can score.\n",
    "\n",
    ":::"
   ]
  },
  {
   "cell_type": "markdown",
   "id": "94270f7c",
   "metadata": {},
   "source": [
    "## The Great Migration\n",
    "\n",
    "DATASETS: \n",
    "\n",
    "migration.xlsx (source https://www.census.gov/dataviz/visualizations/020/508.php); \n",
    "uscities.xlsx ((https://simplemaps.com/data/us-cities))\n",
    "\n",
    "SUMMARY: We create a heat map to show the %change in African Americans living in cities in the Northern and Southern USA as a result of the Great Migrations. Those with the largest increase (over 20%) were all in the North. \n",
    "\n",
    "BACKGROUND:  Isabel Wilkerson gives a good introduction to the Great Migration. (Run the next cell)\n",
    "\n",
    "“The Great Migration and the power of a single decision | Isabel Wilkerson” YouTube, uploaded by TED, 6 April 2018, https://youtu.be/n3qA8DNc2Ss?si=kF0l5_YhY-cmmLfO. Permissions: YouTube Terms of Service"
   ]
  },
  {
   "cell_type": "markdown",
   "id": "c1206d61",
   "metadata": {},
   "source": [
    "```{index} Great Migration\n",
    "```"
   ]
  },
  {
   "cell_type": "markdown",
   "id": "d67e0dc7",
   "metadata": {},
   "source": [
    "::::{only} latex\n",
    ":::{note}\n",
    "Please visit {{ '[the web version of this section]({website}/{path}.html)'.format(website=web_ver_url, path=env.docname) }} to engage with this interactive resource.\n",
    ":::\n",
    "::::"
   ]
  },
  {
   "cell_type": "code",
   "execution_count": null,
   "id": "a4cfe3bf",
   "metadata": {},
   "outputs": [],
   "source": [
    "from IPython.display import YouTubeVideo\n",
    "YouTubeVideo('n3qA8DNc2Ss')"
   ]
  },
  {
   "cell_type": "code",
   "execution_count": null,
   "id": "3c2888fd",
   "metadata": {
    "tags": [
     "hide-input"
    ]
   },
   "outputs": [],
   "source": [
    "# Import Libraries\n",
    "import pandas as pd \n",
    "import numpy as np \n",
    "import matplotlib.pyplot as plt "
   ]
  },
  {
   "cell_type": "code",
   "execution_count": null,
   "id": "b03bcf0f",
   "metadata": {},
   "outputs": [],
   "source": [
    "### Creating a Dataframe with %Changes in African American Population by (Lat,Lon) Location"
   ]
  },
  {
   "cell_type": "markdown",
   "id": "49d816bf",
   "metadata": {},
   "source": [
    "1) Use pandas to import the datafile migration.xlsx into a dataframe called migration."
   ]
  },
  {
   "cell_type": "code",
   "execution_count": null,
   "id": "bdc8492b",
   "metadata": {},
   "outputs": [],
   "source": [
    "migration=pd.read_excel('migration.xlsx')"
   ]
  },
  {
   "cell_type": "markdown",
   "id": "b4702ea1",
   "metadata": {},
   "source": [
    "2) Display the first two rows of migration."
   ]
  },
  {
   "cell_type": "code",
   "execution_count": null,
   "id": "e6118127",
   "metadata": {},
   "outputs": [],
   "source": [
    "migration.head(2)"
   ]
  },
  {
   "cell_type": "markdown",
   "id": "b58e1129",
   "metadata": {},
   "source": [
    "Shorten the column names (MIg1=1st Great Migration, Mig2=2nd Great Migration), separate the City and State, and create a multi-index with city and state."
   ]
  },
  {
   "cell_type": "code",
   "execution_count": null,
   "id": "d4e5a538",
   "metadata": {
    "tags": [
     "hide-input"
    ]
   },
   "outputs": [],
   "source": [
    "migdf=migration #make a copy of the original dataframe\n",
    "migdf.columns=[\"City\",\"Mig2\",\"Mig1\"] #rename the columns\n",
    "migdf[\"city\"]=\"city\"  #create a column for the city\n",
    "migdf[\"state\"]=\"state\"  #create a column for the state\n",
    "for m in migdf.index:\n",
    "    x=migdf.loc[m,\"City\"].split(\", \")  #split the city from the state\n",
    "    migdf.loc[m,\"city\"]=x[0]  #add the city to the city column\n",
    "    migdf.loc[m,\"state\"]=x[1]  #add the state to the state column\n",
    "migdf.drop(['City'], axis=1, inplace=True) #Drop the original City column\n",
    "migdf=migdf.set_index([\"city\",\"state\"],drop=True) #create multi-index\n",
    "migdf.head(5)"
   ]
  },
  {
   "cell_type": "markdown",
   "id": "7b29bf69",
   "metadata": {},
   "source": [
    "4) Read the lat lon data for US cities in the file \"uscities.xlsx\" and make [\"city\",\"state\"] the multi-index."
   ]
  },
  {
   "cell_type": "code",
   "execution_count": null,
   "id": "556d94c8",
   "metadata": {
    "tags": [
     "hide-input"
    ]
   },
   "outputs": [],
   "source": [
    "rawlatlon=pd.read_excel(\"uscities.xlsx\") #read data\n",
    "latlon=rawlatlon[[\"city_ascii\",\"lat\",\"lng\",\"state_id\"]] #select columns\n",
    "latlon.columns=[\"city\",\"lat\",\"lon\",\"state\"] #rename columns\n",
    "latlon=latlon.set_index([\"city\",\"state\"],drop=True) #create multi-index\n",
    "latlon.head(2)"
   ]
  },
  {
   "cell_type": "markdown",
   "id": "79029f84",
   "metadata": {},
   "source": [
    "5) We'll perform an inner join (intersection) of the two dataframes migdf and latlon. This will add the lat lon data to the migdf data"
   ]
  },
  {
   "cell_type": "markdown",
   "id": "ddfc27aa",
   "metadata": {},
   "source": [
    "```{index} inner join\n",
    "```"
   ]
  },
  {
   "cell_type": "code",
   "execution_count": null,
   "id": "7d63dca7",
   "metadata": {},
   "outputs": [],
   "source": [
    "df=pd.merge(latlon,migdf, how='inner', left_index=True,right_index=True)\n",
    "df.columns=[\"lat\",\"lon\",\"Mig2\",\"Mig1\"]\n",
    "df.to_excel(\"GM.xlsx\")\n",
    "df.head(5)"
   ]
  },
  {
   "cell_type": "markdown",
   "id": "2c5a6729",
   "metadata": {},
   "source": [
    "6) Check for missing data."
   ]
  },
  {
   "cell_type": "code",
   "execution_count": null,
   "id": "c044f371",
   "metadata": {},
   "outputs": [],
   "source": [
    "df[df[\"Mig1\"]==\"No data\"].count()"
   ]
  },
  {
   "cell_type": "code",
   "execution_count": null,
   "id": "7603fa22",
   "metadata": {},
   "outputs": [],
   "source": [
    "df[df[\"Mig2\"]==\"No data\"].count()"
   ]
  },
  {
   "cell_type": "markdown",
   "id": "bcd2f508",
   "metadata": {},
   "source": [
    "7) Remove rows with missing data."
   ]
  },
  {
   "cell_type": "markdown",
   "id": "8e2f4656",
   "metadata": {},
   "source": [
    "```{index} missing data\n",
    "```"
   ]
  },
  {
   "cell_type": "code",
   "execution_count": null,
   "id": "e31d0317",
   "metadata": {},
   "outputs": [],
   "source": [
    "df.count()"
   ]
  },
  {
   "cell_type": "code",
   "execution_count": null,
   "id": "6ac4123d",
   "metadata": {},
   "outputs": [],
   "source": [
    "df=df[df[\"Mig1\"]!=\"No data\"]\n",
    "df=df[df[\"Mig2\"]!=\"No data\"]\n",
    "df.count()"
   ]
  },
  {
   "cell_type": "markdown",
   "id": "c5bbd78d",
   "metadata": {},
   "source": [
    "### Creating a Map from our Dataframe"
   ]
  },
  {
   "cell_type": "markdown",
   "id": "9df30e85",
   "metadata": {},
   "source": [
    "8) Make a heat map of the 1st Great Migration."
   ]
  },
  {
   "cell_type": "markdown",
   "id": "6b315c41",
   "metadata": {},
   "source": [
    "```{index} heat map\n",
    "```"
   ]
  },
  {
   "cell_type": "code",
   "execution_count": null,
   "id": "63f70583",
   "metadata": {
    "tags": [
     "hide-input"
    ]
   },
   "outputs": [],
   "source": [
    "fig=plt.figure(figsize=(35, 40))\n",
    "X=df[\"Mig1\"].astype(float)\n",
    "Y=df[\"lat\"]\n",
    "heat_map= plt.hist2d(X, Y, bins=6) #heat map is a 2dimensional histogram\n",
    "plt.xlabel(\"% Change in Afr. American Population First Great Migration(1910-1940)\",size=30)\n",
    "plt.ylabel(\"Latitude\",size=30)\n",
    "plt.yticks(fontsize=30)\n",
    "plt.xticks(fontsize=30)\n",
    "names=df.reset_index()\n",
    "for i in names.index:   ##add the names of the cities and %change in Afr. American population\n",
    "    plt.text(names.Mig1[i],names.lat[i],names.city[i]+'  '+str(names.Mig1[i]),fontsize=10,color='white')\n",
    "cbar = plt.colorbar()\n",
    "cbar.set_label('# of cities', rotation=270,size=50)\n",
    "cbar.ax.tick_params(labelsize=30)\n",
    "fig.savefig(\"Migration1.png\")"
   ]
  },
  {
   "cell_type": "markdown",
   "id": "0e9ae896",
   "metadata": {},
   "source": [
    "9) Improve clarity by specifying certain cities to display.\n",
    "\n"
   ]
  },
  {
   "cell_type": "code",
   "execution_count": null,
   "id": "441077f2",
   "metadata": {
    "tags": [
     "hide-input"
    ]
   },
   "outputs": [],
   "source": [
    "fig,ax=plt.subplots(figsize=(35, 40))\n",
    "X=df[\"Mig1\"].astype(float)\n",
    "Y=df[\"lat\"]\n",
    "heat_map= plt.hist2d(X, Y, bins=6,alpha=.6) #heat map is a 2dimensional histogram\n",
    "plt.xlabel(\"% Change in Afr. American Population First Great Migration(1910-1940)\",size=30)\n",
    "plt.ylabel(\"Latitude\",size=30)\n",
    "plt.yticks(fontsize=30)\n",
    "plt.xticks(fontsize=30)\n",
    "plt.xlim(-20,45)\n",
    "names=df.reset_index()\n",
    "for i in names.index:   ##add the names of the cities and %change in Afr. American population\n",
    "    if names.Mig1[i]<0 and any(names.loc[i,'city'] in x for x in [\"Austin\",\"Chicago\",\"Detroit\",\"Cleveland\",\"Dallas\",\"Denver\",\"Grand Rapids\",\"Houston\",\"Huntsville\",\"Indianapolis\",\"Jacksonville\",\"Louisville\",\"Miami\",\"Milwaukee\",\"Minneapolis\",\"Montgomery\",\"Mobile\",\"Nashville\",\"New York\",\"New Orleans\",\"Newark\",\"Omaha\",\"Philadelphia\",\"Pittsburgh\",\"Providence\",\"Raleigh\",\"San Antonio\",\"San Francisco\",\"Seattle\",\"St. Louis\",\"Washington, DC\",]):\n",
    "        plt.text(names.Mig1[i],names.lat[i],\"x\"+names.city[i]+'  '+str(names.Mig1[i]),fontsize=30,color='red')\n",
    "    else:\n",
    "        if any(names.loc[i,'city'] in x for x in [\"Chicago\",\"Detroit\",\"Cleveland\",\"Dallas\",\"Grand Rapids\",\"Indianapolis\",\"Louisville\",\"Milwaukee\",\"Minneapolis\",\"Montgomery\",\"Nashville\",\"New York\",\"Newark\",\"Omaha\",\"Philadelphia\",\"Pittsburgh\",\"Providence\",\"Raleigh\",\"San Francisco\",\"Seattle\",\"St. Louis\",\"Washington, DC\",]):\n",
    "            plt.text(names.Mig1[i],names.lat[i],\"x\"+names.city[i]+'  '+str(names.Mig1[i]),fontsize=30,color='black')\n",
    "\n",
    "cbar = plt.colorbar()\n",
    "cbar.set_label('# of cities', rotation=270,size=50)\n",
    "cbar.ax.tick_params(labelsize=25)\n",
    "fig.savefig(\"Migration1Simplified.png\")"
   ]
  },
  {
   "cell_type": "markdown",
   "id": "b4013907",
   "metadata": {},
   "source": [
    "### ASSIGNMENT"
   ]
  },
  {
   "cell_type": "markdown",
   "id": "478c951e",
   "metadata": {},
   "source": [
    ":::{admonition} Assignment\n",
    "\n",
    "Make heatmaps for Mig2 and compare it with the heatmaps for Mig1. (Eg. What happened in Chicago?)\n",
    ":::"
   ]
  },
  {
   "cell_type": "code",
   "execution_count": null,
   "id": "d65b858a",
   "metadata": {},
   "outputs": [],
   "source": [
    "#import libraries\n",
    "import pandas as pd\n",
    "import numpy as np\n",
    "import matplotlib.pyplot as plt # plotting library\n",
    "import sklearn\n",
    "from sklearn.cluster import KMeans"
   ]
  },
  {
   "cell_type": "markdown",
   "id": "ae7aae16",
   "metadata": {},
   "source": [
    "## The Chicago Hardship Index"
   ]
  },
  {
   "cell_type": "markdown",
   "id": "556a9733",
   "metadata": {},
   "source": [
    "```{index} hardship index\n",
    "```"
   ]
  },
  {
   "cell_type": "markdown",
   "id": "b75e8ea1",
   "metadata": {},
   "source": [
    ":::{note}\n",
    "This section is all about Chicago, so has been included here. As it contains more advanced coding methods (explained in later chapters), the coding cells may be skimmed or skipped entirely and returned to later. The contents first appeared in  an open access article distributed under the terms of the Creative Commons CC BY license:\n",
    "\n",
    "Amdat, W. C. (2021). The Chicago Hardship Index: An Introduction to Urban Inequity. Journal of Statistics and Data Science Education, 29(3), 328–336. https://doi.org/10.1080/26939169.2021.1994489\n",
    ":::"
   ]
  },
  {
   "cell_type": "markdown",
   "id": "af8cb55e",
   "metadata": {},
   "source": [
    "### Raw Data and Summary Statistics\n",
    "The hardship index is a way to use data to explore urban inequities. Exploratory data analysis for social justice issues should aim to be accessible, significant, equitable, impartial, and transparent. \n",
    "\n",
    "<img src=\"table1.png\" alt=\"Drawing\" style=\"width: 500px;\"/>\n",
    "\n",
    "The hardship index (HI) is the mean of six indicator estimates. Each indicator has been normalized and scaled from 0-100 (except per capita income). A higher hardship index value indicates greater hardship. The 6 raw indicator estimates are complicated by time variation over 5-year periods (US Census Bureau 2008) and geographical boundary approximation (Great Cities Institute 2019). The indicators are\n",
    "- UNEMP = % of community age 16 and older who are unemployed \n",
    "- NOHS = % of community age 25 and older without a high school diploma \n",
    "- DEP = % of community who are dependent (under age 18 or over age 64) \n",
    "- HOUS= % of community with overcrowded housing (more than 1 occupant per room)\n",
    "- POV = % below federal poverty line\n",
    "- INC = per capita income"
   ]
  },
  {
   "cell_type": "markdown",
   "id": "7f8358dc",
   "metadata": {},
   "source": [
    "Datafile:  'HIHOM20142017.xlsx'\n",
    "             \n",
    "Data Source: https://greatcities.uic.edu/wp-content/uploads/2016/07/GCI-Hardship-Index-Fact-SheetV2.pdf (2010-2014) https://greatcities.uic.edu/wp-content/uploads/2019/12/Hardship-Index-Fact-Sheet-2017-ACS-Final-1.pdf (2013-2017).   "
   ]
  },
  {
   "cell_type": "markdown",
   "id": "04ab0db0",
   "metadata": {},
   "source": [
    "### Summary Statistics"
   ]
  },
  {
   "cell_type": "markdown",
   "id": "e093fe36",
   "metadata": {},
   "source": [
    "```{index} summary statistics\n",
    "```"
   ]
  },
  {
   "cell_type": "markdown",
   "id": "9bf2e63f",
   "metadata": {},
   "source": [
    "1) Upload the hardship index data for 2014 and 2017. The first two of seventy-seven community areas in Chicago are printed below."
   ]
  },
  {
   "cell_type": "code",
   "execution_count": null,
   "id": "14f89291",
   "metadata": {},
   "outputs": [],
   "source": [
    "raw_hardship=pd.read_excel('HIHOM20142017.xlsx')\n",
    "raw_hardship.head(2)"
   ]
  },
  {
   "cell_type": "markdown",
   "id": "d9fb9cdd",
   "metadata": {},
   "source": [
    "2) Separate the 2014 and 2017 hardship index (HI) data into two dataframes called \"dfHI14\" and \"dfHI17.\" The column names will reflect the year"
   ]
  },
  {
   "cell_type": "code",
   "execution_count": null,
   "id": "768dc79e",
   "metadata": {},
   "outputs": [],
   "source": [
    "dfHI14=raw_hardship[[\"Community\",\"HI14\",\"UNEMP14\",\"NOHS14\",\"DEP14\",\"HOUS14\",\"POV14\",\"INC14\"]]\n",
    "dfHI14 = dfHI14.rename(columns = {'Community':'Community14'})\n",
    "dfHI17=raw_hardship[[\"Community\",\"HI17\",\"UNEMP17\",\"NOHS17\",\"DEP17\",\"HOUS17\",\"POV17\",\"INC17\"]]\n",
    "dfHI17 = dfHI17.rename(columns = {'Community':'Community17'})"
   ]
  },
  {
   "cell_type": "markdown",
   "id": "8e6024fd",
   "metadata": {},
   "source": [
    "3) The first two communities' HI and the indicator scores for 2014 are printed below."
   ]
  },
  {
   "cell_type": "code",
   "execution_count": null,
   "id": "20c828b3",
   "metadata": {},
   "outputs": [],
   "source": [
    "dfHI14.head(2)"
   ]
  },
  {
   "cell_type": "markdown",
   "id": "cc58ae6f",
   "metadata": {},
   "source": [
    "4) The scores for two communities in 2017 are printed below."
   ]
  },
  {
   "cell_type": "code",
   "execution_count": null,
   "id": "781b2b73",
   "metadata": {},
   "outputs": [],
   "source": [
    "dfHI17.head(2)"
   ]
  },
  {
   "cell_type": "markdown",
   "id": "31d0ee12",
   "metadata": {},
   "source": [
    "5) Calculate the summary statistics for indicators from the data in all seventy-seven communities.\n",
    "For example, we calculate statistics for the HOUS indicator in 2017. By replacing \"HOUS17,\" statistics for other indicators can be calculated--like \"HI17,\" \"NOHS17\", etc."
   ]
  },
  {
   "cell_type": "code",
   "execution_count": null,
   "id": "7b54a4a8",
   "metadata": {},
   "outputs": [],
   "source": [
    "x=dfHI17[\"HOUS17\"]\n",
    "import numpy\n",
    "print(\"Minimum: \", numpy.min(x))\n",
    "print(\"Maximum: \", numpy.max(x))\n",
    "print(\"Standard Deviation: \", numpy.std(x))\n",
    "print(\"Mean: \", numpy.mean(x))\n",
    "print(\"Median: \", numpy.median(x))"
   ]
  },
  {
   "cell_type": "markdown",
   "id": "49710d91",
   "metadata": {},
   "source": [
    "The table below lists the indicator values for several communities, as shown above, and the summary statistics for each indicator."
   ]
  },
  {
   "cell_type": "markdown",
   "id": "2a8e2aa3",
   "metadata": {},
   "source": [
    "<img src=\"hardship.png\" alt=\"Drawing\" style=\"width: 500px;\"/>"
   ]
  },
  {
   "cell_type": "markdown",
   "id": "aa1509e2",
   "metadata": {},
   "source": [
    "```{index} k-means clustering\n",
    "```"
   ]
  },
  {
   "cell_type": "markdown",
   "id": "e6abb049",
   "metadata": {},
   "source": [
    "### K-Means Clustering\n",
    "\n",
    "We will use a machine learning method called K-means clustering  (see Chapter 10.3) to visualize patterns in the geographic information. By plotting the homicide data with it, we can investigate a relationship between location, hardship cluster, and number of homocides.  We use the sklearn library for machine learning.\n",
    "\n",
    "\n",
    "Datafile:  'standardizedindicators.xlsx'"
   ]
  },
  {
   "cell_type": "markdown",
   "id": "777b7dd0",
   "metadata": {},
   "source": [
    "1) Read standardized hardship index and homicide data."
   ]
  },
  {
   "cell_type": "code",
   "execution_count": null,
   "id": "f3172488",
   "metadata": {},
   "outputs": [],
   "source": [
    "hom_df = pd.read_excel('standardizedindicators.xlsx')\n",
    "hom_df.head(2)"
   ]
  },
  {
   "cell_type": "markdown",
   "id": "9cad8c08",
   "metadata": {},
   "source": [
    "2) Create dataframe with just HI and HOM 2017 info"
   ]
  },
  {
   "cell_type": "code",
   "execution_count": null,
   "id": "968a9478",
   "metadata": {},
   "outputs": [],
   "source": [
    "HIHOM=hom_df[[\"UNEMP17\",\"NOHS17\",\"DEP17\",\"HOUS17\",\"POV17\",\"INC17\"]]\n",
    "HIHOM.head()"
   ]
  },
  {
   "cell_type": "markdown",
   "id": "1470221f",
   "metadata": {},
   "source": [
    "3) Use the KMeans() function to make n_clusters=2 clusters and get the labels indicating which cluster each point belongs to."
   ]
  },
  {
   "cell_type": "code",
   "execution_count": null,
   "id": "f5e768de",
   "metadata": {},
   "outputs": [],
   "source": [
    "# Fit the k means model\n",
    "k_means = KMeans(init=\"k-means++\", n_clusters=2, n_init=2)\n",
    "k_means.fit(HIHOM)\n",
    "#Get Labels\n",
    "k_means_labels = k_means.labels_\n",
    "k_means_labels"
   ]
  },
  {
   "cell_type": "markdown",
   "id": "ba9376f3",
   "metadata": {},
   "source": [
    "4) Add the labels to hom_df"
   ]
  },
  {
   "cell_type": "code",
   "execution_count": null,
   "id": "8a1b7980",
   "metadata": {},
   "outputs": [],
   "source": [
    "hom_df[\"CLASS\"]=k_means_labels\n",
    "hom_df.head(2)"
   ]
  },
  {
   "cell_type": "markdown",
   "id": "d7b44da2",
   "metadata": {},
   "source": [
    "5) Make a geographic plot of Chicago’s 77 community areas with marker color (blue or\n",
    "red) indicating k-means bi-clustering based only on the 6 standardized economic hardship\n",
    "indicators. Affluent community areas such as the Loop (central business district), Near\n",
    "North Side (which includes the “Gold Coast”), and Hyde Park (site of the University of\n",
    "Chicago) appear in blue. Lower-income communities with a history of injustices, includ\u0002ing Woodlawn, Englewood, and Austin, appear in red. Marker sizes are proportional to\n",
    "homicide counts, with actual numbers in parentheses following named community areas."
   ]
  },
  {
   "cell_type": "code",
   "execution_count": null,
   "id": "aad056ff",
   "metadata": {
    "tags": [
     "hide-input"
    ]
   },
   "outputs": [],
   "source": [
    "fig=plt.figure(figsize=(25,20))\n",
    "\n",
    "for i in hom_df.index:\n",
    "    if hom_df.loc[i,\"CLASS\"]==0:   #toggle class (0 or 1) if \"Loop\" does not appear on the map\n",
    "        plt.scatter(hom_df.loc[i,'LON'], hom_df.loc[i,'LAT'],s=20*hom_df.loc[i,'HOM17']+20,color='b', alpha=0.95)\n",
    "        if hom_df.loc[i,\"Community\"] in [\"Loop\"]:\n",
    "            plt.gca().text(hom_df.loc[i,'LON']+.003, hom_df.loc[i,'LAT']-.005, hom_df.loc[i,'Community']+'('+str(hom_df.loc[i,'HOM17'])+')',color='blue', size=30)\n",
    "        if hom_df.loc[i,\"Community\"] in [\"Hyde Park\",\"Near West Side\",\"Kenwood\",\"Near North Side\",\"Near South Side\",\"West Town\"]:\n",
    "            plt.gca().text(hom_df.loc[i,'LON']+.003, hom_df.loc[i,'LAT']-.005, hom_df.loc[i,'Community']+'('+str(hom_df.loc[i,'HOM17'])+')',color='blue', size=20)\n",
    "        if hom_df.loc[i,\"Community\"] in [\"Lincoln Park\",\"Lakeview\",\"Uptown\",\"Edgewater\",\"Rogers Park\",\"Logan Square\",\"Avondale\",\"North Center\"]:\n",
    "            plt.gca().text(hom_df.loc[i,'LON']-.015, hom_df.loc[i,'LAT']-.0075, hom_df.loc[i,'Community']+'('+str(hom_df.loc[i,'HOM17'])+')',color='blue', size=20)\n",
    "        if hom_df.loc[i,\"Community\"] in [\"Lincoln Square\",\"Irving Park\",\"Portage Park\",\"Jefferson Park\"]:\n",
    "            plt.gca().text(hom_df.loc[i,'LON']-.025, hom_df.loc[i,'LAT']-.0075, hom_df.loc[i,'Community']+'('+str(hom_df.loc[i,'HOM17'])+')',color='blue', size=20)\n",
    "        if hom_df.loc[i,\"Community\"] in [\"Dunning\",\"O’Hare\",\"Edison Park\",\"Norwood Park\"]:\n",
    "            plt.gca().text(hom_df.loc[i,'LON']-.015, hom_df.loc[i,'LAT']+.005, hom_df.loc[i,'Community']+'('+str(hom_df.loc[i,'HOM17'])+')',color='blue', size=20)\n",
    "        if hom_df.loc[i,\"Community\"] in [\"Forest Glen\",\"Garfield Ridge\",\"Clearning\",\"Ashburn\",\"Beverly\",\"Mount Greenwood\",\"Morgan Park\"]:\n",
    "            plt.gca().text(hom_df.loc[i,'LON']-.015, hom_df.loc[i,'LAT']+.0015, hom_df.loc[i,'Community']+'('+str(hom_df.loc[i,'HOM17'])+')',color='blue', size=20)\n",
    "    \n",
    "        \n",
    "        \n",
    "        if hom_df.loc[i,\"Community\"] in [\"Hegewisch\"]:\n",
    "            plt.gca().text(hom_df.loc[i,'LON']-.01, hom_df.loc[i,'LAT']-.0075, hom_df.loc[i,'Community']+'('+str(hom_df.loc[i,'HOM17'])+')',color='blue', size=20)\n",
    "    \n",
    "    \n",
    "    else:\n",
    "        plt.scatter(hom_df.loc[i,'LON'], hom_df.loc[i,'LAT'],s=20*hom_df.loc[i,'HOM17']+20,color='r', alpha=0.95)\n",
    "        if hom_df.loc[i,\"Community\"] in [\"Austin\",\"Belmont Craigin\",\"Montclare\"]:\n",
    "            plt.gca().text(hom_df.loc[i,'LON']-.02,hom_df.loc[i,'LAT']-.013, hom_df.loc[i,'Community']+'('+str(hom_df.loc[i,'HOM17'])+')',color='red', size=20)\n",
    "        if hom_df.loc[i,\"Community\"] in [\"Woodlawn\",\"Englewood\",\"Chicago Lawn\",\"South Lawndale\",\"McKinley Park\",\"Brighton Park\",\"Archer Heights\",\"West Elsdon\",\"West Lawn\",\"New City\",\"Greater Grand Crossing\",\"Auburn Gresham\",\"South Chicago\",\"East Side\",\"South Deering\",\"Riverdale\"]:\n",
    "            plt.gca().text(hom_df.loc[i,'LON']-.015,hom_df.loc[i,'LAT']-.009, hom_df.loc[i,'Community']+'('+str(hom_df.loc[i,'HOM17'])+')',color='red', size=20)\n",
    "        if hom_df.loc[i,\"Community\"] in [\"Avalon Park\",\"Burnside\",\"Pullman\"]:\n",
    "            plt.gca().text(hom_df.loc[i,'LON']-.015,hom_df.loc[i,'LAT']-.006,hom_df.loc[i,'Community']+'('+str(hom_df.loc[i,'HOM17'])+')',color='red', size=20)\n",
    "        if hom_df.loc[i,\"Community\"] in [\"Roseland\",\"North Lawndale\",\"East Garfield Park\",\"Hermosa\",\"West Englewood\",\"Humboldt Park\"]:\n",
    "            plt.gca().text(hom_df.loc[i,'LON']-.015,hom_df.loc[i,'LAT']+.007,hom_df.loc[i,'Community']+'('+str(hom_df.loc[i,'HOM17'])+')',color='red', size=20)\n",
    "        if hom_df.loc[i,\"Community\"] in [\"West Garfield Park\"]:\n",
    "            plt.gca().text(hom_df.loc[i,'LON']-.04,hom_df.loc[i,'LAT']-.007,hom_df.loc[i,'Community']+'('+str(hom_df.loc[i,'HOM17'])+')',color='red', size=20)\n",
    "        if hom_df.loc[i,\"Community\"] in [\"Lower West Side\",\"Oakland\",\"Douglas\",\"Armour Square\"]:\n",
    "            plt.gca().text(hom_df.loc[i,'LON']-.001,hom_df.loc[i,'LAT']+.002,hom_df.loc[i,'Community']+'('+str(hom_df.loc[i,'HOM17'])+')',color='red', size=20)\n",
    "        if hom_df.loc[i,\"Community\"] in [\"Bridgeport\"]:\n",
    "            plt.gca().text(hom_df.loc[i,'LON']-.01,hom_df.loc[i,'LAT']-.005,hom_df.loc[i,'Community']+'('+str(hom_df.loc[i,'HOM17'])+')',color='red', size=20)\n",
    "        if hom_df.loc[i,\"Community\"] in [\"South Shore\"]:\n",
    "            plt.gca().text(hom_df.loc[i,'LON']-.015,hom_df.loc[i,'LAT']+.003,hom_df.loc[i,'Community']+'('+str(hom_df.loc[i,'HOM17'])+')',color='red', size=20)\n",
    "        if hom_df.loc[i,\"Community\"] in [\"Washington Park\",\"West Pullman\",\"Grand Boulevard\"]:\n",
    "            plt.gca().text(hom_df.loc[i,'LON']-.025,hom_df.loc[i,'LAT']+.003,hom_df.loc[i,'Community']+'('+str(hom_df.loc[i,'HOM17'])+')',color='red', size=20)\n",
    "        if hom_df.loc[i,\"Community\"] in [\"Fuller Park\"]:\n",
    "            plt.gca().text(hom_df.loc[i,'LON']-.027,hom_df.loc[i,'LAT']+.002,hom_df.loc[i,'Community']+'('+str(hom_df.loc[i,'HOM17'])+')',color='red', size=20)\n",
    "        if hom_df.loc[i,\"Community\"] in [\"Washington Heights\"]:\n",
    "            plt.gca().text(hom_df.loc[i,'LON']-.05,hom_df.loc[i,'LAT']+.005,hom_df.loc[i,'Community']+'('+str(hom_df.loc[i,'HOM17'])+')',color='red', size=20)\n",
    "        if hom_df.loc[i,\"Community\"] in [\"West Ridge\",\"North Park\",\"Albany Park\"]:\n",
    "            plt.gca().text(hom_df.loc[i,'LON']-.02,hom_df.loc[i,'LAT']+.005,hom_df.loc[i,'Community']+'('+str(hom_df.loc[i,'HOM17'])+')',color='red', size=20)\n",
    "\n",
    "#plt.gca().set_facecolor('lightgray')\n",
    "plt.gca().grid()\n",
    "plt.yticks(fontsize=20) \n",
    "plt.xticks(fontsize=20)\n",
    "#title\n",
    "plt.title('KMeans Classification of Community Areas by 6 Standardized Hardship Indicators',size=25)\n",
    "plt.xlabel(\"Longitude\",size=30)\n",
    "plt.ylabel(\"Latitude\",size=30)\n",
    "plt.legend(loc=\"lower left\")\n",
    "fig.savefig(\"Fig4.png\") \n",
    "#show the plot\n",
    "plt.show()"
   ]
  },
  {
   "cell_type": "markdown",
   "id": "25106082",
   "metadata": {},
   "source": [
    ":::{admonition} Exercise\n",
    "Note that the Near North Side has the same homicide count as Riverdale. However, the homicide rate in Riverdale was 10 times higher than the Near North Side.  Using the 2017 data, change the marker size so that it corresponds to homicide rate (per 10,000 people) rather than homicide count.\n",
    " :::\n"
   ]
  }
 ],
 "metadata": {
  "celltoolbar": "Edit Metadata",
  "kernelspec": {
   "display_name": "Python 3 (ipykernel)",
   "language": "python",
   "name": "python3"
  },
  "language_info": {
   "codemirror_mode": {
    "name": "ipython",
    "version": 3
   },
   "file_extension": ".py",
   "mimetype": "text/x-python",
   "name": "python",
   "nbconvert_exporter": "python",
   "pygments_lexer": "ipython3",
   "version": "3.11.3"
  }
 },
 "nbformat": 4,
 "nbformat_minor": 5
}
