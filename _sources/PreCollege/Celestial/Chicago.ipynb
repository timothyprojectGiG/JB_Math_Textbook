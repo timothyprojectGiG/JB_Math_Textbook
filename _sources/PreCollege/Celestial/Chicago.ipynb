{
 "cells": [
  {
   "cell_type": "markdown",
   "id": "bd66cd07",
   "metadata": {},
   "source": [
    "# Glimpse of Chicago"
   ]
  },
  {
   "cell_type": "markdown",
   "id": "7b71d00e",
   "metadata": {},
   "source": [
    ":::{admonition} Personal Note from the Author\n",
    "In the Summer of 2020, Hope Wood (Wheaton College Urban Studies staff), Demetrius Crawford (Wheaton College Urban Studies outreach program participant) and I (Wheaton College math professor) launched the idea of creating JNB labs as a tool to teach math, data analysis and STEAM to disadvantaged Chicago grade-school students. \n",
    "\n",
    "In Fall 2020, Mr. Jim Wilkes, principal of Cornerstone Academy, an alternative Christian High School serving mainly low to middle income students on the West Side of Chicago held the pilot offering of a JNB after-school program via Zoom. A class of Wheaton College student mentors worked online in small groups of 2 or 3 with Cornerstone students. Mr. Wilkes and I served as co-program directors, and Hope Wood and Antoinette Ratliff as program staff.\n",
    "\n",
    "The following JNBs were developed for use with 8th graders participating in an after-school program at a non-profit organization called Celestial Ministries. The first two years, the scholars' middle school math teacher brought them to to the program and participated in the class. I served as teacher.  We are planning for the middle school teacher to take over the teaching responsibilities. \n",
    "\n",
    "Celestial Ministries serves single parent children in Lawndale neighborhood on the West Side of Chicago. Parents and friends were invite to a recognition ceremony in which students demonstrated various functionalities of JNBs which covered in the program. Students who successfully completed the program were given a certificate and a 100 dollar stipend.\n",
    ":::"
   ]
  },
  {
   "cell_type": "markdown",
   "id": "9c0f0756",
   "metadata": {},
   "source": [
    ":::::{admonition} Word of Advice\n",
    ":class: tip\n",
    "There are likely opportunities to introduce Python Jupyter Notebooks in disadvantaged communities within proximity of your workplace or residence. Establishing a good working relationship with a well-established community organization and loal community math teacher is highly recommended as opposed to seeking to establish a program on your own.\n",
    ":::::"
   ]
  },
  {
   "cell_type": "markdown",
   "id": "694e3080",
   "metadata": {},
   "source": [
    "```{index} function\n",
    "```"
   ]
  },
  {
   "cell_type": "markdown",
   "id": "7015bcc4",
   "metadata": {},
   "source": [
    "### Michael Jordan's Greatest Scoring Game\n",
    ":::{note}\n",
    "In this section, we will introduce a very important programming tool called a function. \n",
    ":::"
   ]
  },
  {
   "cell_type": "markdown",
   "id": "7e92afcc",
   "metadata": {},
   "source": [
    "__STEP#1__\n",
    "Watch the PowerPoint on this lesson.\n",
    "<a href=\"https://drive.google.com/file/d/1GlvEmf_TnwEDfB9xgEeAQfO0dAT50LVL/view?usp=sharing\" target=\"_blank\">link to PPT</a>"
   ]
  },
  {
   "cell_type": "markdown",
   "id": "e4a329fd",
   "metadata": {},
   "source": [
    "__STEP #2__\n",
    "From the PowerPoint, a variable is like a b  ____ . A variable has a n  ______ . We can store some i  ______  such as a number (eg. 3) or a message (eg. 'God is Good!') in a variable.\n",
    "Let's give names to two variables:\n",
    "\n",
    "* feet\n",
    "* inch\n",
    "    \n",
    "In Michael Jordan's case, the info stored in the variable feet is the number 6 and the info stored in the variable inch is also equal to 6. For short, we just write feet=6 and inch=6\n",
    "Let's go around and each person state your name and what your value is for the variables feet and inch.\n",
    "\n",
    "(Answers: box, name, info)"
   ]
  },
  {
   "cell_type": "markdown",
   "id": "4357ab78",
   "metadata": {},
   "source": [
    "__STEP #3__\n",
    "The word for a short computer program is a c ______. The programming language we are using is Py  ______ n.\n",
    "In the next cell, we give Python code to create the function in STEP 2. (If it looks complicated, try to find someone to help explain it to you.) \n",
    "\n",
    "(Answers: code, Python)"
   ]
  },
  {
   "cell_type": "code",
   "execution_count": 8,
   "id": "da6d100b",
   "metadata": {},
   "outputs": [],
   "source": [
    "def height(feet,inch):\n",
    "    height_in_inches = 12*feet + inch  \n",
    "    return height_in_inches"
   ]
  },
  {
   "cell_type": "code",
   "execution_count": 9,
   "id": "02b602e2",
   "metadata": {},
   "outputs": [
    {
     "data": {
      "text/plain": [
       "72"
      ]
     },
     "execution_count": 9,
     "metadata": {},
     "output_type": "execute_result"
    }
   ],
   "source": [
    "height(6,0)  #Test on Seimone's height  feet=6, inch=0"
   ]
  },
  {
   "cell_type": "markdown",
   "id": "b8155ef1",
   "metadata": {},
   "source": [
    "__STEP #4__\n",
    "What do we have to do in the next cell to test our function on 6'6\" Michael Jordan?"
   ]
  },
  {
   "cell_type": "code",
   "execution_count": null,
   "id": "e2868579",
   "metadata": {},
   "outputs": [],
   "source": []
  },
  {
   "cell_type": "markdown",
   "id": "6ca75e65",
   "metadata": {},
   "source": [
    "__STEP #5__\n",
    "One of the fun parts of programming is that we can try to design a function to do almost anything we want. \n",
    "\n",
    "Define a function called points(fg,ft,tp) which computes the points scored by a basketball player given the input variables \n",
    "\n",
    "* fg= number of 2 point field goals made\n",
    "* ft=number of free throws made\n",
    "* tp=number of three point shots made\n",
    "    \n",
    "Use a variable called pts to store the answer."
   ]
  },
  {
   "cell_type": "markdown",
   "id": "4a80bde0",
   "metadata": {},
   "source": [
    "__STEP 6__\n",
    "In his highest scoring game, Michael Jordan made 21 two-point field goals, 21 free throws and 2 three point shots.\n",
    "Check that your function gives the correct value of 69 for his point total."
   ]
  },
  {
   "cell_type": "code",
   "execution_count": null,
   "id": "c822a978",
   "metadata": {},
   "outputs": [],
   "source": [
    "#Supply the missing values for points(fg,ft,tp)\n"
   ]
  },
  {
   "cell_type": "markdown",
   "id": "59b3547d",
   "metadata": {},
   "source": [
    ":::{admonition} For Discussion\n",
    "\n",
    "1.  What would you like your mentors to explain about today's lesson?\n",
    "\n",
    "2. What is one of your favorite sports memories?\n",
    "\n",
    ":::"
   ]
  },
  {
   "cell_type": "markdown",
   "id": "f3c40d7a",
   "metadata": {},
   "source": [
    "```{index} Covid-19\n",
    "```"
   ]
  },
  {
   "cell_type": "markdown",
   "id": "8b261d47",
   "metadata": {},
   "source": [
    "### How Bad is COVID-19?"
   ]
  },
  {
   "cell_type": "markdown",
   "id": "982dd982",
   "metadata": {},
   "source": [
    ":::{note}\n",
    "In this section we will analyze data imported directly from the Chicago Data Portal\n",
    "\n",
    "https://data.cityofchicago.org/\n",
    ":::"
   ]
  },
  {
   "cell_type": "markdown",
   "id": "750bce4b",
   "metadata": {},
   "source": [
    "__STEP 1__\n",
    "Let's read in up to 100,000 rows of COVID data for Chicago from the Chicago Data Portal."
   ]
  },
  {
   "cell_type": "code",
   "execution_count": 14,
   "id": "e04a37b8",
   "metadata": {},
   "outputs": [
    {
     "data": {
      "text/html": [
       "<div>\n",
       "<style scoped>\n",
       "    .dataframe tbody tr th:only-of-type {\n",
       "        vertical-align: middle;\n",
       "    }\n",
       "\n",
       "    .dataframe tbody tr th {\n",
       "        vertical-align: top;\n",
       "    }\n",
       "\n",
       "    .dataframe thead th {\n",
       "        text-align: right;\n",
       "    }\n",
       "</style>\n",
       "<table border=\"1\" class=\"dataframe\">\n",
       "  <thead>\n",
       "    <tr style=\"text-align: right;\">\n",
       "      <th></th>\n",
       "      <th>zip_code</th>\n",
       "      <th>week_number</th>\n",
       "      <th>week_start</th>\n",
       "      <th>week_end</th>\n",
       "      <th>cases_weekly</th>\n",
       "      <th>cases_cumulative</th>\n",
       "      <th>case_rate_weekly</th>\n",
       "      <th>case_rate_cumulative</th>\n",
       "      <th>tests_weekly</th>\n",
       "      <th>tests_cumulative</th>\n",
       "      <th>...</th>\n",
       "      <th>death_rate_weekly</th>\n",
       "      <th>death_rate_cumulative</th>\n",
       "      <th>population</th>\n",
       "      <th>row_id</th>\n",
       "      <th>zip_code_location</th>\n",
       "      <th>:@computed_region_rpca_8um6</th>\n",
       "      <th>:@computed_region_vrxf_vc4k</th>\n",
       "      <th>:@computed_region_6mkv_f3dw</th>\n",
       "      <th>:@computed_region_bdys_3d7i</th>\n",
       "      <th>:@computed_region_43wa_7qmu</th>\n",
       "    </tr>\n",
       "  </thead>\n",
       "  <tbody>\n",
       "    <tr>\n",
       "      <th>0</th>\n",
       "      <td>60601</td>\n",
       "      <td>17</td>\n",
       "      <td>2020-04-19T00:00:00.000</td>\n",
       "      <td>2020-04-25T00:00:00.000</td>\n",
       "      <td>7.0</td>\n",
       "      <td>45.0</td>\n",
       "      <td>47.7</td>\n",
       "      <td>306.6</td>\n",
       "      <td>35.0</td>\n",
       "      <td>198</td>\n",
       "      <td>...</td>\n",
       "      <td>6.8</td>\n",
       "      <td>13.6</td>\n",
       "      <td>14675</td>\n",
       "      <td>60601-2020-17</td>\n",
       "      <td>{'type': 'Point', 'coordinates': [-87.622844, ...</td>\n",
       "      <td>42.0</td>\n",
       "      <td>38.0</td>\n",
       "      <td>14309.0</td>\n",
       "      <td>580.0</td>\n",
       "      <td>36.0</td>\n",
       "    </tr>\n",
       "    <tr>\n",
       "      <th>1</th>\n",
       "      <td>60601</td>\n",
       "      <td>12</td>\n",
       "      <td>2021-03-21T00:00:00.000</td>\n",
       "      <td>2021-03-27T00:00:00.000</td>\n",
       "      <td>29.0</td>\n",
       "      <td>1003.0</td>\n",
       "      <td>197.6</td>\n",
       "      <td>6834.8</td>\n",
       "      <td>616.0</td>\n",
       "      <td>23059</td>\n",
       "      <td>...</td>\n",
       "      <td>0.0</td>\n",
       "      <td>75.0</td>\n",
       "      <td>14675</td>\n",
       "      <td>60601-2021-12</td>\n",
       "      <td>{'type': 'Point', 'coordinates': [-87.622844, ...</td>\n",
       "      <td>42.0</td>\n",
       "      <td>38.0</td>\n",
       "      <td>14309.0</td>\n",
       "      <td>580.0</td>\n",
       "      <td>36.0</td>\n",
       "    </tr>\n",
       "    <tr>\n",
       "      <th>2</th>\n",
       "      <td>60601</td>\n",
       "      <td>38</td>\n",
       "      <td>2020-09-13T00:00:00.000</td>\n",
       "      <td>2020-09-19T00:00:00.000</td>\n",
       "      <td>7.0</td>\n",
       "      <td>204.0</td>\n",
       "      <td>47.7</td>\n",
       "      <td>1390.1</td>\n",
       "      <td>325.0</td>\n",
       "      <td>5654</td>\n",
       "      <td>...</td>\n",
       "      <td>0.0</td>\n",
       "      <td>34.1</td>\n",
       "      <td>14675</td>\n",
       "      <td>60601-2020-38</td>\n",
       "      <td>{'type': 'Point', 'coordinates': [-87.622844, ...</td>\n",
       "      <td>42.0</td>\n",
       "      <td>38.0</td>\n",
       "      <td>14309.0</td>\n",
       "      <td>580.0</td>\n",
       "      <td>36.0</td>\n",
       "    </tr>\n",
       "    <tr>\n",
       "      <th>3</th>\n",
       "      <td>60601</td>\n",
       "      <td>43</td>\n",
       "      <td>2021-10-24T00:00:00.000</td>\n",
       "      <td>2021-10-30T00:00:00.000</td>\n",
       "      <td>22.0</td>\n",
       "      <td>1552.0</td>\n",
       "      <td>149.9</td>\n",
       "      <td>10575.8</td>\n",
       "      <td>1243.0</td>\n",
       "      <td>58296</td>\n",
       "      <td>...</td>\n",
       "      <td>0.0</td>\n",
       "      <td>81.8</td>\n",
       "      <td>14675</td>\n",
       "      <td>60601-2021-43</td>\n",
       "      <td>{'type': 'Point', 'coordinates': [-87.622844, ...</td>\n",
       "      <td>42.0</td>\n",
       "      <td>38.0</td>\n",
       "      <td>14309.0</td>\n",
       "      <td>580.0</td>\n",
       "      <td>36.0</td>\n",
       "    </tr>\n",
       "    <tr>\n",
       "      <th>4</th>\n",
       "      <td>60601</td>\n",
       "      <td>24</td>\n",
       "      <td>2020-06-07T00:00:00.000</td>\n",
       "      <td>2020-06-13T00:00:00.000</td>\n",
       "      <td>6.0</td>\n",
       "      <td>78.0</td>\n",
       "      <td>40.9</td>\n",
       "      <td>531.5</td>\n",
       "      <td>106.0</td>\n",
       "      <td>782</td>\n",
       "      <td>...</td>\n",
       "      <td>0.0</td>\n",
       "      <td>34.1</td>\n",
       "      <td>14675</td>\n",
       "      <td>60601-2020-24</td>\n",
       "      <td>{'type': 'Point', 'coordinates': [-87.622844, ...</td>\n",
       "      <td>42.0</td>\n",
       "      <td>38.0</td>\n",
       "      <td>14309.0</td>\n",
       "      <td>580.0</td>\n",
       "      <td>36.0</td>\n",
       "    </tr>\n",
       "    <tr>\n",
       "      <th>5</th>\n",
       "      <td>60601</td>\n",
       "      <td>26</td>\n",
       "      <td>2020-06-21T00:00:00.000</td>\n",
       "      <td>2020-06-27T00:00:00.000</td>\n",
       "      <td>4.0</td>\n",
       "      <td>88.0</td>\n",
       "      <td>27.3</td>\n",
       "      <td>599.7</td>\n",
       "      <td>175.0</td>\n",
       "      <td>1075</td>\n",
       "      <td>...</td>\n",
       "      <td>0.0</td>\n",
       "      <td>34.1</td>\n",
       "      <td>14675</td>\n",
       "      <td>60601-2020-26</td>\n",
       "      <td>{'type': 'Point', 'coordinates': [-87.622844, ...</td>\n",
       "      <td>42.0</td>\n",
       "      <td>38.0</td>\n",
       "      <td>14309.0</td>\n",
       "      <td>580.0</td>\n",
       "      <td>36.0</td>\n",
       "    </tr>\n",
       "    <tr>\n",
       "      <th>6</th>\n",
       "      <td>60601</td>\n",
       "      <td>28</td>\n",
       "      <td>2020-07-05T00:00:00.000</td>\n",
       "      <td>2020-07-11T00:00:00.000</td>\n",
       "      <td>4.0</td>\n",
       "      <td>96.0</td>\n",
       "      <td>27.3</td>\n",
       "      <td>654.2</td>\n",
       "      <td>202.0</td>\n",
       "      <td>1439</td>\n",
       "      <td>...</td>\n",
       "      <td>0.0</td>\n",
       "      <td>34.1</td>\n",
       "      <td>14675</td>\n",
       "      <td>60601-2020-28</td>\n",
       "      <td>{'type': 'Point', 'coordinates': [-87.622844, ...</td>\n",
       "      <td>42.0</td>\n",
       "      <td>38.0</td>\n",
       "      <td>14309.0</td>\n",
       "      <td>580.0</td>\n",
       "      <td>36.0</td>\n",
       "    </tr>\n",
       "    <tr>\n",
       "      <th>7</th>\n",
       "      <td>60601</td>\n",
       "      <td>39</td>\n",
       "      <td>2020-09-20T00:00:00.000</td>\n",
       "      <td>2020-09-26T00:00:00.000</td>\n",
       "      <td>9.0</td>\n",
       "      <td>213.0</td>\n",
       "      <td>61.3</td>\n",
       "      <td>1451.4</td>\n",
       "      <td>390.0</td>\n",
       "      <td>6044</td>\n",
       "      <td>...</td>\n",
       "      <td>6.8</td>\n",
       "      <td>40.9</td>\n",
       "      <td>14675</td>\n",
       "      <td>60601-2020-39</td>\n",
       "      <td>{'type': 'Point', 'coordinates': [-87.622844, ...</td>\n",
       "      <td>42.0</td>\n",
       "      <td>38.0</td>\n",
       "      <td>14309.0</td>\n",
       "      <td>580.0</td>\n",
       "      <td>36.0</td>\n",
       "    </tr>\n",
       "    <tr>\n",
       "      <th>8</th>\n",
       "      <td>60601</td>\n",
       "      <td>40</td>\n",
       "      <td>2020-09-27T00:00:00.000</td>\n",
       "      <td>2020-10-03T00:00:00.000</td>\n",
       "      <td>5.0</td>\n",
       "      <td>218.0</td>\n",
       "      <td>34.1</td>\n",
       "      <td>1485.5</td>\n",
       "      <td>393.0</td>\n",
       "      <td>6437</td>\n",
       "      <td>...</td>\n",
       "      <td>0.0</td>\n",
       "      <td>40.9</td>\n",
       "      <td>14675</td>\n",
       "      <td>60601-2020-40</td>\n",
       "      <td>{'type': 'Point', 'coordinates': [-87.622844, ...</td>\n",
       "      <td>42.0</td>\n",
       "      <td>38.0</td>\n",
       "      <td>14309.0</td>\n",
       "      <td>580.0</td>\n",
       "      <td>36.0</td>\n",
       "    </tr>\n",
       "    <tr>\n",
       "      <th>9</th>\n",
       "      <td>60601</td>\n",
       "      <td>41</td>\n",
       "      <td>2020-10-04T00:00:00.000</td>\n",
       "      <td>2020-10-10T00:00:00.000</td>\n",
       "      <td>7.0</td>\n",
       "      <td>225.0</td>\n",
       "      <td>47.7</td>\n",
       "      <td>1533.2</td>\n",
       "      <td>433.0</td>\n",
       "      <td>6870</td>\n",
       "      <td>...</td>\n",
       "      <td>0.0</td>\n",
       "      <td>40.9</td>\n",
       "      <td>14675</td>\n",
       "      <td>60601-2020-41</td>\n",
       "      <td>{'type': 'Point', 'coordinates': [-87.622844, ...</td>\n",
       "      <td>42.0</td>\n",
       "      <td>38.0</td>\n",
       "      <td>14309.0</td>\n",
       "      <td>580.0</td>\n",
       "      <td>36.0</td>\n",
       "    </tr>\n",
       "  </tbody>\n",
       "</table>\n",
       "<p>10 rows × 26 columns</p>\n",
       "</div>"
      ],
      "text/plain": [
       "  zip_code  week_number               week_start                 week_end  \\\n",
       "0    60601           17  2020-04-19T00:00:00.000  2020-04-25T00:00:00.000   \n",
       "1    60601           12  2021-03-21T00:00:00.000  2021-03-27T00:00:00.000   \n",
       "2    60601           38  2020-09-13T00:00:00.000  2020-09-19T00:00:00.000   \n",
       "3    60601           43  2021-10-24T00:00:00.000  2021-10-30T00:00:00.000   \n",
       "4    60601           24  2020-06-07T00:00:00.000  2020-06-13T00:00:00.000   \n",
       "5    60601           26  2020-06-21T00:00:00.000  2020-06-27T00:00:00.000   \n",
       "6    60601           28  2020-07-05T00:00:00.000  2020-07-11T00:00:00.000   \n",
       "7    60601           39  2020-09-20T00:00:00.000  2020-09-26T00:00:00.000   \n",
       "8    60601           40  2020-09-27T00:00:00.000  2020-10-03T00:00:00.000   \n",
       "9    60601           41  2020-10-04T00:00:00.000  2020-10-10T00:00:00.000   \n",
       "\n",
       "   cases_weekly  cases_cumulative  case_rate_weekly  case_rate_cumulative  \\\n",
       "0           7.0              45.0              47.7                 306.6   \n",
       "1          29.0            1003.0             197.6                6834.8   \n",
       "2           7.0             204.0              47.7                1390.1   \n",
       "3          22.0            1552.0             149.9               10575.8   \n",
       "4           6.0              78.0              40.9                 531.5   \n",
       "5           4.0              88.0              27.3                 599.7   \n",
       "6           4.0              96.0              27.3                 654.2   \n",
       "7           9.0             213.0              61.3                1451.4   \n",
       "8           5.0             218.0              34.1                1485.5   \n",
       "9           7.0             225.0              47.7                1533.2   \n",
       "\n",
       "   tests_weekly  tests_cumulative  ...  death_rate_weekly  \\\n",
       "0          35.0               198  ...                6.8   \n",
       "1         616.0             23059  ...                0.0   \n",
       "2         325.0              5654  ...                0.0   \n",
       "3        1243.0             58296  ...                0.0   \n",
       "4         106.0               782  ...                0.0   \n",
       "5         175.0              1075  ...                0.0   \n",
       "6         202.0              1439  ...                0.0   \n",
       "7         390.0              6044  ...                6.8   \n",
       "8         393.0              6437  ...                0.0   \n",
       "9         433.0              6870  ...                0.0   \n",
       "\n",
       "   death_rate_cumulative  population         row_id  \\\n",
       "0                   13.6       14675  60601-2020-17   \n",
       "1                   75.0       14675  60601-2021-12   \n",
       "2                   34.1       14675  60601-2020-38   \n",
       "3                   81.8       14675  60601-2021-43   \n",
       "4                   34.1       14675  60601-2020-24   \n",
       "5                   34.1       14675  60601-2020-26   \n",
       "6                   34.1       14675  60601-2020-28   \n",
       "7                   40.9       14675  60601-2020-39   \n",
       "8                   40.9       14675  60601-2020-40   \n",
       "9                   40.9       14675  60601-2020-41   \n",
       "\n",
       "                                   zip_code_location  \\\n",
       "0  {'type': 'Point', 'coordinates': [-87.622844, ...   \n",
       "1  {'type': 'Point', 'coordinates': [-87.622844, ...   \n",
       "2  {'type': 'Point', 'coordinates': [-87.622844, ...   \n",
       "3  {'type': 'Point', 'coordinates': [-87.622844, ...   \n",
       "4  {'type': 'Point', 'coordinates': [-87.622844, ...   \n",
       "5  {'type': 'Point', 'coordinates': [-87.622844, ...   \n",
       "6  {'type': 'Point', 'coordinates': [-87.622844, ...   \n",
       "7  {'type': 'Point', 'coordinates': [-87.622844, ...   \n",
       "8  {'type': 'Point', 'coordinates': [-87.622844, ...   \n",
       "9  {'type': 'Point', 'coordinates': [-87.622844, ...   \n",
       "\n",
       "   :@computed_region_rpca_8um6  :@computed_region_vrxf_vc4k  \\\n",
       "0                         42.0                         38.0   \n",
       "1                         42.0                         38.0   \n",
       "2                         42.0                         38.0   \n",
       "3                         42.0                         38.0   \n",
       "4                         42.0                         38.0   \n",
       "5                         42.0                         38.0   \n",
       "6                         42.0                         38.0   \n",
       "7                         42.0                         38.0   \n",
       "8                         42.0                         38.0   \n",
       "9                         42.0                         38.0   \n",
       "\n",
       "   :@computed_region_6mkv_f3dw  :@computed_region_bdys_3d7i  \\\n",
       "0                      14309.0                        580.0   \n",
       "1                      14309.0                        580.0   \n",
       "2                      14309.0                        580.0   \n",
       "3                      14309.0                        580.0   \n",
       "4                      14309.0                        580.0   \n",
       "5                      14309.0                        580.0   \n",
       "6                      14309.0                        580.0   \n",
       "7                      14309.0                        580.0   \n",
       "8                      14309.0                        580.0   \n",
       "9                      14309.0                        580.0   \n",
       "\n",
       "  :@computed_region_43wa_7qmu  \n",
       "0                        36.0  \n",
       "1                        36.0  \n",
       "2                        36.0  \n",
       "3                        36.0  \n",
       "4                        36.0  \n",
       "5                        36.0  \n",
       "6                        36.0  \n",
       "7                        36.0  \n",
       "8                        36.0  \n",
       "9                        36.0  \n",
       "\n",
       "[10 rows x 26 columns]"
      ]
     },
     "execution_count": 14,
     "metadata": {},
     "output_type": "execute_result"
    }
   ],
   "source": [
    "import pandas as pd\n",
    "import numpy as np\n",
    "rawCOVID = pd.read_json('https://data.cityofchicago.org/resource/yhhz-zm2v.json?$limit=100000') #Import data directly from data portal\n",
    "rawCOVID.head(10)"
   ]
  },
  {
   "cell_type": "markdown",
   "id": "409fce9f",
   "metadata": {},
   "source": [
    "Let's check the number of rows and columns."
   ]
  },
  {
   "cell_type": "code",
   "execution_count": 15,
   "id": "f1409c64",
   "metadata": {},
   "outputs": [
    {
     "data": {
      "text/plain": [
       "(10560, 26)"
      ]
     },
     "execution_count": 15,
     "metadata": {},
     "output_type": "execute_result"
    }
   ],
   "source": [
    "rawCOVID.shape"
   ]
  },
  {
   "cell_type": "markdown",
   "id": "b224e1e7",
   "metadata": {},
   "source": [
    "We'll list the 26 column names"
   ]
  },
  {
   "cell_type": "code",
   "execution_count": 16,
   "id": "1b289ff0",
   "metadata": {},
   "outputs": [
    {
     "data": {
      "text/plain": [
       "['zip_code',\n",
       " 'week_number',\n",
       " 'week_start',\n",
       " 'week_end',\n",
       " 'cases_weekly',\n",
       " 'cases_cumulative',\n",
       " 'case_rate_weekly',\n",
       " 'case_rate_cumulative',\n",
       " 'tests_weekly',\n",
       " 'tests_cumulative',\n",
       " 'test_rate_weekly',\n",
       " 'test_rate_cumulative',\n",
       " 'percent_tested_positive_weekly',\n",
       " 'percent_tested_positive_cumulative',\n",
       " 'deaths_weekly',\n",
       " 'deaths_cumulative',\n",
       " 'death_rate_weekly',\n",
       " 'death_rate_cumulative',\n",
       " 'population',\n",
       " 'row_id',\n",
       " 'zip_code_location',\n",
       " ':@computed_region_rpca_8um6',\n",
       " ':@computed_region_vrxf_vc4k',\n",
       " ':@computed_region_6mkv_f3dw',\n",
       " ':@computed_region_bdys_3d7i',\n",
       " ':@computed_region_43wa_7qmu']"
      ]
     },
     "execution_count": 16,
     "metadata": {},
     "output_type": "execute_result"
    }
   ],
   "source": [
    "list(rawCOVID.columns)"
   ]
  },
  {
   "cell_type": "markdown",
   "id": "cee7840b",
   "metadata": {},
   "source": [
    "__Q1__ Does case matter when referring to a column name?\n",
    "\n",
    "__STEP TWO__\n",
    "Let's streamline the data to just 4 columns, drop rows with missing data,  simplify the column names, and then display the first 20 rows."
   ]
  },
  {
   "cell_type": "code",
   "execution_count": 17,
   "id": "111c25d8",
   "metadata": {},
   "outputs": [
    {
     "data": {
      "text/html": [
       "<div>\n",
       "<style scoped>\n",
       "    .dataframe tbody tr th:only-of-type {\n",
       "        vertical-align: middle;\n",
       "    }\n",
       "\n",
       "    .dataframe tbody tr th {\n",
       "        vertical-align: top;\n",
       "    }\n",
       "\n",
       "    .dataframe thead th {\n",
       "        text-align: right;\n",
       "    }\n",
       "</style>\n",
       "<table border=\"1\" class=\"dataframe\">\n",
       "  <thead>\n",
       "    <tr style=\"text-align: right;\">\n",
       "      <th></th>\n",
       "      <th>deaths</th>\n",
       "      <th>population</th>\n",
       "      <th>tests</th>\n",
       "      <th>zip</th>\n",
       "    </tr>\n",
       "  </thead>\n",
       "  <tbody>\n",
       "    <tr>\n",
       "      <th>0</th>\n",
       "      <td>2</td>\n",
       "      <td>14675</td>\n",
       "      <td>198</td>\n",
       "      <td>60601</td>\n",
       "    </tr>\n",
       "    <tr>\n",
       "      <th>1</th>\n",
       "      <td>11</td>\n",
       "      <td>14675</td>\n",
       "      <td>23059</td>\n",
       "      <td>60601</td>\n",
       "    </tr>\n",
       "    <tr>\n",
       "      <th>2</th>\n",
       "      <td>5</td>\n",
       "      <td>14675</td>\n",
       "      <td>5654</td>\n",
       "      <td>60601</td>\n",
       "    </tr>\n",
       "    <tr>\n",
       "      <th>3</th>\n",
       "      <td>12</td>\n",
       "      <td>14675</td>\n",
       "      <td>58296</td>\n",
       "      <td>60601</td>\n",
       "    </tr>\n",
       "    <tr>\n",
       "      <th>4</th>\n",
       "      <td>5</td>\n",
       "      <td>14675</td>\n",
       "      <td>782</td>\n",
       "      <td>60601</td>\n",
       "    </tr>\n",
       "    <tr>\n",
       "      <th>5</th>\n",
       "      <td>5</td>\n",
       "      <td>14675</td>\n",
       "      <td>1075</td>\n",
       "      <td>60601</td>\n",
       "    </tr>\n",
       "    <tr>\n",
       "      <th>6</th>\n",
       "      <td>5</td>\n",
       "      <td>14675</td>\n",
       "      <td>1439</td>\n",
       "      <td>60601</td>\n",
       "    </tr>\n",
       "    <tr>\n",
       "      <th>7</th>\n",
       "      <td>6</td>\n",
       "      <td>14675</td>\n",
       "      <td>6044</td>\n",
       "      <td>60601</td>\n",
       "    </tr>\n",
       "    <tr>\n",
       "      <th>8</th>\n",
       "      <td>6</td>\n",
       "      <td>14675</td>\n",
       "      <td>6437</td>\n",
       "      <td>60601</td>\n",
       "    </tr>\n",
       "    <tr>\n",
       "      <th>9</th>\n",
       "      <td>6</td>\n",
       "      <td>14675</td>\n",
       "      <td>6870</td>\n",
       "      <td>60601</td>\n",
       "    </tr>\n",
       "    <tr>\n",
       "      <th>10</th>\n",
       "      <td>7</td>\n",
       "      <td>14675</td>\n",
       "      <td>7642</td>\n",
       "      <td>60601</td>\n",
       "    </tr>\n",
       "    <tr>\n",
       "      <th>11</th>\n",
       "      <td>7</td>\n",
       "      <td>14675</td>\n",
       "      <td>8222</td>\n",
       "      <td>60601</td>\n",
       "    </tr>\n",
       "    <tr>\n",
       "      <th>12</th>\n",
       "      <td>7</td>\n",
       "      <td>14675</td>\n",
       "      <td>8798</td>\n",
       "      <td>60601</td>\n",
       "    </tr>\n",
       "    <tr>\n",
       "      <th>13</th>\n",
       "      <td>7</td>\n",
       "      <td>14675</td>\n",
       "      <td>9377</td>\n",
       "      <td>60601</td>\n",
       "    </tr>\n",
       "    <tr>\n",
       "      <th>14</th>\n",
       "      <td>8</td>\n",
       "      <td>14675</td>\n",
       "      <td>10125</td>\n",
       "      <td>60601</td>\n",
       "    </tr>\n",
       "    <tr>\n",
       "      <th>15</th>\n",
       "      <td>8</td>\n",
       "      <td>14675</td>\n",
       "      <td>11129</td>\n",
       "      <td>60601</td>\n",
       "    </tr>\n",
       "    <tr>\n",
       "      <th>16</th>\n",
       "      <td>8</td>\n",
       "      <td>14675</td>\n",
       "      <td>11710</td>\n",
       "      <td>60601</td>\n",
       "    </tr>\n",
       "    <tr>\n",
       "      <th>17</th>\n",
       "      <td>9</td>\n",
       "      <td>14675</td>\n",
       "      <td>12417</td>\n",
       "      <td>60601</td>\n",
       "    </tr>\n",
       "    <tr>\n",
       "      <th>18</th>\n",
       "      <td>9</td>\n",
       "      <td>14675</td>\n",
       "      <td>13092</td>\n",
       "      <td>60601</td>\n",
       "    </tr>\n",
       "    <tr>\n",
       "      <th>19</th>\n",
       "      <td>10</td>\n",
       "      <td>14675</td>\n",
       "      <td>13973</td>\n",
       "      <td>60601</td>\n",
       "    </tr>\n",
       "  </tbody>\n",
       "</table>\n",
       "</div>"
      ],
      "text/plain": [
       "    deaths  population  tests    zip\n",
       "0        2       14675    198  60601\n",
       "1       11       14675  23059  60601\n",
       "2        5       14675   5654  60601\n",
       "3       12       14675  58296  60601\n",
       "4        5       14675    782  60601\n",
       "5        5       14675   1075  60601\n",
       "6        5       14675   1439  60601\n",
       "7        6       14675   6044  60601\n",
       "8        6       14675   6437  60601\n",
       "9        6       14675   6870  60601\n",
       "10       7       14675   7642  60601\n",
       "11       7       14675   8222  60601\n",
       "12       7       14675   8798  60601\n",
       "13       7       14675   9377  60601\n",
       "14       8       14675  10125  60601\n",
       "15       8       14675  11129  60601\n",
       "16       8       14675  11710  60601\n",
       "17       9       14675  12417  60601\n",
       "18       9       14675  13092  60601\n",
       "19      10       14675  13973  60601"
      ]
     },
     "execution_count": 17,
     "metadata": {},
     "output_type": "execute_result"
    }
   ],
   "source": [
    "COVID=rawCOVID[['deaths_cumulative', \"population\",  'tests_cumulative','zip_code']]\n",
    "COVID.dropna  #drop rows with missing data\n",
    "COVID.columns=[\"deaths\",\"population\",\"tests\",\"zip\"] #simplify the column names\n",
    "COVID.head(20)"
   ]
  },
  {
   "cell_type": "markdown",
   "id": "f6fa66c6",
   "metadata": {},
   "source": [
    "__Q2__ Why is there different information for the same zip code?\n",
    "\n",
    "__STEP THREE__\n",
    "\n",
    "Let's check how many rows have data in each column</h3>"
   ]
  },
  {
   "cell_type": "code",
   "execution_count": 18,
   "id": "58665fff",
   "metadata": {},
   "outputs": [
    {
     "data": {
      "text/plain": [
       "deaths        10560\n",
       "population    10560\n",
       "tests         10560\n",
       "zip           10560\n",
       "dtype: int64"
      ]
     },
     "execution_count": 18,
     "metadata": {},
     "output_type": "execute_result"
    }
   ],
   "source": [
    "COVID.count()"
   ]
  },
  {
   "cell_type": "markdown",
   "id": "64cb59b3",
   "metadata": {},
   "source": [
    "__Q3__  How many data rows are there in each column?\n",
    "\n",
    "__STEP FOUR__\n",
    "\n",
    "Let's find out how many times each zip code appears."
   ]
  },
  {
   "cell_type": "code",
   "execution_count": 20,
   "id": "d7145418",
   "metadata": {},
   "outputs": [
    {
     "data": {
      "text/plain": [
       "60601      176\n",
       "60602      176\n",
       "60646      176\n",
       "60647      176\n",
       "60649      176\n",
       "60651      176\n",
       "60652      176\n",
       "60653      176\n",
       "60654      176\n",
       "60655      176\n",
       "60656      176\n",
       "60657      176\n",
       "60661      176\n",
       "60614      176\n",
       "60615      176\n",
       "60617      176\n",
       "60618      176\n",
       "60827      176\n",
       "60707      176\n",
       "60666      176\n",
       "60660      176\n",
       "60643      176\n",
       "60633      176\n",
       "60624      176\n",
       "60640      176\n",
       "60625      176\n",
       "60630      176\n",
       "60659      176\n",
       "60628      176\n",
       "60645      176\n",
       "60644      176\n",
       "60610      176\n",
       "60620      176\n",
       "60603      176\n",
       "60607      176\n",
       "60608      176\n",
       "60606      176\n",
       "60604      176\n",
       "60605      176\n",
       "60611      176\n",
       "60612      176\n",
       "60609      176\n",
       "60613      176\n",
       "60616      176\n",
       "60619      176\n",
       "60621      176\n",
       "60642      176\n",
       "60622      176\n",
       "60623      176\n",
       "60626      176\n",
       "60629      176\n",
       "60631      176\n",
       "60632      176\n",
       "60636      176\n",
       "60637      176\n",
       "60634      176\n",
       "60638      176\n",
       "60639      176\n",
       "60641      176\n",
       "Unknown    176\n",
       "Name: zip, dtype: int64"
      ]
     },
     "execution_count": 20,
     "metadata": {},
     "output_type": "execute_result"
    }
   ],
   "source": [
    "COVID[\"zip\"].value_counts()"
   ]
  },
  {
   "cell_type": "markdown",
   "id": "6f86b4d6",
   "metadata": {},
   "source": [
    "__STEP FIVE__\n",
    "\n",
    "Let's make a copy of the COVID dataframe and display the first 5 rows."
   ]
  },
  {
   "cell_type": "code",
   "execution_count": 21,
   "id": "8ef563c0",
   "metadata": {},
   "outputs": [
    {
     "data": {
      "text/html": [
       "<div>\n",
       "<style scoped>\n",
       "    .dataframe tbody tr th:only-of-type {\n",
       "        vertical-align: middle;\n",
       "    }\n",
       "\n",
       "    .dataframe tbody tr th {\n",
       "        vertical-align: top;\n",
       "    }\n",
       "\n",
       "    .dataframe thead th {\n",
       "        text-align: right;\n",
       "    }\n",
       "</style>\n",
       "<table border=\"1\" class=\"dataframe\">\n",
       "  <thead>\n",
       "    <tr style=\"text-align: right;\">\n",
       "      <th></th>\n",
       "      <th>deaths</th>\n",
       "      <th>population</th>\n",
       "      <th>tests</th>\n",
       "      <th>zip</th>\n",
       "    </tr>\n",
       "  </thead>\n",
       "  <tbody>\n",
       "    <tr>\n",
       "      <th>0</th>\n",
       "      <td>2</td>\n",
       "      <td>14675</td>\n",
       "      <td>198</td>\n",
       "      <td>60601</td>\n",
       "    </tr>\n",
       "    <tr>\n",
       "      <th>1</th>\n",
       "      <td>11</td>\n",
       "      <td>14675</td>\n",
       "      <td>23059</td>\n",
       "      <td>60601</td>\n",
       "    </tr>\n",
       "    <tr>\n",
       "      <th>2</th>\n",
       "      <td>5</td>\n",
       "      <td>14675</td>\n",
       "      <td>5654</td>\n",
       "      <td>60601</td>\n",
       "    </tr>\n",
       "    <tr>\n",
       "      <th>3</th>\n",
       "      <td>12</td>\n",
       "      <td>14675</td>\n",
       "      <td>58296</td>\n",
       "      <td>60601</td>\n",
       "    </tr>\n",
       "    <tr>\n",
       "      <th>4</th>\n",
       "      <td>5</td>\n",
       "      <td>14675</td>\n",
       "      <td>782</td>\n",
       "      <td>60601</td>\n",
       "    </tr>\n",
       "  </tbody>\n",
       "</table>\n",
       "</div>"
      ],
      "text/plain": [
       "   deaths  population  tests    zip\n",
       "0       2       14675    198  60601\n",
       "1      11       14675  23059  60601\n",
       "2       5       14675   5654  60601\n",
       "3      12       14675  58296  60601\n",
       "4       5       14675    782  60601"
      ]
     },
     "execution_count": 21,
     "metadata": {},
     "output_type": "execute_result"
    }
   ],
   "source": [
    "df1=COVID\n",
    "df1.head(5)"
   ]
  },
  {
   "cell_type": "markdown",
   "id": "3e535252",
   "metadata": {},
   "source": [
    "__STEP SIX__\n",
    "\n",
    "Filter data by a specific zip code, for example, '60611'"
   ]
  },
  {
   "cell_type": "code",
   "execution_count": 22,
   "id": "4d202f14",
   "metadata": {},
   "outputs": [
    {
     "data": {
      "text/html": [
       "<div>\n",
       "<style scoped>\n",
       "    .dataframe tbody tr th:only-of-type {\n",
       "        vertical-align: middle;\n",
       "    }\n",
       "\n",
       "    .dataframe tbody tr th {\n",
       "        vertical-align: top;\n",
       "    }\n",
       "\n",
       "    .dataframe thead th {\n",
       "        text-align: right;\n",
       "    }\n",
       "</style>\n",
       "<table border=\"1\" class=\"dataframe\">\n",
       "  <thead>\n",
       "    <tr style=\"text-align: right;\">\n",
       "      <th></th>\n",
       "      <th>deaths</th>\n",
       "      <th>population</th>\n",
       "      <th>tests</th>\n",
       "      <th>zip</th>\n",
       "    </tr>\n",
       "  </thead>\n",
       "  <tbody>\n",
       "    <tr>\n",
       "      <th>214</th>\n",
       "      <td>3</td>\n",
       "      <td>32426</td>\n",
       "      <td>10229</td>\n",
       "      <td>60611</td>\n",
       "    </tr>\n",
       "    <tr>\n",
       "      <th>215</th>\n",
       "      <td>4</td>\n",
       "      <td>32426</td>\n",
       "      <td>11000</td>\n",
       "      <td>60611</td>\n",
       "    </tr>\n",
       "    <tr>\n",
       "      <th>216</th>\n",
       "      <td>4</td>\n",
       "      <td>32426</td>\n",
       "      <td>11777</td>\n",
       "      <td>60611</td>\n",
       "    </tr>\n",
       "    <tr>\n",
       "      <th>218</th>\n",
       "      <td>14</td>\n",
       "      <td>32426</td>\n",
       "      <td>45055</td>\n",
       "      <td>60611</td>\n",
       "    </tr>\n",
       "    <tr>\n",
       "      <th>229</th>\n",
       "      <td>14</td>\n",
       "      <td>32426</td>\n",
       "      <td>41668</td>\n",
       "      <td>60611</td>\n",
       "    </tr>\n",
       "  </tbody>\n",
       "</table>\n",
       "</div>"
      ],
      "text/plain": [
       "     deaths  population  tests    zip\n",
       "214       3       32426  10229  60611\n",
       "215       4       32426  11000  60611\n",
       "216       4       32426  11777  60611\n",
       "218      14       32426  45055  60611\n",
       "229      14       32426  41668  60611"
      ]
     },
     "execution_count": 22,
     "metadata": {},
     "output_type": "execute_result"
    }
   ],
   "source": [
    "df2=df1[df1['zip']=='60611']\n",
    "df2.head()"
   ]
  },
  {
   "cell_type": "code",
   "execution_count": 23,
   "id": "0fc0deff",
   "metadata": {},
   "outputs": [
    {
     "data": {
      "text/plain": [
       "60611    176\n",
       "Name: zip, dtype: int64"
      ]
     },
     "execution_count": 23,
     "metadata": {},
     "output_type": "execute_result"
    }
   ],
   "source": [
    "df2[\"zip\"].value_counts()"
   ]
  },
  {
   "cell_type": "markdown",
   "id": "559a87b5",
   "metadata": {},
   "source": [
    "__STEP SEVEN__\n",
    "\n",
    "Let's find the largest value in the 'tests' column for zip '60611'."
   ]
  },
  {
   "cell_type": "code",
   "execution_count": 24,
   "id": "fde40a4e",
   "metadata": {},
   "outputs": [
    {
     "data": {
      "text/plain": [
       "413972"
      ]
     },
     "execution_count": 24,
     "metadata": {},
     "output_type": "execute_result"
    }
   ],
   "source": [
    "df2 = df1[df1[\"zip\"]=='60637'] #get just rows with zip 60611\n",
    "numtested=df2[\"tests\"].max() #get the largest number for tests\n",
    "numtested"
   ]
  },
  {
   "cell_type": "markdown",
   "id": "bf55ea86",
   "metadata": {},
   "source": [
    "__Q4__\n",
    "How can we find how many deaths due to COVID have occurred in zip '60623'?  (Create a new dataframe for 60623 called temp)"
   ]
  },
  {
   "cell_type": "code",
   "execution_count": 25,
   "id": "35a95df5",
   "metadata": {
    "tags": [
     "hide-input"
    ]
   },
   "outputs": [
    {
     "data": {
      "text/plain": [
       "334"
      ]
     },
     "execution_count": 25,
     "metadata": {},
     "output_type": "execute_result"
    }
   ],
   "source": [
    "df3 = COVID[df1[\"zip\"]=='60623'] #get just rows with zip 60611\n",
    "numdeaths=df3[\"deaths\"].max() #get the largest number for tests\n",
    "numdeaths"
   ]
  },
  {
   "cell_type": "markdown",
   "id": "eb2e1976",
   "metadata": {},
   "source": [
    "__Q5__ How can we get the population in 60623?"
   ]
  },
  {
   "cell_type": "code",
   "execution_count": null,
   "id": "6e286b10",
   "metadata": {
    "tags": [
     "hide-input"
    ]
   },
   "outputs": [],
   "source": [
    "df3 = COVID[df1[\"zip\"]=='60623'] #get just rows with zip 60611\n",
    "pop=df3[\"population\"].max() #get the largest number for tests\n",
    "pop\n"
   ]
  },
  {
   "cell_type": "code",
   "execution_count": 26,
   "id": "3ca60212",
   "metadata": {},
   "outputs": [
    {
     "data": {
      "text/plain": [
       "85979"
      ]
     },
     "execution_count": 26,
     "metadata": {},
     "output_type": "execute_result"
    }
   ],
   "source": [
    "df3 = COVID[df1[\"zip\"]=='60623'] #get just rows with zip 60611\n",
    "pop=df3[\"population\"].max() #get the largest number for tests\n",
    "pop\n"
   ]
  },
  {
   "cell_type": "markdown",
   "id": "d2c61ab9",
   "metadata": {},
   "source": [
    "__STEP EIGHT__\n",
    "We can instruct the computer to give us the number COVID tests for any Chicago zipcode. </h3>"
   ]
  },
  {
   "cell_type": "code",
   "execution_count": 27,
   "id": "fd06597e",
   "metadata": {},
   "outputs": [],
   "source": [
    "def MyCOVID(COVID,zip):\n",
    "    alreadychecked=0  #eliminate duplication of information\n",
    "    for z in COVID.index:  #go through all the index values\n",
    "        if COVID.loc[z,\"zip\"]==zip and alreadychecked==0:    #found the zip we requested (first-time)\n",
    "            alreadychecked=1  #we will only do this once\n",
    "            df=COVID[COVID[\"zip\"]==zip]\n",
    "            numtested=df[\"tests\"].max()\n",
    "            print(\"Zip code: \", zip)  #print zipcode\n",
    "            print(\"number tested is \", numtested) #print number tested\n",
    "    return (\"Enter a different zip code if you wish.\")"
   ]
  },
  {
   "cell_type": "markdown",
   "id": "0dff1c91",
   "metadata": {},
   "source": [
    "__Q6__ Test out the function on zip code '60610'"
   ]
  },
  {
   "cell_type": "code",
   "execution_count": 28,
   "id": "7734ea28",
   "metadata": {
    "tags": [
     "hide-input"
    ]
   },
   "outputs": [
    {
     "name": "stdout",
     "output_type": "stream",
     "text": [
      "Zip code:  60637\n",
      "number tested is  413972\n"
     ]
    },
    {
     "data": {
      "text/plain": [
       "'Enter a different zip code if you wish.'"
      ]
     },
     "execution_count": 28,
     "metadata": {},
     "output_type": "execute_result"
    }
   ],
   "source": [
    "MyCOVID(COVID,'60637')"
   ]
  },
  {
   "cell_type": "markdown",
   "id": "4f1481ed",
   "metadata": {},
   "source": [
    "#### Exercises"
   ]
  },
  {
   "cell_type": "markdown",
   "id": "ad7e7b9b",
   "metadata": {},
   "source": [
    ":::{admonition} Exercises\n",
    "1. Define a function myCOVID2() which outputs for each given zip code the population, number tested, and number of deaths. \n",
    "\n",
    "2.  Use your function myCOVID2() to determine the COVID data for each of the following Chicago landmarks:\n",
    "\n",
    "a) North Park University (zip  '60625')\n",
    "\n",
    "b) Wheaton in Chicago (zip='60637')\n",
    "\n",
    "3. Why is COVID disproportionately impacting black and brown communities?\n",
    "\n",
    ":::"
   ]
  },
  {
   "cell_type": "markdown",
   "id": "173e2c1f",
   "metadata": {},
   "source": [
    "```{index} map\n",
    "```\n",
    "\n"
   ]
  },
  {
   "cell_type": "markdown",
   "id": "2c870b3e",
   "metadata": {},
   "source": [
    "### Mapping Famous Chicagoans"
   ]
  },
  {
   "cell_type": "markdown",
   "id": "3271c6cc",
   "metadata": {},
   "source": [
    ":::{note}\n",
    "In the section we will learn how to use Python to put information on a map of a geographical location.\n",
    ":::"
   ]
  },
  {
   "cell_type": "markdown",
   "id": "62281a10",
   "metadata": {},
   "source": [
    "__Step One__\n",
    "Let's' begin by importing data of some famous people born in Chicago."
   ]
  },
  {
   "cell_type": "code",
   "execution_count": 3,
   "id": "bfd0e1d6",
   "metadata": {},
   "outputs": [
    {
     "data": {
      "text/html": [
       "<div>\n",
       "<style scoped>\n",
       "    .dataframe tbody tr th:only-of-type {\n",
       "        vertical-align: middle;\n",
       "    }\n",
       "\n",
       "    .dataframe tbody tr th {\n",
       "        vertical-align: top;\n",
       "    }\n",
       "\n",
       "    .dataframe thead th {\n",
       "        text-align: right;\n",
       "    }\n",
       "</style>\n",
       "<table border=\"1\" class=\"dataframe\">\n",
       "  <thead>\n",
       "    <tr style=\"text-align: right;\">\n",
       "      <th></th>\n",
       "      <th>Name</th>\n",
       "      <th>Age</th>\n",
       "      <th>Alive</th>\n",
       "      <th>Noted For</th>\n",
       "      <th>Place of Birth</th>\n",
       "      <th>Zip</th>\n",
       "      <th>Lat</th>\n",
       "      <th>Lon</th>\n",
       "      <th>fun fact</th>\n",
       "    </tr>\n",
       "  </thead>\n",
       "  <tbody>\n",
       "    <tr>\n",
       "      <th>0</th>\n",
       "      <td>Michelle Obama</td>\n",
       "      <td>56</td>\n",
       "      <td>yes</td>\n",
       "      <td>First Lady</td>\n",
       "      <td>Provident Hospital</td>\n",
       "      <td>60605</td>\n",
       "      <td>41.802665</td>\n",
       "      <td>-87.613657</td>\n",
       "      <td>father worked at city water plant</td>\n",
       "    </tr>\n",
       "    <tr>\n",
       "      <th>1</th>\n",
       "      <td>Robin Williams</td>\n",
       "      <td>63</td>\n",
       "      <td>no</td>\n",
       "      <td>Actor</td>\n",
       "      <td>St Luke's Hospital</td>\n",
       "      <td>60605</td>\n",
       "      <td>41.863100</td>\n",
       "      <td>-87.623100</td>\n",
       "      <td>went to Julliard with Christopher Reeve</td>\n",
       "    </tr>\n",
       "    <tr>\n",
       "      <th>2</th>\n",
       "      <td>Walt Disney</td>\n",
       "      <td>65</td>\n",
       "      <td>no</td>\n",
       "      <td>Film Producer</td>\n",
       "      <td>149 Tripp Ave</td>\n",
       "      <td>60651</td>\n",
       "      <td>41.907879</td>\n",
       "      <td>-87.732594</td>\n",
       "      <td>won 22 oscars</td>\n",
       "    </tr>\n",
       "    <tr>\n",
       "      <th>3</th>\n",
       "      <td>Bobby Fischer</td>\n",
       "      <td>64</td>\n",
       "      <td>no</td>\n",
       "      <td>Chess</td>\n",
       "      <td>Michael Reese  Hospital</td>\n",
       "      <td>60606</td>\n",
       "      <td>41.884116</td>\n",
       "      <td>-87.637656</td>\n",
       "      <td>grandmaster at age 15</td>\n",
       "    </tr>\n",
       "    <tr>\n",
       "      <th>4</th>\n",
       "      <td>Isiah Thomas</td>\n",
       "      <td>59</td>\n",
       "      <td>yes</td>\n",
       "      <td>Basketball</td>\n",
       "      <td>West Side</td>\n",
       "      <td>60624</td>\n",
       "      <td>41.874827</td>\n",
       "      <td>-87.710075</td>\n",
       "      <td>youngest of 9 children</td>\n",
       "    </tr>\n",
       "  </tbody>\n",
       "</table>\n",
       "</div>"
      ],
      "text/plain": [
       "             Name  Age Alive      Noted For           Place of Birth    Zip  \\\n",
       "0  Michelle Obama   56   yes     First Lady       Provident Hospital  60605   \n",
       "1  Robin Williams   63    no          Actor       St Luke's Hospital  60605   \n",
       "2     Walt Disney   65    no  Film Producer            149 Tripp Ave  60651   \n",
       "3   Bobby Fischer   64    no          Chess  Michael Reese  Hospital  60606   \n",
       "4    Isiah Thomas   59   yes     Basketball                West Side  60624   \n",
       "\n",
       "         Lat        Lon                                 fun fact  \n",
       "0  41.802665 -87.613657        father worked at city water plant  \n",
       "1  41.863100 -87.623100  went to Julliard with Christopher Reeve  \n",
       "2  41.907879 -87.732594                            won 22 oscars  \n",
       "3  41.884116 -87.637656                    grandmaster at age 15  \n",
       "4  41.874827 -87.710075                   youngest of 9 children  "
      ]
     },
     "execution_count": 3,
     "metadata": {},
     "output_type": "execute_result"
    }
   ],
   "source": [
    "import pandas as pd\n",
    "Chi=pd.read_csv('chicagoans.csv')\n",
    "Chi"
   ]
  },
  {
   "cell_type": "markdown",
   "id": "d2c77241",
   "metadata": {},
   "source": [
    "__Q1__ How old was Bobby Fischer when he became a grandmaster?\n",
    "\n",
    "__STEP TWO__\n",
    "Let's use a Python library called folium to make a map of Chicago."
   ]
  },
  {
   "cell_type": "markdown",
   "id": "7fa75d3f",
   "metadata": {},
   "source": [
    "```{index} folium\n",
    "```"
   ]
  },
  {
   "cell_type": "code",
   "execution_count": 3,
   "id": "5035812d",
   "metadata": {},
   "outputs": [
    {
     "name": "stdout",
     "output_type": "stream",
     "text": [
      "Collecting folium\n",
      "  Downloading folium-0.14.0-py2.py3-none-any.whl (102 kB)\n",
      "                                              0.0/102.3 kB ? eta -:--:--\n",
      "     -------------------------------------- 102.3/102.3 kB 5.8 MB/s eta 0:00:00\n",
      "Collecting branca>=0.6.0 (from folium)\n",
      "  Downloading branca-0.6.0-py3-none-any.whl (24 kB)\n",
      "Requirement already satisfied: jinja2>=2.9 in c:\\users\\pisihara\\appdata\\local\\anaconda3\\lib\\site-packages (from folium) (3.1.2)\n",
      "Requirement already satisfied: numpy in c:\\users\\pisihara\\appdata\\local\\anaconda3\\lib\\site-packages (from folium) (1.24.3)\n",
      "Requirement already satisfied: requests in c:\\users\\pisihara\\appdata\\local\\anaconda3\\lib\\site-packages (from folium) (2.29.0)\n",
      "Requirement already satisfied: MarkupSafe>=2.0 in c:\\users\\pisihara\\appdata\\local\\anaconda3\\lib\\site-packages (from jinja2>=2.9->folium) (2.1.1)\n",
      "Requirement already satisfied: charset-normalizer<4,>=2 in c:\\users\\pisihara\\appdata\\local\\anaconda3\\lib\\site-packages (from requests->folium) (2.0.4)\n",
      "Requirement already satisfied: idna<4,>=2.5 in c:\\users\\pisihara\\appdata\\local\\anaconda3\\lib\\site-packages (from requests->folium) (3.4)\n",
      "Requirement already satisfied: urllib3<1.27,>=1.21.1 in c:\\users\\pisihara\\appdata\\local\\anaconda3\\lib\\site-packages (from requests->folium) (1.26.16)\n",
      "Requirement already satisfied: certifi>=2017.4.17 in c:\\users\\pisihara\\appdata\\local\\anaconda3\\lib\\site-packages (from requests->folium) (2023.5.7)\n",
      "Installing collected packages: branca, folium\n",
      "Successfully installed branca-0.6.0 folium-0.14.0\n"
     ]
    }
   ],
   "source": [
    "!pip install folium\n"
   ]
  },
  {
   "cell_type": "code",
   "execution_count": 1,
   "id": "c9d938fa",
   "metadata": {},
   "outputs": [
    {
     "data": {
      "text/html": [
       "<div style=\"width:100%;\"><div style=\"position:relative;width:100%;height:0;padding-bottom:60%;\"><span style=\"color:#565656\">Make this Notebook Trusted to load map: File -> Trust Notebook</span><iframe srcdoc=\"&lt;!DOCTYPE html&gt;\n",
       "&lt;html&gt;\n",
       "&lt;head&gt;\n",
       "    \n",
       "    &lt;meta http-equiv=&quot;content-type&quot; content=&quot;text/html; charset=UTF-8&quot; /&gt;\n",
       "    \n",
       "        &lt;script&gt;\n",
       "            L_NO_TOUCH = false;\n",
       "            L_DISABLE_3D = false;\n",
       "        &lt;/script&gt;\n",
       "    \n",
       "    &lt;style&gt;html, body {width: 100%;height: 100%;margin: 0;padding: 0;}&lt;/style&gt;\n",
       "    &lt;style&gt;#map {position:absolute;top:0;bottom:0;right:0;left:0;}&lt;/style&gt;\n",
       "    &lt;script src=&quot;https://cdn.jsdelivr.net/npm/leaflet@1.9.3/dist/leaflet.js&quot;&gt;&lt;/script&gt;\n",
       "    &lt;script src=&quot;https://code.jquery.com/jquery-1.12.4.min.js&quot;&gt;&lt;/script&gt;\n",
       "    &lt;script src=&quot;https://cdn.jsdelivr.net/npm/bootstrap@5.2.2/dist/js/bootstrap.bundle.min.js&quot;&gt;&lt;/script&gt;\n",
       "    &lt;script src=&quot;https://cdnjs.cloudflare.com/ajax/libs/Leaflet.awesome-markers/2.0.2/leaflet.awesome-markers.js&quot;&gt;&lt;/script&gt;\n",
       "    &lt;link rel=&quot;stylesheet&quot; href=&quot;https://cdn.jsdelivr.net/npm/leaflet@1.9.3/dist/leaflet.css&quot;/&gt;\n",
       "    &lt;link rel=&quot;stylesheet&quot; href=&quot;https://cdn.jsdelivr.net/npm/bootstrap@5.2.2/dist/css/bootstrap.min.css&quot;/&gt;\n",
       "    &lt;link rel=&quot;stylesheet&quot; href=&quot;https://netdna.bootstrapcdn.com/bootstrap/3.0.0/css/bootstrap.min.css&quot;/&gt;\n",
       "    &lt;link rel=&quot;stylesheet&quot; href=&quot;https://cdn.jsdelivr.net/npm/@fortawesome/fontawesome-free@6.2.0/css/all.min.css&quot;/&gt;\n",
       "    &lt;link rel=&quot;stylesheet&quot; href=&quot;https://cdnjs.cloudflare.com/ajax/libs/Leaflet.awesome-markers/2.0.2/leaflet.awesome-markers.css&quot;/&gt;\n",
       "    &lt;link rel=&quot;stylesheet&quot; href=&quot;https://cdn.jsdelivr.net/gh/python-visualization/folium/folium/templates/leaflet.awesome.rotate.min.css&quot;/&gt;\n",
       "    \n",
       "            &lt;meta name=&quot;viewport&quot; content=&quot;width=device-width,\n",
       "                initial-scale=1.0, maximum-scale=1.0, user-scalable=no&quot; /&gt;\n",
       "            &lt;style&gt;\n",
       "                #map_f5dc590a7cedb642037017ffbc42559d {\n",
       "                    position: relative;\n",
       "                    width: 100.0%;\n",
       "                    height: 100.0%;\n",
       "                    left: 0.0%;\n",
       "                    top: 0.0%;\n",
       "                }\n",
       "                .leaflet-container { font-size: 1rem; }\n",
       "            &lt;/style&gt;\n",
       "        \n",
       "&lt;/head&gt;\n",
       "&lt;body&gt;\n",
       "    \n",
       "    \n",
       "            &lt;div class=&quot;folium-map&quot; id=&quot;map_f5dc590a7cedb642037017ffbc42559d&quot; &gt;&lt;/div&gt;\n",
       "        \n",
       "&lt;/body&gt;\n",
       "&lt;script&gt;\n",
       "    \n",
       "    \n",
       "            var map_f5dc590a7cedb642037017ffbc42559d = L.map(\n",
       "                &quot;map_f5dc590a7cedb642037017ffbc42559d&quot;,\n",
       "                {\n",
       "                    center: [41.886456, -87.62325],\n",
       "                    crs: L.CRS.EPSG3857,\n",
       "                    zoom: 10,\n",
       "                    zoomControl: true,\n",
       "                    preferCanvas: false,\n",
       "                }\n",
       "            );\n",
       "\n",
       "            \n",
       "\n",
       "        \n",
       "    \n",
       "            var tile_layer_06875a5bace08542c5024e09f9293993 = L.tileLayer(\n",
       "                &quot;https://{s}.tile.openstreetmap.org/{z}/{x}/{y}.png&quot;,\n",
       "                {&quot;attribution&quot;: &quot;Data by \\u0026copy; \\u003ca target=\\&quot;_blank\\&quot; href=\\&quot;http://openstreetmap.org\\&quot;\\u003eOpenStreetMap\\u003c/a\\u003e, under \\u003ca target=\\&quot;_blank\\&quot; href=\\&quot;http://www.openstreetmap.org/copyright\\&quot;\\u003eODbL\\u003c/a\\u003e.&quot;, &quot;detectRetina&quot;: false, &quot;maxNativeZoom&quot;: 18, &quot;maxZoom&quot;: 18, &quot;minZoom&quot;: 0, &quot;noWrap&quot;: false, &quot;opacity&quot;: 1, &quot;subdomains&quot;: &quot;abc&quot;, &quot;tms&quot;: false}\n",
       "            ).addTo(map_f5dc590a7cedb642037017ffbc42559d);\n",
       "        \n",
       "&lt;/script&gt;\n",
       "&lt;/html&gt;\" style=\"position:absolute;width:100%;height:100%;left:0;top:0;border:none !important;\" allowfullscreen webkitallowfullscreen mozallowfullscreen></iframe></div></div>"
      ],
      "text/plain": [
       "<folium.folium.Map at 0x1f4a6f4c250>"
      ]
     },
     "execution_count": 1,
     "metadata": {},
     "output_type": "execute_result"
    }
   ],
   "source": [
    "import folium # map rendering library\n",
    "from folium.features import DivIcon #used to add popup info to a map\n",
    "Chicago_map = folium.Map(location=[41.886456, -87.62325],  tiles=\"openstreetmap\", zoom_start=10)\n",
    "Chicago_map"
   ]
  },
  {
   "cell_type": "markdown",
   "id": "bcd16688",
   "metadata": {},
   "source": [
    "__Q2__\n",
    "\n",
    "Try adjusting the \"zoom_start\" value. What happens?\n",
    "\n",
    "What happens if you change the numbers in location=[41.886456, -87.62325]\""
   ]
  },
  {
   "cell_type": "markdown",
   "id": "ad09281c",
   "metadata": {},
   "source": [
    "__STEP THREE__\n",
    "Let's add our data about famous Chicagoans to the map."
   ]
  },
  {
   "cell_type": "code",
   "execution_count": 8,
   "id": "06ce6283",
   "metadata": {},
   "outputs": [
    {
     "data": {
      "text/html": [
       "<div style=\"width:100%;\"><div style=\"position:relative;width:100%;height:0;padding-bottom:60%;\"><span style=\"color:#565656\">Make this Notebook Trusted to load map: File -> Trust Notebook</span><iframe srcdoc=\"&lt;!DOCTYPE html&gt;\n",
       "&lt;html&gt;\n",
       "&lt;head&gt;\n",
       "    \n",
       "    &lt;meta http-equiv=&quot;content-type&quot; content=&quot;text/html; charset=UTF-8&quot; /&gt;\n",
       "    \n",
       "        &lt;script&gt;\n",
       "            L_NO_TOUCH = false;\n",
       "            L_DISABLE_3D = false;\n",
       "        &lt;/script&gt;\n",
       "    \n",
       "    &lt;style&gt;html, body {width: 100%;height: 100%;margin: 0;padding: 0;}&lt;/style&gt;\n",
       "    &lt;style&gt;#map {position:absolute;top:0;bottom:0;right:0;left:0;}&lt;/style&gt;\n",
       "    &lt;script src=&quot;https://cdn.jsdelivr.net/npm/leaflet@1.9.3/dist/leaflet.js&quot;&gt;&lt;/script&gt;\n",
       "    &lt;script src=&quot;https://code.jquery.com/jquery-1.12.4.min.js&quot;&gt;&lt;/script&gt;\n",
       "    &lt;script src=&quot;https://cdn.jsdelivr.net/npm/bootstrap@5.2.2/dist/js/bootstrap.bundle.min.js&quot;&gt;&lt;/script&gt;\n",
       "    &lt;script src=&quot;https://cdnjs.cloudflare.com/ajax/libs/Leaflet.awesome-markers/2.0.2/leaflet.awesome-markers.js&quot;&gt;&lt;/script&gt;\n",
       "    &lt;link rel=&quot;stylesheet&quot; href=&quot;https://cdn.jsdelivr.net/npm/leaflet@1.9.3/dist/leaflet.css&quot;/&gt;\n",
       "    &lt;link rel=&quot;stylesheet&quot; href=&quot;https://cdn.jsdelivr.net/npm/bootstrap@5.2.2/dist/css/bootstrap.min.css&quot;/&gt;\n",
       "    &lt;link rel=&quot;stylesheet&quot; href=&quot;https://netdna.bootstrapcdn.com/bootstrap/3.0.0/css/bootstrap.min.css&quot;/&gt;\n",
       "    &lt;link rel=&quot;stylesheet&quot; href=&quot;https://cdn.jsdelivr.net/npm/@fortawesome/fontawesome-free@6.2.0/css/all.min.css&quot;/&gt;\n",
       "    &lt;link rel=&quot;stylesheet&quot; href=&quot;https://cdnjs.cloudflare.com/ajax/libs/Leaflet.awesome-markers/2.0.2/leaflet.awesome-markers.css&quot;/&gt;\n",
       "    &lt;link rel=&quot;stylesheet&quot; href=&quot;https://cdn.jsdelivr.net/gh/python-visualization/folium/folium/templates/leaflet.awesome.rotate.min.css&quot;/&gt;\n",
       "    \n",
       "            &lt;meta name=&quot;viewport&quot; content=&quot;width=device-width,\n",
       "                initial-scale=1.0, maximum-scale=1.0, user-scalable=no&quot; /&gt;\n",
       "            &lt;style&gt;\n",
       "                #map_085c04085ead1c5ee11ba69f3f96b24f {\n",
       "                    position: relative;\n",
       "                    width: 100.0%;\n",
       "                    height: 100.0%;\n",
       "                    left: 0.0%;\n",
       "                    top: 0.0%;\n",
       "                }\n",
       "                .leaflet-container { font-size: 1rem; }\n",
       "            &lt;/style&gt;\n",
       "        \n",
       "&lt;/head&gt;\n",
       "&lt;body&gt;\n",
       "    \n",
       "    \n",
       "            &lt;div class=&quot;folium-map&quot; id=&quot;map_085c04085ead1c5ee11ba69f3f96b24f&quot; &gt;&lt;/div&gt;\n",
       "        \n",
       "&lt;/body&gt;\n",
       "&lt;script&gt;\n",
       "    \n",
       "    \n",
       "            var map_085c04085ead1c5ee11ba69f3f96b24f = L.map(\n",
       "                &quot;map_085c04085ead1c5ee11ba69f3f96b24f&quot;,\n",
       "                {\n",
       "                    center: [41.886456, -87.62325],\n",
       "                    crs: L.CRS.EPSG3857,\n",
       "                    zoom: 11,\n",
       "                    zoomControl: true,\n",
       "                    preferCanvas: false,\n",
       "                }\n",
       "            );\n",
       "\n",
       "            \n",
       "\n",
       "        \n",
       "    \n",
       "            var tile_layer_157d3b36b0b8b5ac13fececae0835401 = L.tileLayer(\n",
       "                &quot;https://{s}.tile.openstreetmap.org/{z}/{x}/{y}.png&quot;,\n",
       "                {&quot;attribution&quot;: &quot;Data by \\u0026copy; \\u003ca target=\\&quot;_blank\\&quot; href=\\&quot;http://openstreetmap.org\\&quot;\\u003eOpenStreetMap\\u003c/a\\u003e, under \\u003ca target=\\&quot;_blank\\&quot; href=\\&quot;http://www.openstreetmap.org/copyright\\&quot;\\u003eODbL\\u003c/a\\u003e.&quot;, &quot;detectRetina&quot;: false, &quot;maxNativeZoom&quot;: 18, &quot;maxZoom&quot;: 18, &quot;minZoom&quot;: 0, &quot;noWrap&quot;: false, &quot;opacity&quot;: 1, &quot;subdomains&quot;: &quot;abc&quot;, &quot;tms&quot;: false}\n",
       "            ).addTo(map_085c04085ead1c5ee11ba69f3f96b24f);\n",
       "        \n",
       "    \n",
       "            var marker_dfca7fc64dd9bf021d619e25c4f3b9ea = L.marker(\n",
       "                [41.802665, -87.613657],\n",
       "                {}\n",
       "            ).addTo(map_085c04085ead1c5ee11ba69f3f96b24f);\n",
       "        \n",
       "    \n",
       "            var div_icon_840ba35d3b9c5dd584f337a1b490a342 = L.divIcon({&quot;className&quot;: &quot;empty&quot;, &quot;html&quot;: &quot;\\u003cdiv style=\\&quot;font-size:20pt; color:red\\&quot;\\u003eMichelle Obama\\u003c/div\\u003e&quot;, &quot;iconAnchor&quot;: [0, 8], &quot;iconSize&quot;: [100, 0]});\n",
       "            marker_dfca7fc64dd9bf021d619e25c4f3b9ea.setIcon(div_icon_840ba35d3b9c5dd584f337a1b490a342);\n",
       "        \n",
       "    \n",
       "            var circle_marker_87c9a6e7279ab3762d93c15cb0b3f469 = L.circleMarker(\n",
       "                [41.802665, -87.613657],\n",
       "                {&quot;bubblingMouseEvents&quot;: true, &quot;color&quot;: &quot;black&quot;, &quot;dashArray&quot;: null, &quot;dashOffset&quot;: null, &quot;fill&quot;: false, &quot;fillColor&quot;: &quot;black&quot;, &quot;fillOpacity&quot;: 0.2, &quot;fillRule&quot;: &quot;evenodd&quot;, &quot;lineCap&quot;: &quot;round&quot;, &quot;lineJoin&quot;: &quot;round&quot;, &quot;opacity&quot;: 1.0, &quot;radius&quot;: 1, &quot;stroke&quot;: true, &quot;weight&quot;: 3}\n",
       "            ).addTo(map_085c04085ead1c5ee11ba69f3f96b24f);\n",
       "        \n",
       "    \n",
       "            var marker_8c3796e9ddc548963d0fdd92751cd9d1 = L.marker(\n",
       "                [41.8631, -87.6231],\n",
       "                {}\n",
       "            ).addTo(map_085c04085ead1c5ee11ba69f3f96b24f);\n",
       "        \n",
       "    \n",
       "            var div_icon_419d49dc020b22588b5255a47dad5d7e = L.divIcon({&quot;className&quot;: &quot;empty&quot;, &quot;html&quot;: &quot;\\u003cdiv style=\\&quot;font-size:20pt; color:red\\&quot;\\u003eRobin Williams\\u003c/div\\u003e&quot;, &quot;iconAnchor&quot;: [0, 8], &quot;iconSize&quot;: [100, 0]});\n",
       "            marker_8c3796e9ddc548963d0fdd92751cd9d1.setIcon(div_icon_419d49dc020b22588b5255a47dad5d7e);\n",
       "        \n",
       "    \n",
       "            var circle_marker_c018fec187a376d9d0cc0112842a0fb9 = L.circleMarker(\n",
       "                [41.8631, -87.6231],\n",
       "                {&quot;bubblingMouseEvents&quot;: true, &quot;color&quot;: &quot;black&quot;, &quot;dashArray&quot;: null, &quot;dashOffset&quot;: null, &quot;fill&quot;: false, &quot;fillColor&quot;: &quot;black&quot;, &quot;fillOpacity&quot;: 0.2, &quot;fillRule&quot;: &quot;evenodd&quot;, &quot;lineCap&quot;: &quot;round&quot;, &quot;lineJoin&quot;: &quot;round&quot;, &quot;opacity&quot;: 1.0, &quot;radius&quot;: 1, &quot;stroke&quot;: true, &quot;weight&quot;: 3}\n",
       "            ).addTo(map_085c04085ead1c5ee11ba69f3f96b24f);\n",
       "        \n",
       "    \n",
       "            var marker_289bf10ba01c263b1de33877984ed87d = L.marker(\n",
       "                [41.907879, -87.732594],\n",
       "                {}\n",
       "            ).addTo(map_085c04085ead1c5ee11ba69f3f96b24f);\n",
       "        \n",
       "    \n",
       "            var div_icon_7af8863d575fcc7c478ad68dfea1fa14 = L.divIcon({&quot;className&quot;: &quot;empty&quot;, &quot;html&quot;: &quot;\\u003cdiv style=\\&quot;font-size:20pt; color:red\\&quot;\\u003eWalt Disney\\u003c/div\\u003e&quot;, &quot;iconAnchor&quot;: [0, 8], &quot;iconSize&quot;: [100, 0]});\n",
       "            marker_289bf10ba01c263b1de33877984ed87d.setIcon(div_icon_7af8863d575fcc7c478ad68dfea1fa14);\n",
       "        \n",
       "    \n",
       "            var circle_marker_490145421e53b39cfdb9ce689b020661 = L.circleMarker(\n",
       "                [41.907879, -87.732594],\n",
       "                {&quot;bubblingMouseEvents&quot;: true, &quot;color&quot;: &quot;black&quot;, &quot;dashArray&quot;: null, &quot;dashOffset&quot;: null, &quot;fill&quot;: false, &quot;fillColor&quot;: &quot;black&quot;, &quot;fillOpacity&quot;: 0.2, &quot;fillRule&quot;: &quot;evenodd&quot;, &quot;lineCap&quot;: &quot;round&quot;, &quot;lineJoin&quot;: &quot;round&quot;, &quot;opacity&quot;: 1.0, &quot;radius&quot;: 1, &quot;stroke&quot;: true, &quot;weight&quot;: 3}\n",
       "            ).addTo(map_085c04085ead1c5ee11ba69f3f96b24f);\n",
       "        \n",
       "    \n",
       "            var marker_0358ebb6b06d854d26801d87d4fb859b = L.marker(\n",
       "                [41.884116, -87.637656],\n",
       "                {}\n",
       "            ).addTo(map_085c04085ead1c5ee11ba69f3f96b24f);\n",
       "        \n",
       "    \n",
       "            var div_icon_ea3062e268afc4031e3b2e7a119e545c = L.divIcon({&quot;className&quot;: &quot;empty&quot;, &quot;html&quot;: &quot;\\u003cdiv style=\\&quot;font-size:20pt; color:red\\&quot;\\u003eBobby Fischer\\u003c/div\\u003e&quot;, &quot;iconAnchor&quot;: [0, 8], &quot;iconSize&quot;: [100, 0]});\n",
       "            marker_0358ebb6b06d854d26801d87d4fb859b.setIcon(div_icon_ea3062e268afc4031e3b2e7a119e545c);\n",
       "        \n",
       "    \n",
       "            var circle_marker_7ae5cac318135cd31e8f958bcc03f861 = L.circleMarker(\n",
       "                [41.884116, -87.637656],\n",
       "                {&quot;bubblingMouseEvents&quot;: true, &quot;color&quot;: &quot;black&quot;, &quot;dashArray&quot;: null, &quot;dashOffset&quot;: null, &quot;fill&quot;: false, &quot;fillColor&quot;: &quot;black&quot;, &quot;fillOpacity&quot;: 0.2, &quot;fillRule&quot;: &quot;evenodd&quot;, &quot;lineCap&quot;: &quot;round&quot;, &quot;lineJoin&quot;: &quot;round&quot;, &quot;opacity&quot;: 1.0, &quot;radius&quot;: 1, &quot;stroke&quot;: true, &quot;weight&quot;: 3}\n",
       "            ).addTo(map_085c04085ead1c5ee11ba69f3f96b24f);\n",
       "        \n",
       "    \n",
       "            var marker_e52e7cf0c8c75db3ae92801fb3ef1821 = L.marker(\n",
       "                [41.874827, -87.710075],\n",
       "                {}\n",
       "            ).addTo(map_085c04085ead1c5ee11ba69f3f96b24f);\n",
       "        \n",
       "    \n",
       "            var div_icon_4df4c892058536ef650850099fff2214 = L.divIcon({&quot;className&quot;: &quot;empty&quot;, &quot;html&quot;: &quot;\\u003cdiv style=\\&quot;font-size:20pt; color:red\\&quot;\\u003eIsiah Thomas\\u003c/div\\u003e&quot;, &quot;iconAnchor&quot;: [0, 8], &quot;iconSize&quot;: [100, 0]});\n",
       "            marker_e52e7cf0c8c75db3ae92801fb3ef1821.setIcon(div_icon_4df4c892058536ef650850099fff2214);\n",
       "        \n",
       "    \n",
       "            var circle_marker_7d9c5a2d2c74e6ddf2930d9b7877eca0 = L.circleMarker(\n",
       "                [41.874827, -87.710075],\n",
       "                {&quot;bubblingMouseEvents&quot;: true, &quot;color&quot;: &quot;black&quot;, &quot;dashArray&quot;: null, &quot;dashOffset&quot;: null, &quot;fill&quot;: false, &quot;fillColor&quot;: &quot;black&quot;, &quot;fillOpacity&quot;: 0.2, &quot;fillRule&quot;: &quot;evenodd&quot;, &quot;lineCap&quot;: &quot;round&quot;, &quot;lineJoin&quot;: &quot;round&quot;, &quot;opacity&quot;: 1.0, &quot;radius&quot;: 1, &quot;stroke&quot;: true, &quot;weight&quot;: 3}\n",
       "            ).addTo(map_085c04085ead1c5ee11ba69f3f96b24f);\n",
       "        \n",
       "&lt;/script&gt;\n",
       "&lt;/html&gt;\" style=\"position:absolute;width:100%;height:100%;left:0;top:0;border:none !important;\" allowfullscreen webkitallowfullscreen mozallowfullscreen></iframe></div></div>"
      ],
      "text/plain": [
       "<folium.folium.Map at 0x1f4aa3ba950>"
      ]
     },
     "execution_count": 8,
     "metadata": {},
     "output_type": "execute_result"
    }
   ],
   "source": [
    "Chicago_map=folium.Map(location=[41.886456,-87.62325],tiles=\"openstreetmap\",zoom_start=11)\n",
    "for i in Chi.index:\n",
    "    p=[Chi.loc[i,\"Lat\"],Chi.loc[i,\"Lon\"]]\n",
    "    folium.Marker(p,icon=DivIcon(\n",
    "        icon_size=(100,0),\n",
    "        icon_anchor=(0,8),\n",
    "        html='<div style=\"font-size:20pt; color:red\">'+str(Chi.loc[i,\"Name\"]) +'</div>',\n",
    "            )).add_to(Chicago_map)\n",
    "    Chicago_map.add_child(folium.CircleMarker(p, radius=1,color='black'))\n",
    "Chicago_map.save(\"Chicagoans.html\")\n",
    "Chicago_map"
   ]
  },
  {
   "cell_type": "markdown",
   "id": "5619656a",
   "metadata": {},
   "source": [
    "__Q3__ What side of the city was Michelle Obama born?\n",
    "\n",
    "__STEP FOUR__\n",
    "Let's make a function which can add another person to our dataframe called Chi  "
   ]
  },
  {
   "cell_type": "code",
   "execution_count": 9,
   "id": "ea2a3352",
   "metadata": {},
   "outputs": [],
   "source": [
    "def addperson(map_name,df,name,age,alive,noted,birth,zipcode,lat,lon,fact):\n",
    "    our_map=map_name \n",
    "    new_row = {'Name':name, \n",
    "                   'Age':age, \n",
    "                   'Alive':alive,\n",
    "                   'Noted For':noted,\n",
    "                    'Place of Birth':birth,\n",
    "                    'Zip':zipcode,\n",
    "                    'Lat':lat,\n",
    "                    'Lon':lon,\n",
    "                    'fun fact':fact            }\n",
    "    df = pd.concat([df, pd.DataFrame([new_row])], ignore_index=True)\n",
    "    i=len(df)-1\n",
    "    p=[df.loc[i,\"Lat\"],df.loc[i,\"Lon\"]]\n",
    "    folium.Marker(p,icon=DivIcon(\n",
    "        icon_size=(100,0),\n",
    "        icon_anchor=(0,8),\n",
    "        html='<div style=\"font-size: 15pt; color : blue\">'+str(df.loc[i,\"Name\"]) +'</div>',\n",
    "            )).add_to(our_map)\n",
    "    our_map.add_child(folium.CircleMarker(p, radius=1,color='blue'))\n",
    "    return df,our_map"
   ]
  },
  {
   "cell_type": "markdown",
   "id": "ac314e09",
   "metadata": {},
   "source": [
    "__Q4__ What command is used to add a new line to the dataframe df?\n",
    "\n",
    "__STEP FIVE__\n",
    "Let's add Jenifer Hudson to our dataframe using the following info:\n",
    "\n",
    "'Jennifer Hudson',38,'yes','Actress','Englewood',60621,41.779699,-87.633194,'worked at Burger King'\n"
   ]
  },
  {
   "cell_type": "code",
   "execution_count": 10,
   "id": "cef0aa52",
   "metadata": {},
   "outputs": [
    {
     "data": {
      "text/html": [
       "<div style=\"width:100%;\"><div style=\"position:relative;width:100%;height:0;padding-bottom:60%;\"><span style=\"color:#565656\">Make this Notebook Trusted to load map: File -> Trust Notebook</span><iframe srcdoc=\"&lt;!DOCTYPE html&gt;\n",
       "&lt;html&gt;\n",
       "&lt;head&gt;\n",
       "    \n",
       "    &lt;meta http-equiv=&quot;content-type&quot; content=&quot;text/html; charset=UTF-8&quot; /&gt;\n",
       "    \n",
       "        &lt;script&gt;\n",
       "            L_NO_TOUCH = false;\n",
       "            L_DISABLE_3D = false;\n",
       "        &lt;/script&gt;\n",
       "    \n",
       "    &lt;style&gt;html, body {width: 100%;height: 100%;margin: 0;padding: 0;}&lt;/style&gt;\n",
       "    &lt;style&gt;#map {position:absolute;top:0;bottom:0;right:0;left:0;}&lt;/style&gt;\n",
       "    &lt;script src=&quot;https://cdn.jsdelivr.net/npm/leaflet@1.9.3/dist/leaflet.js&quot;&gt;&lt;/script&gt;\n",
       "    &lt;script src=&quot;https://code.jquery.com/jquery-1.12.4.min.js&quot;&gt;&lt;/script&gt;\n",
       "    &lt;script src=&quot;https://cdn.jsdelivr.net/npm/bootstrap@5.2.2/dist/js/bootstrap.bundle.min.js&quot;&gt;&lt;/script&gt;\n",
       "    &lt;script src=&quot;https://cdnjs.cloudflare.com/ajax/libs/Leaflet.awesome-markers/2.0.2/leaflet.awesome-markers.js&quot;&gt;&lt;/script&gt;\n",
       "    &lt;link rel=&quot;stylesheet&quot; href=&quot;https://cdn.jsdelivr.net/npm/leaflet@1.9.3/dist/leaflet.css&quot;/&gt;\n",
       "    &lt;link rel=&quot;stylesheet&quot; href=&quot;https://cdn.jsdelivr.net/npm/bootstrap@5.2.2/dist/css/bootstrap.min.css&quot;/&gt;\n",
       "    &lt;link rel=&quot;stylesheet&quot; href=&quot;https://netdna.bootstrapcdn.com/bootstrap/3.0.0/css/bootstrap.min.css&quot;/&gt;\n",
       "    &lt;link rel=&quot;stylesheet&quot; href=&quot;https://cdn.jsdelivr.net/npm/@fortawesome/fontawesome-free@6.2.0/css/all.min.css&quot;/&gt;\n",
       "    &lt;link rel=&quot;stylesheet&quot; href=&quot;https://cdnjs.cloudflare.com/ajax/libs/Leaflet.awesome-markers/2.0.2/leaflet.awesome-markers.css&quot;/&gt;\n",
       "    &lt;link rel=&quot;stylesheet&quot; href=&quot;https://cdn.jsdelivr.net/gh/python-visualization/folium/folium/templates/leaflet.awesome.rotate.min.css&quot;/&gt;\n",
       "    \n",
       "            &lt;meta name=&quot;viewport&quot; content=&quot;width=device-width,\n",
       "                initial-scale=1.0, maximum-scale=1.0, user-scalable=no&quot; /&gt;\n",
       "            &lt;style&gt;\n",
       "                #map_085c04085ead1c5ee11ba69f3f96b24f {\n",
       "                    position: relative;\n",
       "                    width: 100.0%;\n",
       "                    height: 100.0%;\n",
       "                    left: 0.0%;\n",
       "                    top: 0.0%;\n",
       "                }\n",
       "                .leaflet-container { font-size: 1rem; }\n",
       "            &lt;/style&gt;\n",
       "        \n",
       "&lt;/head&gt;\n",
       "&lt;body&gt;\n",
       "    \n",
       "    \n",
       "            &lt;div class=&quot;folium-map&quot; id=&quot;map_085c04085ead1c5ee11ba69f3f96b24f&quot; &gt;&lt;/div&gt;\n",
       "        \n",
       "&lt;/body&gt;\n",
       "&lt;script&gt;\n",
       "    \n",
       "    \n",
       "            var map_085c04085ead1c5ee11ba69f3f96b24f = L.map(\n",
       "                &quot;map_085c04085ead1c5ee11ba69f3f96b24f&quot;,\n",
       "                {\n",
       "                    center: [41.886456, -87.62325],\n",
       "                    crs: L.CRS.EPSG3857,\n",
       "                    zoom: 11,\n",
       "                    zoomControl: true,\n",
       "                    preferCanvas: false,\n",
       "                }\n",
       "            );\n",
       "\n",
       "            \n",
       "\n",
       "        \n",
       "    \n",
       "            var tile_layer_157d3b36b0b8b5ac13fececae0835401 = L.tileLayer(\n",
       "                &quot;https://{s}.tile.openstreetmap.org/{z}/{x}/{y}.png&quot;,\n",
       "                {&quot;attribution&quot;: &quot;Data by \\u0026copy; \\u003ca target=\\&quot;_blank\\&quot; href=\\&quot;http://openstreetmap.org\\&quot;\\u003eOpenStreetMap\\u003c/a\\u003e, under \\u003ca target=\\&quot;_blank\\&quot; href=\\&quot;http://www.openstreetmap.org/copyright\\&quot;\\u003eODbL\\u003c/a\\u003e.&quot;, &quot;detectRetina&quot;: false, &quot;maxNativeZoom&quot;: 18, &quot;maxZoom&quot;: 18, &quot;minZoom&quot;: 0, &quot;noWrap&quot;: false, &quot;opacity&quot;: 1, &quot;subdomains&quot;: &quot;abc&quot;, &quot;tms&quot;: false}\n",
       "            ).addTo(map_085c04085ead1c5ee11ba69f3f96b24f);\n",
       "        \n",
       "    \n",
       "            var marker_dfca7fc64dd9bf021d619e25c4f3b9ea = L.marker(\n",
       "                [41.802665, -87.613657],\n",
       "                {}\n",
       "            ).addTo(map_085c04085ead1c5ee11ba69f3f96b24f);\n",
       "        \n",
       "    \n",
       "            var div_icon_840ba35d3b9c5dd584f337a1b490a342 = L.divIcon({&quot;className&quot;: &quot;empty&quot;, &quot;html&quot;: &quot;\\u003cdiv style=\\&quot;font-size:20pt; color:red\\&quot;\\u003eMichelle Obama\\u003c/div\\u003e&quot;, &quot;iconAnchor&quot;: [0, 8], &quot;iconSize&quot;: [100, 0]});\n",
       "            marker_dfca7fc64dd9bf021d619e25c4f3b9ea.setIcon(div_icon_840ba35d3b9c5dd584f337a1b490a342);\n",
       "        \n",
       "    \n",
       "            var circle_marker_87c9a6e7279ab3762d93c15cb0b3f469 = L.circleMarker(\n",
       "                [41.802665, -87.613657],\n",
       "                {&quot;bubblingMouseEvents&quot;: true, &quot;color&quot;: &quot;black&quot;, &quot;dashArray&quot;: null, &quot;dashOffset&quot;: null, &quot;fill&quot;: false, &quot;fillColor&quot;: &quot;black&quot;, &quot;fillOpacity&quot;: 0.2, &quot;fillRule&quot;: &quot;evenodd&quot;, &quot;lineCap&quot;: &quot;round&quot;, &quot;lineJoin&quot;: &quot;round&quot;, &quot;opacity&quot;: 1.0, &quot;radius&quot;: 1, &quot;stroke&quot;: true, &quot;weight&quot;: 3}\n",
       "            ).addTo(map_085c04085ead1c5ee11ba69f3f96b24f);\n",
       "        \n",
       "    \n",
       "            var marker_8c3796e9ddc548963d0fdd92751cd9d1 = L.marker(\n",
       "                [41.8631, -87.6231],\n",
       "                {}\n",
       "            ).addTo(map_085c04085ead1c5ee11ba69f3f96b24f);\n",
       "        \n",
       "    \n",
       "            var div_icon_419d49dc020b22588b5255a47dad5d7e = L.divIcon({&quot;className&quot;: &quot;empty&quot;, &quot;html&quot;: &quot;\\u003cdiv style=\\&quot;font-size:20pt; color:red\\&quot;\\u003eRobin Williams\\u003c/div\\u003e&quot;, &quot;iconAnchor&quot;: [0, 8], &quot;iconSize&quot;: [100, 0]});\n",
       "            marker_8c3796e9ddc548963d0fdd92751cd9d1.setIcon(div_icon_419d49dc020b22588b5255a47dad5d7e);\n",
       "        \n",
       "    \n",
       "            var circle_marker_c018fec187a376d9d0cc0112842a0fb9 = L.circleMarker(\n",
       "                [41.8631, -87.6231],\n",
       "                {&quot;bubblingMouseEvents&quot;: true, &quot;color&quot;: &quot;black&quot;, &quot;dashArray&quot;: null, &quot;dashOffset&quot;: null, &quot;fill&quot;: false, &quot;fillColor&quot;: &quot;black&quot;, &quot;fillOpacity&quot;: 0.2, &quot;fillRule&quot;: &quot;evenodd&quot;, &quot;lineCap&quot;: &quot;round&quot;, &quot;lineJoin&quot;: &quot;round&quot;, &quot;opacity&quot;: 1.0, &quot;radius&quot;: 1, &quot;stroke&quot;: true, &quot;weight&quot;: 3}\n",
       "            ).addTo(map_085c04085ead1c5ee11ba69f3f96b24f);\n",
       "        \n",
       "    \n",
       "            var marker_289bf10ba01c263b1de33877984ed87d = L.marker(\n",
       "                [41.907879, -87.732594],\n",
       "                {}\n",
       "            ).addTo(map_085c04085ead1c5ee11ba69f3f96b24f);\n",
       "        \n",
       "    \n",
       "            var div_icon_7af8863d575fcc7c478ad68dfea1fa14 = L.divIcon({&quot;className&quot;: &quot;empty&quot;, &quot;html&quot;: &quot;\\u003cdiv style=\\&quot;font-size:20pt; color:red\\&quot;\\u003eWalt Disney\\u003c/div\\u003e&quot;, &quot;iconAnchor&quot;: [0, 8], &quot;iconSize&quot;: [100, 0]});\n",
       "            marker_289bf10ba01c263b1de33877984ed87d.setIcon(div_icon_7af8863d575fcc7c478ad68dfea1fa14);\n",
       "        \n",
       "    \n",
       "            var circle_marker_490145421e53b39cfdb9ce689b020661 = L.circleMarker(\n",
       "                [41.907879, -87.732594],\n",
       "                {&quot;bubblingMouseEvents&quot;: true, &quot;color&quot;: &quot;black&quot;, &quot;dashArray&quot;: null, &quot;dashOffset&quot;: null, &quot;fill&quot;: false, &quot;fillColor&quot;: &quot;black&quot;, &quot;fillOpacity&quot;: 0.2, &quot;fillRule&quot;: &quot;evenodd&quot;, &quot;lineCap&quot;: &quot;round&quot;, &quot;lineJoin&quot;: &quot;round&quot;, &quot;opacity&quot;: 1.0, &quot;radius&quot;: 1, &quot;stroke&quot;: true, &quot;weight&quot;: 3}\n",
       "            ).addTo(map_085c04085ead1c5ee11ba69f3f96b24f);\n",
       "        \n",
       "    \n",
       "            var marker_0358ebb6b06d854d26801d87d4fb859b = L.marker(\n",
       "                [41.884116, -87.637656],\n",
       "                {}\n",
       "            ).addTo(map_085c04085ead1c5ee11ba69f3f96b24f);\n",
       "        \n",
       "    \n",
       "            var div_icon_ea3062e268afc4031e3b2e7a119e545c = L.divIcon({&quot;className&quot;: &quot;empty&quot;, &quot;html&quot;: &quot;\\u003cdiv style=\\&quot;font-size:20pt; color:red\\&quot;\\u003eBobby Fischer\\u003c/div\\u003e&quot;, &quot;iconAnchor&quot;: [0, 8], &quot;iconSize&quot;: [100, 0]});\n",
       "            marker_0358ebb6b06d854d26801d87d4fb859b.setIcon(div_icon_ea3062e268afc4031e3b2e7a119e545c);\n",
       "        \n",
       "    \n",
       "            var circle_marker_7ae5cac318135cd31e8f958bcc03f861 = L.circleMarker(\n",
       "                [41.884116, -87.637656],\n",
       "                {&quot;bubblingMouseEvents&quot;: true, &quot;color&quot;: &quot;black&quot;, &quot;dashArray&quot;: null, &quot;dashOffset&quot;: null, &quot;fill&quot;: false, &quot;fillColor&quot;: &quot;black&quot;, &quot;fillOpacity&quot;: 0.2, &quot;fillRule&quot;: &quot;evenodd&quot;, &quot;lineCap&quot;: &quot;round&quot;, &quot;lineJoin&quot;: &quot;round&quot;, &quot;opacity&quot;: 1.0, &quot;radius&quot;: 1, &quot;stroke&quot;: true, &quot;weight&quot;: 3}\n",
       "            ).addTo(map_085c04085ead1c5ee11ba69f3f96b24f);\n",
       "        \n",
       "    \n",
       "            var marker_e52e7cf0c8c75db3ae92801fb3ef1821 = L.marker(\n",
       "                [41.874827, -87.710075],\n",
       "                {}\n",
       "            ).addTo(map_085c04085ead1c5ee11ba69f3f96b24f);\n",
       "        \n",
       "    \n",
       "            var div_icon_4df4c892058536ef650850099fff2214 = L.divIcon({&quot;className&quot;: &quot;empty&quot;, &quot;html&quot;: &quot;\\u003cdiv style=\\&quot;font-size:20pt; color:red\\&quot;\\u003eIsiah Thomas\\u003c/div\\u003e&quot;, &quot;iconAnchor&quot;: [0, 8], &quot;iconSize&quot;: [100, 0]});\n",
       "            marker_e52e7cf0c8c75db3ae92801fb3ef1821.setIcon(div_icon_4df4c892058536ef650850099fff2214);\n",
       "        \n",
       "    \n",
       "            var circle_marker_7d9c5a2d2c74e6ddf2930d9b7877eca0 = L.circleMarker(\n",
       "                [41.874827, -87.710075],\n",
       "                {&quot;bubblingMouseEvents&quot;: true, &quot;color&quot;: &quot;black&quot;, &quot;dashArray&quot;: null, &quot;dashOffset&quot;: null, &quot;fill&quot;: false, &quot;fillColor&quot;: &quot;black&quot;, &quot;fillOpacity&quot;: 0.2, &quot;fillRule&quot;: &quot;evenodd&quot;, &quot;lineCap&quot;: &quot;round&quot;, &quot;lineJoin&quot;: &quot;round&quot;, &quot;opacity&quot;: 1.0, &quot;radius&quot;: 1, &quot;stroke&quot;: true, &quot;weight&quot;: 3}\n",
       "            ).addTo(map_085c04085ead1c5ee11ba69f3f96b24f);\n",
       "        \n",
       "    \n",
       "            var marker_5a9da49991480772ca629868baac22f4 = L.marker(\n",
       "                [41.779699, -87.633194],\n",
       "                {}\n",
       "            ).addTo(map_085c04085ead1c5ee11ba69f3f96b24f);\n",
       "        \n",
       "    \n",
       "            var div_icon_db2a90095569581fbe68025b90886e89 = L.divIcon({&quot;className&quot;: &quot;empty&quot;, &quot;html&quot;: &quot;\\u003cdiv style=\\&quot;font-size: 15pt; color : blue\\&quot;\\u003eJennifer Hudson\\u003c/div\\u003e&quot;, &quot;iconAnchor&quot;: [0, 8], &quot;iconSize&quot;: [100, 0]});\n",
       "            marker_5a9da49991480772ca629868baac22f4.setIcon(div_icon_db2a90095569581fbe68025b90886e89);\n",
       "        \n",
       "    \n",
       "            var circle_marker_b271b30b4effe2473a4e979941a92ebd = L.circleMarker(\n",
       "                [41.779699, -87.633194],\n",
       "                {&quot;bubblingMouseEvents&quot;: true, &quot;color&quot;: &quot;blue&quot;, &quot;dashArray&quot;: null, &quot;dashOffset&quot;: null, &quot;fill&quot;: false, &quot;fillColor&quot;: &quot;blue&quot;, &quot;fillOpacity&quot;: 0.2, &quot;fillRule&quot;: &quot;evenodd&quot;, &quot;lineCap&quot;: &quot;round&quot;, &quot;lineJoin&quot;: &quot;round&quot;, &quot;opacity&quot;: 1.0, &quot;radius&quot;: 1, &quot;stroke&quot;: true, &quot;weight&quot;: 3}\n",
       "            ).addTo(map_085c04085ead1c5ee11ba69f3f96b24f);\n",
       "        \n",
       "&lt;/script&gt;\n",
       "&lt;/html&gt;\" style=\"position:absolute;width:100%;height:100%;left:0;top:0;border:none !important;\" allowfullscreen webkitallowfullscreen mozallowfullscreen></iframe></div></div>"
      ],
      "text/plain": [
       "<folium.folium.Map at 0x1f4aa3ba950>"
      ]
     },
     "execution_count": 10,
     "metadata": {},
     "output_type": "execute_result"
    }
   ],
   "source": [
    "[Chi,Chicago_map]=addperson(Chicago_map,Chi,'Jennifer Hudson','Actress',41,'yes','Englewood',60621,41.779699,-87.633194,'worked at Burger King')\n",
    "Chicago_map"
   ]
  },
  {
   "cell_type": "markdown",
   "id": "f089fdb8",
   "metadata": {},
   "source": [
    "__Q5__ Where did Jennifer Hudson work before becoming famous?\n",
    "\n",
    "__STEP SIX__\n",
    "Add your info to the map by editing the info in the next cell.\n"
   ]
  },
  {
   "cell_type": "code",
   "execution_count": null,
   "id": "af428909",
   "metadata": {},
   "outputs": [],
   "source": [
    "#answer to Step Six\n"
   ]
  },
  {
   "cell_type": "markdown",
   "id": "d98a308b",
   "metadata": {},
   "source": [
    "__STEP SEVEN__\n",
    "Use the following two commands to save your map and info in a new Excel file:\n",
    "\n",
    "Chicago_map.save(\"Chicagoans.html\")\n",
    "\n",
    "Chi.to_excel('ChiRevised.xlsx')\n",
    "\n",
    "Enter and run the commands in the cell below."
   ]
  },
  {
   "cell_type": "markdown",
   "id": "c347166d",
   "metadata": {},
   "source": [
    "__Q7__ Did your map display correctly?  Did the new Excel file include your name?\n",
    "\n"
   ]
  },
  {
   "cell_type": "markdown",
   "id": "3b28c35d",
   "metadata": {},
   "source": [
    ":::{admonition} Discussion\n",
    "\n",
    "\n",
    "1) Whom do you admire?  Why so?\n",
    "\n",
    "2)  What character qualities can help someone to be successful in life?\n",
    "\n",
    "3) What can help you to be more successful?\n",
    "\n",
    "\n",
    ":::"
   ]
  },
  {
   "cell_type": "markdown",
   "id": "0fd326b6",
   "metadata": {},
   "source": [
    "## Predicting Exemplary Schools"
   ]
  },
  {
   "cell_type": "markdown",
   "id": "e5e9d99a",
   "metadata": {},
   "source": [
    ":::{note}\n",
    "This section is a friendly competition predict whether a K-8 Chicago school's IL State Board of Education Summative Designation is designated 'Exemplary' (the 'Non-Exemplary' school categories are \"Commendable\", \"Targeted\", and \"Comprehensive\").\n",
    "\n",
    "The prediction will be based on the file MiddleSchool.xlsx with the following data:\n",
    "    \n",
    "* Student Enrollment - Black or African American   \n",
    "* Student Enrollment - Hispanic or Latino         \n",
    "* Student Enrollment - Children with Disabilities  \n",
    "* Student Enrollment - Low Income                \n",
    "* Total Number of School Days                         \n",
    "* 8th Grade Passing Algebra 1                   \n",
    "* Student Attendance Rate                        \n",
    "* Student Chronic Truancy Rate                       \n",
    "* Avg Class Size – All Grades                     \n",
    "* Teacher Retention Rate\n",
    ":::"
   ]
  },
  {
   "cell_type": "markdown",
   "id": "120a6c0c",
   "metadata": {},
   "source": [
    "```{index} true positive\n",
    "```\n",
    "\n",
    "```{index} false positive\n",
    "```\n",
    "\n",
    "```{index} true negative\n",
    "```\n",
    "\n",
    "```{index} false negative\n",
    "```\n",
    "\n",
    "```{index} true accuracy\n",
    "```\n",
    "\n",
    "```{index} specificity\n",
    "```\n",
    "\n",
    "```{index} precision\n",
    "```\n",
    "\n",
    "```{index} sensitivity\n",
    "```\n",
    "\n",
    "```{index} recall\n",
    "```\n",
    "\n",
    "\n",
    "\n",
    "\n"
   ]
  },
  {
   "cell_type": "markdown",
   "id": "5bd890ae",
   "metadata": {},
   "source": [
    "__Scoring__\n",
    "\n",
    "Scoring for our competition is based on values for the __Confusion Matrix__:\n",
    "\n",
    "$$\n",
    "\\begin{pmatrix}\n",
    "TP & FN \\\\\n",
    "FP & TN \n",
    "\\end{pmatrix}\n",
    "$$\n",
    "\n",
    "where\n",
    "\n",
    "* TP=True Positive: your model predicts exemplary and the school is exemplary\n",
    "* TN=True Negative: your model predicts not exemplary and the school is not exemplary\n",
    "* FP=False Positive: your model predicts exemplary but the school is not exemplary\n",
    "* FN=False Negative: your model predicts not exemplary but the school is exemplary\n",
    "    \n",
    " The number of each type of prediction then determines\n",
    " \n",
    "* **Accuracy** = $\\frac{\\mid TP\\mid + \\mid TN \\mid}{\\mid TP\\mid + \\mid TN \\mid+ \\mid FP\\mid + \\mid FN \\mid}$    (proportion that were correctly predicted out of all the schools)\n",
    " \n",
    "* **Specificity (Precision)** = $\\frac{\\mid TN\\mid}{\\mid TN\\mid + \\mid FP\\mid }$ (proportion that were correct out of those you predicted to be exemplary)\n",
    " \n",
    "* **Sensitivity (Recall)** = $\\frac{\\mid TP\\mid}{\\mid TP\\mid + \\mid FN\\mid }$ (proportion that you predicted correctly among just the exemplary schools)\n",
    " \n",
    "Your competition (F1) score is the geometric mean of the precision (specificity), and recall(sensitivity):\n",
    "    \n",
    "$$\n",
    "F_1=2\\frac{precision*recall}{precision+recall}\n",
    "$$"
   ]
  },
  {
   "cell_type": "markdown",
   "id": "c0788e11",
   "metadata": {},
   "source": [
    "__STEP ONE__ Exploratory Data Analysis</h4>\n",
    "1a) Import the usual libraries including matplotlib.pyplot as plt, as well as the MiddleSchool report card data into a datframe df."
   ]
  },
  {
   "cell_type": "code",
   "execution_count": 12,
   "id": "b3cff453",
   "metadata": {},
   "outputs": [
    {
     "data": {
      "text/html": [
       "<div>\n",
       "<style scoped>\n",
       "    .dataframe tbody tr th:only-of-type {\n",
       "        vertical-align: middle;\n",
       "    }\n",
       "\n",
       "    .dataframe tbody tr th {\n",
       "        vertical-align: top;\n",
       "    }\n",
       "\n",
       "    .dataframe thead th {\n",
       "        text-align: right;\n",
       "    }\n",
       "</style>\n",
       "<table border=\"1\" class=\"dataframe\">\n",
       "  <thead>\n",
       "    <tr style=\"text-align: right;\">\n",
       "      <th></th>\n",
       "      <th>School Name</th>\n",
       "      <th>School Type</th>\n",
       "      <th>Grades Served</th>\n",
       "      <th>Summative Designation</th>\n",
       "      <th># Student Enrollment</th>\n",
       "      <th>% Student Enrollment - Black or African American</th>\n",
       "      <th>% Student Enrollment - Hispanic or Latino</th>\n",
       "      <th>% Student Enrollment - Children with Disabilities</th>\n",
       "      <th>% Student Enrollment - Low Income</th>\n",
       "      <th>Total Number of School Days</th>\n",
       "      <th>% 8th Grade Passing Algebra 1</th>\n",
       "      <th>Student Attendance Rate</th>\n",
       "      <th>Student Chronic Truancy Rate</th>\n",
       "      <th>Avg Class Size – All Grades</th>\n",
       "      <th>Teacher Retention Rate</th>\n",
       "    </tr>\n",
       "  </thead>\n",
       "  <tbody>\n",
       "    <tr>\n",
       "      <th>0</th>\n",
       "      <td>Barbour Two-Way Lang Immersion</td>\n",
       "      <td>ELEMENTARY</td>\n",
       "      <td>K 1 2 3 4 5 6 7 8</td>\n",
       "      <td>Commendable</td>\n",
       "      <td>779</td>\n",
       "      <td>6.0</td>\n",
       "      <td>84.3</td>\n",
       "      <td>6.5</td>\n",
       "      <td>72.9</td>\n",
       "      <td>181</td>\n",
       "      <td>0.0</td>\n",
       "      <td>96.1</td>\n",
       "      <td>7.4</td>\n",
       "      <td>26.2</td>\n",
       "      <td>91.4</td>\n",
       "    </tr>\n",
       "    <tr>\n",
       "      <th>1</th>\n",
       "      <td>Galapagos Rockford Charter Sch</td>\n",
       "      <td>CHARTER SCH</td>\n",
       "      <td>K 1 2 3 4 5 6 7 8</td>\n",
       "      <td>Commendable</td>\n",
       "      <td>343</td>\n",
       "      <td>60.1</td>\n",
       "      <td>18.4</td>\n",
       "      <td>16.6</td>\n",
       "      <td>44.3</td>\n",
       "      <td>181</td>\n",
       "      <td>0.0</td>\n",
       "      <td>95.8</td>\n",
       "      <td>29.6</td>\n",
       "      <td>19.1</td>\n",
       "      <td>44.2</td>\n",
       "    </tr>\n",
       "  </tbody>\n",
       "</table>\n",
       "</div>"
      ],
      "text/plain": [
       "                      School Name  School Type       Grades Served  \\\n",
       "0  Barbour Two-Way Lang Immersion   ELEMENTARY   K 1 2 3 4 5 6 7 8   \n",
       "1  Galapagos Rockford Charter Sch  CHARTER SCH   K 1 2 3 4 5 6 7 8   \n",
       "\n",
       "  Summative Designation  # Student Enrollment  \\\n",
       "0           Commendable                   779   \n",
       "1           Commendable                   343   \n",
       "\n",
       "   % Student Enrollment - Black or African American  \\\n",
       "0                                               6.0   \n",
       "1                                              60.1   \n",
       "\n",
       "   % Student Enrollment - Hispanic or Latino  \\\n",
       "0                                       84.3   \n",
       "1                                       18.4   \n",
       "\n",
       "   % Student Enrollment - Children with Disabilities  \\\n",
       "0                                                6.5   \n",
       "1                                               16.6   \n",
       "\n",
       "   % Student Enrollment - Low Income  Total Number of School Days  \\\n",
       "0                               72.9                          181   \n",
       "1                               44.3                          181   \n",
       "\n",
       "   % 8th Grade Passing Algebra 1  Student Attendance Rate  \\\n",
       "0                            0.0                     96.1   \n",
       "1                            0.0                     95.8   \n",
       "\n",
       "   Student Chronic Truancy Rate  Avg Class Size – All Grades  \\\n",
       "0                           7.4                         26.2   \n",
       "1                          29.6                         19.1   \n",
       "\n",
       "   Teacher Retention Rate  \n",
       "0                    91.4  \n",
       "1                    44.2  "
      ]
     },
     "execution_count": 12,
     "metadata": {},
     "output_type": "execute_result"
    }
   ],
   "source": [
    "import pandas as pd\n",
    "import numpy as np\n",
    "import matplotlib.pyplot as plt\n",
    "df=pd.read_excel(\"MiddleSchool.xlsx\")\n",
    "df.head(2)"
   ]
  },
  {
   "cell_type": "markdown",
   "id": "e36fb03d",
   "metadata": {},
   "source": [
    "__1b)__ Display the column names and the number of data rows in each column."
   ]
  },
  {
   "cell_type": "code",
   "execution_count": 13,
   "id": "97eb992f",
   "metadata": {},
   "outputs": [
    {
     "data": {
      "text/plain": [
       "School Name                                          122\n",
       "School Type                                          122\n",
       "Grades Served                                        122\n",
       "Summative Designation                                122\n",
       "# Student Enrollment                                 122\n",
       "% Student Enrollment - Black or African American     122\n",
       "% Student Enrollment - Hispanic or Latino            122\n",
       "% Student Enrollment - Children with Disabilities    122\n",
       "% Student Enrollment - Low Income                    122\n",
       "Total Number of School Days                          122\n",
       "% 8th Grade Passing Algebra 1                        122\n",
       "Student Attendance Rate                              122\n",
       "Student Chronic Truancy Rate                         122\n",
       "Avg Class Size – All Grades                          122\n",
       "Teacher Retention Rate                               122\n",
       "dtype: int64"
      ]
     },
     "execution_count": 13,
     "metadata": {},
     "output_type": "execute_result"
    }
   ],
   "source": [
    "df.count()"
   ]
  },
  {
   "cell_type": "markdown",
   "id": "7e5cb180",
   "metadata": {},
   "source": [
    "__1c__ Get the max and min values in each column."
   ]
  },
  {
   "cell_type": "code",
   "execution_count": 15,
   "id": "60e522ee",
   "metadata": {},
   "outputs": [
    {
     "name": "stdout",
     "output_type": "stream",
     "text": [
      "min enroll 92\n",
      "max enroll 1306\n",
      "min % Student Enrollment - Black or African American 0.2\n",
      "max % Student Enrollment - Black or African American 99.5\n",
      "min % Student Enrollment - Hispanic or Latino 0.5\n",
      "max % Student Enrollment - Hispanic or Latino 99.8\n",
      "min % Student Enrollment - Children with Disabilities 5.8\n",
      "max % Student Enrollment - Children with Disabilities 56.3\n",
      "min % Student Enrollment - Low Income 0.3\n",
      "max % Student Enrollment - Low Income 99.6\n",
      "min Total Number of School Days 174\n",
      "max Total Number of School Days 186\n",
      "min % 8th Grade Passing Algebra 1 0.0\n",
      "max % 8th Grade Passing Algebra 1 100.0\n",
      "min Student Attendance Rate 91.1\n",
      "max Student Attendance Rate 99.7\n",
      "min Student Chronic Truancy Rate 0.0\n",
      "max Student Chronic Truancy Rate 46.2\n",
      "Avg Class Size – All Grades 2.0\n",
      "Avg Class Size – All Grades 31.6\n",
      "Teacher Retention Rate 0.0\n",
      "Teacher Retention Rate 100.0\n"
     ]
    }
   ],
   "source": [
    "n1min=df[\"# Student Enrollment\"].min()\n",
    "n1max=df[\"# Student Enrollment\"].max()\n",
    "n2min=df[\"% Student Enrollment - Black or African American\"].min()\n",
    "n2max=df[\"% Student Enrollment - Black or African American\"].max()\n",
    "n3min=df[\"% Student Enrollment - Hispanic or Latino\"].min()\n",
    "n3max=df[\"% Student Enrollment - Hispanic or Latino\"].max()\n",
    "n4min=df[\"% Student Enrollment - Children with Disabilities\"].min()\n",
    "n4max=df[\"% Student Enrollment - Children with Disabilities\"].max()\n",
    "n5min=df[\"% Student Enrollment - Low Income\"].min()\n",
    "n5max=df[\"% Student Enrollment - Low Income\"].max()\n",
    "n6min=df[\"Total Number of School Days\"].min()\n",
    "n6max=df[\"Total Number of School Days\"].max()\n",
    "n7min=df[\"% 8th Grade Passing Algebra 1\"].min()\n",
    "n7max=df[\"% 8th Grade Passing Algebra 1\"].max()\n",
    "n8min=df[\"Student Attendance Rate\"].min()\n",
    "n8max=df[\"Student Attendance Rate\"].max()\n",
    "n9min=df[\"Student Chronic Truancy Rate\"].min()\n",
    "n9max=df[\"Student Chronic Truancy Rate\"].max()\n",
    "n10min=df[\"Avg Class Size – All Grades\"].min()\n",
    "n10max=df[\"Avg Class Size – All Grades\"].max()\n",
    "n11min=df[\"Teacher Retention Rate\"].min()\n",
    "n11max=df[\"Teacher Retention Rate\"].max()\n",
    "print(\"min enroll\",n1min)\n",
    "print(\"max enroll\",n1max)\n",
    "print(\"min % Student Enrollment - Black or African American\",n2min)\n",
    "print(\"max % Student Enrollment - Black or African American\",n2max)\n",
    "print(\"min % Student Enrollment - Hispanic or Latino\",n3min)\n",
    "print(\"max % Student Enrollment - Hispanic or Latino\",n3max)\n",
    "print(\"min % Student Enrollment - Children with Disabilities\",n4min)\n",
    "print(\"max % Student Enrollment - Children with Disabilities\",n4max)\n",
    "print(\"min % Student Enrollment - Low Income\",n5min)\n",
    "print(\"max % Student Enrollment - Low Income\",n5max)\n",
    "print(\"min Total Number of School Days\",n6min)\n",
    "print(\"max Total Number of School Days\",n6max)\n",
    "print(\"min % 8th Grade Passing Algebra 1\",n7min)\n",
    "print(\"max % 8th Grade Passing Algebra 1\",n7max)\n",
    "print(\"min Student Attendance Rate\",n8min)\n",
    "print(\"max Student Attendance Rate\",n8max)\n",
    "print(\"min Student Chronic Truancy Rate\",n9min)\n",
    "print(\"max Student Chronic Truancy Rate\",n9max)\n",
    "print(\"Avg Class Size – All Grades\",n10min)\n",
    "print(\"Avg Class Size – All Grades\",n10max)\n",
    "print(\"Teacher Retention Rate\",n11min)\n",
    "print(\"Teacher Retention Rate\",n11max)\n"
   ]
  },
  {
   "cell_type": "markdown",
   "id": "317115e9",
   "metadata": {},
   "source": [
    "__1d__ Check how many schools are in each category."
   ]
  },
  {
   "cell_type": "code",
   "execution_count": 16,
   "id": "fc06fb40",
   "metadata": {},
   "outputs": [
    {
     "data": {
      "text/plain": [
       "Commendable      102\n",
       "Targeted           8\n",
       "Exemplary          6\n",
       "Comprehensive      6\n",
       "Name: Summative Designation, dtype: int64"
      ]
     },
     "execution_count": 16,
     "metadata": {},
     "output_type": "execute_result"
    }
   ],
   "source": [
    "df[\"Summative Designation\"].value_counts()"
   ]
  },
  {
   "cell_type": "markdown",
   "id": "db08abbd",
   "metadata": {},
   "source": [
    "__STEP TWO__\n",
    "Define a function which predicts whether a school is exemplary (1) or not-exemplary (0)."
   ]
  },
  {
   "cell_type": "markdown",
   "id": "68f45acd",
   "metadata": {},
   "source": [
    "__2a__ For a simple prediction, let us predict that a school is exemplary if the Teacher Retention Rate is at least 90%."
   ]
  },
  {
   "cell_type": "code",
   "execution_count": 17,
   "id": "9ea6ccff",
   "metadata": {},
   "outputs": [
    {
     "name": "stdout",
     "output_type": "stream",
     "text": [
      "|TP|= 5\n",
      "|TN|= 70\n",
      "|FP|= 46\n",
      "|FN|= 1\n",
      "Accuracy (% correct all 122 schools)= 61.0 %\n",
      "Precision (% correct of those you predicted to be exemplary) = 10.0 %\n",
      "Recall (% correct of schools that are exemplary) = 83.0 %\n",
      "COMPETITION F1 SCORE= 17.85 %\n"
     ]
    }
   ],
   "source": [
    "#---PREDICTION MODEL----#\n",
    "def mypredict(df):\n",
    "    for i in df.index:\n",
    "        if df.loc[i,\"Teacher Retention Rate\"]>90:\n",
    "            df.loc[i,\"Prediction\"]=1\n",
    "        else:\n",
    "            df.loc[i,\"Prediction\"]=0\n",
    "    return df\n",
    "\n",
    "#---APPLY MODEL TO OUR DATA---#\n",
    "mydf=mypredict(df)\n",
    "mydf=mydf.reset_index(drop=True)\n",
    "\n",
    "#---COMPUTE YOUR SCORE---#\n",
    "TP=0\n",
    "TN=0\n",
    "FP=0\n",
    "FN=0\n",
    "numschools=0\n",
    "for i in mydf.index:\n",
    "    if mydf.loc[i,\"Prediction\"]==1 and mydf.loc[i,\"Summative Designation\"]==\"Exemplary\":\n",
    "        TP=TP+1\n",
    "    if mydf.loc[i,\"Prediction\"]==0 and mydf.loc[i,\"Summative Designation\"]!=\"Exemplary\":\n",
    "        TN=TN+1\n",
    "    if mydf.loc[i,\"Prediction\"]==1 and mydf.loc[i,\"Summative Designation\"]!=\"Exemplary\":\n",
    "        FP=FP+1\n",
    "    if mydf.loc[i,\"Prediction\"]==0 and mydf.loc[i,\"Summative Designation\"]==\"Exemplary\":\n",
    "        FN=FN+1\n",
    "    numschools=numschools+1\n",
    "print(\"|TP|=\",TP)\n",
    "print(\"|TN|=\",TN)\n",
    "print(\"|FP|=\",FP)\n",
    "print(\"|FN|=\",FN)\n",
    "accuracy=round((TP+TN)/numschools,2)\n",
    "precision=round(TP/(TP+FP),2)\n",
    "recall=round(TP/(TP+FN),2)\n",
    "F1score=2*(precision*recall)/(precision+recall)\n",
    "print(\"Accuracy (% correct all 122 schools)=\",100*accuracy,\"%\")\n",
    "print(\"Precision (% correct of those you predicted to be exemplary) =\",100*precision,\"%\")\n",
    "print(\"Recall (% correct of schools that are exemplary) =\",100*recall,\"%\")\n",
    "print('COMPETITION F1 SCORE=',round(F1score*100,2),\"%\" )\n",
    "    "
   ]
  },
  {
   "cell_type": "markdown",
   "id": "0e9dfcef",
   "metadata": {},
   "source": [
    "## Assignment"
   ]
  },
  {
   "cell_type": "markdown",
   "id": "328d92c1",
   "metadata": {},
   "source": [
    ":::{admonition} Assignment\n",
    "\n",
    "Modify the Prediction Model to see how high you can score.\n",
    "\n",
    ":::"
   ]
  }
 ],
 "metadata": {
  "celltoolbar": "Edit Metadata",
  "kernelspec": {
   "display_name": "Python 3",
   "language": "python",
   "name": "python3"
  },
  "language_info": {
   "codemirror_mode": {
    "name": "ipython",
    "version": 3
   },
   "file_extension": ".py",
   "mimetype": "text/x-python",
   "name": "python",
   "nbconvert_exporter": "python",
   "pygments_lexer": "ipython3",
   "version": "3.8.8"
  }
 },
 "nbformat": 4,
 "nbformat_minor": 5
}
