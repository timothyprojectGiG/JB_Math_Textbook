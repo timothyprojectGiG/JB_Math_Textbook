{
 "cells": [
  {
   "cell_type": "markdown",
   "id": "0574c504-8b8d-4a22-bf89-4ffe0aad0df2",
   "metadata": {},
   "source": [
    "# Introduction"
   ]
  },
  {
   "cell_type": "markdown",
   "id": "7dd33bc1-3da1-432a-8caf-fb4bd4164c59",
   "metadata": {},
   "source": [
    "This chapter is a compilation of pre-college and general education level material intended to introduce students to JNBs and basic principles of programming. The sections include topics such as:\n",
    "- Blackboard Problems: these examples are designed as an overview of basic mathematical operations for early learners;\n",
    "- Beginning Python Programming: this section details how to use JNPs and familiarizes students with basic programming principles and terminology;\n",
    "- Glimpse of Chicago: this material was first developed as a lab/lesson for middle and high school students in after school programs in Chicago to learn the basics of how to use JNBs;\n",
    "- Arts in Steam: similar to the last section, this section seeks to provide an overview of the functionality of JNBs by combining their use in stem with various artistic interests (music, image editing, graphical design) to attempt to help interest students who may not otherwise have much interest in programming; and\n",
    "- JNB LAB- After-School Program Demo: this serves as a comprehensive lab that students can work through after having completed the previous material that introduced them to JNBs."
   ]
  }
 ],
 "metadata": {
  "kernelspec": {
   "display_name": "Python 3 (ipykernel)",
   "language": "python",
   "name": "python3"
  },
  "language_info": {
   "codemirror_mode": {
    "name": "ipython",
    "version": 3
   },
   "file_extension": ".py",
   "mimetype": "text/x-python",
   "name": "python",
   "nbconvert_exporter": "python",
   "pygments_lexer": "ipython3",
   "version": "3.11.3"
  }
 },
 "nbformat": 4,
 "nbformat_minor": 5
}
