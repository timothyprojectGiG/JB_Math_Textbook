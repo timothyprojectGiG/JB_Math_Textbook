{
 "cells": [
  {
   "cell_type": "markdown",
   "id": "0574c504-8b8d-4a22-bf89-4ffe0aad0df2",
   "metadata": {},
   "source": [
    "# Introduction"
   ]
  },
  {
   "cell_type": "markdown",
   "id": "7dd33bc1-3da1-432a-8caf-fb4bd4164c59",
   "metadata": {},
   "source": [
    "The following section is a compilation of Pre-College level material intended to introduce students to JNBs and basic principles of programming. The sections include topics such as:\n",
    "- Blackboard Problems: these examples are designed as an overview of basic mathematical operations for early learners\n",
    "- Beginning Python Programming: This section details how to use JNPs and familiarizes students with basic programming principles and terminology\n",
    "- Glimpse of Chicago: This was developed as a lab/lesson for middle school students in an after school program to learn the basics of how to use JNBs\n",
    "- Arts in Steam: Similar to the last section, this section seeks to provide an overview of the functionality of JNBs by combining their use in stem with various artistic interests (music, image editing) to attempt to help interest students who may not otherwise have much interest in programming\n",
    "- JNB LAB- After-School Program Demo: This serves as a comprehensive lab that students can work through after having completed the previous material that introduced them to JNBs"
   ]
  },
  {
   "cell_type": "code",
   "execution_count": null,
   "id": "0af8324c-bfef-4dfa-99c9-b9a4413ba8f1",
   "metadata": {},
   "outputs": [],
   "source": []
  }
 ],
 "metadata": {
  "kernelspec": {
   "display_name": "Python 3 (ipykernel)",
   "language": "python",
   "name": "python3"
  },
  "language_info": {
   "codemirror_mode": {
    "name": "ipython",
    "version": 3
   },
   "file_extension": ".py",
   "mimetype": "text/x-python",
   "name": "python",
   "nbconvert_exporter": "python",
   "pygments_lexer": "ipython3",
   "version": "3.11.7"
  }
 },
 "nbformat": 4,
 "nbformat_minor": 5
}
