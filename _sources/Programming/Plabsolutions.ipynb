{
 "cells": [
  {
   "cell_type": "markdown",
   "metadata": {},
   "source": [
    "# JNB Lab Solutions"
   ]
  },
  {
   "cell_type": "markdown",
   "metadata": {},
   "source": [
    "```{index} polynomial functions\n",
    "```"
   ]
  },
  {
   "cell_type": "markdown",
   "metadata": {},
   "source": [
    "```{index} recursive algorithms\n",
    "```"
   ]
  },
  {
   "cell_type": "markdown",
   "metadata": {},
   "source": [
    "**Exercise 1.1**"
   ]
  },
  {
   "cell_type": "code",
   "execution_count": null,
   "metadata": {},
   "outputs": [],
   "source": [
    "def evaluate_polynomial(coeffients, x) :\n",
    "    assert len(coefficients) > 0\n",
    "    if len(coefficients) == 1 : \n",
    "        return coefficients[0]\n",
    "    else :\n",
    "        return evaluate_polynomial(coefficients[:-1],x) + coefficients[-1] * x**len(coefficients)"
   ]
  },
  {
   "cell_type": "markdown",
   "metadata": {},
   "source": [
    "**Exercise 1.2**"
   ]
  },
  {
   "cell_type": "markdown",
   "metadata": {},
   "source": [
    "Treating the product of an empty list as 1 makes the recursion work. If the base case returned 0, then all other products would be 0."
   ]
  },
  {
   "cell_type": "markdown",
   "metadata": {},
   "source": [
    "```{index} python list comprehensions\n",
    "```"
   ]
  },
  {
   "cell_type": "markdown",
   "metadata": {},
   "source": [
    "**Exercise 2.1**"
   ]
  },
  {
   "cell_type": "code",
   "execution_count": null,
   "metadata": {},
   "outputs": [],
   "source": [
    "def evaluate_polynomial(coeffients, x) :\n",
    "    assert len(coefficients) > 0\n",
    "    return sum([coefficients[i] * x**i for i in range(len(coefficients))])"
   ]
  },
  {
   "cell_type": "markdown",
   "metadata": {},
   "source": [
    "**Exercise 2.2**"
   ]
  },
  {
   "cell_type": "markdown",
   "metadata": {},
   "source": [
    "$\\mathbb{Z}_{n+1}$ includes $n$ itself, which $\\mathbb{Z}_n$ doesn't. Moreover, $n$ is a valid index to the list of coefficients. Mathematically, $\\mathbb{Z}_{n+1}$ is equivalent to `range(len(coefficients))` in code, since\n",
    "the length of the list (which is also the number of coefficients) is one more than the degree of the polynomial."
   ]
  },
  {
   "cell_type": "markdown",
   "metadata": {},
   "source": [
    "```{index} Horner's rule\n",
    "```"
   ]
  },
  {
   "cell_type": "markdown",
   "metadata": {},
   "source": [
    "**Exercise 3.1**"
   ]
  },
  {
   "cell_type": "code",
   "execution_count": null,
   "metadata": {},
   "outputs": [],
   "source": [
    "def evaluate_polynomial(coefficients, x) :\n",
    "    result = 0\n",
    "    for i in reversed(range(len(coefficients))) :\n",
    "        result = coefficients[i] + x * result\n",
    "    return result"
   ]
  },
  {
   "cell_type": "markdown",
   "metadata": {},
   "source": [
    "**Exercise 3.2**"
   ]
  },
  {
   "cell_type": "code",
   "execution_count": null,
   "metadata": {},
   "outputs": [],
   "source": [
    "def evaluate_polynomial(coefficients, x) :\n",
    "    assert len(coefficients) > 0\n",
    "    if len(coefficients == 1) :\n",
    "        return coefficients[0]\n",
    "    else :\n",
    "        return coefficients[0] + x * evaluate_polynomial(coefficients[1:], x)"
   ]
  },
  {
   "cell_type": "markdown",
   "metadata": {},
   "source": [
    "**Exercise 3.3**"
   ]
  },
  {
   "cell_type": "markdown",
   "metadata": {},
   "source": [
    "$n-1$."
   ]
  },
  {
   "cell_type": "markdown",
   "metadata": {},
   "source": [
    "**Exercise 4.1**"
   ]
  },
  {
   "cell_type": "code",
   "execution_count": null,
   "metadata": {},
   "outputs": [],
   "source": [
    "def differentiate_polynomial(coefficients) :\n",
    "    return [coefficients[i]/i for i in range(1,len(coefficients))]\n"
   ]
  },
  {
   "cell_type": "markdown",
   "metadata": {},
   "source": [
    "**Exercise 4.2**"
   ]
  },
  {
   "cell_type": "code",
   "execution_count": null,
   "metadata": {},
   "outputs": [],
   "source": [
    "def integrate_polynomial_indef(coefficients) :\n",
    "    # 17.0 is an arbitrary constant. Happy Cicada Brood XIII Year, 2024\n",
    "    return [17.0] + [coefficients[i]/(i+1) for i in range(len(coefficients))]"
   ]
  },
  {
   "cell_type": "markdown",
   "metadata": {},
   "source": [
    "**Exercise 4.3**"
   ]
  },
  {
   "cell_type": "code",
   "execution_count": null,
   "metadata": {},
   "outputs": [],
   "source": [
    "def integrate_polynomial_def(coefficients, a, b) :\n",
    "    antideriv = integrate_polynomial_indef(coefficients)\n",
    "    return evaluate_polynomial(antideriv, b) - evaluate_polynomial(antideriv, a)"
   ]
  },
  {
   "cell_type": "markdown",
   "metadata": {},
   "source": [
    "```{index} classes\n",
    "```"
   ]
  },
  {
   "cell_type": "markdown",
   "metadata": {},
   "source": [
    "**Exercise 5.1**"
   ]
  },
  {
   "cell_type": "code",
   "execution_count": null,
   "metadata": {},
   "outputs": [],
   "source": [
    "class Polynomial :\n",
    "    def __init__(self, coeffs) :\n",
    "        self.coefficients = coeffs.copy()\n",
    "        \n",
    "    def __call__(self, x) :\n",
    "        result = 0\n",
    "        x_pow = 1 # This is always x^i; it's the power of x for the next iterations\n",
    "        for i in range(len(self.coefficients)) :\n",
    "            result += self.coefficients[i] * x_pow\n",
    "            x_pow *= x\n",
    "        return result\n",
    "    \n",
    "    def degree(self) :\n",
    "        return len(self.coefficients)-1\n",
    "\n",
    "    # Another special function, this one makes a nice string representation\n",
    "    # of the object\n",
    "    def __str__(self) :\n",
    "        if len(self.coefficients) == 0 :\n",
    "            return '0.0'\n",
    "        else :\n",
    "            to_return = str(self.coefficients[0]) \n",
    "            for i in range(1, len(self.coefficients)) :\n",
    "                to_return += ' + ' + str(self.coefficients[i]) + 'x'\n",
    "                if i > 1 :\n",
    "                    to_return += '^' + str(i)\n",
    "            return to_return\n",
    "            \n",
    "    \n",
    "    # The next three are for the exercises\n",
    "    def differentiate(self) :\n",
    "        return Polynomial([self.coefficients[i]/i for i in range(1,len(self.coefficients))])    \n",
    "    \n",
    "    def integrate_indef(self) :\n",
    "        return Polynomial([17.0] + [self.coefficients[i]/(i+1) for i in range(len(selfcoefficients))])\n",
    "    \n",
    "    def integrate_def(self, a, b) :\n",
    "        antideriv = self.integrate_indef()\n",
    "        return antideriv(b) - antiderive(a)\n"
   ]
  },
  {
   "cell_type": "code",
   "execution_count": null,
   "metadata": {},
   "outputs": [],
   "source": []
  }
 ],
 "metadata": {
  "kernelspec": {
   "display_name": "Python 3 (ipykernel)",
   "language": "python",
   "name": "python3"
  },
  "language_info": {
   "codemirror_mode": {
    "name": "ipython",
    "version": 3
   },
   "file_extension": ".py",
   "mimetype": "text/x-python",
   "name": "python",
   "nbconvert_exporter": "python",
   "pygments_lexer": "ipython3",
   "version": "3.11.7"
  }
 },
 "nbformat": 4,
 "nbformat_minor": 4
}
