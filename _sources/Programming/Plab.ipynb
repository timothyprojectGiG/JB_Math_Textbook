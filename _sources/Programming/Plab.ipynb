{
 "cells": [
  {
   "cell_type": "markdown",
   "metadata": {},
   "source": [
    "# JNB Lab: Introduction to Python"
   ]
  },
  {
   "cell_type": "markdown",
   "metadata": {},
   "source": [
    "This lab accompanies the chapter \"Introduction to Python.\" The goal of this lab is to discover a sampling of Python features and programming concepts by way of example. The concepts covered in this lab are\n",
    "\n",
    "- Recursive algorithms\n",
    "- Python list comprehensions\n",
    "- Optimization by way of mathematical transformation\n",
    "- Programming as data plus operations\n",
    "- Classes\n",
    "\n",
    "The running example on which we hang these concepts is modeling a polynomial function, that is,\n",
    "a function in the form of \n",
    "\n",
    "$$\n",
    "f(x) = c_0 + c_1 x + c_2 x^2 + \\cdots c_n x^n = \\sum_{i=0}^{n} c_i x^i\n",
    "$$\n",
    "\n",
    "for example, $f(x) = 3 + 4x - 7x^2 + 5x^3$.\n",
    "\n",
    "In the chapter itself, we suggested that a function like this can be represented by a list of coeffiencients---in this case, `[3.0, 4.0, -7.0, 5.0]`. Think for a moment about this idea of *representation*: We have taken the essential information from the abstract concept of a polynomial function and reduced it to a form such that that information can be stored in a Python type. The number of terms---the *degree* of the polynomial---can be determined by the length of the list, and each coefficient's position in the list indicates the power of $x$ that the coefficient corresponds to. If there is any power of $x$ for which this polynomial doesn't have a term, we can represent that with a `0.0` in the corresponding position in the list. But it this list doesn't act like a function---you cannot apply it to a specific value of $x$. Instead, we need to have separate Python functions to compute anything about this polynomial function.\n",
    "\n",
    "\n",
    "In the section we saw the following function for evaluating a polynomial represented \n",
    "as a list of coefficients"
   ]
  },
  {
   "cell_type": "code",
   "execution_count": null,
   "metadata": {},
   "outputs": [],
   "source": [
    "def evaluate_polynomial(coefficients, x) :\n",
    "    result = 0\n",
    "    for i in range(len(coefficients)) :\n",
    "        result += coefficients[i] * x**i\n",
    "    return result\n"
   ]
  },
  {
   "cell_type": "markdown",
   "metadata": {},
   "source": [
    "This lab steps you through variations on this function."
   ]
  },
  {
   "cell_type": "markdown",
   "metadata": {},
   "source": [
    "## Doing it recursively\n",
    "\n",
    "*Recursion* is defining something in terms of a smaller version of itself. Many things in both math and computation afford simple self-referential definitions. The trick is to identify a part that is similar to a whole. Consider polynomials---notice that in our example, the terms $3 + 4x - 7x^2$ by themselves make a polynomial. Suppose we define $g(x) = 3 + 4x - 7x^2$, then our original function $f$ can be rewritten as\n",
    "\n",
    "$$\n",
    "f(x) = g(x) + 5x^3\n",
    "$$\n",
    "\n",
    "...that is, a (smaller) polynomial plus the term of degree 3. In general, a polynomial of degree $n \\geq 0$ is\n",
    "\n",
    "$$\n",
    "f(x) = \\left\\{\\begin{array}{lll}\n",
    "c_0 & \\mbox{for some constant $c_0$} & \\mbox{if $n=0$}\\\\\n",
    "\\hat{f}(x) + c_n x^n & \\mbox{for some polynomial $\\hat{f}$ of degree $n-1$ and constant $c_n$} & \\mbox{otherwise}\n",
    "\\end{array}\\right.\n",
    "$$\n",
    "\n",
    "For a given list, such as one storing the coefficients of a polynomial, we can grab *all but the last* element\n",
    "using slicing and negative indexing:"
   ]
  },
  {
   "cell_type": "code",
   "execution_count": null,
   "metadata": {},
   "outputs": [],
   "source": [
    "coeffs = [3.0, 4.0, -7.0, 5.0]\n",
    "print(coeffs)\n",
    "print(coeffs[:-1])"
   ]
  },
  {
   "cell_type": "markdown",
   "metadata": {},
   "source": [
    "(Notice that the *degree* of the polynomial and the *length* of the list representing the polynomial are not equal. Rather, the length of the list, or the number of coefficients, is one greater than the degree. A zero-degree polynomial has one coefficient, namely the constant term; a list representing a zero-degree polynomial has length one, since it contains only that constant. Moreover, the degree of the polynomial is a valid index into the list of coefficients, since a polynomial of degree $n$ has an $n$th coefficient.)\n",
    "\n",
    "\n",
    "Thus we have a conceptual way to evaluate a polynomial in terms of evaluating a smaller polynomial,\n",
    "and we know how to extract a smaller polynomial from one given as a list. We have the makings of a recursive process for polynomial evaluation. What we still need is a sense of how to make a recursive function in code.\n",
    "Let's pause this problem and try a simpler one: Suppose we want to compute the result of multiplying\n",
    "all the elements in a list together, which we might call the *product* of a list. Python has a built-in function `sum` which takes a list and computes the sum of all the elements in that list, but it doesn't have a similar built-in `product` function for lists. We'll need to write it ourselves. But notice that the product of all the elmements in a listis equal to the product of all but the last element followed by multiplying that last element with the product of the rest. What we need to check for is whether the list is empty, in which case the list elments have a default product of 1."
   ]
  },
  {
   "cell_type": "code",
   "execution_count": null,
   "metadata": {},
   "outputs": [],
   "source": [
    "def product(xx) :\n",
    "    if len(xx) == 0:\n",
    "        return 1\n",
    "    else :\n",
    "        return product(xx[:-1]) * xx[-1]"
   ]
  },
  {
   "cell_type": "code",
   "execution_count": null,
   "metadata": {},
   "outputs": [],
   "source": [
    "product([2, 4, 3, 9])"
   ]
  },
  {
   "cell_type": "markdown",
   "metadata": {},
   "source": [
    "We call the special case where we can find the answer directly the *base case*, and the case where the function calls itself the *recursive case*. To follow how this works, inspect this revision that includes tracing code so that we can follow how the function executes."
   ]
  },
  {
   "cell_type": "code",
   "execution_count": null,
   "metadata": {},
   "outputs": [],
   "source": [
    "def product(xx, original_length) :\n",
    "    indent = '  ' * (original_length-len(xx))\n",
    "    print(indent + \"product called with \" + str(xx))\n",
    "    if len(xx) == 0:\n",
    "        result = 1\n",
    "    else :\n",
    "        result =  product(xx[:-1], original_length) * xx[-1]\n",
    "    print(indent + \"returning with result \" + str(result))\n",
    "    return result"
   ]
  },
  {
   "cell_type": "code",
   "execution_count": null,
   "metadata": {},
   "outputs": [],
   "source": [
    "product([2, 4, 3, 9], 4)"
   ]
  },
  {
   "cell_type": "markdown",
   "metadata": {},
   "source": [
    "However, this \"traced\" version is just to build your intuition (and faith) about how recursion works. This is not the mental model you should have when thinking about recursive algorithms. Instead, your attention should be on $f(x) = \\hat{f}(x) + c_n x^n$, that is, how to relate a (bigger) problem in terms of a (smaller) problem. "
   ]
  },
  {
   "cell_type": "markdown",
   "metadata": {},
   "source": [
    "### Exercises"
   ]
  },
  {
   "cell_type": "markdown",
   "metadata": {},
   "source": [
    "<b>1.1</b>\n",
    "\n",
    "Write a new version of the Python function `evaluate_polynomial` that does not use a while loop but instead uses recursion. A stub for this function is given below. You may assume that the minimum size of the list is 1, which is checked by an assertion in the stub:"
   ]
  },
  {
   "cell_type": "code",
   "execution_count": null,
   "metadata": {},
   "outputs": [],
   "source": [
    "def evaluate_polynomial(coeffients, x) :\n",
    "    assert len(coefficients) > 0\n",
    "    # Add code here"
   ]
  },
  {
   "cell_type": "markdown",
   "metadata": {},
   "source": [
    "<b>1.2</b>\n",
    "\n",
    "In the function `product`, why is the product of an empty list 1 instead of 0?"
   ]
  },
  {
   "cell_type": "markdown",
   "metadata": {},
   "source": [
    "## Doing it by comprehension"
   ]
  },
  {
   "cell_type": "markdown",
   "metadata": {},
   "source": [
    "Although recusion is a useful tool of abstraction that allows us to simplify many algorithmic tasks, neither the recursive version nor the original iterative (i.e., \"using a loop\") version of `evaluate_polynomial` follows the native Python idiom for identifying patterns that can be expressed compactly, like what we have in the mathematical formula for a polynomial. For that, we need to use a Python construct called a *list comprehension*, which allows us to make a new list using a pattern.\n",
    "\n",
    "Python comprehensions are modeled after mathematical notation used to specify a sequence. Consider the sequence of powers of two:\n",
    "\n",
    "$$\n",
    "1, 2, 4, 8, 16, 32, \\ldots\n",
    "$$\n",
    "\n",
    "In this we're considering the first item in the sequence to be $2^0 = 1$, which plays well with zero-based indexing. Now, instead of listing the elements in the sequence, we can specify this sequence using a pattern:\n",
    "\n",
    "$$\n",
    "2^i \\ \\mbox{for $i \\in \\mathbb{W}$}\n",
    "$$\n",
    "\n",
    "where $\\mathbb{W}$ stands for *whole numbers*, that is, non-negative integers. This is an infinite sequence, but we can specify a finite portion of it by setting an upper bound for $i$. We let $\\mathbb{Z}_n$ stand for nonnegative integers less than $n$, for example $\\mathbb{Z}_5 = \\{ 0, 1, 2, 3, 4 \\}$. Now we can say\n",
    "\n",
    "$$\n",
    "2^i \\ \\mbox{for $i \\in \\mathbb{Z}_8$} = 1, 2, 4, 8, 16, 32, 64, 128\n",
    "$$\n",
    "\n",
    "We express the same idea in Python:"
   ]
  },
  {
   "cell_type": "code",
   "execution_count": null,
   "metadata": {},
   "outputs": [],
   "source": [
    "[2**i for i in range(8)]"
   ]
  },
  {
   "cell_type": "markdown",
   "metadata": {},
   "source": [
    "So far we have seen how to produce the items in a sequence using a comprehension. It is only one step further to turn this into a summation: Use the built-in Python function `sum` alluded to above."
   ]
  },
  {
   "cell_type": "code",
   "execution_count": null,
   "metadata": {},
   "outputs": [],
   "source": [
    "sum([2**i for i in range(8)])"
   ]
  },
  {
   "cell_type": "markdown",
   "metadata": {},
   "source": [
    "Turning back to our running example, we notice that the terms in a polynomial are just the elements in a sequence specified by the pattern $c_i x^i$ for $i \\in \\mathbb{Z}_{n+1}$ where $n$ is the degree of the polynomial. "
   ]
  },
  {
   "cell_type": "markdown",
   "metadata": {},
   "source": [
    "### Exercises"
   ]
  },
  {
   "cell_type": "markdown",
   "metadata": {},
   "source": [
    "<b>2.1</b>\n",
    "\n",
    "Write new version of the Python function `evaluate_polynomial` that uses neither loop nor recursion\n",
    "but instead uses `sum` and a list comprehension. A stub for this function is given below. As before, you may assume that the minimum size of the list is 1."
   ]
  },
  {
   "cell_type": "code",
   "execution_count": null,
   "metadata": {},
   "outputs": [],
   "source": [
    "def evaluate_polynomial(coeffients, x) :\n",
    "    assert len(coefficients) > 0\n",
    "    # Add code here"
   ]
  },
  {
   "cell_type": "markdown",
   "metadata": {},
   "source": [
    "**2.2**\n",
    "\n",
    "When we specified the terms of a polynomial by a pattern, why did we say \"for $i \\in \\mathbb{Z}_{n+1}$\" instead of\n",
    "\"for $i \\in \\mathbb{Z}_{n}$\"?"
   ]
  },
  {
   "cell_type": "markdown",
   "metadata": {},
   "source": [
    "## Doing it efficiently: Horner's rule\n",
    "\n",
    "In the section \"Thinking through Algorithms\", we considered not only what an algorithm does, but how efficiently it does it, which we measured by counting how many steps the algorithm took in terms of the size of the input. We can measure the computational cost of these algorithsm for evaluating a polynomial by counting the number of multiplications, which we'll use as a proxy for the entire cost. \n",
    "\n",
    "For the $i$th term, $c_i x^i$, we perform $i$ multiplications. For example, \n",
    "$3 x^4 = 3 \\cdot x  \\cdot x  \\cdot x  \\cdot x$. This means that in terms of the degree of the polynomial $n$, the number of multiplications is an arithmetic sum, $0 + 1 + 2 + \\cdots n$, which is *quadratic* in $n$:\n",
    "\n",
    "$$\n",
    "\\sum_{i = 0}^n = 0 + 1 + 2 + \\cdots + n = \\frac{(n+1) n}{2} = \\frac{1}{2}(n^2 + n)\n",
    "$$\n",
    "\n",
    "All of our solutions so far have the same cost by this measure, because they all perform the same multiplications.\n",
    "(This is assuming that the Python `**` operator simply does a sequence of multiplications---which is not true but is still a reasonable model for our present purposes.)\n",
    "But, one might suppose, aren't those multiplications inherent to the problem? Surely we can't reduce that cost?\n",
    "\n",
    "In fact, we can write an algorithm for evaluating polynomials that performs fewer multiplications, and the first insight into how is to notice that our algorithms so far have all done redundant work when computing the powers of $x$. For example, if one of our algorithms needs to compute $x^4$, it does it from scratch. However, on a previous step they had already computed $x^3$, prior work that the algorithm fails to capitalize on.\n",
    "\n",
    "We can rewrite our original, iterative version so that it saves its exponentation work from the previous iteration and eliminate this unnecessary work:\n",
    "\n"
   ]
  },
  {
   "cell_type": "code",
   "execution_count": null,
   "metadata": {},
   "outputs": [],
   "source": [
    "def evaluate_polynomial(coefficients, x) :\n",
    "    result = 0\n",
    "    x_pow = 1 # This is always x^i; it's the power of x for the next iterations\n",
    "    for i in range(len(coefficients)) :\n",
    "        result += coefficients[i] * x_pow\n",
    "        x_pow *= x\n",
    "    return result\n"
   ]
  },
  {
   "cell_type": "markdown",
   "metadata": {},
   "source": [
    "But there is also a way we can manipulate the formula algebraically to achieve this. We repeatedly pull out a factor of $x$ from portions of the polynomial:\n",
    "\n",
    "$$\n",
    "\\begin{array}{rcl}\n",
    "c_0 + c_1 x + c_2 x^2 + c_3 x^3 + \\cdots c_{n-1} x^{n-1} + c_n x^n & = &\n",
    "c_0 + x(c_1 + c_2 x + c_3 x^2+ \\cdots c_{n-1} x^{n-2} + c_n x^{n-1}) \\\\\n",
    "& = & c_0 + x(c_1 + x (c_2  + c_3 x+ \\cdots c_{n-1} x^{n-3} + c_n x^{n-2})) \\\\\n",
    "& = & c_0 + x(c_1 + x (c_2  + x(c_3 + \\cdots c_{n-1} x^{n-4} + c_n x^{n-3})) \\\\\n",
    "& \\vdots & \\\\\n",
    "& = & c_0 + x(c_1 + x (c_2  + x(c_3 + x(\\cdots x(c_{n-1} + x (c_n)) \\cdots))))\n",
    "\\end{array}\n",
    "$$\n",
    "\n",
    "This formula is known as **Horner's Rule**. "
   ]
  },
  {
   "cell_type": "markdown",
   "metadata": {},
   "source": [
    "**Exercises**"
   ]
  },
  {
   "cell_type": "markdown",
   "metadata": {},
   "source": [
    "**3.1** \n",
    "\n",
    "Finish the following Python function to implement `evaluate_polynomial` using Horner's Rule *iteratively*. Notice that the loop in the given code counts *down* from $n$ using variable `i`. For each step in the process, we execute a piece of the formula in the form of \n",
    "\n",
    "$$\n",
    "c_i + x( \\mbox{result so far} )\n",
    "$$"
   ]
  },
  {
   "cell_type": "code",
   "execution_count": null,
   "metadata": {},
   "outputs": [],
   "source": [
    "def evaluate_polynomial(coefficients, x) :\n",
    "    result = 0\n",
    "    for i in reversed(range(len(coefficients))) :\n",
    "        # add code here\n",
    "    return result"
   ]
  },
  {
   "cell_type": "markdown",
   "metadata": {},
   "source": [
    "**3.2**\n",
    "\n",
    "Write another version of `evaluate_polynomial` that uses Horner's rule *recursively*. To catch the recursive structure of this problem, look again at the first step that we took when factoring:\n",
    "\n",
    "$$\n",
    "\\begin{array}{rcl}\n",
    "c_0 + c_1 x + c_2 x^2 + c_3 x^3 + \\cdots c_{n-1} x^{n-1} + c_n x^n & = &\n",
    "c_0 + x(c_1 + c_2 x + c_3 x^2+ \\cdots c_{n-1} x^{n-2} + c_n x^{n-1}) \\\\\n",
    "\\end{array}\n",
    "$$\n",
    "\n",
    "Notice that $c_1 + c_2 x + c_3 x^2+ \\cdots c_{n-1} x^{n-2} + c_n x^{n-1}$ is itself a polynomial.\n",
    "It has degree $n-1$. We can retrieve that (sub-)polynomial from a list that represents the larger polynomial, grab the slice beginning at index 1. As before, we provide a stub:"
   ]
  },
  {
   "cell_type": "code",
   "execution_count": null,
   "metadata": {},
   "outputs": [],
   "source": [
    "def evaluate_polynomial(coefficients, x) :\n",
    "    assert len(coefficients) > 0\n",
    "    # add code here"
   ]
  },
  {
   "cell_type": "markdown",
   "metadata": {},
   "source": [
    "**3.3**\n",
    "\n",
    "How many multiplications does Horner's rule perform when given a polynomial with degree $n$?"
   ]
  },
  {
   "cell_type": "markdown",
   "metadata": {},
   "source": [
    "## Making other operations (requires calculus)\n",
    "\n",
    "Programming is about representing information and making operations to, well, operate on that information. We have been using a list of coefficients to represent information about polynomials, and we have one operation that we have implemented several ways.\n",
    "However, *evaluating* mathematical functions is not the only thing we ever want to do with them. From calculus, we know that we can also differentiate or integrate a function. Remember that for a polynomial in the form we have been using, its derivative is\n",
    "\n",
    "$$\n",
    "f'(x) = c_1 + 2 \\cdot c_2 x + 3 \\cdot c_3 x^2 + \\cdots + n \\cdot c_n x^{n-1}\n",
    "$$\n",
    "\n",
    "The indefinite integral (or antiderivative) is (with arbitrary constant $c^\\ast$)\n",
    "\n",
    "$$\n",
    "F(x) = c^\\ast + c_0 x + \\frac{1}{2} c_1 x^2 + \\frac{1}{3} c_2 x^3 + \\frac{1}{4}c_3 x^4 + \\cdots + \n",
    "\\frac{1}{n+1} c_n x^{n+1}\n",
    "$$\n",
    "\n",
    "The definite integral from $a$ to $b$ is\n",
    "\n",
    "$$\n",
    "\\int_a^b f(x) \\, dx = F(b) - F(a)\n",
    "$$\n",
    "\n",
    "Using this refresher, we proceed directly to the...\n"
   ]
  },
  {
   "cell_type": "markdown",
   "metadata": {},
   "source": [
    "### Exercises"
   ]
  },
  {
   "cell_type": "markdown",
   "metadata": {},
   "source": [
    "**4.1** \n",
    "\n",
    "Finish the following Python function to compute the derivative of a given polynomial, represented as a list of coefficients. Notice that this function should return another polynomial, represented as a list. Use a list comprehension to do this."
   ]
  },
  {
   "cell_type": "code",
   "execution_count": null,
   "metadata": {},
   "outputs": [],
   "source": [
    "def differentiate_polynomial(coefficients) :\n",
    "    # add code here"
   ]
  },
  {
   "cell_type": "markdown",
   "metadata": {},
   "source": [
    "**4.2**\n",
    "\n",
    "Finish the following Python function to compute the indefinite integral of a given polynomial, represented as a list of coefficients. Like the previous problem, this function should return another polynomial. Use a list comprehension."
   ]
  },
  {
   "cell_type": "code",
   "execution_count": null,
   "metadata": {},
   "outputs": [],
   "source": [
    "def integrate_polynomial_indef(coefficients) :\n",
    "    # add code here"
   ]
  },
  {
   "cell_type": "markdown",
   "metadata": {},
   "source": [
    "**4.3**\n",
    "\n",
    "Finish the following Python function to compute the definite integral of a given polynomial with lower and upper bounds. The function you write for this exercise should call your function from the previous exercise."
   ]
  },
  {
   "cell_type": "code",
   "execution_count": null,
   "metadata": {},
   "outputs": [],
   "source": [
    "def integrate_polynomial_def(coefficients, a, b) :\n",
    "    # add code here"
   ]
  },
  {
   "cell_type": "markdown",
   "metadata": {},
   "source": [
    "## Making a class\n",
    "\n",
    "Programming is about representing information and making operations on that information. What makes a *class* different from other types or programming modules is that it allows us to package information and the operations on the information into one encapsulated entity. Consider the following class for representing polynomials which wraps a list of coefficients together with the operation to evaluate that polynomial (we used the iterative Horner's rule version). We don't put that functionality into a method called `evaluate_poly` but instead into a special method called `__call__`. This name gets special recognition in Python, making the class *callable*. That means that instances of this class can be used as functions, which makes sense in this case because polynomials are mathematical functions."
   ]
  },
  {
   "cell_type": "code",
   "execution_count": null,
   "metadata": {},
   "outputs": [],
   "source": [
    "class Polynomial :\n",
    "    def __init__(self, coeffs) :\n",
    "        self.coefficients = coeffs.copy()\n",
    "        \n",
    "    def __call__(self, x) :\n",
    "        result = 0\n",
    "        x_pow = 1 # This is always x^i; it's the power of x for the next iterations\n",
    "        for i in range(len(self.coefficients)) :\n",
    "            result += self.coefficients[i] * x_pow\n",
    "            x_pow *= x\n",
    "        return result\n",
    "    \n",
    "    def degree(self) :\n",
    "        return len(self.coefficients)-1\n",
    "    \n",
    "    # Another special function, this one makes a nice string representation\n",
    "    # of the object\n",
    "    def __str__(self) :\n",
    "        if len(self.coefficients) == 0 :\n",
    "            return '0.0'\n",
    "        else :\n",
    "            to_return = str(self.coefficients[0]) \n",
    "            for i in range(1, len(self.coefficients)) :\n",
    "                to_return += ' + ' + str(self.coefficients[i]) + 'x'\n",
    "                if i > 1 :\n",
    "                    to_return += '^' + str(i)\n",
    "            return to_return\n",
    "            \n",
    "    \n",
    "    # The next three are for the exercises\n",
    "    def differentiate(self) :\n",
    "        pass\n",
    "    \n",
    "    def integrate_indef(self) :\n",
    "        pass\n",
    "    \n",
    "    def integrate_def(self, a, b) :\n",
    "        pass\n",
    "    "
   ]
  },
  {
   "cell_type": "markdown",
   "metadata": {},
   "source": [
    "Let's demonstrate how a callable can be used."
   ]
  },
  {
   "cell_type": "code",
   "execution_count": null,
   "metadata": {},
   "outputs": [],
   "source": [
    "f = Polynomial([3.0, 4.0, -7.0, 5.0])\n",
    "print(f)"
   ]
  },
  {
   "cell_type": "code",
   "execution_count": null,
   "metadata": {},
   "outputs": [],
   "source": [
    "f(2.5)"
   ]
  },
  {
   "cell_type": "markdown",
   "metadata": {},
   "source": [
    "### Exercises ###"
   ]
  },
  {
   "cell_type": "markdown",
   "metadata": {},
   "source": [
    "**5.1**\n",
    "\n",
    "Finish the class `Polynomial`. You can reuse code from previous exercises, adjusting them\n",
    "to make sense in the context of the class. The methods `differentiate` and `integrate_indef` should return `Polynomial`s."
   ]
  },
  {
   "cell_type": "code",
   "execution_count": null,
   "metadata": {},
   "outputs": [],
   "source": []
  }
 ],
 "metadata": {
  "kernelspec": {
   "display_name": "Python 3",
   "language": "python",
   "name": "python3"
  },
  "language_info": {
   "codemirror_mode": {
    "name": "ipython",
    "version": 3
   },
   "file_extension": ".py",
   "mimetype": "text/x-python",
   "name": "python",
   "nbconvert_exporter": "python",
   "pygments_lexer": "ipython3",
   "version": "3.6.8"
  }
 },
 "nbformat": 4,
 "nbformat_minor": 4
}
