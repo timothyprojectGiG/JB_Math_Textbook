{
 "cells": [
  {
   "cell_type": "markdown",
   "id": "61343e6d-97cb-4290-b810-74945d07bacf",
   "metadata": {},
   "source": [
    "# Introduction"
   ]
  },
  {
   "cell_type": "markdown",
   "id": "7c721859-8df0-4078-be66-57d50267d565",
   "metadata": {},
   "source": [
    "This chapter is designed to help us transition from the use of JNBs in pre-college outreach to the use of JNBs within college curriculum. Dr. VanDrunen, a computer scientist,  will give a guide to Python programming to help navigate the reader through the remainder of the book. Yiheng Liang, also a computer scientist, will cover the basics of working with data, including the use of the pandas and matplotlib libraries.\n"
   ]
  },
  {
   "cell_type": "code",
   "execution_count": null,
   "id": "b49d2ed5-baa6-41f7-bc93-2b9663cf9685",
   "metadata": {},
   "outputs": [],
   "source": []
  }
 ],
 "metadata": {
  "kernelspec": {
   "display_name": "Python 3 (ipykernel)",
   "language": "python",
   "name": "python3"
  },
  "language_info": {
   "codemirror_mode": {
    "name": "ipython",
    "version": 3
   },
   "file_extension": ".py",
   "mimetype": "text/x-python",
   "name": "python",
   "nbconvert_exporter": "python",
   "pygments_lexer": "ipython3",
   "version": "3.11.7"
  }
 },
 "nbformat": 4,
 "nbformat_minor": 5
}
