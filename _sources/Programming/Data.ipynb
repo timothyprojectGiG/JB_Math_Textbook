{
 "cells": [
  {
   "cell_type": "markdown",
   "id": "b2c5ab10",
   "metadata": {},
   "source": [
    "# Working with Data"
   ]
  },
  {
   "cell_type": "markdown",
   "id": "974b13e0",
   "metadata": {},
   "source": [
    "## Introduction\n",
    "\n",
    "\n",
    "In this section, we will bring the Python programming part to be more related to data processing. The organization of this section is as follows: First, we will begin with an overview of data, describe the background of processing data, and explore various data types. Then, we will show how the Python programming language is written to prepare the data for analysis, including reading and writing data. Next, we will specically introduce pandas, a data analysis library in Python, to demonstrate the ways of data processing and data operations for statistics and analysis. Finally, we will guide you through the basics of Matplotlib, a popular Python library for data visualization. "
   ]
  },
  {
   "cell_type": "markdown",
   "id": "a79225bd",
   "metadata": {},
   "source": [
    "## An Overview of Data and Data Analysis\n",
    "\n",
    "There are several data-related research areas. A database researcher is interested in how data is stored and managed, whereas a data scientist focuses more on the topics such as methods of processing massive data, analyzing data from various sources, interpreting analyzed data, and visualizing the analytical results. Data analysis, in particular, has drawn attention to statisticians, computer scientists, business people, health professionals, or even philosophers and artists. \n",
    "\n",
    "Traditionally, data analysis was thought to be done by mathematicians only. Scholars often considered it in the domain of statistics. Today, however, new challenges motivate us to think of data analysis as a broad, multidisciplinary area. We use a variety of tools including computer programs to perform data operations. Due to the scope of this chapter and this book, we describe only a few facts of data and its related challenges in the era of modern data analysis. \n",
    "\n",
    "At present, scholars are dealing with large-scale data everywhere. For example, the Internet today has billions of webpages. According to the conservative estimates, there are at least three hundred billion emails that are sent daily. The need of analyzing such a great amount of data effectively has driven scientists to develop well-designed methods and to constantly update the hardware to increase the computing power.\n",
    "\n",
    "The modern world generates data at a fast pace. Even if the data is from the same source, numbers that are collected in the past can be very different from them at present. At the early stage of the COVID-19 pandemic, researchers and decision makers realized that the reported data of disease infections fell behind. The collected data for the daily reporting largely reflected what had happened in the past rather than what was happening. \n",
    "\n",
    "Data analysts are presented with structured, semi-structured, or unstructured data. One example of a structured dataset may be from a professor’s grade book. Students’ names and grades of all assignments are presented completely and accurately in a well-organized and cross-checked spreadsheet/table. Less or no additional effort of data \"re-structuring\" needs to be made. However, data from an ordinary person’s diary can be unstructured. The personal note has various lengths, covers different and unrelated topics, and is likely handwritten. Extracting data for an analytical process requires a tremendous amount of data pre-processing work.\n",
    "\n",
    "Just like water is an important resource for people, agriculture, and industry, data is everywhere and fundamental in many different contexts. However, just like water, the origin and the quality of data matter. The prevalence of data does not imply that all kinds of data can be used without scrutiny. An online survey result that was collected anonymously and assembled by a controversial business entity may be a less reliable and more biased source for data analytics. The clinical trial data submitted by responsible medical professionals and peer reviewed by a reputable research group is thought to be more trustworthy for academic purposes. The extent of data pre-processing depends on the source and the collection method of data.\n",
    "\n",
    "There are various features of data due to the difference of dataset size, generation method, structure, and its sources. For analyzing data, several methods and challenges exist, too. The direction of data analysis can be predictive or descriptive:\n",
    "\n",
    "For *predictive* data analysis, one uses existing data to predict unknown and future data. For example, a credit card company can analyze the history of a user's credit card use to detect potential fraud and possibly unauthorized transactions. An economist may analyze data from multiple sources to model the likelihood of a recession in the next few weeks or months. A climate scientist is able to create a model to predict the temperature trend from a region based on the historical pattern of the climate data.\n",
    "\n",
    "For *descriptive* data analysis, one performs analysis on available data in order to discover and better understand the features of the dataset. For example, a genealogist may use a program to analyze the people's faces to tell how two individuals look similar to or different from each other. A business sales team may perform a market basket analysis from millions of transactions to discover the sets of frequently brought items.\n",
    "\n",
    "The choice of a data analysis method depends on not only the objective of analysis but also the type of data. \n",
    "Generally speaking, there are four common types of data [`S.S.Stevens`]. \n",
    "*Nominal* data is the names or values themselves, such as postal codes or identification numbers. \n",
    "*Ordinal* data affords a nartrual ordering or ranking, such as wine’s quality grades or customer’s satisfaction ratings.\n",
    "*Interval* data also can be ordered, but in this case the difference of data values is more explainable---calendar dates, for example.\n",
    "*Ratio* data can be meaningfully multiplied or divided, such as the distance between two locations.\n",
    "\n",
    "Data operations must be suitable for the specific data types. We can say that iron is about 7.8 times as heavy as water (the density of iron is 7.87 g/$m^{3}$; the density of water is 1 g/$m^{3}$). However, it is wrong to do a simple arithmetic sum operation by saying the density of a mixture of iron and water is 8.8 (as 7.8+1) times as heavy as water. In biology, a DNA molecule is composed of four types of bases: adenine (A), thymine (T), guanine (G), and cytosine (C). These four bases are paired as A to T and G to C. However, we cannot just \"compare\" them to determine which base is \"larger\" or \"precedent\" of another, in the usual way that we do with natural numbers. \n",
    "\n",
    "In the next part of this chapter, we will cover data analysis topics from executing common statistical tasks to building specific models for further analysis. We will demonstrate to the readers how to write Python programs relevant to the theoretical aspect of analysis. Moreover, we will discuss the benefits of utilizing computer programs when the data is processed with the help of Python libraries.\n",
    "\n",
    "\n",
    "\n",
    "*: Stevens, S. S. (1946). On the theory of scales of measurement. Science, 103(2684), 677-680."
   ]
  },
  {
   "cell_type": "markdown",
   "id": "08aa3931",
   "metadata": {},
   "source": [
    "```{index} data operations\n",
    "```\n",
    "\n",
    "```{index} importing and exporting data\n",
    "```\n",
    "\n",
    "```{index} reading and writing data\n",
    "```"
   ]
  },
  {
   "cell_type": "markdown",
   "id": "881eea82",
   "metadata": {},
   "source": [
    "## Data Operations: Importing and Exporting, Reading and Writing Data\n",
    "\n",
    "For the complete process of data analysis, programmers usually follow the sequence of:\n",
    "\n",
    "1. Reading data from a file or from the user input,\n",
    "2. Processing loaded data, including re-organizing data, computations, and generating results, \n",
    "3. Outputting data to the computer screen or writing the output to files.\n",
    "\n",
    "The first step is pre-processing the data, that is, to prepare the \"clean\" data for analysis from the raw data. This step usually involves the loading of a dataset that is imported from databases, files, or the user inputs. The raw data can take various forms. As we have mentioned in the previous section, the data can be more or less structured. In this chapter, we will focus on the processing of structured datasets. \n",
    "\n",
    "A structured dataset, according to this book's definition and its applications, is the one that is:\n",
    "1. Linear, such as a collection of records with the same type, i.e. 1-dimensional data, or\n",
    "2. Table-like, such as the records organized with complete information of rows and columns, i.e. 2-dimensional data, or\n",
    "3. Cuboid-like, such as data points in a space, represented by three values, x, y, z, i.e. 3-dimensional data). \n",
    "\n",
    "Since the computer screen is \"flat\", i.e. 2-dimensional, and all data must be properly structured and saved into the memory space, we still need to convert the 3-dimensional data in a form that fits into a 2-dimensional data's view. There are several techniques that do such kind of 3D-to-2D conversion, but this topic is currently beyond the scope of our book. Therefore, we only introduce the methods of processing a file that is already saved with one dimension or two dimensions.\n"
   ]
  },
  {
   "cell_type": "markdown",
   "id": "8eff53ec",
   "metadata": {},
   "source": [
    "### One-dimensional data processing\n",
    "\n",
    "For a one-dimensional dataset, a Python program can read the data from the user input one at a time. The program may save all user-inputted data into a data structure such as a list. \n"
   ]
  },
  {
   "cell_type": "code",
   "execution_count": 1,
   "id": "731afc95",
   "metadata": {},
   "outputs": [
    {
     "name": "stdout",
     "output_type": "stream",
     "text": [
      "[4, 6, 8, 2, 21, 9, 5]\n"
     ]
    }
   ],
   "source": [
    "\n",
    "###########------uncomment this block if working with an interactive JNB-------------###############\n",
    "\n",
    "## The program asks the number of inputs by the user\n",
    "# print(\"How many numbers to input\")\n",
    "\n",
    "# num_inputs = int(input()) # The input() function takes a string by default. Converting to int type.\n",
    "# data_list = []   # Initial list is empty \n",
    "\n",
    "## The user inputs records one after one. All will be saved into data_list\n",
    "# print(\"Enter each record. Press Enter to continue.\")\n",
    "# for i in range(num_inputs):\n",
    "#    user_data = input()\n",
    "#    data_list.append(user_data)\n",
    "\n",
    "##########---------------------------------------------------------------------------################\n",
    "\n",
    "#delete the following line if running an interactive JNB\n",
    "data_list=[4,6,8,2,21,9,5] \n",
    "\n",
    "\n",
    "# Output the list that contains all previously inputted data\n",
    "print(data_list)\n"
   ]
  },
  {
   "cell_type": "markdown",
   "id": "adafaa25",
   "metadata": {},
   "source": [
    "\n",
    "Another situation to read the data is from a file. For the convenience of processing, we assume that such a file is a plain text file and it only contains relevant data for calculations (i.e. no data labels, titles, informational fields, or any empty spaces or lines). Furthermore, we assume that all records are stored in one line where the two records are separated by a single white space."
   ]
  },
  {
   "cell_type": "code",
   "execution_count": 2,
   "id": "5ca5b631",
   "metadata": {},
   "outputs": [
    {
     "name": "stdout",
     "output_type": "stream",
     "text": [
      "['7', '12', '41', '3', '19', '24', '81']\n"
     ]
    }
   ],
   "source": [
    "# First, open the file that contains all records; store the content to the object data_file_1.\n",
    "data_file_1 = open(\"datafile1.txt\", \"r\")\n",
    "\n",
    "# Then, read the data_file object for the first (also the only and the last) line and save it to a string.\n",
    "one_line = data_file_1.readline()\n",
    "\n",
    "# Next, split the string into several records and further save the records into a list. \n",
    "# Note: the white space is the separator in this program.\n",
    "data_list = one_line.split()\n",
    "\n",
    "# Finally, output the data from the saved list, data_list.\n",
    "print(data_list)\n",
    "\n",
    "# Close the file. \n",
    "data_file_1.close()\n"
   ]
  },
  {
   "cell_type": "markdown",
   "id": "03eab1ae",
   "metadata": {},
   "source": [
    "Explanation:\n",
    "\n",
    "The file `open()` function in this code example takes two arguments. The first one is the file name. The second one is the file processing mode. \"r\" here means read. The `readline()` function outputs only one line of data from a file if it is used once. \n",
    "\n",
    "The `split()` function is used to split data based on the separator. If nothing is specified in the function’s argument, the default separator is white spaces. \n",
    "\n",
    "As a good programming practice, programmers should close the file before the end of the program by explicitly writing the file closing function `close()`.  \n",
    "\n",
    "On the other hand, we can assume that the data are stored in multiple lines where each line contains one record."
   ]
  },
  {
   "cell_type": "code",
   "execution_count": 3,
   "id": "c8879630",
   "metadata": {},
   "outputs": [
    {
     "name": "stdout",
     "output_type": "stream",
     "text": [
      "7 \n",
      "12 \n",
      "41 \n",
      "3 \n",
      "19 \n",
      "24 \n",
      "81\n"
     ]
    }
   ],
   "source": [
    "# First, open the file that contains all records; store the content to the object data_file_2.\n",
    "data_file_2 = open(\"datafile2.txt\", \"r\")\n",
    "\n",
    "# Next, use a loop to iterate all lines, where each line has one record.\n",
    "for line in data_file_2.readlines():\n",
    "    # Output data\n",
    "    print(line[:-1]) # -1 is used for not printing the end-of-line’s line break character\n",
    "\n",
    "# Close the file.\n",
    "data_file_2.close()\n"
   ]
  },
  {
   "cell_type": "markdown",
   "id": "5d489726",
   "metadata": {},
   "source": [
    "\n",
    "Explanation:\n",
    "\n",
    "The `readlines()` function differs from the `readline()` function. The program will continue to read another line till the end of the file. The for loop is used to iterate each line. The `print()` function inside the for loop will print each line’s content except the line break character at the end of each line.\n",
    "\n",
    "This program treats each line as a string. The code `line[:-1]` means that the program does slicing of the string so that the new string contains all characters from the beginning to the second-to-last character, cutting off the last. The value `-1` used as an index means the last position, and `:-1` indicates that the last position is an exclusive upper bound. \n",
    "When reading a plain-text file, the last character on a line is the line break itself, and so `line[:-1]` simply gets rid of the line break character.\n",
    "\n",
    "In most programming languages, including Python, such a line break character is represented by `\\n`. That `\\n` is not a part of data itself and thus should be removed. Please note that we must ensure that the last record or line of the file is also followed by a line break (`\\n`) or that record will not be processed correctly."
   ]
  },
  {
   "cell_type": "markdown",
   "id": "06c71594",
   "metadata": {},
   "source": [
    "\n",
    "\n",
    "### Two-dimensional data processing\n",
    "\n",
    "An efficient way of storing the data in a table (i.e. two-dimensional data) is using a file format called Comma-Separated Values (CSV). Such a file is named like `birds.csv`. A typical `.csv` file looks like the following:\n",
    "\n",
    "    "
   ]
  },
  {
   "cell_type": "raw",
   "id": "1e172170",
   "metadata": {},
   "source": [
    "Name,Weight,Clutch size,Wingspan,Family (common),Family (scientific)\n",
    "American goldfinch,15.5,5,20.5,finches,Fringillidae\n",
    "American robin,83.0,4,36.5,thrushes,Turdidae\n",
    "black-capped chickadee,11.5,7,18.5,tits,Paridae\n",
    "blue jay,85.0,4,38.5,corvids,Corvidae\n",
    "eastern bluebird,30.0,4,28.5,thrushes,Turdidae\n",
    "mourning dove,141.0,2,41.5,doves and pigeons,Columbidae\n",
    "northern cardinal,45.0,4,28.5,cardinals,Cardinalidae\n",
    "redwing blackbird,54.5,4,14.5,blackbirds,Icteridae\n",
    "Baltimore oriole,35.0,4,27.5,blackbirds,Icteridae\n",
    "dark-eyed junco,24.0,4,21.5,new-world sparrows,Passerellidae\n",
    "common starling,78.0,6,37.5,starlings,Sturnidae\n"
   ]
  },
  {
   "cell_type": "raw",
   "id": "955ef5b7",
   "metadata": {},
   "source": [
    "\n",
    "Notice that this `.csv` file's first line gives the names of the attributes found in the succeeding lines. We call this line the *header*, although `.csv` files don't have to have a line like this one. Moreover this file, like most `.csv` files, does not begin each line with a record number. \n",
    "\n",
    "After we have obtained the data file and put it into a file system, we can use a Python library Pandas to load and process such a file. We will get into the details of Pandas and its common operations in the next section. Here we give an example to demonstrate the steps of reading a .csv file with the this Python library.\n",
    "\n"
   ]
  },
  {
   "cell_type": "code",
   "execution_count": 4,
   "id": "146f31f0",
   "metadata": {},
   "outputs": [
    {
     "name": "stdout",
     "output_type": "stream",
     "text": [
      "                      Name  Weight  Clutch size  Wingspan     Family (common)  \\\n",
      "0       American goldfinch    15.5            5      20.5             finches   \n",
      "1           American robin    83.0            4      36.5            thrushes   \n",
      "2   black-capped chickadee    11.5            7      18.5                tits   \n",
      "3                 blue jay    85.0            4      38.5             corvids   \n",
      "4         eastern bluebird    30.0            4      28.5            thrushes   \n",
      "5            mourning dove   141.0            2      41.5   doves and pigeons   \n",
      "6        northern cardinal    45.0            4      28.5           cardinals   \n",
      "7        redwing blackbird    54.5            4      14.5          blackbirds   \n",
      "8         Baltimore oriole    35.0            4      27.5          blackbirds   \n",
      "9          dark-eyed junco    24.0            4      21.5  new-world sparrows   \n",
      "10         common starling    78.0            6      37.5           starlings   \n",
      "\n",
      "   Family (scientific)  \n",
      "0         Fringillidae  \n",
      "1             Turdidae  \n",
      "2              Paridae  \n",
      "3             Corvidae  \n",
      "4             Turdidae  \n",
      "5           Columbidae  \n",
      "6         Cardinalidae  \n",
      "7            Icteridae  \n",
      "8            Icteridae  \n",
      "9        Passerellidae  \n",
      "10           Sturnidae  \n"
     ]
    }
   ],
   "source": [
    "# Import the pandas library. Here we rename \"pandas\" as \"pd\" for convenience.\n",
    "import pandas as pd\n",
    "\n",
    "# Read and load the .csv data from the specified file location into the program's memory space, \n",
    "# and save the data into a format called \"DataFrame\".\n",
    "my_data = pd.read_csv('birds.csv')\n",
    "\n",
    "# Operate on the object with the DataFrame format.\n",
    "print(my_data) "
   ]
  },
  {
   "cell_type": "markdown",
   "id": "1865b59c",
   "metadata": {},
   "source": [
    "Explanation:\n",
    "\n",
    "\n",
    "\n",
    "On line 1, we import the Pandas library, but we may not want to write the complete name of pandas every time when we use it. Therefore, we use the alias `pd` to denote `pandas`.\n",
    "\n",
    "On line 2, `my_data` is the object with the DataFrame format. It is used to be processed by the Pandas library according to the row and column information. `pd.read_csv` is the function from the Pandas library to read the `.csv` file. Enclosed in the function's parameter 'data.csv' is the file name (data.csv).\n",
    "\n",
    "If your Python's workspace and the data file are in the same directory/folder, no further action is needed from this part. However, if the data file is stored elsewhere, we must specify the location of such a file in the Python code, such as:\n",
    "\n",
    " `my_data2 = pd.read_csv('user/math_teacher/Desktop/project2/data2.csv')`\n",
    "\n",
    "or \n",
    "\n",
    " `my_data3 = pd.read_csv('C:\\\\Users\\\\Math_Student\\\\Desktop\\\\Project3\\\\data3.csv')`\n",
    "\n",
    "Note that the Python code for specifying a file location depends on the operating system the user is using. The first form is usually suitable for MacOS and Linux systems, where a forward slash (/) is used to go into a sub-directory. The second form is often seen in a system where a backward slash (\\\\) is used to go into a sub-directory, such as Microsoft Windows. Here, two backward slashes are used because Python processes the special character \\\\ with an escape character \\\\. The first \\\\ is for the formatting purpose to indicate that there is a special character coming next and the second \\\\ is the actual character to be read.\n",
    "\n",
    "As the file name has suggested, the file contains comma-separated values because commas (,) are commonly used to separate the columns. However, files can still be processed by the Python program if the columns are separated by a symbol other than a comma. Such a symbol may be a white space ( ), a semi-colon (;), or any other symbol.\n",
    "\n",
    "In order to read such kind of file and process the column information correctly, we change the parameter part \"sep=X\" to indicate a different separator. \"X\" is replaced by the separator. \n",
    "\n",
    "For example, \n",
    "\n",
    " `my_data4 = pd.read_csv('data4.csv', sep = ' ')`\n",
    "\n",
    "or \n",
    "\n",
    " `my_data5 = pd.read_csv('data5.csv', sep = ';')`\n",
    "\n",
    "From the above examples, the first one is used to process a file where columns are separated by a single white space. The second one is by a semi-colon. If no parameter is specified, this read_csv function will process the file that treats the comma as the separator by default. \n",
    "\n"
   ]
  },
  {
   "cell_type": "markdown",
   "id": "9774b787",
   "metadata": {},
   "source": [
    "### Exporting Data: Writing Data to A File\n",
    "\n",
    "Next, we describe the ways to export and present data. If the output is to the computer screen, Python’s `print()` function should have the need. If we want to output data to a file, we will use Python’s file writing functions. The following code can be used to write the data to a file. At this time, we also assume that the file is in a plain text format, which is more conventional and convenient for the data storage, other than a binary format, which is encoded for the use by a computer program and/or program instructions.\n",
    "\n"
   ]
  },
  {
   "cell_type": "code",
   "execution_count": 5,
   "id": "626e5fc3",
   "metadata": {},
   "outputs": [],
   "source": [
    "# Assuming that all generated data have been stored in a list….\n",
    "generated_data = [10, 20, 30, 4, 5, 6]\n",
    "\n",
    "# First, open the file to which the data is being written to\n",
    "output_file = open(\"results.txt\", \"w\")\n",
    "\n",
    "# Next, iterate all elements in the list so that each element is written to the same file\n",
    "for i in generated_data:\n",
    "    output_file.write(str(i) + \" \") # elements one after one, separated by a white space.\n",
    "    \n",
    "# Close the file.\n",
    "output_file.close()"
   ]
  },
  {
   "cell_type": "markdown",
   "id": "50dff50e",
   "metadata": {},
   "source": [
    "\n",
    "Explanation: \n",
    "\n",
    "In this example, we assume that all data have already been stored in a list. Since the file operation is to write to a file, we use the parameter \"w\" within the `open()` function to write data to a file. results.txt is the plain text file name that all data is written to.\n",
    "\n",
    "The program will process the for loop by accessing each element in the list one by one. In each iteration of the loop, the program executes the write() function by pushing one element into the file. The file writing function, `write()`, always needs to process strings only (the system treats the output as a long string) but the user generated data may not be strings. Just like in our example, we must convert the number type data, e.g. int, into a string type. Therefore, we use `str()` to do such a type conversion.\n",
    "\n",
    "After one element is written into the file, a white space is also written to the file before the loop repeats to write another element into the file. Finally, the program closes the file with the `close()` function.\n",
    "\n",
    "The code example works to output all data into a file, where all records are stored in one line only. What if the user intends to output data with multiple lines, where each line contains one record only? What if the user decides to save the output file in a  directory other than the Python program’s default working directory? We are leaving these questions to the readers.\n",
    "\n"
   ]
  },
  {
   "cell_type": "markdown",
   "id": "eebc4f27",
   "metadata": {},
   "source": [
    "```{index} pandas\n",
    "```"
   ]
  },
  {
   "cell_type": "markdown",
   "id": "93630e7b",
   "metadata": {},
   "source": [
    "## Introduction to Pandas"
   ]
  },
  {
   "cell_type": "markdown",
   "id": "addca33a",
   "metadata": {},
   "source": [
    "The code in the previous section used the `pandas` library to read csv data. But `pandas` does a lot more, and in fact is one of researchers' top selections of libraries for its \n",
    " convenience and effectiveness in performing data analysis. According to the official website, `pandas` \"*is a fast, powerful, flexible and easy to use open source data analysis and manipulation tool, built on top of the Python programming language.*\"(https://pandas.pydata.org/) The letters from the library's name appear to be taken from \"**P**ython **D**ata **ANA**ly**S**is\" by its creator.\n",
    "\n",
    "`pandas` can be used to process datasets with various dimensions and structures. They include a one-dimensional dataset – processed as `Series`, a two-dimensional dataset – processed as `Dataframe`, a traditionally more structured dataset such as a .csv file, or a more complex but less structured dataset, such as a .json file. Users who are familiar with other programming languages and statistical applications, including R, SAS, Stata, SQL, and spreadsheets will find similar tools and operations of processing data in `pandas`.\n",
    "\n",
    "Users in `pandas` can structure the data to be compatible with a spreadsheet software application (e.g. Microsoft Excel, LibreOffice Calc, Apple Numbers). Here are the important `pandas` data structures and their equivalent names in a spreadsheet application:\n",
    "* Series – column\n",
    "* Dataframe – entire worksheet\n",
    "* Index – row headings\n",
    "* NaN – empty cell\n",
    "\n",
    "As we see, Panda's `Series` is used to store and process a list of elements, i.e. data from one column. `Dataframe` is suitable to process data from a table. In the next section, we will explain the data operations associated with `pandas` `Series` and `Dataframe`.\n"
   ]
  },
  {
   "cell_type": "markdown",
   "id": "53774094",
   "metadata": {},
   "source": [
    "```{index} series\n",
    "```"
   ]
  },
  {
   "cell_type": "markdown",
   "id": "09f30f26",
   "metadata": {},
   "source": [
    "### Data operations with `pandas.Series`"
   ]
  },
  {
   "cell_type": "markdown",
   "id": "eed67f01",
   "metadata": {},
   "source": [
    "The Pandas library has its built-in functions to process one-dimensional data and two-dimensional data. To perform a variety of tasks with a one-dimensional dataset, we use the functions from `pandas.Series`. The following example shows how we load a list of elements into the Series.\n"
   ]
  },
  {
   "cell_type": "code",
   "execution_count": 6,
   "id": "170716b5",
   "metadata": {},
   "outputs": [
    {
     "name": "stdout",
     "output_type": "stream",
     "text": [
      "0     100\n",
      "1     200\n",
      "2     300\n",
      "3     123\n",
      "4     654\n",
      "5      99\n",
      "6      98\n",
      "7     100\n",
      "8      45\n",
      "9     100\n",
      "10    101\n",
      "dtype: int64\n"
     ]
    }
   ],
   "source": [
    "import pandas as pd\n",
    "# Original data are stored in a list. \n",
    "data_list = [100, 200, 300, 123, 654, 99, 98, 100, 45, 100, 101]\n",
    "# New data to be stored in a Series, namely data_series\n",
    "data_series = pd.Series(data_list)\n",
    "# Print elements from Series.\n",
    "print(data_series) "
   ]
  },
  {
   "cell_type": "markdown",
   "id": "328c9f5a",
   "metadata": {},
   "source": [
    "Notice the output from the `print()` function. Values from the first column are viewed as the Series index numbers, which start from 0. The second column contains the actual records from the Series data. Because the list is a one-dimensional dataset, the index value has no additional meaning other than telling the user the position (by zero-based indexing) of an element. While it is certainly possible to operate on data using Python's list structure, including writing codes and calculating numbers, Panda's `Series` has an advantage as it has provided many commonly used functions for mathematical purposes. \n",
    "\n",
    "Following the previously made code, we can use available tools from `pandas.Series` to quickly get useful statistical results. \n"
   ]
  },
  {
   "cell_type": "code",
   "execution_count": 7,
   "id": "671bb8ff",
   "metadata": {},
   "outputs": [
    {
     "data": {
      "text/plain": [
       "654"
      ]
     },
     "execution_count": 7,
     "metadata": {},
     "output_type": "execute_result"
    }
   ],
   "source": [
    "# Getting the maximum value from the series\n",
    "data_series.max()"
   ]
  },
  {
   "cell_type": "code",
   "execution_count": 8,
   "id": "1ac974c9",
   "metadata": {},
   "outputs": [
    {
     "data": {
      "text/plain": [
       "45"
      ]
     },
     "execution_count": 8,
     "metadata": {},
     "output_type": "execute_result"
    }
   ],
   "source": [
    "# Getting the minimum value from the series\n",
    "data_series.min()"
   ]
  },
  {
   "cell_type": "code",
   "execution_count": 9,
   "id": "f9b0e0a6",
   "metadata": {},
   "outputs": [
    {
     "data": {
      "text/plain": [
       "174.54545454545453"
      ]
     },
     "execution_count": 9,
     "metadata": {},
     "output_type": "execute_result"
    }
   ],
   "source": [
    "# Getting the mean value from the series\n",
    "data_series.mean()"
   ]
  },
  {
   "cell_type": "code",
   "execution_count": 10,
   "id": "1a08f0a4",
   "metadata": {},
   "outputs": [
    {
     "data": {
      "text/plain": [
       "100.0"
      ]
     },
     "execution_count": 10,
     "metadata": {},
     "output_type": "execute_result"
    }
   ],
   "source": [
    "# Getting the median value from the series\n",
    "data_series.median()"
   ]
  },
  {
   "cell_type": "code",
   "execution_count": 11,
   "id": "134c679b",
   "metadata": {},
   "outputs": [
    {
     "data": {
      "text/plain": [
       "0    100\n",
       "dtype: int64"
      ]
     },
     "execution_count": 11,
     "metadata": {},
     "output_type": "execute_result"
    }
   ],
   "source": [
    "# Getting the mode(s) of the Series. \n",
    "# A series may have multiple modes, i.e. more than one value appears the most often.\n",
    "data_series.mode()"
   ]
  },
  {
   "cell_type": "code",
   "execution_count": 12,
   "id": "b2236df6",
   "metadata": {},
   "outputs": [
    {
     "data": {
      "text/plain": [
       "4     654\n",
       "2     300\n",
       "1     200\n",
       "3     123\n",
       "10    101\n",
       "dtype: int64"
      ]
     },
     "execution_count": 12,
     "metadata": {},
     "output_type": "execute_result"
    }
   ],
   "source": [
    "# Getting the nth largest values from the series, using .largest(n).\n",
    "n = 5\n",
    "data_series.nlargest(n)"
   ]
  },
  {
   "cell_type": "code",
   "execution_count": 13,
   "id": "789f1e83",
   "metadata": {},
   "outputs": [
    {
     "data": {
      "text/plain": [
       "8     45\n",
       "6     98\n",
       "5     99\n",
       "0    100\n",
       "dtype: int64"
      ]
     },
     "execution_count": 13,
     "metadata": {},
     "output_type": "execute_result"
    }
   ],
   "source": [
    "# Getting the nth smallest values from the series, using .smallest(n).\n",
    "n = 4\n",
    "data_series.nsmallest(n)"
   ]
  },
  {
   "cell_type": "code",
   "execution_count": 14,
   "id": "daa1a592",
   "metadata": {},
   "outputs": [
    {
     "data": {
      "text/plain": [
       "173.0169723676632"
      ]
     },
     "execution_count": 14,
     "metadata": {},
     "output_type": "execute_result"
    }
   ],
   "source": [
    "# Getting the standard deviation from the series. \n",
    "# Such a standard deviation is normalized by N-1 by default.\n",
    "data_series.std()"
   ]
  },
  {
   "cell_type": "code",
   "execution_count": 15,
   "id": "9499b9c3",
   "metadata": {},
   "outputs": [
    {
     "data": {
      "text/plain": [
       "29934.87272727273"
      ]
     },
     "execution_count": 15,
     "metadata": {},
     "output_type": "execute_result"
    }
   ],
   "source": [
    "# Getting the variance from the series\n",
    "data_series.var()"
   ]
  },
  {
   "cell_type": "code",
   "execution_count": 16,
   "id": "7adc6d4b",
   "metadata": {},
   "outputs": [
    {
     "data": {
      "text/plain": [
       "count     11.000000\n",
       "mean     174.545455\n",
       "std      173.016972\n",
       "min       45.000000\n",
       "25%       99.500000\n",
       "50%      100.000000\n",
       "75%      161.500000\n",
       "max      654.000000\n",
       "dtype: float64"
      ]
     },
     "execution_count": 16,
     "metadata": {},
     "output_type": "execute_result"
    }
   ],
   "source": [
    "# Getting a quick statistical summary of data from the series\n",
    "data_series.describe()"
   ]
  },
  {
   "cell_type": "code",
   "execution_count": 17,
   "id": "a2a976ae",
   "metadata": {},
   "outputs": [
    {
     "data": {
      "text/plain": [
       "array([100, 200, 300, 123, 654,  99,  98,  45, 101])"
      ]
     },
     "execution_count": 17,
     "metadata": {},
     "output_type": "execute_result"
    }
   ],
   "source": [
    "# Getting the unique elements from the series\n",
    "data_series.unique()"
   ]
  },
  {
   "cell_type": "code",
   "execution_count": 18,
   "id": "0d565a95",
   "metadata": {},
   "outputs": [
    {
     "data": {
      "text/plain": [
       "9"
      ]
     },
     "execution_count": 18,
     "metadata": {},
     "output_type": "execute_result"
    }
   ],
   "source": [
    "# Getting the number count of unique elements from the series\n",
    "data_series.nunique() "
   ]
  },
  {
   "cell_type": "code",
   "execution_count": 19,
   "id": "c266c7dc",
   "metadata": {},
   "outputs": [
    {
     "data": {
      "text/plain": [
       "11"
      ]
     },
     "execution_count": 19,
     "metadata": {},
     "output_type": "execute_result"
    }
   ],
   "source": [
    "# Getting the size of its series, i.e. how many elements in this series\n",
    "data_series.size"
   ]
  },
  {
   "cell_type": "markdown",
   "id": "29784e40",
   "metadata": {},
   "source": [
    "Note that when programmers write the code to get the series' size, they write `.size` instead of `.size()`. This is because `size` is a data attribute (or instance variable) of\n",
    "the `Seires` class. Recall from the introduction to classes and objects in the previous chapter that classes have both data attributes and function attributes (or methods).\n",
    "\n",
    "Attributes such as `max()` and `min()` are defined as methods because they are actions that are performed on data. An action has its internal processing procedure and may have an output following its processing. For example, `max()` has its internal processing procedure that compares the values of all records and selects the maximum value. Then, it outputs the selected maximum value. Thus, we will use the output number from the `max()` function. \n"
   ]
  },
  {
   "cell_type": "markdown",
   "id": "73084902",
   "metadata": {},
   "source": [
    "```{index} pandas\n",
    "```\n",
    "\n",
    "```{index} dataframe\n",
    "```"
   ]
  },
  {
   "cell_type": "markdown",
   "id": "d5618f10",
   "metadata": {},
   "source": [
    "### Data operations with pandas.Dataframe"
   ]
  },
  {
   "cell_type": "markdown",
   "id": "1d64ef50",
   "metadata": {},
   "source": [
    "If the dataset is two-dimensional, we rely on Pandas's `Dataframe` to process it. We have explained the use of Pandas library to read and extract information from a `.csv` file in the previous section of the chapter. Now, we will demonstrate how to use `Dataframe` to select and operate on the two-dimensional data.\n"
   ]
  },
  {
   "cell_type": "markdown",
   "id": "43b06f8a",
   "metadata": {},
   "source": [
    "To demonstrate the operations with panda's Dataframe, we use the dataset from `Car Evaluation Database` that is downloadable from UCI Machine Learning Repository (https://archive.ics.uci.edu/dataset/19/car+evaluation). First, we download the .zip package that contains the dataset file \"car.data\". Next, we change the file name from \"car.data\" to \"car.csv\". This step is optional in the real-world data analysis since the file has already been perfectly formatted with comma-separated values. We do the file name change only for consistency in our explanation. Then we modify the file by adding a title line for our data processing need: \n",
    "\n",
    "*buying,maint,doors,persons,lug_boot,safety,class*\n",
    "\n",
    "This step can be done manually by opening the data file or by writing a line of Python code, which we will demonstrate shortly."
   ]
  },
  {
   "cell_type": "markdown",
   "id": "c7ae246a",
   "metadata": {},
   "source": [
    "This dataset was originally used for predicting a car's acceptability level based on several conditions of that car. Each row shows the conditions (attributes) and acceptability level (class value). As we look into the dataset, the `Car Evaluation Database` contains the following information: "
   ]
  },
  {
   "cell_type": "markdown",
   "id": "6c8167a0",
   "metadata": {},
   "source": [
    "Class values:\n",
    "- unacc, acc, good, vgood \n",
    "\n",
    "Explanation:\n",
    "- class (acceptability level: unacceptable, acceptable, good, and very good). \n",
    "\n",
    "Attributes:\n",
    "- buying: vhigh, high, med, low.\n",
    "- maint: vhigh, high, med, low.\n",
    "- doors: 2, 3, 4, 5more.\n",
    "- persons: 2, 4, more.\n",
    "- lug_boot: small, med, big.\n",
    "- safety: low, med, high.\n",
    "\n",
    "Explanation:\n",
    "- buying (buying price: very high, high, medium, and low),\n",
    "- maintenance (price of maintenance: very high, high, medium, and low),\n",
    "- doors (number of doors:  2, 3, 4, and 5 or more),\n",
    "- persons (capacity in terms of persons to carry: 2, 4, and more),\n",
    "- lug_boot (the size of luggage boot: small, medium, and big), and\n",
    "- safety (estimated safety of the car: low, medium, and high).\n"
   ]
  },
  {
   "cell_type": "code",
   "execution_count": 20,
   "id": "26ddfb97",
   "metadata": {},
   "outputs": [
    {
     "name": "stdout",
     "output_type": "stream",
     "text": [
      "     buying  maint  doors persons lug_boot safety  class\n",
      "0     vhigh  vhigh      2       2    small    low  unacc\n",
      "1     vhigh  vhigh      2       2    small    med  unacc\n",
      "2     vhigh  vhigh      2       2    small   high  unacc\n",
      "3     vhigh  vhigh      2       2      med    low  unacc\n",
      "4     vhigh  vhigh      2       2      med    med  unacc\n",
      "...     ...    ...    ...     ...      ...    ...    ...\n",
      "1723    low    low  5more    more      med    med   good\n",
      "1724    low    low  5more    more      med   high  vgood\n",
      "1725    low    low  5more    more      big    low  unacc\n",
      "1726    low    low  5more    more      big    med   good\n",
      "1727    low    low  5more    more      big   high  vgood\n",
      "\n",
      "[1728 rows x 7 columns]\n",
      "0       vhigh\n",
      "1       vhigh\n",
      "2       vhigh\n",
      "3       vhigh\n",
      "4       vhigh\n",
      "        ...  \n",
      "1723      low\n",
      "1724      low\n",
      "1725      low\n",
      "1726      low\n",
      "1727      low\n",
      "Name: buying, Length: 1728, dtype: object\n"
     ]
    }
   ],
   "source": [
    "# Use of Dataframe in pandas\n",
    "\n",
    "import pandas as pd\n",
    "#   Loading the dataset to let pandas read the .csv file.\n",
    "loaded_data = pd.read_csv('car.csv')  # or loaded_data = pd.read_csv('car.data') for the original file name \n",
    "\n",
    "# data_car has its title added. All column names are specified in this step.\n",
    "data_car = pd.DataFrame(loaded_data, columns = ['buying','maint','doors','persons','lug_boot','safety','class'])\n",
    "\n",
    "# Displaying the overview of the dataset\n",
    "print(data_car)\n",
    "\n",
    "# Selecting and displaying the data from the column 'buying'\n",
    "print(data_car['buying'])\n"
   ]
  },
  {
   "cell_type": "markdown",
   "id": "8c706f1d",
   "metadata": {},
   "source": [
    "One can select specific row(s) and columns from the Dataframe by using `loc` (to be understood as \"location\") or `iloc` (to be understood as \"index-location\") subscripts. `loc` is used when a label is present for rows and columns. `iloc` is used when the selection is based on the index values of rows and columns. "
   ]
  },
  {
   "cell_type": "markdown",
   "id": "0edb3547",
   "metadata": {},
   "source": [
    "To use iloc, the subscript [ ] takes the following format: [R : C], where R is the row index and C is the column index, or [R1:R2, C1:C2], where R1 is the starting row, R2 is the ending row minus one, C1 is the starting column and C2 is the ending column minus one. If any variable, R1, R2, C1, or C2 is left blank, the selection is by default from the first row or column to the last row or column. Note that the row information and structure (the colon \":\") must be present, but the column part is optional.\n",
    "\n",
    "Here are examples of making selections of rows and columns. \n"
   ]
  },
  {
   "cell_type": "code",
   "execution_count": 21,
   "id": "cf69ca89",
   "metadata": {},
   "outputs": [
    {
     "data": {
      "text/plain": [
       "buying      vhigh\n",
       "maint       vhigh\n",
       "doors           2\n",
       "persons         2\n",
       "lug_boot      med\n",
       "safety       high\n",
       "class       unacc\n",
       "Name: 5, dtype: object"
      ]
     },
     "execution_count": 21,
     "metadata": {},
     "output_type": "execute_result"
    }
   ],
   "source": [
    "# Selecting one row, row index 5 from the dataset\n",
    "data_car.iloc[5, ]"
   ]
  },
  {
   "cell_type": "code",
   "execution_count": 22,
   "id": "6057b407",
   "metadata": {},
   "outputs": [
    {
     "data": {
      "text/html": [
       "<div>\n",
       "<style scoped>\n",
       "    .dataframe tbody tr th:only-of-type {\n",
       "        vertical-align: middle;\n",
       "    }\n",
       "\n",
       "    .dataframe tbody tr th {\n",
       "        vertical-align: top;\n",
       "    }\n",
       "\n",
       "    .dataframe thead th {\n",
       "        text-align: right;\n",
       "    }\n",
       "</style>\n",
       "<table border=\"1\" class=\"dataframe\">\n",
       "  <thead>\n",
       "    <tr style=\"text-align: right;\">\n",
       "      <th></th>\n",
       "      <th>buying</th>\n",
       "      <th>maint</th>\n",
       "      <th>doors</th>\n",
       "      <th>persons</th>\n",
       "      <th>lug_boot</th>\n",
       "      <th>safety</th>\n",
       "      <th>class</th>\n",
       "    </tr>\n",
       "  </thead>\n",
       "  <tbody>\n",
       "    <tr>\n",
       "      <th>7</th>\n",
       "      <td>vhigh</td>\n",
       "      <td>vhigh</td>\n",
       "      <td>2</td>\n",
       "      <td>2</td>\n",
       "      <td>big</td>\n",
       "      <td>med</td>\n",
       "      <td>unacc</td>\n",
       "    </tr>\n",
       "    <tr>\n",
       "      <th>8</th>\n",
       "      <td>vhigh</td>\n",
       "      <td>vhigh</td>\n",
       "      <td>2</td>\n",
       "      <td>2</td>\n",
       "      <td>big</td>\n",
       "      <td>high</td>\n",
       "      <td>unacc</td>\n",
       "    </tr>\n",
       "    <tr>\n",
       "      <th>9</th>\n",
       "      <td>vhigh</td>\n",
       "      <td>vhigh</td>\n",
       "      <td>2</td>\n",
       "      <td>4</td>\n",
       "      <td>small</td>\n",
       "      <td>low</td>\n",
       "      <td>unacc</td>\n",
       "    </tr>\n",
       "  </tbody>\n",
       "</table>\n",
       "</div>"
      ],
      "text/plain": [
       "  buying  maint doors persons lug_boot safety  class\n",
       "7  vhigh  vhigh     2       2      big    med  unacc\n",
       "8  vhigh  vhigh     2       2      big   high  unacc\n",
       "9  vhigh  vhigh     2       4    small    low  unacc"
      ]
     },
     "execution_count": 22,
     "metadata": {},
     "output_type": "execute_result"
    }
   ],
   "source": [
    "# Selecting 3 rows from index 7 to index 9 (i.e. 10 minus 1) from the dataset\n",
    "data_car.iloc[7:10, ]"
   ]
  },
  {
   "cell_type": "code",
   "execution_count": 23,
   "id": "3ab8ea20",
   "metadata": {},
   "outputs": [
    {
     "data": {
      "text/plain": [
       "0           2\n",
       "1           2\n",
       "2           2\n",
       "3           2\n",
       "4           2\n",
       "        ...  \n",
       "1723    5more\n",
       "1724    5more\n",
       "1725    5more\n",
       "1726    5more\n",
       "1727    5more\n",
       "Name: doors, Length: 1728, dtype: object"
      ]
     },
     "execution_count": 23,
     "metadata": {},
     "output_type": "execute_result"
    }
   ],
   "source": [
    "# Selecting one column, column index 2 from the dataset\n",
    "data_car.iloc[ : , 2]"
   ]
  },
  {
   "cell_type": "code",
   "execution_count": 24,
   "id": "40aee6e9",
   "metadata": {},
   "outputs": [
    {
     "data": {
      "text/html": [
       "<div>\n",
       "<style scoped>\n",
       "    .dataframe tbody tr th:only-of-type {\n",
       "        vertical-align: middle;\n",
       "    }\n",
       "\n",
       "    .dataframe tbody tr th {\n",
       "        vertical-align: top;\n",
       "    }\n",
       "\n",
       "    .dataframe thead th {\n",
       "        text-align: right;\n",
       "    }\n",
       "</style>\n",
       "<table border=\"1\" class=\"dataframe\">\n",
       "  <thead>\n",
       "    <tr style=\"text-align: right;\">\n",
       "      <th></th>\n",
       "      <th>doors</th>\n",
       "      <th>persons</th>\n",
       "      <th>lug_boot</th>\n",
       "    </tr>\n",
       "  </thead>\n",
       "  <tbody>\n",
       "    <tr>\n",
       "      <th>0</th>\n",
       "      <td>2</td>\n",
       "      <td>2</td>\n",
       "      <td>small</td>\n",
       "    </tr>\n",
       "    <tr>\n",
       "      <th>1</th>\n",
       "      <td>2</td>\n",
       "      <td>2</td>\n",
       "      <td>small</td>\n",
       "    </tr>\n",
       "    <tr>\n",
       "      <th>2</th>\n",
       "      <td>2</td>\n",
       "      <td>2</td>\n",
       "      <td>small</td>\n",
       "    </tr>\n",
       "    <tr>\n",
       "      <th>3</th>\n",
       "      <td>2</td>\n",
       "      <td>2</td>\n",
       "      <td>med</td>\n",
       "    </tr>\n",
       "    <tr>\n",
       "      <th>4</th>\n",
       "      <td>2</td>\n",
       "      <td>2</td>\n",
       "      <td>med</td>\n",
       "    </tr>\n",
       "    <tr>\n",
       "      <th>...</th>\n",
       "      <td>...</td>\n",
       "      <td>...</td>\n",
       "      <td>...</td>\n",
       "    </tr>\n",
       "    <tr>\n",
       "      <th>1723</th>\n",
       "      <td>5more</td>\n",
       "      <td>more</td>\n",
       "      <td>med</td>\n",
       "    </tr>\n",
       "    <tr>\n",
       "      <th>1724</th>\n",
       "      <td>5more</td>\n",
       "      <td>more</td>\n",
       "      <td>med</td>\n",
       "    </tr>\n",
       "    <tr>\n",
       "      <th>1725</th>\n",
       "      <td>5more</td>\n",
       "      <td>more</td>\n",
       "      <td>big</td>\n",
       "    </tr>\n",
       "    <tr>\n",
       "      <th>1726</th>\n",
       "      <td>5more</td>\n",
       "      <td>more</td>\n",
       "      <td>big</td>\n",
       "    </tr>\n",
       "    <tr>\n",
       "      <th>1727</th>\n",
       "      <td>5more</td>\n",
       "      <td>more</td>\n",
       "      <td>big</td>\n",
       "    </tr>\n",
       "  </tbody>\n",
       "</table>\n",
       "<p>1728 rows × 3 columns</p>\n",
       "</div>"
      ],
      "text/plain": [
       "      doors persons lug_boot\n",
       "0         2       2    small\n",
       "1         2       2    small\n",
       "2         2       2    small\n",
       "3         2       2      med\n",
       "4         2       2      med\n",
       "...     ...     ...      ...\n",
       "1723  5more    more      med\n",
       "1724  5more    more      med\n",
       "1725  5more    more      big\n",
       "1726  5more    more      big\n",
       "1727  5more    more      big\n",
       "\n",
       "[1728 rows x 3 columns]"
      ]
     },
     "execution_count": 24,
     "metadata": {},
     "output_type": "execute_result"
    }
   ],
   "source": [
    "# Selecting 2 columns from index 2 to index 4 (i.e. 5 minus 1) from the dataset\n",
    "data_car.iloc[ : , 2:5]"
   ]
  },
  {
   "cell_type": "code",
   "execution_count": 25,
   "id": "d4a1d66d",
   "metadata": {},
   "outputs": [
    {
     "data": {
      "text/html": [
       "<div>\n",
       "<style scoped>\n",
       "    .dataframe tbody tr th:only-of-type {\n",
       "        vertical-align: middle;\n",
       "    }\n",
       "\n",
       "    .dataframe tbody tr th {\n",
       "        vertical-align: top;\n",
       "    }\n",
       "\n",
       "    .dataframe thead th {\n",
       "        text-align: right;\n",
       "    }\n",
       "</style>\n",
       "<table border=\"1\" class=\"dataframe\">\n",
       "  <thead>\n",
       "    <tr style=\"text-align: right;\">\n",
       "      <th></th>\n",
       "      <th>maint</th>\n",
       "      <th>doors</th>\n",
       "      <th>persons</th>\n",
       "    </tr>\n",
       "  </thead>\n",
       "  <tbody>\n",
       "    <tr>\n",
       "      <th>4</th>\n",
       "      <td>vhigh</td>\n",
       "      <td>2</td>\n",
       "      <td>2</td>\n",
       "    </tr>\n",
       "    <tr>\n",
       "      <th>5</th>\n",
       "      <td>vhigh</td>\n",
       "      <td>2</td>\n",
       "      <td>2</td>\n",
       "    </tr>\n",
       "    <tr>\n",
       "      <th>6</th>\n",
       "      <td>vhigh</td>\n",
       "      <td>2</td>\n",
       "      <td>2</td>\n",
       "    </tr>\n",
       "    <tr>\n",
       "      <th>7</th>\n",
       "      <td>vhigh</td>\n",
       "      <td>2</td>\n",
       "      <td>2</td>\n",
       "    </tr>\n",
       "  </tbody>\n",
       "</table>\n",
       "</div>"
      ],
      "text/plain": [
       "   maint doors persons\n",
       "4  vhigh     2       2\n",
       "5  vhigh     2       2\n",
       "6  vhigh     2       2\n",
       "7  vhigh     2       2"
      ]
     },
     "execution_count": 25,
     "metadata": {},
     "output_type": "execute_result"
    }
   ],
   "source": [
    "# Selecting 4 rows from index 4 to index 7 and 3 columns from index 1 to index 3 from the dataset\n",
    "data_car.iloc[4:8, 1:4]"
   ]
  },
  {
   "cell_type": "markdown",
   "id": "62a95fb3",
   "metadata": {},
   "source": [
    "If one does not want to select continuous rows or columns, a Python loop may be applied to meet the selection need. Take a look at the following example. "
   ]
  },
  {
   "cell_type": "code",
   "execution_count": 26,
   "id": "1c2ed1da",
   "metadata": {},
   "outputs": [
    {
     "name": "stdout",
     "output_type": "stream",
     "text": [
      "vhigh 2\n",
      "vhigh 2\n",
      "vhigh 2\n",
      "vhigh 2\n",
      "vhigh 2\n",
      "vhigh 2\n",
      "vhigh 2\n",
      "vhigh 2\n",
      "vhigh 2\n",
      "vhigh 2\n"
     ]
    }
   ],
   "source": [
    "# Iterating through each row; selecting index column 0 and 2 respectively. \n",
    "for i in range(10): \n",
    "  print(data_car .iloc[i, 0], data_car.iloc[i, 2]) "
   ]
  },
  {
   "cell_type": "code",
   "execution_count": 27,
   "id": "406e81ee",
   "metadata": {},
   "outputs": [
    {
     "data": {
      "text/plain": [
       "med      432\n",
       "high     432\n",
       "low      432\n",
       "vhigh    432\n",
       "Name: buying, dtype: int64"
      ]
     },
     "execution_count": 27,
     "metadata": {},
     "output_type": "execute_result"
    }
   ],
   "source": [
    "# Using value_counts() to get counts of attributes\n",
    "data_car['buying'].value_counts()"
   ]
  },
  {
   "cell_type": "code",
   "execution_count": 28,
   "id": "d5c8ff65",
   "metadata": {},
   "outputs": [
    {
     "data": {
      "text/plain": [
       "array(['small', 'med', 'big'], dtype=object)"
      ]
     },
     "execution_count": 28,
     "metadata": {},
     "output_type": "execute_result"
    }
   ],
   "source": [
    "# Getting the unique elements from a column, e.g. 'lug_boot', using .unique()\n",
    "data_car['lug_boot'].unique()"
   ]
  },
  {
   "cell_type": "code",
   "execution_count": 29,
   "id": "62f6426c",
   "metadata": {},
   "outputs": [
    {
     "data": {
      "text/plain": [
       "3"
      ]
     },
     "execution_count": 29,
     "metadata": {},
     "output_type": "execute_result"
    }
   ],
   "source": [
    "# Getting the number count of unique elements from a column, e.g. 'lug_boot', using nunique()\n",
    "data_car['lug_boot'].nunique()"
   ]
  },
  {
   "cell_type": "code",
   "execution_count": 30,
   "id": "99bb588f",
   "metadata": {},
   "outputs": [
    {
     "data": {
      "text/plain": [
       "buying      1728\n",
       "maint       1728\n",
       "doors       1728\n",
       "persons     1728\n",
       "lug_boot    1728\n",
       "safety      1728\n",
       "class       1728\n",
       "dtype: int64"
      ]
     },
     "execution_count": 30,
     "metadata": {},
     "output_type": "execute_result"
    }
   ],
   "source": [
    "# Getting the number count of elements for each column\n",
    "data_car.count()"
   ]
  },
  {
   "cell_type": "code",
   "execution_count": 31,
   "id": "737eb871",
   "metadata": {},
   "outputs": [
    {
     "data": {
      "text/plain": [
       "12096"
      ]
     },
     "execution_count": 31,
     "metadata": {},
     "output_type": "execute_result"
    }
   ],
   "source": [
    "# Getting the total number count of elements from all columns (i.e. the entire dataframe)\n",
    "data_car.size"
   ]
  },
  {
   "cell_type": "markdown",
   "id": "6c9437e0",
   "metadata": {},
   "source": [
    "```{index} matplotlib\n",
    "```"
   ]
  },
  {
   "cell_type": "markdown",
   "id": "dd3d8547",
   "metadata": {},
   "source": [
    "## Basics of matplotlib"
   ]
  },
  {
   "cell_type": "markdown",
   "id": "2a745e27",
   "metadata": {},
   "source": [
    "There is an old saying, a picture is worth a thousand words. Data visualization enables a reader to perceive and process information in a visualized form. Technically, data visualization transforms numerical data into a visual form. It facilitates both professionals and the general public to understand complex analytical results. Moreover, it is an important and interesting topic for data analysis. "
   ]
  },
  {
   "cell_type": "markdown",
   "id": "fb5a31e1",
   "metadata": {},
   "source": [
    "There are several dedicated Python libraries for data visualization, including Matplotlib, Plotly, and Altair. In this section, we will talk about data visualization in general and describe the basic use of Matplotlib for plotting charts. More information about the use of Matplotlib can be found from its official website: https://matplotlib.org/ "
   ]
  },
  {
   "cell_type": "markdown",
   "id": "5ed9b8fe",
   "metadata": {},
   "source": [
    "In this chapter, we will focus on the creation, description, and comparison of two-dimensional charts. Let's take the first example of visualization with Matplotlib. The following code creates a line chart from the (x,y) pairs of data. "
   ]
  },
  {
   "cell_type": "code",
   "execution_count": 32,
   "id": "168d1bdf",
   "metadata": {},
   "outputs": [
    {
     "data": {
      "image/png": "[encoded data removed]",
      "text/plain": [
       "<Figure size 432x288 with 1 Axes>"
      ]
     },
     "metadata": {
      "needs_background": "light"
     },
     "output_type": "display_data"
    }
   ],
   "source": [
    "# Example 1: A line chart\n",
    "# import matplotlib.pyplot for visualization\n",
    "import matplotlib.pyplot as plt\n",
    "# data for pairs x and y\n",
    "x_values = [1, 2, 3, 4, 5, 6, 7, 8]\n",
    "y_values = [1, 4, 5, 2, 5, 3, 3, 4]\n",
    "# plotting and labeling\n",
    "plt.plot(x_values, y_values)\n",
    "plt.xlabel('X')\n",
    "plt.ylabel('Y')\n",
    "plt.show()"
   ]
  },
  {
   "cell_type": "markdown",
   "id": "01891c10",
   "metadata": {},
   "source": [
    "Explanation: matplotlib is a giant package that includes lots of visualization sub-packages and functions. We may specify the collection of functions that will be used in plotting charts, such as line charts, pie charts, etc. Therefore, we import `matplotlib.pyplot` instead of `matplotlib` so that we do not have to repeatedly write pyplot when we use its functions. Since matplotlib.pyplot is a relatively long name, we conventionally use the shorter name plt to substitute it for convenience.    \n",
    "\n",
    "The `plot90` function does the visualization, and `xlabel` and `ylabel` are used for the naming of x-axis and y-axis. Finally, we use the `show()` function to let the chart display in the Jupyter Notebook.   \n",
    "\n",
    "In a line chart, data points are connected by lines. We generally use a line chart when there are continuous data, e.g. stock price changes, heart rate monitoring. Occasionally, data points should not be connected as they are independent values, such as location coordinates. A scatter plot will be suitable for this kind of display.\n"
   ]
  },
  {
   "cell_type": "code",
   "execution_count": 33,
   "id": "3605e3db",
   "metadata": {},
   "outputs": [
    {
     "data": {
      "image/png": "[encoded data removed]",
      "text/plain": [
       "<Figure size 432x288 with 1 Axes>"
      ]
     },
     "metadata": {
      "needs_background": "light"
     },
     "output_type": "display_data"
    }
   ],
   "source": [
    "# Example 2: a scatter plot\n",
    "# import matplotlib.pyplot for visualization\n",
    "import matplotlib.pyplot as plt\n",
    "# Integrate matplotlib displays with Jupyter\n",
    "%matplotlib inline\n",
    "\n",
    "\n",
    "# data for pairs x and y\n",
    "x_points = [1, 3, 4, 4, 5, 5, 6, 6, 6, 7]\n",
    "y_points = [2, 4, 1, 5, 4, 3, 6, 6, 1, 2]\n",
    "# plotting and labeling\n",
    "plt.scatter(x_points, y_points)\n",
    "plt.xlabel('X-coordinates')\n",
    "plt.ylabel('Y-coordinates')\n",
    "plt.show()"
   ]
  },
  {
   "cell_type": "markdown",
   "id": "02aba550",
   "metadata": {},
   "source": [
    "Sometimes, users prefer implementing charts using arrays from the Numpy library (see the previous chapter) instead of lists.\n",
    "We can re-write the above code to use Numpy arrays."
   ]
  },
  {
   "cell_type": "code",
   "execution_count": 34,
   "id": "c16736a9",
   "metadata": {},
   "outputs": [
    {
     "data": {
      "image/png": "[encoded data removed]",
      "text/plain": [
       "<Figure size 432x288 with 1 Axes>"
      ]
     },
     "metadata": {
      "needs_background": "light"
     },
     "output_type": "display_data"
    }
   ],
   "source": [
    "# Example 2.1 : a scatter plot, data from numpy\n",
    "# import matplotlib.pyplot for visualization, numpy for arrays of data\n",
    "import matplotlib.pyplot as plt\n",
    "import numpy as np\n",
    "# data for pairs x and y\n",
    "x_points = np.array([1, 3, 4, 4, 5, 5, 6, 6, 6, 7])\n",
    "y_points = np.array([2, 4, 1, 5, 4, 3, 6, 6, 1, 2])\n",
    "# plotting and labeling\n",
    "plt.scatter(x_points, y_points)\n",
    "plt.xlabel('X-coordinates')\n",
    "plt.ylabel('Y-coordinates')\n",
    "plt.show()"
   ]
  },
  {
   "cell_type": "markdown",
   "id": "a8933932",
   "metadata": {},
   "source": [
    "Explanation: Just as we deal with `matplotlib.pyplot`, we conventionally take `numpy` as `np` for convenience. All data from `x_points` and `y_points` are incorporated into Numpy's array structures. With `np.array`, all data points are stored and processed in a similar manner as with Python's basic arrays."
   ]
  },
  {
   "cell_type": "code",
   "execution_count": 35,
   "id": "76aff85a",
   "metadata": {},
   "outputs": [
    {
     "data": {
      "image/png": "[encoded data removed]",
      "text/plain": [
       "<Figure size 432x288 with 1 Axes>"
      ]
     },
     "metadata": {
      "needs_background": "light"
     },
     "output_type": "display_data"
    }
   ],
   "source": [
    "# Example 3: plotting a sine wave\n",
    "# import matplotlib.pyplot and numpy\n",
    "import matplotlib.pyplot as plt\n",
    "import numpy as np\n",
    "# Specifying the range of x, starting value, ending value, and intervals\n",
    "x_range = np.arange(-9, 9, 0.1)\n",
    "# Applying the sine wave \n",
    "y = np.sin(x_range)\n",
    "plt.plot(x_range, y)\n",
    "plt.show()"
   ]
  },
  {
   "cell_type": "markdown",
   "id": "2b54163c",
   "metadata": {},
   "source": [
    "Explanation: From the above code, numpy's `arange()` function  takes three parameters. The first two determine the range of x values for displaying the sine wave. The third parameter is the intervals between two data points. A sine function itself treats and outputs continuous data but our Python's code still deals with the \"dots\" of data with numpy. Therefore, we make the plot look like a curved data by placing a sufficient number of data points. The curve will look smooth if more points are added or rough if fewer are there. An interval of 0.1 as shown in the example means that the there is a distance of x=0.1 between two data points. x_range can be viewed as time and y can be viewed as amplitude.\n",
    "\n",
    "Another useful chart in visualization is the bar chart. Data from different categories may be presented with a bar chart. For example, a business would like to display the count of different shirt sizes from the its inventory.  The following code does its job by a bar chart.\n"
   ]
  },
  {
   "cell_type": "markdown",
   "id": "f1d12ad9",
   "metadata": {},
   "source": [
    "```{index} barchart\n",
    "```"
   ]
  },
  {
   "cell_type": "code",
   "execution_count": 36,
   "id": "493afe49",
   "metadata": {},
   "outputs": [
    {
     "data": {
      "image/png": "[encoded data removed]",
      "text/plain": [
       "<Figure size 432x288 with 1 Axes>"
      ]
     },
     "metadata": {
      "needs_background": "light"
     },
     "output_type": "display_data"
    }
   ],
   "source": [
    "# Example 4: plotting a bar chart\n",
    "# import matplotlib.pyplot and numpy\n",
    "import matplotlib.pyplot as plt\n",
    "import numpy as np\n",
    "# Specifying x as catagories and y as value counts for its related catagory\n",
    "x_cat = np.array([\"S\", \"M\", \"L\", \"XL\", \"XXL\"])\n",
    "y_counts = np.array([93, 28, 65, 40, 51])\n",
    "# Displaying the bar chart with labels\n",
    "plt.bar(x_cat, y_counts)\n",
    "plt.xlabel(\"Shirt size\")\n",
    "plt.ylabel(\"Counts\")\n",
    "plt.show()"
   ]
  },
  {
   "cell_type": "markdown",
   "id": "4469fd01",
   "metadata": {},
   "source": [
    "If one needs to present data with a horizontal bar, we can simply replace the `.bar()` function with `.barh()`, as  `plt.barh(x_cat, y_counts)`. \n",
    "\n",
    "Both the bar chart and the line chart are used to represent quantitative data. Both may be suitable to display continuous data. However, a bar chart should be chosen if such data is discrete data. \n",
    "\n",
    "Similar to a bar chart, a histogram is used for displaying the distribution of data frequencies. Although a bar chart and a histogram look similar and both are used in statistical representation of data, there are differences. In a histogram, bars are next to each other without any interval. A histogram is a graphical representation of quantitative data, such as non-discrete data, whereas a bar chart is of categorical data.\n",
    "\n",
    "We demonstrate a histogram with the following example. It is for displaying the population among age groups in an area. \n"
   ]
  },
  {
   "cell_type": "code",
   "execution_count": 37,
   "id": "dd1e8d4e",
   "metadata": {},
   "outputs": [
    {
     "data": {
      "image/png": "[encoded data removed]",
      "text/plain": [
       "<Figure size 432x288 with 1 Axes>"
      ]
     },
     "metadata": {
      "needs_background": "light"
     },
     "output_type": "display_data"
    }
   ],
   "source": [
    "# Example 5: plotting a histogram\n",
    "# import matplotlib.pyplot and numpy\n",
    "import matplotlib.pyplot as plt\n",
    "import numpy as np\n",
    "# Specifying ages\n",
    "ages = np.array([14, 30, 20, 31, 27, 25, 21, 9, 30, 45, 25, 58, 17, 69, 16, 40, 8, 13, 44, 51, 27, 49, 19, 5])\n",
    "# Displaying the histogram with labels\n",
    "plt.hist(ages)\n",
    "plt.xlabel(\"Age Groups\")\n",
    "plt.ylabel(\"Population\")\n",
    "plt.show()"
   ]
  },
  {
   "cell_type": "code",
   "execution_count": 3,
   "id": "c3b67aad",
   "metadata": {},
   "outputs": [
    {
     "ename": "SyntaxError",
     "evalue": "invalid syntax (<ipython-input-3-d46d90278083>, line 1)",
     "output_type": "error",
     "traceback": [
      "\u001b[0;36m  File \u001b[0;32m\"<ipython-input-3-d46d90278083>\"\u001b[0;36m, line \u001b[0;32m1\u001b[0m\n\u001b[0;31m    ```{index} pie chart\u001b[0m\n\u001b[0m    ^\u001b[0m\n\u001b[0;31mSyntaxError\u001b[0m\u001b[0;31m:\u001b[0m invalid syntax\n"
     ]
    }
   ],
   "source": [
    "```{index} pie chart\n",
    "```"
   ]
  },
  {
   "cell_type": "markdown",
   "id": "c5413e12",
   "metadata": {},
   "source": [
    "What if a user wants to present the data that will better display the ratio of each of the categories instead of the absolute value of them? A pie chart may be a good choice. Data values presented in the example are purely fictional and do not reflect any market share in any region in the real world.  "
   ]
  },
  {
   "cell_type": "code",
   "execution_count": 38,
   "id": "d25e430e",
   "metadata": {},
   "outputs": [
    {
     "data": {
      "image/png": "[encoded data removed]",
      "text/plain": [
       "<Figure size 432x288 with 1 Axes>"
      ]
     },
     "metadata": {},
     "output_type": "display_data"
    }
   ],
   "source": [
    "# Example 6: plotting a pie chart\n",
    "# import matplotlib.pyplot and numpy\n",
    "import matplotlib.pyplot as plt\n",
    "import numpy as np\n",
    "# Specifying shares of the brands and the names of each associated brand.\n",
    "brand_shares = np.array([2014, 1848, 1520, 1005, 722, 569] )\n",
    "brand_labels = [\"Samsung\", \"OnePlus\", \"Apple\", \"Xiaomi\", \"Huawei\", \"Others\"]\n",
    "# Displaying the pie chart with labels attached to each share.\n",
    "plt.pie(brand_shares, labels = brand_labels)\n",
    "plt.show()"
   ]
  },
  {
   "cell_type": "markdown",
   "id": "f14cfee5",
   "metadata": {},
   "source": [
    "Now, we put the above-mentioned information together to make a graphical representation of data in the real world. For example, we may be interested in a climate data visualization. One would find it easy to read the temperature changes and precipitation differences through charts instead of a string of numbers. In particular, we visualize the monthly climate data for Addis Ababa, Ethiopia. The related data source can be found from [the World Meteorological Organization](https://worldweather.wmo.int/en/city.html?cityId=162)."
   ]
  },
  {
   "cell_type": "markdown",
   "id": "591bbc5b",
   "metadata": {},
   "source": [
    "In our approach, we present the precipitation data with a bar chart and the temperature data with a line chart using the `matplotlib` library. The precipitation data is according to the average monthly rainfall in millimeters. The temperature data is according to the mean daily minimum temperature and the mean daily maximum temperature in Celsius (°C). The readings are monthly, from January to December.\n",
    "\n",
    "- Precipitation: 13, 30, 58, 82, 84, 138, 280, 290, 149, 27, 7, 7\n",
    "- Daily high temperature:  24, 24, 25, 24, 25, 23, 21, 21, 22, 23, 23, 23 \n",
    "- Daily low temperature: 8, 9, 10, 11, 11, 10, 10, 10, 10, 9, 7, 7\n",
    "\n"
   ]
  },
  {
   "cell_type": "code",
   "execution_count": 39,
   "id": "bc302afb",
   "metadata": {},
   "outputs": [
    {
     "data": {
      "image/png": "[encoded data removed]",
      "text/plain": [
       "<Figure size 432x288 with 2 Axes>"
      ]
     },
     "metadata": {
      "needs_background": "light"
     },
     "output_type": "display_data"
    }
   ],
   "source": [
    "# Import the library\n",
    "import matplotlib.pyplot as plt\n",
    "\n",
    "months = ['Jan', 'Feb', 'Mar', 'Apr', 'May', 'Jun', 'Jul', 'Aug', 'Sept', 'Oct', 'Nov', 'Dec']\n",
    "\n",
    "# Store the data in Python lists\n",
    "precipitation = [13, 30, 58, 82, 84, 138, 280, 290, 149, 27, 7, 7]\n",
    "daily_high = [24, 24, 25, 24, 25, 23, 21, 21, 22, 23, 23, 23]\n",
    "daily_low = [8, 9, 10, 11, 11, 10, 10, 10, 10, 9, 7, 7]\n",
    "\n",
    "fig, ax = plt.subplots()\n",
    "ax.bar(months, precipitation, color='gray')\n",
    "ax2 = ax.twinx()\n",
    "ax2.plot(months, daily_high, color='red')\n",
    "ax2.plot(months, daily_low, color='blue')\n",
    "plt.show()"
   ]
  },
  {
   "cell_type": "markdown",
   "id": "80f2c33a",
   "metadata": {},
   "source": [
    "Explanation: in this figure, we put both precipitation data and temperature data (high and low) together. Since several different data records are in the same place, we use the `subplots()` function to make them appear in one single figure instead of multiple ones. We also choose to add paramaters such as color to differentiate presented data, so that the overall display can convey the information to the readers more effectively."
   ]
  },
  {
   "cell_type": "markdown",
   "id": "a8c7b0bc",
   "metadata": {},
   "source": [
    "In summary, first and foremost, any data visualization must accurately and completely reflect the original data. Additionally, scientists should also make a reasonable choice of the data visualization form. In our example of present Addis Ababa's climate data, we use both a line chart and a histogram to represent a series of data. Both the line chart and the histogram are possible for displaying the differences between any two data points. However, a line chart is usually adopted to reflect the changes whereas a histogram may be more effective to tell the absolute value of data.\n",
    "\n",
    "We have demonstrated the use of Python's visualization library, Watplotlib. We must realize that choosing a suitable visualization method is equally as important as choosing a right visualization tool. Furthermore, annotations such as labels and legends are necessary to help people understand the visualization. For making a good data visualization, there are other factors for us to consider, such as chart size, color selections and uses, design styles, animations, and so on.\n"
   ]
  },
  {
   "cell_type": "markdown",
   "id": "94938b25",
   "metadata": {},
   "source": [
    "## Exercises"
   ]
  },
  {
   "cell_type": "markdown",
   "id": "68dc1f8b",
   "metadata": {},
   "source": [
    ":::{admonition} Exercises\n",
    "\n",
    "**1. An Overview of Data and Data Analysis**\n",
    "\n",
    "1) Show three different sources of data in the real world and outline the main challenge of analyzing each dataset.\n",
    "\n",
    "2) Imagine that a system receives data at 5 Giga Bytes per second (i.e. 5GB/s) for a scientific project. However, the scientists must concurrently process all the data because the store-now-process-later option is unavailable. Moreover, these scientists do not have any single piece of equipment that processes such a large amount of data at that speed. The only systems they have can process 1 GB of data per second (1GB/s). What is your solution to this data processing problem?\n",
    "\n",
    "3) Does structured data have higher quality than unstructured data? If so, justify your answer. If not, give a counterexample.\n",
    "\n",
    "\n",
    "**2. Data Operations**\n",
    "\n",
    "1) Write a Python program that can take a limitless number of user input values but let the program output a maximum of first 6 values. You can freely design and determine how the program takes each value and how it stops accepting user inputs. For example, if the user inputs 1, 2, 3, 4, the program outputs 1, 2, 3, 4. If the user inputs 1, 3, 5, 7, 9, 2, 4, 6, 8, 0, the program outputs 1, 3, 5, 7, 9, 2.\n",
    "\n",
    "2) There is a .csv file that stores data like a spreadsheet. There are 100 lines in total. Each line has 25 commas that are used to separate data. This .csv file also contains a title line (in the first row) and an index column (in the first column). The titles and indices are not part of the actual and meaningful data records. Only the remaining fields (i.e. data below the title line and right to the index column) are the actual data records. How many actual data records can this .csv file store?\n",
    "\n",
    "3) Assume that an end user inputs a line of data. That line contains all numbers that are separated by comma. For example, the user input from the keyboard is:\n",
    "150,200,250,300,400,500,50,5,0,1,2\n",
    "There is a comma (no space) between any two numbers. There is no comma before the first number or after the last number. \n",
    "Write a Python program to read the entire line and parse the data in a way that treats the numbers separately. The program should produce the output with each number in one line, like the following:\n",
    "\n",
    "\n",
    "150  \n",
    "200  \n",
    "250  \n",
    "300  \n",
    "400  \n",
    "500  \n",
    "50  \n",
    "5  \n",
    "0  \n",
    "1  \n",
    "2  \n",
    "\n",
    "5) A well-formatted .csv file should have only one kind of data separator, such as commas. What if the original data file contains commas and semicolons both as data separators? Outline a method to correctly process that kind of file. \n",
    "\n",
    "\n",
    "**3. Introduction to Pandas**\n",
    "\n",
    "1)  We will be using the World Population Dataset for this question. The dataset was originally obtained from the World Bank of the United Nations: https://api.worldbank.org/v2/en/indicator/SM.POP.TOTL?downloadformat=csv  \n",
    "\n",
    "Some pre-processing steps have already been taken for the purpose of making this question, including the removal of unnecessary rows from the original file. You can use our prepared file world_population.excel for the data analysis purpose.\n",
    "\n",
    " a) Read the data file.\n",
    "\n",
    "A dataset is often so large that we do not want to display everything from it. Sometimes, we just want to take a glance at the structure of the dataset by viewing the first few rows. \n",
    "\n",
    " b) Display the first 5 rows of data.\n",
    "\n",
    "Particular rows may be selected for displaying purposes. For example, we may be interested in knowing the population values for a specific country or multiple countries.\n",
    "\n",
    " c) Display the population values for the country Ethiopia. \n",
    "\n",
    " d) Select and display all countries and regions whose population is over 10 million in the year of 2000. \n",
    "\n",
    "\n",
    "\n",
    "2) Write one Python program that calculates the following values from a given set of numbers: 10301, 4994, 8872, 9624, 3666, 924, 73712, 3823, 55900, 62, 6498, 852, 24540, 421, 67891, 924, 80192, 3667, 494, 1788. You can choose any data structure for the storage and the processing of these numbers. You will then choose and apply any suitable functions for the calculations.\n",
    "\n",
    "    a) the number count, i.e. how many elements in this set.\n",
    "    \n",
    "    b) the sum of all these numbers.\n",
    "    \n",
    "    c) the minimum value from this set.\n",
    "    \n",
    "    d) the maximum value from this set.\n",
    "    \n",
    "    e)  the median value from this set.\n",
    "    \n",
    "    f) the mode of the elements in this set.\n",
    "    \n",
    "    g) the standard deviation from this set.\n",
    "    \n",
    "    h) the variance (defined as the square of the standard deviation from #7). \n",
    "\n",
    "\n",
    "\n",
    "**4. Basics of matplotlib**\n",
    "\n",
    "If a statistician wants to analyze the data of total births by month in a region, i.e. January: 253, February: 229, March: 247, … What charts would you suggest to use in order to display the monthly records in data visualization? What type of chart is more suitable or less suitable, and for what kind of analysis purpose? Hint: this is a semi-open-ended question. The selection of a chart is determined by a set goal.\n",
    "\n",
    ":::"
   ]
  }
 ],
 "metadata": {
  "kernelspec": {
   "display_name": "Python 3 (ipykernel)",
   "language": "python",
   "name": "python3"
  },
  "language_info": {
   "codemirror_mode": {
    "name": "ipython",
    "version": 3
   },
   "file_extension": ".py",
   "mimetype": "text/x-python",
   "name": "python",
   "nbconvert_exporter": "python",
   "pygments_lexer": "ipython3",
   "version": "3.11.7"
  }
 },
 "nbformat": 4,
 "nbformat_minor": 5
}
