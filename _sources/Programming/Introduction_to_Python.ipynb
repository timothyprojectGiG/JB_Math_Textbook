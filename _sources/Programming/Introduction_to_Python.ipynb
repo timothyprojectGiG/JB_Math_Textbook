{
 "cells": [
  {
   "cell_type": "markdown",
   "metadata": {},
   "source": [
    "# Introduction to Python\n",
    "\n",
    "This chapter introduces programming concepts and how those concepts are expressed in the Python programming language. Keep in mind that *learning to program* and *learning the Python programming language* are different things. Learning to program involves learning to break problems down into computational steps and synthesizing those steps into an algorithm, independently of what programming language, if any, one is using. To learn a programming language is to learn how those computational steps are expressed in the syntax and idioms of a specific coding system. \n",
    "\n",
    "Learning to program and learning a programming language both take time and effort. A chapter like this isn't enough to teach you everything about Python if you already know how to program in another language, and it certainly isn't enough to teach you how to program if you haven't programmed before. Many good books and online tutorials exist for those purposes. What we hope to accomplish in this chapter is highlight basic facts about programming and the Python programming language so that you know what to anticipate in the chapters that follow. This way you can begin to follow and make changes to the code portions of the notebooks. Obsvering the code in this book can be your first step towards writing programs yourself."
   ]
  },
  {
   "cell_type": "markdown",
   "metadata": {},
   "source": [
    "```{index} expressions\n",
    "```\n",
    "\n",
    "```{index} types\n",
    "```\n",
    "\n",
    "```{index} variables\n",
    "```\n",
    "\n",
    "```{index} statements\n",
    "```"
   ]
  },
  {
   "cell_type": "markdown",
   "metadata": {},
   "source": [
    "## Expressions, types, variables, and statements\n",
    "\n",
    "The fundamental building block of code is an *expression*, which is a construct in the programming language that evaluates to a value. We can put an expression in a code cell in a notebook like this, and the Python interpreter will read that expression, evaluate it, and display the result. There are many kinds of expressions, but the easiest to understand are mathematical expressions, since they look mainly the same as they do in mathematical writing.\n",
    "Here are a few examples."
   ]
  },
  {
   "cell_type": "code",
   "execution_count": null,
   "metadata": {},
   "outputs": [],
   "source": [
    "5"
   ]
  },
  {
   "cell_type": "code",
   "execution_count": null,
   "metadata": {},
   "outputs": [],
   "source": [
    "7+3"
   ]
  },
  {
   "cell_type": "code",
   "execution_count": null,
   "metadata": {},
   "outputs": [],
   "source": [
    "(27-9)/17"
   ]
  },
  {
   "cell_type": "markdown",
   "metadata": {},
   "source": [
    "Values have different *types*. A type is a set of values associated together by how they are stored in computer memory and what operations are defined for them. Integers are real numbers and are represented by different types in Python. We can see the type of an expression by using the *type* function."
   ]
  },
  {
   "cell_type": "code",
   "execution_count": null,
   "metadata": {},
   "outputs": [],
   "source": [
    "type(3+7)"
   ]
  },
  {
   "cell_type": "code",
   "execution_count": null,
   "metadata": {},
   "outputs": [],
   "source": [
    "type(24/7)"
   ]
  },
  {
   "cell_type": "markdown",
   "metadata": {},
   "source": [
    "The type `int` is obviously short for *integer*. The real number type is called `float`--that is, *floating point*--in reference to how fractional values are stored in computer memory. Notice that in these two cases, the type itself is the value: the result of evaluating `type(3+7)` is the *type* of the result of `3+7`, not the result of `3+7` itself.\n",
    "\n",
    "Not all values are numeric. Other type of values include `str` (*string*, for text values) and `bool` (*boolean*, for logical values)."
   ]
  },
  {
   "cell_type": "code",
   "execution_count": null,
   "metadata": {},
   "outputs": [],
   "source": [
    "'jupyter notebook'"
   ]
  },
  {
   "cell_type": "code",
   "execution_count": null,
   "metadata": {},
   "outputs": [],
   "source": [
    "type('jupyter notebook')"
   ]
  },
  {
   "cell_type": "code",
   "execution_count": null,
   "metadata": {},
   "outputs": [],
   "source": [
    "3 < 7"
   ]
  },
  {
   "cell_type": "code",
   "execution_count": null,
   "metadata": {},
   "outputs": [],
   "source": [
    "type(3 < 7)"
   ]
  },
  {
   "cell_type": "markdown",
   "metadata": {},
   "source": [
    "Values can be stored in *variables* so that they can be reused."
   ]
  },
  {
   "cell_type": "code",
   "execution_count": null,
   "metadata": {},
   "outputs": [],
   "source": [
    "x = 7 + 3\n",
    "x * 12"
   ]
  },
  {
   "cell_type": "markdown",
   "metadata": {},
   "source": [
    "In the first line of that cell, `7 + 3` is an expression, as in earlier examples, but the line as a whole, `x = 7 + 3`, is not an expression but a *statement*. This means it does not result in a value but rather has a *side effect*, which means it makes the Python interpreter do something like display a plot, print something to the output, or, in this case, store a value in a variable. This is important because it means `x = 7 + 3` is not a *comparison* (Is *x* equal to `7 + 3`?) but an *assignment* (Store the result of `7+3` in variable *x*!). To test if two expressions evaluate to the same value, we use `==` instead of `=`."
   ]
  },
  {
   "cell_type": "code",
   "execution_count": null,
   "metadata": {},
   "outputs": [],
   "source": [
    "x == 12"
   ]
  },
  {
   "cell_type": "markdown",
   "metadata": {},
   "source": [
    "For a lot of purposes your knowledge of variables from math can guide you in understanding variables in Python or other code. But the difference between comparison and assignment bring up an important difference: just as variables can be assigned, they can also be *reassigned*. In fact, they can be used and reassigned in the same statement."
   ]
  },
  {
   "cell_type": "code",
   "execution_count": null,
   "metadata": {},
   "outputs": [],
   "source": [
    "x = x + 1\n",
    "x"
   ]
  },
  {
   "cell_type": "markdown",
   "metadata": {},
   "source": [
    "Mathematically $x = x + 1$ makes little sense, apart from always being false. (Can you think of any algebraic structure in which an element is equal to itself plus the multiplicative identity? I can't.) But in programming it means, \"Take the value that *x* used to be, add 1 to that value, and store that value back in variable *x*. To put a fancy word to it, variables in Python are *mutable*.\n",
    "\n",
    "As a final observation about expressions and statements, notice that in each of the cells so far the output has been the value that results from the last expression. If we want to display more information, we can use the `print()` function, which has the side effect of displaying something to output. This function takes a string as its input. We can make a bigger string from smaller strings using `+`, which in the context of strings does *string concatenation*. Most non-string values can be turned to strings using the `str()` function."
   ]
  },
  {
   "cell_type": "code",
   "execution_count": null,
   "metadata": {},
   "outputs": [],
   "source": [
    "print('At first x is ' + str(x))\n",
    "x = x + 1\n",
    "print('Now x is ' + str(x))\n",
    "x = x * 25\n",
    "print('Finally, x is ' + str(x))"
   ]
  },
  {
   "cell_type": "markdown",
   "metadata": {},
   "source": [
    "```{index} conditionals\n",
    "```\n",
    "\n",
    "```{index} while loops\n",
    "```"
   ]
  },
  {
   "cell_type": "markdown",
   "metadata": {},
   "source": [
    "## Conditionals and while loops\n",
    "\n",
    "If a computational task is complicated enough that we want to use a computer for it, then it almost certainly requires some sort of decision-making and repetition. The most basic construct for making a decision in an algorithm is a *conditional*, which uses the Python keyword `if`."
   ]
  },
  {
   "cell_type": "code",
   "execution_count": null,
   "metadata": {},
   "outputs": [],
   "source": [
    "if x < 12 :\n",
    "    print('Hello')"
   ]
  },
  {
   "cell_type": "markdown",
   "metadata": {},
   "source": [
    "Since `x` (from earlier) is *not* less than 12, the print statement wasn't executed, and this cell had no output.  We can make this into a decision between alternatives using `else`."
   ]
  },
  {
   "cell_type": "code",
   "execution_count": null,
   "metadata": {},
   "outputs": [],
   "source": [
    "if x < 12 :\n",
    "    print('Hello')\n",
    "else :\n",
    "    print('Aloha')"
   ]
  },
  {
   "cell_type": "markdown",
   "metadata": {},
   "source": [
    "We can make a multiway branch by using any number of `elif` (short for `else if`) clauses in our conditional statement."
   ]
  },
  {
   "cell_type": "code",
   "execution_count": null,
   "metadata": {},
   "outputs": [],
   "source": [
    "if x < 12 :\n",
    "    print('Hello')\n",
    "elif x < 100 :\n",
    "    print('Howdy')\n",
    "elif x < 350 :\n",
    "    print('Ni hao')\n",
    "else :\n",
    "    print('Aloha')"
   ]
  },
  {
   "cell_type": "markdown",
   "metadata": {},
   "source": [
    "Repetition is implemented using a loop, which executes a statement (the *body* of the loop) as long as a condition (the *guard* of the loop) is true. Each execution of the body is an *iteration* of the loop."
   ]
  },
  {
   "cell_type": "code",
   "execution_count": null,
   "metadata": {},
   "outputs": [],
   "source": [
    "y = 10\n",
    "while y > 0 :\n",
    "    print('There are ' + str(y) + ' iterations left.')\n",
    "    y -= 1\n",
    "    print('(Deep breath)')"
   ]
  },
  {
   "cell_type": "markdown",
   "metadata": {},
   "source": [
    "Notice several things in this example: The body of the loop consists of three statements; however, these three statements are treated as one *compound statement* because they are all indented together. The statement `y -= 1` is a convenient shorthand for `y = y - 1`. We can similarly use `y += 1` to mean increment *y* by one, etc. Finally, the loop did not stop as soon as *y* was no longer greater than 0 (when `y -= 1` was executed the final time) but rather when it finished the iteration, printing `(Deep breath)` one last time. This is because the guard is checked only between iterations---it is not continuously checked while the body is executed. \n",
    "\n",
    "If we wanted to quit the loop in the middle of an iteration, we can do that using a `break` statement, which we can put inside a conditional. In the following example, we use this instead of the guard and simply make the guard itself to be `True`."
   ]
  },
  {
   "cell_type": "code",
   "execution_count": null,
   "metadata": {},
   "outputs": [],
   "source": [
    "y = 10\n",
    "while True :\n",
    "    print('There are ' + str(y) + ' iterations left.')\n",
    "    y -= 1\n",
    "    if y <= 0 :\n",
    "        break\n",
    "    print('(Deep breath)')"
   ]
  },
  {
   "cell_type": "markdown",
   "metadata": {},
   "source": [
    "To see how well you follow this, make sure you can explain, *(1)* Why did we invert the guard from `y > 10` to the `y <= 10`? and, *(2)* Why didn't the output end with `(Deep breath)` as in the original loop?"
   ]
  },
  {
   "cell_type": "markdown",
   "metadata": {},
   "source": [
    "```{index} functions\n",
    "```"
   ]
  },
  {
   "cell_type": "markdown",
   "metadata": {},
   "source": [
    "## Functions\n",
    "\n",
    "You already know about functions from mathematics. With just a little bit of Python syntax, you can make mathematical functions that fit right into the Python coding we've seen. Let's take \n",
    "\n",
    "\n",
    "$f(x, y) = 2 x^2 - 3x + \\frac{y}{x}$\n",
    "\n",
    "If we replace the = for a `:` and throw in the Python keywords `def` and `return` (because we are *defining* a function to *return* a certain value as its result), we get"
   ]
  },
  {
   "cell_type": "code",
   "execution_count": null,
   "metadata": {},
   "outputs": [],
   "source": [
    "def f(x, y) :\n",
    "    return 2 * x**2 - 3 * x + y/x"
   ]
  },
  {
   "cell_type": "markdown",
   "metadata": {},
   "source": [
    "Now we can *call* or *apply* the function to some *parameters* (or arguments), which all together makes an expression. (The `**` operator does exponentiation.)"
   ]
  },
  {
   "cell_type": "code",
   "execution_count": null,
   "metadata": {},
   "outputs": [],
   "source": [
    "f(5, 3)"
   ]
  },
  {
   "cell_type": "markdown",
   "metadata": {},
   "source": [
    "That's well and good mathematically. But in programming, a function can be much more than that: it's a way to package up a chunk of code, give the chunk of code a name, specify a variable to hold the input to that chunk of code, and indicate what that chunk of code's output is, based on what is computed from the input when the chunk of code is executed. This allows that chunk of code to be executed many times from any context. (And we promise that we'll never use the phrase *chunk of code* from this point on.)"
   ]
  },
  {
   "cell_type": "code",
   "execution_count": null,
   "metadata": {},
   "outputs": [],
   "source": [
    "def greatest_common_divisor(a, b) :\n",
    "    while b > 0 :\n",
    "        r = a % b    # The % operator is called \"modulo\" or \"mod\". It compute a remainder\n",
    "        a = b\n",
    "        b = r\n",
    "    return a"
   ]
  },
  {
   "cell_type": "code",
   "execution_count": null,
   "metadata": {},
   "outputs": [],
   "source": [
    "greatest_common_divisor(24, 18)"
   ]
  },
  {
   "cell_type": "code",
   "execution_count": null,
   "metadata": {},
   "outputs": [],
   "source": [
    "greatest_common_divisor(100, 75)"
   ]
  },
  {
   "cell_type": "code",
   "execution_count": null,
   "metadata": {},
   "outputs": [],
   "source": [
    "def mad_lib(exclamation, adverb, plural_noun, verb):\n",
    "    print('\"' + exclamation + '!\" he said ' + adverb + '. \"I didn\\'t know ' + plural_noun + \n",
    "          ' could ' + verb + '.\"')"
   ]
  },
  {
   "cell_type": "code",
   "execution_count": null,
   "metadata": {},
   "outputs": [],
   "source": [
    "mad_lib('Wow', 'warily', 'cardinals', 'yodel')"
   ]
  },
  {
   "cell_type": "markdown",
   "metadata": {},
   "source": [
    "```{index} inline (lambda) functions\n",
    "```"
   ]
  },
  {
   "cell_type": "markdown",
   "metadata": {},
   "source": [
    "## Anonymous (lambda) Functions"
   ]
  },
  {
   "cell_type": "markdown",
   "metadata": {},
   "source": [
    "In Python, functions are *values*, just like integers, floats, bools, and strings. This means that we can store them in variables. The following statement assigns the variable `g` to store the same function as is already referred to by function `f`:"
   ]
  },
  {
   "cell_type": "code",
   "execution_count": null,
   "metadata": {},
   "outputs": [],
   "source": [
    "g = f"
   ]
  },
  {
   "cell_type": "markdown",
   "metadata": {},
   "source": [
    "The result is that `g` is an alias for `f`:"
   ]
  },
  {
   "cell_type": "code",
   "execution_count": null,
   "metadata": {},
   "outputs": [],
   "source": [
    "g(12, 7)"
   ]
  },
  {
   "cell_type": "markdown",
   "metadata": {},
   "source": [
    "Since functions are values, we can make a function value without a name at all---an *anonymous* function. The syntax for an anonymous function begins with the keyword `lambda` which, for historical reasons, is used to introduce function definitions; followed by a list of parameters; a colon; and then an expression for computing the value to be returned. Here is a simple example that encapsulates the expression $x^2$ as a function, but does not give that function a name."
   ]
  },
  {
   "cell_type": "code",
   "execution_count": null,
   "metadata": {},
   "outputs": [],
   "source": [
    "lambda x:x**2"
   ]
  },
  {
   "cell_type": "markdown",
   "metadata": {},
   "source": [
    "Since this value is a function, it can be called. Here the anonymous function is again, but this time immediately applied to a parameter:"
   ]
  },
  {
   "cell_type": "code",
   "execution_count": null,
   "metadata": {},
   "outputs": [],
   "source": [
    "(lambda x:x**2)(-3)"
   ]
  },
  {
   "cell_type": "markdown",
   "metadata": {},
   "source": [
    "Make sure you understand that `lambda` is not the name of the function---it has no name at all. Moreover, there is no keyword `return`---the entire body of the function is simply the expression whose value is to be returned.\n",
    "\n",
    "We can store the result of a lambda expression in a variable. This gives the function a name, so once we have done that the function is no longer anonymous, and we can call the function by name as we usually would."
   ]
  },
  {
   "cell_type": "code",
   "execution_count": null,
   "metadata": {},
   "outputs": [],
   "source": [
    "h = lambda x:x**2\n",
    "h(-3)"
   ]
  },
  {
   "cell_type": "markdown",
   "metadata": {},
   "source": [
    "Some find the usage above to be a compact way to introduce a new, simple function, but it doesn't have any real advantage over the following (you can judge for yourself what's more readable or intuitive):"
   ]
  },
  {
   "cell_type": "code",
   "execution_count": null,
   "metadata": {},
   "outputs": [],
   "source": [
    "def h(x) : return x**2"
   ]
  },
  {
   "cell_type": "markdown",
   "metadata": {},
   "source": [
    "The real advantage to *functions as values* is that functions can be passed to other functions and, if useful, returned from other functions. Take the idea of function composition. If you have two functions $f$ and $g$, you can compose them into a new function $g \\circ f$ that feeds the result of $f$ into function $g$ as its parameter. (In order for this to work, the codomain/return type of $f$ must match the domain/parameter type of $g$.)\n",
    "\n",
    "$$\n",
    "g \\circ f (x) = g(f(x))\n",
    "$$\n",
    "\n",
    "For example, if $f(x) = x^2$ and $g(x) = 3 x$, then $g \\circ f(x) = 3 x^2$.\n",
    "\n",
    "The following function is the equivalent of the function composition operator, $\\circ$, in that it takes two functions are returns a new function made by composing the two given functions."
   ]
  },
  {
   "cell_type": "code",
   "execution_count": null,
   "metadata": {},
   "outputs": [],
   "source": [
    "def compose(g, f) :\n",
    "    return lambda x : g(f(x))\n",
    "def a(x) : return x**2\n",
    "def b(x) : return 3 * x\n",
    "b_a = compose(b, a)\n",
    "b_a(5)"
   ]
  },
  {
   "cell_type": "markdown",
   "metadata": {},
   "source": [
    "In writing `compose`, we used both the regular function form with `def` and this new form using `lambda`. This is because even though `compose` makes and returns an anonymous function, it itself is not anonymous.\n",
    "\n"
   ]
  },
  {
   "cell_type": "markdown",
   "metadata": {},
   "source": [
    "```{index} lists\n",
    "```"
   ]
  },
  {
   "cell_type": "markdown",
   "metadata": {},
   "source": [
    "## Lists and other indexables and iterables\n",
    "\n",
    "For collections of data, we need more than variables that hold a single value. The code in the chapters that follow makes use of various specialized *data structures*, but for right now we'll observe how to use the simplest *container* in Python, which is the *list* data structure. A list is an ordered sequence of values. We can express a list in Python by, well, *listing* a bunch of values, separated by commas and surrounded by square brackets. More precisely we don't need to list values but rather expressions that the values result from."
   ]
  },
  {
   "cell_type": "code",
   "execution_count": null,
   "metadata": {},
   "outputs": [],
   "source": [
    "[5, 7 + 8, \"geoduck\", 14 < 3, 12 / 5]"
   ]
  },
  {
   "cell_type": "markdown",
   "metadata": {},
   "source": [
    "A list also is a value, just of a different type. We can store list values in variables."
   ]
  },
  {
   "cell_type": "code",
   "execution_count": null,
   "metadata": {},
   "outputs": [],
   "source": [
    "z = [5, 7 + 8, \"geoduck\", 14 < 3, 12 / 5]\n",
    "type(z)"
   ]
  },
  {
   "cell_type": "markdown",
   "metadata": {},
   "source": [
    "Since a list is a linear sequence, we can refer to and retrieve a list's components by *index*. Python lists are indexed from 0, which means that what normal people might call the \"first\" element is, for our purpose, the \"zeroth\" element. The `len()` function tells us the number of elements in the list."
   ]
  },
  {
   "cell_type": "code",
   "execution_count": null,
   "metadata": {},
   "outputs": [],
   "source": [
    "print(z[0])\n",
    "print(z[1])\n",
    "print(z[len(z) - 1])"
   ]
  },
  {
   "cell_type": "markdown",
   "metadata": {},
   "source": [
    "Notice that zero-based indexing means that the last element is in position one-less-than-the-length. The length of the list itself is not a valid index."
   ]
  },
  {
   "cell_type": "code",
   "execution_count": null,
   "metadata": {},
   "outputs": [],
   "source": [
    "z[len(z)]"
   ]
  },
  {
   "cell_type": "markdown",
   "metadata": {},
   "source": [
    "The most straightforward interpretation of a list for mathematical purposes is as a sequence of numbers. Using Python pieces we know so far, we can write a function that computes simple statistics for a list:"
   ]
  },
  {
   "cell_type": "code",
   "execution_count": null,
   "metadata": {},
   "outputs": [],
   "source": [
    "def simple_stats(xx) :\n",
    "    min = xx[0]  # The minimum value we've seen so far\n",
    "    max = xx[0]  # The maximum value we've seen so far\n",
    "    sum = xx[0]  # The sum of all the numbers we've seen so far\n",
    "    i = 1        # What does the variable i mean?\n",
    "    while i < len(xx) :\n",
    "        # x[i] is the current number we're looking at.\n",
    "        # Add it to our running sum\n",
    "        sum += xx[i]\n",
    "        # If it's less than the minimum-so-far, then it's the new minimum-so-far\n",
    "        if xx[i] < min :\n",
    "            min = xx[i]\n",
    "        # Similarly with maximum\n",
    "        if xx[i] > max:\n",
    "            max = xx[i]\n",
    "        i += 1\n",
    "    print('The sum of the numbers is ' + str(sum))\n",
    "    print('The average of the numbers is ' + str(sum/len(xx)))\n",
    "    print('The greatest number is ' + str(max))\n",
    "    print('The least number is ' + str(min))"
   ]
  },
  {
   "cell_type": "code",
   "execution_count": null,
   "metadata": {},
   "outputs": [],
   "source": [
    "simple_stats([2,6,9,12,17,1,25,14])"
   ]
  },
  {
   "cell_type": "markdown",
   "metadata": {},
   "source": [
    "The function `simple_stats()` doesn't have a return statement. This means when it is called, the call doesn't evaluate to a value---it just has side effects, namely printing results to output.\n",
    "\n",
    "To answer our question, \"What does the variable `i` mean?\", it means several things:\n",
    "\n",
    "- `i` is the number of values we've processed so far.\n",
    "- `i` is the index of the next value we'll look at.\n",
    "- `min` is the minimum of all the values in indices 0 (inclusive) through `i` (exclusive).\n",
    "- `i` is one more than the number of iterations completed.\n",
    "\n",
    "We can also modify a list by writing to a position or add to it by using the `append()` function."
   ]
  },
  {
   "cell_type": "code",
   "execution_count": null,
   "metadata": {},
   "outputs": [],
   "source": [
    "z[3] = 'Yoda'\n",
    "z"
   ]
  },
  {
   "cell_type": "code",
   "execution_count": null,
   "metadata": {},
   "outputs": [],
   "source": [
    "z.append(42)\n",
    "z"
   ]
  },
  {
   "cell_type": "markdown",
   "metadata": {},
   "source": [
    "You'll notice that `append()` is used differently from other functions we've seen since the list we're appending appears to the left of the function name, separated by a dot, rather than in the parentheses. The value being appended is in the parentheses. It's a different kind of function, but that's a story we'll have to come back to later.\n",
    "\n",
    "But the real power of Python indexing is that you can specify a range (a sublist or a substring) or count from the back of the list using negative indices. See how well you can infer the rules of indexing from these examples."
   ]
  },
  {
   "cell_type": "code",
   "execution_count": null,
   "metadata": {},
   "outputs": [],
   "source": [
    "aa = ['A','B','C','D','E','F','G']"
   ]
  },
  {
   "cell_type": "code",
   "execution_count": null,
   "metadata": {},
   "outputs": [],
   "source": [
    "aa[-1]"
   ]
  },
  {
   "cell_type": "code",
   "execution_count": null,
   "metadata": {},
   "outputs": [],
   "source": [
    "aa[-3]"
   ]
  },
  {
   "cell_type": "code",
   "execution_count": null,
   "metadata": {},
   "outputs": [],
   "source": [
    "aa[2:5]"
   ]
  },
  {
   "cell_type": "code",
   "execution_count": null,
   "metadata": {},
   "outputs": [],
   "source": [
    "aa[1:5]"
   ]
  },
  {
   "cell_type": "code",
   "execution_count": null,
   "metadata": {},
   "outputs": [],
   "source": [
    "aa[:3]"
   ]
  },
  {
   "cell_type": "code",
   "execution_count": null,
   "metadata": {},
   "outputs": [],
   "source": [
    "aa[3:]"
   ]
  },
  {
   "cell_type": "code",
   "execution_count": null,
   "metadata": {},
   "outputs": [],
   "source": [
    "aa[-3:]"
   ]
  },
  {
   "cell_type": "code",
   "execution_count": null,
   "metadata": {},
   "outputs": [],
   "source": [
    "aa[:-3]"
   ]
  },
  {
   "cell_type": "markdown",
   "metadata": {},
   "source": [
    "The fact that lists have components that can be referred to using square brackets means that lists are *indexable*. Strings are also indexable."
   ]
  },
  {
   "cell_type": "code",
   "execution_count": null,
   "metadata": {},
   "outputs": [],
   "source": [
    "ss = 'Jupyter Notebook'\n",
    "ss[5]"
   ]
  },
  {
   "cell_type": "markdown",
   "metadata": {},
   "source": [
    "Lists and strings (and many other Python containers) share another useful property: They are *iterable*, which means they can be used in special constructs designed to *iterate* over the components. One construct is a *for loop*, an alternative to the *while loop* that works on iterables:"
   ]
  },
  {
   "cell_type": "code",
   "execution_count": null,
   "metadata": {},
   "outputs": [],
   "source": [
    "for a in z:\n",
    "    print(a)"
   ]
  },
  {
   "cell_type": "markdown",
   "metadata": {},
   "source": [
    "The way to interpret this is that the variable `a` *ranges over the values* in the list `z`. In each iteration, `a` takes on a different value in the list. Observe the usefulness of iterables in this simpler version of our `simple_stats()` function from before, this time just computing the average."
   ]
  },
  {
   "cell_type": "code",
   "execution_count": null,
   "metadata": {},
   "outputs": [],
   "source": [
    "def average(xx) :\n",
    "    sum = 0\n",
    "    for x in xx :\n",
    "        sum += x\n",
    "    return sum / len(xx)"
   ]
  },
  {
   "cell_type": "code",
   "execution_count": null,
   "metadata": {},
   "outputs": [],
   "source": [
    "average([4,72,3,10,5,63])"
   ]
  },
  {
   "cell_type": "markdown",
   "metadata": {},
   "source": [
    "To see this on strings (the function `upper()` converts text to uppercase):"
   ]
  },
  {
   "cell_type": "code",
   "execution_count": null,
   "metadata": {},
   "outputs": [],
   "source": [
    "def cheer(name) :\n",
    "    for c in name :\n",
    "        c = c.upper()\n",
    "        if c in 'AEFHILMNORSX' :  # Letters whose names begin with a vowel sound\n",
    "            print('Give me an ' + c)\n",
    "        else :\n",
    "            print('Give me a ' + c)\n",
    "    print(\"What's that spell?\")\n",
    "    print(name)\n",
    "    "
   ]
  },
  {
   "cell_type": "code",
   "execution_count": null,
   "metadata": {},
   "outputs": [],
   "source": [
    "cheer('Python')"
   ]
  },
  {
   "cell_type": "markdown",
   "metadata": {},
   "source": [
    "We snuck in some new Python in that last example---using `in` to see if the character `c` occurs in our list (actually a string) of letters whose names begin with a vowel sound. It turns out that `in` can be used both in a for loop to iterate over an iterable, but also in an expression to test whether an element exists somewhere in an iterable.\n",
    "\n",
    "One more iterable is particularly useful: the `range()` function, which returns an iterable over numbers in the range indicated in the parameters to the function. If you give the function one number, it is interpreted as an exclusive upperbound, with 0 as the inclusive lower bound:"
   ]
  },
  {
   "cell_type": "code",
   "execution_count": null,
   "metadata": {},
   "outputs": [],
   "source": [
    "for i in range(4) :\n",
    "    print('Say hello, ' + str(i))"
   ]
  },
  {
   "cell_type": "markdown",
   "metadata": {},
   "source": [
    "Or you can specify both an (inclusive) lower bound and an (exclusive) upper bound."
   ]
  },
  {
   "cell_type": "code",
   "execution_count": null,
   "metadata": {},
   "outputs": [],
   "source": [
    "print('My favorite primes are')\n",
    "for i in range(11,14) :\n",
    "    print(i)\n",
    "print('... well... except for 12.')"
   ]
  },
  {
   "cell_type": "markdown",
   "metadata": {},
   "source": [
    "Finally, you can specify an increment:"
   ]
  },
  {
   "cell_type": "code",
   "execution_count": null,
   "metadata": {},
   "outputs": [],
   "source": [
    "for i in range(2, 9, 2) :\n",
    "    print(i)\n",
    "print('Whom do we appreciate?')\n",
    "for i in range(5, 0, -1) :\n",
    "    print('T-minus ' + str(i) + ' seconds')\n",
    "print('Lift off')"
   ]
  },
  {
   "cell_type": "markdown",
   "metadata": {},
   "source": [
    "Together with `len()`, ranges provide us with another idiom for iterating over the values in a list, if for some reason we don't want to use the list as an iterable directly. For example, suppose we have a list of the coefficients of the polynomial $3 + 4x - 7x^2 + 5x^3$. The following function evaluates a polynomial, given a list of coefficients and an $x$ value:"
   ]
  },
  {
   "cell_type": "code",
   "execution_count": null,
   "metadata": {},
   "outputs": [],
   "source": [
    "def evaluate_polynomial(coefficients, x) :\n",
    "    result = 0\n",
    "    for i in range(len(coefficients)) :\n",
    "        result += coefficients[i] * x**i\n",
    "    return result\n",
    "        "
   ]
  },
  {
   "cell_type": "code",
   "execution_count": null,
   "metadata": {},
   "outputs": [],
   "source": [
    "evaluate_polynomial([3,4,-7,5], 2)"
   ]
  },
  {
   "cell_type": "markdown",
   "metadata": {},
   "source": [
    "How many meanings can you find for the variable `i`?"
   ]
  },
  {
   "cell_type": "markdown",
   "metadata": {},
   "source": [
    "```{index} algorithms\n",
    "```"
   ]
  },
  {
   "cell_type": "markdown",
   "metadata": {},
   "source": [
    "## Thinking through algorithms\n",
    "\n",
    "Here is a function that takes a list `yy` and another value `x` and determines the first index in `yy` that contains `x`. If `x` doesn't exist anywhere in the list, then the function returns the special value `None`."
   ]
  },
  {
   "cell_type": "code",
   "execution_count": null,
   "metadata": {},
   "outputs": [],
   "source": [
    "def bounded_linear_search(yy, x) :\n",
    "    i = 0\n",
    "    found_it = False\n",
    "    # As long as we have more positions to inspect and we haven't found what we're looking for\n",
    "    while i < len(yy) and not found_it :\n",
    "        # If i's the one we're looking for...\n",
    "        if yy[i] == x :\n",
    "            # ... great! We found it.\n",
    "            found_it = True            \n",
    "        # Otherwise ...\n",
    "        else :\n",
    "            # move on to the next one, if any.\n",
    "            i += 1\n",
    "    if found_it :\n",
    "        return i\n",
    "    else :\n",
    "        return None\n"
   ]
  },
  {
   "cell_type": "code",
   "execution_count": null,
   "metadata": {},
   "outputs": [],
   "source": [
    "zz = [4,2,8,7,12,16,1,9,11]\n",
    "print(bounded_linear_search(zz, 7))\n",
    "print(bounded_linear_search(zz,5))"
   ]
  },
  {
   "cell_type": "markdown",
   "metadata": {},
   "source": [
    "Here is another function that does something similar, but *assumes the list is sorted from least to greatest*. Because of this assumption it doesn't start at the beginning but instead looks in the middle. Depending on whether the value in the middle is too big or too small, it \"throws away\" either the top half or the bottom half of the list (or, if the value is just right, it returns that index). To do this, the algorithm keeps track of an upper and lower bound of the range of indices in the list where the searched value could be---in other words, it has determined that the searched value *can't* be *outside* that range. (The `//` operator does *integer division*. For positive integers, this means rounding down to the nearest integer. We do this because indices need to be integers.)"
   ]
  },
  {
   "cell_type": "code",
   "execution_count": null,
   "metadata": {},
   "outputs": [],
   "source": [
    "def binary_search(yy, x):\n",
    "    lower_bound = 0\n",
    "    upper_bound = len(yy)\n",
    "    mid = (lower_bound + upper_bound) // 2\n",
    "    # As long as the range is more than just one position...\n",
    "    while upper_bound - lower_bound > 1 :\n",
    "        # ...if the midpoint is the value we're looking for...\n",
    "        if yy[mid] == x :\n",
    "            # ...then collapse the range to include just that position\n",
    "            lower_bound = mid\n",
    "            upper_bound = mid+1\n",
    "        # ...otherwise, if the midpoint is too big...\n",
    "        elif yy[mid] > x :\n",
    "            # ...then throw away the top half of the range\n",
    "            upper_bound = mid\n",
    "        # ...otherwise, the only option left is that the midpoint is too small, so..\n",
    "        else :\n",
    "            assert yy[mid] < x \n",
    "            # ...throw away the bottom half of the range.\n",
    "            lower_bound = mid + 1\n",
    "        # Recompute the midpoint index\n",
    "        mid = (lower_bound + upper_bound) // 2\n",
    "\n",
    "    # Check that the range isn't empty and that the midpoint is what we're looking for\n",
    "    if upper_bound - lower_bound == 1 and yy[mid] == x :\n",
    "        return mid\n",
    "    else :\n",
    "        return None\n",
    "    "
   ]
  },
  {
   "cell_type": "markdown",
   "metadata": {},
   "source": [
    "(`assert` means \"I am certain of this proposition, may my program crash if I am wrong.\")"
   ]
  },
  {
   "cell_type": "code",
   "execution_count": null,
   "metadata": {},
   "outputs": [],
   "source": [
    "zz = [1,4,5,17,19,25,33,34,37,40,44,58,63]\n",
    "print(binary_search(zz, 17))\n",
    "print(binary_search(zz, 43))"
   ]
  },
  {
   "cell_type": "markdown",
   "metadata": {},
   "source": [
    "How do these algorithms differ? Is one better than the other? We have already observed that the second algorithm makes a stronger assumption about its input than the first one does. It takes a very different strategy, which wouldn't be correct if we didn't make that stronger assumption. Thinking carefully about code comes down to two things: Correctness and efficiency. \n",
    "\n",
    "We can reason about an algorithm's efficiency by identifying what must be true of the state of the computation at each step. The *state of the computation* is captured by the value of the variables, and this ties in with what we've already alluded to when talking about the meaning of variables. What does the variable `i` mean in `bounded_linear_search`? Similar to `simple_stats`,\n",
    "\n",
    "- `i` is the number of values we've processed so far.\n",
    "- `i` is the index of the next value we'll look at.\n",
    "- `i` is the number of iterations completed.\n",
    "\n",
    "But especially `i` represents the algorithm's progress in searching for the indicated value `x` (call it the *search value*). That is, `i` marks the boundary between two sections of the list: The indices less than `i` are *known not to contain* the search value; if the search value is anywhere in the list at all, it must be in an index `i` or greater. \n",
    "\n",
    "- For all indices $j$, where $0 \\leq j < \\mathtt{i}$, $\\mathtt{yy}[j] \\neq \\mathtt{x}$\n",
    "\n",
    "(We use typewriter font for variables that actually occur in the code. Since $j$ is not a variable in the code, it gets the usual italic font.)\n",
    "\n",
    "Here's a new version of `bounded_linear_search` with the comments taken away but where we assert this last claim about `i`. Practically speaking this defeats the whole purpose of `bounded_linear_search` since this check does the same work as the entire algorithm, but we're doing it here for demonstration purposes.\n",
    "\n",
    "\n"
   ]
  },
  {
   "cell_type": "code",
   "execution_count": null,
   "metadata": {},
   "outputs": [],
   "source": [
    "def bounded_linear_search(yy, x) :\n",
    "    i = 0\n",
    "    found_it = False\n",
    "    while i < len(yy) and not found_it :\n",
    "        assert not x in yy[:i]   # x is nowhere in y between 0 and i\n",
    "        if yy[i] == x :\n",
    "            found_it = True            \n",
    "        else :\n",
    "            i += 1\n",
    "    if found_it :\n",
    "        return i\n",
    "    else :\n",
    "        return None\n"
   ]
  },
  {
   "cell_type": "code",
   "execution_count": null,
   "metadata": {},
   "outputs": [],
   "source": [
    "zz = [4,2,8,7,12,16,1,9,11]\n",
    "print(bounded_linear_search(zz, 7))\n",
    "print(bounded_linear_search(zz,5))"
   ]
  },
  {
   "cell_type": "markdown",
   "metadata": {},
   "source": [
    "For `binary_search`, the variables `lower_bound` and `upper_bound` define the region in the list where the search value might be. Here's a new version that asserts that the search value isn't anywhere outside that range."
   ]
  },
  {
   "cell_type": "code",
   "execution_count": null,
   "metadata": {},
   "outputs": [],
   "source": [
    "def binary_search(yy, x):\n",
    "    lower_bound = 0\n",
    "    upper_bound = len(yy)\n",
    "    mid = (lower_bound + upper_bound) // 2\n",
    "    while upper_bound - lower_bound > 1 :\n",
    "        assert not x in yy[:lower_bound] and not x in yy[upper_bound:]\n",
    "        if yy[mid] == x :\n",
    "            lower_bound = mid\n",
    "            upper_bound = mid+1\n",
    "        elif yy[mid] > x :\n",
    "            upper_bound = mid\n",
    "        else :\n",
    "            assert yy[mid] < x \n",
    "            lower_bound = mid + 1\n",
    "        mid = (lower_bound + upper_bound) // 2\n",
    "\n",
    "    if upper_bound - lower_bound == 1 and yy[mid] == x :\n",
    "        return mid\n",
    "    else :\n",
    "        return None"
   ]
  },
  {
   "cell_type": "code",
   "execution_count": null,
   "metadata": {},
   "outputs": [],
   "source": [
    "zz = [1,4,5,17,19,25,33,34,37,40,44,58,63]\n",
    "print(binary_search(zz, 17))\n",
    "print(binary_search(zz, 43))"
   ]
  },
  {
   "cell_type": "markdown",
   "metadata": {},
   "source": [
    "But the real difference between these two algorithms can be seen by looking at their efficiency. The simplest way to observe the computational cost of an algorithm is to count the number iterations of its loop (assuming it's only got one...). In this third version of `bounded_linear_search`, we display the number of iterations before the function returns."
   ]
  },
  {
   "cell_type": "code",
   "execution_count": null,
   "metadata": {},
   "outputs": [],
   "source": [
    "def bounded_linear_search(yy, x) :\n",
    "    i = 0\n",
    "    found_it = False\n",
    "    while i < len(yy) and not found_it :\n",
    "        assert not x in yy[:i]   # x is nowhere in y between 0 and i\n",
    "        if yy[i] == x :\n",
    "            found_it = True            \n",
    "        else :\n",
    "            i += 1\n",
    "    print(str(i) + ' iterations')\n",
    "    if found_it :\n",
    "        return i\n",
    "    else :\n",
    "        return None"
   ]
  },
  {
   "cell_type": "markdown",
   "metadata": {},
   "source": [
    "Of course, the number of iterations depends on when the algorithm finds the search value, and the *worst case* in terms of cost is if it doesn't occur in the list at all. Let's observe the number of iterations if we search for a value in increasingly large lists which don't contain that value."
   ]
  },
  {
   "cell_type": "code",
   "execution_count": null,
   "metadata": {},
   "outputs": [],
   "source": [
    "bounded_linear_search([5]*8, 9)\n",
    "bounded_linear_search([5]*16, 9)\n",
    "bounded_linear_search([5]*32, 9)\n",
    "bounded_linear_search([5]*64, 9)\n",
    "bounded_linear_search([5]*128, 9)\n",
    "bounded_linear_search([5]*256, 9)\n"
   ]
  },
  {
   "cell_type": "markdown",
   "metadata": {},
   "source": [
    "The number of iterations equals the size of the list, but perhaps you could have predicted that, since each iterations inspects one position in the list. Let's do a similar experiment on `binary_search`. Since that function doesn't have a variable like `i` that tracks with the number of iterations, we need to add such a variable."
   ]
  },
  {
   "cell_type": "code",
   "execution_count": null,
   "metadata": {},
   "outputs": [],
   "source": [
    "def binary_search(yy, x):\n",
    "    lower_bound = 0\n",
    "    upper_bound = len(yy)\n",
    "    mid = (lower_bound + upper_bound) // 2\n",
    "    i = 0\n",
    "    while upper_bound - lower_bound > 1 :\n",
    "        if yy[mid] == x :\n",
    "            lower_bound = mid\n",
    "            upper_bound = mid+1\n",
    "        elif yy[mid] > x :\n",
    "            upper_bound = mid\n",
    "        else :\n",
    "            assert yy[mid] < x \n",
    "            lower_bound = mid + 1\n",
    "        mid = (lower_bound + upper_bound) // 2\n",
    "        i += 1\n",
    "        \n",
    "    print(str(i) + ' iterations')\n",
    "    if upper_bound - lower_bound == 1 and yy[mid] == x :\n",
    "        return mid\n",
    "    else :\n",
    "        return None"
   ]
  },
  {
   "cell_type": "code",
   "execution_count": null,
   "metadata": {},
   "outputs": [],
   "source": [
    "binary_search([5]*8, 9)\n",
    "binary_search([5]*16, 9)\n",
    "binary_search([5]*32, 9)\n",
    "binary_search([5]*64, 9)\n",
    "binary_search([5]*128, 9)\n",
    "binary_search([5]*256, 9)"
   ]
  },
  {
   "cell_type": "markdown",
   "metadata": {},
   "source": [
    "Not only is this algorithm starkly more efficient, we can mathematically quantify the difference in efficiency. The worst-case number of iterations of `binary_search` tracks with the base-two logarithm of the length of the list. And this, too, makes sense: In each iteration of `binary_search` we throw away half of the remaining range of the list, and so it takes $\\log_2 n$ steps to whittle a list of length $n$ down to a trivial range.\n",
    "\n",
    "(We said the number iterations \"tracks with\" the base-two logarithm of the length of the list. How does the number of iterations relate to the length of the list precisely?)"
   ]
  },
  {
   "cell_type": "markdown",
   "metadata": {},
   "source": [
    "```{index} libraries\n",
    "```"
   ]
  },
  {
   "cell_type": "markdown",
   "metadata": {},
   "source": [
    "## Python libraries\n",
    "\n",
    "\n",
    "In practical programming it rarely makes sense to develop all your code from scratch. Many common problems have already been solved, and their solutions have been collected for reuse. *Libraries*, organized collections of reusable code, act as extensions of the programming language itself, and an important part of mastering any programming language is learning the libraries that come standard with the language and the widely-used libraries that have been developed by the language's community of users. This section explains the fundamentals of libraries and related concepts like modules and packages by showing how to manage code with your own libraries and demonstrating parts of Python's standard library. Later sections highlight other libraries that are useful to know for other chapters in this book.\n",
    "\n",
    "Suppose that you frequently find yourself writing code that makes use of geometric formulas, such as the circumference or area of a circle or the volume of a sphere or cylinder. As you know by now, the natural thing to do is not to replicate the code for each formula every time you need it but to encapsulate the formula into a function---not only for convenience (avoid re-coding the formula) but also for readability (the code now has a name).\n",
    "\n",
    "But if you have several notebooks or applications that make use of the same formulas, then pasting those function definitions into cells in each new notebook creates unnecessary clutter. Instead, collect those function definitions into a separate Python file. \n",
    "\n",
    "The folder that contains this notebook also has a file `geometry.py` consisting of the definitions for `circumference_circle`, `area_circle`, `volume_sphere`, and `volume_cylinder`. Note that this is not a *notebook*, which would have a `.ipynb` file extension. You should be able to look at the file in your browser but not execute its code that way.\n",
    "\n",
    "We can, however, make the code there available for use in this notebook. First, we *import* the code in that file:"
   ]
  },
  {
   "cell_type": "code",
   "execution_count": null,
   "metadata": {},
   "outputs": [],
   "source": [
    "import geometry"
   ]
  },
  {
   "cell_type": "markdown",
   "metadata": {},
   "source": [
    "Now we can call one of the functions."
   ]
  },
  {
   "cell_type": "code",
   "execution_count": null,
   "metadata": {},
   "outputs": [],
   "source": [
    "geometry.volume_sphere(3.8)"
   ]
  },
  {
   "cell_type": "markdown",
   "metadata": {},
   "source": [
    "Notice that we call the function by the *qualified name* `geometry.volume_sphere` instead of the simple name `volume_sphere` as it appears in the file itself. The prefix `geometry.` indicates that `volume_sphere` is a part of the module `geometry`. Formally, a *module* is a collection of code contained in a Python file. \n",
    "\n",
    "There are a variety of ways to use `import` statements. For example, the following import statement grabs only the function `area_circle`, and the subsequent code doesn't need to qualify the name when it is used."
   ]
  },
  {
   "cell_type": "code",
   "execution_count": null,
   "metadata": {},
   "outputs": [],
   "source": [
    "from geometry import area_circle"
   ]
  },
  {
   "cell_type": "code",
   "execution_count": null,
   "metadata": {},
   "outputs": [],
   "source": [
    "area_circle(5.7)"
   ]
  },
  {
   "cell_type": "markdown",
   "metadata": {},
   "source": [
    "If you have a large number of related modules, it's natural that you would collect them into one or more folders in the file system. In Python terminology, a folder of Python files constitutes a *package*, which, in turn, can have subpackages in subfolders. A large collection of modules, often organized into many packages, is called a *library*.\n",
    "\n",
    "The *standard library* comprises the packages that are an integral part of any Python installation. You can see what the standard library offers by perusing \n",
    "[its documentation](https://docs.python.org/3/library/index.html) or working through any comprehensive Python tutorial. For our purposes, consider these two examples.\n",
    "\n",
    "The `math` package provides an abundance of functions and constants for familiar mathematical tasks. "
   ]
  },
  {
   "cell_type": "code",
   "execution_count": null,
   "metadata": {},
   "outputs": [],
   "source": [
    "import math"
   ]
  },
  {
   "cell_type": "code",
   "execution_count": null,
   "metadata": {},
   "outputs": [],
   "source": [
    "# least common multiple of a collection of integers\n",
    "print(math.gcd(120, 96))\n",
    "# 'floor' of (greatest integer less than) a float\n",
    "print(math.floor(26.7))\n",
    "# arctangent (result in radians)\n",
    "print(math.atan(2.3))\n",
    "# e (Euler's number) raised to a given power\n",
    "print(math.exp(5.8))\n",
    "# tau (mathematical constant equal to two pi)\n",
    "print(math.tau)"
   ]
  },
  {
   "cell_type": "markdown",
   "metadata": {},
   "source": [
    "The `random` package contains functions for generating random numbers."
   ]
  },
  {
   "cell_type": "code",
   "execution_count": null,
   "metadata": {},
   "outputs": [],
   "source": [
    "import random"
   ]
  },
  {
   "cell_type": "code",
   "execution_count": null,
   "metadata": {},
   "outputs": [],
   "source": [
    "# Pick an integer uniformly distributed within a given range.\n",
    "print(random.randint(3,17))\n",
    "# Pick a float from a Gaussian distribution with a given mean and standard deviation\n",
    "print(random.gauss(.6, 3.5))\n",
    "xx = [2,7,3,8,14,9,63]\n",
    "# Permute a sequence\n",
    "random.shuffle(xx)\n",
    "print(xx)\n",
    "# Pick an element from a sequence\n",
    "print(random.choice(xx))"
   ]
  },
  {
   "cell_type": "markdown",
   "metadata": {},
   "source": [
    "The packages in Python's standard library are extensive, and yet are just the beginning of the tools available in libraries published by other organizations. In contrast to the basic mathematical functions provided by the `math` package, the `scipy` library from [scipy.org](https://scipy.org/) supports more advanced operations like fast Fourier transform, solving systems of linear equations, and interpolation."
   ]
  },
  {
   "cell_type": "markdown",
   "metadata": {},
   "source": [
    "```{index} classes \n",
    "```\n",
    "\n",
    "```{index} objects\n",
    "```"
   ]
  },
  {
   "cell_type": "markdown",
   "metadata": {},
   "source": [
    "## Classes and objects\n",
    "\n",
    "Programming is all about *data* and *operations on data*. We have seen that types define categories of data and that functions encapsulate algorithms that operate on data. Types range from primitive types like `int` and `float` to complicated data structures likes `lists`.  \n",
    "\n",
    "In Python (and most other modern programming languages), *classes* are a language feature by which a programmer can define new types. Moreover, classes allow data and functionality to be encapsulated together.\n",
    "\n",
    "Suppose we want to make a type for complex numbers (actually Python has a complex number type, but suppose we're hard-core do-it-yourselfers). A value of this type is composed of two parts, the so-called \"real\" and \"imaginary\" parts, each of which are float-valued. The following `Complex` class defines a type for values like this."
   ]
  },
  {
   "cell_type": "code",
   "execution_count": null,
   "metadata": {},
   "outputs": [],
   "source": [
    "# Class to define a complex number type, first try\n",
    "class Complex :\n",
    "    def __init__(self, a, b) :\n",
    "        self.real_part = a\n",
    "        self.imaginary_part = b"
   ]
  },
  {
   "cell_type": "markdown",
   "metadata": {},
   "source": [
    "Before explaining this code, let's see how it is used to make the value $3.5 + 2.7 i$."
   ]
  },
  {
   "cell_type": "code",
   "execution_count": null,
   "metadata": {},
   "outputs": [],
   "source": [
    "z = Complex(3.5, 2.7)\n",
    "print(z)\n",
    "print(type(z))\n",
    "print(str(z.real_part) + ' + ' + str(z.imaginary_part) + 'j')"
   ]
  },
  {
   "cell_type": "markdown",
   "metadata": {},
   "source": [
    "Here is how to understand all of this:\n",
    "\n",
    "- The variable `z` stores a value whose type is `Complex`.\n",
    "- That value has two components called `real_part` and `imaginary_part`, and those components each have type `float`.\n",
    "- We use `.` to retrieve a component---hence `z.real_part` means \"retrieve the component called `real_part` from the `Complex` value stored in variable `z`.\"\n",
    "- The class `Complex` has a special function `__init__` that initializes the components of a `Complex` value. Inside the `__init__` function, the value whose components are being initialized is referred to by the parameter `self`.\n",
    "- A value of a class type is called an *object*. It is also an *instance* of that class. Making a new instance of a class an initializing its components is called *instantiating* that class.\n",
    "- The expression `Complex(3.5, 2.7)` was used to instantiate the `Complex` class. This not only made a new instance of the class but also called the `__init__` function. The new instance was passed to `__init__` as `self` and the values `3.5` and `2.7` were passed as the other parameters to `__init__`.\n",
    "\n",
    "Now that we've made this class and an instance of the class, we can make functions for complex operations"
   ]
  },
  {
   "cell_type": "code",
   "execution_count": null,
   "metadata": {},
   "outputs": [],
   "source": [
    "def magnitude(z) :\n",
    "    return (z.real_part**2 + z.imaginary_part**2)**.5\n",
    "\n",
    "def add_complex(z, w) :\n",
    "    return Complex(z.real_part + w.real_part, z.imaginary_part + w.imaginary_part)\n",
    "\n",
    "def mult_complex(z, w) :\n",
    "    return Complex(z.real_part * w.real_part - z.imaginary_part * w.imaginary_part,\n",
    "                  z.real_part * w.imaginary_part + z.imaginary_part * w.real_part)\n"
   ]
  },
  {
   "cell_type": "markdown",
   "metadata": {},
   "source": [
    "That works just fine for a simple class like `Complex`. But what makes objects distinctive is that they can contain not only variables but also functions. A function that is a component of a class is called a *method*. In this second version of the `Complex` class we include methods like the functions defined in the previous cell."
   ]
  },
  {
   "cell_type": "code",
   "execution_count": null,
   "metadata": {},
   "outputs": [],
   "source": [
    "# Class to define a complex number type, first try\n",
    "class Complex :\n",
    "    def __init__(self, a, b) :\n",
    "        self.real_part = a\n",
    "        self.imaginary_part = b\n",
    "    \n",
    "    def magnitude(self) :\n",
    "        return (self.real_part**2 + self.imaginary_part**2)**.5\n",
    "\n",
    "    def add(self, other) :\n",
    "        return Complex(self.real_part + other.real_part, self.imaginary_part + other.imaginary_part)\n",
    "\n",
    "    def mult(self, other) :\n",
    "        return Complex(self.real_part * other.real_part - self.imaginary_part * other.imaginary_part,\n",
    "                      self.real_part * other.imaginary_part + self.imaginary_part * other.real_part)\n"
   ]
  },
  {
   "cell_type": "markdown",
   "metadata": {},
   "source": [
    "Since the methods are components---or *attributes*---of the *Complex* objects, we refer to them using `.` notation:"
   ]
  },
  {
   "cell_type": "code",
   "execution_count": null,
   "metadata": {},
   "outputs": [],
   "source": [
    "z = Complex(2.1, 4.7)\n",
    "w = Complex(-5.2, 8.5)\n",
    "y = z.add(w)\n",
    "print(str(y.real_part) + ' + ' + str(y.imaginary_part) + 'i')"
   ]
  },
  {
   "cell_type": "markdown",
   "metadata": {},
   "source": [
    "In the expression `z.add(w)`, notice that `add` has only one actual parameter, `w`, which in fact is assigned to the formal parameter `other`. The parameter `self` is assigned the object that the method is called on, `z`.\n",
    "\n",
    "The variable components of a class (called *data attributes* or *instance variables*) can be modified. This mutates the state of the object. "
   ]
  },
  {
   "cell_type": "code",
   "execution_count": null,
   "metadata": {},
   "outputs": [],
   "source": [
    "class Hummingbird :\n",
    "    def __init__(self) :\n",
    "        self.alive = True\n",
    "        self.energy = 5\n",
    "        \n",
    "    def feed(self) :\n",
    "        if self.alive :\n",
    "            self.energy += 3\n",
    "\n",
    "    def fly(self) :\n",
    "        if self.alive :\n",
    "            self.energy -= 1\n",
    "        if self.energy <= 0 :\n",
    "            self.alive = False\n",
    "\n",
    "    def show(self) :\n",
    "        if self.alive:\n",
    "            return \"-%^'\"  # That's supposed to be an ASCII hummingbird. Use your imagination\n",
    "        else :\n",
    "            return \"_o___\"  # Same hummingbird, deceased (ran out of energy)"
   ]
  },
  {
   "cell_type": "markdown",
   "metadata": {},
   "source": [
    "A `Hummingbird` object has two data attributes, indicating whether it is alive and how much energy it has left. The hummingbird can `feed`, that is, take a sip from a feeder or flower, which makes it gain energy, and `fly`, which consumes energy. These methods modify the data attribute `energy`, but only if the hummingbird is alive. If the hummingbird keeps flying without getting a chance to feed, it will run out of energy and die. The method `show` returns a string with very bad ASCII art representing a live or dead hummingbird."
   ]
  },
  {
   "cell_type": "code",
   "execution_count": null,
   "metadata": {},
   "outputs": [],
   "source": [
    "h = Hummingbird()\n",
    "print(h.show())\n",
    "h.fly()\n",
    "print(h.show())\n",
    "h.feed()\n",
    "print(h.show())\n",
    "h.fly()\n",
    "print(h.show())\n",
    "h.fly()\n",
    "print(h.show())\n",
    "h.fly()\n",
    "print(h.show())\n",
    "h.fly()\n",
    "print(h.show())\n",
    "h.fly()\n",
    "print(h.show())\n",
    "h.fly()\n",
    "print(h.show())\n",
    "h.fly()\n",
    "print(h.show())\n"
   ]
  },
  {
   "cell_type": "markdown",
   "metadata": {},
   "source": [
    "Apologies to all hummingbird lovers. (Or you can consider this as an encouragement to plant some hummingbird-friendly flowers and keep your feeder full.)\n",
    "\n",
    "For a better way to visualize mutable objects, consider a class representing a car to be used in a simulation. First we need to import a few pieces from the libraries `matplotlib`, `svgpath2mpl` and `svgpathtools`. You'll get an error when you execute that cell if your Python installation doesn't have those libraries. The section \"Other Libraries\" below talks through how to install libraries you don't already have."
   ]
  },
  {
   "cell_type": "code",
   "execution_count": null,
   "metadata": {},
   "outputs": [],
   "source": [
    "import matplotlib as mpl\n",
    "import matplotlib.pyplot as plt\n",
    "%matplotlib inline\n",
    "from svgpath2mpl import parse_path\n",
    "from svgpathtools import svg2paths\n"
   ]
  },
  {
   "cell_type": "markdown",
   "metadata": {},
   "source": [
    "Details in the class `Car` below are explained in the comments. (This class is based on code used to produce the animation in the notebook \"Random Number Simulation of a Drive Thru\" in the \"Probability Models\" chapter. Thanks to Ziling Zong who wrote the original code.)"
   ]
  },
  {
   "cell_type": "code",
   "execution_count": null,
   "metadata": {},
   "outputs": [],
   "source": [
    "class Car:\n",
    "    # To make a new car, indicate the coordinates of the car's initial position,\n",
    "    # the angle (in degrees from the positive x axis) that the car is facing,\n",
    "    # and the color of the car. Color is a string, for example \"red\"\n",
    "    def __init__(self, x, y, degree, color):   \n",
    "        # Set the instance variables. Notice that the first four instance variables\n",
    "        # have the same names as the parameters\n",
    "        self.x = x  \n",
    "        self.y = y\n",
    "        self.degree = degree\n",
    "        self.color = color\n",
    "        # The instance variable car_marker is used for the graphical display\n",
    "        # and requires a little bit of processing\n",
    "        car_path, attributes = svg2paths(\"car_outline.svg\")\n",
    "        self.car_marker = parse_path(attributes[0]['d'])\n",
    "        self.car_marker.vertices -= self.car_marker.vertices.mean(axis=0)\n",
    "        \n",
    "    # Move the car a certain number of pixels in its current direction\n",
    "    def move(self, amount):  \n",
    "        # Convert the angle the car is facing. We need radians.\n",
    "        radians = self.degree * math.pi / 180\n",
    "        # Use trig functions to compute the new x and y coordinates\n",
    "        self.x += amount * math.cos(radians)\n",
    "        self.y -= amount * math.sin(radians)\n",
    "    \n",
    "    # Turn the car a certain number of degrees. Positive degrees steers to the\n",
    "    # left, negative to the right\n",
    "    def turn(self, amount) :\n",
    "        self.degree += amount\n",
    "        \n",
    "    # Display an image of the car on a background\n",
    "    def show_car(self) :\n",
    "        building = \"background.png\"\n",
    "        fig, ax = plt.subplots()\n",
    "        background = plt.imread(building)\n",
    "        ax.imshow(background)\n",
    "\n",
    "        transformed_marker = self.car_marker.transformed(mpl.transforms.Affine2D().rotate_deg(self.degree))\n",
    "        transformed_marker = transformed_marker.transformed(mpl.transforms.Affine2D().scale(1,1))\n",
    "        plt.plot(self.x, self.y, marker=transformed_marker, markersize=35, color = self.color)\n",
    "\n"
   ]
  },
  {
   "cell_type": "markdown",
   "metadata": {},
   "source": [
    "Let's make a red car facing due east (0 degrees), starting at point (100, 550). "
   ]
  },
  {
   "cell_type": "code",
   "execution_count": null,
   "metadata": {},
   "outputs": [],
   "source": [
    "car = Car(100, 550, 0, 'red')"
   ]
  },
  {
   "cell_type": "markdown",
   "metadata": {},
   "source": [
    "The background image shows a drive-thru restaurant with two drive-thru lanes. The point (100, 550) was chosen because that puts the car at the beginning of the outer lane."
   ]
  },
  {
   "cell_type": "code",
   "execution_count": null,
   "metadata": {},
   "outputs": [],
   "source": [
    "car.show_car()"
   ]
  },
  {
   "cell_type": "markdown",
   "metadata": {},
   "source": [
    "Let's nudge the car ahead and then see what it looks like."
   ]
  },
  {
   "cell_type": "code",
   "execution_count": null,
   "metadata": {},
   "outputs": [],
   "source": [
    "car.move(75)\n",
    "car.show_car()"
   ]
  },
  {
   "cell_type": "markdown",
   "metadata": {},
   "source": [
    "Now let's steer and move so that the car begins to navigate the lane."
   ]
  },
  {
   "cell_type": "code",
   "execution_count": null,
   "metadata": {},
   "outputs": [],
   "source": [
    "car.turn(15)\n",
    "car.move(75)\n",
    "car.show_car()"
   ]
  },
  {
   "cell_type": "markdown",
   "metadata": {},
   "source": [
    "It looks like the car is crashing into the drive-thru speaker. Oh well. If you run the previous cell seven more times, you'll see that after running over the speaker the car more or less rounds the east side of the restaurant without hitting anything else.\n",
    "\n",
    "In a new series of cells, make a new car with a color of your choice and see if you can steer the car safely through the lane using calls to `move` and `turn` (as well as `show_car` to track your progress)."
   ]
  },
  {
   "cell_type": "markdown",
   "metadata": {},
   "source": [
    "```{index} numpy\n",
    "```"
   ]
  },
  {
   "cell_type": "markdown",
   "metadata": {},
   "source": [
    "## Section on numpy\n",
    "\n",
    "The NumPy library is a widely-used package for numerical computing in Python. Several other packages for data analysis, scientific computing, machine learning, and the like make use of NumPy. "
   ]
  },
  {
   "cell_type": "code",
   "execution_count": null,
   "metadata": {},
   "outputs": [],
   "source": [
    "import numpy as np"
   ]
  },
  {
   "cell_type": "markdown",
   "metadata": {},
   "source": [
    "The key part of the NumPy library is the array. If you learned programming in a language like C or Java, you are already familiar with arrays; for the purposes of Python, we can think of them as being like lists except that they make more efficient use of computer memory. Mathematically, they are the natural way to represent vectors and matrices.\n",
    "\n",
    "Observe by example. There are several ways to make an array. We can make an array from a list."
   ]
  },
  {
   "cell_type": "code",
   "execution_count": null,
   "metadata": {},
   "outputs": [],
   "source": [
    "aa = np.array([1,2,4,5,6])\n",
    "print(type(aa))\n",
    "print(aa)"
   ]
  },
  {
   "cell_type": "markdown",
   "metadata": {},
   "source": [
    "We can make an \"empty\" array---or, really, an array of all zeros:"
   ]
  },
  {
   "cell_type": "code",
   "execution_count": null,
   "metadata": {},
   "outputs": [],
   "source": [
    "bb = np.zeros(10)\n",
    "print(bb)"
   ]
  },
  {
   "cell_type": "markdown",
   "metadata": {},
   "source": [
    "We can make an array that contains all the values in a range:"
   ]
  },
  {
   "cell_type": "code",
   "execution_count": null,
   "metadata": {},
   "outputs": [],
   "source": [
    "cc = np.arange(5,15,.75)\n",
    "print(cc)"
   ]
  },
  {
   "cell_type": "markdown",
   "metadata": {},
   "source": [
    "Let's look carefully at that function above, `arange`. The name come froms \"**a**rray **range**\"---it's not the English word *arrange*. It is based on the standard `range` function we saw earlier. The three parameters are the (inclusive) start, (exclusive) end, and step size. \n",
    "\n",
    "Another function to make a new array has a subtle but important difference from `arange`. The `linspace` function takes an inclusive beginning and ending value, but, instead of step size, it takes a number of values. The values themselves are uniformly spread through the range."
   ]
  },
  {
   "cell_type": "code",
   "execution_count": null,
   "metadata": {},
   "outputs": [],
   "source": [
    "dd = np.linspace(5, 15, 10)\n",
    "print(dd)\n",
    "ee = np.linspace(5, 15, 25)\n",
    "print(ee)"
   ]
  },
  {
   "cell_type": "markdown",
   "metadata": {},
   "source": [
    "The function's name means \"linear space,\" and it is especially useful in making graphs, since it can make an array to contain the *x* values at which to plot points. You can increase the graph's resolution by increasing the third parameter to the function.\n",
    "\n",
    "An important concept with arrays is their *shape*. For all the arrays we have made so far, the shape is just the size or number of elements."
   ]
  },
  {
   "cell_type": "code",
   "execution_count": null,
   "metadata": {},
   "outputs": [],
   "source": [
    "print(aa.shape)\n",
    "print(bb.shape)\n",
    "print(cc.shape)\n",
    "print(dd.shape)\n",
    "print(ee.shape)"
   ]
  },
  {
   "cell_type": "markdown",
   "metadata": {},
   "source": [
    "The reason why the shape is formatted that way is because these arrays have only one dimension---but we can make arrays of any number of dimensions. Here we make a 4-by-6 array of all zeros:"
   ]
  },
  {
   "cell_type": "code",
   "execution_count": null,
   "metadata": {},
   "outputs": [],
   "source": [
    "mm = np.zeros((4,6))\n",
    "print(mm.shape)\n",
    "print(mm)"
   ]
  },
  {
   "cell_type": "markdown",
   "metadata": {},
   "source": [
    "Arrays also can be reshaped."
   ]
  },
  {
   "cell_type": "code",
   "execution_count": null,
   "metadata": {},
   "outputs": [],
   "source": [
    "ff = np.arange(0,24)\n",
    "print(ff)\n",
    "gg = ff.reshape((2,12))\n",
    "print(gg)\n",
    "hh = ff.reshape((6,4))\n",
    "print(hh)"
   ]
  },
  {
   "cell_type": "markdown",
   "metadata": {},
   "source": [
    "The NumPy library provides a wide range of tools for indexing into an array. First notice that the following give the same result."
   ]
  },
  {
   "cell_type": "code",
   "execution_count": null,
   "metadata": {},
   "outputs": [],
   "source": [
    "print(hh[2][3])\n",
    "print(hh[2,3])"
   ]
  },
  {
   "cell_type": "markdown",
   "metadata": {},
   "source": [
    "The second of these opens the door to various ways to take a slice of a two-dimensional array."
   ]
  },
  {
   "cell_type": "code",
   "execution_count": null,
   "metadata": {},
   "outputs": [],
   "source": [
    "# Grab a row\n",
    "print(hh[1,:])\n",
    "# Grab a column---although it will be formatted like a row\n",
    "print(hh[:,1])\n",
    "# Grab everything but the outer rows and columns\n",
    "print(hh[1:6,1:4])"
   ]
  },
  {
   "cell_type": "markdown",
   "metadata": {},
   "source": [
    "Just as arrays are the natural representation of vectors, two-dimensional arrays are the natural representation of matrices. NumPy arrays support a full range of vector and matrix operations, many of which can be used through the same symbols as plain old arithmetic. To conclude, think through these examples:"
   ]
  },
  {
   "cell_type": "code",
   "execution_count": null,
   "metadata": {},
   "outputs": [],
   "source": [
    "# Make two vectors of the same shape\n",
    "v1 = np.array([1,3,7,9])\n",
    "v2 = np.array([2,12,8,1])\n",
    "\n",
    "# We can add two vectors\n",
    "print(v1 + v2)\n",
    "\n",
    "# The * symbol does component-wise multiplication\n",
    "print(v1 * v2)\n",
    "\n",
    "# The @ symbol does matrix multiplication, but for two\n",
    "# vectors that amount to the dot product\n",
    "print(v1 @ v2)\n",
    "\n",
    "# We can make @ give us the cross product by reshaping\n",
    "# the vectors into single-column or single-row matrices.\n",
    "# The result is a matrix\n",
    "m = v1.reshape((4,1)) @ v2.reshape((1,4))\n",
    "print(m)\n",
    "\n",
    "# Mixing arrays and numbers in arithmetic operations \n",
    "# performs component-wise arithmetic with the given scalar\n",
    "print(v1 + 5)\n",
    "print(1/m)"
   ]
  },
  {
   "cell_type": "markdown",
   "metadata": {},
   "source": [
    "```{index} trouble shooting libraries\n",
    "```\n",
    "\n",
    "```{index} installing libraries\n",
    "```"
   ]
  },
  {
   "cell_type": "markdown",
   "metadata": {},
   "source": [
    "## Trouble shooting libraries\n",
    "\n",
    "As you work through code found in other chapters of this book, you may encounter notebooks that use libraries not installed on your system. Running this code will result in an error like `ModuleNotFound`. Depending on your platform or installation, this problem may turn out to be easy to fix. You can search for the missing Python library on the Web. Most widely-used libraries have accompanying websites that include installation instructions, usually involving the `pip` tool. For example, the seaborn library for statistical data visualization is used by several of this book's chapters, and it can be installed by running the following command in commandline interface (\"Terminal\" on Mac, \"Powershell\" on MS Windows):\n",
    "\n",
    "`pip install seaborn`\n",
    "\n",
    "Of course, all of this is just the beginning of Python and its libraries for math, data science, and related fields. The next chapter follows up by showing Python as a tool for working with data."
   ]
  },
  {
   "cell_type": "code",
   "execution_count": null,
   "metadata": {},
   "outputs": [],
   "source": []
  }
 ],
 "metadata": {
  "kernelspec": {
   "display_name": "Python 3",
   "language": "python",
   "name": "python3"
  },
  "language_info": {
   "codemirror_mode": {
    "name": "ipython",
    "version": 3
   },
   "file_extension": ".py",
   "mimetype": "text/x-python",
   "name": "python",
   "nbconvert_exporter": "python",
   "pygments_lexer": "ipython3",
   "version": "3.6.8"
  }
 },
 "nbformat": 4,
 "nbformat_minor": 4
}
